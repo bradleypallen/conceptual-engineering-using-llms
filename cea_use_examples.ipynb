{
 "cells": [
  {
   "cell_type": "code",
   "execution_count": 1,
   "metadata": {},
   "outputs": [],
   "source": [
    "from conceptual_engineering_assistant import Concept, ConceptualEngineeringAssistant\n",
    "from pandas import DataFrame"
   ]
  },
  {
   "cell_type": "code",
   "execution_count": 2,
   "metadata": {},
   "outputs": [],
   "source": [
    "cea = ConceptualEngineeringAssistant()"
   ]
  },
  {
   "cell_type": "code",
   "execution_count": 5,
   "metadata": {},
   "outputs": [],
   "source": [
    "bird = Concept(\"B\", \"bird\", \"B is an animal that flies and has wings.\")"
   ]
  },
  {
   "cell_type": "code",
   "execution_count": 6,
   "metadata": {},
   "outputs": [
    {
     "data": {
      "text/plain": [
       "{'variable': 'bird',\n",
       " 'term': 'B',\n",
       " 'definition': 'B is an animal that flies and has wings.',\n",
       " 'entity': 'bat',\n",
       " 'in_extension': 'True',\n",
       " 'rationale': 'A bat is an animal that flies and has wings, which fits the given definition of B. Therefore, a bat can be considered a B.'}"
      ]
     },
     "execution_count": 6,
     "metadata": {},
     "output_type": "execute_result"
    }
   ],
   "source": [
    "cea.classify_entity(bird, 'bat')"
   ]
  },
  {
   "cell_type": "code",
   "execution_count": 7,
   "metadata": {},
   "outputs": [
    {
     "data": {
      "text/plain": [
       "{'variable': 'bird',\n",
       " 'term': 'B',\n",
       " 'definition': 'B is an animal that flies and has wings.',\n",
       " 'counterexample': 'Penguin',\n",
       " 'rationale': 'A penguin is considered a bird because it belongs to the biological class Aves, which includes all birds. However, it does not fit the given definition of a bird because it does not fly. Penguins have wings, but they use them for swimming, not flying. Therefore, a penguin is a counterexample to the definition that a bird is an animal that flies and has wings.'}"
      ]
     },
     "execution_count": 7,
     "metadata": {},
     "output_type": "execute_result"
    }
   ],
   "source": [
    "counterexample_response = cea.propose_counterexample(bird)\n",
    "counterexample_response"
   ]
  },
  {
   "cell_type": "code",
   "execution_count": 8,
   "metadata": {},
   "outputs": [
    {
     "data": {
      "text/plain": [
       "{'variable': 'bird',\n",
       " 'term': 'B',\n",
       " 'definition': 'B is an animal that flies and has wings.',\n",
       " 'counterexample': 'Penguin',\n",
       " 'is_valid': 'True',\n",
       " 'rationale': 'Penguins are indeed a valid counterexample to the given definition of a bird. While penguins are classified as birds, they do not fly. This contradicts the definition that a bird is an animal that flies and has wings. Although penguins have wings, they use them for swimming, not flying. Therefore, the definition is not universally applicable and the counterexample is valid.'}"
      ]
     },
     "execution_count": 8,
     "metadata": {},
     "output_type": "execute_result"
    }
   ],
   "source": [
    "cea.validate_counterexample(bird, counterexample_response[\"counterexample\"])"
   ]
  },
  {
   "cell_type": "code",
   "execution_count": 10,
   "metadata": {},
   "outputs": [],
   "source": [
    "revision_response = cea.revise_concept(bird, counterexample_response[\"counterexample\"])\n",
    "revision_response"
   ]
  },
  {
   "cell_type": "code",
   "execution_count": 11,
   "metadata": {},
   "outputs": [],
   "source": [
    "bird = Concept(\"B\", \"bird\", revision_response[\"revision\"])"
   ]
  },
  {
   "cell_type": "code",
   "execution_count": 12,
   "metadata": {},
   "outputs": [
    {
     "data": {
      "text/plain": [
       "{'variable': 'bird',\n",
       " 'term': 'B',\n",
       " 'definition': 'A bird is a(n) B iff B is an animal that has wings and is generally characterized by the ability to fly, although there are exceptions such as penguins and ostriches.',\n",
       " 'counterexample': 'Bat',\n",
       " 'rationale': 'A bat is an animal that has wings and is capable of flight, fitting the given definition of a bird. However, bats are not birds; they are mammals. Therefore, they serve as a counterexample to the definition, demonstrating that it is not fully accurate or comprehensive.'}"
      ]
     },
     "execution_count": 12,
     "metadata": {},
     "output_type": "execute_result"
    }
   ],
   "source": [
    "counterexample_response = cea.propose_counterexample(bird)\n",
    "counterexample_response"
   ]
  },
  {
   "cell_type": "code",
   "execution_count": 14,
   "metadata": {},
   "outputs": [
    {
     "data": {
      "text/plain": [
       "{'variable': 'bird',\n",
       " 'term': 'B',\n",
       " 'definition': 'A bird is a(n) B iff B is an animal that has wings and is generally characterized by the ability to fly, although there are exceptions such as penguins and ostriches.',\n",
       " 'counterexample': 'Bat',\n",
       " 'revision': 'A bird is a(n) B iff A bird is a(n) B iff B is an animal that has feathers, wings, and is generally characterized by the ability to fly, although there are exceptions such as penguins and ostriches. B also belongs to the class Aves in biological taxonomy.',\n",
       " 'rationale': 'The revision accounts for the counterexample because bats, while they do have wings and can fly, do not have feathers and do not belong to the class Aves in biological taxonomy. This revised definition therefore excludes bats and other flying animals that are not birds, while still including flightless birds like penguins and ostriches.'}"
      ]
     },
     "execution_count": 14,
     "metadata": {},
     "output_type": "execute_result"
    }
   ],
   "source": [
    "revision_response = cea.revise_concept(bird, counterexample_response[\"counterexample\"])\n",
    "revision_response"
   ]
  },
  {
   "cell_type": "code",
   "execution_count": 15,
   "metadata": {},
   "outputs": [],
   "source": [
    "bird = Concept(\"B\", \"bird\", revision_response[\"revision\"])"
   ]
  },
  {
   "cell_type": "code",
   "execution_count": 16,
   "metadata": {},
   "outputs": [
    {
     "data": {
      "text/plain": [
       "{'variable': 'bird',\n",
       " 'term': 'B',\n",
       " 'definition': 'A bird is a(n) B iff A bird is a(n) B iff B is an animal that has feathers, wings, and is generally characterized by the ability to fly, although there are exceptions such as penguins and ostriches. B also belongs to the class Aves in biological taxonomy.',\n",
       " 'counterexample': 'Bat',\n",
       " 'rationale': 'A bat is an animal that has wings and is capable of flight, similar to many birds. However, bats do not have feathers and they belong to the order Chiroptera, not Aves in biological taxonomy. Therefore, while they share some characteristics with birds, they do not fit the provided definition of a bird. Despite this, an opponent might argue that bats should be considered birds due to their ability to fly and their general body structure.'}"
      ]
     },
     "execution_count": 16,
     "metadata": {},
     "output_type": "execute_result"
    }
   ],
   "source": [
    "counterexample_response = cea.propose_counterexample(bird)\n",
    "counterexample_response"
   ]
  },
  {
   "cell_type": "code",
   "execution_count": 17,
   "metadata": {},
   "outputs": [],
   "source": [
    "haslanger_woman = \"\"\"(i) S is regularly and for the most part observed or imagined to have \n",
    "certain bodily features presumed to be evidence of a female’s biological role in reproduction; \n",
    "(ii) that S has these features marks S within the dominant ideology of S’s society as someone who \n",
    "ought to occupy certain kinds of social position that are in fact subordinate (and so motivates \n",
    "and justifies S’s occupying such a position); and (iii) the fact that S satisfies (I) and (ii) plays \n",
    "a role in S’s systematic subordination, that is, along some dimension, S’s social position is oppressive, \n",
    "and S’s satisfying (i) and (ii) plays a role in that dimension of subordination\"\"\""
   ]
  },
  {
   "cell_type": "code",
   "execution_count": 18,
   "metadata": {},
   "outputs": [],
   "source": [
    "woman = Concept(\"S\", \"woman\", haslanger_woman)"
   ]
  },
  {
   "cell_type": "code",
   "execution_count": 19,
   "metadata": {},
   "outputs": [
    {
     "data": {
      "text/plain": [
       "{'variable': 'woman',\n",
       " 'term': 'S',\n",
       " 'definition': '(i) S is regularly and for the most part observed or imagined to have \\ncertain bodily features presumed to be evidence of a female’s biological role in reproduction; \\n(ii) that S has these features marks S within the dominant ideology of S’s society as someone who \\nought to occupy certain kinds of social position that are in fact subordinate (and so motivates \\nand justifies S’s occupying such a position); and (iii) the fact that S satisfies (I) and (ii) plays \\na role in S’s systematic subordination, that is, along some dimension, S’s social position is oppressive, \\nand S’s satisfying (i) and (ii) plays a role in that dimension of subordination',\n",
       " 'entity': 'Rosa Parks',\n",
       " 'in_extension': 'True',\n",
       " 'rationale': 'Rosa Parks was a woman, and as such, she fits the definition of S provided. She was observed to have the bodily features associated with the female biological role in reproduction (i), and lived in a society where these features marked her as someone who should occupy certain social positions that were subordinate (ii). Furthermore, her status as a woman played a role in her systematic subordination, as she faced oppression due to her gender (iii).'}"
      ]
     },
     "execution_count": 19,
     "metadata": {},
     "output_type": "execute_result"
    }
   ],
   "source": [
    "cea.classify_entity(woman, \"Rosa Parks\")"
   ]
  },
  {
   "cell_type": "code",
   "execution_count": 20,
   "metadata": {},
   "outputs": [
    {
     "data": {
      "text/plain": [
       "{'variable': 'woman',\n",
       " 'term': 'S',\n",
       " 'definition': '(i) S is regularly and for the most part observed or imagined to have \\ncertain bodily features presumed to be evidence of a female’s biological role in reproduction; \\n(ii) that S has these features marks S within the dominant ideology of S’s society as someone who \\nought to occupy certain kinds of social position that are in fact subordinate (and so motivates \\nand justifies S’s occupying such a position); and (iii) the fact that S satisfies (I) and (ii) plays \\na role in S’s systematic subordination, that is, along some dimension, S’s social position is oppressive, \\nand S’s satisfying (i) and (ii) plays a role in that dimension of subordination',\n",
       " 'counterexample': 'The name of the counterexample could vary depending on the specific argument of the opponent. However, a possible name could be \"Transgender Woman\".',\n",
       " 'rationale': \"A transgender woman may not fit the definition provided because she may not have the biological features typically associated with a female's role in reproduction (i.e., she may not have been born with a uterus or ovaries). However, she identifies and lives as a woman, and is recognized as such by her society. Therefore, she could be considered a woman despite not meeting all the criteria outlined in the definition. This counterexample challenges the assumption that biological features are a necessary condition for being a woman. It also highlights the importance of gender identity and social recognition in defining what it means to be a woman.\"}"
      ]
     },
     "execution_count": 20,
     "metadata": {},
     "output_type": "execute_result"
    }
   ],
   "source": [
    "counterexample_response = cea.propose_counterexample(woman)\n",
    "counterexample_response"
   ]
  },
  {
   "cell_type": "code",
   "execution_count": 21,
   "metadata": {},
   "outputs": [
    {
     "data": {
      "text/plain": [
       "{'variable': 'woman',\n",
       " 'term': 'S',\n",
       " 'definition': '(i) S is regularly and for the most part observed or imagined to have \\ncertain bodily features presumed to be evidence of a female’s biological role in reproduction; \\n(ii) that S has these features marks S within the dominant ideology of S’s society as someone who \\nought to occupy certain kinds of social position that are in fact subordinate (and so motivates \\nand justifies S’s occupying such a position); and (iii) the fact that S satisfies (I) and (ii) plays \\na role in S’s systematic subordination, that is, along some dimension, S’s social position is oppressive, \\nand S’s satisfying (i) and (ii) plays a role in that dimension of subordination',\n",
       " 'counterexample': 'The name of the counterexample could vary depending on the specific argument of the opponent. However, a possible name could be \"Transgender Woman\".',\n",
       " 'is_valid': 'False',\n",
       " 'rationale': 'A transgender woman may not have the biological features typically associated with female reproduction, which could seem to challenge point (i) of the definition. However, many transgender women do undergo hormone therapy or surgeries to acquire these features, and even those who do not are often perceived and treated as women in their societies. Therefore, they still satisfy point (ii) of the definition. Furthermore, transgender women often face systematic subordination and oppression due to their gender identity, which satisfies point (iii) of the definition. Therefore, \"Transgender Woman\" is not a valid counterexample to this definition of a woman.'}"
      ]
     },
     "execution_count": 21,
     "metadata": {},
     "output_type": "execute_result"
    }
   ],
   "source": [
    "cea.validate_counterexample(woman, counterexample_response[\"counterexample\"])"
   ]
  },
  {
   "cell_type": "code",
   "execution_count": 22,
   "metadata": {},
   "outputs": [],
   "source": [
    "collection = [\n",
    "    \"Rosa Parks\",\n",
    "    \"Hillary Clinton\",\n",
    "    \"Pamela Anderson\",\n",
    "    \"Lebron James\",\n",
    "    \"Sally Haslanger\",\n",
    "    \"Nancy Pelosi\",\n",
    "    \"Catwoman\",\n",
    "    \"Taylor Swift\",\n",
    "    \"Julia Roberts\",\n",
    "    \"James Earl Carter\",\n",
    "    \"Peter Bogdanovich\",\n",
    "    \"Elinor Ostrom\",\n",
    "    \"Catherine of Aragon\",\n",
    "    \"Catherine the Great\",\n",
    "    \"Joyce Carol Oates\",\n",
    "    \"Sally Hemings\",\n",
    "    \"Caitlyn Jenner\",\n",
    "    \"Kamala Harris\",\n",
    "]"
   ]
  },
  {
   "cell_type": "code",
   "execution_count": 23,
   "metadata": {},
   "outputs": [
    {
     "data": {
      "text/html": [
       "<style type=\"text/css\">\n",
       "#T_68af1_row0_col0, #T_68af1_row0_col1, #T_68af1_row0_col2, #T_68af1_row1_col0, #T_68af1_row1_col1, #T_68af1_row1_col2, #T_68af1_row2_col0, #T_68af1_row2_col1, #T_68af1_row2_col2, #T_68af1_row3_col0, #T_68af1_row3_col1, #T_68af1_row3_col2, #T_68af1_row4_col0, #T_68af1_row4_col1, #T_68af1_row4_col2, #T_68af1_row5_col0, #T_68af1_row5_col1, #T_68af1_row5_col2, #T_68af1_row6_col0, #T_68af1_row6_col1, #T_68af1_row6_col2, #T_68af1_row7_col0, #T_68af1_row7_col1, #T_68af1_row7_col2, #T_68af1_row8_col0, #T_68af1_row8_col1, #T_68af1_row8_col2, #T_68af1_row9_col0, #T_68af1_row9_col1, #T_68af1_row9_col2, #T_68af1_row10_col0, #T_68af1_row10_col1, #T_68af1_row10_col2, #T_68af1_row11_col0, #T_68af1_row11_col1, #T_68af1_row11_col2, #T_68af1_row12_col0, #T_68af1_row12_col1, #T_68af1_row12_col2, #T_68af1_row13_col0, #T_68af1_row13_col1, #T_68af1_row13_col2, #T_68af1_row14_col0, #T_68af1_row14_col1, #T_68af1_row14_col2, #T_68af1_row15_col0, #T_68af1_row15_col1, #T_68af1_row15_col2, #T_68af1_row16_col0, #T_68af1_row16_col1, #T_68af1_row16_col2, #T_68af1_row17_col0, #T_68af1_row17_col1, #T_68af1_row17_col2 {\n",
       "  text-align: left;\n",
       "  overflow-wrap: break-word;\n",
       "}\n",
       "</style>\n",
       "<table id=\"T_68af1\">\n",
       "  <thead>\n",
       "    <tr>\n",
       "      <th class=\"blank level0\" >&nbsp;</th>\n",
       "      <th id=\"T_68af1_level0_col0\" class=\"col_heading level0 col0\" >entity</th>\n",
       "      <th id=\"T_68af1_level0_col1\" class=\"col_heading level0 col1\" >in_extension</th>\n",
       "      <th id=\"T_68af1_level0_col2\" class=\"col_heading level0 col2\" >rationale</th>\n",
       "    </tr>\n",
       "  </thead>\n",
       "  <tbody>\n",
       "    <tr>\n",
       "      <th id=\"T_68af1_level0_row0\" class=\"row_heading level0 row0\" >0</th>\n",
       "      <td id=\"T_68af1_row0_col0\" class=\"data row0 col0\" >Rosa Parks</td>\n",
       "      <td id=\"T_68af1_row0_col1\" class=\"data row0 col1\" >True</td>\n",
       "      <td id=\"T_68af1_row0_col2\" class=\"data row0 col2\" >Rosa Parks is a woman. According to the given definition, a woman (S) is someone who is biologically female, is expected to occupy certain subordinate social positions, and whose subordination is justified by their biological features. Rosa Parks, being biologically female, was expected to occupy certain social positions that were considered subordinate in her society. Her resistance to these expectations was a significant part of her role in the Civil Rights Movement. Therefore, she fits the definition of a woman (S) as given.</td>\n",
       "    </tr>\n",
       "    <tr>\n",
       "      <th id=\"T_68af1_level0_row1\" class=\"row_heading level0 row1\" >1</th>\n",
       "      <td id=\"T_68af1_row1_col0\" class=\"data row1 col0\" >Hillary Clinton</td>\n",
       "      <td id=\"T_68af1_row1_col1\" class=\"data row1 col1\" >True</td>\n",
       "      <td id=\"T_68af1_row1_col2\" class=\"data row1 col2\" >Hillary Clinton is a woman. She is observed to have the bodily features associated with the female biological role in reproduction. In her society, these features mark her as someone who ought to occupy certain kinds of social positions that are traditionally seen as subordinate, although she has often occupied positions of power and influence. Despite this, she has faced systematic subordination and oppression due to her gender, such as sexism and gender bias, which is indicative of the role her gender plays in her social position. Therefore, according to the given definition, Hillary Clinton is a(n) S.</td>\n",
       "    </tr>\n",
       "    <tr>\n",
       "      <th id=\"T_68af1_level0_row2\" class=\"row_heading level0 row2\" >2</th>\n",
       "      <td id=\"T_68af1_row2_col0\" class=\"data row2 col0\" >Pamela Anderson</td>\n",
       "      <td id=\"T_68af1_row2_col1\" class=\"data row2 col1\" >True</td>\n",
       "      <td id=\"T_68af1_row2_col2\" class=\"data row2 col2\" >Pamela Anderson is a woman who is observed to have certain bodily features associated with the female biological role in reproduction. She is also part of a society where these features mark her as someone who should occupy certain social positions, which can be seen as subordinate. Furthermore, these factors contribute to her systematic subordination in some aspects of her social position. Therefore, according to the given definition, Pamela Anderson is a(n) S.</td>\n",
       "    </tr>\n",
       "    <tr>\n",
       "      <th id=\"T_68af1_level0_row3\" class=\"row_heading level0 row3\" >3</th>\n",
       "      <td id=\"T_68af1_row3_col0\" class=\"data row3 col0\" >Lebron James</td>\n",
       "      <td id=\"T_68af1_row3_col1\" class=\"data row3 col1\" >False</td>\n",
       "      <td id=\"T_68af1_row3_col2\" class=\"data row3 col2\" >Lebron James does not fit the definition of S as outlined above. Firstly, he does not have the bodily features presumed to be evidence of a female’s biological role in reproduction. Secondly, he does not occupy a social position that is subordinate within the dominant ideology of his society. Lastly, his social position is not oppressive, nor does he satisfy conditions (i) and (ii) which would play a role in any dimension of subordination. Therefore, Lebron James is not a(n) S.</td>\n",
       "    </tr>\n",
       "    <tr>\n",
       "      <th id=\"T_68af1_level0_row4\" class=\"row_heading level0 row4\" >4</th>\n",
       "      <td id=\"T_68af1_row4_col0\" class=\"data row4 col0\" >Sally Haslanger</td>\n",
       "      <td id=\"T_68af1_row4_col1\" class=\"data row4 col1\" >Unknown</td>\n",
       "      <td id=\"T_68af1_row4_col2\" class=\"data row4 col2\" >The definition provided is a complex one that requires specific knowledge about Sally Haslanger's personal life, societal position, and experiences of subordination or oppression. Without this information, it is impossible to definitively say whether or not she fits this definition. Therefore, the answer is 'Unknown'.</td>\n",
       "    </tr>\n",
       "    <tr>\n",
       "      <th id=\"T_68af1_level0_row5\" class=\"row_heading level0 row5\" >5</th>\n",
       "      <td id=\"T_68af1_row5_col0\" class=\"data row5 col0\" >Nancy Pelosi</td>\n",
       "      <td id=\"T_68af1_row5_col1\" class=\"data row5 col1\" >True</td>\n",
       "      <td id=\"T_68af1_row5_col2\" class=\"data row5 col2\" >Nancy Pelosi is a woman. She is observed to have the bodily features associated with the female biological role in reproduction. As a woman, she is marked within the dominant ideology of her society as someone who ought to occupy certain kinds of social positions. While it is arguable whether her position as Speaker of the House is subordinate, women in general are often placed in subordinate positions in society. Furthermore, her identity as a woman plays a role in her systematic subordination, as women in politics often face additional challenges and discrimination due to their gender. Therefore, according to the given definition, Nancy Pelosi is a(n) S.</td>\n",
       "    </tr>\n",
       "    <tr>\n",
       "      <th id=\"T_68af1_level0_row6\" class=\"row_heading level0 row6\" >6</th>\n",
       "      <td id=\"T_68af1_row6_col0\" class=\"data row6 col0\" >Catwoman</td>\n",
       "      <td id=\"T_68af1_row6_col1\" class=\"data row6 col1\" >Unknown</td>\n",
       "      <td id=\"T_68af1_row6_col2\" class=\"data row6 col2\" >The definition provided is complex and involves several factors that need to be considered. Catwoman, as a fictional character, does not have a real biological role in reproduction, which makes point (i) difficult to assess. Furthermore, while she is often portrayed as having certain bodily features associated with femininity, her social position within her fictional society varies greatly depending on the interpretation of the character. In some versions, she is a criminal and outcast, while in others she is a hero or anti-hero. This makes it hard to determine whether she occupies a subordinate social position as described in point (ii). Finally, point (iii) involves the systematic subordination and oppression of S, which again is difficult to assess given the varying interpretations of Catwoman's character and role. Therefore, it is unknown whether Catwoman fits the definition of S.</td>\n",
       "    </tr>\n",
       "    <tr>\n",
       "      <th id=\"T_68af1_level0_row7\" class=\"row_heading level0 row7\" >7</th>\n",
       "      <td id=\"T_68af1_row7_col0\" class=\"data row7 col0\" >Taylor Swift</td>\n",
       "      <td id=\"T_68af1_row7_col1\" class=\"data row7 col1\" >True</td>\n",
       "      <td id=\"T_68af1_row7_col2\" class=\"data row7 col2\" >Taylor Swift is a woman. She is observed to have the bodily features associated with the female biological role in reproduction. In the dominant ideology of her society, these features mark her as someone who should occupy certain kinds of social positions, although it is debatable whether these positions are subordinate. Furthermore, her gender plays a role in her social position, which can be seen as oppressive in certain aspects, such as the expectations and pressures placed on her due to her gender. Therefore, according to the given definition, Taylor Swift is a(n) S.</td>\n",
       "    </tr>\n",
       "    <tr>\n",
       "      <th id=\"T_68af1_level0_row8\" class=\"row_heading level0 row8\" >8</th>\n",
       "      <td id=\"T_68af1_row8_col0\" class=\"data row8 col0\" >Julia Roberts</td>\n",
       "      <td id=\"T_68af1_row8_col1\" class=\"data row8 col1\" >True</td>\n",
       "      <td id=\"T_68af1_row8_col2\" class=\"data row8 col2\" >Julia Roberts is a woman. She is observed to have the bodily features associated with the female biological role in reproduction. In the dominant ideology of her society, these features mark her as someone who should occupy certain kinds of social positions, which can be seen as subordinate. Furthermore, these factors contribute to her systematic subordination in some dimensions of her social position. Therefore, according to the given definition, Julia Roberts is a(n) S.</td>\n",
       "    </tr>\n",
       "    <tr>\n",
       "      <th id=\"T_68af1_level0_row9\" class=\"row_heading level0 row9\" >9</th>\n",
       "      <td id=\"T_68af1_row9_col0\" class=\"data row9 col0\" >James Earl Carter</td>\n",
       "      <td id=\"T_68af1_row9_col1\" class=\"data row9 col1\" >False</td>\n",
       "      <td id=\"T_68af1_row9_col2\" class=\"data row9 col2\" >James Earl Carter, also known as Jimmy Carter, the 39th President of the United States, is not a woman. He does not meet the criteria outlined in the definition. He is not observed or imagined to have the bodily features associated with a female's biological role in reproduction. Furthermore, he does not occupy a social position that is subordinate due to these features. Therefore, he does not satisfy conditions (i) and (ii) of the definition.</td>\n",
       "    </tr>\n",
       "    <tr>\n",
       "      <th id=\"T_68af1_level0_row10\" class=\"row_heading level0 row10\" >10</th>\n",
       "      <td id=\"T_68af1_row10_col0\" class=\"data row10 col0\" >Peter Bogdanovich</td>\n",
       "      <td id=\"T_68af1_row10_col1\" class=\"data row10 col1\" >False</td>\n",
       "      <td id=\"T_68af1_row10_col2\" class=\"data row10 col2\" >Peter Bogdanovich is a well-known American director, writer, actor, producer, critic, and film historian. He is not observed or imagined to have the bodily features presumed to be evidence of a female’s biological role in reproduction. Therefore, he does not satisfy condition (i) of the definition. Furthermore, there is no evidence to suggest that he is marked within the dominant ideology of his society as someone who ought to occupy certain kinds of social position that are in fact subordinate, so he does not satisfy condition (ii). Finally, there is no evidence to suggest that he is systematically subordinated or oppressed, so he does not satisfy condition (iii). Therefore, according to the given definition, Peter Bogdanovich is not a(n) S.</td>\n",
       "    </tr>\n",
       "    <tr>\n",
       "      <th id=\"T_68af1_level0_row11\" class=\"row_heading level0 row11\" >11</th>\n",
       "      <td id=\"T_68af1_row11_col0\" class=\"data row11 col0\" >Elinor Ostrom</td>\n",
       "      <td id=\"T_68af1_row11_col1\" class=\"data row11 col1\" >Unknown</td>\n",
       "      <td id=\"T_68af1_row11_col2\" class=\"data row11 col2\" >The definition provided is a sociological and ideological definition of a woman, focusing on societal roles and expectations. However, the question asks about Elinor Ostrom, who is a specific individual. The definition does not provide any specific criteria to determine whether a specific individual is a woman. It only provides a general framework for understanding the concept of womanhood in a societal context. Therefore, without additional information about Elinor Ostrom's personal identity and societal roles, it is impossible to definitively say whether she fits this definition. Hence, the answer is 'Unknown'.</td>\n",
       "    </tr>\n",
       "    <tr>\n",
       "      <th id=\"T_68af1_level0_row12\" class=\"row_heading level0 row12\" >12</th>\n",
       "      <td id=\"T_68af1_row12_col0\" class=\"data row12 col0\" >Catherine of Aragon</td>\n",
       "      <td id=\"T_68af1_row12_col1\" class=\"data row12 col1\" >True</td>\n",
       "      <td id=\"T_68af1_row12_col2\" class=\"data row12 col2\" >Catherine of Aragon was a woman, and thus fits the definition of S provided. She was observed to have the bodily features associated with a female's biological role in reproduction. As a queen, she occupied a social position that, while powerful, was still subordinate to that of her husband, King Henry VIII. Her role as queen and wife also played a part in her systematic subordination, as evidenced by Henry's efforts to annul their marriage in order to have a male heir. Therefore, it is true that Catherine of Aragon is an S according to the provided definition.</td>\n",
       "    </tr>\n",
       "    <tr>\n",
       "      <th id=\"T_68af1_level0_row13\" class=\"row_heading level0 row13\" >13</th>\n",
       "      <td id=\"T_68af1_row13_col0\" class=\"data row13 col0\" >Catherine the Great</td>\n",
       "      <td id=\"T_68af1_row13_col1\" class=\"data row13 col1\" >Unknown</td>\n",
       "      <td id=\"T_68af1_row13_col2\" class=\"data row13 col2\" >The definition provided is complex and requires specific knowledge about Catherine the Great's life and societal context to accurately determine if she fits the definition of S. While Catherine the Great was biologically female and thus satisfies condition (i), it is unclear whether she was seen in her society as someone who ought to occupy a subordinate social position (ii), or whether her gender played a role in any systematic subordination she may have experienced (iii). As an Empress of Russia, she held a position of significant power and influence, which complicates the application of conditions (ii) and (iii). Without more specific information about her societal context and personal experiences, it is impossible to definitively say whether or not she fits the definition of S.</td>\n",
       "    </tr>\n",
       "    <tr>\n",
       "      <th id=\"T_68af1_level0_row14\" class=\"row_heading level0 row14\" >14</th>\n",
       "      <td id=\"T_68af1_row14_col0\" class=\"data row14 col0\" >Joyce Carol Oates</td>\n",
       "      <td id=\"T_68af1_row14_col1\" class=\"data row14 col1\" >True</td>\n",
       "      <td id=\"T_68af1_row14_col2\" class=\"data row14 col2\" >Joyce Carol Oates is a woman. She is observed to have the bodily features associated with the female biological role in reproduction. In the society she lives in, these features mark her as someone who ought to occupy certain kinds of social positions that are often considered subordinate. Furthermore, her satisfying these conditions plays a role in her systematic subordination. Therefore, according to the given definition, Joyce Carol Oates is a(n) S.</td>\n",
       "    </tr>\n",
       "    <tr>\n",
       "      <th id=\"T_68af1_level0_row15\" class=\"row_heading level0 row15\" >15</th>\n",
       "      <td id=\"T_68af1_row15_col0\" class=\"data row15 col0\" >Sally Hemings</td>\n",
       "      <td id=\"T_68af1_row15_col1\" class=\"data row15 col1\" >True</td>\n",
       "      <td id=\"T_68af1_row15_col2\" class=\"data row15 col2\" >Sally Hemings was a woman who lived in the late 18th and early 19th centuries. She was observed and imagined to have certain bodily features presumed to be evidence of a female’s biological role in reproduction, which satisfies condition (i). As a woman, and more specifically as an enslaved woman of African descent in the United States, she was marked within the dominant ideology of her society as someone who ought to occupy certain kinds of social position that were in fact subordinate, which satisfies condition (ii). The fact that she satisfied conditions (i) and (ii) played a role in her systematic subordination, as her social position was oppressive, which satisfies condition (iii). Therefore, according to the given definition, Sally Hemings is a(n) S.</td>\n",
       "    </tr>\n",
       "    <tr>\n",
       "      <th id=\"T_68af1_level0_row16\" class=\"row_heading level0 row16\" >16</th>\n",
       "      <td id=\"T_68af1_row16_col0\" class=\"data row16 col0\" >Caitlyn Jenner</td>\n",
       "      <td id=\"T_68af1_row16_col1\" class=\"data row16 col1\" >True</td>\n",
       "      <td id=\"T_68af1_row16_col2\" class=\"data row16 col2\" >Caitlyn Jenner is considered a woman, or S, based on the given definition. Although she may not have the biological role in reproduction typically associated with females, she is observed and imagined to have the bodily features of a woman due to her transition. Furthermore, she is marked within the dominant ideology of her society as someone who ought to occupy certain kinds of social position that are in fact subordinate, fulfilling the second condition. Lastly, her identity as a transgender woman plays a role in her systematic subordination, satisfying the third condition. Therefore, according to this definition, Caitlyn Jenner is a woman.</td>\n",
       "    </tr>\n",
       "    <tr>\n",
       "      <th id=\"T_68af1_level0_row17\" class=\"row_heading level0 row17\" >17</th>\n",
       "      <td id=\"T_68af1_row17_col0\" class=\"data row17 col0\" >Kamala Harris</td>\n",
       "      <td id=\"T_68af1_row17_col1\" class=\"data row17 col1\" >True</td>\n",
       "      <td id=\"T_68af1_row17_col2\" class=\"data row17 col2\" >Kamala Harris is a woman. She is observed to have the bodily features associated with the female biological role in reproduction. In her society, these features mark her as someone who should occupy certain social positions, although it is important to note that these positions are not necessarily subordinate as the definition suggests, especially considering her current position as Vice President of the United States. However, the fact that she is a woman has likely played a role in some dimensions of her life where she may have faced systematic subordination or oppression due to her gender. Therefore, according to this definition, Kamala Harris is a(n) S.</td>\n",
       "    </tr>\n",
       "  </tbody>\n",
       "</table>\n"
      ],
      "text/plain": [
       "<pandas.io.formats.style.Styler at 0x11f322010>"
      ]
     },
     "execution_count": 23,
     "metadata": {},
     "output_type": "execute_result"
    }
   ],
   "source": [
    "df = DataFrame( \n",
    "    [ cea.classify_entity(woman, entity) for entity in collection ], \n",
    "    columns = [ 'entity' , 'in_extension', 'rationale' ] \n",
    "    )\n",
    "df.style.set_properties(**{\"text-align\": \"left\", \"overflow-wrap\": \"break-word\"})"
   ]
  }
 ],
 "metadata": {
  "kernelspec": {
   "display_name": "conceptual-engineering-using-llms",
   "language": "python",
   "name": "python3"
  },
  "language_info": {
   "codemirror_mode": {
    "name": "ipython",
    "version": 3
   },
   "file_extension": ".py",
   "mimetype": "text/x-python",
   "name": "python",
   "nbconvert_exporter": "python",
   "pygments_lexer": "ipython3",
   "version": "3.11.4"
  },
  "orig_nbformat": 4
 },
 "nbformat": 4,
 "nbformat_minor": 2
}
