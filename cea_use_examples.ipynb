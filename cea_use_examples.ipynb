{
 "cells": [
  {
   "cell_type": "code",
   "execution_count": 1,
   "metadata": {},
   "outputs": [],
   "source": [
    "from conceptual_engineering_assistant import Concept, ConceptualEngineeringAssistant\n",
    "from pandas import DataFrame"
   ]
  },
  {
   "cell_type": "code",
   "execution_count": 2,
   "metadata": {},
   "outputs": [],
   "source": [
    "haslanger_woman = \"\"\"(i) S is regularly and for the most part observed or imagined to have \n",
    "certain bodily features presumed to be evidence of a female’s biological role in reproduction; \n",
    "(ii) that S has these features marks S within the dominant ideology of S’s society as someone who \n",
    "ought to occupy certain kinds of social position that are in fact subordinate (and so motivates \n",
    "and justifies S’s occupying such a position); and (iii) the fact that S satisfies (I) and (ii) plays \n",
    "a role in S’s systematic subordination, that is, along some dimension, S’s social position is oppressive, \n",
    "and S’s satisfying (i) and (ii) plays a role in that dimension of subordination\"\"\""
   ]
  },
  {
   "cell_type": "code",
   "execution_count": 3,
   "metadata": {},
   "outputs": [],
   "source": [
    "woman = Concept(\"S\", \"woman\", haslanger_woman)"
   ]
  },
  {
   "cell_type": "code",
   "execution_count": 4,
   "metadata": {},
   "outputs": [],
   "source": [
    "cea = ConceptualEngineeringAssistant()"
   ]
  },
  {
   "cell_type": "code",
   "execution_count": 5,
   "metadata": {},
   "outputs": [
    {
     "data": {
      "text/plain": [
       "{'variable': 'woman',\n",
       " 'term': 'S',\n",
       " 'definition': '(i) S is regularly and for the most part observed or imagined to have \\ncertain bodily features presumed to be evidence of a female’s biological role in reproduction; \\n(ii) that S has these features marks S within the dominant ideology of S’s society as someone who \\nought to occupy certain kinds of social position that are in fact subordinate (and so motivates \\nand justifies S’s occupying such a position); and (iii) the fact that S satisfies (I) and (ii) plays \\na role in S’s systematic subordination, that is, along some dimension, S’s social position is oppressive, \\nand S’s satisfying (i) and (ii) plays a role in that dimension of subordination',\n",
       " 'entity': 'Rosa Parks',\n",
       " 'in_extension': 'True',\n",
       " 'rationale': 'Rosa Parks is considered a woman, and thus fits the definition of S. She was observed to have the bodily features associated with the female biological role in reproduction. In the society she lived in, these features marked her as someone who should occupy certain social positions that were subordinate, as was the case for women in the mid-20th century United States. This societal expectation and her biological features played a role in her systematic subordination, making her social position oppressive. Therefore, Rosa Parks fits the definition of S.'}"
      ]
     },
     "execution_count": 5,
     "metadata": {},
     "output_type": "execute_result"
    }
   ],
   "source": [
    "cea.classify_entity(woman, \"Rosa Parks\")"
   ]
  },
  {
   "cell_type": "code",
   "execution_count": null,
   "metadata": {},
   "outputs": [],
   "source": [
    "bird_definition = \"\"\"B is an animal of the vertebrate class Aves, the members of which are warmblooded and \n",
    "oviparous and are distinguished by feathers, a toothless beaked jaw, and \n",
    "modification of the forelimbs as wings.\"\"\""
   ]
  },
  {
   "cell_type": "code",
   "execution_count": null,
   "metadata": {},
   "outputs": [],
   "source": [
    "bird = Concept(\"B\", \"bird\", bird_definition)"
   ]
  },
  {
   "cell_type": "code",
   "execution_count": null,
   "metadata": {},
   "outputs": [],
   "source": [
    "cea.classify_entity(bird, 'bat')"
   ]
  },
  {
   "cell_type": "code",
   "execution_count": null,
   "metadata": {},
   "outputs": [],
   "source": [
    "cea.classify_entity(bird, 'penguin')"
   ]
  },
  {
   "cell_type": "code",
   "execution_count": null,
   "metadata": {},
   "outputs": [],
   "source": [
    "cea.classify_entity(woman, 'Becky Allen')"
   ]
  },
  {
   "cell_type": "code",
   "execution_count": null,
   "metadata": {},
   "outputs": [],
   "source": [
    "collection = [\n",
    "    \"Rosa Parks\",\n",
    "    \"Hillary Clinton\",\n",
    "    \"Pamela Anderson\",\n",
    "    \"Lebron James\",\n",
    "    \"Sally Haslanger\",\n",
    "    \"Nancy Pelosi\",\n",
    "    \"Catwoman\",\n",
    "    \"Taylor Swift\",\n",
    "    \"Julia Roberts\",\n",
    "    \"James Earl Carter\",\n",
    "    \"Peter Bogdanovich\",\n",
    "    \"Elinor Ostrom\",\n",
    "    \"Catherine of Aragon\",\n",
    "    \"Catherine the Great\",\n",
    "    \"Joyce Carol Oates\",\n",
    "    \"Sally Hemings\",\n",
    "    \"Caitlyn Jenner\",\n",
    "    \"Kamala Harris\",\n",
    "]"
   ]
  },
  {
   "cell_type": "code",
   "execution_count": null,
   "metadata": {},
   "outputs": [],
   "source": [
    "df = DataFrame( \n",
    "    [ cea.classify_entity(woman, entity) for entity in collection ], \n",
    "    columns = [ 'entity' , 'in_extension', 'rationale' ] \n",
    "    )\n",
    "df.style.set_properties(**{\"text-align\": \"left\", \"overflow-wrap\": \"break-word\"})"
   ]
  },
  {
   "cell_type": "code",
   "execution_count": null,
   "metadata": {},
   "outputs": [],
   "source": []
  }
 ],
 "metadata": {
  "kernelspec": {
   "display_name": "conceptual-engineering-using-llms",
   "language": "python",
   "name": "python3"
  },
  "language_info": {
   "codemirror_mode": {
    "name": "ipython",
    "version": 3
   },
   "file_extension": ".py",
   "mimetype": "text/x-python",
   "name": "python",
   "nbconvert_exporter": "python",
   "pygments_lexer": "ipython3",
   "version": "3.11.4"
  },
  "orig_nbformat": 4
 },
 "nbformat": 4,
 "nbformat_minor": 2
}
