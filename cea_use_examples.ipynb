{
 "cells": [
  {
   "cell_type": "code",
   "execution_count": 1,
   "metadata": {},
   "outputs": [],
   "source": [
    "from conceptual_engineering_assistant import Concept, ConceptualEngineeringAssistant\n",
    "from pandas import DataFrame"
   ]
  },
  {
   "cell_type": "code",
   "execution_count": 2,
   "metadata": {},
   "outputs": [],
   "source": [
    "cea = ConceptualEngineeringAssistant()"
   ]
  },
  {
   "cell_type": "code",
   "execution_count": 3,
   "metadata": {},
   "outputs": [],
   "source": [
    "bird = Concept(\"B\", \"bird\", \"B is an animal that flies and has wings.\")"
   ]
  },
  {
   "cell_type": "code",
   "execution_count": 4,
   "metadata": {},
   "outputs": [
    {
     "data": {
      "text/plain": [
       "{'variable': 'bird',\n",
       " 'term': 'B',\n",
       " 'definition': 'B is an animal that flies and has wings.',\n",
       " 'entity': 'bat',\n",
       " 'in_extension': 'True',\n",
       " 'rationale': \"A bat is an animal that flies and has wings, which fits the given definition of B. However, it's important to note that while a bat fits the definition of B, it is not a bird.\"}"
      ]
     },
     "execution_count": 4,
     "metadata": {},
     "output_type": "execute_result"
    }
   ],
   "source": [
    "cea.classify_entity(bird, 'bat')"
   ]
  },
  {
   "cell_type": "code",
   "execution_count": 5,
   "metadata": {},
   "outputs": [
    {
     "data": {
      "text/plain": [
       "{'variable': 'bird',\n",
       " 'term': 'B',\n",
       " 'definition': 'B is an animal that flies and has wings.',\n",
       " 'counterexample': 'Penguin',\n",
       " 'rationale': 'A penguin is considered a bird because it has wings and is part of the animal kingdom. However, it does not fit the given definition of a bird because it does not fly. Therefore, it serves as a counterexample to the definition.'}"
      ]
     },
     "execution_count": 5,
     "metadata": {},
     "output_type": "execute_result"
    }
   ],
   "source": [
    "counterexample_response = cea.propose_counterexample(bird)\n",
    "counterexample_response"
   ]
  },
  {
   "cell_type": "code",
   "execution_count": 6,
   "metadata": {},
   "outputs": [
    {
     "data": {
      "text/plain": [
       "{'variable': 'bird',\n",
       " 'term': 'B',\n",
       " 'definition': 'B is an animal that flies and has wings.',\n",
       " 'counterexample': 'Penguin',\n",
       " 'is_valid': 'True',\n",
       " 'rationale': 'Penguins are indeed a valid counterexample to the given definition of a bird. While penguins are classified as birds and have wings, they do not fly. Instead, they use their wings for swimming. Therefore, they do not fit the definition of a bird as an animal that flies and has wings.'}"
      ]
     },
     "execution_count": 6,
     "metadata": {},
     "output_type": "execute_result"
    }
   ],
   "source": [
    "cea.validate_counterexample(bird, counterexample_response[\"counterexample\"])"
   ]
  },
  {
   "cell_type": "code",
   "execution_count": 7,
   "metadata": {},
   "outputs": [
    {
     "data": {
      "text/plain": [
       "{'variable': 'bird',\n",
       " 'term': 'B',\n",
       " 'definition': 'B is an animal that flies and has wings.',\n",
       " 'counterexample': 'Penguin',\n",
       " 'revision': 'A bird is a(n) B iff B is an animal that has wings and is part of the avian class, regardless of its ability to fly.',\n",
       " 'rationale': 'The revised definition accounts for the counterexample because it removes the requirement for the animal to be able to fly. Penguins are a type of bird that cannot fly, but they do have wings and are part of the avian class. Therefore, by changing the definition to include all animals with wings that are part of the avian class, we can accurately classify penguins as birds.'}"
      ]
     },
     "execution_count": 7,
     "metadata": {},
     "output_type": "execute_result"
    }
   ],
   "source": [
    "revision_response = cea.revise_concept(bird, counterexample_response[\"counterexample\"])\n",
    "revision_response"
   ]
  },
  {
   "cell_type": "code",
   "execution_count": 8,
   "metadata": {},
   "outputs": [],
   "source": [
    "bird = Concept(\"B\", \"bird\", revision_response[\"revision\"])"
   ]
  },
  {
   "cell_type": "code",
   "execution_count": 9,
   "metadata": {},
   "outputs": [
    {
     "data": {
      "text/plain": [
       "{'variable': 'bird',\n",
       " 'term': 'B',\n",
       " 'definition': 'A bird is a(n) B iff B is an animal that has wings and is part of the avian class, regardless of its ability to fly.',\n",
       " 'counterexample': 'Penguin',\n",
       " 'rationale': 'A penguin is a bird that cannot fly. However, it still fits the definition because it is an animal with wings and belongs to the avian class. The opponent might argue that because a penguin cannot fly, it should not be considered a bird. However, the definition does not require the ability to fly, only the presence of wings and membership in the avian class. Therefore, a penguin is still a bird according to this definition.'}"
      ]
     },
     "execution_count": 9,
     "metadata": {},
     "output_type": "execute_result"
    }
   ],
   "source": [
    "counterexample_response = cea.propose_counterexample(bird)\n",
    "counterexample_response"
   ]
  },
  {
   "cell_type": "code",
   "execution_count": 10,
   "metadata": {},
   "outputs": [
    {
     "data": {
      "text/plain": [
       "{'variable': 'bird',\n",
       " 'term': 'B',\n",
       " 'definition': 'A bird is a(n) B iff B is an animal that has wings and is part of the avian class, regardless of its ability to fly.',\n",
       " 'counterexample': 'Penguin',\n",
       " 'revision': 'A bird is a(n) B iff A bird is a(n) B iff B is an animal that has wings and is part of the avian class, regardless of its ability to fly or swim.',\n",
       " 'rationale': 'The revision accounts for the counterexample because it includes birds like penguins that are known for their swimming abilities rather than their ability to fly. By adding \"or swim\" to the definition, it now encompasses all birds, not just those that can fly. This is important because not all birds have the ability to fly, but they are still considered birds due to their other characteristics such as having wings and being part of the avian class. Therefore, the revised definition is more inclusive and accurate.'}"
      ]
     },
     "execution_count": 10,
     "metadata": {},
     "output_type": "execute_result"
    }
   ],
   "source": [
    "revision_response = cea.revise_concept(bird, counterexample_response[\"counterexample\"])\n",
    "revision_response"
   ]
  },
  {
   "cell_type": "code",
   "execution_count": 11,
   "metadata": {},
   "outputs": [],
   "source": [
    "bird = Concept(\"B\", \"bird\", revision_response[\"revision\"])"
   ]
  },
  {
   "cell_type": "code",
   "execution_count": 12,
   "metadata": {},
   "outputs": [
    {
     "data": {
      "text/plain": [
       "{'variable': 'bird',\n",
       " 'term': 'B',\n",
       " 'definition': 'A bird is a(n) B iff A bird is a(n) B iff B is an animal that has wings and is part of the avian class, regardless of its ability to fly or swim.',\n",
       " 'counterexample': 'Penguin',\n",
       " 'rationale': 'A penguin is a bird that cannot fly. However, it still fits the definition because it has wings and is part of the avian class. The opponent might argue that because a penguin cannot fly, it should not be considered a bird. However, the definition does not require the ability to fly, only the presence of wings and membership in the avian class. Therefore, a penguin is not a valid counterexample to the definition.'}"
      ]
     },
     "execution_count": 12,
     "metadata": {},
     "output_type": "execute_result"
    }
   ],
   "source": [
    "counterexample_response = cea.propose_counterexample(bird)\n",
    "counterexample_response"
   ]
  },
  {
   "cell_type": "code",
   "execution_count": 13,
   "metadata": {},
   "outputs": [],
   "source": [
    "haslanger_woman = \"\"\"(i) S is regularly and for the most part observed or imagined to have \n",
    "certain bodily features presumed to be evidence of a female’s biological role in reproduction; \n",
    "(ii) that S has these features marks S within the dominant ideology of S’s society as someone who \n",
    "ought to occupy certain kinds of social position that are in fact subordinate (and so motivates \n",
    "and justifies S’s occupying such a position); and (iii) the fact that S satisfies (I) and (ii) plays \n",
    "a role in S’s systematic subordination, that is, along some dimension, S’s social position is oppressive, \n",
    "and S’s satisfying (i) and (ii) plays a role in that dimension of subordination\"\"\""
   ]
  },
  {
   "cell_type": "code",
   "execution_count": 14,
   "metadata": {},
   "outputs": [],
   "source": [
    "woman = Concept(\"S\", \"woman\", haslanger_woman)"
   ]
  },
  {
   "cell_type": "code",
   "execution_count": 15,
   "metadata": {},
   "outputs": [
    {
     "data": {
      "text/plain": [
       "{'variable': 'woman',\n",
       " 'term': 'S',\n",
       " 'definition': '(i) S is regularly and for the most part observed or imagined to have \\ncertain bodily features presumed to be evidence of a female’s biological role in reproduction; \\n(ii) that S has these features marks S within the dominant ideology of S’s society as someone who \\nought to occupy certain kinds of social position that are in fact subordinate (and so motivates \\nand justifies S’s occupying such a position); and (iii) the fact that S satisfies (I) and (ii) plays \\na role in S’s systematic subordination, that is, along some dimension, S’s social position is oppressive, \\nand S’s satisfying (i) and (ii) plays a role in that dimension of subordination',\n",
       " 'entity': 'Rosa Parks',\n",
       " 'in_extension': 'True',\n",
       " 'rationale': \"Rosa Parks was a woman, and as such, she fits the definition of S provided. She was observed to have the bodily features associated with the female biological role in reproduction (i), her society's dominant ideology marked her as someone who should occupy certain subordinate social positions (ii), and her satisfying both (i) and (ii) played a role in her systematic subordination (iii). Therefore, it is true that Rosa Parks is a(n) S.\"}"
      ]
     },
     "execution_count": 15,
     "metadata": {},
     "output_type": "execute_result"
    }
   ],
   "source": [
    "cea.classify_entity(woman, \"Rosa Parks\")"
   ]
  },
  {
   "cell_type": "code",
   "execution_count": 16,
   "metadata": {},
   "outputs": [
    {
     "data": {
      "text/plain": [
       "{'variable': 'woman',\n",
       " 'term': 'S',\n",
       " 'definition': '(i) S is regularly and for the most part observed or imagined to have \\ncertain bodily features presumed to be evidence of a female’s biological role in reproduction; \\n(ii) that S has these features marks S within the dominant ideology of S’s society as someone who \\nought to occupy certain kinds of social position that are in fact subordinate (and so motivates \\nand justifies S’s occupying such a position); and (iii) the fact that S satisfies (I) and (ii) plays \\na role in S’s systematic subordination, that is, along some dimension, S’s social position is oppressive, \\nand S’s satisfying (i) and (ii) plays a role in that dimension of subordination',\n",
       " 'counterexample': 'Transgender woman',\n",
       " 'rationale': \"A transgender woman may not fit the definition provided because she may not have the biological features typically associated with female reproduction. However, she identifies as a woman and may be perceived as such in her society. Therefore, she may still occupy the social positions associated with women and experience the same systematic subordination. This challenges the definition's reliance on biological features as a necessary condition for womanhood.\"}"
      ]
     },
     "execution_count": 16,
     "metadata": {},
     "output_type": "execute_result"
    }
   ],
   "source": [
    "counterexample_response = cea.propose_counterexample(woman)\n",
    "counterexample_response"
   ]
  },
  {
   "cell_type": "code",
   "execution_count": 17,
   "metadata": {},
   "outputs": [
    {
     "data": {
      "text/plain": [
       "{'variable': 'woman',\n",
       " 'term': 'S',\n",
       " 'definition': '(i) S is regularly and for the most part observed or imagined to have \\ncertain bodily features presumed to be evidence of a female’s biological role in reproduction; \\n(ii) that S has these features marks S within the dominant ideology of S’s society as someone who \\nought to occupy certain kinds of social position that are in fact subordinate (and so motivates \\nand justifies S’s occupying such a position); and (iii) the fact that S satisfies (I) and (ii) plays \\na role in S’s systematic subordination, that is, along some dimension, S’s social position is oppressive, \\nand S’s satisfying (i) and (ii) plays a role in that dimension of subordination',\n",
       " 'counterexample': 'Transgender woman',\n",
       " 'is_valid': 'False',\n",
       " 'rationale': 'A transgender woman may not have the biological features typically associated with female reproduction, which seems to challenge point (i) of the definition. However, the definition does not strictly require these features, but rather that they are \"regularly and for the most part observed or imagined\" to have them. This could include societal perceptions and expectations, which can apply to transgender women as well. Furthermore, transgender women often face systematic subordination and occupy subordinate social positions, fulfilling points (ii) and (iii) of the definition. Therefore, a transgender woman does not serve as a valid counterexample to this definition of a woman.'}"
      ]
     },
     "execution_count": 17,
     "metadata": {},
     "output_type": "execute_result"
    }
   ],
   "source": [
    "cea.validate_counterexample(woman, counterexample_response[\"counterexample\"])"
   ]
  },
  {
   "cell_type": "code",
   "execution_count": 18,
   "metadata": {},
   "outputs": [],
   "source": [
    "collection = [\n",
    "    \"Rosa Parks\",\n",
    "    \"Hillary Clinton\",\n",
    "    \"Pamela Anderson\",\n",
    "    \"Lebron James\",\n",
    "    \"Sally Haslanger\",\n",
    "    \"Nancy Pelosi\",\n",
    "    \"Catwoman\",\n",
    "    \"Taylor Swift\",\n",
    "    \"Julia Roberts\",\n",
    "    \"James Earl Carter\",\n",
    "    \"Peter Bogdanovich\",\n",
    "    \"Elinor Ostrom\",\n",
    "    \"Catherine of Aragon\",\n",
    "    \"Catherine the Great\",\n",
    "    \"Joyce Carol Oates\",\n",
    "    \"Sally Hemings\",\n",
    "    \"Caitlyn Jenner\",\n",
    "    \"Kamala Harris\",\n",
    "]"
   ]
  },
  {
   "cell_type": "code",
   "execution_count": 19,
   "metadata": {},
   "outputs": [
    {
     "data": {
      "text/html": [
       "<style type=\"text/css\">\n",
       "#T_75e31_row0_col0, #T_75e31_row0_col1, #T_75e31_row0_col2, #T_75e31_row1_col0, #T_75e31_row1_col1, #T_75e31_row1_col2, #T_75e31_row2_col0, #T_75e31_row2_col1, #T_75e31_row2_col2, #T_75e31_row3_col0, #T_75e31_row3_col1, #T_75e31_row3_col2, #T_75e31_row4_col0, #T_75e31_row4_col1, #T_75e31_row4_col2, #T_75e31_row5_col0, #T_75e31_row5_col1, #T_75e31_row5_col2, #T_75e31_row6_col0, #T_75e31_row6_col1, #T_75e31_row6_col2, #T_75e31_row7_col0, #T_75e31_row7_col1, #T_75e31_row7_col2, #T_75e31_row8_col0, #T_75e31_row8_col1, #T_75e31_row8_col2, #T_75e31_row9_col0, #T_75e31_row9_col1, #T_75e31_row9_col2, #T_75e31_row10_col0, #T_75e31_row10_col1, #T_75e31_row10_col2, #T_75e31_row11_col0, #T_75e31_row11_col1, #T_75e31_row11_col2, #T_75e31_row12_col0, #T_75e31_row12_col1, #T_75e31_row12_col2, #T_75e31_row13_col0, #T_75e31_row13_col1, #T_75e31_row13_col2, #T_75e31_row14_col0, #T_75e31_row14_col1, #T_75e31_row14_col2, #T_75e31_row15_col0, #T_75e31_row15_col1, #T_75e31_row15_col2, #T_75e31_row16_col0, #T_75e31_row16_col1, #T_75e31_row16_col2, #T_75e31_row17_col0, #T_75e31_row17_col1, #T_75e31_row17_col2 {\n",
       "  text-align: left;\n",
       "  overflow-wrap: break-word;\n",
       "}\n",
       "</style>\n",
       "<table id=\"T_75e31\">\n",
       "  <thead>\n",
       "    <tr>\n",
       "      <th class=\"blank level0\" >&nbsp;</th>\n",
       "      <th id=\"T_75e31_level0_col0\" class=\"col_heading level0 col0\" >entity</th>\n",
       "      <th id=\"T_75e31_level0_col1\" class=\"col_heading level0 col1\" >in_extension</th>\n",
       "      <th id=\"T_75e31_level0_col2\" class=\"col_heading level0 col2\" >rationale</th>\n",
       "    </tr>\n",
       "  </thead>\n",
       "  <tbody>\n",
       "    <tr>\n",
       "      <th id=\"T_75e31_level0_row0\" class=\"row_heading level0 row0\" >0</th>\n",
       "      <td id=\"T_75e31_row0_col0\" class=\"data row0 col0\" >Rosa Parks</td>\n",
       "      <td id=\"T_75e31_row0_col1\" class=\"data row0 col1\" >True</td>\n",
       "      <td id=\"T_75e31_row0_col2\" class=\"data row0 col2\" >Rosa Parks was a woman, and thus fits the definition of S provided. She was biologically female, which satisfies condition (i). As a woman in a patriarchal society, she was expected to occupy certain subordinate social positions, which satisfies condition (ii). Her social position was indeed oppressive, as evidenced by her famous refusal to give up her bus seat due to racial segregation laws, which satisfies condition (iii). Therefore, Rosa Parks is a(n) S.</td>\n",
       "    </tr>\n",
       "    <tr>\n",
       "      <th id=\"T_75e31_level0_row1\" class=\"row_heading level0 row1\" >1</th>\n",
       "      <td id=\"T_75e31_row1_col0\" class=\"data row1 col0\" >Hillary Clinton</td>\n",
       "      <td id=\"T_75e31_row1_col1\" class=\"data row1 col1\" >True</td>\n",
       "      <td id=\"T_75e31_row1_col2\" class=\"data row1 col2\" >Hillary Clinton is a woman. She is observed to have the bodily features associated with the female biological role in reproduction. In her society, these features mark her as someone who should occupy certain social positions, which have historically been subordinate. Despite her high level of achievement and power, she has faced systematic subordination and oppression due to her gender, such as sexism and gender bias in politics. Therefore, she satisfies all three conditions of the definition.</td>\n",
       "    </tr>\n",
       "    <tr>\n",
       "      <th id=\"T_75e31_level0_row2\" class=\"row_heading level0 row2\" >2</th>\n",
       "      <td id=\"T_75e31_row2_col0\" class=\"data row2 col0\" >Pamela Anderson</td>\n",
       "      <td id=\"T_75e31_row2_col1\" class=\"data row2 col1\" >True</td>\n",
       "      <td id=\"T_75e31_row2_col2\" class=\"data row2 col2\" >Pamela Anderson is a woman. She is observed to have certain bodily features associated with the female biological role in reproduction. In the dominant ideology of her society, these features mark her as someone who should occupy certain social positions, which can be considered subordinate. Furthermore, her satisfying these conditions plays a role in her systematic subordination. Therefore, according to the given definition, Pamela Anderson is a(n) S.</td>\n",
       "    </tr>\n",
       "    <tr>\n",
       "      <th id=\"T_75e31_level0_row3\" class=\"row_heading level0 row3\" >3</th>\n",
       "      <td id=\"T_75e31_row3_col0\" class=\"data row3 col0\" >Lebron James</td>\n",
       "      <td id=\"T_75e31_row3_col1\" class=\"data row3 col1\" >False</td>\n",
       "      <td id=\"T_75e31_row3_col2\" class=\"data row3 col2\" >Lebron James does not meet the criteria outlined in the definition for being a(n) S. Firstly, he does not have the bodily features associated with a female's biological role in reproduction. Secondly, he does not occupy a social position that is considered subordinate within the dominant ideology of his society. Lastly, his social position is not oppressive, nor does he satisfy conditions (i) and (ii) that would contribute to any systematic subordination. Therefore, he cannot be classified as a(n) S.</td>\n",
       "    </tr>\n",
       "    <tr>\n",
       "      <th id=\"T_75e31_level0_row4\" class=\"row_heading level0 row4\" >4</th>\n",
       "      <td id=\"T_75e31_row4_col0\" class=\"data row4 col0\" >Sally Haslanger</td>\n",
       "      <td id=\"T_75e31_row4_col1\" class=\"data row4 col1\" >Unknown</td>\n",
       "      <td id=\"T_75e31_row4_col2\" class=\"data row4 col2\" >The definition provided does not give specific information about Sally Haslanger. Without knowing her physical characteristics, social position, or whether she experiences systematic subordination, it is impossible to determine if she fits the definition of S. Therefore, the answer is 'Unknown'.</td>\n",
       "    </tr>\n",
       "    <tr>\n",
       "      <th id=\"T_75e31_level0_row5\" class=\"row_heading level0 row5\" >5</th>\n",
       "      <td id=\"T_75e31_row5_col0\" class=\"data row5 col0\" >Nancy Pelosi</td>\n",
       "      <td id=\"T_75e31_row5_col1\" class=\"data row5 col1\" >True</td>\n",
       "      <td id=\"T_75e31_row5_col2\" class=\"data row5 col2\" >Nancy Pelosi is a woman. She is observed to have the bodily features associated with the female biological role in reproduction. As a woman, she is marked within the dominant ideology of her society as someone who ought to occupy certain kinds of social position that are in fact subordinate, although it is important to note that she has risen to a position of significant power and influence as Speaker of the House in the United States Congress. Nonetheless, the fact that she is a woman plays a role in her systematic subordination in some dimensions of her social position, as she operates within a society that has historically been patriarchal. Therefore, according to the given definition, Nancy Pelosi is a(n) S.</td>\n",
       "    </tr>\n",
       "    <tr>\n",
       "      <th id=\"T_75e31_level0_row6\" class=\"row_heading level0 row6\" >6</th>\n",
       "      <td id=\"T_75e31_row6_col0\" class=\"data row6 col0\" >Catwoman</td>\n",
       "      <td id=\"T_75e31_row6_col1\" class=\"data row6 col1\" >Unknown</td>\n",
       "      <td id=\"T_75e31_row6_col2\" class=\"data row6 col2\" >The definition provided is complex and involves several factors, including biological features, societal expectations, and systemic subordination. While Catwoman, as a fictional character, is typically depicted as having female biological features, it is not clear from the information provided whether she is seen within her society as someone who should occupy a subordinate social position, or whether her gender plays a role in any systemic subordination she may experience. Therefore, without more specific information about the societal and systemic context of Catwoman's character, it is not possible to definitively say whether she fits this definition.</td>\n",
       "    </tr>\n",
       "    <tr>\n",
       "      <th id=\"T_75e31_level0_row7\" class=\"row_heading level0 row7\" >7</th>\n",
       "      <td id=\"T_75e31_row7_col0\" class=\"data row7 col0\" >Taylor Swift</td>\n",
       "      <td id=\"T_75e31_row7_col1\" class=\"data row7 col1\" >True</td>\n",
       "      <td id=\"T_75e31_row7_col2\" class=\"data row7 col2\" >Taylor Swift is a woman. She is observed to have the bodily features associated with the female biological role in reproduction. In the dominant ideology of her society, these features mark her as someone who should occupy certain social positions, although it is debatable whether these positions are subordinate. Furthermore, her gender does play a role in her social position and can contribute to her experiences of oppression or subordination, such as sexism in the music industry. Therefore, according to the given definition, Taylor Swift is a(n) S.</td>\n",
       "    </tr>\n",
       "    <tr>\n",
       "      <th id=\"T_75e31_level0_row8\" class=\"row_heading level0 row8\" >8</th>\n",
       "      <td id=\"T_75e31_row8_col0\" class=\"data row8 col0\" >Julia Roberts</td>\n",
       "      <td id=\"T_75e31_row8_col1\" class=\"data row8 col1\" >True</td>\n",
       "      <td id=\"T_75e31_row8_col2\" class=\"data row8 col2\" >Julia Roberts is a woman. She is observed to have the bodily features associated with the female biological role in reproduction. In the dominant ideology of her society, these features mark her as someone who should occupy certain social positions, which can be considered subordinate. Furthermore, these factors contribute to her systematic subordination in some aspects of her social position. Therefore, according to the given definition, Julia Roberts is a(n) S.</td>\n",
       "    </tr>\n",
       "    <tr>\n",
       "      <th id=\"T_75e31_level0_row9\" class=\"row_heading level0 row9\" >9</th>\n",
       "      <td id=\"T_75e31_row9_col0\" class=\"data row9 col0\" >James Earl Carter</td>\n",
       "      <td id=\"T_75e31_row9_col1\" class=\"data row9 col1\" >False</td>\n",
       "      <td id=\"T_75e31_row9_col2\" class=\"data row9 col2\" >James Earl Carter, also known as Jimmy Carter, the 39th President of the United States, is not a woman. He does not meet the criteria outlined in the definition. He is not observed or imagined to have the bodily features associated with a female's biological role in reproduction. Furthermore, he does not occupy a social position that is subordinate due to these features. Therefore, he does not satisfy conditions (i) and (ii) of the definition.</td>\n",
       "    </tr>\n",
       "    <tr>\n",
       "      <th id=\"T_75e31_level0_row10\" class=\"row_heading level0 row10\" >10</th>\n",
       "      <td id=\"T_75e31_row10_col0\" class=\"data row10 col0\" >Peter Bogdanovich</td>\n",
       "      <td id=\"T_75e31_row10_col1\" class=\"data row10 col1\" >Unknown</td>\n",
       "      <td id=\"T_75e31_row10_col2\" class=\"data row10 col2\" >The definition provided is complex and requires specific knowledge about Peter Bogdanovich to accurately determine if he fits the criteria. Peter Bogdanovich is a well-known American director, writer, actor, producer, critic, and film historian. However, there is no public information available that suggests he is regularly and for the most part observed or imagined to have certain bodily features presumed to be evidence of a female’s biological role in reproduction, or that he is marked within the dominant ideology of his society as someone who ought to occupy certain kinds of social position that are in fact subordinate. Therefore, it is unknown whether Peter Bogdanovich fits the definition of S based on the information provided.</td>\n",
       "    </tr>\n",
       "    <tr>\n",
       "      <th id=\"T_75e31_level0_row11\" class=\"row_heading level0 row11\" >11</th>\n",
       "      <td id=\"T_75e31_row11_col0\" class=\"data row11 col0\" >Elinor Ostrom</td>\n",
       "      <td id=\"T_75e31_row11_col1\" class=\"data row11 col1\" >Unknown</td>\n",
       "      <td id=\"T_75e31_row11_col2\" class=\"data row11 col2\" >The definition provided is complex and involves multiple factors, including biological characteristics, societal expectations, and systemic subordination. However, the information provided does not give any specific details about Elinor Ostrom's personal experiences or societal context that would allow us to definitively determine whether she fits this definition. Therefore, the answer is 'Unknown'.</td>\n",
       "    </tr>\n",
       "    <tr>\n",
       "      <th id=\"T_75e31_level0_row12\" class=\"row_heading level0 row12\" >12</th>\n",
       "      <td id=\"T_75e31_row12_col0\" class=\"data row12 col0\" >Catherine of Aragon</td>\n",
       "      <td id=\"T_75e31_row12_col1\" class=\"data row12 col1\" >True</td>\n",
       "      <td id=\"T_75e31_row12_col2\" class=\"data row12 col2\" >Catherine of Aragon was a woman who was observed to have the bodily features associated with a female's biological role in reproduction. She was also marked within the dominant ideology of her society as someone who ought to occupy certain kinds of social position that were in fact subordinate, as was typical for women in her time. Furthermore, the fact that she satisfied these conditions played a role in her systematic subordination, as she was expected to bear children and was divorced by Henry VIII when she failed to produce a male heir. Therefore, according to the given definition, Catherine of Aragon is a(n) S.</td>\n",
       "    </tr>\n",
       "    <tr>\n",
       "      <th id=\"T_75e31_level0_row13\" class=\"row_heading level0 row13\" >13</th>\n",
       "      <td id=\"T_75e31_row13_col0\" class=\"data row13 col0\" >Catherine the Great</td>\n",
       "      <td id=\"T_75e31_row13_col1\" class=\"data row13 col1\" >Unknown</td>\n",
       "      <td id=\"T_75e31_row13_col2\" class=\"data row13 col2\" >The definition provided does not give specific information about Catherine the Great's physical features, social position, or any potential subordination she may have experienced. Therefore, it is impossible to definitively say whether she fits the definition of S.</td>\n",
       "    </tr>\n",
       "    <tr>\n",
       "      <th id=\"T_75e31_level0_row14\" class=\"row_heading level0 row14\" >14</th>\n",
       "      <td id=\"T_75e31_row14_col0\" class=\"data row14 col0\" >Joyce Carol Oates</td>\n",
       "      <td id=\"T_75e31_row14_col1\" class=\"data row14 col1\" >True</td>\n",
       "      <td id=\"T_75e31_row14_col2\" class=\"data row14 col2\" >Joyce Carol Oates is a woman. She is observed to have the bodily features associated with the female biological role in reproduction. In the society she lives in, these features mark her as someone who should occupy certain social positions, which are often considered subordinate. This plays a role in her systematic subordination, making her social position oppressive in some ways. Therefore, according to the given definition, Joyce Carol Oates is a(n) S.</td>\n",
       "    </tr>\n",
       "    <tr>\n",
       "      <th id=\"T_75e31_level0_row15\" class=\"row_heading level0 row15\" >15</th>\n",
       "      <td id=\"T_75e31_row15_col0\" class=\"data row15 col0\" >Sally Hemings</td>\n",
       "      <td id=\"T_75e31_row15_col1\" class=\"data row15 col1\" >Unknown</td>\n",
       "      <td id=\"T_75e31_row15_col2\" class=\"data row15 col2\" >The definition provided is complex and requires specific knowledge about Sally Hemings's life and societal context to accurately determine if she fits the definition of S. Sally Hemings was a woman of African descent who lived in the late 18th and early 19th centuries, and is known for her relationship with Thomas Jefferson. However, without specific information about how she was perceived in her society, her social position, and whether she was systematically subordinated, it is impossible to definitively say whether she fits the definition of S. Therefore, the answer is 'Unknown'.</td>\n",
       "    </tr>\n",
       "    <tr>\n",
       "      <th id=\"T_75e31_level0_row16\" class=\"row_heading level0 row16\" >16</th>\n",
       "      <td id=\"T_75e31_row16_col0\" class=\"data row16 col0\" >Caitlyn Jenner</td>\n",
       "      <td id=\"T_75e31_row16_col1\" class=\"data row16 col1\" >True</td>\n",
       "      <td id=\"T_75e31_row16_col2\" class=\"data row16 col2\" >Caitlyn Jenner is considered a woman (S) because she has undergone physical changes to align her body with her gender identity, satisfying condition (i). She lives in a society where these features mark her as someone who should occupy certain social positions, satisfying condition (ii). Her status as a transgender woman can contribute to her systematic subordination, satisfying condition (iii). Therefore, according to the given definition, Caitlyn Jenner is a woman (S).</td>\n",
       "    </tr>\n",
       "    <tr>\n",
       "      <th id=\"T_75e31_level0_row17\" class=\"row_heading level0 row17\" >17</th>\n",
       "      <td id=\"T_75e31_row17_col0\" class=\"data row17 col0\" >Kamala Harris</td>\n",
       "      <td id=\"T_75e31_row17_col1\" class=\"data row17 col1\" >True</td>\n",
       "      <td id=\"T_75e31_row17_col2\" class=\"data row17 col2\" >Kamala Harris is a woman. She is observed to have the bodily features associated with the female biological role in reproduction. In the dominant ideology of her society, these features mark her as someone who ought to occupy certain kinds of social positions. While it is arguable whether these positions are subordinate, it is undeniable that women, including Kamala Harris, face systematic subordination in many aspects of society. Therefore, she satisfies conditions (i), (ii), and (iii) of the definition.</td>\n",
       "    </tr>\n",
       "  </tbody>\n",
       "</table>\n"
      ],
      "text/plain": [
       "<pandas.io.formats.style.Styler at 0x13e873910>"
      ]
     },
     "execution_count": 19,
     "metadata": {},
     "output_type": "execute_result"
    }
   ],
   "source": [
    "df = DataFrame( \n",
    "    [ cea.classify_entity(woman, entity) for entity in collection ], \n",
    "    columns = [ 'entity' , 'in_extension', 'rationale' ] \n",
    "    )\n",
    "df.style.set_properties(**{\"text-align\": \"left\", \"overflow-wrap\": \"break-word\"})"
   ]
  },
  {
   "cell_type": "code",
   "execution_count": 20,
   "metadata": {},
   "outputs": [],
   "source": [
    "cea_2 = ConceptualEngineeringAssistant(model_name=\"gpt-3.5-turbo\", temperature=0.4)"
   ]
  },
  {
   "cell_type": "code",
   "execution_count": 21,
   "metadata": {},
   "outputs": [
    {
     "data": {
      "text/html": [
       "<style type=\"text/css\">\n",
       "#T_3a4c3_row0_col0, #T_3a4c3_row0_col1, #T_3a4c3_row0_col2, #T_3a4c3_row1_col0, #T_3a4c3_row1_col1, #T_3a4c3_row1_col2, #T_3a4c3_row2_col0, #T_3a4c3_row2_col1, #T_3a4c3_row2_col2, #T_3a4c3_row3_col0, #T_3a4c3_row3_col1, #T_3a4c3_row3_col2, #T_3a4c3_row4_col0, #T_3a4c3_row4_col1, #T_3a4c3_row4_col2, #T_3a4c3_row5_col0, #T_3a4c3_row5_col1, #T_3a4c3_row5_col2, #T_3a4c3_row6_col0, #T_3a4c3_row6_col1, #T_3a4c3_row6_col2, #T_3a4c3_row7_col0, #T_3a4c3_row7_col1, #T_3a4c3_row7_col2, #T_3a4c3_row8_col0, #T_3a4c3_row8_col1, #T_3a4c3_row8_col2, #T_3a4c3_row9_col0, #T_3a4c3_row9_col1, #T_3a4c3_row9_col2, #T_3a4c3_row10_col0, #T_3a4c3_row10_col1, #T_3a4c3_row10_col2, #T_3a4c3_row11_col0, #T_3a4c3_row11_col1, #T_3a4c3_row11_col2, #T_3a4c3_row12_col0, #T_3a4c3_row12_col1, #T_3a4c3_row12_col2, #T_3a4c3_row13_col0, #T_3a4c3_row13_col1, #T_3a4c3_row13_col2, #T_3a4c3_row14_col0, #T_3a4c3_row14_col1, #T_3a4c3_row14_col2, #T_3a4c3_row15_col0, #T_3a4c3_row15_col1, #T_3a4c3_row15_col2, #T_3a4c3_row16_col0, #T_3a4c3_row16_col1, #T_3a4c3_row16_col2, #T_3a4c3_row17_col0, #T_3a4c3_row17_col1, #T_3a4c3_row17_col2 {\n",
       "  text-align: left;\n",
       "  overflow-wrap: break-word;\n",
       "}\n",
       "</style>\n",
       "<table id=\"T_3a4c3\">\n",
       "  <thead>\n",
       "    <tr>\n",
       "      <th class=\"blank level0\" >&nbsp;</th>\n",
       "      <th id=\"T_3a4c3_level0_col0\" class=\"col_heading level0 col0\" >entity</th>\n",
       "      <th id=\"T_3a4c3_level0_col1\" class=\"col_heading level0 col1\" >in_extension</th>\n",
       "      <th id=\"T_3a4c3_level0_col2\" class=\"col_heading level0 col2\" >rationale</th>\n",
       "    </tr>\n",
       "  </thead>\n",
       "  <tbody>\n",
       "    <tr>\n",
       "      <th id=\"T_3a4c3_level0_row0\" class=\"row_heading level0 row0\" >0</th>\n",
       "      <td id=\"T_3a4c3_row0_col0\" class=\"data row0 col0\" >Rosa Parks</td>\n",
       "      <td id=\"T_3a4c3_row0_col1\" class=\"data row0 col1\" >Unknown</td>\n",
       "      <td id=\"T_3a4c3_row0_col2\" class=\"data row0 col2\" >Based on the given definition, it is not possible to determine whether Rosa Parks is a woman (S) or not. The definition states that a woman is someone who is regularly observed or imagined to have certain bodily features presumed to be evidence of a female's biological role in reproduction. Since Rosa Parks' bodily features are not mentioned in the context of this definition, it is unknown whether she satisfies the first condition.\n",
       "\n",
       "Additionally, the definition states that a woman is someone who is marked within the dominant ideology of their society as someone who ought to occupy certain kinds of social positions that are subordinate. While Rosa Parks did challenge the social norms and played a significant role in the Civil Rights Movement, it is unclear whether she was marked as someone who ought to occupy a subordinate social position within the dominant ideology of her society.\n",
       "\n",
       "Therefore, without more information, it is unknown whether Rosa Parks satisfies the conditions of the given definition of a woman (S).</td>\n",
       "    </tr>\n",
       "    <tr>\n",
       "      <th id=\"T_3a4c3_level0_row1\" class=\"row_heading level0 row1\" >1</th>\n",
       "      <td id=\"T_3a4c3_row1_col0\" class=\"data row1 col0\" >Hillary Clinton</td>\n",
       "      <td id=\"T_3a4c3_row1_col1\" class=\"data row1 col1\" >Unknown</td>\n",
       "      <td id=\"T_3a4c3_row1_col2\" class=\"data row1 col2\" >Based on the given definition, it is not possible to determine whether Hillary Clinton is a woman (S) or not. The definition requires three conditions to be satisfied: \n",
       "(i) regularly observed bodily features presumed to be evidence of a female's biological role in reproduction, \n",
       "(ii) marking someone within the dominant ideology of society to occupy subordinate social positions, and \n",
       "(iii) playing a role in systematic subordination.\n",
       "\n",
       "Without specific information about Hillary Clinton's bodily features, societal perception, and social position, it is not possible to determine if she satisfies these conditions. Therefore, the answer remains unknown.</td>\n",
       "    </tr>\n",
       "    <tr>\n",
       "      <th id=\"T_3a4c3_level0_row2\" class=\"row_heading level0 row2\" >2</th>\n",
       "      <td id=\"T_3a4c3_row2_col0\" class=\"data row2 col0\" >Pamela Anderson</td>\n",
       "      <td id=\"T_3a4c3_row2_col1\" class=\"data row2 col1\" >Unknown</td>\n",
       "      <td id=\"T_3a4c3_row2_col2\" class=\"data row2 col2\" >The given definition of \"woman\" includes three criteria: (i) having certain bodily features associated with female reproductive role, (ii) being marked as someone who should occupy subordinate social positions, and (iii) the fact that (i) and (ii) contribute to systematic subordination.\n",
       "\n",
       "To determine if Pamela Anderson is a \"woman\" according to this definition, we need to evaluate if she meets all three criteria. \n",
       "\n",
       "(i) Bodily features associated with female reproductive role: It is not explicitly stated whether Pamela Anderson has these bodily features. Without more information, it is unknown if she satisfies this criterion.\n",
       "\n",
       "(ii) Marked as someone who should occupy subordinate social positions: Pamela Anderson, as a public figure and actress, has occupied various social positions throughout her career. However, it is unclear if she has been consistently marked as someone who should occupy subordinate positions. Without more information, it is unknown if she satisfies this criterion.\n",
       "\n",
       "(iii) The fact that (i) and (ii) contribute to systematic subordination: Without knowing if Pamela Anderson satisfies the first two criteria, it is impossible to determine if her satisfying (i) and (ii) plays a role in her systematic subordination. Therefore, it is unknown if she satisfies this criterion.\n",
       "\n",
       "Based on the given information, it is unknown if Pamela Anderson is a \"woman\" according to the provided definition.</td>\n",
       "    </tr>\n",
       "    <tr>\n",
       "      <th id=\"T_3a4c3_level0_row3\" class=\"row_heading level0 row3\" >3</th>\n",
       "      <td id=\"T_3a4c3_row3_col0\" class=\"data row3 col0\" >Lebron James</td>\n",
       "      <td id=\"T_3a4c3_row3_col1\" class=\"data row3 col1\" >Unknown</td>\n",
       "      <td id=\"T_3a4c3_row3_col2\" class=\"data row3 col2\" >Lebron James is a professional basketball player and not explicitly mentioned in the given definition. The definition focuses on the social and biological aspects of being a woman and the resulting subordination. Since Lebron James is not a woman, it is unknown whether he satisfies the criteria mentioned in the definition.</td>\n",
       "    </tr>\n",
       "    <tr>\n",
       "      <th id=\"T_3a4c3_level0_row4\" class=\"row_heading level0 row4\" >4</th>\n",
       "      <td id=\"T_3a4c3_row4_col0\" class=\"data row4 col0\" >Sally Haslanger</td>\n",
       "      <td id=\"T_3a4c3_row4_col1\" class=\"data row4 col1\" >Unknown</td>\n",
       "      <td id=\"T_3a4c3_row4_col2\" class=\"data row4 col2\" >The answer is unknown because the definition provided does not provide enough information about Sally Haslanger's bodily features, societal position, or the dimension of subordination she may experience. Without this information, it is not possible to determine if she fits the criteria outlined in the definition.</td>\n",
       "    </tr>\n",
       "    <tr>\n",
       "      <th id=\"T_3a4c3_level0_row5\" class=\"row_heading level0 row5\" >5</th>\n",
       "      <td id=\"T_3a4c3_row5_col0\" class=\"data row5 col0\" >Nancy Pelosi</td>\n",
       "      <td id=\"T_3a4c3_row5_col1\" class=\"data row5 col1\" >Unknown</td>\n",
       "      <td id=\"T_3a4c3_row5_col2\" class=\"data row5 col2\" >The definition provided states that a woman is someone who is regularly observed or imagined to have certain bodily features presumed to be evidence of a female's biological role in reproduction, and that these features mark them within the dominant ideology of their society as someone who should occupy subordinate social positions. Additionally, the fact that they satisfy these criteria plays a role in their systematic subordination.\n",
       "\n",
       "Based on this definition, it is not possible to determine whether Nancy Pelosi is a woman (S) or not. The definition does not provide any information about Nancy Pelosi's bodily features or how she is perceived within the dominant ideology of society. Without this information, it is not possible to determine if she satisfies the criteria outlined in the definition. Therefore, the answer is \"Unknown\".</td>\n",
       "    </tr>\n",
       "    <tr>\n",
       "      <th id=\"T_3a4c3_level0_row6\" class=\"row_heading level0 row6\" >6</th>\n",
       "      <td id=\"T_3a4c3_row6_col0\" class=\"data row6 col0\" >Catwoman</td>\n",
       "      <td id=\"T_3a4c3_row6_col1\" class=\"data row6 col1\" >Unknown</td>\n",
       "      <td id=\"T_3a4c3_row6_col2\" class=\"data row6 col2\" >The definition provided for a woman states that a woman is someone who is regularly observed or imagined to have certain bodily features presumed to be evidence of a female's biological role in reproduction. It also states that having these features marks a person within the dominant ideology of society as someone who should occupy certain subordinate social positions, and that this systematic subordination plays a role in their social position being oppressive.\n",
       "\n",
       "Based on this definition, it is difficult to determine whether Catwoman would be considered a woman or not. Catwoman is a fictional character from the Batman comics and movies, and her characteristics and features may not align with the typical bodily features presumed to be evidence of a female's biological role in reproduction. Additionally, the dominant ideology of society may not necessarily view Catwoman as someone who should occupy subordinate social positions.\n",
       "\n",
       "Without more information about how Catwoman is observed or imagined in relation to the criteria outlined in the definition, it is not possible to determine whether she would be considered a woman or not. Therefore, the answer is \"Unknown\".</td>\n",
       "    </tr>\n",
       "    <tr>\n",
       "      <th id=\"T_3a4c3_level0_row7\" class=\"row_heading level0 row7\" >7</th>\n",
       "      <td id=\"T_3a4c3_row7_col0\" class=\"data row7 col0\" >Taylor Swift</td>\n",
       "      <td id=\"T_3a4c3_row7_col1\" class=\"data row7 col1\" >Unknown</td>\n",
       "      <td id=\"T_3a4c3_row7_col2\" class=\"data row7 col2\" >Based on the given definition, it is not possible to determine whether Taylor Swift is a woman (S) or not. The definition states that a person is considered a woman if they have certain bodily features presumed to be evidence of a female's biological role in reproduction, and if these features mark them within the dominant ideology of their society as someone who should occupy subordinate social positions.\n",
       "\n",
       "Without specific information about Taylor Swift's bodily features and how she is perceived within the dominant ideology of her society, it is not possible to determine whether she satisfies the conditions of the definition. Therefore, the answer is \"Unknown.\"</td>\n",
       "    </tr>\n",
       "    <tr>\n",
       "      <th id=\"T_3a4c3_level0_row8\" class=\"row_heading level0 row8\" >8</th>\n",
       "      <td id=\"T_3a4c3_row8_col0\" class=\"data row8 col0\" >Julia Roberts</td>\n",
       "      <td id=\"T_3a4c3_row8_col1\" class=\"data row8 col1\" >Unknown</td>\n",
       "      <td id=\"T_3a4c3_row8_col2\" class=\"data row8 col2\" >The answer is 'Unknown' because the definition provided does not provide enough information to determine whether Julia Roberts satisfies the criteria. The definition states that a woman is someone who is regularly observed or imagined to have certain bodily features presumed to be evidence of a female's biological role in reproduction. It also states that having these features marks someone within the dominant ideology of their society as someone who ought to occupy certain subordinate social positions. Lastly, it states that the fact that someone satisfies these criteria plays a role in their systematic subordination.\n",
       "\n",
       "Without specific information about Julia Roberts' bodily features, societal perceptions of her, and her social position, it is impossible to determine whether she meets the criteria outlined in the definition.</td>\n",
       "    </tr>\n",
       "    <tr>\n",
       "      <th id=\"T_3a4c3_level0_row9\" class=\"row_heading level0 row9\" >9</th>\n",
       "      <td id=\"T_3a4c3_row9_col0\" class=\"data row9 col0\" >James Earl Carter</td>\n",
       "      <td id=\"T_3a4c3_row9_col1\" class=\"data row9 col1\" >Unknown</td>\n",
       "      <td id=\"T_3a4c3_row9_col2\" class=\"data row9 col2\" >The answer is unknown because the definition provided does not provide any information about James Earl Carter's bodily features or his social position. Without this information, it is not possible to determine whether he fits the criteria outlined in the definition.</td>\n",
       "    </tr>\n",
       "    <tr>\n",
       "      <th id=\"T_3a4c3_level0_row10\" class=\"row_heading level0 row10\" >10</th>\n",
       "      <td id=\"T_3a4c3_row10_col0\" class=\"data row10 col0\" >Peter Bogdanovich</td>\n",
       "      <td id=\"T_3a4c3_row10_col1\" class=\"data row10 col1\" >Unknown</td>\n",
       "      <td id=\"T_3a4c3_row10_col2\" class=\"data row10 col2\" >The given definition of \"woman\" states that a person is considered a woman if they are regularly observed or imagined to have certain bodily features associated with the female biological role in reproduction, and if these features mark them as someone who ought to occupy subordinate social positions within their society. Additionally, the fact that they satisfy these criteria plays a role in their systematic subordination.\n",
       "\n",
       "To determine if Peter Bogdanovich is a woman according to this definition, we would need to consider whether he is regularly observed or imagined to have bodily features presumed to be evidence of a female's biological role in reproduction, and if these features mark him as someone who ought to occupy subordinate social positions. \n",
       "\n",
       "Without any information about Peter Bogdanovich's bodily features or societal perception of him, it is not possible to definitively determine if he meets the criteria outlined in the definition. Therefore, the answer is \"Unknown.\"</td>\n",
       "    </tr>\n",
       "    <tr>\n",
       "      <th id=\"T_3a4c3_level0_row11\" class=\"row_heading level0 row11\" >11</th>\n",
       "      <td id=\"T_3a4c3_row11_col0\" class=\"data row11 col0\" >Elinor Ostrom</td>\n",
       "      <td id=\"T_3a4c3_row11_col1\" class=\"data row11 col1\" >Unknown</td>\n",
       "      <td id=\"T_3a4c3_row11_col2\" class=\"data row11 col2\" >Based on the given definition, it is not possible to determine whether Elinor Ostrom is a woman (S) or not. The definition requires three conditions to be met: (i) regularly observed bodily features, (ii) marking within the dominant ideology, and (iii) systematic subordination. Without specific information about Elinor Ostrom's bodily features, societal perception, and social position, it is not possible to determine if she satisfies these conditions. Therefore, the answer is \"Unknown.\"</td>\n",
       "    </tr>\n",
       "    <tr>\n",
       "      <th id=\"T_3a4c3_level0_row12\" class=\"row_heading level0 row12\" >12</th>\n",
       "      <td id=\"T_3a4c3_row12_col0\" class=\"data row12 col0\" >Catherine of Aragon</td>\n",
       "      <td id=\"T_3a4c3_row12_col1\" class=\"data row12 col1\" >Unknown</td>\n",
       "      <td id=\"T_3a4c3_row12_col2\" class=\"data row12 col2\" >The above definition states that a woman is someone who is regularly observed or imagined to have certain bodily features associated with the female biological role in reproduction, and that these features mark them within the dominant ideology of their society as someone who ought to occupy subordinate social positions. Additionally, it states that the fact that a person satisfies these criteria plays a role in their systematic subordination.\n",
       "\n",
       "Based on this definition, it is unclear whether Catherine of Aragon would be considered a woman (S) or not. This is because the definition does not provide specific criteria for determining whether someone from the past, such as Catherine of Aragon, would be considered a woman according to the dominant ideology of their society at that time. The definition also does not provide information about the bodily features associated with the female biological role in reproduction that were observed or imagined in Catherine of Aragon.\n",
       "\n",
       "Therefore, without more information about the specific societal context and beliefs surrounding gender and womanhood during Catherine of Aragon's time, it is not possible to determine whether she would be considered a woman according to this definition.</td>\n",
       "    </tr>\n",
       "    <tr>\n",
       "      <th id=\"T_3a4c3_level0_row13\" class=\"row_heading level0 row13\" >13</th>\n",
       "      <td id=\"T_3a4c3_row13_col0\" class=\"data row13 col0\" >Catherine the Great</td>\n",
       "      <td id=\"T_3a4c3_row13_col1\" class=\"data row13 col1\" >Unknown</td>\n",
       "      <td id=\"T_3a4c3_row13_col2\" class=\"data row13 col2\" >The given definition of a woman includes three criteria: (i) having certain bodily features associated with female reproductive role, (ii) being marked as someone who should occupy subordinate social positions, and (iii) the fact that the individual satisfies (i) and (ii) plays a role in their systematic subordination.\n",
       "\n",
       "To determine if Catherine the Great fits this definition, we would need to gather information about her bodily features, how she was perceived and marked within the dominant ideology of her society, and whether her satisfying (i) and (ii) played a role in her systematic subordination.\n",
       "\n",
       "Without specific information about Catherine the Great's bodily features, societal perception, and the role they played in her subordination, it is not possible to definitively determine if she fits the given definition. Hence, the answer is \"Unknown.\"</td>\n",
       "    </tr>\n",
       "    <tr>\n",
       "      <th id=\"T_3a4c3_level0_row14\" class=\"row_heading level0 row14\" >14</th>\n",
       "      <td id=\"T_3a4c3_row14_col0\" class=\"data row14 col0\" >Joyce Carol Oates</td>\n",
       "      <td id=\"T_3a4c3_row14_col1\" class=\"data row14 col1\" >Unknown</td>\n",
       "      <td id=\"T_3a4c3_row14_col2\" class=\"data row14 col2\" >Based on the given definition, it is not possible to determine whether Joyce Carol Oates is a woman (S) or not. The definition requires three conditions to be met: (i) regularly observed bodily features, (ii) marking within the dominant ideology, and (iii) systematic subordination. Without specific information about Oates' bodily features, societal perception, and social position, it is not possible to determine if she meets these criteria. Therefore, the answer is \"Unknown.\"</td>\n",
       "    </tr>\n",
       "    <tr>\n",
       "      <th id=\"T_3a4c3_level0_row15\" class=\"row_heading level0 row15\" >15</th>\n",
       "      <td id=\"T_3a4c3_row15_col0\" class=\"data row15 col0\" >Sally Hemings</td>\n",
       "      <td id=\"T_3a4c3_row15_col1\" class=\"data row15 col1\" >Unknown</td>\n",
       "      <td id=\"T_3a4c3_row15_col2\" class=\"data row15 col2\" >The given definition of a woman states that a woman is someone who is regularly observed or imagined to have certain bodily features associated with a female's biological role in reproduction. Additionally, having these features marks a woman within the dominant ideology of her society as someone who should occupy subordinate social positions, and this systematic subordination plays a role in her social position being oppressive.\n",
       "\n",
       "To determine if Sally Hemings is a woman according to this definition, we would need to know if she is regularly observed or imagined to have the bodily features presumed to be evidence of a female's biological role in reproduction. Without this information, it is not possible to definitively answer whether Sally Hemings is a woman or not.\n",
       "\n",
       "Therefore, the answer is \"Unknown\" because the necessary information is not provided to make a determination.</td>\n",
       "    </tr>\n",
       "    <tr>\n",
       "      <th id=\"T_3a4c3_level0_row16\" class=\"row_heading level0 row16\" >16</th>\n",
       "      <td id=\"T_3a4c3_row16_col0\" class=\"data row16 col0\" >Caitlyn Jenner</td>\n",
       "      <td id=\"T_3a4c3_row16_col1\" class=\"data row16 col1\" >Unknown</td>\n",
       "      <td id=\"T_3a4c3_row16_col2\" class=\"data row16 col2\" >Based on the given definition, it is not possible to determine whether Caitlyn Jenner is a woman (S) or not. The definition states that a woman is someone who is regularly observed or imagined to have certain bodily features presumed to be evidence of a female's biological role in reproduction. Without specific information about Caitlyn Jenner's bodily features and how they are perceived within society, it is not possible to determine if she meets this criterion.\n",
       "\n",
       "Additionally, the definition states that a woman is someone who is marked within the dominant ideology of society as someone who ought to occupy certain kinds of subordinate social positions. Again, without specific information about how Caitlyn Jenner is perceived and treated within society, it is not possible to determine if she meets this criterion.\n",
       "\n",
       "Therefore, based on the given definition and the lack of specific information about Caitlyn Jenner, the answer remains unknown.</td>\n",
       "    </tr>\n",
       "    <tr>\n",
       "      <th id=\"T_3a4c3_level0_row17\" class=\"row_heading level0 row17\" >17</th>\n",
       "      <td id=\"T_3a4c3_row17_col0\" class=\"data row17 col0\" >Kamala Harris</td>\n",
       "      <td id=\"T_3a4c3_row17_col1\" class=\"data row17 col1\" >Unknown</td>\n",
       "      <td id=\"T_3a4c3_row17_col2\" class=\"data row17 col2\" >Based on the given definition, it is not possible to determine whether Kamala Harris is a woman (S) or not. The definition requires three conditions to be met: (i) regularly observed bodily features, (ii) marking within the dominant ideology, and (iii) playing a role in systematic subordination.\n",
       "\n",
       "Without specific information about Kamala Harris's bodily features, societal perception, and the role they play in her social position, it is not possible to determine if she satisfies these conditions. Therefore, the answer is unknown.</td>\n",
       "    </tr>\n",
       "  </tbody>\n",
       "</table>\n"
      ],
      "text/plain": [
       "<pandas.io.formats.style.Styler at 0x159d33050>"
      ]
     },
     "execution_count": 21,
     "metadata": {},
     "output_type": "execute_result"
    }
   ],
   "source": [
    "df = DataFrame( \n",
    "    [ cea_2.classify_entity(woman, entity) for entity in collection ], \n",
    "    columns = [ 'entity' , 'in_extension', 'rationale' ] \n",
    "    )\n",
    "df.style.set_properties(**{\"text-align\": \"left\", \"overflow-wrap\": \"break-word\"})"
   ]
  },
  {
   "cell_type": "code",
   "execution_count": 22,
   "metadata": {},
   "outputs": [],
   "source": [
    "cea_3 = ConceptualEngineeringAssistant(model_name=\"gpt-4-0613\", temperature=0.1)"
   ]
  },
  {
   "cell_type": "code",
   "execution_count": 23,
   "metadata": {},
   "outputs": [
    {
     "data": {
      "text/html": [
       "<style type=\"text/css\">\n",
       "#T_56593_row0_col0, #T_56593_row0_col1, #T_56593_row0_col2, #T_56593_row1_col0, #T_56593_row1_col1, #T_56593_row1_col2, #T_56593_row2_col0, #T_56593_row2_col1, #T_56593_row2_col2, #T_56593_row3_col0, #T_56593_row3_col1, #T_56593_row3_col2, #T_56593_row4_col0, #T_56593_row4_col1, #T_56593_row4_col2, #T_56593_row5_col0, #T_56593_row5_col1, #T_56593_row5_col2, #T_56593_row6_col0, #T_56593_row6_col1, #T_56593_row6_col2, #T_56593_row7_col0, #T_56593_row7_col1, #T_56593_row7_col2, #T_56593_row8_col0, #T_56593_row8_col1, #T_56593_row8_col2, #T_56593_row9_col0, #T_56593_row9_col1, #T_56593_row9_col2, #T_56593_row10_col0, #T_56593_row10_col1, #T_56593_row10_col2, #T_56593_row11_col0, #T_56593_row11_col1, #T_56593_row11_col2, #T_56593_row12_col0, #T_56593_row12_col1, #T_56593_row12_col2, #T_56593_row13_col0, #T_56593_row13_col1, #T_56593_row13_col2, #T_56593_row14_col0, #T_56593_row14_col1, #T_56593_row14_col2, #T_56593_row15_col0, #T_56593_row15_col1, #T_56593_row15_col2, #T_56593_row16_col0, #T_56593_row16_col1, #T_56593_row16_col2, #T_56593_row17_col0, #T_56593_row17_col1, #T_56593_row17_col2 {\n",
       "  text-align: left;\n",
       "  overflow-wrap: break-word;\n",
       "}\n",
       "</style>\n",
       "<table id=\"T_56593\">\n",
       "  <thead>\n",
       "    <tr>\n",
       "      <th class=\"blank level0\" >&nbsp;</th>\n",
       "      <th id=\"T_56593_level0_col0\" class=\"col_heading level0 col0\" >entity</th>\n",
       "      <th id=\"T_56593_level0_col1\" class=\"col_heading level0 col1\" >in_extension</th>\n",
       "      <th id=\"T_56593_level0_col2\" class=\"col_heading level0 col2\" >rationale</th>\n",
       "    </tr>\n",
       "  </thead>\n",
       "  <tbody>\n",
       "    <tr>\n",
       "      <th id=\"T_56593_level0_row0\" class=\"row_heading level0 row0\" >0</th>\n",
       "      <td id=\"T_56593_row0_col0\" class=\"data row0 col0\" >Rosa Parks</td>\n",
       "      <td id=\"T_56593_row0_col1\" class=\"data row0 col1\" >True</td>\n",
       "      <td id=\"T_56593_row0_col2\" class=\"data row0 col2\" >Rosa Parks is a woman. She was observed to have the bodily features associated with being female, and lived in a society where these features marked her as someone who should occupy certain social positions, which were in fact subordinate. Furthermore, her being a woman played a role in her systematic subordination, as she lived in a time and place where women, and particularly black women, were oppressed. Therefore, she satisfies all the conditions of the definition.</td>\n",
       "    </tr>\n",
       "    <tr>\n",
       "      <th id=\"T_56593_level0_row1\" class=\"row_heading level0 row1\" >1</th>\n",
       "      <td id=\"T_56593_row1_col0\" class=\"data row1 col0\" >Hillary Clinton</td>\n",
       "      <td id=\"T_56593_row1_col1\" class=\"data row1 col1\" >True</td>\n",
       "      <td id=\"T_56593_row1_col2\" class=\"data row1 col2\" >Hillary Clinton is a woman. She has the bodily features associated with the female biological role in reproduction. She has also occupied social positions that, while not subordinate, have been influenced by societal expectations and ideologies about women. Furthermore, she has faced systematic subordination and oppression in various ways due to her gender, such as sexism and gender bias in politics. Therefore, she satisfies all the conditions (i), (ii), and (iii) in the definition of S, making her a(n) S.</td>\n",
       "    </tr>\n",
       "    <tr>\n",
       "      <th id=\"T_56593_level0_row2\" class=\"row_heading level0 row2\" >2</th>\n",
       "      <td id=\"T_56593_row2_col0\" class=\"data row2 col0\" >Pamela Anderson</td>\n",
       "      <td id=\"T_56593_row2_col1\" class=\"data row2 col1\" >True</td>\n",
       "      <td id=\"T_56593_row2_col2\" class=\"data row2 col2\" >Pamela Anderson is a woman. She is observed to have certain bodily features presumed to be evidence of a female’s biological role in reproduction. In the society she lives in, these features mark her as someone who ought to occupy certain kinds of social position that are in fact subordinate. Furthermore, the fact that she satisfies these conditions plays a role in her systematic subordination. Therefore, according to the given definition, Pamela Anderson is a(n) S.</td>\n",
       "    </tr>\n",
       "    <tr>\n",
       "      <th id=\"T_56593_level0_row3\" class=\"row_heading level0 row3\" >3</th>\n",
       "      <td id=\"T_56593_row3_col0\" class=\"data row3 col0\" >Lebron James</td>\n",
       "      <td id=\"T_56593_row3_col1\" class=\"data row3 col1\" >False</td>\n",
       "      <td id=\"T_56593_row3_col2\" class=\"data row3 col2\" >Lebron James does not meet the criteria outlined in the definition for being a 'woman' or 'S'. Firstly, he does not have the bodily features associated with a female's biological role in reproduction. Secondly, he does not occupy a social position that is considered subordinate within the dominant ideology of his society. Lastly, his social position is not oppressive, nor does he satisfy the conditions (i) and (ii) that would play a role in any such subordination. Therefore, Lebron James is not a 'woman' or 'S' according to this definition.</td>\n",
       "    </tr>\n",
       "    <tr>\n",
       "      <th id=\"T_56593_level0_row4\" class=\"row_heading level0 row4\" >4</th>\n",
       "      <td id=\"T_56593_row4_col0\" class=\"data row4 col0\" >Sally Haslanger</td>\n",
       "      <td id=\"T_56593_row4_col1\" class=\"data row4 col1\" >Unknown</td>\n",
       "      <td id=\"T_56593_row4_col2\" class=\"data row4 col2\" >The definition provided is a complex one that requires specific knowledge about Sally Haslanger's personal life, societal position, and experiences of subordination or oppression. Without this information, it is impossible to definitively say whether or not she fits the definition of S. Therefore, the answer is 'Unknown'.</td>\n",
       "    </tr>\n",
       "    <tr>\n",
       "      <th id=\"T_56593_level0_row5\" class=\"row_heading level0 row5\" >5</th>\n",
       "      <td id=\"T_56593_row5_col0\" class=\"data row5 col0\" >Nancy Pelosi</td>\n",
       "      <td id=\"T_56593_row5_col1\" class=\"data row5 col1\" >True</td>\n",
       "      <td id=\"T_56593_row5_col2\" class=\"data row5 col2\" >Nancy Pelosi is a woman. She is observed to have the bodily features associated with the female biological role in reproduction. In her society, these features mark her as someone who ought to occupy certain kinds of social positions. Despite the fact that these positions have historically been subordinate, Pelosi has risen to a position of significant power and influence. However, she still operates within a system that systematically subordinates women, and her gender plays a role in this dimension of subordination. Therefore, according to the given definition, Nancy Pelosi is a(n) S.</td>\n",
       "    </tr>\n",
       "    <tr>\n",
       "      <th id=\"T_56593_level0_row6\" class=\"row_heading level0 row6\" >6</th>\n",
       "      <td id=\"T_56593_row6_col0\" class=\"data row6 col0\" >Catwoman</td>\n",
       "      <td id=\"T_56593_row6_col1\" class=\"data row6 col1\" >Unknown</td>\n",
       "      <td id=\"T_56593_row6_col2\" class=\"data row6 col2\" >The definition provided is complex and involves several factors, including biological features, societal expectations, and systemic subordination. Catwoman, as a fictional character, does not have real biological features and her societal context varies depending on the interpretation of the character. Furthermore, while she is often portrayed as a subordinate character, she is also often portrayed as a powerful and independent figure. Therefore, it is not clear whether she fully meets the criteria outlined in the definition.</td>\n",
       "    </tr>\n",
       "    <tr>\n",
       "      <th id=\"T_56593_level0_row7\" class=\"row_heading level0 row7\" >7</th>\n",
       "      <td id=\"T_56593_row7_col0\" class=\"data row7 col0\" >Taylor Swift</td>\n",
       "      <td id=\"T_56593_row7_col1\" class=\"data row7 col1\" >True</td>\n",
       "      <td id=\"T_56593_row7_col2\" class=\"data row7 col2\" >Taylor Swift is a woman. She is observed to have the bodily features associated with the female biological role in reproduction. In the dominant ideology of her society, these features mark her as someone who should occupy certain social positions, although it is debatable whether these positions are subordinate. Furthermore, her gender does play a role in her social position and can contribute to certain dimensions of subordination, such as gender-based discrimination or sexism in the music industry. Therefore, according to the given definition, Taylor Swift is a(n) S.</td>\n",
       "    </tr>\n",
       "    <tr>\n",
       "      <th id=\"T_56593_level0_row8\" class=\"row_heading level0 row8\" >8</th>\n",
       "      <td id=\"T_56593_row8_col0\" class=\"data row8 col0\" >Julia Roberts</td>\n",
       "      <td id=\"T_56593_row8_col1\" class=\"data row8 col1\" >True</td>\n",
       "      <td id=\"T_56593_row8_col2\" class=\"data row8 col2\" >Julia Roberts is a woman. She is observed to have the bodily features associated with the female biological role in reproduction. In the dominant ideology of her society, these features mark her as someone who ought to occupy certain kinds of social positions that are often considered subordinate. Furthermore, these factors contribute to her systematic subordination in some aspects of her social position. Therefore, according to the given definition, Julia Roberts is a(n) S.</td>\n",
       "    </tr>\n",
       "    <tr>\n",
       "      <th id=\"T_56593_level0_row9\" class=\"row_heading level0 row9\" >9</th>\n",
       "      <td id=\"T_56593_row9_col0\" class=\"data row9 col0\" >James Earl Carter</td>\n",
       "      <td id=\"T_56593_row9_col1\" class=\"data row9 col1\" >False</td>\n",
       "      <td id=\"T_56593_row9_col2\" class=\"data row9 col2\" >James Earl Carter, also known as Jimmy Carter, the 39th President of the United States, is not a woman. He does not meet the criteria outlined in the definition. He is not observed or imagined to have the bodily features associated with a female's biological role in reproduction. Furthermore, he does not occupy a social position that is subordinate due to these features. Therefore, he does not satisfy conditions (i) and (ii) of the definition. Hence, the answer is 'False'.</td>\n",
       "    </tr>\n",
       "    <tr>\n",
       "      <th id=\"T_56593_level0_row10\" class=\"row_heading level0 row10\" >10</th>\n",
       "      <td id=\"T_56593_row10_col0\" class=\"data row10 col0\" >Peter Bogdanovich</td>\n",
       "      <td id=\"T_56593_row10_col1\" class=\"data row10 col1\" >False</td>\n",
       "      <td id=\"T_56593_row10_col2\" class=\"data row10 col2\" >Peter Bogdanovich is a well-known male film director and actor, and there is no public information to suggest that he identifies as a woman or is perceived as a woman by society. Therefore, he does not meet the criteria outlined in the definition for being a woman (or 'S'). He is not observed or imagined to have the bodily features associated with a female's biological role in reproduction, nor is he marked within the dominant ideology of his society as someone who ought to occupy certain kinds of social positions that are subordinate. Therefore, the statement is false.</td>\n",
       "    </tr>\n",
       "    <tr>\n",
       "      <th id=\"T_56593_level0_row11\" class=\"row_heading level0 row11\" >11</th>\n",
       "      <td id=\"T_56593_row11_col0\" class=\"data row11 col0\" >Elinor Ostrom</td>\n",
       "      <td id=\"T_56593_row11_col1\" class=\"data row11 col1\" >Unknown</td>\n",
       "      <td id=\"T_56593_row11_col2\" class=\"data row11 col2\" >The definition provided is a sociological and ideological definition of a woman, which includes aspects of biological characteristics, societal expectations, and systemic subordination. However, the question asks if Elinor Ostrom is an S, without providing any information about her that would allow us to apply the definition. Therefore, without additional information, the answer is 'Unknown'.</td>\n",
       "    </tr>\n",
       "    <tr>\n",
       "      <th id=\"T_56593_level0_row12\" class=\"row_heading level0 row12\" >12</th>\n",
       "      <td id=\"T_56593_row12_col0\" class=\"data row12 col0\" >Catherine of Aragon</td>\n",
       "      <td id=\"T_56593_row12_col1\" class=\"data row12 col1\" >True</td>\n",
       "      <td id=\"T_56593_row12_col2\" class=\"data row12 col2\" >Catherine of Aragon was a woman who was observed to have the bodily features associated with the female biological role in reproduction. In her society, these features marked her as someone who should occupy certain social positions, which were in fact subordinate, such as being a wife and mother. Furthermore, her satisfying these conditions played a role in her systematic subordination, as she was oppressed in certain ways due to her gender, such as being divorced by Henry VIII for not producing a male heir. Therefore, according to the given definition, Catherine of Aragon is a(n) S.</td>\n",
       "    </tr>\n",
       "    <tr>\n",
       "      <th id=\"T_56593_level0_row13\" class=\"row_heading level0 row13\" >13</th>\n",
       "      <td id=\"T_56593_row13_col0\" class=\"data row13 col0\" >Catherine the Great</td>\n",
       "      <td id=\"T_56593_row13_col1\" class=\"data row13 col1\" >Unknown</td>\n",
       "      <td id=\"T_56593_row13_col2\" class=\"data row13 col2\" >The definition provided for a woman as S is complex and involves several factors, including biological features, societal expectations, and systematic subordination. However, the question does not provide any specific information about Catherine the Great in relation to these factors. Therefore, it is impossible to definitively say whether or not she fits this definition of a woman as S. Hence, the answer is 'Unknown'.</td>\n",
       "    </tr>\n",
       "    <tr>\n",
       "      <th id=\"T_56593_level0_row14\" class=\"row_heading level0 row14\" >14</th>\n",
       "      <td id=\"T_56593_row14_col0\" class=\"data row14 col0\" >Joyce Carol Oates</td>\n",
       "      <td id=\"T_56593_row14_col1\" class=\"data row14 col1\" >True</td>\n",
       "      <td id=\"T_56593_row14_col2\" class=\"data row14 col2\" >Joyce Carol Oates is a woman. She is observed to have the bodily features associated with the female biological role in reproduction. In the society she lives in, these features mark her as someone who ought to occupy certain kinds of social positions that are often considered subordinate. Furthermore, these factors contribute to her systematic subordination in some aspects of her social position. Therefore, according to the given definition, Joyce Carol Oates is a(n) S.</td>\n",
       "    </tr>\n",
       "    <tr>\n",
       "      <th id=\"T_56593_level0_row15\" class=\"row_heading level0 row15\" >15</th>\n",
       "      <td id=\"T_56593_row15_col0\" class=\"data row15 col0\" >Sally Hemings</td>\n",
       "      <td id=\"T_56593_row15_col1\" class=\"data row15 col1\" >Unknown</td>\n",
       "      <td id=\"T_56593_row15_col2\" class=\"data row15 col2\" >The definition provided does not give enough specific information about who or what \"S\" is, making it impossible to definitively determine whether Sally Hemings, a historical figure known for her involvement with Thomas Jefferson, fits this definition. Furthermore, the definition seems to be describing a sociological concept or category rather than a specific individual. Without more context or specific details about \"S\", it is impossible to accurately answer this question.</td>\n",
       "    </tr>\n",
       "    <tr>\n",
       "      <th id=\"T_56593_level0_row16\" class=\"row_heading level0 row16\" >16</th>\n",
       "      <td id=\"T_56593_row16_col0\" class=\"data row16 col0\" >Caitlyn Jenner</td>\n",
       "      <td id=\"T_56593_row16_col1\" class=\"data row16 col1\" >True</td>\n",
       "      <td id=\"T_56593_row16_col2\" class=\"data row16 col2\" >Caitlyn Jenner is considered a woman, or S, according to the given definition. She is observed and imagined to have certain bodily features associated with the female biological role in reproduction due to her transition. She is marked within the dominant ideology of her society as someone who ought to occupy certain kinds of social position that are in fact subordinate, as evidenced by the societal expectations and prejudices faced by transgender women. The fact that she satisfies both conditions plays a role in her systematic subordination, as transgender women often face discrimination and oppression.</td>\n",
       "    </tr>\n",
       "    <tr>\n",
       "      <th id=\"T_56593_level0_row17\" class=\"row_heading level0 row17\" >17</th>\n",
       "      <td id=\"T_56593_row17_col0\" class=\"data row17 col0\" >Kamala Harris</td>\n",
       "      <td id=\"T_56593_row17_col1\" class=\"data row17 col1\" >True</td>\n",
       "      <td id=\"T_56593_row17_col2\" class=\"data row17 col2\" >Kamala Harris is a woman. She is observed to have the bodily features associated with the female biological role in reproduction. In her society, these features mark her as someone who, according to the dominant ideology, should occupy certain social positions. While these positions have historically been subordinate, it is important to note that Kamala Harris occupies a very high social position as Vice President of the United States. However, the fact that she is a woman has played a role in her experiences of systematic subordination, such as sexism and gender discrimination. Therefore, according to the given definition, Kamala Harris is a(n) S.</td>\n",
       "    </tr>\n",
       "  </tbody>\n",
       "</table>\n"
      ],
      "text/plain": [
       "<pandas.io.formats.style.Styler at 0x15a6f4d10>"
      ]
     },
     "execution_count": 23,
     "metadata": {},
     "output_type": "execute_result"
    }
   ],
   "source": [
    "df = DataFrame( \n",
    "    [ cea_3.classify_entity(woman, entity) for entity in collection ], \n",
    "    columns = [ 'entity' , 'in_extension', 'rationale' ] \n",
    "    )\n",
    "df.style.set_properties(**{\"text-align\": \"left\", \"overflow-wrap\": \"break-word\"})"
   ]
  }
 ],
 "metadata": {
  "kernelspec": {
   "display_name": "conceptual-engineering-using-llms",
   "language": "python",
   "name": "python3"
  },
  "language_info": {
   "codemirror_mode": {
    "name": "ipython",
    "version": 3
   },
   "file_extension": ".py",
   "mimetype": "text/x-python",
   "name": "python",
   "nbconvert_exporter": "python",
   "pygments_lexer": "ipython3",
   "version": "3.11.4"
  },
  "orig_nbformat": 4
 },
 "nbformat": 4,
 "nbformat_minor": 2
}
