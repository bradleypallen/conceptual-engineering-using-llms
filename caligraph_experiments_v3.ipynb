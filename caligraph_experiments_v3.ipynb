{
 "cells": [
  {
   "cell_type": "code",
   "execution_count": 1,
   "metadata": {},
   "outputs": [],
   "source": [
    "import json, pycm, pandas as pd\n",
    "from nl_classifier import NaturalLanguageClassifer\n",
    "from datetime import datetime"
   ]
  },
  {
   "cell_type": "code",
   "execution_count": 2,
   "metadata": {},
   "outputs": [],
   "source": [
    "MODEL_NAME = 'gpt-4'\n",
    "TEMPERATURE = 0.1\n",
    "RESULTS_FILENAME = 'caligraph_gpt-4_serialization_results.json'"
   ]
  },
  {
   "cell_type": "code",
   "execution_count": 3,
   "metadata": {},
   "outputs": [],
   "source": [
    "experiments = json.load(open(RESULTS_FILENAME, 'r'))"
   ]
  },
  {
   "cell_type": "code",
   "execution_count": 4,
   "metadata": {},
   "outputs": [
    {
     "name": "stdout",
     "output_type": "stream",
     "text": [
      "01: Argentine football manager     http://caligraph.org/ontology/Argentine_football_manager SKIPPING\n",
      "02: Populated place in Luxembourg  http://caligraph.org/ontology/Populated_place_in_Luxembourg SKIPPING\n",
      "03: Single-camera television sitcom http://caligraph.org/ontology/Single-camera_television_sitcom\n",
      "   01: Great News                     http://caligraph.org/resource/Great_News      SKIPPING\n",
      "   02: Parks and Recreation           http://caligraph.org/resource/Parks_and_Recreation SKIPPING\n",
      "   03: The Patty Duke Show            http://caligraph.org/resource/The_Patty_Duke_Show SKIPPING\n",
      "   04: The Smothers Brothers Show     http://caligraph.org/resource/The_Smothers_Brothers_Show SKIPPING\n",
      "   05: Blandings (TV series)          http://caligraph.org/resource/Blandings_(TV_series) SKIPPING\n",
      "   06: Clueless (TV series)           http://caligraph.org/resource/Clueless_(TV_series) SKIPPING\n",
      "   07: Community (TV series)          http://caligraph.org/resource/Community_(TV_series) SKIPPING\n",
      "   08: Kaya (TV series)               http://caligraph.org/resource/Kaya_(TV_series) SKIPPING\n",
      "   09: Næturvaktin                    http://caligraph.org/resource/N%C3%A6turvaktin SKIPPING\n",
      "   10: Cooper Barrett's Guide to Surviving Life http://caligraph.org/resource/Cooper_Barrett's_Guide_to_Surviving_Life SKIPPING\n",
      "   11: Hatching, Matching and Dispatching http://caligraph.org/resource/Hatching,_Matching_and_Dispatching SKIPPING\n",
      "   12: Head Case                      http://caligraph.org/resource/Head_Case       SKIPPING\n",
      "   13: Lockie Leonard (TV series)     http://caligraph.org/resource/Lockie_Leonard_(TV_series) SKIPPING\n",
      "   14: Tabitha (TV series)            http://caligraph.org/resource/Tabitha_(TV_series) SKIPPING\n",
      "   15: Andi Mack                      http://caligraph.org/resource/Andi_Mack       SKIPPING\n",
      "   16: Black-ish                      http://caligraph.org/resource/Black-ish       SKIPPING\n",
      "   17: Leap of Faith (TV series)      http://caligraph.org/resource/Leap_of_Faith_(TV_series) SKIPPING\n",
      "   18: Powerless (TV series)          http://caligraph.org/resource/Powerless_(TV_series) positive   00946 tokens  \n",
      "   19: Extras (TV series)             http://caligraph.org/resource/Extras_(TV_series) positive   00943 tokens  \n",
      "   20: Gabby Duran & the Unsittables  http://caligraph.org/resource/Gabby_Duran_&_the_Unsittables positive   01094 tokens  \n",
      "   21: A Man and His Music – Part II  http://caligraph.org/resource/A_Man_and_His_Music_%E2%80%93_Part_II negative   01095 tokens  \n",
      "   22: Aik Larki Aam Si               http://caligraph.org/resource/Aik_Larki_Aam_Si negative   00839 tokens  \n",
      "   23: Bang Bang (TV series)          http://caligraph.org/resource/Bang_Bang_(TV_series) negative   00831 tokens  \n",
      "   24: Burning Hands                  http://caligraph.org/resource/Burning_Hands   negative   00773 tokens  \n",
      "   25: Caminemos                      http://caligraph.org/resource/Caminemos       negative   00782 tokens  \n",
      "   26: Diggstown (TV series)          http://caligraph.org/resource/Diggstown_(TV_series) negative   00844 tokens  \n",
      "   27: Diggstown (TV series)          http://caligraph.org/resource/Diggstown_(TV_series) negative   00844 tokens  \n",
      "   28: El amor está de moda           http://caligraph.org/resource/El_amor_est%C3%A1_de_moda negative   00918 tokens  \n",
      "   29: In Cold Blood (miniseries)     http://caligraph.org/resource/In_Cold_Blood_(miniseries) negative   01034 tokens  \n",
      "   30: Romina (TV series)             http://caligraph.org/resource/Romina_(TV_series) negative   00622 tokens  \n",
      "   31: Solvathellam Unmai (TV series) http://caligraph.org/resource/Solvathellam_Unmai_(TV_series) negative   00945 tokens  \n",
      "   32: Sykes (TV series)              http://caligraph.org/resource/Sykes_(TV_series) negative   00966 tokens  \n",
      "   33: The Amazing Race Canada 2      http://caligraph.org/resource/The_Amazing_Race_Canada_2 negative   01089 tokens  \n",
      "   34: The Amazing Race Canada 2      http://caligraph.org/resource/The_Amazing_Race_Canada_2 negative   01089 tokens  \n",
      "   35: The Amazing Race Canada 2      http://caligraph.org/resource/The_Amazing_Race_Canada_2 negative   01089 tokens  \n",
      "   36: The Amazing Race Canada 2      http://caligraph.org/resource/The_Amazing_Race_Canada_2 negative   01089 tokens  \n",
      "   37: The Patient                    http://caligraph.org/resource/The_Patient     negative   01021 tokens  \n",
      "   38: Vecinos (Colombian TV series)  http://caligraph.org/resource/Vecinos_(Colombian_TV_series) negative   00890 tokens  \n",
      "   39: Vecinos (Colombian TV series)  http://caligraph.org/resource/Vecinos_(Colombian_TV_series) negative   00890 tokens  \n",
      "   40: Villains (TV series)           http://caligraph.org/resource/Villains_(TV_series) negative   00860 tokens  \n",
      "04: State leader in 2014           http://caligraph.org/ontology/State_leader_in_2014 SKIPPING\n",
      "05: Hill station in India          http://caligraph.org/ontology/Hill_station_in_India SKIPPING\n",
      "06: Newspaper in New South Wales   http://caligraph.org/ontology/Newspaper_in_New_South_Wales SKIPPING\n",
      "07: FK Sarajevo player             http://caligraph.org/ontology/FK_Sarajevo_player SKIPPING\n",
      "08: Medalist at the 2019 Summer Universiade http://caligraph.org/ontology/Medalist_at_the_2019_Summer_Universiade SKIPPING\n",
      "09: Romania international rugby union player http://caligraph.org/ontology/Romania_international_rugby_union_player SKIPPING\n",
      "10: 1921 film                      http://caligraph.org/ontology/1921_film SKIPPING\n",
      "11: Player of American football from Alabama http://caligraph.org/ontology/Player_of_American_football_from_Alabama SKIPPING\n",
      "12: Member of the European Parliament, 1989–1994 http://caligraph.org/ontology/Member_of_the_European_Parliament,_1989%E2%80%931994 SKIPPING\n",
      "13: 21st-century American drummer  http://caligraph.org/ontology/21st-century_American_drummer SKIPPING\n",
      "14: 2017 video game                http://caligraph.org/ontology/2017_video_game SKIPPING\n",
      "15: 1748 birth                     http://caligraph.org/ontology/1748_birth SKIPPING\n",
      "16: Clube Náutico Capibaribe player http://caligraph.org/ontology/Clube_N%C3%A1utico_Capibaribe_player SKIPPING\n",
      "17: Member of the House of Representatives of Japan, 2003–2005 http://caligraph.org/ontology/Member_of_the_House_of_Representatives_of_Japan,_2003%E2%80%932005 SKIPPING\n",
      "18: PlayStation VR game            http://caligraph.org/ontology/PlayStation_VR_game SKIPPING\n",
      "19: England under-21 international footballer http://caligraph.org/ontology/England_under-21_international_footballer SKIPPING\n",
      "20: Autobiography                  http://caligraph.org/ontology/Autobiography SKIPPING\n"
     ]
    }
   ],
   "source": [
    "for i, experiment in enumerate(experiments):\n",
    "    cls = experiment[\"concept\"]\n",
    "    if \"created\" in experiment:\n",
    "        print(f'{i+1:02}: {cls[\"label\"]:30} {cls[\"id\"]} SKIPPING')\n",
    "    else:\n",
    "        classifier = NaturalLanguageClassifer(cls[\"id\"], cls[\"label\"], cls[\"serialization\"], MODEL_NAME, TEMPERATURE)\n",
    "        print(f'{i+1:02}: {cls[\"label\"]:30} {cls[\"id\"]}')\n",
    "        data = experiment[\"data\"]\n",
    "        for j, entity in enumerate(data):\n",
    "            if \"predicted\" in entity:\n",
    "                print(f'   {j+1:02}: {entity[\"label\"]:30} {entity[\"id\"]:45} SKIPPING')\n",
    "            else:\n",
    "                print(f'   {j+1:02}: {entity[\"label\"]:30} {entity[\"id\"]:45} {entity[\"actual\"]:10} {classifier.tokens_used(entity[\"label\"] + \" \" + entity[\"serialization\"]):05} tokens ', end=\" \")\n",
    "                classification = classifier.classify(entity[\"label\"], entity[\"serialization\"])\n",
    "                entity[\"predicted\"] = classification[\"predicted\"].lower()\n",
    "                if entity[\"actual\"] != entity[\"predicted\"]:\n",
    "                    if entity[\"actual\"] == \"positive\":\n",
    "                        print(\"FN\")\n",
    "                    else:\n",
    "                        print(\"FP\")\n",
    "                else:\n",
    "                    print(\"\")\n",
    "                entity[\"rationale\"] = classification[\"rationale\"]\n",
    "            df_results = pd.DataFrame.from_records(data)\n",
    "            cm = pycm.ConfusionMatrix(df_results[\"actual\"].tolist(), df_results[\"predicted\"].tolist(), digit=2, classes=[ 'positive', 'negative' ])\n",
    "            experiment[\"confusion_matrix\"] = cm.matrix\n",
    "            experiment[\"created\"] = datetime.now().isoformat()\n",
    "            json.dump(experiments, open(RESULTS_FILENAME, 'w+'))\n"
   ]
  }
 ],
 "metadata": {
  "kernelspec": {
   "display_name": "conceptual-engineering-using-llms",
   "language": "python",
   "name": "python3"
  },
  "language_info": {
   "codemirror_mode": {
    "name": "ipython",
    "version": 3
   },
   "file_extension": ".py",
   "mimetype": "text/x-python",
   "name": "python",
   "nbconvert_exporter": "python",
   "pygments_lexer": "ipython3",
   "version": "3.11.4"
  },
  "orig_nbformat": 4
 },
 "nbformat": 4,
 "nbformat_minor": 2
}
