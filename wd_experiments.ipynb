{
 "cells": [
  {
   "cell_type": "code",
   "execution_count": 1,
   "metadata": {},
   "outputs": [],
   "source": [
    "import json, requests, time, wikipedia, pycm, numpy as np, pandas as pd, matplotlib.pyplot as plt, seaborn as sns\n",
    "from conceptual_engineering_toolkit import Benchmark, Experiment\n",
    "from string import Template\n",
    "from pathlib import Path"
   ]
  },
  {
   "cell_type": "code",
   "execution_count": 49,
   "metadata": {},
   "outputs": [],
   "source": [
    "def qid(wd_url):\n",
    "    return wd_url.removeprefix(\"http://www.wikidata.org/entity/\")\n",
    "\n",
    "def concept_to_yaml(cls):\n",
    "    concept_template = Template(\"\"\"id: \"$id\"\n",
    "label: \"$label\"\n",
    "definition: \"$definition\"\n",
    "reference: \"$reference\"\n",
    "\"\"\")\n",
    "    concept_yaml = concept_template.substitute({\n",
    "        \"id\": qid(cls[\"class\"]), \n",
    "        \"label\": cls[\"classLabel\"], \n",
    "        \"definition\": wikipedia.summary(cls[\"classWikipediaName\"], auto_suggest=False).replace('\"', r'\\\"'),\n",
    "        \"reference\": cls[\"classArticle\"]\n",
    "        })\n",
    "    return concept_yaml\n",
    "\n",
    "def class_positives_query(cls):\n",
    "    query_template = Template(\"\"\"SELECT ?item ?name ?article WHERE {\n",
    "    ?item p:P31/ps:P31/wdt:P279* wd:$classId .\n",
    "    ?article schema:about ?item ;\n",
    "            schema:inLanguage \"en\" ;\n",
    "            schema:isPartOf <https://en.wikipedia.org/> ;\n",
    "            schema:name ?name .\n",
    "}\"\"\")\n",
    "    query = query_template.substitute({ \"classId\": qid(cls[\"class\"]), })\n",
    "    return query\n",
    "\n",
    "def class_negatives_query(cls):\n",
    "    query_template = Template(\"\"\"SELECT ?item ?name ?article WHERE {\n",
    "    ?item p:P31/ps:P31/wdt:P279* wd:$superclassId .\n",
    "    ?article schema:about ?item ;\n",
    "            schema:inLanguage \"en\" ;\n",
    "            schema:isPartOf <https://en.wikipedia.org/> ;\n",
    "            schema:name ?name .\n",
    "    FILTER NOT EXISTS { ?item p:P31/ps:P31/wdt:P279* wd:$classId }\n",
    "}\"\"\")\n",
    "    query = query_template.substitute({ \"classId\": qid(cls[\"class\"]), \"superclassId\": qid(cls[\"superclass\"]), })\n",
    "    return query\n",
    "\n",
    "def run_wd_experiment(cls, limit=50):\n",
    "    dir = f'wd_experiments/{qid(cls[\"class\"])}'\n",
    "    def_file = Path(f'{dir}/definition.yaml')\n",
    "    def_file.parent.mkdir(parents=True, exist_ok=True)\n",
    "    pos_file = Path(f'{dir}/positives.sparql')\n",
    "    neg_file = Path(f'{dir}/negatives.sparql')\n",
    "    def_file.write_text(concept_to_yaml(cls))\n",
    "    pos_file.write_text(class_positives_query(cls))\n",
    "    neg_file.write_text(class_negatives_query(cls))\n",
    "    benchmark = Benchmark(qid(cls[\"class\"]), f'{dir}/positives.sparql', f'{dir}/negatives.sparql', limit=limit)  \n",
    "    benchmark.retrieve()\n",
    "    data_file = benchmark.save(benchmark_dir='wd_experiments')\n",
    "    experiment = Experiment(data_file, def_file, \"gpt-4\")\n",
    "    sample = experiment.sample(n=20)\n",
    "    experiment.run(sample)\n",
    "    experiment_file = experiment.save(experiment_dir=dir)\n",
    "    return experiment_file"
   ]
  },
  {
   "cell_type": "code",
   "execution_count": 8,
   "metadata": {},
   "outputs": [
    {
     "data": {
      "text/plain": [
       "533"
      ]
     },
     "execution_count": 8,
     "metadata": {},
     "output_type": "execute_result"
    }
   ],
   "source": [
    "candidates = json.load(open('benchmarks/candidates.json', 'r'))\n",
    "len(candidates)"
   ]
  },
  {
   "cell_type": "code",
   "execution_count": 58,
   "metadata": {},
   "outputs": [
    {
     "name": "stderr",
     "output_type": "stream",
     "text": [
      "/Users/bradleyallen/Documents/GitHub/conceptual-engineering-using-llms/lib/python3.11/site-packages/wikipedia/wikipedia.py:389: GuessedAtParserWarning: No parser was explicitly specified, so I'm using the best available HTML parser for this system (\"lxml\"). This usually isn't a problem, but if you run this code on another system, or in a different virtual environment, it may use a different parser and behave differently.\n",
      "\n",
      "The code that caused this warning is on line 389 of the file /Users/bradleyallen/Documents/GitHub/conceptual-engineering-using-llms/lib/python3.11/site-packages/wikipedia/wikipedia.py. To get rid of this warning, pass the additional argument 'features=\"lxml\"' to the BeautifulSoup constructor.\n",
      "\n",
      "  lis = BeautifulSoup(html).find_all('li')\n"
     ]
    }
   ],
   "source": [
    "experiment_file = run_wd_experiment(candidates[287])"
   ]
  }
 ],
 "metadata": {
  "kernelspec": {
   "display_name": "conceptual-engineering-using-llms",
   "language": "python",
   "name": "python3"
  },
  "language_info": {
   "codemirror_mode": {
    "name": "ipython",
    "version": 3
   },
   "file_extension": ".py",
   "mimetype": "text/x-python",
   "name": "python",
   "nbconvert_exporter": "python",
   "pygments_lexer": "ipython3",
   "version": "3.11.4"
  },
  "orig_nbformat": 4
 },
 "nbformat": 4,
 "nbformat_minor": 2
}
