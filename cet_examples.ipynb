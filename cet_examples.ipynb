{
 "cells": [
  {
   "cell_type": "code",
   "execution_count": 1,
   "metadata": {},
   "outputs": [],
   "source": [
    "from conceptual_engineering_toolkit import Concept, Entity\n",
    "from pandas import DataFrame"
   ]
  },
  {
   "cell_type": "code",
   "execution_count": 2,
   "metadata": {},
   "outputs": [],
   "source": [
    "bird = Concept(\"bird1\", \"bird\", \"an animal that flies and has wings\")\n",
    "bat = Entity(\"entity1\", \"bat\")"
   ]
  },
  {
   "cell_type": "code",
   "execution_count": 3,
   "metadata": {},
   "outputs": [
    {
     "data": {
      "text/plain": [
       "{'id': 'bird1',\n",
       " 'label': 'bird',\n",
       " 'definition': 'an animal that flies and has wings',\n",
       " 'model_name': 'gpt-4',\n",
       " 'temperature': 0.1}"
      ]
     },
     "execution_count": 3,
     "metadata": {},
     "output_type": "execute_result"
    }
   ],
   "source": [
    "bird.to_json()"
   ]
  },
  {
   "cell_type": "code",
   "execution_count": 4,
   "metadata": {},
   "outputs": [
    {
     "data": {
      "text/plain": [
       "{'label': 'bird',\n",
       " 'definition': 'an animal that flies and has wings',\n",
       " 'entity': 'bat',\n",
       " 'description': '',\n",
       " 'rationale': 'Based on the given definition, a bird is an animal that flies and has wings. A bat is an entity that also has the ability to fly and has wings. Therefore, using only the information from the provided definition, one could argue that a bat fits the criteria and could be considered a bird.',\n",
       " 'classification': 'true'}"
      ]
     },
     "execution_count": 4,
     "metadata": {},
     "output_type": "execute_result"
    }
   ],
   "source": [
    "bird.classify_entity(bat)"
   ]
  },
  {
   "cell_type": "code",
   "execution_count": 5,
   "metadata": {},
   "outputs": [
    {
     "data": {
      "text/plain": [
       "{'label': 'bird',\n",
       " 'definition': 'an animal that flies and has wings',\n",
       " 'rationale': 'A penguin is a counterexample to the given definition of a bird. Penguins are widely recognized as birds, yet they do not fly. They do have wings, but these are adapted for swimming rather than flight. Therefore, the definition of a bird as \"an animal that flies and has wings\" is not entirely accurate, as it excludes penguins and potentially other flightless bird species.',\n",
       " 'counterexample': 'Penguin'}"
      ]
     },
     "execution_count": 5,
     "metadata": {},
     "output_type": "execute_result"
    }
   ],
   "source": [
    "counterexample = bird.propose_counterexample()\n",
    "counterexample"
   ]
  },
  {
   "cell_type": "code",
   "execution_count": 6,
   "metadata": {},
   "outputs": [
    {
     "data": {
      "text/plain": [
       "{'label': 'bird',\n",
       " 'definition': 'an animal that flies and has wings',\n",
       " 'rationale': 'A penguin is a counterexample to the given definition of a bird. Penguins are widely recognized as birds, yet they do not fly. They do have wings, but these are adapted for swimming rather than flight. Therefore, the definition of a bird as \"an animal that flies and has wings\" is not entirely accurate, as it excludes penguins and potentially other flightless bird species.',\n",
       " 'counterexample': 'Penguin',\n",
       " 'support': 'The counterexample of a penguin is valid because it directly contradicts the given definition of a bird. According to the definition, a bird is an animal that flies and has wings. However, penguins, while they do have wings, do not fly. Instead, they use their wings for swimming. This shows that not all birds fly, which means the definition is not accurate. Therefore, the counterexample of a penguin is valid because it demonstrates that the definition of a bird as an animal that flies and has wings is too narrow and does not encompass all types of birds.',\n",
       " 'revision': 'A bird is an animal that has wings and is capable of flight or adapted for swimming or running.'}"
      ]
     },
     "execution_count": 6,
     "metadata": {},
     "output_type": "execute_result"
    }
   ],
   "source": [
    "revision = bird.revise_definition(counterexample)\n",
    "revision"
   ]
  },
  {
   "cell_type": "code",
   "execution_count": 7,
   "metadata": {},
   "outputs": [
    {
     "data": {
      "text/plain": [
       "{'label': 'bird',\n",
       " 'definition': 'an animal that flies and has wings',\n",
       " 'rationale': 'A penguin is a counterexample to the given definition of a bird. Penguins are widely recognized as birds, yet they do not fly. They do have wings, but these are adapted for swimming rather than flight. Therefore, the definition of a bird as \"an animal that flies and has wings\" is not entirely accurate, as it excludes penguins and potentially other flightless bird species.',\n",
       " 'counterexample': 'Penguin',\n",
       " 'refutation': 'The counterexample of a penguin is invalid because the definition of a bird as \"an animal that flies and has wings\" does not explicitly state that the wings must be used for flight. While it is true that penguins do not fly in the traditional sense, they do have wings and use these wings for a form of movement (swimming) that is analogous to flight in the water. Therefore, penguins do fit the given definition of a bird. The definition does not exclude flightless birds, but rather includes them under a broader interpretation of \"flies\".',\n",
       " 'accepted': 'false'}"
      ]
     },
     "execution_count": 7,
     "metadata": {},
     "output_type": "execute_result"
    }
   ],
   "source": [
    "refutation = bird.refute_counterexample(counterexample)\n",
    "refutation"
   ]
  },
  {
   "cell_type": "code",
   "execution_count": 8,
   "metadata": {},
   "outputs": [],
   "source": [
    "bird = Concept(\"bird2\", \"bird\", revision[\"revision\"])"
   ]
  },
  {
   "cell_type": "code",
   "execution_count": 9,
   "metadata": {},
   "outputs": [
    {
     "data": {
      "text/plain": [
       "{'label': 'bird',\n",
       " 'definition': 'A bird is an animal that has wings and is capable of flight or adapted for swimming or running.',\n",
       " 'rationale': 'A counterexample to the given definition of a bird could be a penguin. According to the definition, a bird is an animal that has wings and is capable of flight or adapted for swimming or running. While a penguin does have wings and is adapted for swimming, it is not capable of flight. Therefore, according to the given definition, a penguin would not be considered a bird. However, in common understanding and biological classification, a penguin is indeed a bird. This suggests that the definition is too narrow and does not accurately capture all entities that fall under the concept of a bird.',\n",
       " 'counterexample': 'Penguin'}"
      ]
     },
     "execution_count": 9,
     "metadata": {},
     "output_type": "execute_result"
    }
   ],
   "source": [
    "counterexample = bird.propose_counterexample()\n",
    "counterexample"
   ]
  },
  {
   "cell_type": "code",
   "execution_count": 12,
   "metadata": {},
   "outputs": [
    {
     "data": {
      "text/plain": [
       "{'label': 'bird',\n",
       " 'definition': 'A bird is an animal that has wings and is capable of flight or adapted for swimming or running.',\n",
       " 'rationale': 'A counterexample to the given definition of a bird could be a penguin. According to the definition, a bird is an animal that has wings and is capable of flight or adapted for swimming or running. While a penguin does have wings and is adapted for swimming, it is not capable of flight. Therefore, according to the given definition, a penguin would not be considered a bird. However, in common understanding and biological classification, a penguin is indeed a bird. This suggests that the definition is too narrow and does not accurately capture all entities that fall under the concept of a bird.',\n",
       " 'counterexample': 'Penguin',\n",
       " 'support': \"The counterexample of a penguin is valid because it directly contradicts the given definition of a bird. According to the definition, a bird is an animal that has wings and is capable of flight or adapted for swimming or running. While a penguin does have wings and is adapted for swimming, it is not capable of flight. This directly contradicts the definition's requirement that a bird must be capable of flight. Therefore, the counterexample of a penguin is valid because it shows that the definition is too narrow and does not accurately capture all entities that fall under the concept of a bird.\",\n",
       " 'revision': 'A bird is an animal that has wings and is either capable of flight, adapted for swimming, or adapted for running.'}"
      ]
     },
     "execution_count": 12,
     "metadata": {},
     "output_type": "execute_result"
    }
   ],
   "source": [
    "revision = bird.revise_definition(counterexample)\n",
    "revision"
   ]
  },
  {
   "cell_type": "code",
   "execution_count": 13,
   "metadata": {},
   "outputs": [],
   "source": [
    "bird = Concept(\"bird3\", \"bird\", revision[\"revision\"])"
   ]
  },
  {
   "cell_type": "code",
   "execution_count": 14,
   "metadata": {},
   "outputs": [
    {
     "data": {
      "text/plain": [
       "{'label': 'bird',\n",
       " 'definition': 'A bird is an animal that has wings and is either capable of flight, adapted for swimming, or adapted for running.',\n",
       " 'rationale': 'A counterexample to the given definition of a bird could be a kiwi. A kiwi is widely recognized as a bird, however, it does not fit the provided definition. Kiwis do have wings, but they are tiny and not used for flight, swimming, or running. Instead, kiwis are known for their strong legs and long beaks which they use for foraging. Therefore, the definition is not comprehensive enough as it fails to include birds like kiwis that do not use their wings for flight, swimming, or running.',\n",
       " 'counterexample': 'Kiwi'}"
      ]
     },
     "execution_count": 14,
     "metadata": {},
     "output_type": "execute_result"
    }
   ],
   "source": [
    "counterexample = bird.propose_counterexample()\n",
    "counterexample"
   ]
  },
  {
   "cell_type": "code",
   "execution_count": 15,
   "metadata": {},
   "outputs": [],
   "source": [
    "haslanger_woman_definition = \"\"\"S is a woman iff (i) S is regularly and for the most part observed or imagined to have \n",
    "certain bodily features presumed to be evidence of a female’s biological role in reproduction; \n",
    "(ii) that S has these features marks S within the dominant ideology of S’s society as someone who \n",
    "ought to occupy certain kinds of social position that are in fact subordinate (and so motivates \n",
    "and justifies S’s occupying such a position); and (iii) the fact that S satisfies (I) and (ii) plays \n",
    "a role in S’s systematic subordination, that is, along some dimension, S’s social position is oppressive, \n",
    "and S’s satisfying (i) and (ii) plays a role in that dimension of subordination\"\"\""
   ]
  },
  {
   "cell_type": "code",
   "execution_count": 16,
   "metadata": {},
   "outputs": [],
   "source": [
    "woman = Concept(\"haslanger_woman\", \"woman\", haslanger_woman_definition)\n",
    "entity = Entity(\"entity2\", \"Rosa Parks\")"
   ]
  },
  {
   "cell_type": "code",
   "execution_count": 17,
   "metadata": {},
   "outputs": [
    {
     "data": {
      "text/plain": [
       "{'label': 'woman',\n",
       " 'definition': 'S is a woman iff (i) S is regularly and for the most part observed or imagined to have \\ncertain bodily features presumed to be evidence of a female’s biological role in reproduction; \\n(ii) that S has these features marks S within the dominant ideology of S’s society as someone who \\nought to occupy certain kinds of social position that are in fact subordinate (and so motivates \\nand justifies S’s occupying such a position); and (iii) the fact that S satisfies (I) and (ii) plays \\na role in S’s systematic subordination, that is, along some dimension, S’s social position is oppressive, \\nand S’s satisfying (i) and (ii) plays a role in that dimension of subordination',\n",
       " 'entity': 'Rosa Parks',\n",
       " 'description': '',\n",
       " 'rationale': \"Rosa Parks is a woman because she was regularly observed to have certain bodily features presumed to be evidence of a female's biological role in reproduction, marking her as female within her society. This marked her within the dominant ideology of her society as someone who ought to occupy certain kinds of social positions that were in fact subordinate, such as being expected to give up her seat on a bus for a white person during the era of racial segregation in the United States. This fact played a role in her systematic subordination, as her social position was oppressive due to her gender and race. Therefore, according to the given definition, Rosa Parks is a woman.\",\n",
       " 'classification': 'true'}"
      ]
     },
     "execution_count": 17,
     "metadata": {},
     "output_type": "execute_result"
    }
   ],
   "source": [
    "woman.classify_entity(entity)"
   ]
  },
  {
   "cell_type": "code",
   "execution_count": 18,
   "metadata": {},
   "outputs": [
    {
     "data": {
      "text/plain": [
       "{'label': 'woman',\n",
       " 'definition': 'S is a woman iff (i) S is regularly and for the most part observed or imagined to have \\ncertain bodily features presumed to be evidence of a female’s biological role in reproduction; \\n(ii) that S has these features marks S within the dominant ideology of S’s society as someone who \\nought to occupy certain kinds of social position that are in fact subordinate (and so motivates \\nand justifies S’s occupying such a position); and (iii) the fact that S satisfies (I) and (ii) plays \\na role in S’s systematic subordination, that is, along some dimension, S’s social position is oppressive, \\nand S’s satisfying (i) and (ii) plays a role in that dimension of subordination',\n",
       " 'rationale': 'The counterexample I would propose is a transgender woman. A transgender woman may not have the biological features associated with the female role in reproduction, thus not satisfying condition (i). However, she identifies as a woman and is recognized as such in her society, often occupying the social positions associated with women, thus satisfying condition (ii). Furthermore, transgender women often face systematic subordination and oppression due to their gender identity, thus satisfying condition (iii). Therefore, even though a transgender woman does not meet all the conditions of the definition, she is still considered a woman in her society and by herself, making her a valid counterexample to the given definition.',\n",
       " 'counterexample': 'Transgender Woman'}"
      ]
     },
     "execution_count": 18,
     "metadata": {},
     "output_type": "execute_result"
    }
   ],
   "source": [
    "counterexample = woman.propose_counterexample()\n",
    "counterexample"
   ]
  },
  {
   "cell_type": "code",
   "execution_count": 19,
   "metadata": {},
   "outputs": [
    {
     "data": {
      "text/plain": [
       "{'label': 'woman',\n",
       " 'definition': 'S is a woman iff (i) S is regularly and for the most part observed or imagined to have \\ncertain bodily features presumed to be evidence of a female’s biological role in reproduction; \\n(ii) that S has these features marks S within the dominant ideology of S’s society as someone who \\nought to occupy certain kinds of social position that are in fact subordinate (and so motivates \\nand justifies S’s occupying such a position); and (iii) the fact that S satisfies (I) and (ii) plays \\na role in S’s systematic subordination, that is, along some dimension, S’s social position is oppressive, \\nand S’s satisfying (i) and (ii) plays a role in that dimension of subordination',\n",
       " 'rationale': 'The counterexample I would propose is a transgender woman. A transgender woman may not have the biological features associated with the female role in reproduction, thus not satisfying condition (i). However, she identifies as a woman and is recognized as such in her society, often occupying the social positions associated with women, thus satisfying condition (ii). Furthermore, transgender women often face systematic subordination and oppression due to their gender identity, thus satisfying condition (iii). Therefore, even though a transgender woman does not meet all the conditions of the definition, she is still considered a woman in her society and by herself, making her a valid counterexample to the given definition.',\n",
       " 'counterexample': 'Transgender Woman',\n",
       " 'refutation': 'The counterexample of a transgender woman does not invalidate the definition of a woman as provided. The definition does not explicitly state that a woman must have been born with the biological features associated with the female role in reproduction. Instead, it states that a woman is \"regularly and for the most part observed or imagined to have certain bodily features presumed to be evidence of a female’s biological role in reproduction.\" This can be interpreted to include transgender women who, through hormone replacement therapy or surgery, have acquired or are imagined to have the bodily features associated with the female role in reproduction. \\n\\nFurthermore, the definition emphasizes the societal and ideological aspects of womanhood, which a transgender woman fulfills. She is marked within her society as someone who ought to occupy certain kinds of social positions that are in fact subordinate, and her gender identity plays a role in her systematic subordination. Therefore, a transgender woman can indeed fit within the provided definition of a woman.',\n",
       " 'accepted': 'False'}"
      ]
     },
     "execution_count": 19,
     "metadata": {},
     "output_type": "execute_result"
    }
   ],
   "source": [
    "refutation = woman.refute_counterexample(counterexample)\n",
    "refutation"
   ]
  },
  {
   "cell_type": "code",
   "execution_count": 20,
   "metadata": {},
   "outputs": [],
   "source": [
    "collection = [\n",
    "    \"Rosa Parks\",\n",
    "    \"Hillary Clinton\",\n",
    "    \"Pamela Anderson\",\n",
    "    \"Lebron James\",\n",
    "    \"Sally Haslanger\",\n",
    "    \"Nancy Pelosi\",\n",
    "    \"Catwoman\",\n",
    "    \"Taylor Swift\",\n",
    "    \"Julia Roberts\",\n",
    "    \"James Earl Carter\",\n",
    "    \"Peter Bogdanovich\",\n",
    "    \"Elinor Ostrom\",\n",
    "    \"Catherine of Aragon\",\n",
    "    \"Catherine the Great\",\n",
    "    \"Joyce Carol Oates\",\n",
    "    \"Sally Hemings\",\n",
    "    \"Caitlyn Jenner\",\n",
    "    \"Kamala Harris\",\n",
    "]"
   ]
  },
  {
   "cell_type": "code",
   "execution_count": 21,
   "metadata": {},
   "outputs": [
    {
     "data": {
      "text/html": [
       "<style type=\"text/css\">\n",
       "#T_8644e_row0_col0, #T_8644e_row0_col1, #T_8644e_row0_col2, #T_8644e_row1_col0, #T_8644e_row1_col1, #T_8644e_row1_col2, #T_8644e_row2_col0, #T_8644e_row2_col1, #T_8644e_row2_col2, #T_8644e_row3_col0, #T_8644e_row3_col1, #T_8644e_row3_col2, #T_8644e_row4_col0, #T_8644e_row4_col1, #T_8644e_row4_col2, #T_8644e_row5_col0, #T_8644e_row5_col1, #T_8644e_row5_col2, #T_8644e_row6_col0, #T_8644e_row6_col1, #T_8644e_row6_col2, #T_8644e_row7_col0, #T_8644e_row7_col1, #T_8644e_row7_col2, #T_8644e_row8_col0, #T_8644e_row8_col1, #T_8644e_row8_col2, #T_8644e_row9_col0, #T_8644e_row9_col1, #T_8644e_row9_col2, #T_8644e_row10_col0, #T_8644e_row10_col1, #T_8644e_row10_col2, #T_8644e_row11_col0, #T_8644e_row11_col1, #T_8644e_row11_col2, #T_8644e_row12_col0, #T_8644e_row12_col1, #T_8644e_row12_col2, #T_8644e_row13_col0, #T_8644e_row13_col1, #T_8644e_row13_col2, #T_8644e_row14_col0, #T_8644e_row14_col1, #T_8644e_row14_col2, #T_8644e_row15_col0, #T_8644e_row15_col1, #T_8644e_row15_col2, #T_8644e_row16_col0, #T_8644e_row16_col1, #T_8644e_row16_col2, #T_8644e_row17_col0, #T_8644e_row17_col1, #T_8644e_row17_col2 {\n",
       "  text-align: left;\n",
       "  overflow-wrap: break-word;\n",
       "}\n",
       "</style>\n",
       "<table id=\"T_8644e\">\n",
       "  <thead>\n",
       "    <tr>\n",
       "      <th class=\"blank level0\" >&nbsp;</th>\n",
       "      <th id=\"T_8644e_level0_col0\" class=\"col_heading level0 col0\" >entity</th>\n",
       "      <th id=\"T_8644e_level0_col1\" class=\"col_heading level0 col1\" >classification</th>\n",
       "      <th id=\"T_8644e_level0_col2\" class=\"col_heading level0 col2\" >rationale</th>\n",
       "    </tr>\n",
       "  </thead>\n",
       "  <tbody>\n",
       "    <tr>\n",
       "      <th id=\"T_8644e_level0_row0\" class=\"row_heading level0 row0\" >0</th>\n",
       "      <td id=\"T_8644e_row0_col0\" class=\"data row0 col0\" >Rosa Parks</td>\n",
       "      <td id=\"T_8644e_row0_col1\" class=\"data row0 col1\" >true</td>\n",
       "      <td id=\"T_8644e_row0_col2\" class=\"data row0 col2\" >Rosa Parks is a woman because she is regularly and for the most part observed or imagined to have certain bodily features presumed to be evidence of a female’s biological role in reproduction. This is evident from historical records and photographs of her. Furthermore, Rosa Parks, being a part of the society she lived in, was marked within the dominant ideology of her society as someone who ought to occupy certain kinds of social position that are in fact subordinate. This is evident from her role in the Civil Rights Movement, where she fought against racial segregation, a system that subordinated her not only because of her race but also because of her gender. Lastly, the fact that Rosa Parks satisfies both (i) and (ii) played a role in her systematic subordination. Her social position was oppressive along the dimensions of both race and gender, and her satisfying (i) and (ii) played a role in that dimension of subordination. Therefore, according to the provided definition, Rosa Parks is a woman.</td>\n",
       "    </tr>\n",
       "    <tr>\n",
       "      <th id=\"T_8644e_level0_row1\" class=\"row_heading level0 row1\" >1</th>\n",
       "      <td id=\"T_8644e_row1_col0\" class=\"data row1 col0\" >Hillary Clinton</td>\n",
       "      <td id=\"T_8644e_row1_col1\" class=\"data row1 col1\" >true</td>\n",
       "      <td id=\"T_8644e_row1_col2\" class=\"data row1 col2\" >Hillary Clinton is a woman because she satisfies all three conditions of the definition. Firstly, she is regularly and for the most part observed to have certain bodily features presumed to be evidence of a female’s biological role in reproduction. This is evident from her physical appearance which is typically associated with the female sex. Secondly, within the dominant ideology of her society, these features mark her as someone who ought to occupy certain kinds of social position that are in fact subordinate. This is evident from her role as a wife and mother, traditional roles that are often seen as subordinate in society. Lastly, the fact that she satisfies the first two conditions plays a role in her systematic subordination. Despite her achievements, she has faced numerous challenges and criticisms that are often gendered in nature, indicating that her social position is oppressive along some dimension. Therefore, according to the given definition, Hillary Clinton is a woman.</td>\n",
       "    </tr>\n",
       "    <tr>\n",
       "      <th id=\"T_8644e_level0_row2\" class=\"row_heading level0 row2\" >2</th>\n",
       "      <td id=\"T_8644e_row2_col0\" class=\"data row2 col0\" >Pamela Anderson</td>\n",
       "      <td id=\"T_8644e_row2_col1\" class=\"data row2 col1\" >true</td>\n",
       "      <td id=\"T_8644e_row2_col2\" class=\"data row2 col2\" >Pamela Anderson is regularly and for the most part observed or imagined to have certain bodily features presumed to be evidence of a female’s biological role in reproduction, satisfying condition (i) of the definition. These features mark her within the dominant ideology of her society as someone who ought to occupy certain kinds of social position that are in fact subordinate, satisfying condition (ii). The fact that Pamela Anderson satisfies both (i) and (ii) plays a role in her systematic subordination, that is, along some dimension, her social position is oppressive, and her satisfying (i) and (ii) plays a role in that dimension of subordination, satisfying condition (iii). Therefore, according to the provided definition, Pamela Anderson is a woman.</td>\n",
       "    </tr>\n",
       "    <tr>\n",
       "      <th id=\"T_8644e_level0_row3\" class=\"row_heading level0 row3\" >3</th>\n",
       "      <td id=\"T_8644e_row3_col0\" class=\"data row3 col0\" >Lebron James</td>\n",
       "      <td id=\"T_8644e_row3_col1\" class=\"data row3 col1\" >false</td>\n",
       "      <td id=\"T_8644e_row3_col2\" class=\"data row3 col2\" >Given the definition provided, it is not possible to argue that Lebron James is a woman. Lebron James is not regularly and for the most part observed or imagined to have certain bodily features presumed to be evidence of a female’s biological role in reproduction. Furthermore, Lebron James does not occupy a social position that is subordinate within the dominant ideology of his society. Therefore, he does not satisfy conditions (i) and (ii) of the definition. Consequently, the fact that he does not satisfy these conditions means that he does not play a role in his own systematic subordination. Therefore, according to the provided definition, Lebron James cannot be classified as a woman.</td>\n",
       "    </tr>\n",
       "    <tr>\n",
       "      <th id=\"T_8644e_level0_row4\" class=\"row_heading level0 row4\" >4</th>\n",
       "      <td id=\"T_8644e_row4_col0\" class=\"data row4 col0\" >Sally Haslanger</td>\n",
       "      <td id=\"T_8644e_row4_col1\" class=\"data row4 col1\" >false</td>\n",
       "      <td id=\"T_8644e_row4_col2\" class=\"data row4 col2\" >To argue that Sally Haslanger is a woman based on the provided definition, we would need to establish that she meets all three criteria. \n",
       "\n",
       "(i) We would need to confirm that Sally Haslanger is regularly and for the most part observed or imagined to have certain bodily features presumed to be evidence of a female’s biological role in reproduction. This could be established through direct observation or reliable testimony about her physical appearance.\n",
       "\n",
       "(ii) We would need to establish that Sally Haslanger's possession of these features marks her within the dominant ideology of her society as someone who ought to occupy certain kinds of social position that are in fact subordinate. This could be established by examining the societal norms and expectations of her society and how they apply to her.\n",
       "\n",
       "(iii) We would need to show that the fact that Sally Haslanger satisfies (i) and (ii) plays a role in her systematic subordination, that is, along some dimension, her social position is oppressive, and her satisfying (i) and (ii) plays a role in that dimension of subordination. This could be established by examining the social dynamics and power structures of her society and how they affect her.\n",
       "\n",
       "Without specific information about Sally Haslanger and her society, it is impossible to definitively argue that she is a woman based on this definition. However, if we could establish that she meets all three criteria, then we could argue that she is a woman.</td>\n",
       "    </tr>\n",
       "    <tr>\n",
       "      <th id=\"T_8644e_level0_row5\" class=\"row_heading level0 row5\" >5</th>\n",
       "      <td id=\"T_8644e_row5_col0\" class=\"data row5 col0\" >Nancy Pelosi</td>\n",
       "      <td id=\"T_8644e_row5_col1\" class=\"data row5 col1\" >true</td>\n",
       "      <td id=\"T_8644e_row5_col2\" class=\"data row5 col2\" >Nancy Pelosi is a woman because she is regularly and for the most part observed to have certain bodily features presumed to be evidence of a female’s biological role in reproduction. Furthermore, these features mark her within the dominant ideology of her society as someone who ought to occupy certain kinds of social position that are in fact subordinate. Even though Pelosi holds a high-ranking position in politics, the fact that she satisfies both conditions plays a role in her systematic subordination, as she has faced and continues to face sexism and gender discrimination in her career. Therefore, according to the provided definition, Nancy Pelosi is a woman.</td>\n",
       "    </tr>\n",
       "    <tr>\n",
       "      <th id=\"T_8644e_level0_row6\" class=\"row_heading level0 row6\" >6</th>\n",
       "      <td id=\"T_8644e_row6_col0\" class=\"data row6 col0\" >Catwoman</td>\n",
       "      <td id=\"T_8644e_row6_col1\" class=\"data row6 col1\" >true</td>\n",
       "      <td id=\"T_8644e_row6_col2\" class=\"data row6 col2\" >Catwoman, as a character, is regularly and for the most part observed or imagined to have certain bodily features presumed to be evidence of a female’s biological role in reproduction, satisfying condition (i) of the definition. In the dominant ideology of her society, these features mark her as someone who ought to occupy certain kinds of social position that are in fact subordinate, satisfying condition (ii). Furthermore, the fact that Catwoman satisfies both (i) and (ii) plays a role in her systematic subordination, as her social position is often portrayed as oppressive in the narratives she is part of, satisfying condition (iii). Therefore, according to the provided definition, Catwoman can be considered a woman.</td>\n",
       "    </tr>\n",
       "    <tr>\n",
       "      <th id=\"T_8644e_level0_row7\" class=\"row_heading level0 row7\" >7</th>\n",
       "      <td id=\"T_8644e_row7_col0\" class=\"data row7 col0\" >Taylor Swift</td>\n",
       "      <td id=\"T_8644e_row7_col1\" class=\"data row7 col1\" >true</td>\n",
       "      <td id=\"T_8644e_row7_col2\" class=\"data row7 col2\" >Taylor Swift is a woman because she is regularly observed and imagined to have certain bodily features that are presumed to be evidence of a female's biological role in reproduction, such as breasts and a feminine facial structure. This marks her within the dominant ideology of her society as someone who ought to occupy certain kinds of social position that are in fact subordinate, such as being expected to be nurturing, emotional, and submissive. Despite her success and influence, she still faces sexism and discrimination in the music industry, which is a form of systematic subordination. Therefore, according to the given definition, Taylor Swift is a woman.</td>\n",
       "    </tr>\n",
       "    <tr>\n",
       "      <th id=\"T_8644e_level0_row8\" class=\"row_heading level0 row8\" >8</th>\n",
       "      <td id=\"T_8644e_row8_col0\" class=\"data row8 col0\" >Julia Roberts</td>\n",
       "      <td id=\"T_8644e_row8_col1\" class=\"data row8 col1\" >true</td>\n",
       "      <td id=\"T_8644e_row8_col2\" class=\"data row8 col2\" >Julia Roberts is regularly and for the most part observed or imagined to have certain bodily features presumed to be evidence of a female’s biological role in reproduction, satisfying condition (i) of the definition. Furthermore, these features mark Julia Roberts within the dominant ideology of her society as someone who ought to occupy certain kinds of social position that are in fact subordinate, satisfying condition (ii). Lastly, the fact that Julia Roberts satisfies both (i) and (ii) plays a role in her systematic subordination, that is, along some dimension, her social position is oppressive, and her satisfying (i) and (ii) plays a role in that dimension of subordination, satisfying condition (iii). Therefore, according to the provided definition, Julia Roberts is a woman.</td>\n",
       "    </tr>\n",
       "    <tr>\n",
       "      <th id=\"T_8644e_level0_row9\" class=\"row_heading level0 row9\" >9</th>\n",
       "      <td id=\"T_8644e_row9_col0\" class=\"data row9 col0\" >James Earl Carter</td>\n",
       "      <td id=\"T_8644e_row9_col1\" class=\"data row9 col1\" >false</td>\n",
       "      <td id=\"T_8644e_row9_col2\" class=\"data row9 col2\" >Given the information provided, it is not possible to argue that James Earl Carter is a woman. The definition provided for a woman includes specific criteria that must be met, including having certain bodily features associated with female biological reproduction, being marked within society as someone who should occupy certain subordinate social positions, and this identification contributing to systematic subordination. \n",
       "\n",
       "James Earl Carter, also known as Jimmy Carter, was the 39th President of the United States. Even without specific background knowledge about his physical attributes, his position as a former president does not align with the criteria of occupying a subordinate social position. Therefore, based on the provided definition, James Earl Carter cannot be classified as a woman.</td>\n",
       "    </tr>\n",
       "    <tr>\n",
       "      <th id=\"T_8644e_level0_row10\" class=\"row_heading level0 row10\" >10</th>\n",
       "      <td id=\"T_8644e_row10_col0\" class=\"data row10 col0\" >Peter Bogdanovich</td>\n",
       "      <td id=\"T_8644e_row10_col1\" class=\"data row10 col1\" >false</td>\n",
       "      <td id=\"T_8644e_row10_col2\" class=\"data row10 col2\" >Given the definition provided, it is not possible to argue that Peter Bogdanovich is a woman. The definition requires that the subject (S) is observed or imagined to have certain bodily features associated with the female biological role in reproduction, is marked within their society's dominant ideology as someone who should occupy a subordinate social position, and that these factors contribute to their systematic subordination. \n",
       "\n",
       "Without any specific information about Peter Bogdanovich that aligns with these criteria, we cannot assert that he is a woman based on this definition. Furthermore, using background knowledge about Peter Bogdanovich, we know that he is a male film director, which contradicts the definition provided for a woman. Therefore, we cannot provide a rationale for the assertion that Peter Bogdanovich is a woman.</td>\n",
       "    </tr>\n",
       "    <tr>\n",
       "      <th id=\"T_8644e_level0_row11\" class=\"row_heading level0 row11\" >11</th>\n",
       "      <td id=\"T_8644e_row11_col0\" class=\"data row11 col0\" >Elinor Ostrom</td>\n",
       "      <td id=\"T_8644e_row11_col1\" class=\"data row11 col1\" >false</td>\n",
       "      <td id=\"T_8644e_row11_col2\" class=\"data row11 col2\" >Without specific background knowledge about Elinor Ostrom's physical attributes or societal role, it is impossible to definitively assert that she is a woman based on the provided definition. However, if we assume that Elinor Ostrom is observed or imagined to have certain bodily features presumed to be evidence of a female’s biological role in reproduction, and that these features mark her within the dominant ideology of her society as someone who ought to occupy certain kinds of social position that are in fact subordinate, then we could argue that she is a woman. Furthermore, if her satisfying these conditions plays a role in her systematic subordination, then this would further support the assertion that she is a woman. However, without specific information about Elinor Ostrom, this argument is purely hypothetical.</td>\n",
       "    </tr>\n",
       "    <tr>\n",
       "      <th id=\"T_8644e_level0_row12\" class=\"row_heading level0 row12\" >12</th>\n",
       "      <td id=\"T_8644e_row12_col0\" class=\"data row12 col0\" >Catherine of Aragon</td>\n",
       "      <td id=\"T_8644e_row12_col1\" class=\"data row12 col1\" >true</td>\n",
       "      <td id=\"T_8644e_row12_col2\" class=\"data row12 col2\" >Catherine of Aragon was regularly and for the most part observed or imagined to have certain bodily features presumed to be evidence of a female’s biological role in reproduction, satisfying condition (i) of the definition. As a queen, she was marked within the dominant ideology of her society as someone who ought to occupy certain kinds of social position that are in fact subordinate, such as being expected to produce a male heir and being subservient to her husband, King Henry VIII, thus satisfying condition (ii). The fact that she satisfied conditions (i) and (ii) played a role in her systematic subordination, as her inability to produce a male heir led to her being cast aside and replaced, which was an oppressive social position, thus satisfying condition (iii). Therefore, according to the provided definition, Catherine of Aragon can be considered a woman.</td>\n",
       "    </tr>\n",
       "    <tr>\n",
       "      <th id=\"T_8644e_level0_row13\" class=\"row_heading level0 row13\" >13</th>\n",
       "      <td id=\"T_8644e_row13_col0\" class=\"data row13 col0\" >Catherine the Great</td>\n",
       "      <td id=\"T_8644e_row13_col1\" class=\"data row13 col1\" >true</td>\n",
       "      <td id=\"T_8644e_row13_col2\" class=\"data row13 col2\" >Catherine the Great is a woman because she satisfies all the conditions outlined in the definition. Firstly, she is regularly and for the most part observed or imagined to have certain bodily features presumed to be evidence of a female’s biological role in reproduction. This is evident from historical records and portraits of her which depict her as having female physical characteristics. \n",
       "\n",
       "Secondly, Catherine the Great, despite being an empress, lived in a society where the dominant ideology marked her as someone who ought to occupy certain kinds of social position that are in fact subordinate due to her female bodily features. This is evident from the fact that she had to navigate a male-dominated political landscape and faced numerous challenges and oppositions due to her gender.\n",
       "\n",
       "Lastly, the fact that Catherine the Great satisfies both conditions (i) and (ii) played a role in her systematic subordination. Despite her powerful position, she was still subject to gender-based discrimination and prejudice, which is a form of oppression. Therefore, according to the given definition, Catherine the Great is a woman.</td>\n",
       "    </tr>\n",
       "    <tr>\n",
       "      <th id=\"T_8644e_level0_row14\" class=\"row_heading level0 row14\" >14</th>\n",
       "      <td id=\"T_8644e_row14_col0\" class=\"data row14 col0\" >Joyce Carol Oates</td>\n",
       "      <td id=\"T_8644e_row14_col1\" class=\"data row14 col1\" >true</td>\n",
       "      <td id=\"T_8644e_row14_col2\" class=\"data row14 col2\" >Assuming that Joyce Carol Oates is regularly and for the most part observed or imagined to have certain bodily features presumed to be evidence of a female’s biological role in reproduction, she satisfies condition (i) of the definition. If these features mark her within the dominant ideology of her society as someone who ought to occupy certain kinds of social position that are in fact subordinate, she satisfies condition (ii). If the fact that she satisfies (i) and (ii) plays a role in her systematic subordination, that is, along some dimension, her social position is oppressive, and her satisfying (i) and (ii) plays a role in that dimension of subordination, she satisfies condition (iii). Therefore, according to the provided definition, Joyce Carol Oates is a woman.</td>\n",
       "    </tr>\n",
       "    <tr>\n",
       "      <th id=\"T_8644e_level0_row15\" class=\"row_heading level0 row15\" >15</th>\n",
       "      <td id=\"T_8644e_row15_col0\" class=\"data row15 col0\" >Sally Hemings</td>\n",
       "      <td id=\"T_8644e_row15_col1\" class=\"data row15 col1\" >true</td>\n",
       "      <td id=\"T_8644e_row15_col2\" class=\"data row15 col2\" >Sally Hemings is a woman because she fulfills all the conditions stated in the definition. Firstly, she is observed to have certain bodily features that are presumed to be evidence of a female's biological role in reproduction. Secondly, these features mark her within the dominant ideology of her society as someone who ought to occupy certain kinds of social position that are in fact subordinate. Lastly, the fact that she satisfies the first two conditions plays a role in her systematic subordination, meaning her social position is oppressive, and her satisfying the first two conditions plays a role in that dimension of subordination. Therefore, according to the given definition, Sally Hemings is a woman.</td>\n",
       "    </tr>\n",
       "    <tr>\n",
       "      <th id=\"T_8644e_level0_row16\" class=\"row_heading level0 row16\" >16</th>\n",
       "      <td id=\"T_8644e_row16_col0\" class=\"data row16 col0\" >Caitlyn Jenner</td>\n",
       "      <td id=\"T_8644e_row16_col1\" class=\"data row16 col1\" >true</td>\n",
       "      <td id=\"T_8644e_row16_col2\" class=\"data row16 col2\" >Caitlyn Jenner can be considered a woman based on the provided definition. Firstly, she is regularly and for the most part observed or imagined to have certain bodily features presumed to be evidence of a female’s biological role in reproduction. This is due to her undergoing gender transition surgery and hormone replacement therapy, which have given her physical characteristics typically associated with females. Secondly, these features mark her within the dominant ideology of her society as someone who ought to occupy certain kinds of social position that are in fact subordinate. This is evident in the societal expectations and stereotypes that she, like other women, faces. Lastly, the fact that she satisfies both these conditions plays a role in her systematic subordination. As a transgender woman, she faces discrimination and prejudice, which can be seen as forms of oppression. Therefore, according to the given definition, Caitlyn Jenner can be classified as a woman.</td>\n",
       "    </tr>\n",
       "    <tr>\n",
       "      <th id=\"T_8644e_level0_row17\" class=\"row_heading level0 row17\" >17</th>\n",
       "      <td id=\"T_8644e_row17_col0\" class=\"data row17 col0\" >Kamala Harris</td>\n",
       "      <td id=\"T_8644e_row17_col1\" class=\"data row17 col1\" >true</td>\n",
       "      <td id=\"T_8644e_row17_col2\" class=\"data row17 col2\" >Kamala Harris is a woman because she satisfies all the conditions stated in the definition. Firstly, she is observed to have certain bodily features that are presumed to be evidence of a female's biological role in reproduction. Secondly, these features mark her within the dominant ideology of her society as someone who ought to occupy certain kinds of social position that are in fact subordinate. Lastly, the fact that she satisfies the first two conditions plays a role in her systematic subordination, that is, along some dimension, her social position is oppressive, and her satisfying the first two conditions plays a role in that dimension of subordination.</td>\n",
       "    </tr>\n",
       "  </tbody>\n",
       "</table>\n"
      ],
      "text/plain": [
       "<pandas.io.formats.style.Styler at 0x105f67110>"
      ]
     },
     "execution_count": 21,
     "metadata": {},
     "output_type": "execute_result"
    }
   ],
   "source": [
    "df = DataFrame( \n",
    "    [ woman.classify_entity(Entity(\"\", entity)) for entity in collection ], \n",
    "    columns = [ 'entity' , 'classification', 'rationale' ] \n",
    "    )\n",
    "df[\"classification\"] = df[\"classification\"].str.lower()\n",
    "df.style.set_properties(**{\"text-align\": \"left\", \"overflow-wrap\": \"break-word\"})"
   ]
  },
  {
   "cell_type": "code",
   "execution_count": 22,
   "metadata": {},
   "outputs": [],
   "source": [
    "woman_2 = Concept(\"haslanger_woman\", \"woman\", haslanger_woman_definition, model_name=\"gpt-3.5-turbo\", temperature=0.4)"
   ]
  },
  {
   "cell_type": "code",
   "execution_count": 23,
   "metadata": {},
   "outputs": [
    {
     "data": {
      "text/html": [
       "<style type=\"text/css\">\n",
       "#T_7785f_row0_col0, #T_7785f_row0_col1, #T_7785f_row0_col2, #T_7785f_row1_col0, #T_7785f_row1_col1, #T_7785f_row1_col2, #T_7785f_row2_col0, #T_7785f_row2_col1, #T_7785f_row2_col2, #T_7785f_row3_col0, #T_7785f_row3_col1, #T_7785f_row3_col2, #T_7785f_row4_col0, #T_7785f_row4_col1, #T_7785f_row4_col2, #T_7785f_row5_col0, #T_7785f_row5_col1, #T_7785f_row5_col2, #T_7785f_row6_col0, #T_7785f_row6_col1, #T_7785f_row6_col2, #T_7785f_row7_col0, #T_7785f_row7_col1, #T_7785f_row7_col2, #T_7785f_row8_col0, #T_7785f_row8_col1, #T_7785f_row8_col2, #T_7785f_row9_col0, #T_7785f_row9_col1, #T_7785f_row9_col2, #T_7785f_row10_col0, #T_7785f_row10_col1, #T_7785f_row10_col2, #T_7785f_row11_col0, #T_7785f_row11_col1, #T_7785f_row11_col2, #T_7785f_row12_col0, #T_7785f_row12_col1, #T_7785f_row12_col2, #T_7785f_row13_col0, #T_7785f_row13_col1, #T_7785f_row13_col2, #T_7785f_row14_col0, #T_7785f_row14_col1, #T_7785f_row14_col2, #T_7785f_row15_col0, #T_7785f_row15_col1, #T_7785f_row15_col2, #T_7785f_row16_col0, #T_7785f_row16_col1, #T_7785f_row16_col2, #T_7785f_row17_col0, #T_7785f_row17_col1, #T_7785f_row17_col2 {\n",
       "  text-align: left;\n",
       "  overflow-wrap: break-word;\n",
       "}\n",
       "</style>\n",
       "<table id=\"T_7785f\">\n",
       "  <thead>\n",
       "    <tr>\n",
       "      <th class=\"blank level0\" >&nbsp;</th>\n",
       "      <th id=\"T_7785f_level0_col0\" class=\"col_heading level0 col0\" >entity</th>\n",
       "      <th id=\"T_7785f_level0_col1\" class=\"col_heading level0 col1\" >classification</th>\n",
       "      <th id=\"T_7785f_level0_col2\" class=\"col_heading level0 col2\" >rationale</th>\n",
       "    </tr>\n",
       "  </thead>\n",
       "  <tbody>\n",
       "    <tr>\n",
       "      <th id=\"T_7785f_level0_row0\" class=\"row_heading level0 row0\" >0</th>\n",
       "      <td id=\"T_7785f_row0_col0\" class=\"data row0 col0\" >Rosa Parks</td>\n",
       "      <td id=\"T_7785f_row0_col1\" class=\"data row0 col1\" >true</td>\n",
       "      <td id=\"T_7785f_row0_col2\" class=\"data row0 col2\" >Based on the given definition, we can argue that Rosa Parks is a woman by examining the three criteria outlined in the definition.\n",
       "\n",
       "(i) Rosa Parks is regularly and for the most part observed or imagined to have certain bodily features presumed to be evidence of a female's biological role in reproduction. While the definition does not provide specific details about these bodily features, it can be assumed that Rosa Parks, as a female human being, possesses the typical physical characteristics associated with women, such as breasts, a uterus, and ovaries.\n",
       "\n",
       "(ii) The fact that Rosa Parks has these bodily features marks her within the dominant ideology of her society as someone who ought to occupy certain kinds of social positions that are in fact subordinate. In the context of the civil rights movement in the United States, women, including Rosa Parks, were often seen as subordinate to men in terms of social and political power. The dominant ideology of the time expected women to conform to traditional gender roles and occupy positions that were considered subordinate to those of men.\n",
       "\n",
       "(iii) The fact that Rosa Parks satisfies criteria (i) and (ii) plays a role in her systematic subordination. As a woman in the 1950s, Rosa Parks experienced systematic subordination based on her gender. She faced discrimination and oppression due to societal norms and expectations that limited her opportunities and relegated her to a subordinate social position.\n",
       "\n",
       "Based on this argument, we can conclude that Rosa Parks is a woman according to the given definition. However, it is important to note that this definition and argument are limited in scope and do not capture the full complexity and diversity of gender identities and experiences.</td>\n",
       "    </tr>\n",
       "    <tr>\n",
       "      <th id=\"T_7785f_level0_row1\" class=\"row_heading level0 row1\" >1</th>\n",
       "      <td id=\"T_7785f_row1_col0\" class=\"data row1 col0\" >Hillary Clinton</td>\n",
       "      <td id=\"T_7785f_row1_col1\" class=\"data row1 col1\" >true</td>\n",
       "      <td id=\"T_7785f_row1_col2\" class=\"data row1 col2\" >Based on the provided definition, we can argue that Hillary Clinton is a woman by examining each criterion mentioned.\n",
       "\n",
       "(i) Hillary Clinton is regularly and for the most part observed or imagined to have certain bodily features presumed to be evidence of a female's biological role in reproduction. While we do not have specific information about her bodily features in this context, it is widely known and observed that she has the physical characteristics typically associated with being a woman.\n",
       "\n",
       "(ii) The fact that Hillary Clinton has these bodily features marks her within the dominant ideology of society as someone who ought to occupy certain kinds of social positions that are in fact subordinate. Throughout her career, Hillary Clinton has faced societal expectations and biases associated with being a woman in politics. These expectations and biases have often motivated and justified her occupying positions that are perceived as subordinate, such as being the First Lady or Secretary of State.\n",
       "\n",
       "(iii) The fact that Hillary Clinton satisfies both (i) and (ii) plays a role in her systematic subordination. Along some dimensions, her social position has been oppressive, as she has faced discrimination and sexism throughout her career. The fact that she satisfies the criteria of being a woman, as defined above, has played a role in her subordination and the challenges she has faced.\n",
       "\n",
       "Therefore, based on the provided definition and the information about Hillary Clinton, we can argue that she is a woman.</td>\n",
       "    </tr>\n",
       "    <tr>\n",
       "      <th id=\"T_7785f_level0_row2\" class=\"row_heading level0 row2\" >2</th>\n",
       "      <td id=\"T_7785f_row2_col0\" class=\"data row2 col0\" >Pamela Anderson</td>\n",
       "      <td id=\"T_7785f_row2_col1\" class=\"data row2 col1\" >true</td>\n",
       "      <td id=\"T_7785f_row2_col2\" class=\"data row2 col2\" >Based on the given definition, we can argue that Pamela Anderson is a woman. \n",
       "\n",
       "Firstly, Pamela Anderson is regularly observed and imagined to have certain bodily features that are presumed to be evidence of a female's biological role in reproduction. She is widely recognized for her physical appearance, which includes characteristics typically associated with femininity such as long hair, curves, and other feminine attributes.\n",
       "\n",
       "Secondly, the fact that Pamela Anderson has these bodily features marks her within the dominant ideology of society as someone who ought to occupy certain kinds of social positions that are in fact subordinate. Throughout her career, Pamela Anderson has often been cast in roles that emphasize her physical appearance and sexuality, which align with societal expectations of women being objects of desire and occupying subordinate positions.\n",
       "\n",
       "Lastly, the fact that Pamela Anderson satisfies both (i) and (ii) plays a role in her systematic subordination. She has faced criticism and objectification throughout her career, with her physical appearance often overshadowing her other talents and contributions. This dimension of subordination, where women are often judged and valued primarily based on their physical appearance, is evident in Pamela Anderson's experiences.\n",
       "\n",
       "Therefore, based on the given definition and the information about Pamela Anderson, we can argue that she is a woman.</td>\n",
       "    </tr>\n",
       "    <tr>\n",
       "      <th id=\"T_7785f_level0_row3\" class=\"row_heading level0 row3\" >3</th>\n",
       "      <td id=\"T_7785f_row3_col0\" class=\"data row3 col0\" >Lebron James</td>\n",
       "      <td id=\"T_7785f_row3_col1\" class=\"data row3 col1\" >false</td>\n",
       "      <td id=\"T_7785f_row3_col2\" class=\"data row3 col2\" >Based on the given definition, Lebron James cannot be classified as a woman. The definition states that a person is considered a woman if they are regularly observed or imagined to have certain bodily features presumed to be evidence of a female's biological role in reproduction. Lebron James, being a male, does not possess these bodily features.\n",
       "\n",
       "Additionally, the definition states that having these bodily features marks a person within the dominant ideology of their society as someone who ought to occupy certain kinds of social positions that are subordinate. However, Lebron James, as a highly successful and influential basketball player, does not occupy a subordinate social position. In fact, he is considered one of the most dominant and respected athletes in the world.\n",
       "\n",
       "Therefore, based on the given definition, it is not possible to argue that Lebron James is a woman.</td>\n",
       "    </tr>\n",
       "    <tr>\n",
       "      <th id=\"T_7785f_level0_row4\" class=\"row_heading level0 row4\" >4</th>\n",
       "      <td id=\"T_7785f_row4_col0\" class=\"data row4 col0\" >Sally Haslanger</td>\n",
       "      <td id=\"T_7785f_row4_col1\" class=\"data row4 col1\" >true</td>\n",
       "      <td id=\"T_7785f_row4_col2\" class=\"data row4 col2\" >Based on the given definition, Sally Haslanger can be argued to be a woman because she satisfies all three conditions stated in the definition.\n",
       "\n",
       "Firstly, Sally Haslanger is regularly and for the most part observed or imagined to have certain bodily features presumed to be evidence of a female's biological role in reproduction. Although the specific bodily features are not mentioned in the definition, it can be assumed that Sally Haslanger possesses the physical characteristics typically associated with being female, such as breasts and a reproductive system.\n",
       "\n",
       "Secondly, the fact that Sally Haslanger has these bodily features marks her within the dominant ideology of her society as someone who ought to occupy certain kinds of social positions that are subordinate. This implies that she is expected to conform to certain gender roles and expectations that are traditionally associated with women.\n",
       "\n",
       "Lastly, the fact that Sally Haslanger satisfies both conditions (i) and (ii) plays a role in her systematic subordination. This means that along some dimension, her social position is oppressive, and her conformity to societal expectations of being a woman contributes to this oppression.\n",
       "\n",
       "Therefore, based on the given definition, Sally Haslanger can be argued to be a woman.</td>\n",
       "    </tr>\n",
       "    <tr>\n",
       "      <th id=\"T_7785f_level0_row5\" class=\"row_heading level0 row5\" >5</th>\n",
       "      <td id=\"T_7785f_row5_col0\" class=\"data row5 col0\" >Nancy Pelosi</td>\n",
       "      <td id=\"T_7785f_row5_col1\" class=\"data row5 col1\" >true</td>\n",
       "      <td id=\"T_7785f_row5_col2\" class=\"data row5 col2\" >Based on the given definition, we can argue that Nancy Pelosi is a woman. \n",
       "\n",
       "(i) Nancy Pelosi is regularly and for the most part observed or imagined to have certain bodily features presumed to be evidence of a female's biological role in reproduction. This refers to the physical characteristics typically associated with women, such as breasts, reproductive organs, and other secondary sexual characteristics. While we do not have specific information about Nancy Pelosi's physical appearance, it is reasonable to assume that she possesses these bodily features, as she is a biological female.\n",
       "\n",
       "(ii) The fact that Nancy Pelosi has these bodily features marks her within the dominant ideology of society as someone who ought to occupy certain kinds of social positions that are in fact subordinate. In many societies, women have historically been assigned subordinate roles compared to men. Nancy Pelosi's gender would align with this societal expectation, as she is a woman.\n",
       "\n",
       "(iii) The fact that Nancy Pelosi satisfies (i) and (ii) plays a role in her systematic subordination. This means that, along some dimension, Nancy Pelosi's social position is oppressive, and her satisfying (i) and (ii) contributes to this oppression. As a woman in a position of power, Nancy Pelosi may face challenges, biases, and discrimination based on her gender, which can be seen as a form of systematic subordination.\n",
       "\n",
       "Based on this argument, we can conclude that Nancy Pelosi is a woman according to the given definition.</td>\n",
       "    </tr>\n",
       "    <tr>\n",
       "      <th id=\"T_7785f_level0_row6\" class=\"row_heading level0 row6\" >6</th>\n",
       "      <td id=\"T_7785f_row6_col0\" class=\"data row6 col0\" >Catwoman</td>\n",
       "      <td id=\"T_7785f_row6_col1\" class=\"data row6 col1\" >true</td>\n",
       "      <td id=\"T_7785f_row6_col2\" class=\"data row6 col2\" >Based on the given definition, we can argue that Catwoman is a woman by examining the three criteria outlined in the definition.\n",
       "\n",
       "Firstly, Catwoman is regularly observed or imagined to have certain bodily features presumed to be evidence of a female's biological role in reproduction. While Catwoman is a fictional character, she is often depicted as having a feminine appearance, with characteristics such as a curvaceous figure and feminine facial features. These bodily features align with the societal perception of what is typically associated with being a woman.\n",
       "\n",
       "Secondly, the fact that Catwoman has these features marks her within the dominant ideology of her society as someone who ought to occupy certain kinds of social positions that are in fact subordinate. In the Batman comics and movies, Catwoman is often portrayed as a thief or a villain, which can be seen as a socially subordinate position. This aligns with the second criterion of the definition.\n",
       "\n",
       "Lastly, the fact that Catwoman satisfies the first two criteria plays a role in her systematic subordination. In the fictional world of Batman, Catwoman's actions as a thief and her portrayal as a femme fatale contribute to her subordination within the narrative. This aligns with the third criterion of the definition.\n",
       "\n",
       "Therefore, based on the given definition and the information about Catwoman, we can argue that Catwoman is a woman.</td>\n",
       "    </tr>\n",
       "    <tr>\n",
       "      <th id=\"T_7785f_level0_row7\" class=\"row_heading level0 row7\" >7</th>\n",
       "      <td id=\"T_7785f_row7_col0\" class=\"data row7 col0\" >Taylor Swift</td>\n",
       "      <td id=\"T_7785f_row7_col1\" class=\"data row7 col1\" >true</td>\n",
       "      <td id=\"T_7785f_row7_col2\" class=\"data row7 col2\" >According to the given definition, an individual is considered a woman if they possess certain bodily features that are presumed to be evidence of a female's biological role in reproduction. Additionally, these features mark the individual within the dominant ideology of their society as someone who should occupy certain subordinate social positions. Lastly, the fact that the individual satisfies these criteria plays a role in their systematic subordination.\n",
       "\n",
       "In the case of Taylor Swift, we can observe that she possesses certain bodily features presumed to be evidence of a female's biological role in reproduction. While the definition does not specify what these features are, it can be inferred that Taylor Swift's physical appearance aligns with societal expectations of femininity.\n",
       "\n",
       "Furthermore, Taylor Swift's presence within the dominant ideology of society as a successful female musician and public figure places her in a position that is often associated with subordination. The music industry, like many other industries, has historically been male-dominated, and women have often been relegated to subordinate roles. Taylor Swift's success and fame within this industry can be seen as evidence of her occupying a position that is both marked by her bodily features and is subordinate according to societal norms.\n",
       "\n",
       "Lastly, the fact that Taylor Swift satisfies the criteria of possessing certain bodily features and occupying a subordinate social position plays a role in her systematic subordination. While she has achieved immense success and popularity, she has also faced criticism, scrutiny, and objectification based on her gender. This dimension of subordination is evident in the way she is often portrayed and discussed in the media.\n",
       "\n",
       "Based on the above argument, it can be concluded that Taylor Swift is a woman according to the given definition. Her bodily features, societal positioning, and the role they play in her systematic subordination align with the criteria outlined in the definition.</td>\n",
       "    </tr>\n",
       "    <tr>\n",
       "      <th id=\"T_7785f_level0_row8\" class=\"row_heading level0 row8\" >8</th>\n",
       "      <td id=\"T_7785f_row8_col0\" class=\"data row8 col0\" >Julia Roberts</td>\n",
       "      <td id=\"T_7785f_row8_col1\" class=\"data row8 col1\" >true</td>\n",
       "      <td id=\"T_7785f_row8_col2\" class=\"data row8 col2\" >Based on the given definition, we can argue that Julia Roberts is a woman because she satisfies all three conditions outlined in the definition.\n",
       "\n",
       "Firstly, Julia Roberts is regularly observed and imagined to have certain bodily features presumed to be evidence of a female's biological role in reproduction. As a well-known actress, she has been seen in numerous movies and photographs where her physical appearance aligns with societal expectations of female characteristics.\n",
       "\n",
       "Secondly, the fact that Julia Roberts has these features marks her within the dominant ideology of society as someone who ought to occupy certain kinds of social positions that are subordinate. In the entertainment industry, women are often portrayed in roles that are secondary to male characters, reinforcing the subordinate social position.\n",
       "\n",
       "Lastly, the fact that Julia Roberts satisfies the first two conditions plays a role in her systematic subordination. Despite her immense talent and success, she may still face challenges and limitations in her career due to the gender biases and stereotypes prevalent in society.\n",
       "\n",
       "Therefore, based on the given definition, we can argue that Julia Roberts is a woman because she fulfills the criteria of regularly observed bodily features, being marked within the dominant ideology, and experiencing systematic subordination.</td>\n",
       "    </tr>\n",
       "    <tr>\n",
       "      <th id=\"T_7785f_level0_row9\" class=\"row_heading level0 row9\" >9</th>\n",
       "      <td id=\"T_7785f_row9_col0\" class=\"data row9 col0\" >James Earl Carter</td>\n",
       "      <td id=\"T_7785f_row9_col1\" class=\"data row9 col1\" >false</td>\n",
       "      <td id=\"T_7785f_row9_col2\" class=\"data row9 col2\" >Based on the given definition, it is not possible to argue that James Earl Carter is a woman. The definition states that a person is a woman if they have certain bodily features presumed to be evidence of a female's biological role in reproduction. Since there is no information provided about James Earl Carter's bodily features or reproductive role, we cannot determine whether he satisfies this criterion. Additionally, the definition mentions that being marked within the dominant ideology as someone who ought to occupy certain social positions that are subordinate is another characteristic of being a woman. Again, without any information about James Earl Carter's social position or how he is perceived within society, we cannot make a conclusive argument about his gender. Therefore, based solely on the given definition, we cannot assert that James Earl Carter is a woman.</td>\n",
       "    </tr>\n",
       "    <tr>\n",
       "      <th id=\"T_7785f_level0_row10\" class=\"row_heading level0 row10\" >10</th>\n",
       "      <td id=\"T_7785f_row10_col0\" class=\"data row10 col0\" >Peter Bogdanovich</td>\n",
       "      <td id=\"T_7785f_row10_col1\" class=\"data row10 col1\" >false</td>\n",
       "      <td id=\"T_7785f_row10_col2\" class=\"data row10 col2\" >Based on the given definition, Peter Bogdanovich cannot be considered a woman. The definition states that a person is a woman if they are regularly observed or imagined to have certain bodily features presumed to be evidence of a female's biological role in reproduction. Since Peter Bogdanovich is a male, he does not possess these bodily features and therefore does not meet the criteria to be considered a woman.</td>\n",
       "    </tr>\n",
       "    <tr>\n",
       "      <th id=\"T_7785f_level0_row11\" class=\"row_heading level0 row11\" >11</th>\n",
       "      <td id=\"T_7785f_row11_col0\" class=\"data row11 col0\" >Elinor Ostrom</td>\n",
       "      <td id=\"T_7785f_row11_col1\" class=\"data row11 col1\" >true</td>\n",
       "      <td id=\"T_7785f_row11_col2\" class=\"data row11 col2\" >Based on the provided definition, we can argue that Elinor Ostrom is a woman. \n",
       "\n",
       "(i) Elinor Ostrom is regularly and for the most part observed or imagined to have certain bodily features presumed to be evidence of a female's biological role in reproduction. Although we do not have specific information about Elinor Ostrom's bodily features, we can assume that as a woman, she possesses the typical physical characteristics associated with females.\n",
       "\n",
       "(ii) The fact that Elinor Ostrom has these bodily features marks her within the dominant ideology of her society as someone who ought to occupy certain kinds of social positions that are in fact subordinate. In many societies, women are often expected to occupy roles that are considered subordinate to those of men. Therefore, based on societal expectations, Elinor Ostrom's bodily features would place her within a social position that is considered subordinate.\n",
       "\n",
       "(iii) The fact that Elinor Ostrom satisfies both (i) and (ii) plays a role in her systematic subordination. This means that, along some dimension, Elinor Ostrom's social position is oppressive, and her satisfying (i) and (ii) contributes to that dimension of subordination.\n",
       "\n",
       "Therefore, based on the provided definition, we can argue that Elinor Ostrom is a woman.</td>\n",
       "    </tr>\n",
       "    <tr>\n",
       "      <th id=\"T_7785f_level0_row12\" class=\"row_heading level0 row12\" >12</th>\n",
       "      <td id=\"T_7785f_row12_col0\" class=\"data row12 col0\" >Catherine of Aragon</td>\n",
       "      <td id=\"T_7785f_row12_col1\" class=\"data row12 col1\" >true</td>\n",
       "      <td id=\"T_7785f_row12_col2\" class=\"data row12 col2\" >Based on the provided definition of a woman, we can argue that Catherine of Aragon is a woman.\n",
       "\n",
       "(i) Catherine of Aragon is regularly and for the most part observed or imagined to have certain bodily features presumed to be evidence of a female's biological role in reproduction. While we do not have specific information about Catherine of Aragon's bodily features, it can be assumed that as a female, she possesses the typical bodily features associated with her biological role in reproduction.\n",
       "\n",
       "(ii) The fact that Catherine of Aragon has these bodily features marks her within the dominant ideology of her society as someone who ought to occupy certain kinds of social positions that are in fact subordinate. As a woman in the historical context of her time, Catherine of Aragon would have been expected to fulfill certain roles and responsibilities that were considered subordinate to those of men.\n",
       "\n",
       "(iii) The fact that Catherine of Aragon satisfies (i) and (ii) plays a role in her systematic subordination. As a woman in her society, Catherine of Aragon would have experienced social subordination and oppression based on her gender. Her fulfilling the societal expectations of a woman would have contributed to her systematic subordination.\n",
       "\n",
       "Therefore, based on the provided definition, Catherine of Aragon can be considered a woman.</td>\n",
       "    </tr>\n",
       "    <tr>\n",
       "      <th id=\"T_7785f_level0_row13\" class=\"row_heading level0 row13\" >13</th>\n",
       "      <td id=\"T_7785f_row13_col0\" class=\"data row13 col0\" >Catherine the Great</td>\n",
       "      <td id=\"T_7785f_row13_col1\" class=\"data row13 col1\" >true</td>\n",
       "      <td id=\"T_7785f_row13_col2\" class=\"data row13 col2\" >Based on the given definition of a woman, we can analyze whether Catherine the Great meets the criteria to be considered a woman.\n",
       "\n",
       "(i) Catherine the Great is regularly and for the most part observed or imagined to have certain bodily features presumed to be evidence of a female's biological role in reproduction.\n",
       "This criterion cannot be directly applied to Catherine the Great as we do not have specific information about her bodily features. However, based on historical context and general knowledge, it can be assumed that Catherine the Great possessed the bodily features associated with being a woman.\n",
       "\n",
       "(ii) Catherine the Great having these features marks her within the dominant ideology of her society as someone who ought to occupy certain kinds of social positions that are in fact subordinate.\n",
       "Catherine the Great lived in a society where women were generally considered subordinate to men. As a female ruler, she challenged the traditional gender roles and occupied a position of power that was not common for women during that time. However, her position as a ruler does not negate the fact that she was still subjected to the societal expectations and pressures placed upon women.\n",
       "\n",
       "(iii) The fact that Catherine the Great satisfies (i) and (ii) plays a role in her systematic subordination, and her social position is oppressive.\n",
       "Catherine the Great's gender played a significant role in her social position and the challenges she faced as a female ruler. Despite her accomplishments and abilities, she still had to navigate a society that viewed women as subordinate. This systematic subordination can be seen in the limitations and obstacles she faced throughout her reign.\n",
       "\n",
       "Based on the above analysis, it can be argued that Catherine the Great meets the criteria outlined in the given definition of a woman. She was regularly observed or imagined to have bodily features associated with being a woman, her position as a female ruler marked her within the dominant ideology as someone who should occupy a subordinate social position, and her gender played a role in her systematic subordination. Therefore, Catherine the Great can be considered a woman according to the provided definition.</td>\n",
       "    </tr>\n",
       "    <tr>\n",
       "      <th id=\"T_7785f_level0_row14\" class=\"row_heading level0 row14\" >14</th>\n",
       "      <td id=\"T_7785f_row14_col0\" class=\"data row14 col0\" >Joyce Carol Oates</td>\n",
       "      <td id=\"T_7785f_row14_col1\" class=\"data row14 col1\" >true</td>\n",
       "      <td id=\"T_7785f_row14_col2\" class=\"data row14 col2\" >According to the given definition, an individual is considered a woman if they possess certain bodily features that are typically associated with the female biological role in reproduction. Additionally, these features are used to justify and motivate the individual's subordinate social position within their society. Furthermore, the fact that the individual satisfies both criteria (i) and (ii) contributes to their systematic subordination and oppressive social position.\n",
       "\n",
       "Applying this definition to Joyce Carol Oates, it is important to note that the definition explicitly states to ignore any background knowledge about the concept of a woman. Therefore, we cannot rely on any preconceived notions or assumptions about what it means to be a woman.\n",
       "\n",
       "However, we are allowed to use background knowledge about the entity Joyce Carol Oates. Based on this knowledge, we know that Joyce Carol Oates is a well-known American author, known for her prolific writing career and numerous literary achievements. She has written extensively on a wide range of topics and has received numerous awards and accolades for her work.\n",
       "\n",
       "Given this background information, we can argue that Joyce Carol Oates is a woman based on the definition provided. While we do not have any specific information regarding her bodily features or reproductive role, it is reasonable to assume that she possesses the bodily features presumed to be evidence of a female's biological role in reproduction. This assumption is based on the fact that Joyce Carol Oates is commonly referred to as a woman in society, which suggests that she is regularly observed or imagined to have these bodily features.\n",
       "\n",
       "Furthermore, as a well-known and accomplished author, Joyce Carol Oates occupies a social position that is highly regarded and respected within the literary community. However, it is important to note that this position is not necessarily subordinate in nature. The definition states that the individual's possession of the bodily features associated with reproduction motivates and justifies their occupying a subordinate social position. In the case of Joyce Carol Oates, her accomplishments and recognition in the field of literature do not suggest a subordinate social position.\n",
       "\n",
       "Therefore, based on the given definition and the background knowledge about Joyce Carol Oates, we can argue that she is a woman. However, it is important to acknowledge that this argument is limited by the lack of specific information regarding her bodily features and reproductive role.</td>\n",
       "    </tr>\n",
       "    <tr>\n",
       "      <th id=\"T_7785f_level0_row15\" class=\"row_heading level0 row15\" >15</th>\n",
       "      <td id=\"T_7785f_row15_col0\" class=\"data row15 col0\" >Sally Hemings</td>\n",
       "      <td id=\"T_7785f_row15_col1\" class=\"data row15 col1\" >true</td>\n",
       "      <td id=\"T_7785f_row15_col2\" class=\"data row15 col2\" >Based on the given definition, Sally Hemings can be considered a woman. \n",
       "\n",
       "Firstly, the definition states that a woman is regularly and for the most part observed or imagined to have certain bodily features presumed to be evidence of a female's biological role in reproduction. While the specific bodily features of Sally Hemings are not mentioned in the given information, it can be assumed that she possesses the typical bodily features associated with being a woman, such as breasts and a reproductive system, as she is referred to as a \"she\" and a \"woman\" in the context of the definition.\n",
       "\n",
       "Secondly, the definition states that having these bodily features marks a person within the dominant ideology of their society as someone who ought to occupy certain kinds of social positions that are subordinate. Although the specific social positions that Sally Hemings occupied are not mentioned in the given information, it can be inferred that she lived in a society where women were generally considered to be subordinate to men. This is evident from the fact that her social position is described as being oppressed and subordinate along some dimension.\n",
       "\n",
       "Lastly, the definition states that the fact that a person satisfies the criteria of having certain bodily features and being marked as subordinate plays a role in their systematic subordination. In the case of Sally Hemings, it can be argued that her gender, as evidenced by her bodily features and societal expectations, played a role in her systematic subordination. This is supported by the information that her social position is described as oppressive, and her satisfying the criteria of being a woman likely contributed to this oppression.\n",
       "\n",
       "In conclusion, based on the given definition, Sally Hemings can be considered a woman as she is regularly observed or imagined to have certain bodily features presumed to be evidence of a female's biological role in reproduction, her possession of these features marks her as someone who ought to occupy certain subordinate social positions, and her satisfying these criteria plays a role in her systematic subordination.</td>\n",
       "    </tr>\n",
       "    <tr>\n",
       "      <th id=\"T_7785f_level0_row16\" class=\"row_heading level0 row16\" >16</th>\n",
       "      <td id=\"T_7785f_row16_col0\" class=\"data row16 col0\" >Caitlyn Jenner</td>\n",
       "      <td id=\"T_7785f_row16_col1\" class=\"data row16 col1\" >true</td>\n",
       "      <td id=\"T_7785f_row16_col2\" class=\"data row16 col2\" >Based on the given definition, Caitlyn Jenner can be considered a woman. \n",
       "\n",
       "(i) Caitlyn Jenner is regularly and for the most part observed or imagined to have certain bodily features presumed to be evidence of a female's biological role in reproduction. While Caitlyn Jenner was assigned male at birth, she has undergone gender confirmation surgery and hormone therapy to align her physical appearance with her gender identity as a woman.\n",
       "\n",
       "(ii) The fact that Caitlyn Jenner has these bodily features marks her within the dominant ideology of society as someone who ought to occupy certain kinds of social positions that are in fact subordinate. Caitlyn Jenner's transition and public identification as a woman have resulted in her being perceived and treated as a woman within society, including occupying social positions traditionally associated with women.\n",
       "\n",
       "(iii) The fact that Caitlyn Jenner satisfies (i) and (ii) plays a role in her systematic subordination. While Caitlyn Jenner's transition has brought her significant attention and fame, she has also faced criticism and discrimination based on her gender identity. This demonstrates that she experiences some form of oppression or subordination based on her gender.\n",
       "\n",
       "Therefore, based on the provided definition and the information about Caitlyn Jenner, it can be argued that she is a woman.</td>\n",
       "    </tr>\n",
       "    <tr>\n",
       "      <th id=\"T_7785f_level0_row17\" class=\"row_heading level0 row17\" >17</th>\n",
       "      <td id=\"T_7785f_row17_col0\" class=\"data row17 col0\" >Kamala Harris</td>\n",
       "      <td id=\"T_7785f_row17_col1\" class=\"data row17 col1\" >true</td>\n",
       "      <td id=\"T_7785f_row17_col2\" class=\"data row17 col2\" >Based on the provided definition, we can argue that Kamala Harris is a woman. \n",
       "\n",
       "(i) Kamala Harris is regularly and for the most part observed or imagined to have certain bodily features presumed to be evidence of a female's biological role in reproduction. This is supported by the fact that Kamala Harris has been identified and recognized as a woman throughout her life.\n",
       "\n",
       "(ii) The fact that Kamala Harris has these bodily features marks her within the dominant ideology of society as someone who ought to occupy certain kinds of social positions that are in fact subordinate. As a woman, she has faced societal expectations and stereotypes associated with her gender, which have influenced her social position.\n",
       "\n",
       "(iii) The fact that Kamala Harris satisfies (i) and (ii) plays a role in her systematic subordination. As a woman, she has faced systemic discrimination and inequality based on her gender, which has affected her social position and opportunities.\n",
       "\n",
       "Therefore, based on the provided definition, Kamala Harris can be classified as a woman.</td>\n",
       "    </tr>\n",
       "  </tbody>\n",
       "</table>\n"
      ],
      "text/plain": [
       "<pandas.io.formats.style.Styler at 0x132b3bb50>"
      ]
     },
     "execution_count": 23,
     "metadata": {},
     "output_type": "execute_result"
    }
   ],
   "source": [
    "df = DataFrame( \n",
    "    [ woman_2.classify_entity(Entity(\"\", entity)) for entity in collection ], \n",
    "    columns = [ 'entity' , 'classification', 'rationale' ] \n",
    "    )\n",
    "df[\"classification\"] = df[\"classification\"].str.lower()\n",
    "df.style.set_properties(**{\"text-align\": \"left\", \"overflow-wrap\": \"break-word\"})"
   ]
  },
  {
   "cell_type": "code",
   "execution_count": 24,
   "metadata": {},
   "outputs": [],
   "source": [
    "woman_3 = Concept(\"haslanger_woman\", \"woman\", haslanger_woman_definition, model_name=\"gpt-4-0613\", temperature=0.1)"
   ]
  },
  {
   "cell_type": "code",
   "execution_count": 25,
   "metadata": {},
   "outputs": [
    {
     "data": {
      "text/html": [
       "<style type=\"text/css\">\n",
       "#T_d3d70_row0_col0, #T_d3d70_row0_col1, #T_d3d70_row0_col2, #T_d3d70_row1_col0, #T_d3d70_row1_col1, #T_d3d70_row1_col2, #T_d3d70_row2_col0, #T_d3d70_row2_col1, #T_d3d70_row2_col2, #T_d3d70_row3_col0, #T_d3d70_row3_col1, #T_d3d70_row3_col2, #T_d3d70_row4_col0, #T_d3d70_row4_col1, #T_d3d70_row4_col2, #T_d3d70_row5_col0, #T_d3d70_row5_col1, #T_d3d70_row5_col2, #T_d3d70_row6_col0, #T_d3d70_row6_col1, #T_d3d70_row6_col2, #T_d3d70_row7_col0, #T_d3d70_row7_col1, #T_d3d70_row7_col2, #T_d3d70_row8_col0, #T_d3d70_row8_col1, #T_d3d70_row8_col2, #T_d3d70_row9_col0, #T_d3d70_row9_col1, #T_d3d70_row9_col2, #T_d3d70_row10_col0, #T_d3d70_row10_col1, #T_d3d70_row10_col2, #T_d3d70_row11_col0, #T_d3d70_row11_col1, #T_d3d70_row11_col2, #T_d3d70_row12_col0, #T_d3d70_row12_col1, #T_d3d70_row12_col2, #T_d3d70_row13_col0, #T_d3d70_row13_col1, #T_d3d70_row13_col2, #T_d3d70_row14_col0, #T_d3d70_row14_col1, #T_d3d70_row14_col2, #T_d3d70_row15_col0, #T_d3d70_row15_col1, #T_d3d70_row15_col2, #T_d3d70_row16_col0, #T_d3d70_row16_col1, #T_d3d70_row16_col2, #T_d3d70_row17_col0, #T_d3d70_row17_col1, #T_d3d70_row17_col2 {\n",
       "  text-align: left;\n",
       "  overflow-wrap: break-word;\n",
       "}\n",
       "</style>\n",
       "<table id=\"T_d3d70\">\n",
       "  <thead>\n",
       "    <tr>\n",
       "      <th class=\"blank level0\" >&nbsp;</th>\n",
       "      <th id=\"T_d3d70_level0_col0\" class=\"col_heading level0 col0\" >entity</th>\n",
       "      <th id=\"T_d3d70_level0_col1\" class=\"col_heading level0 col1\" >classification</th>\n",
       "      <th id=\"T_d3d70_level0_col2\" class=\"col_heading level0 col2\" >rationale</th>\n",
       "    </tr>\n",
       "  </thead>\n",
       "  <tbody>\n",
       "    <tr>\n",
       "      <th id=\"T_d3d70_level0_row0\" class=\"row_heading level0 row0\" >0</th>\n",
       "      <td id=\"T_d3d70_row0_col0\" class=\"data row0 col0\" >Rosa Parks</td>\n",
       "      <td id=\"T_d3d70_row0_col1\" class=\"data row0 col1\" >true</td>\n",
       "      <td id=\"T_d3d70_row0_col2\" class=\"data row0 col2\" >Rosa Parks is a woman because she satisfies all three conditions of the definition. Firstly, Rosa Parks is regularly and for the most part observed or imagined to have certain bodily features presumed to be evidence of a female’s biological role in reproduction, which satisfies condition (i). Secondly, these features mark Rosa Parks within the dominant ideology of her society as someone who ought to occupy certain kinds of social position that are in fact subordinate, which satisfies condition (ii). Lastly, the fact that Rosa Parks satisfies (i) and (ii) plays a role in her systematic subordination, that is, along some dimension, her social position is oppressive, and her satisfying (i) and (ii) plays a role in that dimension of subordination, which satisfies condition (iii). Therefore, according to the provided definition, Rosa Parks is a woman.</td>\n",
       "    </tr>\n",
       "    <tr>\n",
       "      <th id=\"T_d3d70_level0_row1\" class=\"row_heading level0 row1\" >1</th>\n",
       "      <td id=\"T_d3d70_row1_col0\" class=\"data row1 col0\" >Hillary Clinton</td>\n",
       "      <td id=\"T_d3d70_row1_col1\" class=\"data row1 col1\" >true</td>\n",
       "      <td id=\"T_d3d70_row1_col2\" class=\"data row1 col2\" >Hillary Clinton is regularly and for the most part observed or imagined to have certain bodily features presumed to be evidence of a female’s biological role in reproduction, satisfying condition (i) of the definition. Furthermore, these features mark her within the dominant ideology of her society as someone who ought to occupy certain kinds of social position that are in fact subordinate, satisfying condition (ii). Lastly, the fact that she satisfies both (i) and (ii) plays a role in her systematic subordination, that is, along some dimension, her social position is oppressive, and her satisfying (i) and (ii) plays a role in that dimension of subordination, satisfying condition (iii). Therefore, according to the provided definition, Hillary Clinton can be classified as a woman.</td>\n",
       "    </tr>\n",
       "    <tr>\n",
       "      <th id=\"T_d3d70_level0_row2\" class=\"row_heading level0 row2\" >2</th>\n",
       "      <td id=\"T_d3d70_row2_col0\" class=\"data row2 col0\" >Pamela Anderson</td>\n",
       "      <td id=\"T_d3d70_row2_col1\" class=\"data row2 col1\" >true</td>\n",
       "      <td id=\"T_d3d70_row2_col2\" class=\"data row2 col2\" >Pamela Anderson is regularly and for the most part observed or imagined to have certain bodily features presumed to be evidence of a female’s biological role in reproduction, satisfying condition (i) of the definition. These features mark her within the dominant ideology of her society as someone who ought to occupy certain kinds of social position that are in fact subordinate, satisfying condition (ii). The fact that Pamela Anderson satisfies both (i) and (ii) plays a role in her systematic subordination, that is, along some dimension, her social position is oppressive, and her satisfying (i) and (ii) plays a role in that dimension of subordination, satisfying condition (iii). Therefore, according to the provided definition, Pamela Anderson is a woman.</td>\n",
       "    </tr>\n",
       "    <tr>\n",
       "      <th id=\"T_d3d70_level0_row3\" class=\"row_heading level0 row3\" >3</th>\n",
       "      <td id=\"T_d3d70_row3_col0\" class=\"data row3 col0\" >Lebron James</td>\n",
       "      <td id=\"T_d3d70_row3_col1\" class=\"data row3 col1\" >false</td>\n",
       "      <td id=\"T_d3d70_row3_col2\" class=\"data row3 col2\" >Given the definition provided, it is not possible to argue that Lebron James is a woman. Lebron James is not regularly and for the most part observed or imagined to have certain bodily features presumed to be evidence of a female’s biological role in reproduction. Furthermore, he is not marked within the dominant ideology of his society as someone who ought to occupy certain kinds of social position that are in fact subordinate. Lastly, there is no evidence to suggest that Lebron James's social position is oppressive due to him satisfying conditions (i) and (ii). Therefore, based on the provided definition, Lebron James cannot be classified as a woman.</td>\n",
       "    </tr>\n",
       "    <tr>\n",
       "      <th id=\"T_d3d70_level0_row4\" class=\"row_heading level0 row4\" >4</th>\n",
       "      <td id=\"T_d3d70_row4_col0\" class=\"data row4 col0\" >Sally Haslanger</td>\n",
       "      <td id=\"T_d3d70_row4_col1\" class=\"data row4 col1\" >false</td>\n",
       "      <td id=\"T_d3d70_row4_col2\" class=\"data row4 col2\" >To argue that Sally Haslanger is a woman based on the provided definition, we would need to establish that she meets all three conditions outlined in the definition. \n",
       "\n",
       "Firstly, we would need to establish that Sally Haslanger is regularly and for the most part observed or imagined to have certain bodily features presumed to be evidence of a female’s biological role in reproduction. This could be established through observation or reliable testimony about her physical appearance.\n",
       "\n",
       "Secondly, we would need to establish that Sally Haslanger's possession of these features marks her within the dominant ideology of her society as someone who ought to occupy certain kinds of social position that are in fact subordinate. This could be established through an analysis of the societal norms and expectations in the society where Sally lives.\n",
       "\n",
       "Finally, we would need to establish that the fact that Sally satisfies the first two conditions plays a role in her systematic subordination, that is, along some dimension, her social position is oppressive, and her satisfying the first two conditions plays a role in that dimension of subordination. This could be established through an analysis of the societal structures and power dynamics in the society where Sally lives.\n",
       "\n",
       "Without specific background knowledge about Sally Haslanger, it is impossible to definitively argue that she is a woman based on the provided definition. However, if we had such information and it supported all three conditions, we could argue that Sally Haslanger is a woman.</td>\n",
       "    </tr>\n",
       "    <tr>\n",
       "      <th id=\"T_d3d70_level0_row5\" class=\"row_heading level0 row5\" >5</th>\n",
       "      <td id=\"T_d3d70_row5_col0\" class=\"data row5 col0\" >Nancy Pelosi</td>\n",
       "      <td id=\"T_d3d70_row5_col1\" class=\"data row5 col1\" >true</td>\n",
       "      <td id=\"T_d3d70_row5_col2\" class=\"data row5 col2\" >Nancy Pelosi is a woman because she is regularly and for the most part observed to have certain bodily features presumed to be evidence of a female’s biological role in reproduction. This marks her within the dominant ideology of her society as someone who ought to occupy certain kinds of social position that are in fact subordinate. Despite her high-ranking position in politics, she still exists within a society that systematically subordinates women, and her satisfying the first two conditions plays a role in that dimension of subordination. Therefore, according to the given definition, Nancy Pelosi is a woman.</td>\n",
       "    </tr>\n",
       "    <tr>\n",
       "      <th id=\"T_d3d70_level0_row6\" class=\"row_heading level0 row6\" >6</th>\n",
       "      <td id=\"T_d3d70_row6_col0\" class=\"data row6 col0\" >Catwoman</td>\n",
       "      <td id=\"T_d3d70_row6_col1\" class=\"data row6 col1\" >true</td>\n",
       "      <td id=\"T_d3d70_row6_col2\" class=\"data row6 col2\" >Catwoman, as a character, is regularly and for the most part observed or imagined to have certain bodily features presumed to be evidence of a female’s biological role in reproduction, satisfying condition (i) of the definition. In the dominant ideology of her society, these features mark her as someone who ought to occupy certain kinds of social position that are in fact subordinate, satisfying condition (ii). The fact that Catwoman satisfies both (i) and (ii) plays a role in her systematic subordination, that is, along some dimension, her social position is oppressive, and her satisfying (i) and (ii) plays a role in that dimension of subordination, satisfying condition (iii). Therefore, according to the given definition, Catwoman can be considered a woman.</td>\n",
       "    </tr>\n",
       "    <tr>\n",
       "      <th id=\"T_d3d70_level0_row7\" class=\"row_heading level0 row7\" >7</th>\n",
       "      <td id=\"T_d3d70_row7_col0\" class=\"data row7 col0\" >Taylor Swift</td>\n",
       "      <td id=\"T_d3d70_row7_col1\" class=\"data row7 col1\" >true</td>\n",
       "      <td id=\"T_d3d70_row7_col2\" class=\"data row7 col2\" >Taylor Swift is a woman because she is regularly observed and imagined to have certain bodily features that are presumed to be evidence of a female's biological role in reproduction. This is evident from her physical appearance which aligns with the societal expectations of a female body. Furthermore, within the dominant ideology of her society, these features mark her as someone who ought to occupy certain kinds of social positions that are in fact subordinate. This is evident from the roles and expectations placed on her as a female celebrity in the music industry. Lastly, the fact that Taylor Swift satisfies both these conditions plays a role in her systematic subordination. Despite her success, she has faced challenges and criticisms that are gender-specific, indicating that her social position is oppressive along some dimension. Therefore, according to the given definition, Taylor Swift is a woman.</td>\n",
       "    </tr>\n",
       "    <tr>\n",
       "      <th id=\"T_d3d70_level0_row8\" class=\"row_heading level0 row8\" >8</th>\n",
       "      <td id=\"T_d3d70_row8_col0\" class=\"data row8 col0\" >Julia Roberts</td>\n",
       "      <td id=\"T_d3d70_row8_col1\" class=\"data row8 col1\" >true</td>\n",
       "      <td id=\"T_d3d70_row8_col2\" class=\"data row8 col2\" >Julia Roberts is regularly and for the most part observed or imagined to have certain bodily features presumed to be evidence of a female’s biological role in reproduction, satisfying condition (i) of the definition. Furthermore, these features mark Julia Roberts within the dominant ideology of her society as someone who ought to occupy certain kinds of social position that are in fact subordinate, satisfying condition (ii). Lastly, the fact that Julia Roberts satisfies (i) and (ii) plays a role in her systematic subordination, that is, along some dimension, her social position is oppressive, and her satisfying (i) and (ii) plays a role in that dimension of subordination, satisfying condition (iii). Therefore, according to the given definition, Julia Roberts is a woman.</td>\n",
       "    </tr>\n",
       "    <tr>\n",
       "      <th id=\"T_d3d70_level0_row9\" class=\"row_heading level0 row9\" >9</th>\n",
       "      <td id=\"T_d3d70_row9_col0\" class=\"data row9 col0\" >James Earl Carter</td>\n",
       "      <td id=\"T_d3d70_row9_col1\" class=\"data row9 col1\" >false</td>\n",
       "      <td id=\"T_d3d70_row9_col2\" class=\"data row9 col2\" >Given the definition provided, it is not possible to argue that James Earl Carter is a woman. The definition requires that the subject, in this case James Earl Carter, is observed or imagined to have certain bodily features associated with the female biological role in reproduction. As far as we know, James Earl Carter, also known as former U.S. President Jimmy Carter, does not possess these features. Additionally, the definition requires that the subject occupies a social position that is subordinate within the dominant ideology of their society. While Carter has certainly occupied positions of power and influence, these are not typically considered subordinate. Finally, the definition requires that the subject's social position is oppressive and that their satisfying the first two conditions plays a role in this oppression. Again, this does not apply to Carter. Therefore, based on the provided definition, we cannot argue that James Earl Carter is a woman.</td>\n",
       "    </tr>\n",
       "    <tr>\n",
       "      <th id=\"T_d3d70_level0_row10\" class=\"row_heading level0 row10\" >10</th>\n",
       "      <td id=\"T_d3d70_row10_col0\" class=\"data row10 col0\" >Peter Bogdanovich</td>\n",
       "      <td id=\"T_d3d70_row10_col1\" class=\"data row10 col1\" >false</td>\n",
       "      <td id=\"T_d3d70_row10_col2\" class=\"data row10 col2\" >Given the definition provided, it is not possible to argue that Peter Bogdanovich is a woman. The definition requires that the subject, in this case Peter Bogdanovich, is observed or imagined to have certain bodily features associated with the female biological role in reproduction. There is no information provided that suggests Peter Bogdanovich has these features. Furthermore, the definition requires that the subject is marked within their society's dominant ideology as someone who should occupy a subordinate social position. Again, there is no information provided that suggests Peter Bogdanovich occupies such a position. Lastly, the definition requires that the subject's social position is oppressive and that their satisfying the first two conditions plays a role in this oppression. There is no information provided that suggests Peter Bogdanovich's social position is oppressive. Therefore, based on the provided definition and the lack of information suggesting otherwise, it is not possible to argue that Peter Bogdanovich is a woman.</td>\n",
       "    </tr>\n",
       "    <tr>\n",
       "      <th id=\"T_d3d70_level0_row11\" class=\"row_heading level0 row11\" >11</th>\n",
       "      <td id=\"T_d3d70_row11_col0\" class=\"data row11 col0\" >Elinor Ostrom</td>\n",
       "      <td id=\"T_d3d70_row11_col1\" class=\"data row11 col1\" >false</td>\n",
       "      <td id=\"T_d3d70_row11_col2\" class=\"data row11 col2\" >Assuming that Elinor Ostrom is regularly and for the most part observed or imagined to have certain bodily features presumed to be evidence of a female’s biological role in reproduction, she would satisfy condition (i) of the definition. If these features mark her within the dominant ideology of her society as someone who ought to occupy certain kinds of social position that are in fact subordinate, she would satisfy condition (ii). If the fact that she satisfies (i) and (ii) plays a role in her systematic subordination, that is, along some dimension, her social position is oppressive, and her satisfying (i) and (ii) plays a role in that dimension of subordination, she would satisfy condition (iii). Therefore, based on the provided definition, Elinor Ostrom could be considered a woman.</td>\n",
       "    </tr>\n",
       "    <tr>\n",
       "      <th id=\"T_d3d70_level0_row12\" class=\"row_heading level0 row12\" >12</th>\n",
       "      <td id=\"T_d3d70_row12_col0\" class=\"data row12 col0\" >Catherine of Aragon</td>\n",
       "      <td id=\"T_d3d70_row12_col1\" class=\"data row12 col1\" >true</td>\n",
       "      <td id=\"T_d3d70_row12_col2\" class=\"data row12 col2\" >Catherine of Aragon was regularly and for the most part observed or imagined to have certain bodily features presumed to be evidence of a female’s biological role in reproduction, satisfying condition (i) of the definition. As a queen, she was marked within the dominant ideology of her society as someone who ought to occupy certain kinds of social position that are in fact subordinate, such as being expected to produce a male heir and being subject to her husband's authority, satisfying condition (ii). The fact that Catherine of Aragon satisfies (i) and (ii) played a role in her systematic subordination, as her inability to produce a male heir led to her divorce and downfall, which is an oppressive social position, satisfying condition (iii). Therefore, according to the given definition, Catherine of Aragon can be considered a woman.</td>\n",
       "    </tr>\n",
       "    <tr>\n",
       "      <th id=\"T_d3d70_level0_row13\" class=\"row_heading level0 row13\" >13</th>\n",
       "      <td id=\"T_d3d70_row13_col0\" class=\"data row13 col0\" >Catherine the Great</td>\n",
       "      <td id=\"T_d3d70_row13_col1\" class=\"data row13 col1\" >true</td>\n",
       "      <td id=\"T_d3d70_row13_col2\" class=\"data row13 col2\" >Catherine the Great is a woman because she satisfies all the conditions stated in the definition. Firstly, she is regularly and for the most part observed or imagined to have certain bodily features presumed to be evidence of a female’s biological role in reproduction. This is evident from historical records and portraits of her that depict her as a female. Secondly, Catherine the Great, despite her powerful position, lived in a society where the dominant ideology marked her as someone who ought to occupy certain kinds of social position that are in fact subordinate due to her gender. This is evident from the fact that she had to navigate a male-dominated political landscape and faced numerous challenges due to her gender. Lastly, the fact that Catherine the Great satisfies the first two conditions plays a role in her systematic subordination. Despite her reign as Empress, she was still subject to the oppressive social position of women in her society. Therefore, according to the given definition, Catherine the Great is a woman.</td>\n",
       "    </tr>\n",
       "    <tr>\n",
       "      <th id=\"T_d3d70_level0_row14\" class=\"row_heading level0 row14\" >14</th>\n",
       "      <td id=\"T_d3d70_row14_col0\" class=\"data row14 col0\" >Joyce Carol Oates</td>\n",
       "      <td id=\"T_d3d70_row14_col1\" class=\"data row14 col1\" >false</td>\n",
       "      <td id=\"T_d3d70_row14_col2\" class=\"data row14 col2\" >Assuming that Joyce Carol Oates is regularly and for the most part observed or imagined to have certain bodily features presumed to be evidence of a female’s biological role in reproduction, she would satisfy condition (i) of the definition. If these features mark her within the dominant ideology of her society as someone who ought to occupy certain kinds of social position that are in fact subordinate, she would satisfy condition (ii). If the fact that she satisfies (i) and (ii) plays a role in her systematic subordination, that is, along some dimension, her social position is oppressive, and her satisfying (i) and (ii) plays a role in that dimension of subordination, she would satisfy condition (iii). Therefore, based on the given definition, Joyce Carol Oates can be considered a woman.</td>\n",
       "    </tr>\n",
       "    <tr>\n",
       "      <th id=\"T_d3d70_level0_row15\" class=\"row_heading level0 row15\" >15</th>\n",
       "      <td id=\"T_d3d70_row15_col0\" class=\"data row15 col0\" >Sally Hemings</td>\n",
       "      <td id=\"T_d3d70_row15_col1\" class=\"data row15 col1\" >true</td>\n",
       "      <td id=\"T_d3d70_row15_col2\" class=\"data row15 col2\" >Sally Hemings is a woman because she satisfies all the conditions mentioned in the definition. Firstly, Sally Hemings is regularly and for the most part observed or imagined to have certain bodily features presumed to be evidence of a female’s biological role in reproduction. This is evident from the fact that she bore children. Secondly, these features mark Sally Hemings within the dominant ideology of her society as someone who ought to occupy certain kinds of social position that are in fact subordinate. This is evident from the fact that she was a slave, a position that was clearly subordinate in her society. Lastly, the fact that Sally Hemings satisfies the first two conditions plays a role in her systematic subordination. Her social position as a slave was oppressive, and her satisfying the first two conditions played a role in that dimension of subordination. Therefore, according to the given definition, Sally Hemings is a woman.</td>\n",
       "    </tr>\n",
       "    <tr>\n",
       "      <th id=\"T_d3d70_level0_row16\" class=\"row_heading level0 row16\" >16</th>\n",
       "      <td id=\"T_d3d70_row16_col0\" class=\"data row16 col0\" >Caitlyn Jenner</td>\n",
       "      <td id=\"T_d3d70_row16_col1\" class=\"data row16 col1\" >true</td>\n",
       "      <td id=\"T_d3d70_row16_col2\" class=\"data row16 col2\" >Caitlyn Jenner can be considered a woman based on the given definition. Firstly, she is regularly and for the most part observed or imagined to have certain bodily features presumed to be evidence of a female’s biological role in reproduction. This is due to her undergoing gender transition surgery and hormone replacement therapy, which have given her physical characteristics typically associated with females. Secondly, these features mark her within the dominant ideology of her society as someone who ought to occupy certain kinds of social position that are in fact subordinate. This is evident in the way she is treated and perceived by society, often facing discrimination and prejudice due to her transgender identity. Lastly, the fact that she satisfies both (i) and (ii) plays a role in her systematic subordination. As a transgender woman, she faces unique challenges and oppressions, such as transphobia and discrimination, which are indicative of her social position being oppressive. Therefore, based on the given definition, Caitlyn Jenner can be considered a woman.</td>\n",
       "    </tr>\n",
       "    <tr>\n",
       "      <th id=\"T_d3d70_level0_row17\" class=\"row_heading level0 row17\" >17</th>\n",
       "      <td id=\"T_d3d70_row17_col0\" class=\"data row17 col0\" >Kamala Harris</td>\n",
       "      <td id=\"T_d3d70_row17_col1\" class=\"data row17 col1\" >true</td>\n",
       "      <td id=\"T_d3d70_row17_col2\" class=\"data row17 col2\" >Kamala Harris is a woman because she satisfies all the conditions outlined in the definition. Firstly, she is regularly and for the most part observed to have certain bodily features presumed to be evidence of a female’s biological role in reproduction, which satisfies condition (i). Secondly, these features mark her within the dominant ideology of her society as someone who ought to occupy certain kinds of social position that are in fact subordinate, which satisfies condition (ii). Lastly, the fact that she satisfies both (i) and (ii) plays a role in her systematic subordination, that is, along some dimension, her social position is oppressive, and her satisfying (i) and (ii) plays a role in that dimension of subordination, which satisfies condition (iii). Therefore, according to the given definition, Kamala Harris is a woman.</td>\n",
       "    </tr>\n",
       "  </tbody>\n",
       "</table>\n"
      ],
      "text/plain": [
       "<pandas.io.formats.style.Styler at 0x1336e0a90>"
      ]
     },
     "execution_count": 25,
     "metadata": {},
     "output_type": "execute_result"
    }
   ],
   "source": [
    "df = DataFrame( \n",
    "    [ woman_3.classify_entity(Entity(\"\", entity)) for entity in collection ], \n",
    "    columns = [ 'entity' , 'classification', 'rationale' ] \n",
    "    )\n",
    "df[\"classification\"] = df[\"classification\"].str.lower()\n",
    "df.style.set_properties(**{\"text-align\": \"left\", \"overflow-wrap\": \"break-word\"})"
   ]
  },
  {
   "cell_type": "code",
   "execution_count": 26,
   "metadata": {},
   "outputs": [],
   "source": [
    "def iteratively_refine_concept(concept, iterations=5):\n",
    "    concepts = [ concept.to_json() ]\n",
    "    for i in range(iterations):\n",
    "        counterexample = concept.propose_counterexample()\n",
    "        print(f'Iteration {i+1}')\n",
    "        print(f'   Counterexample: {counterexample[\"counterexample\"]}')\n",
    "        revision = concept.revise_definition(counterexample)\n",
    "        print(f'   Revised definition: {revision[\"revision\"]}')\n",
    "        revised_concept = Concept(concept.id, concept.label, revision[\"revision\"])\n",
    "        concepts.append(revised_concept.to_json())\n",
    "        concept = revised_concept\n",
    "    return concepts"
   ]
  },
  {
   "cell_type": "code",
   "execution_count": 27,
   "metadata": {},
   "outputs": [
    {
     "name": "stdout",
     "output_type": "stream",
     "text": [
      "Iteration 1\n",
      "   Counterexample: Switzerland\n",
      "   Revised definition: Europe is a continent located entirely in the Northern Hemisphere and mostly in the Eastern Hemisphere, comprising of all countries geographically situated within its boundaries, regardless of their affiliation or non-affiliation with the European Union or its predecessors.\n",
      "Iteration 2\n",
      "   Counterexample: Cyprus\n",
      "   Revised definition: Europe is a continent primarily located in the Northern Hemisphere and mostly in the Eastern Hemisphere, comprising of all countries geographically situated within or in close proximity to its boundaries, regardless of their affiliation or non-affiliation with the European Union or its predecessors. This includes countries that are considered part of Europe politically, culturally, or due to their participation in European activities and organizations, even if their geographical location is closer to other continents.\n",
      "Iteration 3\n",
      "   Counterexample: Greenland\n",
      "   Revised definition: Europe is a continent primarily located in the Northern Hemisphere and mostly in the Eastern Hemisphere, comprising of all countries geographically situated within or in close proximity to its boundaries, regardless of their affiliation or non-affiliation with the European Union or its predecessors. This includes countries that are considered part of Europe politically, culturally, or due to their participation in European activities and organizations, even if their geographical location is closer to other continents. Additionally, territories that have political ties to European countries, even if they are geographically located in other continents and do not actively participate in European activities and organizations, are also considered part of Europe.\n",
      "Iteration 4\n",
      "   Counterexample: Greenland\n",
      "   Revised definition: Europe is a continent primarily located in the Northern Hemisphere and mostly in the Eastern Hemisphere, comprising of all countries geographically situated within or in close proximity to its boundaries, regardless of their affiliation or non-affiliation with the European Union or its predecessors. This includes countries that are considered part of Europe politically, culturally, or due to their participation in European activities and organizations, even if their geographical location is closer to other continents. Additionally, territories that have political ties to European countries, even if they are geographically located in other continents and do not actively participate in European activities and organizations, are also considered part of Europe. The geographical location of these territories does not have to align with the primary location of Europe in the Northern and Eastern Hemispheres.\n",
      "Iteration 5\n",
      "   Counterexample: Greenland\n",
      "   Revised definition: Europe is a continent primarily located in the Northern Hemisphere and mostly in the Eastern Hemisphere, comprising of all countries geographically situated within or in close proximity to its boundaries, regardless of their affiliation or non-affiliation with the European Union or its predecessors. This includes countries that are considered part of Europe politically, culturally, or due to their participation in European activities and organizations, even if their geographical location is closer to other continents. Additionally, territories that have political ties to European countries, even if they are geographically located in other continents, are considered part of Europe if they actively participate in European activities and organizations. The geographical location of these territories does not have to align with the primary location of Europe in the Northern and Eastern Hemispheres. However, territories that do not actively participate in European activities and organizations, despite having political ties to European countries, are not considered part of Europe.\n"
     ]
    },
    {
     "data": {
      "text/plain": [
       "[{'id': 'oed_europe',\n",
       "  'label': 'Europe',\n",
       "  'definition': 'The European Union or its predecessors',\n",
       "  'model_name': 'gpt-4',\n",
       "  'temperature': 0.1},\n",
       " {'id': 'oed_europe',\n",
       "  'label': 'Europe',\n",
       "  'definition': 'Europe is a continent located entirely in the Northern Hemisphere and mostly in the Eastern Hemisphere, comprising of all countries geographically situated within its boundaries, regardless of their affiliation or non-affiliation with the European Union or its predecessors.',\n",
       "  'model_name': 'gpt-4',\n",
       "  'temperature': 0.1},\n",
       " {'id': 'oed_europe',\n",
       "  'label': 'Europe',\n",
       "  'definition': 'Europe is a continent primarily located in the Northern Hemisphere and mostly in the Eastern Hemisphere, comprising of all countries geographically situated within or in close proximity to its boundaries, regardless of their affiliation or non-affiliation with the European Union or its predecessors. This includes countries that are considered part of Europe politically, culturally, or due to their participation in European activities and organizations, even if their geographical location is closer to other continents.',\n",
       "  'model_name': 'gpt-4',\n",
       "  'temperature': 0.1},\n",
       " {'id': 'oed_europe',\n",
       "  'label': 'Europe',\n",
       "  'definition': 'Europe is a continent primarily located in the Northern Hemisphere and mostly in the Eastern Hemisphere, comprising of all countries geographically situated within or in close proximity to its boundaries, regardless of their affiliation or non-affiliation with the European Union or its predecessors. This includes countries that are considered part of Europe politically, culturally, or due to their participation in European activities and organizations, even if their geographical location is closer to other continents. Additionally, territories that have political ties to European countries, even if they are geographically located in other continents and do not actively participate in European activities and organizations, are also considered part of Europe.',\n",
       "  'model_name': 'gpt-4',\n",
       "  'temperature': 0.1},\n",
       " {'id': 'oed_europe',\n",
       "  'label': 'Europe',\n",
       "  'definition': 'Europe is a continent primarily located in the Northern Hemisphere and mostly in the Eastern Hemisphere, comprising of all countries geographically situated within or in close proximity to its boundaries, regardless of their affiliation or non-affiliation with the European Union or its predecessors. This includes countries that are considered part of Europe politically, culturally, or due to their participation in European activities and organizations, even if their geographical location is closer to other continents. Additionally, territories that have political ties to European countries, even if they are geographically located in other continents and do not actively participate in European activities and organizations, are also considered part of Europe. The geographical location of these territories does not have to align with the primary location of Europe in the Northern and Eastern Hemispheres.',\n",
       "  'model_name': 'gpt-4',\n",
       "  'temperature': 0.1},\n",
       " {'id': 'oed_europe',\n",
       "  'label': 'Europe',\n",
       "  'definition': 'Europe is a continent primarily located in the Northern Hemisphere and mostly in the Eastern Hemisphere, comprising of all countries geographically situated within or in close proximity to its boundaries, regardless of their affiliation or non-affiliation with the European Union or its predecessors. This includes countries that are considered part of Europe politically, culturally, or due to their participation in European activities and organizations, even if their geographical location is closer to other continents. Additionally, territories that have political ties to European countries, even if they are geographically located in other continents, are considered part of Europe if they actively participate in European activities and organizations. The geographical location of these territories does not have to align with the primary location of Europe in the Northern and Eastern Hemispheres. However, territories that do not actively participate in European activities and organizations, despite having political ties to European countries, are not considered part of Europe.',\n",
       "  'model_name': 'gpt-4',\n",
       "  'temperature': 0.1}]"
      ]
     },
     "execution_count": 27,
     "metadata": {},
     "output_type": "execute_result"
    }
   ],
   "source": [
    "europe = Concept(\"oed_europe\", \"Europe\", \"The European Union or its predecessors\")\n",
    "iteratively_refine_concept(europe, iterations=5)"
   ]
  }
 ],
 "metadata": {
  "kernelspec": {
   "display_name": "conceptual-engineering-using-llms",
   "language": "python",
   "name": "python3"
  },
  "language_info": {
   "codemirror_mode": {
    "name": "ipython",
    "version": 3
   },
   "file_extension": ".py",
   "mimetype": "text/x-python",
   "name": "python",
   "nbconvert_exporter": "python",
   "pygments_lexer": "ipython3",
   "version": "3.11.4"
  },
  "orig_nbformat": 4
 },
 "nbformat": 4,
 "nbformat_minor": 2
}
