{
 "cells": [
  {
   "cell_type": "code",
   "execution_count": 1,
   "metadata": {},
   "outputs": [],
   "source": [
    "import wikipedia, requests, random, pycm, json, pandas as pd, matplotlib.pyplot as plt, seaborn as sns\n",
    "from tqdm import tqdm\n",
    "from IPython.display import display, Markdown\n",
    "from classification_procedure import ClassificationProcedure"
   ]
  },
  {
   "cell_type": "markdown",
   "metadata": {},
   "source": [
    "## Classification procedures"
   ]
  },
  {
   "cell_type": "code",
   "execution_count": 2,
   "metadata": {},
   "outputs": [],
   "source": [
    "oed_planet = ClassificationProcedure(\n",
    "    \"OED\",\n",
    "    \"planet\", \n",
    "    \"\"\"Any of various rocky or gaseous bodies that revolve in approximately elliptical orbits \n",
    "around the sun and are visible by its reflected light; esp. each of the planets Mercury, Venus, \n",
    "Earth, Mars, Jupiter, Saturn, Uranus, Neptune, and (until 2006) Pluto (in order of increasing \n",
    "distance from the sun); a similar body revolving around another star. Also: any of various \n",
    "smaller bodies that revolve around these (cf. satellite n. 2a).\"\"\",\n",
    "    \"https://www.oed.com/dictionary/planet_n\"\n",
    ")\n",
    "\n",
    "iau_2006_8_16_planet = ClassificationProcedure(\n",
    "    \"IAU 2006-08-16\",\n",
    "    \"planet\", \n",
    "    \"\"\"A planet is a celestial body that (a) has sufficient mass for its self-gravity to \n",
    "overcome rigid body forces so that it assumes a hydrostatic equilibrium (nearly round) shape, \n",
    "and (b) is in orbit around a star, and is neither a star nor a satellite of a planet.\"\"\",\n",
    "    \"https://www.iau.org/news/pressreleases/detail/iau0601/\"\n",
    ")\n",
    "\n",
    "iau_2006_8_24_planet = ClassificationProcedure(\n",
    "    \"IAU 2006-08-24\",\n",
    "    \"planet\", \n",
    "    \"\"\"A planet [1] is a celestial body that (a) is in orbit around the Sun, (b) has sufficient \n",
    "mass for its self-gravity to overcome rigid body forces so that it assumes a hydrostatic \n",
    "equilibrium (nearly round) shape, and (c) has cleared the neighbourhood around its orbit.\"\"\",\n",
    "    \"https://www.iau.org/static/resolutions/Resolution_GA26-5-6.pdf\"\n",
    ")"
   ]
  },
  {
   "cell_type": "markdown",
   "metadata": {},
   "source": [
    "### Example in Figure 1"
   ]
  },
  {
   "cell_type": "code",
   "execution_count": 3,
   "metadata": {},
   "outputs": [
    {
     "data": {
      "text/plain": [
       "{'concept': 'planet',\n",
       " 'definition': 'A planet [1] is a celestial body that (a) is in orbit around the Sun, (b) has sufficient \\nmass for its self-gravity to overcome rigid body forces so that it assumes a hydrostatic \\nequilibrium (nearly round) shape, and (c) has cleared the neighbourhood around its orbit.',\n",
       " 'entity': 'DENIS-P J082303.1−491201 b',\n",
       " 'description': 'DENIS-P J082303.1-491201 b (alias 2MASS J08230313-4912012 b) is a substellar object, classified as either an exoplanet or a brown dwarf, orbiting DENIS-P J082303.1-491201, an L1.5-type brown dwarf in the constellation Vela.',\n",
       " 'rationale': \"The description of DENIS-P J082303.1−491201 b indicates that it is a substellar object that orbits DENIS-P J082303.1-491201, which is similar to the first part of the definition of a planet that states it should be in orbit around the Sun. However, in this case, it is orbiting a brown dwarf and not the Sun. The description does not provide information about its mass or shape, or whether it has cleared its orbit's neighbourhood. Therefore, based on the provided definition and the information given, it cannot be definitively argued that DENIS-P J082303.1−491201 b is a planet.\",\n",
       " 'answer': 'negative'}"
      ]
     },
     "execution_count": 3,
     "metadata": {},
     "output_type": "execute_result"
    }
   ],
   "source": [
    "iau_2006_8_24_planet.classify(\"DENIS-P J082303.1−491201 b\", \"DENIS-P J082303.1-491201 b (alias 2MASS J08230313-4912012 b) is a substellar object, classified as either an exoplanet or a brown dwarf, orbiting DENIS-P J082303.1-491201, an L1.5-type brown dwarf in the constellation Vela.\")"
   ]
  },
  {
   "cell_type": "markdown",
   "metadata": {},
   "source": [
    "## Wikidata queries"
   ]
  },
  {
   "cell_type": "code",
   "execution_count": 4,
   "metadata": {},
   "outputs": [],
   "source": [
    "KNOWLEDGE_GRAPH = \"https://query.wikidata.org/sparql\"\n",
    "\n",
    "QUERY_HEADERS = {\n",
    "    'User-Agent': 'ConceptualEngineeringAgent/0.2 (https://github.com/bradleypallen/conceptual-engineering-using-llms; b.p.allen@uva.nl)',\n",
    "}\n",
    "\n",
    "SAMPLE_SIZE = 5\n",
    "\n",
    "POSITIVE_EXAMPLES_QUERY = \"\"\"SELECT DISTINCT ?entity ?name ?article WHERE {\n",
    "  {\n",
    "    ?entity p:P31/ps:P31/wdt:P279* wd:Q634 .\n",
    "    ?article schema:about ?entity ;\n",
    "            schema:inLanguage \"en\" ;\n",
    "            schema:isPartOf <https://en.wikipedia.org/> ;\n",
    "            schema:name ?name .\n",
    "  }\n",
    "} LIMIT 10000\"\"\"\n",
    "\n",
    "NEGATIVE_EXAMPLES_QUERY = \"\"\"SELECT DISTINCT ?entity ?name ?article WHERE {\n",
    "  {\n",
    "    ?entity p:P31/ps:P31/wdt:P279* wd:Q3132741 .\n",
    "    ?article schema:about ?entity ;\n",
    "            schema:inLanguage \"en\" ;\n",
    "            schema:isPartOf <https://en.wikipedia.org/> ;\n",
    "            schema:name ?name .\n",
    "    FILTER NOT EXISTS { ?entity p:P31/ps:P31 wd:Q634 }\n",
    "  }\n",
    "} LIMIT 10000\"\"\""
   ]
  },
  {
   "cell_type": "markdown",
   "metadata": {},
   "source": [
    "## Example entities"
   ]
  },
  {
   "cell_type": "code",
   "execution_count": 5,
   "metadata": {},
   "outputs": [],
   "source": [
    "response = requests.get(KNOWLEDGE_GRAPH, params={'query' : POSITIVE_EXAMPLES_QUERY, 'format' : 'json'}, headers=QUERY_HEADERS)\n",
    "response.raise_for_status()\n",
    "json_response = response.json()\n",
    "records = [ [ result[\"entity\"][\"value\"], result[\"name\"][\"value\"], result[\"article\"][\"value\"] ] for result in json_response[\"results\"][\"bindings\"] ]\n",
    "records = random.sample(records, SAMPLE_SIZE)\n",
    "positive_examples = pd.DataFrame.from_records(records, columns=[\"id\", \"name\", \"article\"])\n",
    "positive_examples[\"description\"] = positive_examples[\"name\"].apply(lambda name: wikipedia.summary(name, auto_suggest=False).replace('\"', r'\\\"').strip()) \n",
    "positive_examples[\"actual\"] = \"positive\""
   ]
  },
  {
   "cell_type": "code",
   "execution_count": 6,
   "metadata": {},
   "outputs": [],
   "source": [
    "response = requests.get(KNOWLEDGE_GRAPH, params={'query' : NEGATIVE_EXAMPLES_QUERY, 'format' : 'json'}, headers=QUERY_HEADERS)\n",
    "response.raise_for_status()\n",
    "json_response = response.json()\n",
    "records = [ [ result[\"entity\"][\"value\"], result[\"name\"][\"value\"], result[\"article\"][\"value\"] ] for result in json_response[\"results\"][\"bindings\"] ]\n",
    "records = random.sample(records, SAMPLE_SIZE)\n",
    "negative_examples = pd.DataFrame.from_records(records, columns=[\"id\", \"name\", \"article\"])\n",
    "negative_examples[\"description\"] = negative_examples[\"name\"].apply(lambda name: wikipedia.summary(name, auto_suggest=False).replace('\"', r'\\\"').strip()) \n",
    "negative_examples[\"actual\"] = \"negative\""
   ]
  },
  {
   "cell_type": "code",
   "execution_count": 7,
   "metadata": {},
   "outputs": [
    {
     "data": {
      "text/html": [
       "<div>\n",
       "<style scoped>\n",
       "    .dataframe tbody tr th:only-of-type {\n",
       "        vertical-align: middle;\n",
       "    }\n",
       "\n",
       "    .dataframe tbody tr th {\n",
       "        vertical-align: top;\n",
       "    }\n",
       "\n",
       "    .dataframe thead th {\n",
       "        text-align: right;\n",
       "    }\n",
       "</style>\n",
       "<table border=\"1\" class=\"dataframe\">\n",
       "  <thead>\n",
       "    <tr style=\"text-align: right;\">\n",
       "      <th></th>\n",
       "      <th>id</th>\n",
       "      <th>name</th>\n",
       "      <th>article</th>\n",
       "      <th>description</th>\n",
       "      <th>actual</th>\n",
       "    </tr>\n",
       "  </thead>\n",
       "  <tbody>\n",
       "    <tr>\n",
       "      <th>0</th>\n",
       "      <td>http://www.wikidata.org/entity/Q276894</td>\n",
       "      <td>94 Ceti b</td>\n",
       "      <td>https://en.wikipedia.org/wiki/94_Ceti_b</td>\n",
       "      <td>94 Ceti b or 94 Ceti Ab to distinguish it from...</td>\n",
       "      <td>positive</td>\n",
       "    </tr>\n",
       "    <tr>\n",
       "      <th>1</th>\n",
       "      <td>http://www.wikidata.org/entity/Q4042007</td>\n",
       "      <td>Kepler-40b</td>\n",
       "      <td>https://en.wikipedia.org/wiki/Kepler-40b</td>\n",
       "      <td>Kepler-40b, formerly known as KOI-428b, is a h...</td>\n",
       "      <td>positive</td>\n",
       "    </tr>\n",
       "    <tr>\n",
       "      <th>2</th>\n",
       "      <td>http://www.wikidata.org/entity/Q94262831</td>\n",
       "      <td>HD 34445 g</td>\n",
       "      <td>https://en.wikipedia.org/wiki/HD_34445_g</td>\n",
       "      <td>HD 34445 is a star with multiple exoplanetary ...</td>\n",
       "      <td>positive</td>\n",
       "    </tr>\n",
       "    <tr>\n",
       "      <th>3</th>\n",
       "      <td>http://www.wikidata.org/entity/Q24577721</td>\n",
       "      <td>Kepler-1647b</td>\n",
       "      <td>https://en.wikipedia.org/wiki/Kepler-1647b</td>\n",
       "      <td>Kepler-1647b (sometimes named Kepler-1647(AB)-...</td>\n",
       "      <td>positive</td>\n",
       "    </tr>\n",
       "    <tr>\n",
       "      <th>4</th>\n",
       "      <td>http://www.wikidata.org/entity/Q84034588</td>\n",
       "      <td>Nu2 Lupi b</td>\n",
       "      <td>https://en.wikipedia.org/wiki/Nu2_Lupi_b</td>\n",
       "      <td>Nu2 Lupi (ν2 Lupi) is a 6th magnitude G-type m...</td>\n",
       "      <td>positive</td>\n",
       "    </tr>\n",
       "    <tr>\n",
       "      <th>5</th>\n",
       "      <td>http://www.wikidata.org/entity/Q4177862</td>\n",
       "      <td>C/1957 P1 (Mrkos)</td>\n",
       "      <td>https://en.wikipedia.org/wiki/C/1957_P1_(Mrkos)</td>\n",
       "      <td>Comet Mrkos, formally known as C/1957 P1 (old ...</td>\n",
       "      <td>negative</td>\n",
       "    </tr>\n",
       "    <tr>\n",
       "      <th>6</th>\n",
       "      <td>http://www.wikidata.org/entity/Q730006</td>\n",
       "      <td>5015 Litke</td>\n",
       "      <td>https://en.wikipedia.org/wiki/5015_Litke</td>\n",
       "      <td>The following is a partial list of minor plane...</td>\n",
       "      <td>negative</td>\n",
       "    </tr>\n",
       "    <tr>\n",
       "      <th>7</th>\n",
       "      <td>http://www.wikidata.org/entity/Q3598947</td>\n",
       "      <td>37782 Jacquespiccard</td>\n",
       "      <td>https://en.wikipedia.org/wiki/37782_Jacquespic...</td>\n",
       "      <td>The following is a partial list of minor plane...</td>\n",
       "      <td>negative</td>\n",
       "    </tr>\n",
       "    <tr>\n",
       "      <th>8</th>\n",
       "      <td>http://www.wikidata.org/entity/Q1341767</td>\n",
       "      <td>6P/d'Arrest</td>\n",
       "      <td>https://en.wikipedia.org/wiki/6P/d%27Arrest</td>\n",
       "      <td>6P/d'Arrest (also known as d'Arrest's Comet or...</td>\n",
       "      <td>negative</td>\n",
       "    </tr>\n",
       "    <tr>\n",
       "      <th>9</th>\n",
       "      <td>http://www.wikidata.org/entity/Q157680</td>\n",
       "      <td>893 Leopoldina</td>\n",
       "      <td>https://en.wikipedia.org/wiki/893_Leopoldina</td>\n",
       "      <td>893 Leopoldina (prov. designation: A918 KD or ...</td>\n",
       "      <td>negative</td>\n",
       "    </tr>\n",
       "  </tbody>\n",
       "</table>\n",
       "</div>"
      ],
      "text/plain": [
       "                                         id                  name  \\\n",
       "0    http://www.wikidata.org/entity/Q276894             94 Ceti b   \n",
       "1   http://www.wikidata.org/entity/Q4042007            Kepler-40b   \n",
       "2  http://www.wikidata.org/entity/Q94262831            HD 34445 g   \n",
       "3  http://www.wikidata.org/entity/Q24577721          Kepler-1647b   \n",
       "4  http://www.wikidata.org/entity/Q84034588            Nu2 Lupi b   \n",
       "5   http://www.wikidata.org/entity/Q4177862     C/1957 P1 (Mrkos)   \n",
       "6    http://www.wikidata.org/entity/Q730006            5015 Litke   \n",
       "7   http://www.wikidata.org/entity/Q3598947  37782 Jacquespiccard   \n",
       "8   http://www.wikidata.org/entity/Q1341767           6P/d'Arrest   \n",
       "9    http://www.wikidata.org/entity/Q157680        893 Leopoldina   \n",
       "\n",
       "                                             article  \\\n",
       "0            https://en.wikipedia.org/wiki/94_Ceti_b   \n",
       "1           https://en.wikipedia.org/wiki/Kepler-40b   \n",
       "2           https://en.wikipedia.org/wiki/HD_34445_g   \n",
       "3         https://en.wikipedia.org/wiki/Kepler-1647b   \n",
       "4           https://en.wikipedia.org/wiki/Nu2_Lupi_b   \n",
       "5    https://en.wikipedia.org/wiki/C/1957_P1_(Mrkos)   \n",
       "6           https://en.wikipedia.org/wiki/5015_Litke   \n",
       "7  https://en.wikipedia.org/wiki/37782_Jacquespic...   \n",
       "8        https://en.wikipedia.org/wiki/6P/d%27Arrest   \n",
       "9       https://en.wikipedia.org/wiki/893_Leopoldina   \n",
       "\n",
       "                                         description    actual  \n",
       "0  94 Ceti b or 94 Ceti Ab to distinguish it from...  positive  \n",
       "1  Kepler-40b, formerly known as KOI-428b, is a h...  positive  \n",
       "2  HD 34445 is a star with multiple exoplanetary ...  positive  \n",
       "3  Kepler-1647b (sometimes named Kepler-1647(AB)-...  positive  \n",
       "4  Nu2 Lupi (ν2 Lupi) is a 6th magnitude G-type m...  positive  \n",
       "5  Comet Mrkos, formally known as C/1957 P1 (old ...  negative  \n",
       "6  The following is a partial list of minor plane...  negative  \n",
       "7  The following is a partial list of minor plane...  negative  \n",
       "8  6P/d'Arrest (also known as d'Arrest's Comet or...  negative  \n",
       "9  893 Leopoldina (prov. designation: A918 KD or ...  negative  "
      ]
     },
     "execution_count": 7,
     "metadata": {},
     "output_type": "execute_result"
    }
   ],
   "source": [
    "examples = pd.concat([positive_examples, negative_examples], ignore_index=True)\n",
    "examples"
   ]
  },
  {
   "cell_type": "markdown",
   "metadata": {},
   "source": [
    "## Experiments"
   ]
  },
  {
   "cell_type": "code",
   "execution_count": 8,
   "metadata": {},
   "outputs": [],
   "source": [
    "def run_experiment(cp, examples):\n",
    "    classifications = examples.to_dict(\"records\")\n",
    "    for entity in tqdm(classifications):\n",
    "        classification = cp.classify(entity[\"name\"], entity[\"description\"])\n",
    "        entity[\"rationale\"] = classification[\"rationale\"]\n",
    "        entity[\"predicted\"] = classification[\"answer\"]\n",
    "    return pd.DataFrame.from_records(classifications)"
   ]
  },
  {
   "cell_type": "code",
   "execution_count": 9,
   "metadata": {},
   "outputs": [
    {
     "name": "stderr",
     "output_type": "stream",
     "text": [
      "100%|██████████| 10/10 [01:34<00:00,  9.47s/it]\n"
     ]
    }
   ],
   "source": [
    "oed_planet_results = run_experiment(oed_planet, examples)"
   ]
  },
  {
   "cell_type": "code",
   "execution_count": 11,
   "metadata": {},
   "outputs": [
    {
     "name": "stderr",
     "output_type": "stream",
     "text": [
      "100%|██████████| 10/10 [01:40<00:00, 10.09s/it]\n"
     ]
    }
   ],
   "source": [
    "iau_2006_8_16_planet_results = run_experiment(iau_2006_8_16_planet, examples)"
   ]
  },
  {
   "cell_type": "code",
   "execution_count": 12,
   "metadata": {},
   "outputs": [
    {
     "name": "stderr",
     "output_type": "stream",
     "text": [
      "100%|██████████| 10/10 [01:36<00:00,  9.66s/it]\n"
     ]
    }
   ],
   "source": [
    "iau_2006_8_24_planet_results = run_experiment(iau_2006_8_24_planet, examples)"
   ]
  },
  {
   "cell_type": "markdown",
   "metadata": {},
   "source": [
    "## Performance metrics"
   ]
  },
  {
   "cell_type": "code",
   "execution_count": 13,
   "metadata": {},
   "outputs": [],
   "source": [
    "oed_planet_cm = pycm.ConfusionMatrix(\n",
    "    oed_planet_results[\"actual\"].tolist(), \n",
    "    oed_planet_results[\"predicted\"].tolist(), \n",
    "    digit=2, \n",
    "    classes=[ 'positive', 'negative' ]\n",
    ")\n",
    "\n",
    "iau_2006_8_16_planet_cm = pycm.ConfusionMatrix(\n",
    "    iau_2006_8_16_planet_results[\"actual\"].tolist(), \n",
    "    iau_2006_8_16_planet_results[\"predicted\"].tolist(), \n",
    "    digit=2, \n",
    "    classes=[ 'positive', 'negative' ]\n",
    ")\n",
    "\n",
    "iau_2006_8_24_planet_cm = pycm.ConfusionMatrix(\n",
    "    iau_2006_8_24_planet_results[\"actual\"].tolist(), \n",
    "    iau_2006_8_24_planet_results[\"predicted\"].tolist(), \n",
    "    digit=2, \n",
    "    classes=[ 'positive', 'negative' ]\n",
    ")"
   ]
  },
  {
   "cell_type": "code",
   "execution_count": 14,
   "metadata": {},
   "outputs": [],
   "source": [
    "cms = [\n",
    "    (f'{oed_planet.term} ({oed_planet.id})', oed_planet_cm),\n",
    "    (f'{iau_2006_8_16_planet.term} ({iau_2006_8_16_planet.id})', iau_2006_8_16_planet_cm),\n",
    "    (f'{iau_2006_8_24_planet.term} ({iau_2006_8_24_planet.id})', iau_2006_8_24_planet_cm)\n",
    "]"
   ]
  },
  {
   "cell_type": "code",
   "execution_count": 15,
   "metadata": {},
   "outputs": [
    {
     "data": {
      "image/png": "[encoded data removed]",
      "text/plain": [
       "<Figure size 2000x1400 with 23 Axes>"
      ]
     },
     "metadata": {},
     "output_type": "display_data"
    }
   ],
   "source": [
    "fig = plt.figure(figsize=(20,14))\n",
    "gs = fig.add_gridspec(4, 5, hspace=0.5)\n",
    "axes = gs.subplots()\n",
    "for ax, (name, cm) in zip(axes.flat, cms):\n",
    "    df = pd.DataFrame(cm.matrix).T.fillna(0)\n",
    "    sns.heatmap(df, annot=True, fmt='d', cmap=\"YlGnBu\", ax=ax)\n",
    "    ax.set_title(name, wrap=True, fontsize=9)\n",
    "    ax.set(xlabel='classification\\nprocedure', ylabel='Wikidata')\n",
    "for ax in axes.flat[len(cms):]:\n",
    "    ax.set_visible(False)\n",
    "plt.show()"
   ]
  },
  {
   "cell_type": "code",
   "execution_count": 16,
   "metadata": {},
   "outputs": [
    {
     "data": {
      "text/html": [
       "<div>\n",
       "<style scoped>\n",
       "    .dataframe tbody tr th:only-of-type {\n",
       "        vertical-align: middle;\n",
       "    }\n",
       "\n",
       "    .dataframe tbody tr th {\n",
       "        vertical-align: top;\n",
       "    }\n",
       "\n",
       "    .dataframe thead th {\n",
       "        text-align: right;\n",
       "    }\n",
       "</style>\n",
       "<table border=\"1\" class=\"dataframe\">\n",
       "  <thead>\n",
       "    <tr style=\"text-align: right;\">\n",
       "      <th></th>\n",
       "      <th>classification procedure</th>\n",
       "      <th>Cohen's kappa</th>\n",
       "      <th>F1 macro</th>\n",
       "      <th>FN</th>\n",
       "      <th>FP</th>\n",
       "    </tr>\n",
       "  </thead>\n",
       "  <tbody>\n",
       "    <tr>\n",
       "      <th>0</th>\n",
       "      <td>planet (OED)</td>\n",
       "      <td>0.6</td>\n",
       "      <td>0.800000</td>\n",
       "      <td>1</td>\n",
       "      <td>1</td>\n",
       "    </tr>\n",
       "    <tr>\n",
       "      <th>1</th>\n",
       "      <td>planet (IAU 2006-08-16)</td>\n",
       "      <td>0.6</td>\n",
       "      <td>0.791667</td>\n",
       "      <td>2</td>\n",
       "      <td>0</td>\n",
       "    </tr>\n",
       "    <tr>\n",
       "      <th>2</th>\n",
       "      <td>planet (IAU 2006-08-24)</td>\n",
       "      <td>0.6</td>\n",
       "      <td>0.791667</td>\n",
       "      <td>2</td>\n",
       "      <td>0</td>\n",
       "    </tr>\n",
       "  </tbody>\n",
       "</table>\n",
       "</div>"
      ],
      "text/plain": [
       "  classification procedure  Cohen's kappa  F1 macro  FN  FP\n",
       "0             planet (OED)            0.6  0.800000   1   1\n",
       "1  planet (IAU 2006-08-16)            0.6  0.791667   2   0\n",
       "2  planet (IAU 2006-08-24)            0.6  0.791667   2   0"
      ]
     },
     "execution_count": 16,
     "metadata": {},
     "output_type": "execute_result"
    }
   ],
   "source": [
    "metrics = pd.DataFrame.from_records([ \n",
    "    { \"classification procedure\": cm[0], \"Cohen's kappa\": cm[1].Kappa, \"F1 macro\": cm[1].F1_Macro, \"FN\": cm[1].FN[\"positive\"], \"FP\": cm[1].FP[\"positive\"] }\n",
    "    for cm in cms \n",
    "])\n",
    "metrics.sort_values(by=\"Cohen's kappa\", ascending=False)"
   ]
  },
  {
   "cell_type": "markdown",
   "metadata": {},
   "source": [
    "## Error analyses"
   ]
  },
  {
   "cell_type": "code",
   "execution_count": 17,
   "metadata": {},
   "outputs": [],
   "source": [
    "def display_errors(cp, results):\n",
    "    display(Markdown(f'### {cp.term} ({cp.id})'))\n",
    "    display(Markdown(f'#### Definition'))\n",
    "    display(Markdown(f'{cp.definition}'))\n",
    "    fns = results[((results[\"actual\"] == 'positive') & (results[\"predicted\"] == 'negative'))][[\"name\", \"description\", \"rationale\"]]\n",
    "    if len(fns) > 0:\n",
    "        fns_styler = fns.style.set_properties(**{\"text-align\": \"left\", \"vertical-align\" : \"top\", \"overflow-wrap\": \"break-word\"}).hide(axis=\"index\")\n",
    "        display(Markdown(f'#### False negatives'))\n",
    "        display(fns_styler)\n",
    "    fps = results[((results[\"actual\"] == 'negative') & (results[\"predicted\"] == 'positive'))][[\"name\", \"description\", \"rationale\"]]\n",
    "    if len(fps) > 0:\n",
    "        fps_styler = fps.style.set_properties(**{\"text-align\": \"left\", \"vertical-align\" : \"top\", \"overflow-wrap\": \"break-word\"}).hide(axis=\"index\")\n",
    "        display(Markdown(f'#### False positives'))\n",
    "        display(fps_styler)\n"
   ]
  },
  {
   "cell_type": "code",
   "execution_count": 18,
   "metadata": {},
   "outputs": [
    {
     "data": {
      "text/markdown": [
       "### planet (OED)"
      ],
      "text/plain": [
       "<IPython.core.display.Markdown object>"
      ]
     },
     "metadata": {},
     "output_type": "display_data"
    },
    {
     "data": {
      "text/markdown": [
       "#### Definition"
      ],
      "text/plain": [
       "<IPython.core.display.Markdown object>"
      ]
     },
     "metadata": {},
     "output_type": "display_data"
    },
    {
     "data": {
      "text/markdown": [
       "Any of various rocky or gaseous bodies that revolve in approximately elliptical orbits \n",
       "around the sun and are visible by its reflected light; esp. each of the planets Mercury, Venus, \n",
       "Earth, Mars, Jupiter, Saturn, Uranus, Neptune, and (until 2006) Pluto (in order of increasing \n",
       "distance from the sun); a similar body revolving around another star. Also: any of various \n",
       "smaller bodies that revolve around these (cf. satellite n. 2a)."
      ],
      "text/plain": [
       "<IPython.core.display.Markdown object>"
      ]
     },
     "metadata": {},
     "output_type": "display_data"
    },
    {
     "data": {
      "text/markdown": [
       "#### False negatives"
      ],
      "text/plain": [
       "<IPython.core.display.Markdown object>"
      ]
     },
     "metadata": {},
     "output_type": "display_data"
    },
    {
     "data": {
      "text/html": [
       "<style type=\"text/css\">\n",
       "#T_40eb4_row0_col0, #T_40eb4_row0_col1, #T_40eb4_row0_col2 {\n",
       "  text-align: left;\n",
       "  vertical-align: top;\n",
       "  overflow-wrap: break-word;\n",
       "}\n",
       "</style>\n",
       "<table id=\"T_40eb4\">\n",
       "  <thead>\n",
       "    <tr>\n",
       "      <th id=\"T_40eb4_level0_col0\" class=\"col_heading level0 col0\" >name</th>\n",
       "      <th id=\"T_40eb4_level0_col1\" class=\"col_heading level0 col1\" >description</th>\n",
       "      <th id=\"T_40eb4_level0_col2\" class=\"col_heading level0 col2\" >rationale</th>\n",
       "    </tr>\n",
       "  </thead>\n",
       "  <tbody>\n",
       "    <tr>\n",
       "      <td id=\"T_40eb4_row0_col0\" class=\"data row0 col0\" >Nu2 Lupi b</td>\n",
       "      <td id=\"T_40eb4_row0_col1\" class=\"data row0 col1\" >Nu2 Lupi (ν2 Lupi) is a 6th magnitude G-type main-sequence star located approximately 48 light-years away in the constellation of Lupus. The physical properties of the star are similar to those of the Sun, though Nu2 Lupi is significantly older.</td>\n",
       "      <td id=\"T_40eb4_row0_col2\" class=\"data row0 col2\" >The definition of a planet states that it is a body that revolves in approximately elliptical orbits around the sun or a similar body revolving around another star. While the description of Nu2 Lupi b does not explicitly state that it revolves around a star, it is implied by the fact that it is located in the constellation of Lupus and is associated with a G-type main-sequence star. Therefore, based on the provided definition, it can be argued that Nu2 Lupi b is a planet. However, more specific information about Nu2 Lupi b's characteristics and its orbit would be needed to confirm this assertion.</td>\n",
       "    </tr>\n",
       "  </tbody>\n",
       "</table>\n"
      ],
      "text/plain": [
       "<pandas.io.formats.style.Styler at 0x168de2950>"
      ]
     },
     "metadata": {},
     "output_type": "display_data"
    },
    {
     "data": {
      "text/markdown": [
       "#### False positives"
      ],
      "text/plain": [
       "<IPython.core.display.Markdown object>"
      ]
     },
     "metadata": {},
     "output_type": "display_data"
    },
    {
     "data": {
      "text/html": [
       "<style type=\"text/css\">\n",
       "#T_e5f2c_row0_col0, #T_e5f2c_row0_col1, #T_e5f2c_row0_col2 {\n",
       "  text-align: left;\n",
       "  vertical-align: top;\n",
       "  overflow-wrap: break-word;\n",
       "}\n",
       "</style>\n",
       "<table id=\"T_e5f2c\">\n",
       "  <thead>\n",
       "    <tr>\n",
       "      <th id=\"T_e5f2c_level0_col0\" class=\"col_heading level0 col0\" >name</th>\n",
       "      <th id=\"T_e5f2c_level0_col1\" class=\"col_heading level0 col1\" >description</th>\n",
       "      <th id=\"T_e5f2c_level0_col2\" class=\"col_heading level0 col2\" >rationale</th>\n",
       "    </tr>\n",
       "  </thead>\n",
       "  <tbody>\n",
       "    <tr>\n",
       "      <td id=\"T_e5f2c_row0_col0\" class=\"data row0 col0\" >5015 Litke</td>\n",
       "      <td id=\"T_e5f2c_row0_col1\" class=\"data row0 col1\" >The following is a partial list of minor planets, running from minor-planet number 5001 through 6000, inclusive. The primary data for this and other partial lists is based on JPL's \\\"Small-Body Orbital Elements\\\" and \\\"Data Available from the Minor Planet Center\\\". A detailed description of the table's columns and additional sources are given on the main page including a complete list of every page in this series, and a statistical break-up on the dynamical classification of minor planets.\n",
       "Also see the summary list of all named bodies in numerical and alphabetical order, and the corresponding naming citations for the number range of this particular list. New namings may only be added to this list after official publication, as the preannouncement of names is condemned by the Working Group for Small Bodies Nomenclature of the International Astronomical Union.</td>\n",
       "      <td id=\"T_e5f2c_row0_col2\" class=\"data row0 col2\" >The definition of a planet includes any of various smaller bodies that revolve around larger bodies such as the sun. The description of 5015 Litke identifies it as a minor planet, which implies that it is a smaller body that revolves around a larger body. Therefore, based on the provided definition, one could argue that 5015 Litke is a planet.</td>\n",
       "    </tr>\n",
       "  </tbody>\n",
       "</table>\n"
      ],
      "text/plain": [
       "<pandas.io.formats.style.Styler at 0x168e2fa90>"
      ]
     },
     "metadata": {},
     "output_type": "display_data"
    }
   ],
   "source": [
    "display_errors(oed_planet, oed_planet_results)"
   ]
  },
  {
   "cell_type": "code",
   "execution_count": 19,
   "metadata": {},
   "outputs": [
    {
     "data": {
      "text/markdown": [
       "### planet (IAU 2006-08-16)"
      ],
      "text/plain": [
       "<IPython.core.display.Markdown object>"
      ]
     },
     "metadata": {},
     "output_type": "display_data"
    },
    {
     "data": {
      "text/markdown": [
       "#### Definition"
      ],
      "text/plain": [
       "<IPython.core.display.Markdown object>"
      ]
     },
     "metadata": {},
     "output_type": "display_data"
    },
    {
     "data": {
      "text/markdown": [
       "A planet is a celestial body that (a) has sufficient mass for its self-gravity to \n",
       "overcome rigid body forces so that it assumes a hydrostatic equilibrium (nearly round) shape, \n",
       "and (b) is in orbit around a star, and is neither a star nor a satellite of a planet."
      ],
      "text/plain": [
       "<IPython.core.display.Markdown object>"
      ]
     },
     "metadata": {},
     "output_type": "display_data"
    },
    {
     "data": {
      "text/markdown": [
       "#### False negatives"
      ],
      "text/plain": [
       "<IPython.core.display.Markdown object>"
      ]
     },
     "metadata": {},
     "output_type": "display_data"
    },
    {
     "data": {
      "text/html": [
       "<style type=\"text/css\">\n",
       "#T_bc9f4_row0_col0, #T_bc9f4_row0_col1, #T_bc9f4_row0_col2, #T_bc9f4_row1_col0, #T_bc9f4_row1_col1, #T_bc9f4_row1_col2 {\n",
       "  text-align: left;\n",
       "  vertical-align: top;\n",
       "  overflow-wrap: break-word;\n",
       "}\n",
       "</style>\n",
       "<table id=\"T_bc9f4\">\n",
       "  <thead>\n",
       "    <tr>\n",
       "      <th id=\"T_bc9f4_level0_col0\" class=\"col_heading level0 col0\" >name</th>\n",
       "      <th id=\"T_bc9f4_level0_col1\" class=\"col_heading level0 col1\" >description</th>\n",
       "      <th id=\"T_bc9f4_level0_col2\" class=\"col_heading level0 col2\" >rationale</th>\n",
       "    </tr>\n",
       "  </thead>\n",
       "  <tbody>\n",
       "    <tr>\n",
       "      <td id=\"T_bc9f4_row0_col0\" class=\"data row0 col0\" >HD 34445 g</td>\n",
       "      <td id=\"T_bc9f4_row0_col1\" class=\"data row0 col1\" >HD 34445 is a star with multiple exoplanetary companions in the equatorial constellation of Orion. With an apparent visual magnitude of 7.31, it is a 7th magnitude star that is too dim to be readily visible to the naked eye. The system is located at a distance of 150.5 light years from the Sun based on parallax measurements, but is drifting closer with a high radial velocity of −79 km/s. It is expected to draw as close as 57.5 light-years in ~492,000 years.This is an ordinary G-type main-sequence star with a stellar classification of G0 V, which means it is a Sun-like star that is generating energy through core hydrogen fusion. It is considered a metal-rich star, showing a much higher metallicity compared to the Sun. Despite this it is an older star and chromospherically quiet, lying about 0.8 magnitudes above the main sequence. This star is larger, hotter, brighter, and more massive than the Sun. It is spinning with a projected rotational velocity of ~3 km/s, giving it a rotation period of around 22 days.</td>\n",
       "      <td id=\"T_bc9f4_row0_col2\" class=\"data row0 col2\" >The text does not provide sufficient information to assert that HD 34445 g is a planet. The description only provides information about the star HD 34445, not about any specific celestial body orbiting it. To classify HD 34445 g as a planet, we would need information confirming that it is a celestial body in orbit around the star HD 34445, that it has sufficient mass to assume a nearly round shape due to its self-gravity, and that it is not a star itself or a satellite of another planet.</td>\n",
       "    </tr>\n",
       "    <tr>\n",
       "      <td id=\"T_bc9f4_row1_col0\" class=\"data row1 col0\" >Nu2 Lupi b</td>\n",
       "      <td id=\"T_bc9f4_row1_col1\" class=\"data row1 col1\" >Nu2 Lupi (ν2 Lupi) is a 6th magnitude G-type main-sequence star located approximately 48 light-years away in the constellation of Lupus. The physical properties of the star are similar to those of the Sun, though Nu2 Lupi is significantly older.</td>\n",
       "      <td id=\"T_bc9f4_row1_col2\" class=\"data row1 col2\" >The provided description does not provide enough information to definitively assert that Nu2 Lupi b is a planet. The description only provides information about the star Nu2 Lupi, not about any celestial bodies orbiting it. To determine if Nu2 Lupi b is a planet, we would need information about its mass, shape, and whether it orbits a star (in this case, Nu2 Lupi) without being a star itself or a satellite of another planet.</td>\n",
       "    </tr>\n",
       "  </tbody>\n",
       "</table>\n"
      ],
      "text/plain": [
       "<pandas.io.formats.style.Styler at 0x16901dd10>"
      ]
     },
     "metadata": {},
     "output_type": "display_data"
    }
   ],
   "source": [
    "display_errors(iau_2006_8_16_planet, iau_2006_8_16_planet_results)"
   ]
  },
  {
   "cell_type": "code",
   "execution_count": 20,
   "metadata": {},
   "outputs": [
    {
     "data": {
      "text/markdown": [
       "### planet (IAU 2006-08-24)"
      ],
      "text/plain": [
       "<IPython.core.display.Markdown object>"
      ]
     },
     "metadata": {},
     "output_type": "display_data"
    },
    {
     "data": {
      "text/markdown": [
       "#### Definition"
      ],
      "text/plain": [
       "<IPython.core.display.Markdown object>"
      ]
     },
     "metadata": {},
     "output_type": "display_data"
    },
    {
     "data": {
      "text/markdown": [
       "A planet [1] is a celestial body that (a) is in orbit around the Sun, (b) has sufficient \n",
       "mass for its self-gravity to overcome rigid body forces so that it assumes a hydrostatic \n",
       "equilibrium (nearly round) shape, and (c) has cleared the neighbourhood around its orbit."
      ],
      "text/plain": [
       "<IPython.core.display.Markdown object>"
      ]
     },
     "metadata": {},
     "output_type": "display_data"
    },
    {
     "data": {
      "text/markdown": [
       "#### False negatives"
      ],
      "text/plain": [
       "<IPython.core.display.Markdown object>"
      ]
     },
     "metadata": {},
     "output_type": "display_data"
    },
    {
     "data": {
      "text/html": [
       "<style type=\"text/css\">\n",
       "#T_78176_row0_col0, #T_78176_row0_col1, #T_78176_row0_col2, #T_78176_row1_col0, #T_78176_row1_col1, #T_78176_row1_col2 {\n",
       "  text-align: left;\n",
       "  vertical-align: top;\n",
       "  overflow-wrap: break-word;\n",
       "}\n",
       "</style>\n",
       "<table id=\"T_78176\">\n",
       "  <thead>\n",
       "    <tr>\n",
       "      <th id=\"T_78176_level0_col0\" class=\"col_heading level0 col0\" >name</th>\n",
       "      <th id=\"T_78176_level0_col1\" class=\"col_heading level0 col1\" >description</th>\n",
       "      <th id=\"T_78176_level0_col2\" class=\"col_heading level0 col2\" >rationale</th>\n",
       "    </tr>\n",
       "  </thead>\n",
       "  <tbody>\n",
       "    <tr>\n",
       "      <td id=\"T_78176_row0_col0\" class=\"data row0 col0\" >HD 34445 g</td>\n",
       "      <td id=\"T_78176_row0_col1\" class=\"data row0 col1\" >HD 34445 is a star with multiple exoplanetary companions in the equatorial constellation of Orion. With an apparent visual magnitude of 7.31, it is a 7th magnitude star that is too dim to be readily visible to the naked eye. The system is located at a distance of 150.5 light years from the Sun based on parallax measurements, but is drifting closer with a high radial velocity of −79 km/s. It is expected to draw as close as 57.5 light-years in ~492,000 years.This is an ordinary G-type main-sequence star with a stellar classification of G0 V, which means it is a Sun-like star that is generating energy through core hydrogen fusion. It is considered a metal-rich star, showing a much higher metallicity compared to the Sun. Despite this it is an older star and chromospherically quiet, lying about 0.8 magnitudes above the main sequence. This star is larger, hotter, brighter, and more massive than the Sun. It is spinning with a projected rotational velocity of ~3 km/s, giving it a rotation period of around 22 days.</td>\n",
       "      <td id=\"T_78176_row0_col2\" class=\"data row0 col2\" >The provided description does not provide enough information to definitively assert that HD 34445 g is a planet. The description primarily focuses on the characteristics of the star HD 34445, not a specific celestial body in orbit around it. To classify HD 34445 g as a planet, we would need information confirming that it orbits around the star (the Sun in this system), has sufficient mass to maintain a nearly round shape due to its self-gravity, and has cleared its orbit's neighbourhood. Without this information, we cannot confirm that HD 34445 g is a planet based on the provided definition.</td>\n",
       "    </tr>\n",
       "    <tr>\n",
       "      <td id=\"T_78176_row1_col0\" class=\"data row1 col0\" >Nu2 Lupi b</td>\n",
       "      <td id=\"T_78176_row1_col1\" class=\"data row1 col1\" >Nu2 Lupi (ν2 Lupi) is a 6th magnitude G-type main-sequence star located approximately 48 light-years away in the constellation of Lupus. The physical properties of the star are similar to those of the Sun, though Nu2 Lupi is significantly older.</td>\n",
       "      <td id=\"T_78176_row1_col2\" class=\"data row1 col2\" >The provided description does not provide enough information to definitively assert that Nu2 Lupi b is a planet. The definition of a planet requires that it is in orbit around the Sun, has sufficient mass to assume a nearly round shape due to its self-gravity, and has cleared the neighbourhood around its orbit. The description of Nu2 Lupi b only mentions that it is associated with a star, Nu2 Lupi, but does not provide information on its orbit, mass, shape, or the state of its orbital neighbourhood. Therefore, based solely on the provided information, we cannot assert that Nu2 Lupi b is a planet.</td>\n",
       "    </tr>\n",
       "  </tbody>\n",
       "</table>\n"
      ],
      "text/plain": [
       "<pandas.io.formats.style.Styler at 0x15fad6f90>"
      ]
     },
     "metadata": {},
     "output_type": "display_data"
    }
   ],
   "source": [
    "display_errors(iau_2006_8_24_planet, iau_2006_8_24_planet_results)"
   ]
  },
  {
   "cell_type": "markdown",
   "metadata": {},
   "source": [
    "## Experimental results data dump"
   ]
  },
  {
   "cell_type": "code",
   "execution_count": 21,
   "metadata": {},
   "outputs": [],
   "source": [
    "EXPERIMENTS_FILENAME = \"planet_experiment.json\"\n",
    "\n",
    "experiments = [\n",
    "    {\n",
    "        \"classification_procedure\": {\n",
    "            \"id\": cp.id,\n",
    "            \"term\": cp.term,\n",
    "            \"definition\": cp.definition,\n",
    "            \"reference\": cp.reference,\n",
    "            \"model_name\": cp.model_name,\n",
    "            \"temperature\": cp.temperature\n",
    "        },\n",
    "        \"results\": results.to_dict(\"records\")\n",
    "    } for cp, results in [\n",
    "        (oed_planet, oed_planet_results),\n",
    "        (iau_2006_8_16_planet, iau_2006_8_16_planet_results),\n",
    "        (iau_2006_8_24_planet, iau_2006_8_24_planet_results)\n",
    "    ]\n",
    "]\n",
    "\n",
    "json.dump(experiments, open(EXPERIMENTS_FILENAME, 'w+'))"
   ]
  }
 ],
 "metadata": {
  "kernelspec": {
   "display_name": "conceptual-engineering-using-llms",
   "language": "python",
   "name": "python3"
  },
  "language_info": {
   "codemirror_mode": {
    "name": "ipython",
    "version": 3
   },
   "file_extension": ".py",
   "mimetype": "text/x-python",
   "name": "python",
   "nbconvert_exporter": "python",
   "pygments_lexer": "ipython3",
   "version": "3.11.4"
  },
  "orig_nbformat": 4
 },
 "nbformat": 4,
 "nbformat_minor": 2
}
