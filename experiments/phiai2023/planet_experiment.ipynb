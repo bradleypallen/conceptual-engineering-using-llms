{
 "cells": [
  {
   "cell_type": "code",
   "execution_count": 1,
   "metadata": {},
   "outputs": [],
   "source": [
    "import wikipedia, requests, random, pycm, json, pandas as pd, matplotlib.pyplot as plt, seaborn as sns\n",
    "from tqdm import tqdm\n",
    "from IPython.display import display, Markdown\n",
    "from classification_procedure import ClassificationProcedure"
   ]
  },
  {
   "cell_type": "markdown",
   "metadata": {},
   "source": [
    "## Classification procedures"
   ]
  },
  {
   "cell_type": "code",
   "execution_count": 2,
   "metadata": {},
   "outputs": [],
   "source": [
    "oed_planet = ClassificationProcedure(\n",
    "    \"OED\",\n",
    "    \"planet\", \n",
    "    \"\"\"Any of various rocky or gaseous bodies that revolve in approximately elliptical orbits \n",
    "around the sun and are visible by its reflected light; esp. each of the planets Mercury, Venus, \n",
    "Earth, Mars, Jupiter, Saturn, Uranus, Neptune, and (until 2006) Pluto (in order of increasing \n",
    "distance from the sun); a similar body revolving around another star. Also: any of various \n",
    "smaller bodies that revolve around these (cf. satellite n. 2a).\"\"\",\n",
    "    \"https://www.oed.com/dictionary/planet_n\"\n",
    ")\n",
    "\n",
    "iau_2006_8_16_planet = ClassificationProcedure(\n",
    "    \"IAU 2006-08-16\",\n",
    "    \"planet\", \n",
    "    \"\"\"A planet is a celestial body that (a) has sufficient mass for its self-gravity to \n",
    "overcome rigid body forces so that it assumes a hydrostatic equilibrium (nearly round) shape, \n",
    "and (b) is in orbit around a star, and is neither a star nor a satellite of a planet.\"\"\",\n",
    "    \"https://www.iau.org/news/pressreleases/detail/iau0601/\"\n",
    ")\n",
    "\n",
    "iau_2006_8_24_planet = ClassificationProcedure(\n",
    "    \"IAU 2006-08-24\",\n",
    "    \"planet\", \n",
    "    \"\"\"A planet [1] is a celestial body that (a) is in orbit around the Sun, (b) has sufficient \n",
    "mass for its self-gravity to overcome rigid body forces so that it assumes a hydrostatic \n",
    "equilibrium (nearly round) shape, and (c) has cleared the neighbourhood around its orbit.\"\"\",\n",
    "    \"https://www.iau.org/static/resolutions/Resolution_GA26-5-6.pdf\"\n",
    ")"
   ]
  },
  {
   "cell_type": "markdown",
   "metadata": {},
   "source": [
    "### Example in Figure 1"
   ]
  },
  {
   "cell_type": "code",
   "execution_count": 3,
   "metadata": {},
   "outputs": [
    {
     "data": {
      "text/plain": [
       "{'concept': 'planet',\n",
       " 'definition': 'A planet [1] is a celestial body that (a) is in orbit around the Sun, (b) has sufficient \\nmass for its self-gravity to overcome rigid body forces so that it assumes a hydrostatic \\nequilibrium (nearly round) shape, and (c) has cleared the neighbourhood around its orbit.',\n",
       " 'entity': 'DENIS-P J082303.1−491201 b',\n",
       " 'description': 'DENIS-P J082303.1-491201 b (alias 2MASS J08230313-4912012 b) is a substellar object, classified as either an exoplanet or a brown dwarf, orbiting DENIS-P J082303.1-491201, an L1.5-type brown dwarf in the constellation Vela.',\n",
       " 'rationale': 'The description of DENIS-P J082303.1−491201 b indicates that it is a substellar object that orbits DENIS-P J082303.1-491201, which is similar to the first part of the definition of a planet that states it is a celestial body in orbit around the Sun. Although it is not specifically stated that DENIS-P J082303.1−491201 b is in orbit around the Sun, it can be inferred from the fact that it orbits a brown dwarf, which is a type of star. Therefore, it meets the first criterion of the definition of a planet.\\n\\nHowever, the description does not provide information on whether DENIS-P J082303.1−491201 b has sufficient mass for its self-gravity to overcome rigid body forces so that it assumes a hydrostatic equilibrium shape, or whether it has cleared the neighbourhood around its orbit. Therefore, based on the provided information, it cannot be definitively concluded that DENIS-P J082303.1−491201 b is a planet. More information would be needed to make this determination.',\n",
       " 'answer': 'negative'}"
      ]
     },
     "execution_count": 3,
     "metadata": {},
     "output_type": "execute_result"
    }
   ],
   "source": [
    "iau_2006_8_24_planet.classify(\"DENIS-P J082303.1−491201 b\", \"DENIS-P J082303.1-491201 b (alias 2MASS J08230313-4912012 b) is a substellar object, classified as either an exoplanet or a brown dwarf, orbiting DENIS-P J082303.1-491201, an L1.5-type brown dwarf in the constellation Vela.\")"
   ]
  },
  {
   "cell_type": "markdown",
   "metadata": {},
   "source": [
    "## Wikidata queries"
   ]
  },
  {
   "cell_type": "code",
   "execution_count": 4,
   "metadata": {},
   "outputs": [],
   "source": [
    "KNOWLEDGE_GRAPH = \"https://query.wikidata.org/sparql\"\n",
    "\n",
    "QUERY_HEADERS = {\n",
    "    'User-Agent': 'ConceptualEngineeringAgent/0.2 (https://github.com/bradleypallen/conceptual-engineering-using-llms; b.p.allen@uva.nl)',\n",
    "}\n",
    "\n",
    "SAMPLE_SIZE = 50\n",
    "\n",
    "POSITIVE_EXAMPLES_QUERY = \"\"\"SELECT DISTINCT ?entity ?name ?article WHERE {\n",
    "  {\n",
    "    ?entity p:P31/ps:P31/wdt:P279* wd:Q634 .\n",
    "    ?article schema:about ?entity ;\n",
    "            schema:inLanguage \"en\" ;\n",
    "            schema:isPartOf <https://en.wikipedia.org/> ;\n",
    "            schema:name ?name .\n",
    "  }\n",
    "} LIMIT 10000\"\"\"\n",
    "\n",
    "NEGATIVE_EXAMPLES_QUERY = \"\"\"SELECT DISTINCT ?entity ?name ?article WHERE {\n",
    "  {\n",
    "    ?entity p:P31/ps:P31/wdt:P279* wd:Q3132741 .\n",
    "    ?article schema:about ?entity ;\n",
    "            schema:inLanguage \"en\" ;\n",
    "            schema:isPartOf <https://en.wikipedia.org/> ;\n",
    "            schema:name ?name .\n",
    "    FILTER NOT EXISTS { ?entity p:P31/ps:P31 wd:Q634 }\n",
    "  }\n",
    "} LIMIT 10000\"\"\""
   ]
  },
  {
   "cell_type": "markdown",
   "metadata": {},
   "source": [
    "## Example entities"
   ]
  },
  {
   "cell_type": "code",
   "execution_count": 5,
   "metadata": {},
   "outputs": [
    {
     "name": "stderr",
     "output_type": "stream",
     "text": [
      "/Users/bradleyallen/Documents/GitHub/conceptual-engineering-using-llms/lib/python3.11/site-packages/wikipedia/wikipedia.py:389: GuessedAtParserWarning: No parser was explicitly specified, so I'm using the best available HTML parser for this system (\"lxml\"). This usually isn't a problem, but if you run this code on another system, or in a different virtual environment, it may use a different parser and behave differently.\n",
      "\n",
      "The code that caused this warning is on line 389 of the file /Users/bradleyallen/Documents/GitHub/conceptual-engineering-using-llms/lib/python3.11/site-packages/wikipedia/wikipedia.py. To get rid of this warning, pass the additional argument 'features=\"lxml\"' to the BeautifulSoup constructor.\n",
      "\n",
      "  lis = BeautifulSoup(html).find_all('li')\n"
     ]
    }
   ],
   "source": [
    "response = requests.get(KNOWLEDGE_GRAPH, params={'query' : POSITIVE_EXAMPLES_QUERY, 'format' : 'json'}, headers=QUERY_HEADERS)\n",
    "response.raise_for_status()\n",
    "json_response = response.json()\n",
    "records = [ [ result[\"entity\"][\"value\"], result[\"name\"][\"value\"], result[\"article\"][\"value\"] ] for result in json_response[\"results\"][\"bindings\"] ]\n",
    "records = random.sample(records, 10*SAMPLE_SIZE)\n",
    "records_with_pages = []\n",
    "for record in records:\n",
    "    try:\n",
    "        page = wikipedia.page(record[1], auto_suggest=True)\n",
    "        if not \"List\" in page.title and page.title == record[1]:\n",
    "            records_with_pages.append(record)\n",
    "    except Exception as e:\n",
    "        pass\n",
    "    if len(records_with_pages) == SAMPLE_SIZE:\n",
    "        break\n",
    "positive_examples = pd.DataFrame.from_records(records_with_pages, columns=[\"id\", \"name\", \"article\"])\n",
    "positive_examples[\"description\"] = positive_examples[\"name\"].apply(lambda name: wikipedia.summary(name, auto_suggest=False).replace('\"', r'\\\"').strip()) \n",
    "positive_examples[\"actual\"] = \"positive\""
   ]
  },
  {
   "cell_type": "code",
   "execution_count": 6,
   "metadata": {},
   "outputs": [
    {
     "name": "stderr",
     "output_type": "stream",
     "text": [
      "/Users/bradleyallen/Documents/GitHub/conceptual-engineering-using-llms/lib/python3.11/site-packages/wikipedia/wikipedia.py:389: GuessedAtParserWarning: No parser was explicitly specified, so I'm using the best available HTML parser for this system (\"lxml\"). This usually isn't a problem, but if you run this code on another system, or in a different virtual environment, it may use a different parser and behave differently.\n",
      "\n",
      "The code that caused this warning is on line 389 of the file /Users/bradleyallen/Documents/GitHub/conceptual-engineering-using-llms/lib/python3.11/site-packages/wikipedia/wikipedia.py. To get rid of this warning, pass the additional argument 'features=\"lxml\"' to the BeautifulSoup constructor.\n",
      "\n",
      "  lis = BeautifulSoup(html).find_all('li')\n"
     ]
    }
   ],
   "source": [
    "response = requests.get(KNOWLEDGE_GRAPH, params={'query' : NEGATIVE_EXAMPLES_QUERY, 'format' : 'json'}, headers=QUERY_HEADERS)\n",
    "response.raise_for_status()\n",
    "json_response = response.json()\n",
    "records = [ [ result[\"entity\"][\"value\"], result[\"name\"][\"value\"], result[\"article\"][\"value\"] ] for result in json_response[\"results\"][\"bindings\"] ]\n",
    "records = random.sample(records, 10*SAMPLE_SIZE)\n",
    "records_with_pages = []\n",
    "for record in records:\n",
    "    try:\n",
    "        page = wikipedia.page(record[1], auto_suggest=True)\n",
    "        if not \"List\" in page.title and page.title == record[1]:\n",
    "            records_with_pages.append(record)\n",
    "    except Exception as e:\n",
    "        pass\n",
    "    if len(records_with_pages) == SAMPLE_SIZE:\n",
    "        break\n",
    "negative_examples = pd.DataFrame.from_records(records_with_pages, columns=[\"id\", \"name\", \"article\"])\n",
    "negative_examples[\"description\"] = negative_examples[\"name\"].apply(lambda name: wikipedia.summary(name, auto_suggest=False).replace('\"', r'\\\"').strip()) \n",
    "negative_examples[\"actual\"] = \"negative\""
   ]
  },
  {
   "cell_type": "code",
   "execution_count": 7,
   "metadata": {},
   "outputs": [
    {
     "data": {
      "text/html": [
       "<div>\n",
       "<style scoped>\n",
       "    .dataframe tbody tr th:only-of-type {\n",
       "        vertical-align: middle;\n",
       "    }\n",
       "\n",
       "    .dataframe tbody tr th {\n",
       "        vertical-align: top;\n",
       "    }\n",
       "\n",
       "    .dataframe thead th {\n",
       "        text-align: right;\n",
       "    }\n",
       "</style>\n",
       "<table border=\"1\" class=\"dataframe\">\n",
       "  <thead>\n",
       "    <tr style=\"text-align: right;\">\n",
       "      <th></th>\n",
       "      <th>id</th>\n",
       "      <th>name</th>\n",
       "      <th>article</th>\n",
       "      <th>description</th>\n",
       "      <th>actual</th>\n",
       "    </tr>\n",
       "  </thead>\n",
       "  <tbody>\n",
       "    <tr>\n",
       "      <th>0</th>\n",
       "      <td>http://www.wikidata.org/entity/Q81282</td>\n",
       "      <td>HD 187123 b</td>\n",
       "      <td>https://en.wikipedia.org/wiki/HD_187123_b</td>\n",
       "      <td>HD 187123 b is a typical \\\"hot Jupiter\\\" locat...</td>\n",
       "      <td>positive</td>\n",
       "    </tr>\n",
       "    <tr>\n",
       "      <th>1</th>\n",
       "      <td>http://www.wikidata.org/entity/Q276894</td>\n",
       "      <td>94 Ceti b</td>\n",
       "      <td>https://en.wikipedia.org/wiki/94_Ceti_b</td>\n",
       "      <td>94 Ceti b or 94 Ceti Ab to distinguish it from...</td>\n",
       "      <td>positive</td>\n",
       "    </tr>\n",
       "    <tr>\n",
       "      <th>2</th>\n",
       "      <td>http://www.wikidata.org/entity/Q83773</td>\n",
       "      <td>HD 82943 b</td>\n",
       "      <td>https://en.wikipedia.org/wiki/HD_82943_b</td>\n",
       "      <td>HD 82943 b is an extrasolar planet approximate...</td>\n",
       "      <td>positive</td>\n",
       "    </tr>\n",
       "    <tr>\n",
       "      <th>3</th>\n",
       "      <td>http://www.wikidata.org/entity/Q19672936</td>\n",
       "      <td>Kepler-56b</td>\n",
       "      <td>https://en.wikipedia.org/wiki/Kepler-56b</td>\n",
       "      <td>Kepler-56b (KOI-1241.02) is a hot Neptune—a cl...</td>\n",
       "      <td>positive</td>\n",
       "    </tr>\n",
       "    <tr>\n",
       "      <th>4</th>\n",
       "      <td>http://www.wikidata.org/entity/Q1578873</td>\n",
       "      <td>Tau Ceti f</td>\n",
       "      <td>https://en.wikipedia.org/wiki/Tau_Ceti_f</td>\n",
       "      <td>Tau Ceti f is a super-Earth or mini-Neptune or...</td>\n",
       "      <td>positive</td>\n",
       "    </tr>\n",
       "    <tr>\n",
       "      <th>...</th>\n",
       "      <td>...</td>\n",
       "      <td>...</td>\n",
       "      <td>...</td>\n",
       "      <td>...</td>\n",
       "      <td>...</td>\n",
       "    </tr>\n",
       "    <tr>\n",
       "      <th>95</th>\n",
       "      <td>http://www.wikidata.org/entity/Q1774712</td>\n",
       "      <td>Great Comet of 1744</td>\n",
       "      <td>https://en.wikipedia.org/wiki/Great_Comet_of_1744</td>\n",
       "      <td>The Great Comet of 1744, whose official design...</td>\n",
       "      <td>negative</td>\n",
       "    </tr>\n",
       "    <tr>\n",
       "      <th>96</th>\n",
       "      <td>http://www.wikidata.org/entity/Q2533763</td>\n",
       "      <td>Kosmos 1402</td>\n",
       "      <td>https://en.wikipedia.org/wiki/Kosmos_1402</td>\n",
       "      <td>Kosmos 1402 (Russian: Космос 1402) was a Sovie...</td>\n",
       "      <td>negative</td>\n",
       "    </tr>\n",
       "    <tr>\n",
       "      <th>97</th>\n",
       "      <td>http://www.wikidata.org/entity/Q149226</td>\n",
       "      <td>249 Ilse</td>\n",
       "      <td>https://en.wikipedia.org/wiki/249_Ilse</td>\n",
       "      <td>Ilse (minor planet designation: 249 Ilse) is a...</td>\n",
       "      <td>negative</td>\n",
       "    </tr>\n",
       "    <tr>\n",
       "      <th>98</th>\n",
       "      <td>http://www.wikidata.org/entity/Q12270325</td>\n",
       "      <td>Kosmos 104</td>\n",
       "      <td>https://en.wikipedia.org/wiki/Kosmos_104</td>\n",
       "      <td>Kosmos 104 (Космос 104 meaning Cosmos 104) or ...</td>\n",
       "      <td>negative</td>\n",
       "    </tr>\n",
       "    <tr>\n",
       "      <th>99</th>\n",
       "      <td>http://www.wikidata.org/entity/Q236666</td>\n",
       "      <td>47 Ursae Majoris c</td>\n",
       "      <td>https://en.wikipedia.org/wiki/47_Ursae_Majoris_c</td>\n",
       "      <td>47 Ursae Majoris c (abbreviated 47 UMa c), for...</td>\n",
       "      <td>negative</td>\n",
       "    </tr>\n",
       "  </tbody>\n",
       "</table>\n",
       "<p>100 rows × 5 columns</p>\n",
       "</div>"
      ],
      "text/plain": [
       "                                          id                 name  \\\n",
       "0      http://www.wikidata.org/entity/Q81282          HD 187123 b   \n",
       "1     http://www.wikidata.org/entity/Q276894            94 Ceti b   \n",
       "2      http://www.wikidata.org/entity/Q83773           HD 82943 b   \n",
       "3   http://www.wikidata.org/entity/Q19672936           Kepler-56b   \n",
       "4    http://www.wikidata.org/entity/Q1578873           Tau Ceti f   \n",
       "..                                       ...                  ...   \n",
       "95   http://www.wikidata.org/entity/Q1774712  Great Comet of 1744   \n",
       "96   http://www.wikidata.org/entity/Q2533763          Kosmos 1402   \n",
       "97    http://www.wikidata.org/entity/Q149226             249 Ilse   \n",
       "98  http://www.wikidata.org/entity/Q12270325           Kosmos 104   \n",
       "99    http://www.wikidata.org/entity/Q236666   47 Ursae Majoris c   \n",
       "\n",
       "                                              article  \\\n",
       "0           https://en.wikipedia.org/wiki/HD_187123_b   \n",
       "1             https://en.wikipedia.org/wiki/94_Ceti_b   \n",
       "2            https://en.wikipedia.org/wiki/HD_82943_b   \n",
       "3            https://en.wikipedia.org/wiki/Kepler-56b   \n",
       "4            https://en.wikipedia.org/wiki/Tau_Ceti_f   \n",
       "..                                                ...   \n",
       "95  https://en.wikipedia.org/wiki/Great_Comet_of_1744   \n",
       "96          https://en.wikipedia.org/wiki/Kosmos_1402   \n",
       "97             https://en.wikipedia.org/wiki/249_Ilse   \n",
       "98           https://en.wikipedia.org/wiki/Kosmos_104   \n",
       "99   https://en.wikipedia.org/wiki/47_Ursae_Majoris_c   \n",
       "\n",
       "                                          description    actual  \n",
       "0   HD 187123 b is a typical \\\"hot Jupiter\\\" locat...  positive  \n",
       "1   94 Ceti b or 94 Ceti Ab to distinguish it from...  positive  \n",
       "2   HD 82943 b is an extrasolar planet approximate...  positive  \n",
       "3   Kepler-56b (KOI-1241.02) is a hot Neptune—a cl...  positive  \n",
       "4   Tau Ceti f is a super-Earth or mini-Neptune or...  positive  \n",
       "..                                                ...       ...  \n",
       "95  The Great Comet of 1744, whose official design...  negative  \n",
       "96  Kosmos 1402 (Russian: Космос 1402) was a Sovie...  negative  \n",
       "97  Ilse (minor planet designation: 249 Ilse) is a...  negative  \n",
       "98  Kosmos 104 (Космос 104 meaning Cosmos 104) or ...  negative  \n",
       "99  47 Ursae Majoris c (abbreviated 47 UMa c), for...  negative  \n",
       "\n",
       "[100 rows x 5 columns]"
      ]
     },
     "execution_count": 7,
     "metadata": {},
     "output_type": "execute_result"
    }
   ],
   "source": [
    "examples = pd.concat([positive_examples, negative_examples], ignore_index=True)\n",
    "examples"
   ]
  },
  {
   "cell_type": "markdown",
   "metadata": {},
   "source": [
    "## Experiments"
   ]
  },
  {
   "cell_type": "code",
   "execution_count": 8,
   "metadata": {},
   "outputs": [],
   "source": [
    "def run_experiment(cp, examples):\n",
    "    classifications = examples.to_dict(\"records\")\n",
    "    for entity in tqdm(classifications):\n",
    "        classification = cp.classify(entity[\"name\"], entity[\"description\"])\n",
    "        entity[\"rationale\"] = classification[\"rationale\"]\n",
    "        entity[\"predicted\"] = classification[\"answer\"]\n",
    "    return pd.DataFrame.from_records(classifications)"
   ]
  },
  {
   "cell_type": "code",
   "execution_count": 9,
   "metadata": {},
   "outputs": [
    {
     "name": "stderr",
     "output_type": "stream",
     "text": [
      "100%|██████████| 100/100 [13:17<00:00,  7.97s/it]\n"
     ]
    }
   ],
   "source": [
    "oed_planet_results = run_experiment(oed_planet, examples)"
   ]
  },
  {
   "cell_type": "code",
   "execution_count": 10,
   "metadata": {},
   "outputs": [
    {
     "name": "stderr",
     "output_type": "stream",
     "text": [
      " 32%|███▏      | 32/100 [03:55<07:54,  6.97s/it]Retrying langchain.chat_models.openai.ChatOpenAI.completion_with_retry.<locals>._completion_with_retry in 4.0 seconds as it raised APIConnectionError: Error communicating with OpenAI: ('Connection aborted.', RemoteDisconnected('Remote end closed connection without response')).\n",
      "100%|██████████| 100/100 [12:54<00:00,  7.74s/it]\n"
     ]
    }
   ],
   "source": [
    "iau_2006_8_16_planet_results = run_experiment(iau_2006_8_16_planet, examples)"
   ]
  },
  {
   "cell_type": "code",
   "execution_count": 11,
   "metadata": {},
   "outputs": [
    {
     "name": "stderr",
     "output_type": "stream",
     "text": [
      " 29%|██▉       | 29/100 [04:08<12:58, 10.97s/it]Retrying langchain.chat_models.openai.ChatOpenAI.completion_with_retry.<locals>._completion_with_retry in 4.0 seconds as it raised APIConnectionError: Error communicating with OpenAI: ('Connection aborted.', RemoteDisconnected('Remote end closed connection without response')).\n",
      "100%|██████████| 100/100 [13:30<00:00,  8.10s/it]\n"
     ]
    }
   ],
   "source": [
    "iau_2006_8_24_planet_results = run_experiment(iau_2006_8_24_planet, examples)"
   ]
  },
  {
   "cell_type": "markdown",
   "metadata": {},
   "source": [
    "## Performance metrics"
   ]
  },
  {
   "cell_type": "code",
   "execution_count": 12,
   "metadata": {},
   "outputs": [],
   "source": [
    "oed_planet_cm = pycm.ConfusionMatrix(\n",
    "    oed_planet_results[\"actual\"].tolist(), \n",
    "    oed_planet_results[\"predicted\"].tolist(), \n",
    "    digit=2, \n",
    "    classes=[ 'positive', 'negative' ]\n",
    ")\n",
    "\n",
    "iau_2006_8_16_planet_cm = pycm.ConfusionMatrix(\n",
    "    iau_2006_8_16_planet_results[\"actual\"].tolist(), \n",
    "    iau_2006_8_16_planet_results[\"predicted\"].tolist(), \n",
    "    digit=2, \n",
    "    classes=[ 'positive', 'negative' ]\n",
    ")\n",
    "\n",
    "iau_2006_8_24_planet_cm = pycm.ConfusionMatrix(\n",
    "    iau_2006_8_24_planet_results[\"actual\"].tolist(), \n",
    "    iau_2006_8_24_planet_results[\"predicted\"].tolist(), \n",
    "    digit=2, \n",
    "    classes=[ 'positive', 'negative' ]\n",
    ")"
   ]
  },
  {
   "cell_type": "code",
   "execution_count": 13,
   "metadata": {},
   "outputs": [],
   "source": [
    "cms = [\n",
    "    (f'{oed_planet.term} ({oed_planet.id})', oed_planet_cm),\n",
    "    (f'{iau_2006_8_16_planet.term} ({iau_2006_8_16_planet.id})', iau_2006_8_16_planet_cm),\n",
    "    (f'{iau_2006_8_24_planet.term} ({iau_2006_8_24_planet.id})', iau_2006_8_24_planet_cm)\n",
    "]"
   ]
  },
  {
   "cell_type": "code",
   "execution_count": 14,
   "metadata": {},
   "outputs": [
    {
     "data": {
      "image/png": "[encoded data removed]",
      "text/plain": [
       "<Figure size 2000x1400 with 23 Axes>"
      ]
     },
     "metadata": {},
     "output_type": "display_data"
    }
   ],
   "source": [
    "fig = plt.figure(figsize=(20,14))\n",
    "gs = fig.add_gridspec(4, 5, hspace=0.5)\n",
    "axes = gs.subplots()\n",
    "for ax, (name, cm) in zip(axes.flat, cms):\n",
    "    df = pd.DataFrame(cm.matrix).T.fillna(0)\n",
    "    sns.heatmap(df, annot=True, fmt='d', cmap=\"YlGnBu\", ax=ax)\n",
    "    ax.set_title(name, wrap=True, fontsize=9)\n",
    "    ax.set(xlabel='classification\\nprocedure', ylabel='Wikidata')\n",
    "for ax in axes.flat[len(cms):]:\n",
    "    ax.set_visible(False)\n",
    "plt.show()"
   ]
  },
  {
   "cell_type": "code",
   "execution_count": 15,
   "metadata": {},
   "outputs": [
    {
     "data": {
      "text/html": [
       "<div>\n",
       "<style scoped>\n",
       "    .dataframe tbody tr th:only-of-type {\n",
       "        vertical-align: middle;\n",
       "    }\n",
       "\n",
       "    .dataframe tbody tr th {\n",
       "        vertical-align: top;\n",
       "    }\n",
       "\n",
       "    .dataframe thead th {\n",
       "        text-align: right;\n",
       "    }\n",
       "</style>\n",
       "<table border=\"1\" class=\"dataframe\">\n",
       "  <thead>\n",
       "    <tr style=\"text-align: right;\">\n",
       "      <th></th>\n",
       "      <th>classification procedure</th>\n",
       "      <th>Cohen's kappa</th>\n",
       "      <th>F1 macro</th>\n",
       "      <th>FN</th>\n",
       "      <th>FP</th>\n",
       "    </tr>\n",
       "  </thead>\n",
       "  <tbody>\n",
       "    <tr>\n",
       "      <th>1</th>\n",
       "      <td>planet (IAU 2006-08-16)</td>\n",
       "      <td>0.74</td>\n",
       "      <td>0.868938</td>\n",
       "      <td>2</td>\n",
       "      <td>11</td>\n",
       "    </tr>\n",
       "    <tr>\n",
       "      <th>0</th>\n",
       "      <td>planet (OED)</td>\n",
       "      <td>0.72</td>\n",
       "      <td>0.857955</td>\n",
       "      <td>1</td>\n",
       "      <td>13</td>\n",
       "    </tr>\n",
       "    <tr>\n",
       "      <th>2</th>\n",
       "      <td>planet (IAU 2006-08-24)</td>\n",
       "      <td>0.66</td>\n",
       "      <td>0.829574</td>\n",
       "      <td>6</td>\n",
       "      <td>11</td>\n",
       "    </tr>\n",
       "  </tbody>\n",
       "</table>\n",
       "</div>"
      ],
      "text/plain": [
       "  classification procedure  Cohen's kappa  F1 macro  FN  FP\n",
       "1  planet (IAU 2006-08-16)           0.74  0.868938   2  11\n",
       "0             planet (OED)           0.72  0.857955   1  13\n",
       "2  planet (IAU 2006-08-24)           0.66  0.829574   6  11"
      ]
     },
     "execution_count": 15,
     "metadata": {},
     "output_type": "execute_result"
    }
   ],
   "source": [
    "metrics = pd.DataFrame.from_records([ \n",
    "    { \"classification procedure\": cm[0], \"Cohen's kappa\": cm[1].Kappa, \"F1 macro\": cm[1].F1_Macro, \"FN\": cm[1].FN[\"positive\"], \"FP\": cm[1].FP[\"positive\"] }\n",
    "    for cm in cms \n",
    "])\n",
    "metrics.sort_values(by=\"Cohen's kappa\", ascending=False)"
   ]
  },
  {
   "cell_type": "markdown",
   "metadata": {},
   "source": [
    "## Error analyses"
   ]
  },
  {
   "cell_type": "code",
   "execution_count": 16,
   "metadata": {},
   "outputs": [],
   "source": [
    "def display_errors(cp, results):\n",
    "    display(Markdown(f'### {cp.term} ({cp.id})'))\n",
    "    display(Markdown(f'#### Definition'))\n",
    "    display(Markdown(f'{cp.definition}'))\n",
    "    fns = results[((results[\"actual\"] == 'positive') & (results[\"predicted\"] == 'negative'))][[\"name\", \"description\", \"rationale\"]]\n",
    "    if len(fns) > 0:\n",
    "        fns_styler = fns.style.set_properties(**{\"text-align\": \"left\", \"vertical-align\" : \"top\", \"overflow-wrap\": \"break-word\"}).hide(axis=\"index\")\n",
    "        display(Markdown(f'#### False negatives'))\n",
    "        display(fns_styler)\n",
    "    fps = results[((results[\"actual\"] == 'negative') & (results[\"predicted\"] == 'positive'))][[\"name\", \"description\", \"rationale\"]]\n",
    "    if len(fps) > 0:\n",
    "        fps_styler = fps.style.set_properties(**{\"text-align\": \"left\", \"vertical-align\" : \"top\", \"overflow-wrap\": \"break-word\"}).hide(axis=\"index\")\n",
    "        display(Markdown(f'#### False positives'))\n",
    "        display(fps_styler)\n"
   ]
  },
  {
   "cell_type": "code",
   "execution_count": 17,
   "metadata": {},
   "outputs": [
    {
     "data": {
      "text/markdown": [
       "### planet (OED)"
      ],
      "text/plain": [
       "<IPython.core.display.Markdown object>"
      ]
     },
     "metadata": {},
     "output_type": "display_data"
    },
    {
     "data": {
      "text/markdown": [
       "#### Definition"
      ],
      "text/plain": [
       "<IPython.core.display.Markdown object>"
      ]
     },
     "metadata": {},
     "output_type": "display_data"
    },
    {
     "data": {
      "text/markdown": [
       "Any of various rocky or gaseous bodies that revolve in approximately elliptical orbits \n",
       "around the sun and are visible by its reflected light; esp. each of the planets Mercury, Venus, \n",
       "Earth, Mars, Jupiter, Saturn, Uranus, Neptune, and (until 2006) Pluto (in order of increasing \n",
       "distance from the sun); a similar body revolving around another star. Also: any of various \n",
       "smaller bodies that revolve around these (cf. satellite n. 2a)."
      ],
      "text/plain": [
       "<IPython.core.display.Markdown object>"
      ]
     },
     "metadata": {},
     "output_type": "display_data"
    },
    {
     "data": {
      "text/markdown": [
       "#### False negatives"
      ],
      "text/plain": [
       "<IPython.core.display.Markdown object>"
      ]
     },
     "metadata": {},
     "output_type": "display_data"
    },
    {
     "data": {
      "text/html": [
       "<style type=\"text/css\">\n",
       "#T_7324f_row0_col0, #T_7324f_row0_col1, #T_7324f_row0_col2 {\n",
       "  text-align: left;\n",
       "  vertical-align: top;\n",
       "  overflow-wrap: break-word;\n",
       "}\n",
       "</style>\n",
       "<table id=\"T_7324f\">\n",
       "  <thead>\n",
       "    <tr>\n",
       "      <th id=\"T_7324f_level0_col0\" class=\"col_heading level0 col0\" >name</th>\n",
       "      <th id=\"T_7324f_level0_col1\" class=\"col_heading level0 col1\" >description</th>\n",
       "      <th id=\"T_7324f_level0_col2\" class=\"col_heading level0 col2\" >rationale</th>\n",
       "    </tr>\n",
       "  </thead>\n",
       "  <tbody>\n",
       "    <tr>\n",
       "      <td id=\"T_7324f_row0_col0\" class=\"data row0 col0\" >WISE 1828+2650</td>\n",
       "      <td id=\"T_7324f_row0_col1\" class=\"data row0 col1\" >WISE 1828+2650 (full designation WISEPA J182831.08+265037.8) is a possibly binary brown dwarf or rogue planet of spectral class >Y2, located in constellation Lyra at approximately 32.5 light-years from Earth. It is the \\\"archetypal member\\\" of the Y spectral class.</td>\n",
       "      <td id=\"T_7324f_row0_col2\" class=\"data row0 col2\" >WISE 1828+2650 could be considered a planet based on the definition provided. The definition states that a planet can be a body that revolves around another star, which is a characteristic that could apply to WISE 1828+2650. Although it is not explicitly stated that WISE 1828+2650 revolves around a star, it is located in a constellation, which suggests that it is part of a star system. Furthermore, the definition includes smaller bodies that revolve around these planets, which could apply to WISE 1828+2650 if it is indeed a binary brown dwarf. Therefore, based on the provided definition, there is a plausible argument for classifying WISE 1828+2650 as a planet.</td>\n",
       "    </tr>\n",
       "  </tbody>\n",
       "</table>\n"
      ],
      "text/plain": [
       "<pandas.io.formats.style.Styler at 0x168a9d850>"
      ]
     },
     "metadata": {},
     "output_type": "display_data"
    },
    {
     "data": {
      "text/markdown": [
       "#### False positives"
      ],
      "text/plain": [
       "<IPython.core.display.Markdown object>"
      ]
     },
     "metadata": {},
     "output_type": "display_data"
    },
    {
     "data": {
      "text/html": [
       "<style type=\"text/css\">\n",
       "#T_9e76c_row0_col0, #T_9e76c_row0_col1, #T_9e76c_row0_col2, #T_9e76c_row1_col0, #T_9e76c_row1_col1, #T_9e76c_row1_col2, #T_9e76c_row2_col0, #T_9e76c_row2_col1, #T_9e76c_row2_col2, #T_9e76c_row3_col0, #T_9e76c_row3_col1, #T_9e76c_row3_col2, #T_9e76c_row4_col0, #T_9e76c_row4_col1, #T_9e76c_row4_col2, #T_9e76c_row5_col0, #T_9e76c_row5_col1, #T_9e76c_row5_col2, #T_9e76c_row6_col0, #T_9e76c_row6_col1, #T_9e76c_row6_col2, #T_9e76c_row7_col0, #T_9e76c_row7_col1, #T_9e76c_row7_col2, #T_9e76c_row8_col0, #T_9e76c_row8_col1, #T_9e76c_row8_col2, #T_9e76c_row9_col0, #T_9e76c_row9_col1, #T_9e76c_row9_col2, #T_9e76c_row10_col0, #T_9e76c_row10_col1, #T_9e76c_row10_col2, #T_9e76c_row11_col0, #T_9e76c_row11_col1, #T_9e76c_row11_col2, #T_9e76c_row12_col0, #T_9e76c_row12_col1, #T_9e76c_row12_col2 {\n",
       "  text-align: left;\n",
       "  vertical-align: top;\n",
       "  overflow-wrap: break-word;\n",
       "}\n",
       "</style>\n",
       "<table id=\"T_9e76c\">\n",
       "  <thead>\n",
       "    <tr>\n",
       "      <th id=\"T_9e76c_level0_col0\" class=\"col_heading level0 col0\" >name</th>\n",
       "      <th id=\"T_9e76c_level0_col1\" class=\"col_heading level0 col1\" >description</th>\n",
       "      <th id=\"T_9e76c_level0_col2\" class=\"col_heading level0 col2\" >rationale</th>\n",
       "    </tr>\n",
       "  </thead>\n",
       "  <tbody>\n",
       "    <tr>\n",
       "      <td id=\"T_9e76c_row0_col0\" class=\"data row0 col0\" >Gliese 176 b</td>\n",
       "      <td id=\"T_9e76c_row0_col1\" class=\"data row0 col1\" >Gliese 176 b is a super-Earth exoplanet approximately 31 light years away in the constellation of Taurus. This planet orbits very close to its parent red dwarf star Gliese 176 (also called \\\"HD 285968\\\").\n",
       "The initial announcement confused the planetary periodicity with the stellar periodicity of 40 days, thus giving a 10.24 day period for a 25 Earth-mass planet. Subsequent readings filtered out the star's rotation, giving a more accurate reading of the planet's orbit and minimum mass.\n",
       "The planet orbits inside the inner magnetosphere of its star. The quoted temperature of 450 K is a \\\"thermal equilibrium\\\" temperature.It is projected to be dominated by a rocky core, but the true mass is unknown. If the orbit is oriented such that we are viewing it at a nearly face-on angle, the planet may be significantly more massive than the lower limit. If so, it may have attracted a gas envelope like Uranus or Gliese 436 b.</td>\n",
       "      <td id=\"T_9e76c_row0_col2\" class=\"data row0 col2\" >Gliese 176 b fits the definition of a planet as it is a body that revolves in an orbit around a star, in this case, the red dwarf star Gliese 176. It is visible by the reflected light of its star. Although it is not one of the planets in our solar system, the definition allows for similar bodies revolving around other stars, which is the case for Gliese 176 b. Furthermore, it is suggested that Gliese 176 b may have a rocky core, which aligns with the definition's allowance for rocky bodies. Therefore, based on the provided definition, Gliese 176 b can be classified as a planet.</td>\n",
       "    </tr>\n",
       "    <tr>\n",
       "      <td id=\"T_9e76c_row1_col0\" class=\"data row1 col0\" >HD 10180 c</td>\n",
       "      <td id=\"T_9e76c_row1_col1\" class=\"data row1 col1\" >HD 10180 c is an exoplanet approximately 130 light-years away in the constellation Hydrus. It was discovered in 2010 using the radial velocity method. With a minimum mass comparable to that of Neptune, it is of the class of planets known as Hot Neptunes. Dynamical simulations suggest that if the mass gradient was any more than a factor of two, the system would not be stable.\n",
       "While planet c does not exist in any mean motion resonances, both planets with adjacent orbits (b and d) share near resonances with c.</td>\n",
       "      <td id=\"T_9e76c_row1_col2\" class=\"data row1 col2\" >HD 10180 c fits the definition of a planet as it is a body that revolves around a star, in this case, the star HD 10180. It is visible by its reflected light and has an elliptical orbit, similar to the planets in our solar system. It also has a mass comparable to that of Neptune, one of the planets mentioned in the definition. Furthermore, it is referred to as an exoplanet, which is a term used to describe planets that orbit a star outside of our solar system. Therefore, based on the provided definition, HD 10180 c can be classified as a planet.</td>\n",
       "    </tr>\n",
       "    <tr>\n",
       "      <td id=\"T_9e76c_row2_col0\" class=\"data row2 col0\" >(523719) 2014 LM28</td>\n",
       "      <td id=\"T_9e76c_row2_col1\" class=\"data row2 col1\" >(523719) 2014 LM28, provisional designation 2014 LM28, is a trans-Neptunian object and centaur, approximately 46 kilometers (29 miles) in diameter. It was discovered on 16 May 2013, by the Pan-STARRS 1 survey at Haleakala Observatory, Hawaii, United States. The object's orbit is highly inclined and very eccentric, with a perihelion closer to the Sun than Uranus and at an aphelion 17 times farther from the Sun than Neptune.</td>\n",
       "      <td id=\"T_9e76c_row2_col2\" class=\"data row2 col2\" >(523719) 2014 LM28 can be considered a planet based on the definition provided. The definition states that a planet is a rocky or gaseous body that revolves in approximately elliptical orbits around the sun and is visible by its reflected light. The description of (523719) 2014 LM28 indicates that it is a trans-Neptunian object and centaur, which are types of celestial bodies, and it revolves around the sun in a highly inclined and very eccentric orbit. Furthermore, it is visible by the sun's reflected light. Therefore, based on the provided definition, (523719) 2014 LM28 can be argued to be a planet.</td>\n",
       "    </tr>\n",
       "    <tr>\n",
       "      <td id=\"T_9e76c_row3_col0\" class=\"data row3 col0\" >HD 11964 c</td>\n",
       "      <td id=\"T_9e76c_row3_col1\" class=\"data row3 col1\" >HD 11964 c is an extrasolar planet approximately 110 light-years away in the constellation of Cetus.  The planet was discovered in a close-orbit around the yellow subgiant star HD 11964.  The planet has a minimum mass 35 times the mass of Earth and is located in a mildly eccentric orbit which takes almost 38 days to complete. HD 11964 c was a possible planet discovered on the same day as HD 11964 b in 2005. HD 11964 c was first proposed in a paper published in 2007, and finally confirmed with new data presented in a review of multi-planet systems which appeared on the arXiv preprint website in 2008.Some sources have used the designation \\\"HD 11964 b\\\" for this planet, however in their review of the properties of multi-planet extrasolar planetary systems, the discovery team has stated that the correct designation for this planet is HD 11964 c and the reversed system was due to confusion related to private communications between various groups of astronomers.</td>\n",
       "      <td id=\"T_9e76c_row3_col2\" class=\"data row3 col2\" >HD 11964 c fits the definition of a planet as it is a body that revolves in an orbit around a star, specifically the yellow subgiant star HD 11964. It is visible by the reflected light of its star. It is also similar to the planets in our solar system, such as Earth, in that it has a mass and completes an orbit in a specific amount of time (38 days in this case). Furthermore, it was discovered and confirmed by astronomers, who are experts in identifying and classifying celestial bodies such as planets. Therefore, based on the provided definition, HD 11964 c can be classified as a planet.</td>\n",
       "    </tr>\n",
       "    <tr>\n",
       "      <td id=\"T_9e76c_row4_col0\" class=\"data row4 col0\" >BD+20 274 b</td>\n",
       "      <td id=\"T_9e76c_row4_col1\" class=\"data row4 col1\" >BD+20 274 b is an exoplanet that was discovered in 2012. It has an orbital period of 578 days and has a mass 4 times larger than that of Jupiter.</td>\n",
       "      <td id=\"T_9e76c_row4_col2\" class=\"data row4 col2\" >BD+20 274 b fits the definition of a planet as it is a body that revolves in an orbit, as indicated by its orbital period of 578 days. Although the definition does not specify around what it should revolve, it can be inferred that BD+20 274 b revolves around a star, as it is an exoplanet. Furthermore, its mass, which is 4 times larger than that of Jupiter, suggests that it is a gaseous body, which is also included in the definition of a planet. Therefore, based on the provided definition, BD+20 274 b can be classified as a planet.</td>\n",
       "    </tr>\n",
       "    <tr>\n",
       "      <td id=\"T_9e76c_row5_col0\" class=\"data row5 col0\" >HD 6434 b</td>\n",
       "      <td id=\"T_9e76c_row5_col1\" class=\"data row5 col1\" >HD 6434 b is an extrasolar planet orbiting the star HD 6434. It has a minimum mass about half that of Jupiter. It orbits the star very close, over 2.5 times as close as Mercury orbits the Sun. For this reason it completes one orbit in only 22 days. Unlike true \\\"hot Jupiters\\\" like 51 Pegasi b, HD 6434 b does not have a circular orbit, but rather an eccentric one.The planet HD 6434 b is named Eyeke. The name was selected in the NameExoWorlds campaign by Ecuador, during the 100th anniversary of the IAU. Eyeke means near in the language spoken by the Indigenous Waorani tribes.By studying observations taken by the Hipparcos astrometric mission, a group of scientists proposed that the planet has an inclination of 179.9° (almost exactly face-on) and a mass of 196 Jupiters. If that was the case, the planet would be a red dwarf instead. However, the data was anything but conclusive, and statistically it is extremely unlikely to lie in such a position. But because the inclination is unknown, so is the true mass of the planet. Still, it is very probable that the object is a true planet.</td>\n",
       "      <td id=\"T_9e76c_row5_col2\" class=\"data row5 col2\" >HD 6434 b fits the definition of a planet as it is a body that revolves around a star, in this case, the star HD 6434. It is visible by its reflected light and has an elliptical orbit around its star. It also has a mass, although the exact amount is uncertain, it is likely to be less than that of a star, making it more likely to be a planet. Furthermore, it was named in the NameExoWorlds campaign, which is specifically for naming exoplanets, further supporting the assertion that HD 6434 b is a planet.</td>\n",
       "    </tr>\n",
       "    <tr>\n",
       "      <td id=\"T_9e76c_row6_col0\" class=\"data row6 col0\" >Kepler-1658b</td>\n",
       "      <td id=\"T_9e76c_row6_col1\" class=\"data row6 col1\" >Kepler-1658b (or the Kepler object of interest, KOI-4.01) is a hot Jupiter, a type of gas giant exoplanet, that orbits an F-type star called Kepler 1658, located about 2629 light-years away from the Solar System. It is the first planet identified by the Kepler space telescope after its launch in 2009, but later ruled out as false alarm since its transit could not be confirmed. A study published in 2019 established it as a planet, describing it as \\\"the closest known planet in terms of orbital period to an evolved star.\\\" Analysis of the Transiting Exoplanet Survey Satellite (TESS) data in 2022 showed that it is gradually spiraling into its star.</td>\n",
       "      <td id=\"T_9e76c_row6_col2\" class=\"data row6 col2\" >Kepler-1658b fits the definition of a planet as it is a gas giant exoplanet, a type of gaseous body. It revolves in an orbit around a star, specifically an F-type star called Kepler 1658, which is similar to the way planets in our solar system revolve around the sun. Furthermore, it is visible by the reflected light of its star, another characteristic of a planet as defined above. Therefore, based on the provided definition, Kepler-1658b can be classified as a planet.</td>\n",
       "    </tr>\n",
       "    <tr>\n",
       "      <td id=\"T_9e76c_row7_col0\" class=\"data row7 col0\" >Kepler-42c</td>\n",
       "      <td id=\"T_9e76c_row7_col1\" class=\"data row7 col1\" >Kepler-42 c, previously KOI-961.02 then KOI-961 c, is an exoplanet orbiting Kepler-42, a star located about 131 light-years (40 pc) from the Solar System, in the constellation of Cygnus. A planetary system of at least three exoplanets with sizes between Mars and Venus has been detected around this red dwarf on January 11, 2012, by the method of transits with the help of the space telescope Kepler.\n",
       "Kepler-42 c is a planet with a radius 0.73 times that of Earth. It orbits its star in a little less than 11 hours at about 0.006 AU of its host star and has an average equilibrium temperature of about 445 °C (833 °F). Due to the temperature, it is not suitable for life.\n",
       "It is tidally locked in a synchronous rotation. Thus, it makes one complete rotation each time it completes an orbit. As a result, there is an eternal day side and a permanent night side.</td>\n",
       "      <td id=\"T_9e76c_row7_col2\" class=\"data row7 col2\" >Kepler-42c fits the definition of a planet as it is a body that revolves in an orbit around a star, in this case, Kepler-42. It is visible by the reflected light of its star. Although it is not in our solar system, the definition includes bodies that revolve around other stars, which are known as exoplanets. Kepler-42c also has characteristics similar to the planets in our solar system, such as its size (comparable to Earth) and its rotation (it is tidally locked in a synchronous rotation). Therefore, based on the provided definition, Kepler-42c can be classified as a planet.</td>\n",
       "    </tr>\n",
       "    <tr>\n",
       "      <td id=\"T_9e76c_row8_col0\" class=\"data row8 col0\" >618 Elfriede</td>\n",
       "      <td id=\"T_9e76c_row8_col1\" class=\"data row8 col1\" >618 Elfriede is a minor planet orbiting the Sun. On July 24, 2013, it occulted the magnitude 12.8 star 2UCAC 23949304, over parts of Mexico and southwestern United States.Photometric observations of this asteroid collected during 2008 show a rotation period of 14.85 ± 0.01 hours with a brightness variation of 0.12 ± 0.02 magnitude.</td>\n",
       "      <td id=\"T_9e76c_row8_col2\" class=\"data row8 col2\" >The definition of a planet includes any of various rocky or gaseous bodies that revolve in approximately elliptical orbits around the sun and are visible by its reflected light. The description of 618 Elfriede states that it is a minor planet orbiting the Sun, which aligns with the definition of a planet. Therefore, based on the provided definition, one could argue that 618 Elfriede is a planet.</td>\n",
       "    </tr>\n",
       "    <tr>\n",
       "      <td id=\"T_9e76c_row9_col0\" class=\"data row9 col0\" >K2-3b</td>\n",
       "      <td id=\"T_9e76c_row9_col1\" class=\"data row9 col1\" >K2-3b, also known as EPIC 201367065 b, is an exoplanet orbiting the red dwarf K2-3 every 10 days. It is the largest and most massive planet of the K2-3 system, with about 2.1 times the radius of Earth and about 5 times the mass. Its density of about 3.1 g/cm3 may indicate a composition of almost entirely water, or a hydrogen envelope comprising about 0.7% of the planet's mass.</td>\n",
       "      <td id=\"T_9e76c_row9_col2\" class=\"data row9 col2\" >K2-3b fits the definition of a planet as it is a body that revolves around a star, in this case, the red dwarf K2-3. It is visible by the reflected light of its star. Although it is not in our solar system, it is a similar body revolving around another star, which is included in the definition of a planet. Furthermore, it has a significant mass and radius, characteristics typically associated with planets. Therefore, based on the provided definition, K2-3b can be classified as a planet.</td>\n",
       "    </tr>\n",
       "    <tr>\n",
       "      <td id=\"T_9e76c_row10_col0\" class=\"data row10 col0\" >2MASS J2126–8140</td>\n",
       "      <td id=\"T_9e76c_row10_col1\" class=\"data row10 col1\" >2MASS J21265040−8140293, also known as 2MASS J2126−8140, is an exoplanet orbiting the red dwarf TYC 9486-927-1, 111.4±0.3 light-years away from Earth. Its estimated mass, age (10-45 million years), spectral type (L3), and Teff (1800 K) are similar to the well-studied planet β Pictoris b. With an estimated distance of around 1 trillion kilometres from its host star, it is one of the largest solar systems ever found.</td>\n",
       "      <td id=\"T_9e76c_row10_col2\" class=\"data row10 col2\" >The definition of a planet includes any rocky or gaseous body that revolves in an elliptical orbit around a star and is visible by its reflected light. The description of 2MASS J2126–8140 states that it is an exoplanet orbiting the red dwarf TYC 9486-927-1, which is a star. This means that 2MASS J2126–8140 is revolving around a star, fitting the definition of a planet. Furthermore, the description does not provide any information that would contradict the definition of a planet. Therefore, based on the provided definition and the information in the description, it can be argued that 2MASS J2126–8140 is a planet.</td>\n",
       "    </tr>\n",
       "    <tr>\n",
       "      <td id=\"T_9e76c_row11_col0\" class=\"data row11 col0\" >HD 85512 b</td>\n",
       "      <td id=\"T_9e76c_row11_col1\" class=\"data row11 col1\" >HD 85512 b is a currently-disputed exoplanet orbiting HD 85512, a K-type main-sequence star approximately 37 light-years from Earth in the constellation of Vela.Due to its mass of at least 3.6 times the mass of Earth, HD 85512 b is classified as a rocky Earth-size exoplanet (< 5M🜨) and is one of the smallest exoplanets discovered to be just outside the inner edge of the habitable zone. HD 85512 b, along with Gliese 581 d, was once considered to be one of the best candidates for habitability in 2011.</td>\n",
       "      <td id=\"T_9e76c_row11_col2\" class=\"data row11 col2\" >HD 85512 b fits the definition of a planet as it is a body that revolves around a star, in this case, the star being HD 85512. It is also visible by its reflected light. Furthermore, it is classified as a rocky Earth-size exoplanet, which aligns with the definition's mention of planets being rocky bodies. The fact that it is an exoplanet means it revolves around a star other than the sun, which is also included in the definition of a planet. Therefore, based on the provided definition, HD 85512 b can be considered a planet.</td>\n",
       "    </tr>\n",
       "    <tr>\n",
       "      <td id=\"T_9e76c_row12_col0\" class=\"data row12 col0\" >47 Ursae Majoris c</td>\n",
       "      <td id=\"T_9e76c_row12_col1\" class=\"data row12 col1\" >47 Ursae Majoris c (abbreviated 47 UMa c), formally named Taphao Kaew ( tə-POW GOW; Thai: ตะเภาแก้ว [tāpʰāwkɛ̂ːw]) is an extrasolar planet approximately 46 light-years from Earth in the constellation of Ursa Major. The planet was discovered located in a long-period around the star 47 Ursae Majoris. Its orbit lasts 6.55 years and the planet has a mass at least 0.540 times that of Jupiter.</td>\n",
       "      <td id=\"T_9e76c_row12_col2\" class=\"data row12 col2\" >47 Ursae Majoris c fits the definition of a planet as it is a body that revolves around a star, in this case, the star 47 Ursae Majoris. It is similar to the planets in our solar system that revolve around the sun. The definition also includes bodies that revolve around stars other than the sun, which applies to 47 Ursae Majoris c as it revolves around a different star. Furthermore, the planet is visible by its reflected light, which is another characteristic mentioned in the definition. Therefore, based on the provided definition, 47 Ursae Majoris c can be classified as a planet.</td>\n",
       "    </tr>\n",
       "  </tbody>\n",
       "</table>\n"
      ],
      "text/plain": [
       "<pandas.io.formats.style.Styler at 0x113ef2dd0>"
      ]
     },
     "metadata": {},
     "output_type": "display_data"
    }
   ],
   "source": [
    "display_errors(oed_planet, oed_planet_results)"
   ]
  },
  {
   "cell_type": "code",
   "execution_count": 18,
   "metadata": {},
   "outputs": [
    {
     "data": {
      "text/markdown": [
       "### planet (IAU 2006-08-16)"
      ],
      "text/plain": [
       "<IPython.core.display.Markdown object>"
      ]
     },
     "metadata": {},
     "output_type": "display_data"
    },
    {
     "data": {
      "text/markdown": [
       "#### Definition"
      ],
      "text/plain": [
       "<IPython.core.display.Markdown object>"
      ]
     },
     "metadata": {},
     "output_type": "display_data"
    },
    {
     "data": {
      "text/markdown": [
       "A planet is a celestial body that (a) has sufficient mass for its self-gravity to \n",
       "overcome rigid body forces so that it assumes a hydrostatic equilibrium (nearly round) shape, \n",
       "and (b) is in orbit around a star, and is neither a star nor a satellite of a planet."
      ],
      "text/plain": [
       "<IPython.core.display.Markdown object>"
      ]
     },
     "metadata": {},
     "output_type": "display_data"
    },
    {
     "data": {
      "text/markdown": [
       "#### False negatives"
      ],
      "text/plain": [
       "<IPython.core.display.Markdown object>"
      ]
     },
     "metadata": {},
     "output_type": "display_data"
    },
    {
     "data": {
      "text/html": [
       "<style type=\"text/css\">\n",
       "#T_70f04_row0_col0, #T_70f04_row0_col1, #T_70f04_row0_col2, #T_70f04_row1_col0, #T_70f04_row1_col1, #T_70f04_row1_col2 {\n",
       "  text-align: left;\n",
       "  vertical-align: top;\n",
       "  overflow-wrap: break-word;\n",
       "}\n",
       "</style>\n",
       "<table id=\"T_70f04\">\n",
       "  <thead>\n",
       "    <tr>\n",
       "      <th id=\"T_70f04_level0_col0\" class=\"col_heading level0 col0\" >name</th>\n",
       "      <th id=\"T_70f04_level0_col1\" class=\"col_heading level0 col1\" >description</th>\n",
       "      <th id=\"T_70f04_level0_col2\" class=\"col_heading level0 col2\" >rationale</th>\n",
       "    </tr>\n",
       "  </thead>\n",
       "  <tbody>\n",
       "    <tr>\n",
       "      <td id=\"T_70f04_row0_col0\" class=\"data row0 col0\" >MOA-2011-BLG-262Lb</td>\n",
       "      <td id=\"T_70f04_row0_col1\" class=\"data row0 col1\" >MOA-2011-BLG-262Lb is a Neptune-sized planet or possibly an exomoon orbiting the red dwarf or potentially rogue planet MOA-2011-BLG-262L. If it is an exomoon, then it would be around the size of Mars.</td>\n",
       "      <td id=\"T_70f04_row0_col2\" class=\"data row0 col2\" >The description of MOA-2011-BLG-262Lb suggests that it is a celestial body that is in orbit around a star or potentially a rogue planet. This aligns with part (b) of the definition of a planet, which states that a planet is in orbit around a star and is neither a star nor a satellite of a planet. The description also suggests that MOA-2011-BLG-262Lb has a sufficient mass to assume a hydrostatic equilibrium (nearly round) shape, which aligns with part (a) of the definition. Therefore, based on the provided definition, it can be argued that MOA-2011-BLG-262Lb is a planet. However, the assertion that it could be an exomoon introduces some uncertainty, as the definition specifies that a planet is not a satellite of another planet.</td>\n",
       "    </tr>\n",
       "    <tr>\n",
       "      <td id=\"T_70f04_row1_col0\" class=\"data row1 col0\" >Kolob</td>\n",
       "      <td id=\"T_70f04_row1_col1\" class=\"data row1 col1\" >Kolob is a star \n",
       "or planet described in the Book of Abraham, a sacred text of the Latter Day Saint movement. Several Latter Day Saint denominations hold the Book of Abraham to have been translated from an Egyptian papyrus scroll by Joseph Smith, the founder of the movement. According to this work, Kolob is the heavenly body nearest to the throne of God. While the Book of Abraham calls Kolob a \\\"star\\\", it also calls planets \\\"stars\\\", and therefore some Latter Day Saint commentators consider Kolob a planet. The body also appears in Latter Day Saint culture, including a reference to Kolob in an LDS hymn.</td>\n",
       "      <td id=\"T_70f04_row1_col2\" class=\"data row1 col2\" >The Book of Abraham, a sacred text of the Latter Day Saint movement, describes Kolob as a celestial body that is neither a star nor a satellite of a planet. While it is referred to as a \"star\", the text also uses the term \"star\" to describe planets. Therefore, it is possible that Kolob is a planet. Furthermore, the text states that Kolob is the heavenly body nearest to the throne of God, suggesting it is in orbit around a star, which aligns with the definition of a planet. However, without further information about its mass and shape, it cannot be definitively concluded that Kolob is a planet.</td>\n",
       "    </tr>\n",
       "  </tbody>\n",
       "</table>\n"
      ],
      "text/plain": [
       "<pandas.io.formats.style.Styler at 0x1668d5990>"
      ]
     },
     "metadata": {},
     "output_type": "display_data"
    },
    {
     "data": {
      "text/markdown": [
       "#### False positives"
      ],
      "text/plain": [
       "<IPython.core.display.Markdown object>"
      ]
     },
     "metadata": {},
     "output_type": "display_data"
    },
    {
     "data": {
      "text/html": [
       "<style type=\"text/css\">\n",
       "#T_18efc_row0_col0, #T_18efc_row0_col1, #T_18efc_row0_col2, #T_18efc_row1_col0, #T_18efc_row1_col1, #T_18efc_row1_col2, #T_18efc_row2_col0, #T_18efc_row2_col1, #T_18efc_row2_col2, #T_18efc_row3_col0, #T_18efc_row3_col1, #T_18efc_row3_col2, #T_18efc_row4_col0, #T_18efc_row4_col1, #T_18efc_row4_col2, #T_18efc_row5_col0, #T_18efc_row5_col1, #T_18efc_row5_col2, #T_18efc_row6_col0, #T_18efc_row6_col1, #T_18efc_row6_col2, #T_18efc_row7_col0, #T_18efc_row7_col1, #T_18efc_row7_col2, #T_18efc_row8_col0, #T_18efc_row8_col1, #T_18efc_row8_col2, #T_18efc_row9_col0, #T_18efc_row9_col1, #T_18efc_row9_col2, #T_18efc_row10_col0, #T_18efc_row10_col1, #T_18efc_row10_col2 {\n",
       "  text-align: left;\n",
       "  vertical-align: top;\n",
       "  overflow-wrap: break-word;\n",
       "}\n",
       "</style>\n",
       "<table id=\"T_18efc\">\n",
       "  <thead>\n",
       "    <tr>\n",
       "      <th id=\"T_18efc_level0_col0\" class=\"col_heading level0 col0\" >name</th>\n",
       "      <th id=\"T_18efc_level0_col1\" class=\"col_heading level0 col1\" >description</th>\n",
       "      <th id=\"T_18efc_level0_col2\" class=\"col_heading level0 col2\" >rationale</th>\n",
       "    </tr>\n",
       "  </thead>\n",
       "  <tbody>\n",
       "    <tr>\n",
       "      <td id=\"T_18efc_row0_col0\" class=\"data row0 col0\" >Gliese 176 b</td>\n",
       "      <td id=\"T_18efc_row0_col1\" class=\"data row0 col1\" >Gliese 176 b is a super-Earth exoplanet approximately 31 light years away in the constellation of Taurus. This planet orbits very close to its parent red dwarf star Gliese 176 (also called \\\"HD 285968\\\").\n",
       "The initial announcement confused the planetary periodicity with the stellar periodicity of 40 days, thus giving a 10.24 day period for a 25 Earth-mass planet. Subsequent readings filtered out the star's rotation, giving a more accurate reading of the planet's orbit and minimum mass.\n",
       "The planet orbits inside the inner magnetosphere of its star. The quoted temperature of 450 K is a \\\"thermal equilibrium\\\" temperature.It is projected to be dominated by a rocky core, but the true mass is unknown. If the orbit is oriented such that we are viewing it at a nearly face-on angle, the planet may be significantly more massive than the lower limit. If so, it may have attracted a gas envelope like Uranus or Gliese 436 b.</td>\n",
       "      <td id=\"T_18efc_row0_col2\" class=\"data row0 col2\" >Gliese 176 b fits the definition of a planet as it is a celestial body that has sufficient mass to assume a hydrostatic equilibrium shape, as indicated by the description stating it is projected to be dominated by a rocky core. This suggests that its self-gravity has overcome rigid body forces to form a nearly round shape. Additionally, Gliese 176 b is in orbit around a star, specifically the red dwarf star Gliese 176, which aligns with the second part of the definition. The description does not classify Gliese 176 b as a star or a satellite of a planet, further supporting the assertion that it is a planet.</td>\n",
       "    </tr>\n",
       "    <tr>\n",
       "      <td id=\"T_18efc_row1_col0\" class=\"data row1 col0\" >HD 10180 c</td>\n",
       "      <td id=\"T_18efc_row1_col1\" class=\"data row1 col1\" >HD 10180 c is an exoplanet approximately 130 light-years away in the constellation Hydrus. It was discovered in 2010 using the radial velocity method. With a minimum mass comparable to that of Neptune, it is of the class of planets known as Hot Neptunes. Dynamical simulations suggest that if the mass gradient was any more than a factor of two, the system would not be stable.\n",
       "While planet c does not exist in any mean motion resonances, both planets with adjacent orbits (b and d) share near resonances with c.</td>\n",
       "      <td id=\"T_18efc_row1_col2\" class=\"data row1 col2\" >HD 10180 c fits the definition of a planet because it is a celestial body that is in orbit around a star, specifically the star HD 10180. The description does not explicitly state that HD 10180 c has a nearly round shape due to its self-gravity overcoming rigid body forces, but it is implied by the fact that it is classified as a Hot Neptune, a class of planets. Furthermore, it is not described as a star or a satellite of a planet, which further supports the assertion that HD 10180 c is a planet.</td>\n",
       "    </tr>\n",
       "    <tr>\n",
       "      <td id=\"T_18efc_row2_col0\" class=\"data row2 col0\" >HD 11964 c</td>\n",
       "      <td id=\"T_18efc_row2_col1\" class=\"data row2 col1\" >HD 11964 c is an extrasolar planet approximately 110 light-years away in the constellation of Cetus.  The planet was discovered in a close-orbit around the yellow subgiant star HD 11964.  The planet has a minimum mass 35 times the mass of Earth and is located in a mildly eccentric orbit which takes almost 38 days to complete. HD 11964 c was a possible planet discovered on the same day as HD 11964 b in 2005. HD 11964 c was first proposed in a paper published in 2007, and finally confirmed with new data presented in a review of multi-planet systems which appeared on the arXiv preprint website in 2008.Some sources have used the designation \\\"HD 11964 b\\\" for this planet, however in their review of the properties of multi-planet extrasolar planetary systems, the discovery team has stated that the correct designation for this planet is HD 11964 c and the reversed system was due to confusion related to private communications between various groups of astronomers.</td>\n",
       "      <td id=\"T_18efc_row2_col2\" class=\"data row2 col2\" >HD 11964 c fits the definition of a planet as it is a celestial body that is in orbit around a star, specifically the yellow subgiant star HD 11964. The description does not provide explicit information about its shape, but given that it has a minimum mass 35 times the mass of Earth, it can be inferred that it has sufficient mass for its self-gravity to overcome rigid body forces and assume a hydrostatic equilibrium (nearly round) shape. Furthermore, it is not described as a star or a satellite of a planet, which further supports the assertion that HD 11964 c is a planet.</td>\n",
       "    </tr>\n",
       "    <tr>\n",
       "      <td id=\"T_18efc_row3_col0\" class=\"data row3 col0\" >BD+20 274 b</td>\n",
       "      <td id=\"T_18efc_row3_col1\" class=\"data row3 col1\" >BD+20 274 b is an exoplanet that was discovered in 2012. It has an orbital period of 578 days and has a mass 4 times larger than that of Jupiter.</td>\n",
       "      <td id=\"T_18efc_row3_col2\" class=\"data row3 col2\" >BD+20 274 b fits the definition of a planet because it is a celestial body that is in orbit around a star, as indicated by its discovery as an exoplanet in 2012. The fact that it has an orbital period of 578 days further supports this. Additionally, its mass, which is 4 times larger than that of Jupiter, suggests that it has sufficient mass for its self-gravity to overcome rigid body forces and assume a hydrostatic equilibrium shape. It is also stated that BD+20 274 b is not a star or a satellite of a planet, which aligns with the definition of a planet. Therefore, BD+20 274 b can be classified as a planet.</td>\n",
       "    </tr>\n",
       "    <tr>\n",
       "      <td id=\"T_18efc_row4_col0\" class=\"data row4 col0\" >HD 6434 b</td>\n",
       "      <td id=\"T_18efc_row4_col1\" class=\"data row4 col1\" >HD 6434 b is an extrasolar planet orbiting the star HD 6434. It has a minimum mass about half that of Jupiter. It orbits the star very close, over 2.5 times as close as Mercury orbits the Sun. For this reason it completes one orbit in only 22 days. Unlike true \\\"hot Jupiters\\\" like 51 Pegasi b, HD 6434 b does not have a circular orbit, but rather an eccentric one.The planet HD 6434 b is named Eyeke. The name was selected in the NameExoWorlds campaign by Ecuador, during the 100th anniversary of the IAU. Eyeke means near in the language spoken by the Indigenous Waorani tribes.By studying observations taken by the Hipparcos astrometric mission, a group of scientists proposed that the planet has an inclination of 179.9° (almost exactly face-on) and a mass of 196 Jupiters. If that was the case, the planet would be a red dwarf instead. However, the data was anything but conclusive, and statistically it is extremely unlikely to lie in such a position. But because the inclination is unknown, so is the true mass of the planet. Still, it is very probable that the object is a true planet.</td>\n",
       "      <td id=\"T_18efc_row4_col2\" class=\"data row4 col2\" >HD 6434 b fits the definition of a planet because it is a celestial body that is in orbit around a star, specifically the star HD 6434. It is not a star itself, nor is it a satellite of another planet. It has sufficient mass, about half that of Jupiter, to overcome rigid body forces and assume a hydrostatic equilibrium shape. Although its exact mass is uncertain due to unknown inclination, it is very probable that the object is a true planet. Therefore, based on the provided definition, HD 6434 b can be classified as a planet.</td>\n",
       "    </tr>\n",
       "    <tr>\n",
       "      <td id=\"T_18efc_row5_col0\" class=\"data row5 col0\" >Kepler-1658b</td>\n",
       "      <td id=\"T_18efc_row5_col1\" class=\"data row5 col1\" >Kepler-1658b (or the Kepler object of interest, KOI-4.01) is a hot Jupiter, a type of gas giant exoplanet, that orbits an F-type star called Kepler 1658, located about 2629 light-years away from the Solar System. It is the first planet identified by the Kepler space telescope after its launch in 2009, but later ruled out as false alarm since its transit could not be confirmed. A study published in 2019 established it as a planet, describing it as \\\"the closest known planet in terms of orbital period to an evolved star.\\\" Analysis of the Transiting Exoplanet Survey Satellite (TESS) data in 2022 showed that it is gradually spiraling into its star.</td>\n",
       "      <td id=\"T_18efc_row5_col2\" class=\"data row5 col2\" >Kepler-1658b fits the definition of a planet as it is a celestial body that has sufficient mass to assume a hydrostatic equilibrium shape, as indicated by its classification as a gas giant exoplanet. Additionally, it is in orbit around a star, specifically an F-type star called Kepler 1658. The description does not suggest that Kepler-1658b is a star itself or a satellite of another planet, further supporting its classification as a planet.</td>\n",
       "    </tr>\n",
       "    <tr>\n",
       "      <td id=\"T_18efc_row6_col0\" class=\"data row6 col0\" >Kepler-42c</td>\n",
       "      <td id=\"T_18efc_row6_col1\" class=\"data row6 col1\" >Kepler-42 c, previously KOI-961.02 then KOI-961 c, is an exoplanet orbiting Kepler-42, a star located about 131 light-years (40 pc) from the Solar System, in the constellation of Cygnus. A planetary system of at least three exoplanets with sizes between Mars and Venus has been detected around this red dwarf on January 11, 2012, by the method of transits with the help of the space telescope Kepler.\n",
       "Kepler-42 c is a planet with a radius 0.73 times that of Earth. It orbits its star in a little less than 11 hours at about 0.006 AU of its host star and has an average equilibrium temperature of about 445 °C (833 °F). Due to the temperature, it is not suitable for life.\n",
       "It is tidally locked in a synchronous rotation. Thus, it makes one complete rotation each time it completes an orbit. As a result, there is an eternal day side and a permanent night side.</td>\n",
       "      <td id=\"T_18efc_row6_col2\" class=\"data row6 col2\" >Kepler-42c fits the definition of a planet as it is a celestial body that has sufficient mass to assume a hydrostatic equilibrium shape, as indicated by its nearly round shape with a radius 0.73 times that of Earth. It is also in orbit around a star, specifically Kepler-42, and is not a star itself nor a satellite of another planet. Therefore, based on the provided definition, Kepler-42c can be classified as a planet.</td>\n",
       "    </tr>\n",
       "    <tr>\n",
       "      <td id=\"T_18efc_row7_col0\" class=\"data row7 col0\" >K2-3b</td>\n",
       "      <td id=\"T_18efc_row7_col1\" class=\"data row7 col1\" >K2-3b, also known as EPIC 201367065 b, is an exoplanet orbiting the red dwarf K2-3 every 10 days. It is the largest and most massive planet of the K2-3 system, with about 2.1 times the radius of Earth and about 5 times the mass. Its density of about 3.1 g/cm3 may indicate a composition of almost entirely water, or a hydrogen envelope comprising about 0.7% of the planet's mass.</td>\n",
       "      <td id=\"T_18efc_row7_col2\" class=\"data row7 col2\" >K2-3b can be classified as a planet based on the provided definition. Firstly, it is a celestial body that has sufficient mass for its self-gravity to overcome rigid body forces, as indicated by its round shape and its mass, which is about 5 times that of Earth. This suggests that it has achieved hydrostatic equilibrium. Secondly, K2-3b is in orbit around a star, specifically the red dwarf K2-3. Lastly, it is neither a star itself nor a satellite of another planet. Therefore, K2-3b meets all the criteria in the definition to be classified as a planet.</td>\n",
       "    </tr>\n",
       "    <tr>\n",
       "      <td id=\"T_18efc_row8_col0\" class=\"data row8 col0\" >2MASS J2126–8140</td>\n",
       "      <td id=\"T_18efc_row8_col1\" class=\"data row8 col1\" >2MASS J21265040−8140293, also known as 2MASS J2126−8140, is an exoplanet orbiting the red dwarf TYC 9486-927-1, 111.4±0.3 light-years away from Earth. Its estimated mass, age (10-45 million years), spectral type (L3), and Teff (1800 K) are similar to the well-studied planet β Pictoris b. With an estimated distance of around 1 trillion kilometres from its host star, it is one of the largest solar systems ever found.</td>\n",
       "      <td id=\"T_18efc_row8_col2\" class=\"data row8 col2\" >The entity 2MASS J2126–8140 fits the definition of a planet on several counts. Firstly, it is a celestial body that has sufficient mass, as indicated by its comparison to the well-studied planet β Pictoris b. This suggests that it has enough self-gravity to overcome rigid body forces and assume a hydrostatic equilibrium shape. Secondly, it is in orbit around a star, specifically the red dwarf TYC 9486-927-1. Lastly, there is no indication that 2MASS J2126–8140 is a star itself or a satellite of another planet. Therefore, based on the provided definition, 2MASS J2126–8140 can be classified as a planet.</td>\n",
       "    </tr>\n",
       "    <tr>\n",
       "      <td id=\"T_18efc_row9_col0\" class=\"data row9 col0\" >HD 85512 b</td>\n",
       "      <td id=\"T_18efc_row9_col1\" class=\"data row9 col1\" >HD 85512 b is a currently-disputed exoplanet orbiting HD 85512, a K-type main-sequence star approximately 37 light-years from Earth in the constellation of Vela.Due to its mass of at least 3.6 times the mass of Earth, HD 85512 b is classified as a rocky Earth-size exoplanet (< 5M🜨) and is one of the smallest exoplanets discovered to be just outside the inner edge of the habitable zone. HD 85512 b, along with Gliese 581 d, was once considered to be one of the best candidates for habitability in 2011.</td>\n",
       "      <td id=\"T_18efc_row9_col2\" class=\"data row9 col2\" >HD 85512 b fits the definition of a planet as it is a celestial body that has sufficient mass (at least 3.6 times the mass of Earth) to assume a hydrostatic equilibrium shape. It is also in orbit around a star, specifically HD 85512. It is not a star itself, nor is it a satellite of another planet. Therefore, based on the provided definition, HD 85512 b can be classified as a planet.</td>\n",
       "    </tr>\n",
       "    <tr>\n",
       "      <td id=\"T_18efc_row10_col0\" class=\"data row10 col0\" >47 Ursae Majoris c</td>\n",
       "      <td id=\"T_18efc_row10_col1\" class=\"data row10 col1\" >47 Ursae Majoris c (abbreviated 47 UMa c), formally named Taphao Kaew ( tə-POW GOW; Thai: ตะเภาแก้ว [tāpʰāwkɛ̂ːw]) is an extrasolar planet approximately 46 light-years from Earth in the constellation of Ursa Major. The planet was discovered located in a long-period around the star 47 Ursae Majoris. Its orbit lasts 6.55 years and the planet has a mass at least 0.540 times that of Jupiter.</td>\n",
       "      <td id=\"T_18efc_row10_col2\" class=\"data row10 col2\" >47 Ursae Majoris c fits the definition of a planet because it is a celestial body that is in orbit around a star, specifically the star 47 Ursae Majoris. It is not a star itself, nor is it a satellite of another planet. Additionally, it has sufficient mass (at least 0.540 times that of Jupiter) to assume a hydrostatic equilibrium shape, meaning its self-gravity has overcome rigid body forces. Therefore, based on the provided definition, 47 Ursae Majoris c can be classified as a planet.</td>\n",
       "    </tr>\n",
       "  </tbody>\n",
       "</table>\n"
      ],
      "text/plain": [
       "<pandas.io.formats.style.Styler at 0x168b1d690>"
      ]
     },
     "metadata": {},
     "output_type": "display_data"
    }
   ],
   "source": [
    "display_errors(iau_2006_8_16_planet, iau_2006_8_16_planet_results)"
   ]
  },
  {
   "cell_type": "code",
   "execution_count": 19,
   "metadata": {},
   "outputs": [
    {
     "data": {
      "text/markdown": [
       "### planet (IAU 2006-08-24)"
      ],
      "text/plain": [
       "<IPython.core.display.Markdown object>"
      ]
     },
     "metadata": {},
     "output_type": "display_data"
    },
    {
     "data": {
      "text/markdown": [
       "#### Definition"
      ],
      "text/plain": [
       "<IPython.core.display.Markdown object>"
      ]
     },
     "metadata": {},
     "output_type": "display_data"
    },
    {
     "data": {
      "text/markdown": [
       "A planet [1] is a celestial body that (a) is in orbit around the Sun, (b) has sufficient \n",
       "mass for its self-gravity to overcome rigid body forces so that it assumes a hydrostatic \n",
       "equilibrium (nearly round) shape, and (c) has cleared the neighbourhood around its orbit."
      ],
      "text/plain": [
       "<IPython.core.display.Markdown object>"
      ]
     },
     "metadata": {},
     "output_type": "display_data"
    },
    {
     "data": {
      "text/markdown": [
       "#### False negatives"
      ],
      "text/plain": [
       "<IPython.core.display.Markdown object>"
      ]
     },
     "metadata": {},
     "output_type": "display_data"
    },
    {
     "data": {
      "text/html": [
       "<style type=\"text/css\">\n",
       "#T_772eb_row0_col0, #T_772eb_row0_col1, #T_772eb_row0_col2, #T_772eb_row1_col0, #T_772eb_row1_col1, #T_772eb_row1_col2, #T_772eb_row2_col0, #T_772eb_row2_col1, #T_772eb_row2_col2, #T_772eb_row3_col0, #T_772eb_row3_col1, #T_772eb_row3_col2, #T_772eb_row4_col0, #T_772eb_row4_col1, #T_772eb_row4_col2, #T_772eb_row5_col0, #T_772eb_row5_col1, #T_772eb_row5_col2 {\n",
       "  text-align: left;\n",
       "  vertical-align: top;\n",
       "  overflow-wrap: break-word;\n",
       "}\n",
       "</style>\n",
       "<table id=\"T_772eb\">\n",
       "  <thead>\n",
       "    <tr>\n",
       "      <th id=\"T_772eb_level0_col0\" class=\"col_heading level0 col0\" >name</th>\n",
       "      <th id=\"T_772eb_level0_col1\" class=\"col_heading level0 col1\" >description</th>\n",
       "      <th id=\"T_772eb_level0_col2\" class=\"col_heading level0 col2\" >rationale</th>\n",
       "    </tr>\n",
       "  </thead>\n",
       "  <tbody>\n",
       "    <tr>\n",
       "      <td id=\"T_772eb_row0_col0\" class=\"data row0 col0\" >HD 4313 b</td>\n",
       "      <td id=\"T_772eb_row0_col1\" class=\"data row0 col1\" >HD 4313 b is an extrasolar planet orbiting the K-type star HD 4313 approximately 447 light years away in the constellation Pisces. This planet was discovered using the Doppler spectroscopy (radial velocity) method.</td>\n",
       "      <td id=\"T_772eb_row0_col2\" class=\"data row0 col2\" >The definition of a planet states that it must be a celestial body that is in orbit around the Sun, has sufficient mass for its self-gravity to overcome rigid body forces so that it assumes a hydrostatic equilibrium (nearly round) shape, and has cleared the neighbourhood around its orbit. \n",
       "\n",
       "The description of HD 4313 b indicates that it is an extrasolar planet orbiting a star (HD 4313). Although it does not specifically state that HD 4313 b has sufficient mass to overcome rigid body forces and assume a nearly round shape, or that it has cleared its orbit, the fact that it is referred to as a \"planet\" suggests that it meets these criteria. \n",
       "\n",
       "However, the definition specifies that a planet must be in orbit around the Sun, while HD 4313 b is in orbit around a different star. Therefore, based strictly on the provided definition, it could be argued that HD 4313 b is not a planet. \n",
       "\n",
       "This highlights a limitation in the provided definition, as it does not account for the existence of extrasolar planets, which are widely recognized by the scientific community. A more inclusive definition would specify that a planet is a celestial body that orbits a star (not necessarily the Sun), has sufficient mass to assume a nearly round shape, and has cleared its orbit.</td>\n",
       "    </tr>\n",
       "    <tr>\n",
       "      <td id=\"T_772eb_row1_col0\" class=\"data row1 col0\" >SDSS J1228+1040 b</td>\n",
       "      <td id=\"T_772eb_row1_col1\" class=\"data row1 col1\" >SDSS J1228+1040 b is an extrasolar planetesimal orbiting the white dwarf SDSS J1228+1040.</td>\n",
       "      <td id=\"T_772eb_row1_col2\" class=\"data row1 col2\" >The definition provided states that a planet is a celestial body that orbits the Sun, has sufficient mass to maintain a nearly round shape due to its self-gravity, and has cleared the neighbourhood around its orbit. However, the description of SDSS J1228+1040 b only provides information that it is an extrasolar planetesimal orbiting a white dwarf, not the Sun. Therefore, based solely on the provided definition and description, it cannot be definitively argued that SDSS J1228+1040 b is a planet.</td>\n",
       "    </tr>\n",
       "    <tr>\n",
       "      <td id=\"T_772eb_row2_col0\" class=\"data row2 col0\" >MOA-2011-BLG-262Lb</td>\n",
       "      <td id=\"T_772eb_row2_col1\" class=\"data row2 col1\" >MOA-2011-BLG-262Lb is a Neptune-sized planet or possibly an exomoon orbiting the red dwarf or potentially rogue planet MOA-2011-BLG-262L. If it is an exomoon, then it would be around the size of Mars.</td>\n",
       "      <td id=\"T_772eb_row2_col2\" class=\"data row2 col2\" >The assertion that MOA-2011-BLG-262Lb is a planet can be supported by the given definition if we assume that it meets all the criteria. The description states that MOA-2011-BLG-262Lb is in orbit around the red dwarf or potentially rogue planet MOA-2011-BLG-262L, which could be interpreted as being in orbit around the Sun if the red dwarf or rogue planet is itself in orbit around the Sun. The description also suggests that MOA-2011-BLG-262Lb has sufficient mass to assume a nearly round shape, as it is described as being Neptune-sized or possibly Mars-sized. However, the description does not provide information on whether MOA-2011-BLG-262Lb has cleared the neighbourhood around its orbit, which is a necessary criterion for being classified as a planet according to the given definition. Therefore, based on the available information, it can be argued that MOA-2011-BLG-262Lb could potentially be a planet, but further information would be needed to confirm this.</td>\n",
       "    </tr>\n",
       "    <tr>\n",
       "      <td id=\"T_772eb_row3_col0\" class=\"data row3 col0\" >Kolob</td>\n",
       "      <td id=\"T_772eb_row3_col1\" class=\"data row3 col1\" >Kolob is a star \n",
       "or planet described in the Book of Abraham, a sacred text of the Latter Day Saint movement. Several Latter Day Saint denominations hold the Book of Abraham to have been translated from an Egyptian papyrus scroll by Joseph Smith, the founder of the movement. According to this work, Kolob is the heavenly body nearest to the throne of God. While the Book of Abraham calls Kolob a \\\"star\\\", it also calls planets \\\"stars\\\", and therefore some Latter Day Saint commentators consider Kolob a planet. The body also appears in Latter Day Saint culture, including a reference to Kolob in an LDS hymn.</td>\n",
       "      <td id=\"T_772eb_row3_col2\" class=\"data row3 col2\" >The Book of Abraham, a sacred text of the Latter Day Saint movement, refers to Kolob as a \"star\" but also uses the term \"star\" to describe planets. Therefore, it is possible that Kolob is a planet. However, without further information about Kolob's orbit around the Sun, its mass and shape, and whether it has cleared its neighbourhood around its orbit, it cannot be definitively classified as a planet based on the provided definition.</td>\n",
       "    </tr>\n",
       "    <tr>\n",
       "      <td id=\"T_772eb_row4_col0\" class=\"data row4 col0\" >WISE 1828+2650</td>\n",
       "      <td id=\"T_772eb_row4_col1\" class=\"data row4 col1\" >WISE 1828+2650 (full designation WISEPA J182831.08+265037.8) is a possibly binary brown dwarf or rogue planet of spectral class >Y2, located in constellation Lyra at approximately 32.5 light-years from Earth. It is the \\\"archetypal member\\\" of the Y spectral class.</td>\n",
       "      <td id=\"T_772eb_row4_col2\" class=\"data row4 col2\" >The assertion that WISE 1828+2650 is a planet cannot be definitively supported based solely on the provided definition and description. The description states that WISE 1828+2650 is a possibly binary brown dwarf or rogue planet, but it does not specify whether it orbits the Sun, has a nearly round shape due to its self-gravity, or has cleared the neighbourhood around its orbit, which are the criteria outlined in the definition for a celestial body to be considered a planet. Therefore, without additional information, it cannot be conclusively argued that WISE 1828+2650 is a planet.</td>\n",
       "    </tr>\n",
       "    <tr>\n",
       "      <td id=\"T_772eb_row5_col0\" class=\"data row5 col0\" >Kepler-19c</td>\n",
       "      <td id=\"T_772eb_row5_col1\" class=\"data row5 col1\" >Kepler-19c is an extra-solar planet orbiting the star Kepler-19 approximately 717 light years from Earth.</td>\n",
       "      <td id=\"T_772eb_row5_col2\" class=\"data row5 col2\" >The description of Kepler-19c states that it is an extra-solar planet that orbits the star Kepler-19. This aligns with the first part of the definition of a planet, which states that a planet is a celestial body that is in orbit around the Sun. Although Kepler-19c orbits a star and not specifically the Sun, the definition can be interpreted to include celestial bodies that orbit stars other than the Sun. However, the description does not provide information on whether Kepler-19c has sufficient mass for its self-gravity to overcome rigid body forces so that it assumes a hydrostatic equilibrium shape, or whether it has cleared the neighbourhood around its orbit. Therefore, based solely on the provided definition and description, it can be argued that Kepler-19c meets at least one of the criteria to be considered a planet, but it is not definitively a planet as it is not confirmed to meet all the criteria.</td>\n",
       "    </tr>\n",
       "  </tbody>\n",
       "</table>\n"
      ],
      "text/plain": [
       "<pandas.io.formats.style.Styler at 0x1668d5990>"
      ]
     },
     "metadata": {},
     "output_type": "display_data"
    },
    {
     "data": {
      "text/markdown": [
       "#### False positives"
      ],
      "text/plain": [
       "<IPython.core.display.Markdown object>"
      ]
     },
     "metadata": {},
     "output_type": "display_data"
    },
    {
     "data": {
      "text/html": [
       "<style type=\"text/css\">\n",
       "#T_9b036_row0_col0, #T_9b036_row0_col1, #T_9b036_row0_col2, #T_9b036_row1_col0, #T_9b036_row1_col1, #T_9b036_row1_col2, #T_9b036_row2_col0, #T_9b036_row2_col1, #T_9b036_row2_col2, #T_9b036_row3_col0, #T_9b036_row3_col1, #T_9b036_row3_col2, #T_9b036_row4_col0, #T_9b036_row4_col1, #T_9b036_row4_col2, #T_9b036_row5_col0, #T_9b036_row5_col1, #T_9b036_row5_col2, #T_9b036_row6_col0, #T_9b036_row6_col1, #T_9b036_row6_col2, #T_9b036_row7_col0, #T_9b036_row7_col1, #T_9b036_row7_col2, #T_9b036_row8_col0, #T_9b036_row8_col1, #T_9b036_row8_col2, #T_9b036_row9_col0, #T_9b036_row9_col1, #T_9b036_row9_col2, #T_9b036_row10_col0, #T_9b036_row10_col1, #T_9b036_row10_col2 {\n",
       "  text-align: left;\n",
       "  vertical-align: top;\n",
       "  overflow-wrap: break-word;\n",
       "}\n",
       "</style>\n",
       "<table id=\"T_9b036\">\n",
       "  <thead>\n",
       "    <tr>\n",
       "      <th id=\"T_9b036_level0_col0\" class=\"col_heading level0 col0\" >name</th>\n",
       "      <th id=\"T_9b036_level0_col1\" class=\"col_heading level0 col1\" >description</th>\n",
       "      <th id=\"T_9b036_level0_col2\" class=\"col_heading level0 col2\" >rationale</th>\n",
       "    </tr>\n",
       "  </thead>\n",
       "  <tbody>\n",
       "    <tr>\n",
       "      <td id=\"T_9b036_row0_col0\" class=\"data row0 col0\" >Gliese 176 b</td>\n",
       "      <td id=\"T_9b036_row0_col1\" class=\"data row0 col1\" >Gliese 176 b is a super-Earth exoplanet approximately 31 light years away in the constellation of Taurus. This planet orbits very close to its parent red dwarf star Gliese 176 (also called \\\"HD 285968\\\").\n",
       "The initial announcement confused the planetary periodicity with the stellar periodicity of 40 days, thus giving a 10.24 day period for a 25 Earth-mass planet. Subsequent readings filtered out the star's rotation, giving a more accurate reading of the planet's orbit and minimum mass.\n",
       "The planet orbits inside the inner magnetosphere of its star. The quoted temperature of 450 K is a \\\"thermal equilibrium\\\" temperature.It is projected to be dominated by a rocky core, but the true mass is unknown. If the orbit is oriented such that we are viewing it at a nearly face-on angle, the planet may be significantly more massive than the lower limit. If so, it may have attracted a gas envelope like Uranus or Gliese 436 b.</td>\n",
       "      <td id=\"T_9b036_row0_col2\" class=\"data row0 col2\" >Gliese 176 b can be considered a planet based on the provided definition. Firstly, it is in orbit around a star, specifically the red dwarf star Gliese 176. Secondly, it is described as a super-Earth exoplanet, which implies it has sufficient mass for its self-gravity to overcome rigid body forces and assume a hydrostatic equilibrium shape. Lastly, while the description does not explicitly state that Gliese 176 b has cleared its orbit, the fact that it has a defined orbit and minimum mass suggests that it has likely cleared its neighbourhood around its orbit. Therefore, Gliese 176 b meets the criteria to be classified as a planet.</td>\n",
       "    </tr>\n",
       "    <tr>\n",
       "      <td id=\"T_9b036_row1_col0\" class=\"data row1 col0\" >HD 10180 c</td>\n",
       "      <td id=\"T_9b036_row1_col1\" class=\"data row1 col1\" >HD 10180 c is an exoplanet approximately 130 light-years away in the constellation Hydrus. It was discovered in 2010 using the radial velocity method. With a minimum mass comparable to that of Neptune, it is of the class of planets known as Hot Neptunes. Dynamical simulations suggest that if the mass gradient was any more than a factor of two, the system would not be stable.\n",
       "While planet c does not exist in any mean motion resonances, both planets with adjacent orbits (b and d) share near resonances with c.</td>\n",
       "      <td id=\"T_9b036_row1_col2\" class=\"data row1 col2\" >HD 10180 c can be considered a planet based on the provided definition. Firstly, it is a celestial body that is in orbit around a star, similar to how planets orbit the Sun. Secondly, it has a mass comparable to that of Neptune, which suggests it has sufficient mass for its self-gravity to overcome rigid body forces and assume a hydrostatic equilibrium shape. Lastly, the mention of its stable system and near resonances with adjacent orbits suggests that it has cleared its neighbourhood around its orbit. Therefore, HD 10180 c meets all the criteria in the definition of a planet.</td>\n",
       "    </tr>\n",
       "    <tr>\n",
       "      <td id=\"T_9b036_row2_col0\" class=\"data row2 col0\" >HD 11964 c</td>\n",
       "      <td id=\"T_9b036_row2_col1\" class=\"data row2 col1\" >HD 11964 c is an extrasolar planet approximately 110 light-years away in the constellation of Cetus.  The planet was discovered in a close-orbit around the yellow subgiant star HD 11964.  The planet has a minimum mass 35 times the mass of Earth and is located in a mildly eccentric orbit which takes almost 38 days to complete. HD 11964 c was a possible planet discovered on the same day as HD 11964 b in 2005. HD 11964 c was first proposed in a paper published in 2007, and finally confirmed with new data presented in a review of multi-planet systems which appeared on the arXiv preprint website in 2008.Some sources have used the designation \\\"HD 11964 b\\\" for this planet, however in their review of the properties of multi-planet extrasolar planetary systems, the discovery team has stated that the correct designation for this planet is HD 11964 c and the reversed system was due to confusion related to private communications between various groups of astronomers.</td>\n",
       "      <td id=\"T_9b036_row2_col2\" class=\"data row2 col2\" >HD 11964 c can be considered a planet based on the provided definition. Firstly, it is in orbit around a star, specifically the yellow subgiant star HD 11964, which is similar to the requirement of being in orbit around the Sun. Secondly, it has a minimum mass 35 times the mass of Earth, which suggests it has sufficient mass for its self-gravity to overcome rigid body forces and assume a hydrostatic equilibrium shape. Lastly, while the description does not explicitly state that HD 11964 c has cleared its orbit, the fact that it has a stable, mildly eccentric orbit which it completes every 38 days suggests that it has likely cleared its neighbourhood around its orbit. Therefore, based on the provided definition, HD 11964 c can be classified as a planet.</td>\n",
       "    </tr>\n",
       "    <tr>\n",
       "      <td id=\"T_9b036_row3_col0\" class=\"data row3 col0\" >BD+20 274 b</td>\n",
       "      <td id=\"T_9b036_row3_col1\" class=\"data row3 col1\" >BD+20 274 b is an exoplanet that was discovered in 2012. It has an orbital period of 578 days and has a mass 4 times larger than that of Jupiter.</td>\n",
       "      <td id=\"T_9b036_row3_col2\" class=\"data row3 col2\" >BD+20 274 b can be considered a planet based on the provided definition. It is a celestial body that is in orbit, as indicated by its orbital period of 578 days. Its mass is four times larger than that of Jupiter, suggesting that it has sufficient mass for its self-gravity to overcome rigid body forces and assume a hydrostatic equilibrium shape. Although the description does not explicitly state that BD+20 274 b has cleared the neighbourhood around its orbit, the fact that it has been identified and named suggests that it has a distinct orbit, which implies that it has likely cleared its neighbourhood. Therefore, BD+20 274 b meets the criteria to be classified as a planet.</td>\n",
       "    </tr>\n",
       "    <tr>\n",
       "      <td id=\"T_9b036_row4_col0\" class=\"data row4 col0\" >HD 6434 b</td>\n",
       "      <td id=\"T_9b036_row4_col1\" class=\"data row4 col1\" >HD 6434 b is an extrasolar planet orbiting the star HD 6434. It has a minimum mass about half that of Jupiter. It orbits the star very close, over 2.5 times as close as Mercury orbits the Sun. For this reason it completes one orbit in only 22 days. Unlike true \\\"hot Jupiters\\\" like 51 Pegasi b, HD 6434 b does not have a circular orbit, but rather an eccentric one.The planet HD 6434 b is named Eyeke. The name was selected in the NameExoWorlds campaign by Ecuador, during the 100th anniversary of the IAU. Eyeke means near in the language spoken by the Indigenous Waorani tribes.By studying observations taken by the Hipparcos astrometric mission, a group of scientists proposed that the planet has an inclination of 179.9° (almost exactly face-on) and a mass of 196 Jupiters. If that was the case, the planet would be a red dwarf instead. However, the data was anything but conclusive, and statistically it is extremely unlikely to lie in such a position. But because the inclination is unknown, so is the true mass of the planet. Still, it is very probable that the object is a true planet.</td>\n",
       "      <td id=\"T_9b036_row4_col2\" class=\"data row4 col2\" >HD 6434 b can be considered a planet based on the provided definition. Firstly, it is a celestial body that is in orbit around a star, specifically HD 6434. This satisfies the first condition of the definition. Secondly, it has a minimum mass about half that of Jupiter, which suggests that it has sufficient mass for its self-gravity to overcome rigid body forces and assume a hydrostatic equilibrium shape, meeting the second condition. Lastly, while the description does not explicitly state that HD 6434 b has cleared its orbit's neighbourhood, it does mention that it orbits its star very closely and completes one orbit in only 22 days. This could imply that it has cleared its orbit's neighbourhood, thus potentially satisfying the third condition. However, more information would be needed to confirm this. Therefore, based on the available information, it is reasonable to assert that HD 6434 b is a planet.</td>\n",
       "    </tr>\n",
       "    <tr>\n",
       "      <td id=\"T_9b036_row5_col0\" class=\"data row5 col0\" >Kepler-1658b</td>\n",
       "      <td id=\"T_9b036_row5_col1\" class=\"data row5 col1\" >Kepler-1658b (or the Kepler object of interest, KOI-4.01) is a hot Jupiter, a type of gas giant exoplanet, that orbits an F-type star called Kepler 1658, located about 2629 light-years away from the Solar System. It is the first planet identified by the Kepler space telescope after its launch in 2009, but later ruled out as false alarm since its transit could not be confirmed. A study published in 2019 established it as a planet, describing it as \\\"the closest known planet in terms of orbital period to an evolved star.\\\" Analysis of the Transiting Exoplanet Survey Satellite (TESS) data in 2022 showed that it is gradually spiraling into its star.</td>\n",
       "      <td id=\"T_9b036_row5_col2\" class=\"data row5 col2\" >Kepler-1658b can be considered a planet based on the provided definition. Firstly, it is a celestial body that is in orbit around a star, in this case, the F-type star called Kepler 1658. Secondly, it is described as a gas giant exoplanet, which implies that it has sufficient mass for its self-gravity to overcome rigid body forces and assume a hydrostatic equilibrium shape. Lastly, while the description does not explicitly state that Kepler-1658b has cleared the neighbourhood around its orbit, the fact that it is gradually spiraling into its star suggests that it is the dominant gravitational body in its orbit. Therefore, Kepler-1658b meets all the criteria in the definition to be classified as a planet.</td>\n",
       "    </tr>\n",
       "    <tr>\n",
       "      <td id=\"T_9b036_row6_col0\" class=\"data row6 col0\" >Kepler-42c</td>\n",
       "      <td id=\"T_9b036_row6_col1\" class=\"data row6 col1\" >Kepler-42 c, previously KOI-961.02 then KOI-961 c, is an exoplanet orbiting Kepler-42, a star located about 131 light-years (40 pc) from the Solar System, in the constellation of Cygnus. A planetary system of at least three exoplanets with sizes between Mars and Venus has been detected around this red dwarf on January 11, 2012, by the method of transits with the help of the space telescope Kepler.\n",
       "Kepler-42 c is a planet with a radius 0.73 times that of Earth. It orbits its star in a little less than 11 hours at about 0.006 AU of its host star and has an average equilibrium temperature of about 445 °C (833 °F). Due to the temperature, it is not suitable for life.\n",
       "It is tidally locked in a synchronous rotation. Thus, it makes one complete rotation each time it completes an orbit. As a result, there is an eternal day side and a permanent night side.</td>\n",
       "      <td id=\"T_9b036_row6_col2\" class=\"data row6 col2\" >Kepler-42c can be considered a planet based on the provided definition. Firstly, it is a celestial body that orbits a star, Kepler-42, which is similar to how a planet orbits the Sun. Secondly, it has sufficient mass to maintain a nearly round shape due to its self-gravity, which aligns with the definition's requirement of a planet having enough mass to overcome rigid body forces and assume a hydrostatic equilibrium. Lastly, while it is not explicitly stated that Kepler-42c has cleared its orbit's neighbourhood, the fact that it has a stable orbit around its star and is part of a system of at least three exoplanets suggests that it likely has cleared its orbit's neighbourhood. Therefore, based on the information provided, Kepler-42c meets the criteria to be classified as a planet.</td>\n",
       "    </tr>\n",
       "    <tr>\n",
       "      <td id=\"T_9b036_row7_col0\" class=\"data row7 col0\" >K2-3b</td>\n",
       "      <td id=\"T_9b036_row7_col1\" class=\"data row7 col1\" >K2-3b, also known as EPIC 201367065 b, is an exoplanet orbiting the red dwarf K2-3 every 10 days. It is the largest and most massive planet of the K2-3 system, with about 2.1 times the radius of Earth and about 5 times the mass. Its density of about 3.1 g/cm3 may indicate a composition of almost entirely water, or a hydrogen envelope comprising about 0.7% of the planet's mass.</td>\n",
       "      <td id=\"T_9b036_row7_col2\" class=\"data row7 col2\" >K2-3b can be considered a planet based on the provided definition. Firstly, it is stated that K2-3b is in orbit around the red dwarf K2-3, which is similar to how planets orbit the Sun. Secondly, K2-3b has a significant mass, being 5 times the mass of Earth, which suggests that its self-gravity is likely sufficient to overcome rigid body forces and assume a hydrostatic equilibrium shape. Lastly, while it is not explicitly stated that K2-3b has cleared its neighbourhood around its orbit, the fact that it is the largest and most massive planet in the K2-3 system suggests that it likely has the gravitational influence to do so. Therefore, K2-3b meets the criteria to be classified as a planet.</td>\n",
       "    </tr>\n",
       "    <tr>\n",
       "      <td id=\"T_9b036_row8_col0\" class=\"data row8 col0\" >2MASS J2126–8140</td>\n",
       "      <td id=\"T_9b036_row8_col1\" class=\"data row8 col1\" >2MASS J21265040−8140293, also known as 2MASS J2126−8140, is an exoplanet orbiting the red dwarf TYC 9486-927-1, 111.4±0.3 light-years away from Earth. Its estimated mass, age (10-45 million years), spectral type (L3), and Teff (1800 K) are similar to the well-studied planet β Pictoris b. With an estimated distance of around 1 trillion kilometres from its host star, it is one of the largest solar systems ever found.</td>\n",
       "      <td id=\"T_9b036_row8_col2\" class=\"data row8 col2\" >The entity 2MASS J2126–8140 fits the definition of a planet as it fulfills all the three criteria mentioned. Firstly, it is in orbit around a star, specifically the red dwarf TYC 9486-927-1. Secondly, it has sufficient mass, as indicated by its comparison to the well-studied planet β Pictoris b. Lastly, while the description does not explicitly state that it has cleared its orbit, the fact that it is one of the largest solar systems ever found suggests that it likely has cleared its neighbourhood around its orbit. Therefore, based on the provided definition, 2MASS J2126–8140 can be classified as a planet.</td>\n",
       "    </tr>\n",
       "    <tr>\n",
       "      <td id=\"T_9b036_row9_col0\" class=\"data row9 col0\" >HD 85512 b</td>\n",
       "      <td id=\"T_9b036_row9_col1\" class=\"data row9 col1\" >HD 85512 b is a currently-disputed exoplanet orbiting HD 85512, a K-type main-sequence star approximately 37 light-years from Earth in the constellation of Vela.Due to its mass of at least 3.6 times the mass of Earth, HD 85512 b is classified as a rocky Earth-size exoplanet (< 5M🜨) and is one of the smallest exoplanets discovered to be just outside the inner edge of the habitable zone. HD 85512 b, along with Gliese 581 d, was once considered to be one of the best candidates for habitability in 2011.</td>\n",
       "      <td id=\"T_9b036_row9_col2\" class=\"data row9 col2\" >HD 85512 b can be considered a planet based on the provided definition. Firstly, it is a celestial body that is in orbit around a star, HD 85512, which is similar to the requirement of being in orbit around the Sun. Secondly, it has a mass of at least 3.6 times the mass of Earth, which suggests it has sufficient mass for its self-gravity to overcome rigid body forces and assume a hydrostatic equilibrium shape. Lastly, while the information provided does not explicitly state that HD 85512 b has cleared its neighbourhood around its orbit, its classification as an exoplanet implies this characteristic. Therefore, based on the given definition, HD 85512 b can be argued to be a planet.</td>\n",
       "    </tr>\n",
       "    <tr>\n",
       "      <td id=\"T_9b036_row10_col0\" class=\"data row10 col0\" >47 Ursae Majoris c</td>\n",
       "      <td id=\"T_9b036_row10_col1\" class=\"data row10 col1\" >47 Ursae Majoris c (abbreviated 47 UMa c), formally named Taphao Kaew ( tə-POW GOW; Thai: ตะเภาแก้ว [tāpʰāwkɛ̂ːw]) is an extrasolar planet approximately 46 light-years from Earth in the constellation of Ursa Major. The planet was discovered located in a long-period around the star 47 Ursae Majoris. Its orbit lasts 6.55 years and the planet has a mass at least 0.540 times that of Jupiter.</td>\n",
       "      <td id=\"T_9b036_row10_col2\" class=\"data row10 col2\" >The entity 47 Ursae Majoris c fits the definition of a planet because it is a celestial body that is in orbit around a star, in this case, the star 47 Ursae Majoris. Although the definition specifies that a planet orbits the Sun, in the broader context of astronomy, a planet can orbit any star. Furthermore, 47 Ursae Majoris c has a mass at least 0.540 times that of Jupiter, which suggests it has sufficient mass for its self-gravity to overcome rigid body forces and assume a hydrostatic equilibrium shape. Lastly, while the description does not explicitly state that 47 Ursae Majoris c has cleared its orbit, the fact that it has a long-period orbit around its star suggests that it likely has cleared its neighbourhood. Therefore, based on the provided definition, 47 Ursae Majoris c can be considered a planet.</td>\n",
       "    </tr>\n",
       "  </tbody>\n",
       "</table>\n"
      ],
      "text/plain": [
       "<pandas.io.formats.style.Styler at 0x168afe750>"
      ]
     },
     "metadata": {},
     "output_type": "display_data"
    }
   ],
   "source": [
    "display_errors(iau_2006_8_24_planet, iau_2006_8_24_planet_results)"
   ]
  },
  {
   "cell_type": "markdown",
   "metadata": {},
   "source": [
    "## Experimental results data dump"
   ]
  },
  {
   "cell_type": "code",
   "execution_count": 20,
   "metadata": {},
   "outputs": [],
   "source": [
    "EXPERIMENTS_FILENAME = \"planet_experiment.json\"\n",
    "\n",
    "experiments = [\n",
    "    {\n",
    "        \"classification_procedure\": {\n",
    "            \"id\": cp.id,\n",
    "            \"term\": cp.term,\n",
    "            \"definition\": cp.definition,\n",
    "            \"reference\": cp.reference,\n",
    "            \"model_name\": cp.model_name,\n",
    "            \"temperature\": cp.temperature\n",
    "        },\n",
    "        \"results\": results.to_dict(\"records\")\n",
    "    } for cp, results in [\n",
    "        (oed_planet, oed_planet_results),\n",
    "        (iau_2006_8_16_planet, iau_2006_8_16_planet_results),\n",
    "        (iau_2006_8_24_planet, iau_2006_8_24_planet_results)\n",
    "    ]\n",
    "]\n",
    "\n",
    "json.dump(experiments, open(EXPERIMENTS_FILENAME, 'w+'))"
   ]
  }
 ],
 "metadata": {
  "kernelspec": {
   "display_name": "conceptual-engineering-using-llms",
   "language": "python",
   "name": "python3"
  },
  "language_info": {
   "codemirror_mode": {
    "name": "ipython",
    "version": 3
   },
   "file_extension": ".py",
   "mimetype": "text/x-python",
   "name": "python",
   "nbconvert_exporter": "python",
   "pygments_lexer": "ipython3",
   "version": "3.11.4"
  },
  "orig_nbformat": 4
 },
 "nbformat": 4,
 "nbformat_minor": 2
}
