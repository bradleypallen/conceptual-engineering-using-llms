{
 "cells": [
  {
   "cell_type": "code",
   "execution_count": 1,
   "metadata": {},
   "outputs": [],
   "source": [
    "import wikipedia, requests, random, pycm, pandas as pd, matplotlib.pyplot as plt, seaborn as sns\n",
    "from tqdm import tqdm\n",
    "from IPython.display import display, Markdown\n",
    "from classification_procedure import ClassificationProcedure"
   ]
  },
  {
   "cell_type": "markdown",
   "metadata": {},
   "source": [
    "### Classification procedures"
   ]
  },
  {
   "cell_type": "code",
   "execution_count": 2,
   "metadata": {},
   "outputs": [],
   "source": [
    "oed_planet = ClassificationProcedure(\n",
    "    \"OED\",\n",
    "    \"planet\", \n",
    "    \"\"\"Any of various rocky or gaseous bodies that revolve in approximately elliptical orbits \n",
    "around the sun and are visible by its reflected light; esp. each of the planets Mercury, Venus, \n",
    "Earth, Mars, Jupiter, Saturn, Uranus, Neptune, and (until 2006) Pluto (in order of increasing \n",
    "distance from the sun); a similar body revolving around another star. Also: any of various \n",
    "smaller bodies that revolve around these (cf. satellite n. 2a).\"\"\"\n",
    ")\n",
    "\n",
    "iau_2006_8_16_planet = ClassificationProcedure(\n",
    "    \"IAU 2006-08-16\",\n",
    "    \"planet\", \n",
    "    \"\"\"A planet is a celestial body that (a) has sufficient mass for its self-gravity to \n",
    "overcome rigid body forces so that it assumes a hydrostatic equilibrium (nearly round) shape, \n",
    "and (b) is in orbit around a star, and is neither a star nor a satellite of a planet.\"\"\"\n",
    ")\n",
    "\n",
    "iau_2006_8_24_planet = ClassificationProcedure(\n",
    "    \"IAU 2006-08-24\",\n",
    "    \"planet\", \n",
    "    \"\"\"A planet [1] is a celestial body that (a) is in orbit around the Sun, (b) has sufficient \n",
    "mass for its self-gravity to overcome rigid body forces so that it assumes a hydrostatic \n",
    "equilibrium (nearly round) shape, and (c) has cleared the neighbourhood around its orbit.\"\"\"\n",
    ")"
   ]
  },
  {
   "cell_type": "markdown",
   "metadata": {},
   "source": [
    "#### Example in Figure 1"
   ]
  },
  {
   "cell_type": "code",
   "execution_count": 3,
   "metadata": {},
   "outputs": [
    {
     "data": {
      "text/plain": [
       "{'concept': 'planet',\n",
       " 'definition': 'A planet [1] is a celestial body that (a) is in orbit around the Sun, (b) has sufficient \\nmass for its self-gravity to overcome rigid body forces so that it assumes a hydrostatic \\nequilibrium (nearly round) shape, and (c) has cleared the neighbourhood around its orbit.',\n",
       " 'entity': 'DENIS-P J082303.1−491201 b',\n",
       " 'description': 'DENIS-P J082303.1-491201 b (alias 2MASS J08230313-4912012 b) is a substellar object, classified as either an exoplanet or a brown dwarf, orbiting DENIS-P J082303.1-491201, an L1.5-type brown dwarf in the constellation Vela.',\n",
       " 'rationale': 'The description of DENIS-P J082303.1−491201 b indicates that it is a substellar object that orbits DENIS-P J082303.1-491201, which is similar to the definition of a planet that states it is a celestial body in orbit around the Sun. Although the object in question is orbiting a brown dwarf and not the Sun, it is still in a similar orbital relationship. However, without additional information about its mass, shape, and whether it has cleared its orbit, it cannot be definitively classified as a planet based solely on the provided definition.',\n",
       " 'answer': 'negative'}"
      ]
     },
     "execution_count": 3,
     "metadata": {},
     "output_type": "execute_result"
    }
   ],
   "source": [
    "iau_2006_8_24_planet.classify(\"DENIS-P J082303.1−491201 b\", \"DENIS-P J082303.1-491201 b (alias 2MASS J08230313-4912012 b) is a substellar object, classified as either an exoplanet or a brown dwarf, orbiting DENIS-P J082303.1-491201, an L1.5-type brown dwarf in the constellation Vela.\")"
   ]
  },
  {
   "cell_type": "markdown",
   "metadata": {},
   "source": [
    "### Wikidata queries"
   ]
  },
  {
   "cell_type": "code",
   "execution_count": 4,
   "metadata": {},
   "outputs": [],
   "source": [
    "KNOWLEDGE_GRAPH = \"https://query.wikidata.org/sparql\"\n",
    "\n",
    "QUERY_HEADERS = {\n",
    "    'User-Agent': 'ConceptualEngineeringAgent/0.2 (https://github.com/bradleypallen/conceptual-engineering-using-llms; b.p.allen@uva.nl)',\n",
    "}\n",
    "\n",
    "SAMPLE_SIZE = 5\n",
    "\n",
    "POSITIVE_EXAMPLES_QUERY = \"\"\"SELECT DISTINCT ?entity ?name ?article WHERE {\n",
    "  {\n",
    "    ?entity p:P31/ps:P31/wdt:P279* wd:Q634 .\n",
    "    ?article schema:about ?entity ;\n",
    "            schema:inLanguage \"en\" ;\n",
    "            schema:isPartOf <https://en.wikipedia.org/> ;\n",
    "            schema:name ?name .\n",
    "  }\n",
    "} LIMIT 10000\"\"\"\n",
    "\n",
    "NEGATIVE_EXAMPLES_QUERY = \"\"\"SELECT DISTINCT ?entity ?name ?article WHERE {\n",
    "  {\n",
    "    ?entity p:P31/ps:P31/wdt:P279* wd:Q3132741 .\n",
    "    ?article schema:about ?entity ;\n",
    "            schema:inLanguage \"en\" ;\n",
    "            schema:isPartOf <https://en.wikipedia.org/> ;\n",
    "            schema:name ?name .\n",
    "    FILTER NOT EXISTS { ?entity p:P31/ps:P31 wd:Q634 }\n",
    "  }\n",
    "} LIMIT 10000\"\"\""
   ]
  },
  {
   "cell_type": "markdown",
   "metadata": {},
   "source": [
    "### Example entities"
   ]
  },
  {
   "cell_type": "code",
   "execution_count": 5,
   "metadata": {},
   "outputs": [],
   "source": [
    "response = requests.get(KNOWLEDGE_GRAPH, params={'query' : POSITIVE_EXAMPLES_QUERY, 'format' : 'json'}, headers=QUERY_HEADERS)\n",
    "response.raise_for_status()\n",
    "json = response.json()\n",
    "records = [ [ result[\"entity\"][\"value\"], result[\"name\"][\"value\"], result[\"article\"][\"value\"] ] for result in json[\"results\"][\"bindings\"] ]\n",
    "records = random.sample(records, SAMPLE_SIZE)\n",
    "positive_examples = pd.DataFrame.from_records(records, columns=[\"id\", \"name\", \"article\"])\n",
    "positive_examples[\"description\"] = positive_examples[\"name\"].apply(lambda name: wikipedia.summary(name, auto_suggest=False).replace('\"', r'\\\"').strip()) \n",
    "positive_examples[\"actual\"] = \"positive\""
   ]
  },
  {
   "cell_type": "code",
   "execution_count": 6,
   "metadata": {},
   "outputs": [],
   "source": [
    "response = requests.get(KNOWLEDGE_GRAPH, params={'query' : NEGATIVE_EXAMPLES_QUERY, 'format' : 'json'}, headers=QUERY_HEADERS)\n",
    "response.raise_for_status()\n",
    "json = response.json()\n",
    "records = [ [ result[\"entity\"][\"value\"], result[\"name\"][\"value\"], result[\"article\"][\"value\"] ] for result in json[\"results\"][\"bindings\"] ]\n",
    "records = random.sample(records, SAMPLE_SIZE)\n",
    "negative_examples = pd.DataFrame.from_records(records, columns=[\"id\", \"name\", \"article\"])\n",
    "negative_examples[\"description\"] = negative_examples[\"name\"].apply(lambda name: wikipedia.summary(name, auto_suggest=False).replace('\"', r'\\\"').strip()) \n",
    "negative_examples[\"actual\"] = \"negative\""
   ]
  },
  {
   "cell_type": "code",
   "execution_count": 7,
   "metadata": {},
   "outputs": [
    {
     "data": {
      "text/html": [
       "<div>\n",
       "<style scoped>\n",
       "    .dataframe tbody tr th:only-of-type {\n",
       "        vertical-align: middle;\n",
       "    }\n",
       "\n",
       "    .dataframe tbody tr th {\n",
       "        vertical-align: top;\n",
       "    }\n",
       "\n",
       "    .dataframe thead th {\n",
       "        text-align: right;\n",
       "    }\n",
       "</style>\n",
       "<table border=\"1\" class=\"dataframe\">\n",
       "  <thead>\n",
       "    <tr style=\"text-align: right;\">\n",
       "      <th></th>\n",
       "      <th>id</th>\n",
       "      <th>name</th>\n",
       "      <th>article</th>\n",
       "      <th>description</th>\n",
       "      <th>actual</th>\n",
       "    </tr>\n",
       "  </thead>\n",
       "  <tbody>\n",
       "    <tr>\n",
       "      <th>0</th>\n",
       "      <td>http://www.wikidata.org/entity/Q25377474</td>\n",
       "      <td>HD 159243 b</td>\n",
       "      <td>https://en.wikipedia.org/wiki/HD_159243_b</td>\n",
       "      <td>This is a List of exoplanets discovered in 201...</td>\n",
       "      <td>positive</td>\n",
       "    </tr>\n",
       "    <tr>\n",
       "      <th>1</th>\n",
       "      <td>http://www.wikidata.org/entity/Q94518130</td>\n",
       "      <td>HD 203949 b</td>\n",
       "      <td>https://en.wikipedia.org/wiki/HD_203949_b</td>\n",
       "      <td>HD 203949 is a K-type giant star 257 light-yea...</td>\n",
       "      <td>positive</td>\n",
       "    </tr>\n",
       "    <tr>\n",
       "      <th>2</th>\n",
       "      <td>http://www.wikidata.org/entity/Q94263131</td>\n",
       "      <td>HD 34445 e</td>\n",
       "      <td>https://en.wikipedia.org/wiki/HD_34445_e</td>\n",
       "      <td>HD 34445 is a star with multiple exoplanetary ...</td>\n",
       "      <td>positive</td>\n",
       "    </tr>\n",
       "    <tr>\n",
       "      <th>3</th>\n",
       "      <td>http://www.wikidata.org/entity/Q1039883</td>\n",
       "      <td>HD 101930 b</td>\n",
       "      <td>https://en.wikipedia.org/wiki/HD_101930_b</td>\n",
       "      <td>HD 101930 b is an extrasolar planet orbiting t...</td>\n",
       "      <td>positive</td>\n",
       "    </tr>\n",
       "    <tr>\n",
       "      <th>4</th>\n",
       "      <td>http://www.wikidata.org/entity/Q858156</td>\n",
       "      <td>DP Leonis b</td>\n",
       "      <td>https://en.wikipedia.org/wiki/DP_Leonis_b</td>\n",
       "      <td>DP Leonis (abbreviated DP Leo) is a binary sta...</td>\n",
       "      <td>positive</td>\n",
       "    </tr>\n",
       "    <tr>\n",
       "      <th>5</th>\n",
       "      <td>http://www.wikidata.org/entity/Q2611570</td>\n",
       "      <td>23011 Petach</td>\n",
       "      <td>https://en.wikipedia.org/wiki/23011_Petach</td>\n",
       "      <td>The following is a partial list of minor plane...</td>\n",
       "      <td>negative</td>\n",
       "    </tr>\n",
       "    <tr>\n",
       "      <th>6</th>\n",
       "      <td>http://www.wikidata.org/entity/Q286079</td>\n",
       "      <td>8687 Caussols</td>\n",
       "      <td>https://en.wikipedia.org/wiki/8687_Caussols</td>\n",
       "      <td>The following is a partial list of minor plane...</td>\n",
       "      <td>negative</td>\n",
       "    </tr>\n",
       "    <tr>\n",
       "      <th>7</th>\n",
       "      <td>http://www.wikidata.org/entity/Q158046</td>\n",
       "      <td>926 Imhilde</td>\n",
       "      <td>https://en.wikipedia.org/wiki/926_Imhilde</td>\n",
       "      <td>926 Imhilde (prov. designation: A920 CB or 192...</td>\n",
       "      <td>negative</td>\n",
       "    </tr>\n",
       "    <tr>\n",
       "      <th>8</th>\n",
       "      <td>http://www.wikidata.org/entity/Q2562254</td>\n",
       "      <td>20019 Yukiotanaka</td>\n",
       "      <td>https://en.wikipedia.org/wiki/20019_Yukiotanaka</td>\n",
       "      <td>The following is a partial list of minor plane...</td>\n",
       "      <td>negative</td>\n",
       "    </tr>\n",
       "    <tr>\n",
       "      <th>9</th>\n",
       "      <td>http://www.wikidata.org/entity/Q20098022</td>\n",
       "      <td>C/2014 Q1 (PanSTARRS)</td>\n",
       "      <td>https://en.wikipedia.org/wiki/C/2014_Q1_(PanST...</td>\n",
       "      <td>C/2014 Q1 (PanSTARRS) is a non-periodic/long p...</td>\n",
       "      <td>negative</td>\n",
       "    </tr>\n",
       "  </tbody>\n",
       "</table>\n",
       "</div>"
      ],
      "text/plain": [
       "                                         id                   name  \\\n",
       "0  http://www.wikidata.org/entity/Q25377474            HD 159243 b   \n",
       "1  http://www.wikidata.org/entity/Q94518130            HD 203949 b   \n",
       "2  http://www.wikidata.org/entity/Q94263131             HD 34445 e   \n",
       "3   http://www.wikidata.org/entity/Q1039883            HD 101930 b   \n",
       "4    http://www.wikidata.org/entity/Q858156            DP Leonis b   \n",
       "5   http://www.wikidata.org/entity/Q2611570           23011 Petach   \n",
       "6    http://www.wikidata.org/entity/Q286079          8687 Caussols   \n",
       "7    http://www.wikidata.org/entity/Q158046            926 Imhilde   \n",
       "8   http://www.wikidata.org/entity/Q2562254      20019 Yukiotanaka   \n",
       "9  http://www.wikidata.org/entity/Q20098022  C/2014 Q1 (PanSTARRS)   \n",
       "\n",
       "                                             article  \\\n",
       "0          https://en.wikipedia.org/wiki/HD_159243_b   \n",
       "1          https://en.wikipedia.org/wiki/HD_203949_b   \n",
       "2           https://en.wikipedia.org/wiki/HD_34445_e   \n",
       "3          https://en.wikipedia.org/wiki/HD_101930_b   \n",
       "4          https://en.wikipedia.org/wiki/DP_Leonis_b   \n",
       "5         https://en.wikipedia.org/wiki/23011_Petach   \n",
       "6        https://en.wikipedia.org/wiki/8687_Caussols   \n",
       "7          https://en.wikipedia.org/wiki/926_Imhilde   \n",
       "8    https://en.wikipedia.org/wiki/20019_Yukiotanaka   \n",
       "9  https://en.wikipedia.org/wiki/C/2014_Q1_(PanST...   \n",
       "\n",
       "                                         description    actual  \n",
       "0  This is a List of exoplanets discovered in 201...  positive  \n",
       "1  HD 203949 is a K-type giant star 257 light-yea...  positive  \n",
       "2  HD 34445 is a star with multiple exoplanetary ...  positive  \n",
       "3  HD 101930 b is an extrasolar planet orbiting t...  positive  \n",
       "4  DP Leonis (abbreviated DP Leo) is a binary sta...  positive  \n",
       "5  The following is a partial list of minor plane...  negative  \n",
       "6  The following is a partial list of minor plane...  negative  \n",
       "7  926 Imhilde (prov. designation: A920 CB or 192...  negative  \n",
       "8  The following is a partial list of minor plane...  negative  \n",
       "9  C/2014 Q1 (PanSTARRS) is a non-periodic/long p...  negative  "
      ]
     },
     "execution_count": 7,
     "metadata": {},
     "output_type": "execute_result"
    }
   ],
   "source": [
    "examples = pd.concat([positive_examples, negative_examples], ignore_index=True)\n",
    "examples"
   ]
  },
  {
   "cell_type": "markdown",
   "metadata": {},
   "source": [
    "### Experiments"
   ]
  },
  {
   "cell_type": "code",
   "execution_count": 8,
   "metadata": {},
   "outputs": [],
   "source": [
    "def run_experiment(cp, examples):\n",
    "    print(f'{cp.term} ({cp.id})')\n",
    "    classifications = examples.to_dict(\"records\")\n",
    "    for entity in tqdm(classifications):\n",
    "        classification = cp.classify(entity[\"name\"], entity[\"description\"])\n",
    "        entity[\"rationale\"] = classification[\"rationale\"]\n",
    "        entity[\"predicted\"] = classification[\"answer\"]\n",
    "    return pd.DataFrame.from_records(classifications)"
   ]
  },
  {
   "cell_type": "code",
   "execution_count": 9,
   "metadata": {},
   "outputs": [
    {
     "name": "stdout",
     "output_type": "stream",
     "text": [
      "planet (OED)\n"
     ]
    },
    {
     "name": "stderr",
     "output_type": "stream",
     "text": [
      "100%|██████████| 10/10 [01:27<00:00,  8.76s/it]\n"
     ]
    }
   ],
   "source": [
    "oed_planet_results = run_experiment(oed_planet, examples)"
   ]
  },
  {
   "cell_type": "code",
   "execution_count": 10,
   "metadata": {},
   "outputs": [
    {
     "name": "stdout",
     "output_type": "stream",
     "text": [
      "planet (IAU 2006-08-16)\n"
     ]
    },
    {
     "name": "stderr",
     "output_type": "stream",
     "text": [
      "100%|██████████| 10/10 [01:18<00:00,  7.90s/it]\n"
     ]
    }
   ],
   "source": [
    "iau_2006_8_16_planet_results = run_experiment(iau_2006_8_16_planet, examples)"
   ]
  },
  {
   "cell_type": "code",
   "execution_count": 11,
   "metadata": {},
   "outputs": [
    {
     "name": "stdout",
     "output_type": "stream",
     "text": [
      "planet (IAU 2006-08-24)\n"
     ]
    },
    {
     "name": "stderr",
     "output_type": "stream",
     "text": [
      "100%|██████████| 10/10 [01:28<00:00,  8.81s/it]\n"
     ]
    }
   ],
   "source": [
    "iau_2006_8_24_planet_results = run_experiment(iau_2006_8_24_planet, examples)"
   ]
  },
  {
   "cell_type": "markdown",
   "metadata": {},
   "source": [
    "### Performance metrics"
   ]
  },
  {
   "cell_type": "code",
   "execution_count": 12,
   "metadata": {},
   "outputs": [],
   "source": [
    "oed_planet_cm = pycm.ConfusionMatrix(\n",
    "    oed_planet_results[\"actual\"].tolist(), \n",
    "    oed_planet_results[\"predicted\"].tolist(), \n",
    "    digit=2, \n",
    "    classes=[ 'positive', 'negative' ]\n",
    ")\n",
    "\n",
    "iau_2006_8_16_planet_cm = pycm.ConfusionMatrix(\n",
    "    iau_2006_8_16_planet_results[\"actual\"].tolist(), \n",
    "    iau_2006_8_16_planet_results[\"predicted\"].tolist(), \n",
    "    digit=2, \n",
    "    classes=[ 'positive', 'negative' ]\n",
    ")\n",
    "\n",
    "iau_2006_8_24_planet_cm = pycm.ConfusionMatrix(\n",
    "    iau_2006_8_24_planet_results[\"actual\"].tolist(), \n",
    "    iau_2006_8_24_planet_results[\"predicted\"].tolist(), \n",
    "    digit=2, \n",
    "    classes=[ 'positive', 'negative' ]\n",
    ")"
   ]
  },
  {
   "cell_type": "code",
   "execution_count": 13,
   "metadata": {},
   "outputs": [],
   "source": [
    "cms = [\n",
    "    (f'{oed_planet.term} ({oed_planet.id})', oed_planet_cm),\n",
    "    (f'{iau_2006_8_16_planet.term} ({iau_2006_8_16_planet.id})', iau_2006_8_16_planet_cm),\n",
    "    (f'{iau_2006_8_24_planet.term} ({iau_2006_8_24_planet.id})', iau_2006_8_24_planet_cm)\n",
    "]"
   ]
  },
  {
   "cell_type": "code",
   "execution_count": 14,
   "metadata": {},
   "outputs": [
    {
     "data": {
      "image/png": "[encoded data removed]",
      "text/plain": [
       "<Figure size 2000x1400 with 23 Axes>"
      ]
     },
     "metadata": {},
     "output_type": "display_data"
    }
   ],
   "source": [
    "fig = plt.figure(figsize=(20,14))\n",
    "gs = fig.add_gridspec(4, 5, hspace=0.5)\n",
    "axes = gs.subplots()\n",
    "for ax, (name, cm) in zip(axes.flat, cms):\n",
    "    df = pd.DataFrame(cm.matrix).T.fillna(0)\n",
    "    sns.heatmap(df, annot=True, fmt='d', cmap=\"YlGnBu\", ax=ax)\n",
    "    ax.set_title(name, wrap=True, fontsize=9)\n",
    "    ax.set(xlabel='classification\\nprocedure', ylabel='Wikidata')\n",
    "for ax in axes.flat[len(cms):]:\n",
    "    ax.set_visible(False)\n",
    "plt.show()"
   ]
  },
  {
   "cell_type": "code",
   "execution_count": 15,
   "metadata": {},
   "outputs": [
    {
     "data": {
      "text/html": [
       "<div>\n",
       "<style scoped>\n",
       "    .dataframe tbody tr th:only-of-type {\n",
       "        vertical-align: middle;\n",
       "    }\n",
       "\n",
       "    .dataframe tbody tr th {\n",
       "        vertical-align: top;\n",
       "    }\n",
       "\n",
       "    .dataframe thead th {\n",
       "        text-align: right;\n",
       "    }\n",
       "</style>\n",
       "<table border=\"1\" class=\"dataframe\">\n",
       "  <thead>\n",
       "    <tr style=\"text-align: right;\">\n",
       "      <th></th>\n",
       "      <th>classification procedure</th>\n",
       "      <th>Cohen's kappa</th>\n",
       "      <th>F1 macro</th>\n",
       "      <th>FN</th>\n",
       "      <th>FP</th>\n",
       "    </tr>\n",
       "  </thead>\n",
       "  <tbody>\n",
       "    <tr>\n",
       "      <th>1</th>\n",
       "      <td>planet (IAU 2006-08-16)</td>\n",
       "      <td>0.4</td>\n",
       "      <td>0.670330</td>\n",
       "      <td>3</td>\n",
       "      <td>0</td>\n",
       "    </tr>\n",
       "    <tr>\n",
       "      <th>2</th>\n",
       "      <td>planet (IAU 2006-08-24)</td>\n",
       "      <td>0.4</td>\n",
       "      <td>0.670330</td>\n",
       "      <td>3</td>\n",
       "      <td>0</td>\n",
       "    </tr>\n",
       "    <tr>\n",
       "      <th>0</th>\n",
       "      <td>planet (OED)</td>\n",
       "      <td>0.2</td>\n",
       "      <td>0.583333</td>\n",
       "      <td>1</td>\n",
       "      <td>3</td>\n",
       "    </tr>\n",
       "  </tbody>\n",
       "</table>\n",
       "</div>"
      ],
      "text/plain": [
       "  classification procedure  Cohen's kappa  F1 macro  FN  FP\n",
       "1  planet (IAU 2006-08-16)            0.4  0.670330   3   0\n",
       "2  planet (IAU 2006-08-24)            0.4  0.670330   3   0\n",
       "0             planet (OED)            0.2  0.583333   1   3"
      ]
     },
     "execution_count": 15,
     "metadata": {},
     "output_type": "execute_result"
    }
   ],
   "source": [
    "metrics = pd.DataFrame.from_records([ \n",
    "    { \"classification procedure\": cm[0], \"Cohen's kappa\": cm[1].Kappa, \"F1 macro\": cm[1].F1_Macro, \"FN\": cm[1].FN[\"positive\"], \"FP\": cm[1].FP[\"positive\"] }\n",
    "    for cm in cms \n",
    "])\n",
    "metrics.sort_values(by=\"Cohen's kappa\", ascending=False)"
   ]
  },
  {
   "cell_type": "markdown",
   "metadata": {},
   "source": [
    "### Error analyses"
   ]
  },
  {
   "cell_type": "code",
   "execution_count": 16,
   "metadata": {},
   "outputs": [],
   "source": [
    "def display_errors(cp, results):\n",
    "    display(Markdown(f'## {cp.term} ({cp.id})'))\n",
    "    display(Markdown(f'Definition: {cp.definition}'))\n",
    "    fns = results[((results[\"actual\"] == 'positive') & (results[\"predicted\"] == 'negative'))][[\"name\", \"description\", \"rationale\"]]\n",
    "    if len(fns) > 0:\n",
    "        fns_styler = fns.style.set_properties(**{\"text-align\": \"left\", \"vertical-align\" : \"top\", \"overflow-wrap\": \"break-word\"}).hide(axis=\"index\")\n",
    "        display(Markdown(f'### False negatives'))\n",
    "        display(fns_styler)\n",
    "    fps = results[((results[\"actual\"] == 'negative') & (results[\"predicted\"] == 'positive'))][[\"name\", \"description\", \"rationale\"]]\n",
    "    if len(fps) > 0:\n",
    "        fps_styler = fps.style.set_properties(**{\"text-align\": \"left\", \"vertical-align\" : \"top\", \"overflow-wrap\": \"break-word\"}).hide(axis=\"index\")\n",
    "        display(Markdown(f'### False positives'))\n",
    "        display(fps_styler)\n"
   ]
  },
  {
   "cell_type": "code",
   "execution_count": 17,
   "metadata": {},
   "outputs": [
    {
     "data": {
      "text/markdown": [
       "## planet (OED)"
      ],
      "text/plain": [
       "<IPython.core.display.Markdown object>"
      ]
     },
     "metadata": {},
     "output_type": "display_data"
    },
    {
     "data": {
      "text/markdown": [
       "Definition: Any of various rocky or gaseous bodies that revolve in approximately elliptical orbits \n",
       "around the sun and are visible by its reflected light; esp. each of the planets Mercury, Venus, \n",
       "Earth, Mars, Jupiter, Saturn, Uranus, Neptune, and (until 2006) Pluto (in order of increasing \n",
       "distance from the sun); a similar body revolving around another star. Also: any of various \n",
       "smaller bodies that revolve around these (cf. satellite n. 2a)."
      ],
      "text/plain": [
       "<IPython.core.display.Markdown object>"
      ]
     },
     "metadata": {},
     "output_type": "display_data"
    },
    {
     "data": {
      "text/markdown": [
       "### False negatives"
      ],
      "text/plain": [
       "<IPython.core.display.Markdown object>"
      ]
     },
     "metadata": {},
     "output_type": "display_data"
    },
    {
     "data": {
      "text/html": [
       "<style type=\"text/css\">\n",
       "#T_a184b_row0_col0, #T_a184b_row0_col1, #T_a184b_row0_col2 {\n",
       "  text-align: left;\n",
       "  vertical-align: top;\n",
       "  overflow-wrap: break-word;\n",
       "}\n",
       "</style>\n",
       "<table id=\"T_a184b\">\n",
       "  <thead>\n",
       "    <tr>\n",
       "      <th id=\"T_a184b_level0_col0\" class=\"col_heading level0 col0\" >name</th>\n",
       "      <th id=\"T_a184b_level0_col1\" class=\"col_heading level0 col1\" >description</th>\n",
       "      <th id=\"T_a184b_level0_col2\" class=\"col_heading level0 col2\" >rationale</th>\n",
       "    </tr>\n",
       "  </thead>\n",
       "  <tbody>\n",
       "    <tr>\n",
       "      <td id=\"T_a184b_row0_col0\" class=\"data row0 col0\" >HD 203949 b</td>\n",
       "      <td id=\"T_a184b_row0_col1\" class=\"data row0 col1\" >HD 203949 is a K-type giant star 257 light-years away in the constellation of Microscopium. Its surface temperature is 4618±113 K. It is either on the red giant branch fusing hydrogen in a shell around a helium core, or more likely a red clump star currently fusing helium in its core. HD 203949 is enriched in heavy elements relative to the Sun, with a metallicity ([Fe/H]) of 0.17±0.07 dex. As is common for red giants, HD 203949 has an enhanced concentration of sodium and aluminium compared to iron.Multiplicity surveys did not find any stellar companions around HD 203949 as of 2019.</td>\n",
       "      <td id=\"T_a184b_row0_col2\" class=\"data row0 col2\" >The concept definition of a planet states that it is a body that revolves in approximately elliptical orbits around the sun or a similar body revolving around another star. While the entity description does not explicitly state that HD 203949 b is a planet, it does mention that HD 203949 is a star and does not mention any other stellar companions as of 2019. This could imply that HD 203949 b is a body revolving around the star HD 203949, which would align with the definition of a planet. However, without more specific information about HD 203949 b, it is not possible to definitively assert that it is a planet.</td>\n",
       "    </tr>\n",
       "  </tbody>\n",
       "</table>\n"
      ],
      "text/plain": [
       "<pandas.io.formats.style.Styler at 0x14fdb2290>"
      ]
     },
     "metadata": {},
     "output_type": "display_data"
    },
    {
     "data": {
      "text/markdown": [
       "### False positives"
      ],
      "text/plain": [
       "<IPython.core.display.Markdown object>"
      ]
     },
     "metadata": {},
     "output_type": "display_data"
    },
    {
     "data": {
      "text/html": [
       "<style type=\"text/css\">\n",
       "#T_77eaf_row0_col0, #T_77eaf_row0_col1, #T_77eaf_row0_col2, #T_77eaf_row1_col0, #T_77eaf_row1_col1, #T_77eaf_row1_col2, #T_77eaf_row2_col0, #T_77eaf_row2_col1, #T_77eaf_row2_col2 {\n",
       "  text-align: left;\n",
       "  vertical-align: top;\n",
       "  overflow-wrap: break-word;\n",
       "}\n",
       "</style>\n",
       "<table id=\"T_77eaf\">\n",
       "  <thead>\n",
       "    <tr>\n",
       "      <th id=\"T_77eaf_level0_col0\" class=\"col_heading level0 col0\" >name</th>\n",
       "      <th id=\"T_77eaf_level0_col1\" class=\"col_heading level0 col1\" >description</th>\n",
       "      <th id=\"T_77eaf_level0_col2\" class=\"col_heading level0 col2\" >rationale</th>\n",
       "    </tr>\n",
       "  </thead>\n",
       "  <tbody>\n",
       "    <tr>\n",
       "      <td id=\"T_77eaf_row0_col0\" class=\"data row0 col0\" >23011 Petach</td>\n",
       "      <td id=\"T_77eaf_row0_col1\" class=\"data row0 col1\" >The following is a partial list of minor planets, running from minor-planet number 23001 through 24000, inclusive. The primary data for this and other partial lists is based on JPL's \\\"Small-Body Orbital Elements\\\" and \\\"Data Available from the Minor Planet Center\\\". A detailed description of the table's columns and additional sources are given on the main page including a complete list of every page in this series, and a statistical break-up on the dynamical classification of minor planets.\n",
       "Also see the summary list of all named bodies in numerical and alphabetical order, and the corresponding naming citations for the number range of this particular list. New namings may only be added to this list after official publication, as the preannouncement of names is condemned by the Working Group for Small Bodies Nomenclature of the International Astronomical Union.</td>\n",
       "      <td id=\"T_77eaf_row0_col2\" class=\"data row0 col2\" >The definition of a planet includes any of various smaller bodies that revolve around larger bodies such as the sun. The description of 23011 Petach indicates that it is a minor planet, which falls under the category of smaller bodies. Therefore, based on the provided definition, 23011 Petach can be considered a planet.</td>\n",
       "    </tr>\n",
       "    <tr>\n",
       "      <td id=\"T_77eaf_row1_col0\" class=\"data row1 col0\" >8687 Caussols</td>\n",
       "      <td id=\"T_77eaf_row1_col1\" class=\"data row1 col1\" >The following is a partial list of minor planets, running from minor-planet number 8001 through 9000, inclusive. The primary data for this and other partial lists is based on JPL's \\\"Small-Body Orbital Elements\\\" and \\\"Data Available from the Minor Planet Center\\\". A detailed description of the table's columns and additional sources are given on the main page including a complete list of every page in this series, and a statistical break-up on the dynamical classification of minor planets.\n",
       "Also see the summary list of all named bodies in numerical and alphabetical order, and the corresponding naming citations for the number range of this particular list. New namings may only be added to this list after official publication, as the preannouncement of names is condemned by the Working Group for Small Bodies Nomenclature of the International Astronomical Union.</td>\n",
       "      <td id=\"T_77eaf_row1_col2\" class=\"data row1 col2\" >The definition of a planet includes any of various smaller bodies that revolve around larger bodies, such as the sun. The description of 8687 Caussols indicates that it is a minor planet, which falls under the broader category of planets as defined. Therefore, based on the provided definition, one could argue that 8687 Caussols is a planet.</td>\n",
       "    </tr>\n",
       "    <tr>\n",
       "      <td id=\"T_77eaf_row2_col0\" class=\"data row2 col0\" >20019 Yukiotanaka</td>\n",
       "      <td id=\"T_77eaf_row2_col1\" class=\"data row2 col1\" >The following is a partial list of minor planets, running from minor-planet number 20001 through 21000, inclusive. The primary data for this and other partial lists is based on JPL's \\\"Small-Body Orbital Elements\\\" and \\\"Data Available from the Minor Planet Center\\\". A detailed description of the table's columns and additional sources are given on the main page including a complete list of every page in this series, and a statistical break-up on the dynamical classification of minor planets.\n",
       "Also see the summary list of all named bodies in numerical and alphabetical order, and the corresponding naming citations for the number range of this particular list. New namings may only be added to this list after official publication, as the preannouncement of names is condemned by the Working Group for Small Bodies Nomenclature of the International Astronomical Union.</td>\n",
       "      <td id=\"T_77eaf_row2_col2\" class=\"data row2 col2\" >The definition provided for a planet states that it is a rocky or gaseous body that revolves in approximately elliptical orbits around the sun and is visible by its reflected light. The entity 20019 Yukiotanaka is described as a minor planet, which implies that it is a smaller body that revolves around the sun. Therefore, based on the provided definition, one could argue that 20019 Yukiotanaka is a planet. However, it should be noted that the definition also includes a reference to the specific planets in our solar system and a similar body revolving around another star, which may not necessarily apply to 20019 Yukiotanaka.</td>\n",
       "    </tr>\n",
       "  </tbody>\n",
       "</table>\n"
      ],
      "text/plain": [
       "<pandas.io.formats.style.Styler at 0x14fe3b150>"
      ]
     },
     "metadata": {},
     "output_type": "display_data"
    }
   ],
   "source": [
    "display_errors(oed_planet, oed_planet_results)"
   ]
  },
  {
   "cell_type": "code",
   "execution_count": 18,
   "metadata": {},
   "outputs": [
    {
     "data": {
      "text/markdown": [
       "## planet (IAU 2006-08-16)"
      ],
      "text/plain": [
       "<IPython.core.display.Markdown object>"
      ]
     },
     "metadata": {},
     "output_type": "display_data"
    },
    {
     "data": {
      "text/markdown": [
       "Definition: A planet is a celestial body that (a) has sufficient mass for its self-gravity to \n",
       "overcome rigid body forces so that it assumes a hydrostatic equilibrium (nearly round) shape, \n",
       "and (b) is in orbit around a star, and is neither a star nor a satellite of a planet."
      ],
      "text/plain": [
       "<IPython.core.display.Markdown object>"
      ]
     },
     "metadata": {},
     "output_type": "display_data"
    },
    {
     "data": {
      "text/markdown": [
       "### False negatives"
      ],
      "text/plain": [
       "<IPython.core.display.Markdown object>"
      ]
     },
     "metadata": {},
     "output_type": "display_data"
    },
    {
     "data": {
      "text/html": [
       "<style type=\"text/css\">\n",
       "#T_d7691_row0_col0, #T_d7691_row0_col1, #T_d7691_row0_col2, #T_d7691_row1_col0, #T_d7691_row1_col1, #T_d7691_row1_col2, #T_d7691_row2_col0, #T_d7691_row2_col1, #T_d7691_row2_col2 {\n",
       "  text-align: left;\n",
       "  vertical-align: top;\n",
       "  overflow-wrap: break-word;\n",
       "}\n",
       "</style>\n",
       "<table id=\"T_d7691\">\n",
       "  <thead>\n",
       "    <tr>\n",
       "      <th id=\"T_d7691_level0_col0\" class=\"col_heading level0 col0\" >name</th>\n",
       "      <th id=\"T_d7691_level0_col1\" class=\"col_heading level0 col1\" >description</th>\n",
       "      <th id=\"T_d7691_level0_col2\" class=\"col_heading level0 col2\" >rationale</th>\n",
       "    </tr>\n",
       "  </thead>\n",
       "  <tbody>\n",
       "    <tr>\n",
       "      <td id=\"T_d7691_row0_col0\" class=\"data row0 col0\" >HD 159243 b</td>\n",
       "      <td id=\"T_d7691_row0_col1\" class=\"data row0 col1\" >This is a List of exoplanets discovered in 2013.\n",
       "For exoplanets detected only by radial velocity, the mass value is actually a lower limit. (See Minimum mass for more information)</td>\n",
       "      <td id=\"T_d7691_row0_col2\" class=\"data row0 col2\" >The text does not provide enough information to definitively assert that HD 159243 b is a planet. While it is mentioned in a list of exoplanets discovered in 2013, the text does not provide specific details about HD 159243 b's mass, shape, or its orbit around a star, which are necessary to classify it as a planet according to the provided definition.</td>\n",
       "    </tr>\n",
       "    <tr>\n",
       "      <td id=\"T_d7691_row1_col0\" class=\"data row1 col0\" >HD 203949 b</td>\n",
       "      <td id=\"T_d7691_row1_col1\" class=\"data row1 col1\" >HD 203949 is a K-type giant star 257 light-years away in the constellation of Microscopium. Its surface temperature is 4618±113 K. It is either on the red giant branch fusing hydrogen in a shell around a helium core, or more likely a red clump star currently fusing helium in its core. HD 203949 is enriched in heavy elements relative to the Sun, with a metallicity ([Fe/H]) of 0.17±0.07 dex. As is common for red giants, HD 203949 has an enhanced concentration of sodium and aluminium compared to iron.Multiplicity surveys did not find any stellar companions around HD 203949 as of 2019.</td>\n",
       "      <td id=\"T_d7691_row1_col2\" class=\"data row1 col2\" >The provided description does not provide sufficient information to assert that HD 203949 b is a planet. The description primarily focuses on the characteristics of the star HD 203949, not a separate celestial body in orbit around it. Therefore, based on the given information, we cannot definitively classify HD 203949 b as a planet.</td>\n",
       "    </tr>\n",
       "    <tr>\n",
       "      <td id=\"T_d7691_row2_col0\" class=\"data row2 col0\" >HD 34445 e</td>\n",
       "      <td id=\"T_d7691_row2_col1\" class=\"data row2 col1\" >HD 34445 is a star with multiple exoplanetary companions in the equatorial constellation of Orion. With an apparent visual magnitude of 7.31, it is a 7th magnitude star that is too dim to be readily visible to the naked eye. The system is located at a distance of 150.5 light years from the Sun based on parallax measurements, but is drifting closer with a high radial velocity of −79 km/s. It is expected to draw as close as 57.5 light-years in ~492,000 years.This is an ordinary G-type main-sequence star with a stellar classification of G0 V, which means it is a Sun-like star that is generating energy through core hydrogen fusion. It is considered a metal-rich star, showing a much higher metallicity compared to the Sun. Despite this it is an older star and chromospherically quiet, lying about 0.8 magnitudes above the main sequence. This star is larger, hotter, brighter, and more massive than the Sun. It is spinning with a projected rotational velocity of ~3 km/s, giving it a rotation period of around 22 days.</td>\n",
       "      <td id=\"T_d7691_row2_col2\" class=\"data row2 col2\" >The description does not provide sufficient information to assert that HD 34445 e is a planet. The description primarily focuses on the characteristics of the star HD 34445, not any specific celestial body orbiting it. To determine if HD 34445 e is a planet, we would need information about its mass, shape, and whether it orbits the star HD 34445 without being a star itself or a satellite of another planet. Without this information, we cannot definitively classify HD 34445 e as a planet.</td>\n",
       "    </tr>\n",
       "  </tbody>\n",
       "</table>\n"
      ],
      "text/plain": [
       "<pandas.io.formats.style.Styler at 0x14ef73f10>"
      ]
     },
     "metadata": {},
     "output_type": "display_data"
    }
   ],
   "source": [
    "display_errors(iau_2006_8_16_planet, iau_2006_8_16_planet_results)"
   ]
  },
  {
   "cell_type": "code",
   "execution_count": 19,
   "metadata": {},
   "outputs": [
    {
     "data": {
      "text/markdown": [
       "## planet (IAU 2006-08-24)"
      ],
      "text/plain": [
       "<IPython.core.display.Markdown object>"
      ]
     },
     "metadata": {},
     "output_type": "display_data"
    },
    {
     "data": {
      "text/markdown": [
       "Definition: A planet [1] is a celestial body that (a) is in orbit around the Sun, (b) has sufficient \n",
       "mass for its self-gravity to overcome rigid body forces so that it assumes a hydrostatic \n",
       "equilibrium (nearly round) shape, and (c) has cleared the neighbourhood around its orbit."
      ],
      "text/plain": [
       "<IPython.core.display.Markdown object>"
      ]
     },
     "metadata": {},
     "output_type": "display_data"
    },
    {
     "data": {
      "text/markdown": [
       "### False negatives"
      ],
      "text/plain": [
       "<IPython.core.display.Markdown object>"
      ]
     },
     "metadata": {},
     "output_type": "display_data"
    },
    {
     "data": {
      "text/html": [
       "<style type=\"text/css\">\n",
       "#T_eb00d_row0_col0, #T_eb00d_row0_col1, #T_eb00d_row0_col2, #T_eb00d_row1_col0, #T_eb00d_row1_col1, #T_eb00d_row1_col2, #T_eb00d_row2_col0, #T_eb00d_row2_col1, #T_eb00d_row2_col2 {\n",
       "  text-align: left;\n",
       "  vertical-align: top;\n",
       "  overflow-wrap: break-word;\n",
       "}\n",
       "</style>\n",
       "<table id=\"T_eb00d\">\n",
       "  <thead>\n",
       "    <tr>\n",
       "      <th id=\"T_eb00d_level0_col0\" class=\"col_heading level0 col0\" >name</th>\n",
       "      <th id=\"T_eb00d_level0_col1\" class=\"col_heading level0 col1\" >description</th>\n",
       "      <th id=\"T_eb00d_level0_col2\" class=\"col_heading level0 col2\" >rationale</th>\n",
       "    </tr>\n",
       "  </thead>\n",
       "  <tbody>\n",
       "    <tr>\n",
       "      <td id=\"T_eb00d_row0_col0\" class=\"data row0 col0\" >HD 159243 b</td>\n",
       "      <td id=\"T_eb00d_row0_col1\" class=\"data row0 col1\" >This is a List of exoplanets discovered in 2013.\n",
       "For exoplanets detected only by radial velocity, the mass value is actually a lower limit. (See Minimum mass for more information)</td>\n",
       "      <td id=\"T_eb00d_row0_col2\" class=\"data row0 col2\" >The text does not provide sufficient information to assert that HD 159243 b is a planet based on the provided definition. The definition requires that the celestial body is in orbit around the Sun, has sufficient mass to assume a nearly round shape, and has cleared the neighbourhood around its orbit. The description of HD 159243 b does not provide any of this information.</td>\n",
       "    </tr>\n",
       "    <tr>\n",
       "      <td id=\"T_eb00d_row1_col0\" class=\"data row1 col0\" >HD 203949 b</td>\n",
       "      <td id=\"T_eb00d_row1_col1\" class=\"data row1 col1\" >HD 203949 is a K-type giant star 257 light-years away in the constellation of Microscopium. Its surface temperature is 4618±113 K. It is either on the red giant branch fusing hydrogen in a shell around a helium core, or more likely a red clump star currently fusing helium in its core. HD 203949 is enriched in heavy elements relative to the Sun, with a metallicity ([Fe/H]) of 0.17±0.07 dex. As is common for red giants, HD 203949 has an enhanced concentration of sodium and aluminium compared to iron.Multiplicity surveys did not find any stellar companions around HD 203949 as of 2019.</td>\n",
       "      <td id=\"T_eb00d_row1_col2\" class=\"data row1 col2\" >The text does not provide sufficient information to assert that HD 203949 b is a planet. The description only provides information about the star HD 203949, not about any celestial bodies orbiting it. To classify HD 203949 b as a planet, we would need information confirming that it orbits around the star (HD 203949), has sufficient mass to maintain a nearly round shape due to its self-gravity, and has cleared its orbit's neighbourhood. Without this information, we cannot definitively classify HD 203949 b as a planet.</td>\n",
       "    </tr>\n",
       "    <tr>\n",
       "      <td id=\"T_eb00d_row2_col0\" class=\"data row2 col0\" >HD 34445 e</td>\n",
       "      <td id=\"T_eb00d_row2_col1\" class=\"data row2 col1\" >HD 34445 is a star with multiple exoplanetary companions in the equatorial constellation of Orion. With an apparent visual magnitude of 7.31, it is a 7th magnitude star that is too dim to be readily visible to the naked eye. The system is located at a distance of 150.5 light years from the Sun based on parallax measurements, but is drifting closer with a high radial velocity of −79 km/s. It is expected to draw as close as 57.5 light-years in ~492,000 years.This is an ordinary G-type main-sequence star with a stellar classification of G0 V, which means it is a Sun-like star that is generating energy through core hydrogen fusion. It is considered a metal-rich star, showing a much higher metallicity compared to the Sun. Despite this it is an older star and chromospherically quiet, lying about 0.8 magnitudes above the main sequence. This star is larger, hotter, brighter, and more massive than the Sun. It is spinning with a projected rotational velocity of ~3 km/s, giving it a rotation period of around 22 days.</td>\n",
       "      <td id=\"T_eb00d_row2_col2\" class=\"data row2 col2\" >The provided description does not provide sufficient information to assert that HD 34445 e is a planet. The description primarily focuses on the characteristics of the star HD 34445, not any specific celestial bodies orbiting it. To classify HD 34445 e as a planet, we would need information confirming that it orbits the star (HD 34445), has sufficient mass to maintain a nearly round shape due to its self-gravity, and has cleared its orbit's neighbourhood. Without this information, we cannot definitively classify HD 34445 e as a planet.</td>\n",
       "    </tr>\n",
       "  </tbody>\n",
       "</table>\n"
      ],
      "text/plain": [
       "<pandas.io.formats.style.Styler at 0x14fe72590>"
      ]
     },
     "metadata": {},
     "output_type": "display_data"
    }
   ],
   "source": [
    "display_errors(iau_2006_8_24_planet, iau_2006_8_24_planet_results)"
   ]
  }
 ],
 "metadata": {
  "kernelspec": {
   "display_name": "conceptual-engineering-using-llms",
   "language": "python",
   "name": "python3"
  },
  "language_info": {
   "codemirror_mode": {
    "name": "ipython",
    "version": 3
   },
   "file_extension": ".py",
   "mimetype": "text/x-python",
   "name": "python",
   "nbconvert_exporter": "python",
   "pygments_lexer": "ipython3",
   "version": "3.11.4"
  },
  "orig_nbformat": 4
 },
 "nbformat": 4,
 "nbformat_minor": 2
}
