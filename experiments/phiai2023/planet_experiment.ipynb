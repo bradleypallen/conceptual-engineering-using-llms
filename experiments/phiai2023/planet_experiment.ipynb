{
 "cells": [
  {
   "cell_type": "code",
   "execution_count": 1,
   "metadata": {},
   "outputs": [],
   "source": [
    "import wikipedia, requests, random, pycm, pandas as pd, matplotlib.pyplot as plt, seaborn as sns\n",
    "from tqdm import tqdm\n",
    "from IPython.display import display, Markdown\n",
    "from classification_procedure import ClassificationProcedure"
   ]
  },
  {
   "cell_type": "markdown",
   "metadata": {},
   "source": [
    "## Classification procedures"
   ]
  },
  {
   "cell_type": "code",
   "execution_count": 2,
   "metadata": {},
   "outputs": [],
   "source": [
    "oed_planet = ClassificationProcedure(\n",
    "    \"OED\",\n",
    "    \"planet\", \n",
    "    \"\"\"Any of various rocky or gaseous bodies that revolve in approximately elliptical orbits \n",
    "around the sun and are visible by its reflected light; esp. each of the planets Mercury, Venus, \n",
    "Earth, Mars, Jupiter, Saturn, Uranus, Neptune, and (until 2006) Pluto (in order of increasing \n",
    "distance from the sun); a similar body revolving around another star. Also: any of various \n",
    "smaller bodies that revolve around these (cf. satellite n. 2a).\"\"\",\n",
    "    \"https://www.oed.com/dictionary/planet_n\"\n",
    ")\n",
    "\n",
    "iau_2006_8_16_planet = ClassificationProcedure(\n",
    "    \"IAU 2006-08-16\",\n",
    "    \"planet\", \n",
    "    \"\"\"A planet is a celestial body that (a) has sufficient mass for its self-gravity to \n",
    "overcome rigid body forces so that it assumes a hydrostatic equilibrium (nearly round) shape, \n",
    "and (b) is in orbit around a star, and is neither a star nor a satellite of a planet.\"\"\",\n",
    "    \"https://www.iau.org/news/pressreleases/detail/iau0601/\"\n",
    ")\n",
    "\n",
    "iau_2006_8_24_planet = ClassificationProcedure(\n",
    "    \"IAU 2006-08-24\",\n",
    "    \"planet\", \n",
    "    \"\"\"A planet [1] is a celestial body that (a) is in orbit around the Sun, (b) has sufficient \n",
    "mass for its self-gravity to overcome rigid body forces so that it assumes a hydrostatic \n",
    "equilibrium (nearly round) shape, and (c) has cleared the neighbourhood around its orbit.\"\"\",\n",
    "    \"https://www.iau.org/static/resolutions/Resolution_GA26-5-6.pdf\"\n",
    ")"
   ]
  },
  {
   "cell_type": "markdown",
   "metadata": {},
   "source": [
    "### Example in Figure 1"
   ]
  },
  {
   "cell_type": "code",
   "execution_count": 3,
   "metadata": {},
   "outputs": [
    {
     "data": {
      "text/plain": [
       "{'concept': 'planet',\n",
       " 'definition': 'A planet [1] is a celestial body that (a) is in orbit around the Sun, (b) has sufficient \\nmass for its self-gravity to overcome rigid body forces so that it assumes a hydrostatic \\nequilibrium (nearly round) shape, and (c) has cleared the neighbourhood around its orbit.',\n",
       " 'entity': 'DENIS-P J082303.1−491201 b',\n",
       " 'description': 'DENIS-P J082303.1-491201 b (alias 2MASS J08230313-4912012 b) is a substellar object, classified as either an exoplanet or a brown dwarf, orbiting DENIS-P J082303.1-491201, an L1.5-type brown dwarf in the constellation Vela.',\n",
       " 'rationale': 'The description of DENIS-P J082303.1−491201 b indicates that it is a substellar object that orbits DENIS-P J082303.1-491201, which is similar to the definition of a planet that states it is a celestial body in orbit around the Sun. Although the object in question is orbiting a brown dwarf and not the Sun, the concept is similar. However, the description does not provide information about the shape of DENIS-P J082303.1−491201 b or whether it has cleared the neighbourhood around its orbit. Therefore, based solely on the provided definition and description, it is not possible to definitively assert that DENIS-P J082303.1−491201 b is a planet.',\n",
       " 'answer': 'negative'}"
      ]
     },
     "execution_count": 3,
     "metadata": {},
     "output_type": "execute_result"
    }
   ],
   "source": [
    "iau_2006_8_24_planet.classify(\"DENIS-P J082303.1−491201 b\", \"DENIS-P J082303.1-491201 b (alias 2MASS J08230313-4912012 b) is a substellar object, classified as either an exoplanet or a brown dwarf, orbiting DENIS-P J082303.1-491201, an L1.5-type brown dwarf in the constellation Vela.\")"
   ]
  },
  {
   "cell_type": "markdown",
   "metadata": {},
   "source": [
    "## Wikidata queries"
   ]
  },
  {
   "cell_type": "code",
   "execution_count": 4,
   "metadata": {},
   "outputs": [],
   "source": [
    "KNOWLEDGE_GRAPH = \"https://query.wikidata.org/sparql\"\n",
    "\n",
    "QUERY_HEADERS = {\n",
    "    'User-Agent': 'ConceptualEngineeringAgent/0.2 (https://github.com/bradleypallen/conceptual-engineering-using-llms; b.p.allen@uva.nl)',\n",
    "}\n",
    "\n",
    "SAMPLE_SIZE = 5\n",
    "\n",
    "POSITIVE_EXAMPLES_QUERY = \"\"\"SELECT DISTINCT ?entity ?name ?article WHERE {\n",
    "  {\n",
    "    ?entity p:P31/ps:P31/wdt:P279* wd:Q634 .\n",
    "    ?article schema:about ?entity ;\n",
    "            schema:inLanguage \"en\" ;\n",
    "            schema:isPartOf <https://en.wikipedia.org/> ;\n",
    "            schema:name ?name .\n",
    "  }\n",
    "} LIMIT 10000\"\"\"\n",
    "\n",
    "NEGATIVE_EXAMPLES_QUERY = \"\"\"SELECT DISTINCT ?entity ?name ?article WHERE {\n",
    "  {\n",
    "    ?entity p:P31/ps:P31/wdt:P279* wd:Q3132741 .\n",
    "    ?article schema:about ?entity ;\n",
    "            schema:inLanguage \"en\" ;\n",
    "            schema:isPartOf <https://en.wikipedia.org/> ;\n",
    "            schema:name ?name .\n",
    "    FILTER NOT EXISTS { ?entity p:P31/ps:P31 wd:Q634 }\n",
    "  }\n",
    "} LIMIT 10000\"\"\""
   ]
  },
  {
   "cell_type": "markdown",
   "metadata": {},
   "source": [
    "## Example entities"
   ]
  },
  {
   "cell_type": "code",
   "execution_count": 5,
   "metadata": {},
   "outputs": [],
   "source": [
    "response = requests.get(KNOWLEDGE_GRAPH, params={'query' : POSITIVE_EXAMPLES_QUERY, 'format' : 'json'}, headers=QUERY_HEADERS)\n",
    "response.raise_for_status()\n",
    "json = response.json()\n",
    "records = [ [ result[\"entity\"][\"value\"], result[\"name\"][\"value\"], result[\"article\"][\"value\"] ] for result in json[\"results\"][\"bindings\"] ]\n",
    "records = random.sample(records, SAMPLE_SIZE)\n",
    "positive_examples = pd.DataFrame.from_records(records, columns=[\"id\", \"name\", \"article\"])\n",
    "positive_examples[\"description\"] = positive_examples[\"name\"].apply(lambda name: wikipedia.summary(name, auto_suggest=False).replace('\"', r'\\\"').strip()) \n",
    "positive_examples[\"actual\"] = \"positive\""
   ]
  },
  {
   "cell_type": "code",
   "execution_count": 6,
   "metadata": {},
   "outputs": [],
   "source": [
    "response = requests.get(KNOWLEDGE_GRAPH, params={'query' : NEGATIVE_EXAMPLES_QUERY, 'format' : 'json'}, headers=QUERY_HEADERS)\n",
    "response.raise_for_status()\n",
    "json = response.json()\n",
    "records = [ [ result[\"entity\"][\"value\"], result[\"name\"][\"value\"], result[\"article\"][\"value\"] ] for result in json[\"results\"][\"bindings\"] ]\n",
    "records = random.sample(records, SAMPLE_SIZE)\n",
    "negative_examples = pd.DataFrame.from_records(records, columns=[\"id\", \"name\", \"article\"])\n",
    "negative_examples[\"description\"] = negative_examples[\"name\"].apply(lambda name: wikipedia.summary(name, auto_suggest=False).replace('\"', r'\\\"').strip()) \n",
    "negative_examples[\"actual\"] = \"negative\""
   ]
  },
  {
   "cell_type": "code",
   "execution_count": 7,
   "metadata": {},
   "outputs": [
    {
     "data": {
      "text/html": [
       "<div>\n",
       "<style scoped>\n",
       "    .dataframe tbody tr th:only-of-type {\n",
       "        vertical-align: middle;\n",
       "    }\n",
       "\n",
       "    .dataframe tbody tr th {\n",
       "        vertical-align: top;\n",
       "    }\n",
       "\n",
       "    .dataframe thead th {\n",
       "        text-align: right;\n",
       "    }\n",
       "</style>\n",
       "<table border=\"1\" class=\"dataframe\">\n",
       "  <thead>\n",
       "    <tr style=\"text-align: right;\">\n",
       "      <th></th>\n",
       "      <th>id</th>\n",
       "      <th>name</th>\n",
       "      <th>article</th>\n",
       "      <th>description</th>\n",
       "      <th>actual</th>\n",
       "    </tr>\n",
       "  </thead>\n",
       "  <tbody>\n",
       "    <tr>\n",
       "      <th>0</th>\n",
       "      <td>http://www.wikidata.org/entity/Q18613722</td>\n",
       "      <td>Kepler-32d</td>\n",
       "      <td>https://en.wikipedia.org/wiki/Kepler-32d</td>\n",
       "      <td>Kepler-32 is an M-type main sequence star loca...</td>\n",
       "      <td>positive</td>\n",
       "    </tr>\n",
       "    <tr>\n",
       "      <th>1</th>\n",
       "      <td>http://www.wikidata.org/entity/Q79739084</td>\n",
       "      <td>HD 109271 b</td>\n",
       "      <td>https://en.wikipedia.org/wiki/HD_109271_b</td>\n",
       "      <td>HD 109271 is a star in the constellation of Vi...</td>\n",
       "      <td>positive</td>\n",
       "    </tr>\n",
       "    <tr>\n",
       "      <th>2</th>\n",
       "      <td>http://www.wikidata.org/entity/Q637135</td>\n",
       "      <td>Gliese 667 Cc</td>\n",
       "      <td>https://en.wikipedia.org/wiki/Gliese_667_Cc</td>\n",
       "      <td>Gliese 667 Cc (also known as GJ 667Cc, HR 6426...</td>\n",
       "      <td>positive</td>\n",
       "    </tr>\n",
       "    <tr>\n",
       "      <th>3</th>\n",
       "      <td>http://www.wikidata.org/entity/Q56670425</td>\n",
       "      <td>40 Eridani Ab</td>\n",
       "      <td>https://en.wikipedia.org/wiki/40_Eridani_Ab</td>\n",
       "      <td>40 Eridani is a triple star system in the cons...</td>\n",
       "      <td>positive</td>\n",
       "    </tr>\n",
       "    <tr>\n",
       "      <th>4</th>\n",
       "      <td>http://www.wikidata.org/entity/Q94498521</td>\n",
       "      <td>HD 158259 c</td>\n",
       "      <td>https://en.wikipedia.org/wiki/HD_158259_c</td>\n",
       "      <td>HD 158259 is a main sequence star located 88 l...</td>\n",
       "      <td>positive</td>\n",
       "    </tr>\n",
       "    <tr>\n",
       "      <th>5</th>\n",
       "      <td>http://www.wikidata.org/entity/Q3498380</td>\n",
       "      <td>121P/Shoemaker–Holt</td>\n",
       "      <td>https://en.wikipedia.org/wiki/121P/Shoemaker%E...</td>\n",
       "      <td>121P/Shoemaker–Holt, also known as Shoemaker-H...</td>\n",
       "      <td>negative</td>\n",
       "    </tr>\n",
       "    <tr>\n",
       "      <th>6</th>\n",
       "      <td>http://www.wikidata.org/entity/Q106348295</td>\n",
       "      <td>TOI-1601 b</td>\n",
       "      <td>https://en.wikipedia.org/wiki/TOI-1601_b</td>\n",
       "      <td>TOI-1601 b is an exoplanet that was discovered...</td>\n",
       "      <td>negative</td>\n",
       "    </tr>\n",
       "    <tr>\n",
       "      <th>7</th>\n",
       "      <td>http://www.wikidata.org/entity/Q1627089</td>\n",
       "      <td>7693 Hoshitakuhai</td>\n",
       "      <td>https://en.wikipedia.org/wiki/7693_Hoshitakuhai</td>\n",
       "      <td>The following is a partial list of minor plane...</td>\n",
       "      <td>negative</td>\n",
       "    </tr>\n",
       "    <tr>\n",
       "      <th>8</th>\n",
       "      <td>http://www.wikidata.org/entity/Q2623637</td>\n",
       "      <td>13540 Kazukitakahashi</td>\n",
       "      <td>https://en.wikipedia.org/wiki/13540_Kazukitaka...</td>\n",
       "      <td>The following is a partial list of minor plane...</td>\n",
       "      <td>negative</td>\n",
       "    </tr>\n",
       "    <tr>\n",
       "      <th>9</th>\n",
       "      <td>http://www.wikidata.org/entity/Q619618</td>\n",
       "      <td>6479 Leoconnolly</td>\n",
       "      <td>https://en.wikipedia.org/wiki/6479_Leoconnolly</td>\n",
       "      <td>The following is a partial list of minor plane...</td>\n",
       "      <td>negative</td>\n",
       "    </tr>\n",
       "  </tbody>\n",
       "</table>\n",
       "</div>"
      ],
      "text/plain": [
       "                                          id                   name  \\\n",
       "0   http://www.wikidata.org/entity/Q18613722             Kepler-32d   \n",
       "1   http://www.wikidata.org/entity/Q79739084            HD 109271 b   \n",
       "2     http://www.wikidata.org/entity/Q637135          Gliese 667 Cc   \n",
       "3   http://www.wikidata.org/entity/Q56670425          40 Eridani Ab   \n",
       "4   http://www.wikidata.org/entity/Q94498521            HD 158259 c   \n",
       "5    http://www.wikidata.org/entity/Q3498380    121P/Shoemaker–Holt   \n",
       "6  http://www.wikidata.org/entity/Q106348295             TOI-1601 b   \n",
       "7    http://www.wikidata.org/entity/Q1627089      7693 Hoshitakuhai   \n",
       "8    http://www.wikidata.org/entity/Q2623637  13540 Kazukitakahashi   \n",
       "9     http://www.wikidata.org/entity/Q619618       6479 Leoconnolly   \n",
       "\n",
       "                                             article  \\\n",
       "0           https://en.wikipedia.org/wiki/Kepler-32d   \n",
       "1          https://en.wikipedia.org/wiki/HD_109271_b   \n",
       "2        https://en.wikipedia.org/wiki/Gliese_667_Cc   \n",
       "3        https://en.wikipedia.org/wiki/40_Eridani_Ab   \n",
       "4          https://en.wikipedia.org/wiki/HD_158259_c   \n",
       "5  https://en.wikipedia.org/wiki/121P/Shoemaker%E...   \n",
       "6           https://en.wikipedia.org/wiki/TOI-1601_b   \n",
       "7    https://en.wikipedia.org/wiki/7693_Hoshitakuhai   \n",
       "8  https://en.wikipedia.org/wiki/13540_Kazukitaka...   \n",
       "9     https://en.wikipedia.org/wiki/6479_Leoconnolly   \n",
       "\n",
       "                                         description    actual  \n",
       "0  Kepler-32 is an M-type main sequence star loca...  positive  \n",
       "1  HD 109271 is a star in the constellation of Vi...  positive  \n",
       "2  Gliese 667 Cc (also known as GJ 667Cc, HR 6426...  positive  \n",
       "3  40 Eridani is a triple star system in the cons...  positive  \n",
       "4  HD 158259 is a main sequence star located 88 l...  positive  \n",
       "5  121P/Shoemaker–Holt, also known as Shoemaker-H...  negative  \n",
       "6  TOI-1601 b is an exoplanet that was discovered...  negative  \n",
       "7  The following is a partial list of minor plane...  negative  \n",
       "8  The following is a partial list of minor plane...  negative  \n",
       "9  The following is a partial list of minor plane...  negative  "
      ]
     },
     "execution_count": 7,
     "metadata": {},
     "output_type": "execute_result"
    }
   ],
   "source": [
    "examples = pd.concat([positive_examples, negative_examples], ignore_index=True)\n",
    "examples"
   ]
  },
  {
   "cell_type": "markdown",
   "metadata": {},
   "source": [
    "## Experiments"
   ]
  },
  {
   "cell_type": "code",
   "execution_count": 8,
   "metadata": {},
   "outputs": [],
   "source": [
    "def run_experiment(cp, examples):\n",
    "    classifications = examples.to_dict(\"records\")\n",
    "    for entity in tqdm(classifications):\n",
    "        classification = cp.classify(entity[\"name\"], entity[\"description\"])\n",
    "        entity[\"rationale\"] = classification[\"rationale\"]\n",
    "        entity[\"predicted\"] = classification[\"answer\"]\n",
    "    return pd.DataFrame.from_records(classifications)"
   ]
  },
  {
   "cell_type": "code",
   "execution_count": 9,
   "metadata": {},
   "outputs": [
    {
     "name": "stderr",
     "output_type": "stream",
     "text": [
      "100%|██████████| 10/10 [01:19<00:00,  7.96s/it]\n"
     ]
    }
   ],
   "source": [
    "oed_planet_results = run_experiment(oed_planet, examples)"
   ]
  },
  {
   "cell_type": "code",
   "execution_count": 10,
   "metadata": {},
   "outputs": [
    {
     "name": "stderr",
     "output_type": "stream",
     "text": [
      "100%|██████████| 10/10 [01:27<00:00,  8.77s/it]\n"
     ]
    }
   ],
   "source": [
    "iau_2006_8_16_planet_results = run_experiment(iau_2006_8_16_planet, examples)"
   ]
  },
  {
   "cell_type": "code",
   "execution_count": 11,
   "metadata": {},
   "outputs": [
    {
     "name": "stderr",
     "output_type": "stream",
     "text": [
      "100%|██████████| 10/10 [01:34<00:00,  9.42s/it]\n"
     ]
    }
   ],
   "source": [
    "iau_2006_8_24_planet_results = run_experiment(iau_2006_8_24_planet, examples)"
   ]
  },
  {
   "cell_type": "markdown",
   "metadata": {},
   "source": [
    "## Performance metrics"
   ]
  },
  {
   "cell_type": "code",
   "execution_count": 12,
   "metadata": {},
   "outputs": [],
   "source": [
    "oed_planet_cm = pycm.ConfusionMatrix(\n",
    "    oed_planet_results[\"actual\"].tolist(), \n",
    "    oed_planet_results[\"predicted\"].tolist(), \n",
    "    digit=2, \n",
    "    classes=[ 'positive', 'negative' ]\n",
    ")\n",
    "\n",
    "iau_2006_8_16_planet_cm = pycm.ConfusionMatrix(\n",
    "    iau_2006_8_16_planet_results[\"actual\"].tolist(), \n",
    "    iau_2006_8_16_planet_results[\"predicted\"].tolist(), \n",
    "    digit=2, \n",
    "    classes=[ 'positive', 'negative' ]\n",
    ")\n",
    "\n",
    "iau_2006_8_24_planet_cm = pycm.ConfusionMatrix(\n",
    "    iau_2006_8_24_planet_results[\"actual\"].tolist(), \n",
    "    iau_2006_8_24_planet_results[\"predicted\"].tolist(), \n",
    "    digit=2, \n",
    "    classes=[ 'positive', 'negative' ]\n",
    ")"
   ]
  },
  {
   "cell_type": "code",
   "execution_count": 13,
   "metadata": {},
   "outputs": [],
   "source": [
    "cms = [\n",
    "    (f'{oed_planet.term} ({oed_planet.id})', oed_planet_cm),\n",
    "    (f'{iau_2006_8_16_planet.term} ({iau_2006_8_16_planet.id})', iau_2006_8_16_planet_cm),\n",
    "    (f'{iau_2006_8_24_planet.term} ({iau_2006_8_24_planet.id})', iau_2006_8_24_planet_cm)\n",
    "]"
   ]
  },
  {
   "cell_type": "code",
   "execution_count": 14,
   "metadata": {},
   "outputs": [
    {
     "data": {
      "image/png": "[encoded data removed]",
      "text/plain": [
       "<Figure size 2000x1400 with 23 Axes>"
      ]
     },
     "metadata": {},
     "output_type": "display_data"
    }
   ],
   "source": [
    "fig = plt.figure(figsize=(20,14))\n",
    "gs = fig.add_gridspec(4, 5, hspace=0.5)\n",
    "axes = gs.subplots()\n",
    "for ax, (name, cm) in zip(axes.flat, cms):\n",
    "    df = pd.DataFrame(cm.matrix).T.fillna(0)\n",
    "    sns.heatmap(df, annot=True, fmt='d', cmap=\"YlGnBu\", ax=ax)\n",
    "    ax.set_title(name, wrap=True, fontsize=9)\n",
    "    ax.set(xlabel='classification\\nprocedure', ylabel='Wikidata')\n",
    "for ax in axes.flat[len(cms):]:\n",
    "    ax.set_visible(False)\n",
    "plt.show()"
   ]
  },
  {
   "cell_type": "code",
   "execution_count": 15,
   "metadata": {},
   "outputs": [
    {
     "data": {
      "text/html": [
       "<div>\n",
       "<style scoped>\n",
       "    .dataframe tbody tr th:only-of-type {\n",
       "        vertical-align: middle;\n",
       "    }\n",
       "\n",
       "    .dataframe tbody tr th {\n",
       "        vertical-align: top;\n",
       "    }\n",
       "\n",
       "    .dataframe thead th {\n",
       "        text-align: right;\n",
       "    }\n",
       "</style>\n",
       "<table border=\"1\" class=\"dataframe\">\n",
       "  <thead>\n",
       "    <tr style=\"text-align: right;\">\n",
       "      <th></th>\n",
       "      <th>classification procedure</th>\n",
       "      <th>Cohen's kappa</th>\n",
       "      <th>F1 macro</th>\n",
       "      <th>FN</th>\n",
       "      <th>FP</th>\n",
       "    </tr>\n",
       "  </thead>\n",
       "  <tbody>\n",
       "    <tr>\n",
       "      <th>1</th>\n",
       "      <td>planet (IAU 2006-08-16)</td>\n",
       "      <td>0.2</td>\n",
       "      <td>0.583333</td>\n",
       "      <td>3</td>\n",
       "      <td>1</td>\n",
       "    </tr>\n",
       "    <tr>\n",
       "      <th>2</th>\n",
       "      <td>planet (IAU 2006-08-24)</td>\n",
       "      <td>0.2</td>\n",
       "      <td>0.583333</td>\n",
       "      <td>3</td>\n",
       "      <td>1</td>\n",
       "    </tr>\n",
       "    <tr>\n",
       "      <th>0</th>\n",
       "      <td>planet (OED)</td>\n",
       "      <td>-0.2</td>\n",
       "      <td>0.400000</td>\n",
       "      <td>3</td>\n",
       "      <td>3</td>\n",
       "    </tr>\n",
       "  </tbody>\n",
       "</table>\n",
       "</div>"
      ],
      "text/plain": [
       "  classification procedure  Cohen's kappa  F1 macro  FN  FP\n",
       "1  planet (IAU 2006-08-16)            0.2  0.583333   3   1\n",
       "2  planet (IAU 2006-08-24)            0.2  0.583333   3   1\n",
       "0             planet (OED)           -0.2  0.400000   3   3"
      ]
     },
     "execution_count": 15,
     "metadata": {},
     "output_type": "execute_result"
    }
   ],
   "source": [
    "metrics = pd.DataFrame.from_records([ \n",
    "    { \"classification procedure\": cm[0], \"Cohen's kappa\": cm[1].Kappa, \"F1 macro\": cm[1].F1_Macro, \"FN\": cm[1].FN[\"positive\"], \"FP\": cm[1].FP[\"positive\"] }\n",
    "    for cm in cms \n",
    "])\n",
    "metrics.sort_values(by=\"Cohen's kappa\", ascending=False)"
   ]
  },
  {
   "cell_type": "markdown",
   "metadata": {},
   "source": [
    "## Error analyses"
   ]
  },
  {
   "cell_type": "code",
   "execution_count": 16,
   "metadata": {},
   "outputs": [],
   "source": [
    "def display_errors(cp, results):\n",
    "    display(Markdown(f'### {cp.term} ({cp.id})'))\n",
    "    display(Markdown(f'#### Definition'))\n",
    "    display(Markdown(f'{cp.definition}'))\n",
    "    fns = results[((results[\"actual\"] == 'positive') & (results[\"predicted\"] == 'negative'))][[\"name\", \"description\", \"rationale\"]]\n",
    "    if len(fns) > 0:\n",
    "        fns_styler = fns.style.set_properties(**{\"text-align\": \"left\", \"vertical-align\" : \"top\", \"overflow-wrap\": \"break-word\"}).hide(axis=\"index\")\n",
    "        display(Markdown(f'#### False negatives'))\n",
    "        display(fns_styler)\n",
    "    fps = results[((results[\"actual\"] == 'negative') & (results[\"predicted\"] == 'positive'))][[\"name\", \"description\", \"rationale\"]]\n",
    "    if len(fps) > 0:\n",
    "        fps_styler = fps.style.set_properties(**{\"text-align\": \"left\", \"vertical-align\" : \"top\", \"overflow-wrap\": \"break-word\"}).hide(axis=\"index\")\n",
    "        display(Markdown(f'#### False positives'))\n",
    "        display(fps_styler)\n"
   ]
  },
  {
   "cell_type": "code",
   "execution_count": 17,
   "metadata": {},
   "outputs": [
    {
     "data": {
      "text/markdown": [
       "### planet (OED)"
      ],
      "text/plain": [
       "<IPython.core.display.Markdown object>"
      ]
     },
     "metadata": {},
     "output_type": "display_data"
    },
    {
     "data": {
      "text/markdown": [
       "#### Definition"
      ],
      "text/plain": [
       "<IPython.core.display.Markdown object>"
      ]
     },
     "metadata": {},
     "output_type": "display_data"
    },
    {
     "data": {
      "text/markdown": [
       "Any of various rocky or gaseous bodies that revolve in approximately elliptical orbits \n",
       "around the sun and are visible by its reflected light; esp. each of the planets Mercury, Venus, \n",
       "Earth, Mars, Jupiter, Saturn, Uranus, Neptune, and (until 2006) Pluto (in order of increasing \n",
       "distance from the sun); a similar body revolving around another star. Also: any of various \n",
       "smaller bodies that revolve around these (cf. satellite n. 2a)."
      ],
      "text/plain": [
       "<IPython.core.display.Markdown object>"
      ]
     },
     "metadata": {},
     "output_type": "display_data"
    },
    {
     "data": {
      "text/markdown": [
       "#### False negatives"
      ],
      "text/plain": [
       "<IPython.core.display.Markdown object>"
      ]
     },
     "metadata": {},
     "output_type": "display_data"
    },
    {
     "data": {
      "text/html": [
       "<style type=\"text/css\">\n",
       "#T_819f1_row0_col0, #T_819f1_row0_col1, #T_819f1_row0_col2, #T_819f1_row1_col0, #T_819f1_row1_col1, #T_819f1_row1_col2, #T_819f1_row2_col0, #T_819f1_row2_col1, #T_819f1_row2_col2 {\n",
       "  text-align: left;\n",
       "  vertical-align: top;\n",
       "  overflow-wrap: break-word;\n",
       "}\n",
       "</style>\n",
       "<table id=\"T_819f1\">\n",
       "  <thead>\n",
       "    <tr>\n",
       "      <th id=\"T_819f1_level0_col0\" class=\"col_heading level0 col0\" >name</th>\n",
       "      <th id=\"T_819f1_level0_col1\" class=\"col_heading level0 col1\" >description</th>\n",
       "      <th id=\"T_819f1_level0_col2\" class=\"col_heading level0 col2\" >rationale</th>\n",
       "    </tr>\n",
       "  </thead>\n",
       "  <tbody>\n",
       "    <tr>\n",
       "      <td id=\"T_819f1_row0_col0\" class=\"data row0 col0\" >Kepler-32d</td>\n",
       "      <td id=\"T_819f1_row0_col1\" class=\"data row0 col1\" >Kepler-32 is an M-type main sequence star located about 1070 light years from Earth, in the constellation of Cygnus. Discovered in January 2012 by the Kepler spacecraft, it shows a 0.58 ± 0.05 solar mass (M☉), a 0.53 ± 0.04 solar radius (R☉), and temperature of 3900.0 K, making it half the mass and radius of the Sun, two-thirds its temperature and 5% its luminosity.</td>\n",
       "      <td id=\"T_819f1_row0_col2\" class=\"data row0 col2\" >The provided description does not provide sufficient information to assert that Kepler-32d is a planet. The description details the characteristics of Kepler-32, a star, but does not provide any information about Kepler-32d revolving around this star or any other star, which is a necessary characteristic of a planet according to the provided definition. Therefore, based on the given information, we cannot assert that Kepler-32d is a planet.</td>\n",
       "    </tr>\n",
       "    <tr>\n",
       "      <td id=\"T_819f1_row1_col0\" class=\"data row1 col0\" >HD 109271 b</td>\n",
       "      <td id=\"T_819f1_row1_col1\" class=\"data row1 col1\" >HD 109271 is a star in the constellation of Virgo. With an apparent magnitude of 8.05, it cannot be seen with the naked eye. Parallax measurements made by Gaia put the star at a distance of 182 light-years (56.0 parsecs) away.HD 109271 is a typical G-type main-sequence star. It has a mass of 1.047 M☉, but is twice as luminous as the Sun. It is also much older, at an age of 7.3 billion years.In 2020, a red dwarf companion of 0.6M☉ was found orbiting HD 109271 at projected separation 304 AU.</td>\n",
       "      <td id=\"T_819f1_row1_col2\" class=\"data row1 col2\" >The description of HD 109271 b does not provide sufficient information to assert that it is a planet. The description mentions that HD 109271 b is a red dwarf companion, which indicates that it is a star, not a planet. The definition of a planet states that it is a rocky or gaseous body that revolves around the sun or another star, and is visible by its reflected light. The description of HD 109271 b does not meet these criteria. Therefore, based on the provided definition and description, we cannot assert that HD 109271 b is a planet.</td>\n",
       "    </tr>\n",
       "    <tr>\n",
       "      <td id=\"T_819f1_row2_col0\" class=\"data row2 col0\" >40 Eridani Ab</td>\n",
       "      <td id=\"T_819f1_row2_col1\" class=\"data row2 col1\" >40 Eridani is a triple star system in the constellation of Eridanus, abbreviated 40 Eri. It has the Bayer designation Omicron2 Eridani, which is Latinized from ο2 Eridani and abbreviated Omicron2 Eri or ο2 Eri. Based on parallax measurements taken by the Gaia mission, it is about 16.3 light-years from the Sun.\n",
       "The primary star of the system, designated 40 Eridani A and named Keid, is easily visible to the naked eye. It is orbited by a binary pair whose two components are designated 40 Eridani B and C, and which were discovered on January 31, 1783, by William Herschel.: p73  It was again observed by Friedrich Struve in 1825 and by Otto Struve in 1851.In 1910, it was discovered that although component B was a faint star, it was white in color. This meant that it had to be a small star; in fact it was a white dwarf, the first discovered. Although it is neither the closest white dwarf, nor the brightest in the night sky, it is by far the easiest to observe; it is nearly three magnitudes brighter than Van Maanen's Star, the nearest solitary white dwarf, and unlike the companions of Procyon and Sirius it is not swamped in the glare of a much brighter primary.</td>\n",
       "      <td id=\"T_819f1_row2_col2\" class=\"data row2 col2\" >The text does not provide sufficient information to assert that 40 Eridani Ab is a planet. The text describes 40 Eridani as a triple star system, with the primary star being 40 Eridani A, and the other two components being 40 Eridani B and C. However, there is no mention of a body that revolves around these stars in an elliptical orbit, which is the defining characteristic of a planet according to the provided definition. Therefore, based on the given information, we cannot conclude that 40 Eridani Ab is a planet.</td>\n",
       "    </tr>\n",
       "  </tbody>\n",
       "</table>\n"
      ],
      "text/plain": [
       "<pandas.io.formats.style.Styler at 0x15b366f10>"
      ]
     },
     "metadata": {},
     "output_type": "display_data"
    },
    {
     "data": {
      "text/markdown": [
       "#### False positives"
      ],
      "text/plain": [
       "<IPython.core.display.Markdown object>"
      ]
     },
     "metadata": {},
     "output_type": "display_data"
    },
    {
     "data": {
      "text/html": [
       "<style type=\"text/css\">\n",
       "#T_6c722_row0_col0, #T_6c722_row0_col1, #T_6c722_row0_col2, #T_6c722_row1_col0, #T_6c722_row1_col1, #T_6c722_row1_col2, #T_6c722_row2_col0, #T_6c722_row2_col1, #T_6c722_row2_col2 {\n",
       "  text-align: left;\n",
       "  vertical-align: top;\n",
       "  overflow-wrap: break-word;\n",
       "}\n",
       "</style>\n",
       "<table id=\"T_6c722\">\n",
       "  <thead>\n",
       "    <tr>\n",
       "      <th id=\"T_6c722_level0_col0\" class=\"col_heading level0 col0\" >name</th>\n",
       "      <th id=\"T_6c722_level0_col1\" class=\"col_heading level0 col1\" >description</th>\n",
       "      <th id=\"T_6c722_level0_col2\" class=\"col_heading level0 col2\" >rationale</th>\n",
       "    </tr>\n",
       "  </thead>\n",
       "  <tbody>\n",
       "    <tr>\n",
       "      <td id=\"T_6c722_row0_col0\" class=\"data row0 col0\" >TOI-1601 b</td>\n",
       "      <td id=\"T_6c722_row0_col1\" class=\"data row0 col1\" >TOI-1601 b is an exoplanet that was discovered by TESS in January 2021. It has an orbital period of 5.3 days and is located 1098 light years away from Earth. It also has a mass similar to that of Jupiter.</td>\n",
       "      <td id=\"T_6c722_row0_col2\" class=\"data row0 col2\" >TOI-1601 b fits the definition of a planet as it is a body that revolves in an orbit, specifically around a star. This is evidenced by the information that it has an orbital period of 5.3 days. Furthermore, it is similar to Jupiter, which is one of the planets listed in the definition, in terms of mass. Therefore, based on the provided definition, TOI-1601 b can be classified as a planet.</td>\n",
       "    </tr>\n",
       "    <tr>\n",
       "      <td id=\"T_6c722_row1_col0\" class=\"data row1 col0\" >7693 Hoshitakuhai</td>\n",
       "      <td id=\"T_6c722_row1_col1\" class=\"data row1 col1\" >The following is a partial list of minor planets, running from minor-planet number 7001 through 8000, inclusive. The primary data for this and other partial lists is based on JPL's \\\"Small-Body Orbital Elements\\\" and \\\"Data Available from the Minor Planet Center\\\". A detailed description of the table's columns and additional sources are given on the main page including a complete list of every page in this series, and a statistical break-up on the dynamical classification of minor planets.\n",
       "Also see the summary list of all named bodies in numerical and alphabetical order, and the corresponding naming citations for the number range of this particular list. New namings may only be added to this list after official publication, as the preannouncement of names is condemned by the Working Group for Small Bodies Nomenclature of the International Astronomical Union.</td>\n",
       "      <td id=\"T_6c722_row1_col2\" class=\"data row1 col2\" >The definition of a planet includes any of various rocky or gaseous bodies that revolve in approximately elliptical orbits around the sun and are visible by its reflected light. It also includes any of various smaller bodies that revolve around these. The description of 7693 Hoshitakuhai indicates that it is a minor planet, which falls under the category of smaller bodies that revolve around the sun. Therefore, based on the given definition, one could argue that 7693 Hoshitakuhai is a planet.</td>\n",
       "    </tr>\n",
       "    <tr>\n",
       "      <td id=\"T_6c722_row2_col0\" class=\"data row2 col0\" >6479 Leoconnolly</td>\n",
       "      <td id=\"T_6c722_row2_col1\" class=\"data row2 col1\" >The following is a partial list of minor planets, running from minor-planet number 6001 through 7000, inclusive. The primary data for this and other partial lists is based on JPL's \\\"Small-Body Orbital Elements\\\" and \\\"Data Available from the Minor Planet Center\\\". A detailed description of the table's columns and additional sources are given on the main page including a complete list of every page in this series, and a statistical break-up on the dynamical classification of minor planets.\n",
       "Also see the summary list of all named bodies in numerical and alphabetical order, and the corresponding naming citations for the number range of this particular list. New namings may only be added to this list after official publication, as the preannouncement of names is condemned by the Working Group for Small Bodies Nomenclature of the International Astronomical Union.</td>\n",
       "      <td id=\"T_6c722_row2_col2\" class=\"data row2 col2\" >The definition of a planet includes any of various rocky or gaseous bodies that revolve in approximately elliptical orbits around the sun and are visible by its reflected light. The entity 6479 Leoconnolly is listed as a minor planet, which implies that it is a smaller body that revolves around the sun. Therefore, based on the provided definition, one could argue that 6479 Leoconnolly is a planet.</td>\n",
       "    </tr>\n",
       "  </tbody>\n",
       "</table>\n"
      ],
      "text/plain": [
       "<pandas.io.formats.style.Styler at 0x14ac10710>"
      ]
     },
     "metadata": {},
     "output_type": "display_data"
    }
   ],
   "source": [
    "display_errors(oed_planet, oed_planet_results)"
   ]
  },
  {
   "cell_type": "code",
   "execution_count": 18,
   "metadata": {},
   "outputs": [
    {
     "data": {
      "text/markdown": [
       "### planet (IAU 2006-08-16)"
      ],
      "text/plain": [
       "<IPython.core.display.Markdown object>"
      ]
     },
     "metadata": {},
     "output_type": "display_data"
    },
    {
     "data": {
      "text/markdown": [
       "#### Definition"
      ],
      "text/plain": [
       "<IPython.core.display.Markdown object>"
      ]
     },
     "metadata": {},
     "output_type": "display_data"
    },
    {
     "data": {
      "text/markdown": [
       "A planet is a celestial body that (a) has sufficient mass for its self-gravity to \n",
       "overcome rigid body forces so that it assumes a hydrostatic equilibrium (nearly round) shape, \n",
       "and (b) is in orbit around a star, and is neither a star nor a satellite of a planet."
      ],
      "text/plain": [
       "<IPython.core.display.Markdown object>"
      ]
     },
     "metadata": {},
     "output_type": "display_data"
    },
    {
     "data": {
      "text/markdown": [
       "#### False negatives"
      ],
      "text/plain": [
       "<IPython.core.display.Markdown object>"
      ]
     },
     "metadata": {},
     "output_type": "display_data"
    },
    {
     "data": {
      "text/html": [
       "<style type=\"text/css\">\n",
       "#T_faf27_row0_col0, #T_faf27_row0_col1, #T_faf27_row0_col2, #T_faf27_row1_col0, #T_faf27_row1_col1, #T_faf27_row1_col2, #T_faf27_row2_col0, #T_faf27_row2_col1, #T_faf27_row2_col2 {\n",
       "  text-align: left;\n",
       "  vertical-align: top;\n",
       "  overflow-wrap: break-word;\n",
       "}\n",
       "</style>\n",
       "<table id=\"T_faf27\">\n",
       "  <thead>\n",
       "    <tr>\n",
       "      <th id=\"T_faf27_level0_col0\" class=\"col_heading level0 col0\" >name</th>\n",
       "      <th id=\"T_faf27_level0_col1\" class=\"col_heading level0 col1\" >description</th>\n",
       "      <th id=\"T_faf27_level0_col2\" class=\"col_heading level0 col2\" >rationale</th>\n",
       "    </tr>\n",
       "  </thead>\n",
       "  <tbody>\n",
       "    <tr>\n",
       "      <td id=\"T_faf27_row0_col0\" class=\"data row0 col0\" >Kepler-32d</td>\n",
       "      <td id=\"T_faf27_row0_col1\" class=\"data row0 col1\" >Kepler-32 is an M-type main sequence star located about 1070 light years from Earth, in the constellation of Cygnus. Discovered in January 2012 by the Kepler spacecraft, it shows a 0.58 ± 0.05 solar mass (M☉), a 0.53 ± 0.04 solar radius (R☉), and temperature of 3900.0 K, making it half the mass and radius of the Sun, two-thirds its temperature and 5% its luminosity.</td>\n",
       "      <td id=\"T_faf27_row0_col2\" class=\"data row0 col2\" >The text does not provide enough information to assert that Kepler-32d is a planet. The description given refers to Kepler-32, which is a star, not a planet. There is no information provided about Kepler-32d, its shape, its orbit, or its relationship to any star or planet. Therefore, based on the provided information, we cannot classify Kepler-32d as a planet.</td>\n",
       "    </tr>\n",
       "    <tr>\n",
       "      <td id=\"T_faf27_row1_col0\" class=\"data row1 col0\" >HD 109271 b</td>\n",
       "      <td id=\"T_faf27_row1_col1\" class=\"data row1 col1\" >HD 109271 is a star in the constellation of Virgo. With an apparent magnitude of 8.05, it cannot be seen with the naked eye. Parallax measurements made by Gaia put the star at a distance of 182 light-years (56.0 parsecs) away.HD 109271 is a typical G-type main-sequence star. It has a mass of 1.047 M☉, but is twice as luminous as the Sun. It is also much older, at an age of 7.3 billion years.In 2020, a red dwarf companion of 0.6M☉ was found orbiting HD 109271 at projected separation 304 AU.</td>\n",
       "      <td id=\"T_faf27_row1_col2\" class=\"data row1 col2\" >The provided description does not provide sufficient information to assert that HD 109271 b is a planet. The description mentions that HD 109271 b is a red dwarf companion of the star HD 109271, but it does not provide information about its shape or whether it orbits a star and is not a star itself or a satellite of a planet. Therefore, based on the provided information, we cannot conclude that HD 109271 b is a planet.</td>\n",
       "    </tr>\n",
       "    <tr>\n",
       "      <td id=\"T_faf27_row2_col0\" class=\"data row2 col0\" >40 Eridani Ab</td>\n",
       "      <td id=\"T_faf27_row2_col1\" class=\"data row2 col1\" >40 Eridani is a triple star system in the constellation of Eridanus, abbreviated 40 Eri. It has the Bayer designation Omicron2 Eridani, which is Latinized from ο2 Eridani and abbreviated Omicron2 Eri or ο2 Eri. Based on parallax measurements taken by the Gaia mission, it is about 16.3 light-years from the Sun.\n",
       "The primary star of the system, designated 40 Eridani A and named Keid, is easily visible to the naked eye. It is orbited by a binary pair whose two components are designated 40 Eridani B and C, and which were discovered on January 31, 1783, by William Herschel.: p73  It was again observed by Friedrich Struve in 1825 and by Otto Struve in 1851.In 1910, it was discovered that although component B was a faint star, it was white in color. This meant that it had to be a small star; in fact it was a white dwarf, the first discovered. Although it is neither the closest white dwarf, nor the brightest in the night sky, it is by far the easiest to observe; it is nearly three magnitudes brighter than Van Maanen's Star, the nearest solitary white dwarf, and unlike the companions of Procyon and Sirius it is not swamped in the glare of a much brighter primary.</td>\n",
       "      <td id=\"T_faf27_row2_col2\" class=\"data row2 col2\" >The provided description does not provide sufficient information to assert that 40 Eridani Ab is a planet. The description mentions that 40 Eridani is a triple star system, with the primary star being 40 Eridani A and the other two components being 40 Eridani B and C. However, there is no mention of a celestial body named 40 Eridani Ab. Furthermore, even if there was, the description does not provide information about its shape, its orbit, or whether it is a star or a satellite of a planet, which are necessary criteria for a celestial body to be considered a planet according to the provided definition. Therefore, based on the provided information, we cannot assert that 40 Eridani Ab is a planet.</td>\n",
       "    </tr>\n",
       "  </tbody>\n",
       "</table>\n"
      ],
      "text/plain": [
       "<pandas.io.formats.style.Styler at 0x15b4be1d0>"
      ]
     },
     "metadata": {},
     "output_type": "display_data"
    },
    {
     "data": {
      "text/markdown": [
       "#### False positives"
      ],
      "text/plain": [
       "<IPython.core.display.Markdown object>"
      ]
     },
     "metadata": {},
     "output_type": "display_data"
    },
    {
     "data": {
      "text/html": [
       "<style type=\"text/css\">\n",
       "#T_18595_row0_col0, #T_18595_row0_col1, #T_18595_row0_col2 {\n",
       "  text-align: left;\n",
       "  vertical-align: top;\n",
       "  overflow-wrap: break-word;\n",
       "}\n",
       "</style>\n",
       "<table id=\"T_18595\">\n",
       "  <thead>\n",
       "    <tr>\n",
       "      <th id=\"T_18595_level0_col0\" class=\"col_heading level0 col0\" >name</th>\n",
       "      <th id=\"T_18595_level0_col1\" class=\"col_heading level0 col1\" >description</th>\n",
       "      <th id=\"T_18595_level0_col2\" class=\"col_heading level0 col2\" >rationale</th>\n",
       "    </tr>\n",
       "  </thead>\n",
       "  <tbody>\n",
       "    <tr>\n",
       "      <td id=\"T_18595_row0_col0\" class=\"data row0 col0\" >TOI-1601 b</td>\n",
       "      <td id=\"T_18595_row0_col1\" class=\"data row0 col1\" >TOI-1601 b is an exoplanet that was discovered by TESS in January 2021. It has an orbital period of 5.3 days and is located 1098 light years away from Earth. It also has a mass similar to that of Jupiter.</td>\n",
       "      <td id=\"T_18595_row0_col2\" class=\"data row0 col2\" >TOI-1601 b fits the definition of a planet because it is a celestial body that is in orbit around a star, as indicated by its discovery by TESS and its orbital period of 5.3 days. It is not a star itself, nor is it a satellite of a planet. Furthermore, its mass is similar to that of Jupiter, suggesting that it has sufficient mass for its self-gravity to overcome rigid body forces and assume a hydrostatic equilibrium shape. Therefore, based on the provided definition, TOI-1601 b can be classified as a planet.</td>\n",
       "    </tr>\n",
       "  </tbody>\n",
       "</table>\n"
      ],
      "text/plain": [
       "<pandas.io.formats.style.Styler at 0x15b52d410>"
      ]
     },
     "metadata": {},
     "output_type": "display_data"
    }
   ],
   "source": [
    "display_errors(iau_2006_8_16_planet, iau_2006_8_16_planet_results)"
   ]
  },
  {
   "cell_type": "code",
   "execution_count": 19,
   "metadata": {},
   "outputs": [
    {
     "data": {
      "text/markdown": [
       "### planet (IAU 2006-08-24)"
      ],
      "text/plain": [
       "<IPython.core.display.Markdown object>"
      ]
     },
     "metadata": {},
     "output_type": "display_data"
    },
    {
     "data": {
      "text/markdown": [
       "#### Definition"
      ],
      "text/plain": [
       "<IPython.core.display.Markdown object>"
      ]
     },
     "metadata": {},
     "output_type": "display_data"
    },
    {
     "data": {
      "text/markdown": [
       "A planet [1] is a celestial body that (a) is in orbit around the Sun, (b) has sufficient \n",
       "mass for its self-gravity to overcome rigid body forces so that it assumes a hydrostatic \n",
       "equilibrium (nearly round) shape, and (c) has cleared the neighbourhood around its orbit."
      ],
      "text/plain": [
       "<IPython.core.display.Markdown object>"
      ]
     },
     "metadata": {},
     "output_type": "display_data"
    },
    {
     "data": {
      "text/markdown": [
       "#### False negatives"
      ],
      "text/plain": [
       "<IPython.core.display.Markdown object>"
      ]
     },
     "metadata": {},
     "output_type": "display_data"
    },
    {
     "data": {
      "text/html": [
       "<style type=\"text/css\">\n",
       "#T_7a0cb_row0_col0, #T_7a0cb_row0_col1, #T_7a0cb_row0_col2, #T_7a0cb_row1_col0, #T_7a0cb_row1_col1, #T_7a0cb_row1_col2, #T_7a0cb_row2_col0, #T_7a0cb_row2_col1, #T_7a0cb_row2_col2 {\n",
       "  text-align: left;\n",
       "  vertical-align: top;\n",
       "  overflow-wrap: break-word;\n",
       "}\n",
       "</style>\n",
       "<table id=\"T_7a0cb\">\n",
       "  <thead>\n",
       "    <tr>\n",
       "      <th id=\"T_7a0cb_level0_col0\" class=\"col_heading level0 col0\" >name</th>\n",
       "      <th id=\"T_7a0cb_level0_col1\" class=\"col_heading level0 col1\" >description</th>\n",
       "      <th id=\"T_7a0cb_level0_col2\" class=\"col_heading level0 col2\" >rationale</th>\n",
       "    </tr>\n",
       "  </thead>\n",
       "  <tbody>\n",
       "    <tr>\n",
       "      <td id=\"T_7a0cb_row0_col0\" class=\"data row0 col0\" >Kepler-32d</td>\n",
       "      <td id=\"T_7a0cb_row0_col1\" class=\"data row0 col1\" >Kepler-32 is an M-type main sequence star located about 1070 light years from Earth, in the constellation of Cygnus. Discovered in January 2012 by the Kepler spacecraft, it shows a 0.58 ± 0.05 solar mass (M☉), a 0.53 ± 0.04 solar radius (R☉), and temperature of 3900.0 K, making it half the mass and radius of the Sun, two-thirds its temperature and 5% its luminosity.</td>\n",
       "      <td id=\"T_7a0cb_row0_col2\" class=\"data row0 col2\" >The provided description does not provide sufficient information to assert that Kepler-32d is a planet. The description details the characteristics of Kepler-32, a star, but does not provide information about Kepler-32d's orbit around the Sun, its mass and shape, or whether it has cleared its orbit's neighbourhood. Therefore, based on the provided information, we cannot determine if Kepler-32d meets the criteria to be classified as a planet.</td>\n",
       "    </tr>\n",
       "    <tr>\n",
       "      <td id=\"T_7a0cb_row1_col0\" class=\"data row1 col0\" >HD 109271 b</td>\n",
       "      <td id=\"T_7a0cb_row1_col1\" class=\"data row1 col1\" >HD 109271 is a star in the constellation of Virgo. With an apparent magnitude of 8.05, it cannot be seen with the naked eye. Parallax measurements made by Gaia put the star at a distance of 182 light-years (56.0 parsecs) away.HD 109271 is a typical G-type main-sequence star. It has a mass of 1.047 M☉, but is twice as luminous as the Sun. It is also much older, at an age of 7.3 billion years.In 2020, a red dwarf companion of 0.6M☉ was found orbiting HD 109271 at projected separation 304 AU.</td>\n",
       "      <td id=\"T_7a0cb_row1_col2\" class=\"data row1 col2\" >The provided description does not provide sufficient information to assert that HD 109271 b is a planet. The description only mentions a red dwarf companion orbiting HD 109271, but it does not provide information about its shape, its ability to clear its orbit, or even if it orbits the Sun. Therefore, based on the given definition of a planet, we cannot conclude that HD 109271 b is a planet.</td>\n",
       "    </tr>\n",
       "    <tr>\n",
       "      <td id=\"T_7a0cb_row2_col0\" class=\"data row2 col0\" >40 Eridani Ab</td>\n",
       "      <td id=\"T_7a0cb_row2_col1\" class=\"data row2 col1\" >40 Eridani is a triple star system in the constellation of Eridanus, abbreviated 40 Eri. It has the Bayer designation Omicron2 Eridani, which is Latinized from ο2 Eridani and abbreviated Omicron2 Eri or ο2 Eri. Based on parallax measurements taken by the Gaia mission, it is about 16.3 light-years from the Sun.\n",
       "The primary star of the system, designated 40 Eridani A and named Keid, is easily visible to the naked eye. It is orbited by a binary pair whose two components are designated 40 Eridani B and C, and which were discovered on January 31, 1783, by William Herschel.: p73  It was again observed by Friedrich Struve in 1825 and by Otto Struve in 1851.In 1910, it was discovered that although component B was a faint star, it was white in color. This meant that it had to be a small star; in fact it was a white dwarf, the first discovered. Although it is neither the closest white dwarf, nor the brightest in the night sky, it is by far the easiest to observe; it is nearly three magnitudes brighter than Van Maanen's Star, the nearest solitary white dwarf, and unlike the companions of Procyon and Sirius it is not swamped in the glare of a much brighter primary.</td>\n",
       "      <td id=\"T_7a0cb_row2_col2\" class=\"data row2 col2\" >The provided description does not provide sufficient information to assert that 40 Eridani Ab is a planet. The description details that 40 Eridani is a triple star system, with the primary star being 40 Eridani A, and the other two components being 40 Eridani B and C. However, there is no mention of a celestial body named 40 Eridani Ab. Even if there was, the description does not provide information on whether this body is in orbit around the Sun, has sufficient mass for self-gravity to overcome rigid body forces to assume a hydrostatic equilibrium shape, or has cleared the neighbourhood around its orbit. These are the three criteria outlined in the provided definition of a planet, and without this information, we cannot definitively classify 40 Eridani Ab as a planet.</td>\n",
       "    </tr>\n",
       "  </tbody>\n",
       "</table>\n"
      ],
      "text/plain": [
       "<pandas.io.formats.style.Styler at 0x15b44df50>"
      ]
     },
     "metadata": {},
     "output_type": "display_data"
    },
    {
     "data": {
      "text/markdown": [
       "#### False positives"
      ],
      "text/plain": [
       "<IPython.core.display.Markdown object>"
      ]
     },
     "metadata": {},
     "output_type": "display_data"
    },
    {
     "data": {
      "text/html": [
       "<style type=\"text/css\">\n",
       "#T_1690a_row0_col0, #T_1690a_row0_col1, #T_1690a_row0_col2 {\n",
       "  text-align: left;\n",
       "  vertical-align: top;\n",
       "  overflow-wrap: break-word;\n",
       "}\n",
       "</style>\n",
       "<table id=\"T_1690a\">\n",
       "  <thead>\n",
       "    <tr>\n",
       "      <th id=\"T_1690a_level0_col0\" class=\"col_heading level0 col0\" >name</th>\n",
       "      <th id=\"T_1690a_level0_col1\" class=\"col_heading level0 col1\" >description</th>\n",
       "      <th id=\"T_1690a_level0_col2\" class=\"col_heading level0 col2\" >rationale</th>\n",
       "    </tr>\n",
       "  </thead>\n",
       "  <tbody>\n",
       "    <tr>\n",
       "      <td id=\"T_1690a_row0_col0\" class=\"data row0 col0\" >TOI-1601 b</td>\n",
       "      <td id=\"T_1690a_row0_col1\" class=\"data row0 col1\" >TOI-1601 b is an exoplanet that was discovered by TESS in January 2021. It has an orbital period of 5.3 days and is located 1098 light years away from Earth. It also has a mass similar to that of Jupiter.</td>\n",
       "      <td id=\"T_1690a_row0_col2\" class=\"data row0 col2\" >TOI-1601 b can be considered a planet based on the provided definition. Although the definition specifies that a planet is in orbit around the Sun, this is generally understood to mean that it orbits a star, which TOI-1601 b does. It also has a mass similar to that of Jupiter, which suggests that it has sufficient mass for its self-gravity to overcome rigid body forces and assume a hydrostatic equilibrium shape. While the description does not explicitly state that TOI-1601 b has cleared the neighbourhood around its orbit, its discovery by TESS and its relatively short orbital period suggest that it is the dominant gravitational body in its orbit. Therefore, it can be argued that TOI-1601 b meets the criteria to be classified as a planet.</td>\n",
       "    </tr>\n",
       "  </tbody>\n",
       "</table>\n"
      ],
      "text/plain": [
       "<pandas.io.formats.style.Styler at 0x15ea23790>"
      ]
     },
     "metadata": {},
     "output_type": "display_data"
    }
   ],
   "source": [
    "display_errors(iau_2006_8_24_planet, iau_2006_8_24_planet_results)"
   ]
  }
 ],
 "metadata": {
  "kernelspec": {
   "display_name": "conceptual-engineering-using-llms",
   "language": "python",
   "name": "python3"
  },
  "language_info": {
   "codemirror_mode": {
    "name": "ipython",
    "version": 3
   },
   "file_extension": ".py",
   "mimetype": "text/x-python",
   "name": "python",
   "nbconvert_exporter": "python",
   "pygments_lexer": "ipython3",
   "version": "3.11.4"
  },
  "orig_nbformat": 4
 },
 "nbformat": 4,
 "nbformat_minor": 2
}
