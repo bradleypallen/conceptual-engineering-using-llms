{
 "cells": [
  {
   "cell_type": "code",
   "execution_count": 1,
   "metadata": {},
   "outputs": [],
   "source": [
    "import wikipedia, requests, random, pycm, json, pandas as pd, matplotlib.pyplot as plt, seaborn as sns\n",
    "from tqdm import tqdm\n",
    "from IPython.display import display, Markdown\n",
    "from classification_procedure import ClassificationProcedure"
   ]
  },
  {
   "cell_type": "markdown",
   "metadata": {},
   "source": [
    "## Classification procedures"
   ]
  },
  {
   "cell_type": "code",
   "execution_count": 2,
   "metadata": {},
   "outputs": [],
   "source": [
    "oed_planet = ClassificationProcedure(\n",
    "    \"OED\",\n",
    "    \"planet\", \n",
    "    \"\"\"Any of various rocky or gaseous bodies that revolve in approximately elliptical orbits \n",
    "around the sun and are visible by its reflected light; esp. each of the planets Mercury, Venus, \n",
    "Earth, Mars, Jupiter, Saturn, Uranus, Neptune, and (until 2006) Pluto (in order of increasing \n",
    "distance from the sun); a similar body revolving around another star. Also: any of various \n",
    "smaller bodies that revolve around these (cf. satellite n. 2a).\"\"\",\n",
    "    \"https://www.oed.com/dictionary/planet_n\"\n",
    ")\n",
    "\n",
    "iau_2006_8_16_planet = ClassificationProcedure(\n",
    "    \"IAU 2006-08-16\",\n",
    "    \"planet\", \n",
    "    \"\"\"A planet is a celestial body that (a) has sufficient mass for its self-gravity to \n",
    "overcome rigid body forces so that it assumes a hydrostatic equilibrium (nearly round) shape, \n",
    "and (b) is in orbit around a star, and is neither a star nor a satellite of a planet.\"\"\",\n",
    "    \"https://www.iau.org/news/pressreleases/detail/iau0601/\"\n",
    ")\n",
    "\n",
    "iau_2006_8_24_planet = ClassificationProcedure(\n",
    "    \"IAU 2006-08-24\",\n",
    "    \"planet\", \n",
    "    \"\"\"A planet [1] is a celestial body that (a) is in orbit around the Sun, (b) has sufficient \n",
    "mass for its self-gravity to overcome rigid body forces so that it assumes a hydrostatic \n",
    "equilibrium (nearly round) shape, and (c) has cleared the neighbourhood around its orbit.\"\"\",\n",
    "    \"https://www.iau.org/static/resolutions/Resolution_GA26-5-6.pdf\"\n",
    ")"
   ]
  },
  {
   "cell_type": "markdown",
   "metadata": {},
   "source": [
    "### Example in Figure 1"
   ]
  },
  {
   "cell_type": "code",
   "execution_count": 3,
   "metadata": {},
   "outputs": [
    {
     "data": {
      "text/plain": [
       "{'concept': 'planet',\n",
       " 'definition': 'A planet [1] is a celestial body that (a) is in orbit around the Sun, (b) has sufficient \\nmass for its self-gravity to overcome rigid body forces so that it assumes a hydrostatic \\nequilibrium (nearly round) shape, and (c) has cleared the neighbourhood around its orbit.',\n",
       " 'entity': 'DENIS-P J082303.1−491201 b',\n",
       " 'description': 'DENIS-P J082303.1-491201 b (alias 2MASS J08230313-4912012 b) is a substellar object, classified as either an exoplanet or a brown dwarf, orbiting DENIS-P J082303.1-491201, an L1.5-type brown dwarf in the constellation Vela.',\n",
       " 'rationale': 'The description of DENIS-P J082303.1−491201 b indicates that it is a substellar object that orbits DENIS-P J082303.1-491201, which is a brown dwarf. This aligns with the first part of the definition of a planet, which states that a planet is a celestial body that is in orbit around the Sun. However, in this case, DENIS-P J082303.1−491201 b is orbiting a brown dwarf, not the Sun. Therefore, based solely on the provided definition, it cannot be definitively argued that DENIS-P J082303.1−491201 b is a planet.',\n",
       " 'answer': 'negative'}"
      ]
     },
     "execution_count": 3,
     "metadata": {},
     "output_type": "execute_result"
    }
   ],
   "source": [
    "iau_2006_8_24_planet.classify(\"DENIS-P J082303.1−491201 b\", \"DENIS-P J082303.1-491201 b (alias 2MASS J08230313-4912012 b) is a substellar object, classified as either an exoplanet or a brown dwarf, orbiting DENIS-P J082303.1-491201, an L1.5-type brown dwarf in the constellation Vela.\")"
   ]
  },
  {
   "cell_type": "markdown",
   "metadata": {},
   "source": [
    "## Wikidata queries"
   ]
  },
  {
   "cell_type": "code",
   "execution_count": 4,
   "metadata": {},
   "outputs": [],
   "source": [
    "KNOWLEDGE_GRAPH = \"https://query.wikidata.org/sparql\"\n",
    "\n",
    "QUERY_HEADERS = {\n",
    "    'User-Agent': 'ConceptualEngineeringAgent/0.2 (https://github.com/bradleypallen/conceptual-engineering-using-llms; b.p.allen@uva.nl)',\n",
    "}\n",
    "\n",
    "SAMPLE_SIZE = 50\n",
    "\n",
    "POSITIVE_EXAMPLES_QUERY = \"\"\"SELECT DISTINCT ?entity ?name ?article WHERE {\n",
    "  {\n",
    "    ?entity p:P31/ps:P31/wdt:P279* wd:Q634 .\n",
    "    ?article schema:about ?entity ;\n",
    "            schema:inLanguage \"en\" ;\n",
    "            schema:isPartOf <https://en.wikipedia.org/> ;\n",
    "            schema:name ?name .\n",
    "  }\n",
    "} LIMIT 10000\"\"\"\n",
    "\n",
    "NEGATIVE_EXAMPLES_QUERY = \"\"\"SELECT DISTINCT ?entity ?name ?article WHERE {\n",
    "  {\n",
    "    ?entity p:P31/ps:P31/wdt:P279* wd:Q3132741 .\n",
    "    ?article schema:about ?entity ;\n",
    "            schema:inLanguage \"en\" ;\n",
    "            schema:isPartOf <https://en.wikipedia.org/> ;\n",
    "            schema:name ?name .\n",
    "    FILTER NOT EXISTS { ?entity p:P31/ps:P31 wd:Q634 }\n",
    "  }\n",
    "} LIMIT 10000\"\"\""
   ]
  },
  {
   "cell_type": "markdown",
   "metadata": {},
   "source": [
    "## Example entities"
   ]
  },
  {
   "cell_type": "code",
   "execution_count": 5,
   "metadata": {},
   "outputs": [],
   "source": [
    "response = requests.get(KNOWLEDGE_GRAPH, params={'query' : POSITIVE_EXAMPLES_QUERY, 'format' : 'json'}, headers=QUERY_HEADERS)\n",
    "response.raise_for_status()\n",
    "json_response = response.json()\n",
    "records = [ [ result[\"entity\"][\"value\"], result[\"name\"][\"value\"], result[\"article\"][\"value\"] ] for result in json_response[\"results\"][\"bindings\"] ]\n",
    "records = random.sample(records, SAMPLE_SIZE)\n",
    "positive_examples = pd.DataFrame.from_records(records, columns=[\"id\", \"name\", \"article\"])\n",
    "positive_examples[\"description\"] = positive_examples[\"name\"].apply(lambda name: wikipedia.summary(name, auto_suggest=False).replace('\"', r'\\\"').strip()) \n",
    "positive_examples[\"actual\"] = \"positive\""
   ]
  },
  {
   "cell_type": "code",
   "execution_count": 6,
   "metadata": {},
   "outputs": [],
   "source": [
    "response = requests.get(KNOWLEDGE_GRAPH, params={'query' : NEGATIVE_EXAMPLES_QUERY, 'format' : 'json'}, headers=QUERY_HEADERS)\n",
    "response.raise_for_status()\n",
    "json_response = response.json()\n",
    "records = [ [ result[\"entity\"][\"value\"], result[\"name\"][\"value\"], result[\"article\"][\"value\"] ] for result in json_response[\"results\"][\"bindings\"] ]\n",
    "records = random.sample(records, SAMPLE_SIZE)\n",
    "negative_examples = pd.DataFrame.from_records(records, columns=[\"id\", \"name\", \"article\"])\n",
    "negative_examples[\"description\"] = negative_examples[\"name\"].apply(lambda name: wikipedia.summary(name, auto_suggest=False).replace('\"', r'\\\"').strip()) \n",
    "negative_examples[\"actual\"] = \"negative\""
   ]
  },
  {
   "cell_type": "code",
   "execution_count": 7,
   "metadata": {},
   "outputs": [
    {
     "data": {
      "text/html": [
       "<div>\n",
       "<style scoped>\n",
       "    .dataframe tbody tr th:only-of-type {\n",
       "        vertical-align: middle;\n",
       "    }\n",
       "\n",
       "    .dataframe tbody tr th {\n",
       "        vertical-align: top;\n",
       "    }\n",
       "\n",
       "    .dataframe thead th {\n",
       "        text-align: right;\n",
       "    }\n",
       "</style>\n",
       "<table border=\"1\" class=\"dataframe\">\n",
       "  <thead>\n",
       "    <tr style=\"text-align: right;\">\n",
       "      <th></th>\n",
       "      <th>id</th>\n",
       "      <th>name</th>\n",
       "      <th>article</th>\n",
       "      <th>description</th>\n",
       "      <th>actual</th>\n",
       "    </tr>\n",
       "  </thead>\n",
       "  <tbody>\n",
       "    <tr>\n",
       "      <th>0</th>\n",
       "      <td>http://www.wikidata.org/entity/Q1072379</td>\n",
       "      <td>Mu Arae d</td>\n",
       "      <td>https://en.wikipedia.org/wiki/Mu_Arae_d</td>\n",
       "      <td>Mu Arae d, also known as HD 160691 d, formally...</td>\n",
       "      <td>positive</td>\n",
       "    </tr>\n",
       "    <tr>\n",
       "      <th>1</th>\n",
       "      <td>http://www.wikidata.org/entity/Q83770</td>\n",
       "      <td>HD 82943 c</td>\n",
       "      <td>https://en.wikipedia.org/wiki/HD_82943_c</td>\n",
       "      <td>HD 82943 c is an extrasolar planet approximate...</td>\n",
       "      <td>positive</td>\n",
       "    </tr>\n",
       "    <tr>\n",
       "      <th>2</th>\n",
       "      <td>http://www.wikidata.org/entity/Q2668671</td>\n",
       "      <td>Kepler-9c</td>\n",
       "      <td>https://en.wikipedia.org/wiki/Kepler-9c</td>\n",
       "      <td>Kepler-9c is one of the first seven extrasolar...</td>\n",
       "      <td>positive</td>\n",
       "    </tr>\n",
       "    <tr>\n",
       "      <th>3</th>\n",
       "      <td>http://www.wikidata.org/entity/Q15120420</td>\n",
       "      <td>Kepler-46b</td>\n",
       "      <td>https://en.wikipedia.org/wiki/Kepler-46b</td>\n",
       "      <td>Kepler-46, previously designated KOI-872, is a...</td>\n",
       "      <td>positive</td>\n",
       "    </tr>\n",
       "    <tr>\n",
       "      <th>4</th>\n",
       "      <td>http://www.wikidata.org/entity/Q117422669</td>\n",
       "      <td>KMT-2022-BLG-0440L b</td>\n",
       "      <td>https://en.wikipedia.org/wiki/KMT-2022-BLG-044...</td>\n",
       "      <td>KMT-2022-BLG-0440L b is a Neptune-like exoplan...</td>\n",
       "      <td>positive</td>\n",
       "    </tr>\n",
       "    <tr>\n",
       "      <th>...</th>\n",
       "      <td>...</td>\n",
       "      <td>...</td>\n",
       "      <td>...</td>\n",
       "      <td>...</td>\n",
       "      <td>...</td>\n",
       "    </tr>\n",
       "    <tr>\n",
       "      <th>95</th>\n",
       "      <td>http://www.wikidata.org/entity/Q28502877</td>\n",
       "      <td>Kepler-167c</td>\n",
       "      <td>https://en.wikipedia.org/wiki/Kepler-167c</td>\n",
       "      <td>Kepler-167 is a K-type main-sequence star loca...</td>\n",
       "      <td>negative</td>\n",
       "    </tr>\n",
       "    <tr>\n",
       "      <th>96</th>\n",
       "      <td>http://www.wikidata.org/entity/Q838179</td>\n",
       "      <td>Salyut 2</td>\n",
       "      <td>https://en.wikipedia.org/wiki/Salyut_2</td>\n",
       "      <td>Salyut 2 (OPS-1) (Russian: Салют-2 meaning Sal...</td>\n",
       "      <td>negative</td>\n",
       "    </tr>\n",
       "    <tr>\n",
       "      <th>97</th>\n",
       "      <td>http://www.wikidata.org/entity/Q6586357</td>\n",
       "      <td>28723 Cameronjones</td>\n",
       "      <td>https://en.wikipedia.org/wiki/28723_Cameronjones</td>\n",
       "      <td>The following is a partial list of minor plane...</td>\n",
       "      <td>negative</td>\n",
       "    </tr>\n",
       "    <tr>\n",
       "      <th>98</th>\n",
       "      <td>http://www.wikidata.org/entity/Q93464183</td>\n",
       "      <td>Tau Ceti h</td>\n",
       "      <td>https://en.wikipedia.org/wiki/Tau_Ceti_h</td>\n",
       "      <td>Tau Ceti, Latinized from τ Ceti, is a single s...</td>\n",
       "      <td>negative</td>\n",
       "    </tr>\n",
       "    <tr>\n",
       "      <th>99</th>\n",
       "      <td>http://www.wikidata.org/entity/Q947097</td>\n",
       "      <td>4919 Vishnevskaya</td>\n",
       "      <td>https://en.wikipedia.org/wiki/4919_Vishnevskaya</td>\n",
       "      <td>The following is a partial list of minor plane...</td>\n",
       "      <td>negative</td>\n",
       "    </tr>\n",
       "  </tbody>\n",
       "</table>\n",
       "<p>100 rows × 5 columns</p>\n",
       "</div>"
      ],
      "text/plain": [
       "                                           id                  name  \\\n",
       "0     http://www.wikidata.org/entity/Q1072379             Mu Arae d   \n",
       "1       http://www.wikidata.org/entity/Q83770            HD 82943 c   \n",
       "2     http://www.wikidata.org/entity/Q2668671             Kepler-9c   \n",
       "3    http://www.wikidata.org/entity/Q15120420            Kepler-46b   \n",
       "4   http://www.wikidata.org/entity/Q117422669  KMT-2022-BLG-0440L b   \n",
       "..                                        ...                   ...   \n",
       "95   http://www.wikidata.org/entity/Q28502877           Kepler-167c   \n",
       "96     http://www.wikidata.org/entity/Q838179              Salyut 2   \n",
       "97    http://www.wikidata.org/entity/Q6586357    28723 Cameronjones   \n",
       "98   http://www.wikidata.org/entity/Q93464183            Tau Ceti h   \n",
       "99     http://www.wikidata.org/entity/Q947097     4919 Vishnevskaya   \n",
       "\n",
       "                                              article  \\\n",
       "0             https://en.wikipedia.org/wiki/Mu_Arae_d   \n",
       "1            https://en.wikipedia.org/wiki/HD_82943_c   \n",
       "2             https://en.wikipedia.org/wiki/Kepler-9c   \n",
       "3            https://en.wikipedia.org/wiki/Kepler-46b   \n",
       "4   https://en.wikipedia.org/wiki/KMT-2022-BLG-044...   \n",
       "..                                                ...   \n",
       "95          https://en.wikipedia.org/wiki/Kepler-167c   \n",
       "96             https://en.wikipedia.org/wiki/Salyut_2   \n",
       "97   https://en.wikipedia.org/wiki/28723_Cameronjones   \n",
       "98           https://en.wikipedia.org/wiki/Tau_Ceti_h   \n",
       "99    https://en.wikipedia.org/wiki/4919_Vishnevskaya   \n",
       "\n",
       "                                          description    actual  \n",
       "0   Mu Arae d, also known as HD 160691 d, formally...  positive  \n",
       "1   HD 82943 c is an extrasolar planet approximate...  positive  \n",
       "2   Kepler-9c is one of the first seven extrasolar...  positive  \n",
       "3   Kepler-46, previously designated KOI-872, is a...  positive  \n",
       "4   KMT-2022-BLG-0440L b is a Neptune-like exoplan...  positive  \n",
       "..                                                ...       ...  \n",
       "95  Kepler-167 is a K-type main-sequence star loca...  negative  \n",
       "96  Salyut 2 (OPS-1) (Russian: Салют-2 meaning Sal...  negative  \n",
       "97  The following is a partial list of minor plane...  negative  \n",
       "98  Tau Ceti, Latinized from τ Ceti, is a single s...  negative  \n",
       "99  The following is a partial list of minor plane...  negative  \n",
       "\n",
       "[100 rows x 5 columns]"
      ]
     },
     "execution_count": 7,
     "metadata": {},
     "output_type": "execute_result"
    }
   ],
   "source": [
    "examples = pd.concat([positive_examples, negative_examples], ignore_index=True)\n",
    "examples"
   ]
  },
  {
   "cell_type": "markdown",
   "metadata": {},
   "source": [
    "## Experiments"
   ]
  },
  {
   "cell_type": "code",
   "execution_count": 8,
   "metadata": {},
   "outputs": [],
   "source": [
    "def run_experiment(cp, examples):\n",
    "    classifications = examples.to_dict(\"records\")\n",
    "    for entity in tqdm(classifications):\n",
    "        classification = cp.classify(entity[\"name\"], entity[\"description\"])\n",
    "        entity[\"rationale\"] = classification[\"rationale\"]\n",
    "        entity[\"predicted\"] = classification[\"answer\"]\n",
    "    return pd.DataFrame.from_records(classifications)"
   ]
  },
  {
   "cell_type": "code",
   "execution_count": 9,
   "metadata": {},
   "outputs": [
    {
     "name": "stderr",
     "output_type": "stream",
     "text": [
      "100%|██████████| 100/100 [11:17<00:00,  6.78s/it]\n"
     ]
    }
   ],
   "source": [
    "oed_planet_results = run_experiment(oed_planet, examples)"
   ]
  },
  {
   "cell_type": "code",
   "execution_count": 10,
   "metadata": {},
   "outputs": [
    {
     "name": "stderr",
     "output_type": "stream",
     "text": [
      " 65%|██████▌   | 65/100 [08:24<03:55,  6.72s/it]Retrying langchain.chat_models.openai.ChatOpenAI.completion_with_retry.<locals>._completion_with_retry in 4.0 seconds as it raised Timeout: Request timed out: HTTPSConnectionPool(host='api.openai.com', port=443): Read timed out. (read timeout=600).\n",
      "100%|██████████| 100/100 [37:18<00:00, 22.38s/it]  \n"
     ]
    }
   ],
   "source": [
    "iau_2006_8_16_planet_results = run_experiment(iau_2006_8_16_planet, examples)"
   ]
  },
  {
   "cell_type": "code",
   "execution_count": 11,
   "metadata": {},
   "outputs": [
    {
     "name": "stderr",
     "output_type": "stream",
     "text": [
      " 52%|█████▏    | 52/100 [08:23<07:50,  9.81s/it]Retrying langchain.chat_models.openai.ChatOpenAI.completion_with_retry.<locals>._completion_with_retry in 4.0 seconds as it raised Timeout: Request timed out: HTTPSConnectionPool(host='api.openai.com', port=443): Read timed out. (read timeout=600).\n",
      " 62%|██████▏   | 62/100 [50:54<23:33, 37.20s/it]   Retrying langchain.chat_models.openai.ChatOpenAI.completion_with_retry.<locals>._completion_with_retry in 4.0 seconds as it raised Timeout: Request timed out: HTTPSConnectionPool(host='api.openai.com', port=443): Read timed out. (read timeout=600).\n",
      "100%|██████████| 100/100 [1:17:30<00:00, 46.50s/it]  \n"
     ]
    }
   ],
   "source": [
    "iau_2006_8_24_planet_results = run_experiment(iau_2006_8_24_planet, examples)"
   ]
  },
  {
   "cell_type": "markdown",
   "metadata": {},
   "source": [
    "## Performance metrics"
   ]
  },
  {
   "cell_type": "code",
   "execution_count": 12,
   "metadata": {},
   "outputs": [],
   "source": [
    "oed_planet_cm = pycm.ConfusionMatrix(\n",
    "    oed_planet_results[\"actual\"].tolist(), \n",
    "    oed_planet_results[\"predicted\"].tolist(), \n",
    "    digit=2, \n",
    "    classes=[ 'positive', 'negative' ]\n",
    ")\n",
    "\n",
    "iau_2006_8_16_planet_cm = pycm.ConfusionMatrix(\n",
    "    iau_2006_8_16_planet_results[\"actual\"].tolist(), \n",
    "    iau_2006_8_16_planet_results[\"predicted\"].tolist(), \n",
    "    digit=2, \n",
    "    classes=[ 'positive', 'negative' ]\n",
    ")\n",
    "\n",
    "iau_2006_8_24_planet_cm = pycm.ConfusionMatrix(\n",
    "    iau_2006_8_24_planet_results[\"actual\"].tolist(), \n",
    "    iau_2006_8_24_planet_results[\"predicted\"].tolist(), \n",
    "    digit=2, \n",
    "    classes=[ 'positive', 'negative' ]\n",
    ")"
   ]
  },
  {
   "cell_type": "code",
   "execution_count": 13,
   "metadata": {},
   "outputs": [],
   "source": [
    "cms = [\n",
    "    (f'{oed_planet.term} ({oed_planet.id})', oed_planet_cm),\n",
    "    (f'{iau_2006_8_16_planet.term} ({iau_2006_8_16_planet.id})', iau_2006_8_16_planet_cm),\n",
    "    (f'{iau_2006_8_24_planet.term} ({iau_2006_8_24_planet.id})', iau_2006_8_24_planet_cm)\n",
    "]"
   ]
  },
  {
   "cell_type": "code",
   "execution_count": 14,
   "metadata": {},
   "outputs": [
    {
     "data": {
      "image/png": "[encoded data removed]",
      "text/plain": [
       "<Figure size 2000x1400 with 23 Axes>"
      ]
     },
     "metadata": {},
     "output_type": "display_data"
    }
   ],
   "source": [
    "fig = plt.figure(figsize=(20,14))\n",
    "gs = fig.add_gridspec(4, 5, hspace=0.5)\n",
    "axes = gs.subplots()\n",
    "for ax, (name, cm) in zip(axes.flat, cms):\n",
    "    df = pd.DataFrame(cm.matrix).T.fillna(0)\n",
    "    sns.heatmap(df, annot=True, fmt='d', cmap=\"YlGnBu\", ax=ax)\n",
    "    ax.set_title(name, wrap=True, fontsize=9)\n",
    "    ax.set(xlabel='classification\\nprocedure', ylabel='Wikidata')\n",
    "for ax in axes.flat[len(cms):]:\n",
    "    ax.set_visible(False)\n",
    "plt.show()"
   ]
  },
  {
   "cell_type": "code",
   "execution_count": 15,
   "metadata": {},
   "outputs": [
    {
     "data": {
      "text/html": [
       "<div>\n",
       "<style scoped>\n",
       "    .dataframe tbody tr th:only-of-type {\n",
       "        vertical-align: middle;\n",
       "    }\n",
       "\n",
       "    .dataframe tbody tr th {\n",
       "        vertical-align: top;\n",
       "    }\n",
       "\n",
       "    .dataframe thead th {\n",
       "        text-align: right;\n",
       "    }\n",
       "</style>\n",
       "<table border=\"1\" class=\"dataframe\">\n",
       "  <thead>\n",
       "    <tr style=\"text-align: right;\">\n",
       "      <th></th>\n",
       "      <th>classification procedure</th>\n",
       "      <th>Cohen's kappa</th>\n",
       "      <th>F1 macro</th>\n",
       "      <th>FN</th>\n",
       "      <th>FP</th>\n",
       "    </tr>\n",
       "  </thead>\n",
       "  <tbody>\n",
       "    <tr>\n",
       "      <th>1</th>\n",
       "      <td>planet (IAU 2006-08-16)</td>\n",
       "      <td>0.54</td>\n",
       "      <td>0.769793</td>\n",
       "      <td>13</td>\n",
       "      <td>10</td>\n",
       "    </tr>\n",
       "    <tr>\n",
       "      <th>2</th>\n",
       "      <td>planet (IAU 2006-08-24)</td>\n",
       "      <td>0.52</td>\n",
       "      <td>0.757576</td>\n",
       "      <td>17</td>\n",
       "      <td>7</td>\n",
       "    </tr>\n",
       "    <tr>\n",
       "      <th>0</th>\n",
       "      <td>planet (OED)</td>\n",
       "      <td>0.22</td>\n",
       "      <td>0.579333</td>\n",
       "      <td>6</td>\n",
       "      <td>33</td>\n",
       "    </tr>\n",
       "  </tbody>\n",
       "</table>\n",
       "</div>"
      ],
      "text/plain": [
       "  classification procedure  Cohen's kappa  F1 macro  FN  FP\n",
       "1  planet (IAU 2006-08-16)           0.54  0.769793  13  10\n",
       "2  planet (IAU 2006-08-24)           0.52  0.757576  17   7\n",
       "0             planet (OED)           0.22  0.579333   6  33"
      ]
     },
     "execution_count": 15,
     "metadata": {},
     "output_type": "execute_result"
    }
   ],
   "source": [
    "metrics = pd.DataFrame.from_records([ \n",
    "    { \"classification procedure\": cm[0], \"Cohen's kappa\": cm[1].Kappa, \"F1 macro\": cm[1].F1_Macro, \"FN\": cm[1].FN[\"positive\"], \"FP\": cm[1].FP[\"positive\"] }\n",
    "    for cm in cms \n",
    "])\n",
    "metrics.sort_values(by=\"Cohen's kappa\", ascending=False)"
   ]
  },
  {
   "cell_type": "markdown",
   "metadata": {},
   "source": [
    "## Error analyses"
   ]
  },
  {
   "cell_type": "code",
   "execution_count": 16,
   "metadata": {},
   "outputs": [],
   "source": [
    "def display_errors(cp, results):\n",
    "    display(Markdown(f'### {cp.term} ({cp.id})'))\n",
    "    display(Markdown(f'#### Definition'))\n",
    "    display(Markdown(f'{cp.definition}'))\n",
    "    fns = results[((results[\"actual\"] == 'positive') & (results[\"predicted\"] == 'negative'))][[\"name\", \"description\", \"rationale\"]]\n",
    "    if len(fns) > 0:\n",
    "        fns_styler = fns.style.set_properties(**{\"text-align\": \"left\", \"vertical-align\" : \"top\", \"overflow-wrap\": \"break-word\"}).hide(axis=\"index\")\n",
    "        display(Markdown(f'#### False negatives'))\n",
    "        display(fns_styler)\n",
    "    fps = results[((results[\"actual\"] == 'negative') & (results[\"predicted\"] == 'positive'))][[\"name\", \"description\", \"rationale\"]]\n",
    "    if len(fps) > 0:\n",
    "        fps_styler = fps.style.set_properties(**{\"text-align\": \"left\", \"vertical-align\" : \"top\", \"overflow-wrap\": \"break-word\"}).hide(axis=\"index\")\n",
    "        display(Markdown(f'#### False positives'))\n",
    "        display(fps_styler)\n"
   ]
  },
  {
   "cell_type": "code",
   "execution_count": 17,
   "metadata": {},
   "outputs": [
    {
     "data": {
      "text/markdown": [
       "### planet (OED)"
      ],
      "text/plain": [
       "<IPython.core.display.Markdown object>"
      ]
     },
     "metadata": {},
     "output_type": "display_data"
    },
    {
     "data": {
      "text/markdown": [
       "#### Definition"
      ],
      "text/plain": [
       "<IPython.core.display.Markdown object>"
      ]
     },
     "metadata": {},
     "output_type": "display_data"
    },
    {
     "data": {
      "text/markdown": [
       "Any of various rocky or gaseous bodies that revolve in approximately elliptical orbits \n",
       "around the sun and are visible by its reflected light; esp. each of the planets Mercury, Venus, \n",
       "Earth, Mars, Jupiter, Saturn, Uranus, Neptune, and (until 2006) Pluto (in order of increasing \n",
       "distance from the sun); a similar body revolving around another star. Also: any of various \n",
       "smaller bodies that revolve around these (cf. satellite n. 2a)."
      ],
      "text/plain": [
       "<IPython.core.display.Markdown object>"
      ]
     },
     "metadata": {},
     "output_type": "display_data"
    },
    {
     "data": {
      "text/markdown": [
       "#### False negatives"
      ],
      "text/plain": [
       "<IPython.core.display.Markdown object>"
      ]
     },
     "metadata": {},
     "output_type": "display_data"
    },
    {
     "data": {
      "text/html": [
       "<style type=\"text/css\">\n",
       "#T_67242_row0_col0, #T_67242_row0_col1, #T_67242_row0_col2, #T_67242_row1_col0, #T_67242_row1_col1, #T_67242_row1_col2, #T_67242_row2_col0, #T_67242_row2_col1, #T_67242_row2_col2, #T_67242_row3_col0, #T_67242_row3_col1, #T_67242_row3_col2, #T_67242_row4_col0, #T_67242_row4_col1, #T_67242_row4_col2, #T_67242_row5_col0, #T_67242_row5_col1, #T_67242_row5_col2 {\n",
       "  text-align: left;\n",
       "  vertical-align: top;\n",
       "  overflow-wrap: break-word;\n",
       "}\n",
       "</style>\n",
       "<table id=\"T_67242\">\n",
       "  <thead>\n",
       "    <tr>\n",
       "      <th id=\"T_67242_level0_col0\" class=\"col_heading level0 col0\" >name</th>\n",
       "      <th id=\"T_67242_level0_col1\" class=\"col_heading level0 col1\" >description</th>\n",
       "      <th id=\"T_67242_level0_col2\" class=\"col_heading level0 col2\" >rationale</th>\n",
       "    </tr>\n",
       "  </thead>\n",
       "  <tbody>\n",
       "    <tr>\n",
       "      <td id=\"T_67242_row0_col0\" class=\"data row0 col0\" >Beta Ursae Minoris b</td>\n",
       "      <td id=\"T_67242_row0_col1\" class=\"data row0 col1\" >Kochab , Bayer designation Beta Ursae Minoris (β Ursae Minoris, abbreviated β UMi, Beta UMi), is the brightest star in the bowl of the Little Dipper asterism (which is part of the constellation of Ursa Minor), and only slightly fainter than Polaris, the northern pole star and brightest star in Ursa Minor. Kochab is 16 degrees from Polaris and has an apparent visual magnitude of 2.08. The distance to this star from the Sun can be deduced from the parallax measurements made during the Hipparcos mission, yielding a value of 130.9 light-years (40.1 parsecs).Amateur astronomers can use Kochab as a precise guide for equatorial mount alignment: The celestial north pole is located 38 arcminutes away from Polaris, very close to the line connecting Polaris with Kochab.</td>\n",
       "      <td id=\"T_67242_row0_col2\" class=\"data row0 col2\" >The provided description does not provide sufficient information to assert that Beta Ursae Minoris b is a planet. The description primarily discusses Kochab, a star, and its characteristics such as its brightness, distance from the Sun, and its use for astronomers. There is no mention of Beta Ursae Minoris b revolving in an elliptical orbit around a star, being visible by reflected light, or any other characteristics that would classify it as a planet according to the provided definition. Therefore, based on the given information, we cannot argue that Beta Ursae Minoris b is a planet.</td>\n",
       "    </tr>\n",
       "    <tr>\n",
       "      <td id=\"T_67242_row1_col0\" class=\"data row1 col0\" >WASP-57b</td>\n",
       "      <td id=\"T_67242_row1_col1\" class=\"data row1 col1\" >WASP-57 is a single G-type main-sequence star about 1310 light-years away. WASP-57 is depleted in heavy elements, having 55% of the solar abundance of iron. WASP-57 is much younger than the Sun at 0.957±0.518 billion years.A multiplicity survey in 2015 did not detect any stellar companions to WASP-57.</td>\n",
       "      <td id=\"T_67242_row1_col2\" class=\"data row1 col2\" >The definition of a planet includes any body that revolves in an elliptical orbit around a star and is visible by its reflected light. While the description of WASP-57b does not explicitly state that it revolves around a star, it is implied by the name WASP-57b, as this naming convention is typically used for planets and their host stars. Furthermore, the description mentions that WASP-57 is a star and that a survey did not detect any stellar companions, suggesting that WASP-57b is not a star but a different type of celestial body. Therefore, it can be inferred that WASP-57b is a planet.</td>\n",
       "    </tr>\n",
       "    <tr>\n",
       "      <td id=\"T_67242_row2_col0\" class=\"data row2 col0\" >HD 86226 c</td>\n",
       "      <td id=\"T_67242_row2_col1\" class=\"data row2 col1\" >HD 86226 is a G-type yellowish white star found in the constellation of Hydra.\n",
       "A survey in 2015 has ruled out the existence of any stellar companions at projected distances above 12 astronomical units.Radio emission at a frequency of 150 MHz has been tentatively detected from the proximity of this system, although it is not clear whether the star or a satellite orbiting a rapidly rotating planet is the source.</td>\n",
       "      <td id=\"T_67242_row2_col2\" class=\"data row2 col2\" >The definition of a planet includes any body that revolves in approximately elliptical orbits around the sun or another star and is visible by its reflected light. While the description of HD 86226 c does not explicitly state that it is a planet, it does mention that it is a body found in the constellation of Hydra and that it may have a satellite orbiting it. The presence of a satellite suggests that HD 86226 c is a body with significant gravitational pull, which is a characteristic of a planet. Therefore, based on the provided definition, it can be argued that HD 86226 c is a planet.</td>\n",
       "    </tr>\n",
       "    <tr>\n",
       "      <td id=\"T_67242_row3_col0\" class=\"data row3 col0\" >HD 79498 b</td>\n",
       "      <td id=\"T_67242_row3_col1\" class=\"data row3 col1\" >HD 79498 is a primary of the star system located  159 light years away in the constellation Cancer. This G5 main sequence star has an apparent magnitude of 8.0 and is about the same size and mass as the Sun. It has a higher than solar abundance of elements other than hydrogen and helium; what astronomers term a metal-rich star.The secondary star of the star system is the BD+23 2063 B located on the projected separation of the 2900 AU from the primary. It is a red dwarf of spectral class M0.</td>\n",
       "      <td id=\"T_67242_row3_col2\" class=\"data row3 col2\" >The concept definition of a planet states that it is a body that revolves in approximately elliptical orbits around the sun or a similar body revolving around another star. The entity description of HD 79498 b does not explicitly state that it is a planet, but it does mention that it is a secondary star of the star system, which implies that it revolves around the primary star, HD 79498. This aligns with the part of the planet definition that refers to a body revolving around another star. Therefore, based on the provided definition, one could argue that HD 79498 b is a planet. However, it's important to note that the description also refers to HD 79498 b as a star, which could contradict the assertion that it is a planet.</td>\n",
       "    </tr>\n",
       "    <tr>\n",
       "      <td id=\"T_67242_row4_col0\" class=\"data row4 col0\" >HD 220074 b</td>\n",
       "      <td id=\"T_67242_row4_col1\" class=\"data row4 col1\" >HD 220074 is a star located in the northern constellation of Cassiopeia, near the western border with Cepheus. It has a reddish hue and is dimly visible to the naked eye, having an apparent visual magnitude of +6.39. The star is located at a distance of approximately 1,070 light years from the Sun based on parallax, but is drifting closer with a radial velocity of −37 km/s.This star was assigned a stellar classification of K1V in the Bright Star Catalogue but is now known to be a red giant with a class of M2III, based on its radius and surface gravity. With the supply of hydrogen at its core exhausted, the star has expanded and cooled off the main sequence. It is around 4.5 billion years old with an estimated mass equal to ~1.2 times the mass of the Sun but 60 times the Sun's radius. The star is radiating 783 times the luminosity of the Sun from its enlarged photosphere at an effective temperature of 3,935 K.</td>\n",
       "      <td id=\"T_67242_row4_col2\" class=\"data row4 col2\" >The concept definition does not provide enough information to assert that HD 220074 b is a planet. The entity description only provides information about HD 220074, which is a star, not a planet. The description does not mention any bodies revolving around this star, which is a key characteristic of a planet according to the definition. Therefore, based on the provided information, we cannot argue that HD 220074 b is a planet.</td>\n",
       "    </tr>\n",
       "    <tr>\n",
       "      <td id=\"T_67242_row5_col0\" class=\"data row5 col0\" >Lacaille 9352 b</td>\n",
       "      <td id=\"T_67242_row5_col1\" class=\"data row5 col1\" >Lacaille 9352 (Lac 9352) is a red dwarf star in the southern constellation of Piscis Austrinus. With an apparent visual magnitude of 7.34, this star is too faint to be viewed with the naked eye except possibly under excellent seeing conditions. Parallax measurements place it at a distance of about 10.74 light-years (3.29 parsecs) from Earth. It is the eleventh closest star system to the Solar System and is the closest star in the constellation Piscis Austrinus. The ChView simulation shows that its closest neighbour is the EZ Aquarii triple star system at about 4.1 ly away.</td>\n",
       "      <td id=\"T_67242_row5_col2\" class=\"data row5 col2\" >The provided definition does not provide enough information to definitively assert that Lacaille 9352 b is a planet. The description provided refers to Lacaille 9352 as a star, not a planet. It does not mention whether Lacaille 9352 b revolves around this star or any other, nor does it mention if it is visible by reflected light. Therefore, based on the provided definition and description, we cannot argue that Lacaille 9352 b is a planet.</td>\n",
       "    </tr>\n",
       "  </tbody>\n",
       "</table>\n"
      ],
      "text/plain": [
       "<pandas.io.formats.style.Styler at 0x16a3c7290>"
      ]
     },
     "metadata": {},
     "output_type": "display_data"
    },
    {
     "data": {
      "text/markdown": [
       "#### False positives"
      ],
      "text/plain": [
       "<IPython.core.display.Markdown object>"
      ]
     },
     "metadata": {},
     "output_type": "display_data"
    },
    {
     "data": {
      "text/html": [
       "<style type=\"text/css\">\n",
       "#T_457dc_row0_col0, #T_457dc_row0_col1, #T_457dc_row0_col2, #T_457dc_row1_col0, #T_457dc_row1_col1, #T_457dc_row1_col2, #T_457dc_row2_col0, #T_457dc_row2_col1, #T_457dc_row2_col2, #T_457dc_row3_col0, #T_457dc_row3_col1, #T_457dc_row3_col2, #T_457dc_row4_col0, #T_457dc_row4_col1, #T_457dc_row4_col2, #T_457dc_row5_col0, #T_457dc_row5_col1, #T_457dc_row5_col2, #T_457dc_row6_col0, #T_457dc_row6_col1, #T_457dc_row6_col2, #T_457dc_row7_col0, #T_457dc_row7_col1, #T_457dc_row7_col2, #T_457dc_row8_col0, #T_457dc_row8_col1, #T_457dc_row8_col2, #T_457dc_row9_col0, #T_457dc_row9_col1, #T_457dc_row9_col2, #T_457dc_row10_col0, #T_457dc_row10_col1, #T_457dc_row10_col2, #T_457dc_row11_col0, #T_457dc_row11_col1, #T_457dc_row11_col2, #T_457dc_row12_col0, #T_457dc_row12_col1, #T_457dc_row12_col2, #T_457dc_row13_col0, #T_457dc_row13_col1, #T_457dc_row13_col2, #T_457dc_row14_col0, #T_457dc_row14_col1, #T_457dc_row14_col2, #T_457dc_row15_col0, #T_457dc_row15_col1, #T_457dc_row15_col2, #T_457dc_row16_col0, #T_457dc_row16_col1, #T_457dc_row16_col2, #T_457dc_row17_col0, #T_457dc_row17_col1, #T_457dc_row17_col2, #T_457dc_row18_col0, #T_457dc_row18_col1, #T_457dc_row18_col2, #T_457dc_row19_col0, #T_457dc_row19_col1, #T_457dc_row19_col2, #T_457dc_row20_col0, #T_457dc_row20_col1, #T_457dc_row20_col2, #T_457dc_row21_col0, #T_457dc_row21_col1, #T_457dc_row21_col2, #T_457dc_row22_col0, #T_457dc_row22_col1, #T_457dc_row22_col2, #T_457dc_row23_col0, #T_457dc_row23_col1, #T_457dc_row23_col2, #T_457dc_row24_col0, #T_457dc_row24_col1, #T_457dc_row24_col2, #T_457dc_row25_col0, #T_457dc_row25_col1, #T_457dc_row25_col2, #T_457dc_row26_col0, #T_457dc_row26_col1, #T_457dc_row26_col2, #T_457dc_row27_col0, #T_457dc_row27_col1, #T_457dc_row27_col2, #T_457dc_row28_col0, #T_457dc_row28_col1, #T_457dc_row28_col2, #T_457dc_row29_col0, #T_457dc_row29_col1, #T_457dc_row29_col2, #T_457dc_row30_col0, #T_457dc_row30_col1, #T_457dc_row30_col2, #T_457dc_row31_col0, #T_457dc_row31_col1, #T_457dc_row31_col2, #T_457dc_row32_col0, #T_457dc_row32_col1, #T_457dc_row32_col2 {\n",
       "  text-align: left;\n",
       "  vertical-align: top;\n",
       "  overflow-wrap: break-word;\n",
       "}\n",
       "</style>\n",
       "<table id=\"T_457dc\">\n",
       "  <thead>\n",
       "    <tr>\n",
       "      <th id=\"T_457dc_level0_col0\" class=\"col_heading level0 col0\" >name</th>\n",
       "      <th id=\"T_457dc_level0_col1\" class=\"col_heading level0 col1\" >description</th>\n",
       "      <th id=\"T_457dc_level0_col2\" class=\"col_heading level0 col2\" >rationale</th>\n",
       "    </tr>\n",
       "  </thead>\n",
       "  <tbody>\n",
       "    <tr>\n",
       "      <td id=\"T_457dc_row0_col0\" class=\"data row0 col0\" >PSR B1620−26 b</td>\n",
       "      <td id=\"T_457dc_row0_col1\" class=\"data row0 col1\" >PSR B1620−26 b is an exoplanet located approximately 12,400 light-years from Earth in the constellation of Scorpius. It bears the unofficial nicknames \\\"Methuselah\\\" and \\\"the Genesis planet\\\" (named after the Biblical character Methuselah, who, according to the Bible, lived to be the oldest person) due to its extreme age.  The planet is in a circumbinary orbit around the two stars of PSR B1620−26 (which are a pulsar (PSR B1620−26 A) and a white dwarf (WD B1620-26)) and is the first circumbinary planet ever confirmed. It is also the first planet found in a globular cluster. The planet is one of the oldest known extrasolar planets, believed to be about 12.7 billion years old.</td>\n",
       "      <td id=\"T_457dc_row0_col2\" class=\"data row0 col2\" >PSR B1620−26 b fits the definition of a planet as it is a body that revolves in an orbit around two stars, PSR B1620−26 A and WD B1620-26, similar to how planets in our solar system revolve around the sun. It is also visible by the reflected light of its stars. Furthermore, it is an exoplanet, which is a term used to describe a planet that orbits a star outside the solar system, fitting the part of the definition that includes similar bodies revolving around other stars. Therefore, based on the provided definition, PSR B1620−26 b can be classified as a planet.</td>\n",
       "    </tr>\n",
       "    <tr>\n",
       "      <td id=\"T_457dc_row1_col0\" class=\"data row1 col0\" >K2-33b</td>\n",
       "      <td id=\"T_457dc_row1_col1\" class=\"data row1 col1\" >K2-33b (also known by its EPIC designation EPIC 205117205.01) is a very young super-Neptune exoplanet, orbiting the pre-main-sequence star K2-33. It was discovered by NASA's Kepler spacecraft on its \\\"Second Light\\\" mission. It is located about 456 light-years (140 parsecs) away from Earth in the constellation of Scorpius. The exoplanet was found by using the transit method, in which the dimming effect that a planet causes as it crosses in front of its star is measured. \n",
       "Among known exoplanets, K2-33b is considered extremely young − a mere 9.3 million years old. Only one other exoplanet is younger, with an age of 2 Myr (V830 Tau b).</td>\n",
       "      <td id=\"T_457dc_row1_col2\" class=\"data row1 col2\" >K2-33b fits the definition of a planet as it is a body that revolves around a star, in this case, the pre-main-sequence star K2-33. It was discovered using the transit method, which measures the dimming effect a planet causes as it crosses in front of its star, further supporting its classification as a planet. Additionally, it is referred to as an exoplanet, which is a term used to describe planets that orbit a star outside of our solar system, aligning with the part of the definition that includes bodies revolving around other stars. Therefore, based on the provided definition, K2-33b can be classified as a planet.</td>\n",
       "    </tr>\n",
       "    <tr>\n",
       "      <td id=\"T_457dc_row2_col0\" class=\"data row2 col0\" >5821 Yukiomaeda</td>\n",
       "      <td id=\"T_457dc_row2_col1\" class=\"data row2 col1\" >The following is a partial list of minor planets, running from minor-planet number 5001 through 6000, inclusive. The primary data for this and other partial lists is based on JPL's \\\"Small-Body Orbital Elements\\\" and \\\"Data Available from the Minor Planet Center\\\". A detailed description of the table's columns and additional sources are given on the main page including a complete list of every page in this series, and a statistical break-up on the dynamical classification of minor planets.\n",
       "Also see the summary list of all named bodies in numerical and alphabetical order, and the corresponding naming citations for the number range of this particular list. New namings may only be added to this list after official publication, as the preannouncement of names is condemned by the Working Group for Small Bodies Nomenclature of the International Astronomical Union.</td>\n",
       "      <td id=\"T_457dc_row2_col2\" class=\"data row2 col2\" >The definition of a planet includes any of various smaller bodies that revolve around larger bodies such as the sun. The description of 5821 Yukiomaeda indicates that it is a minor planet, which falls under the category of smaller bodies. Therefore, based on the provided definition, one could argue that 5821 Yukiomaeda is a planet.</td>\n",
       "    </tr>\n",
       "    <tr>\n",
       "      <td id=\"T_457dc_row3_col0\" class=\"data row3 col0\" >37392 Yukiniall</td>\n",
       "      <td id=\"T_457dc_row3_col1\" class=\"data row3 col1\" >The following is a partial list of minor planets, running from minor-planet number 37001 through 38000, inclusive. The primary data for this and other partial lists is based on JPL's \\\"Small-Body Orbital Elements\\\" and \\\"Data Available from the Minor Planet Center\\\". A detailed description of the table's columns and additional sources are given on the main page including a complete list of every page in this series, and a statistical break-up on the dynamical classification of minor planets.\n",
       "Also see the summary list of all named bodies in numerical and alphabetical order, and the corresponding naming citations for the number range of this particular list. New namings may only be added to this list after official publication, as the preannouncement of names is condemned by the Working Group for Small Bodies Nomenclature of the International Astronomical Union.</td>\n",
       "      <td id=\"T_457dc_row3_col2\" class=\"data row3 col2\" >The definition of a planet includes \"any of various smaller bodies that revolve around\" the sun or another star. The description of 37392 Yukiniall identifies it as a \"minor planet,\" which implies that it is a smaller body that revolves around a star (in this case, the sun). Therefore, based on the provided definition, one could argue that 37392 Yukiniall is a planet.</td>\n",
       "    </tr>\n",
       "    <tr>\n",
       "      <td id=\"T_457dc_row4_col0\" class=\"data row4 col0\" >6282 Edwelda</td>\n",
       "      <td id=\"T_457dc_row4_col1\" class=\"data row4 col1\" >The following is a partial list of minor planets, running from minor-planet number 6001 through 7000, inclusive. The primary data for this and other partial lists is based on JPL's \\\"Small-Body Orbital Elements\\\" and \\\"Data Available from the Minor Planet Center\\\". A detailed description of the table's columns and additional sources are given on the main page including a complete list of every page in this series, and a statistical break-up on the dynamical classification of minor planets.\n",
       "Also see the summary list of all named bodies in numerical and alphabetical order, and the corresponding naming citations for the number range of this particular list. New namings may only be added to this list after official publication, as the preannouncement of names is condemned by the Working Group for Small Bodies Nomenclature of the International Astronomical Union.</td>\n",
       "      <td id=\"T_457dc_row4_col2\" class=\"data row4 col2\" >The definition of a planet includes \"any of various smaller bodies that revolve around these (cf. satellite n. 2a).\" The description of 6282 Edwelda identifies it as a minor planet, which suggests it is a smaller body that revolves around a larger body, such as the sun. Therefore, based on the provided definition, one could argue that 6282 Edwelda is a planet.</td>\n",
       "    </tr>\n",
       "    <tr>\n",
       "      <td id=\"T_457dc_row5_col0\" class=\"data row5 col0\" >15338 Dufault</td>\n",
       "      <td id=\"T_457dc_row5_col1\" class=\"data row5 col1\" >The following is a partial list of minor planets, running from minor-planet number 15001 through 16000, inclusive. The primary data for this and other partial lists is based on JPL's \\\"Small-Body Orbital Elements\\\" and \\\"Data Available from the Minor Planet Center\\\". A detailed description of the table's columns and additional sources are given on the main page including a complete list of every page in this series, and a statistical break-up on the dynamical classification of minor planets.\n",
       "Also see the summary list of all named bodies in numerical and alphabetical order, and the corresponding naming citations for the number range of this particular list. New namings may only be added to this list after official publication, as the preannouncement of names is condemned by the Working Group for Small Bodies Nomenclature of the International Astronomical Union.</td>\n",
       "      <td id=\"T_457dc_row5_col2\" class=\"data row5 col2\" >The definition of a planet includes \"any of various smaller bodies that revolve around\" the sun or another star. The description of 15338 Dufault indicates that it is a minor planet, which suggests that it is a smaller body that revolves around a star. Therefore, based on the provided definition, one could argue that 15338 Dufault is a planet.</td>\n",
       "    </tr>\n",
       "    <tr>\n",
       "      <td id=\"T_457dc_row6_col0\" class=\"data row6 col0\" >11815 Viikinkoski</td>\n",
       "      <td id=\"T_457dc_row6_col1\" class=\"data row6 col1\" >The following is a partial list of minor planets, running from minor-planet number 11001 through 12000, inclusive. The primary data for this and other partial lists is based on JPL's \\\"Small-Body Orbital Elements\\\" and \\\"Data Available from the Minor Planet Center\\\". A detailed description of the table's columns and additional sources are given on the main page including a complete list of every page in this series, and a statistical break-up on the dynamical classification of minor planets.\n",
       "Also see the summary list of all named bodies in numerical and alphabetical order, and the corresponding naming citations for the number range of this particular list. New namings may only be added to this list after official publication, as the preannouncement of names is condemned by the Working Group for Small Bodies Nomenclature of the International Astronomical Union.</td>\n",
       "      <td id=\"T_457dc_row6_col2\" class=\"data row6 col2\" >The definition of a planet includes \"any of various smaller bodies that revolve around\" the sun or another star. The description of 11815 Viikinkoski identifies it as a minor planet, which implies that it is a smaller body that revolves around a star, likely the sun. Therefore, based on the provided definition, one could argue that 11815 Viikinkoski is a planet.</td>\n",
       "    </tr>\n",
       "    <tr>\n",
       "      <td id=\"T_457dc_row7_col0\" class=\"data row7 col0\" >(246880) 1995 SR54</td>\n",
       "      <td id=\"T_457dc_row7_col1\" class=\"data row7 col1\" >The following is a partial list of minor planets, running from minor-planet number 246001 through 247000, inclusive. The primary data for this and other partial lists is based on JPL's \\\"Small-Body Orbital Elements\\\" and \\\"Data Available from the Minor Planet Center\\\". A detailed description of the table's columns and additional sources are given on the main page including a complete list of every page in this series, and a statistical break-up on the dynamical classification of minor planets.\n",
       "Also see the summary list of all named bodies in numerical and alphabetical order, and the corresponding naming citations for the number range of this particular list. New namings may only be added to this list after official publication, as the preannouncement of names is condemned by the Working Group for Small Bodies Nomenclature of the International Astronomical Union.</td>\n",
       "      <td id=\"T_457dc_row7_col2\" class=\"data row7 col2\" >The definition of a planet includes any of various smaller bodies that revolve around the sun or another star. The description of (246880) 1995 SR54 identifies it as a minor planet, which falls under the broader category of \"planet\" as defined. Therefore, based on the provided definition, one could argue that (246880) 1995 SR54 is a planet.</td>\n",
       "    </tr>\n",
       "    <tr>\n",
       "      <td id=\"T_457dc_row8_col0\" class=\"data row8 col0\" >HD 206610 b</td>\n",
       "      <td id=\"T_457dc_row8_col1\" class=\"data row8 col1\" >HD 206610 b is an extrasolar planet orbiting the K-type star Bosona (HD 206610) approximately 633 light years away in the constellation Aquarius.The planet HD 206610 b is named Naron. The name was selected in the NameExoWorlds campaigns by Bosnia and Herzegovina during the 100th anniversary of the IAU. Naron is one of the names given to the Neretva river in Herzegovina originating with the Celts who called it Nera Etwa which means the Flowing Divinity. The host star HD 206610 is called Bosona. Bosona is the name given to the territory of Bosnia in the 10th century.</td>\n",
       "      <td id=\"T_457dc_row8_col2\" class=\"data row8 col2\" >HD 206610 b fits the definition of a planet as it is a body that revolves around a star, in this case, the K-type star Bosona (HD 206610). The definition does not specify that the star has to be the sun, therefore, HD 206610 b can be considered a planet. Furthermore, it is visible by the reflected light of its star, which aligns with the definition of a planet. The fact that it has been named (Naron) also suggests that it is recognized as a significant celestial body, consistent with the status of a planet.</td>\n",
       "    </tr>\n",
       "    <tr>\n",
       "      <td id=\"T_457dc_row9_col0\" class=\"data row9 col0\" >13858 Ericchristensen</td>\n",
       "      <td id=\"T_457dc_row9_col1\" class=\"data row9 col1\" >The following is a partial list of minor planets, running from minor-planet number 13001 through 14000, inclusive. The primary data for this and other partial lists is based on JPL's \\\"Small-Body Orbital Elements\\\" and \\\"Data Available from the Minor Planet Center\\\". A detailed description of the table's columns and additional sources are given on the main page including a complete list of every page in this series, and a statistical break-up on the dynamical classification of minor planets.\n",
       "Also see the summary list of all named bodies in numerical and alphabetical order, and the corresponding naming citations for the number range of this particular list. New namings may only be added to this list after official publication, as the preannouncement of names is condemned by the Working Group for Small Bodies Nomenclature of the International Astronomical Union.</td>\n",
       "      <td id=\"T_457dc_row9_col2\" class=\"data row9 col2\" >The definition provided for a planet includes \"any of various smaller bodies that revolve around these (cf. satellite n. 2a).\" The description of 13858 Ericchristensen identifies it as a minor planet, which suggests it is a smaller body that revolves around a larger body, such as the sun. Therefore, based on the provided definition, one could argue that 13858 Ericchristensen is a planet.</td>\n",
       "    </tr>\n",
       "    <tr>\n",
       "      <td id=\"T_457dc_row10_col0\" class=\"data row10 col0\" >5125 Okushiri</td>\n",
       "      <td id=\"T_457dc_row10_col1\" class=\"data row10 col1\" >The following is a partial list of minor planets, running from minor-planet number 5001 through 6000, inclusive. The primary data for this and other partial lists is based on JPL's \\\"Small-Body Orbital Elements\\\" and \\\"Data Available from the Minor Planet Center\\\". A detailed description of the table's columns and additional sources are given on the main page including a complete list of every page in this series, and a statistical break-up on the dynamical classification of minor planets.\n",
       "Also see the summary list of all named bodies in numerical and alphabetical order, and the corresponding naming citations for the number range of this particular list. New namings may only be added to this list after official publication, as the preannouncement of names is condemned by the Working Group for Small Bodies Nomenclature of the International Astronomical Union.</td>\n",
       "      <td id=\"T_457dc_row10_col2\" class=\"data row10 col2\" >The definition of a planet includes any of various rocky or gaseous bodies that revolve in approximately elliptical orbits around the sun or another star. It also includes smaller bodies that revolve around these larger bodies. The description of 5125 Okushiri does not provide specific details about its physical characteristics or its orbit, but it is included in a list of minor planets. This suggests that it is considered a planet by the astronomical community, likely because it meets the criteria outlined in the definition. Therefore, it can be argued that 5125 Okushiri is a planet.</td>\n",
       "    </tr>\n",
       "    <tr>\n",
       "      <td id=\"T_457dc_row11_col0\" class=\"data row11 col0\" >7700 Rote Kapelle</td>\n",
       "      <td id=\"T_457dc_row11_col1\" class=\"data row11 col1\" >The following is a partial list of minor planets, running from minor-planet number 7001 through 8000, inclusive. The primary data for this and other partial lists is based on JPL's \\\"Small-Body Orbital Elements\\\" and \\\"Data Available from the Minor Planet Center\\\". A detailed description of the table's columns and additional sources are given on the main page including a complete list of every page in this series, and a statistical break-up on the dynamical classification of minor planets.\n",
       "Also see the summary list of all named bodies in numerical and alphabetical order, and the corresponding naming citations for the number range of this particular list. New namings may only be added to this list after official publication, as the preannouncement of names is condemned by the Working Group for Small Bodies Nomenclature of the International Astronomical Union.</td>\n",
       "      <td id=\"T_457dc_row11_col2\" class=\"data row11 col2\" >The definition of a planet includes any of various smaller bodies that revolve around larger bodies such as the sun. The description of 7700 Rote Kapelle identifies it as a minor planet, which implies that it is a smaller body that revolves around a larger body. Therefore, based on the provided definition, one could argue that 7700 Rote Kapelle is a planet.</td>\n",
       "    </tr>\n",
       "    <tr>\n",
       "      <td id=\"T_457dc_row12_col0\" class=\"data row12 col0\" >12113 Hollows</td>\n",
       "      <td id=\"T_457dc_row12_col1\" class=\"data row12 col1\" >The following is a partial list of minor planets, running from minor-planet number 12001 through 13000, inclusive. The primary data for this and other partial lists is based on JPL's \\\"Small-Body Orbital Elements\\\" and \\\"Data Available from the Minor Planet Center\\\". A detailed description of the table's columns and additional sources are given on the main page including a complete list of every page in this series, and a statistical break-up on the dynamical classification of minor planets.\n",
       "Also see the summary list of all named bodies in numerical and alphabetical order, and the corresponding naming citations for the number range of this particular list. New namings may only be added to this list after official publication, as the preannouncement of names is condemned by the Working Group for Small Bodies Nomenclature of the International Astronomical Union.</td>\n",
       "      <td id=\"T_457dc_row12_col2\" class=\"data row12 col2\" >The definition of a planet includes any of various smaller bodies that revolve around larger bodies such as the sun. The description of 12113 Hollows indicates that it is a minor planet, which falls under the broader category of planets as defined. Therefore, based on the provided definition, one could argue that 12113 Hollows is a planet.</td>\n",
       "    </tr>\n",
       "    <tr>\n",
       "      <td id=\"T_457dc_row13_col0\" class=\"data row13 col0\" >Kepler-28b</td>\n",
       "      <td id=\"T_457dc_row13_col1\" class=\"data row13 col1\" >Kepler-28b is an extrasolar planet orbiting the star Kepler-28. It is a transiting planet that is smaller than Jupiter that orbits very closely to Kepler-28.</td>\n",
       "      <td id=\"T_457dc_row13_col2\" class=\"data row13 col2\" >Kepler-28b fits the definition of a planet as it is a body that revolves around a star, in this case, Kepler-28. The definition does not limit planets to only those that revolve around the sun, but also includes those that revolve around other stars. Therefore, Kepler-28b, which revolves around the star Kepler-28, can be considered a planet. Additionally, the fact that it is smaller than Jupiter and orbits very closely to its star aligns with the characteristics of planets as described in the definition.</td>\n",
       "    </tr>\n",
       "    <tr>\n",
       "      <td id=\"T_457dc_row14_col0\" class=\"data row14 col0\" >7614 Masatomi</td>\n",
       "      <td id=\"T_457dc_row14_col1\" class=\"data row14 col1\" >The following is a partial list of minor planets, running from minor-planet number 7001 through 8000, inclusive. The primary data for this and other partial lists is based on JPL's \\\"Small-Body Orbital Elements\\\" and \\\"Data Available from the Minor Planet Center\\\". A detailed description of the table's columns and additional sources are given on the main page including a complete list of every page in this series, and a statistical break-up on the dynamical classification of minor planets.\n",
       "Also see the summary list of all named bodies in numerical and alphabetical order, and the corresponding naming citations for the number range of this particular list. New namings may only be added to this list after official publication, as the preannouncement of names is condemned by the Working Group for Small Bodies Nomenclature of the International Astronomical Union.</td>\n",
       "      <td id=\"T_457dc_row14_col2\" class=\"data row14 col2\" >The definition of a planet includes \"any of various smaller bodies that revolve around these (cf. satellite n. 2a).\" The description of 7614 Masatomi identifies it as a minor planet, which suggests that it is a smaller body that revolves around a larger body, such as the sun. Therefore, based on the provided definition, one could argue that 7614 Masatomi is a planet.</td>\n",
       "    </tr>\n",
       "    <tr>\n",
       "      <td id=\"T_457dc_row15_col0\" class=\"data row15 col0\" >22898 Falce</td>\n",
       "      <td id=\"T_457dc_row15_col1\" class=\"data row15 col1\" >The following is a partial list of minor planets, running from minor-planet number 22001 through 23000, inclusive. The primary data for this and other partial lists is based on JPL's \\\"Small-Body Orbital Elements\\\" and \\\"Data Available from the Minor Planet Center\\\". A detailed description of the table's columns and additional sources are given on the main page including a complete list of every page in this series, and a statistical break-up on the dynamical classification of minor planets.\n",
       "Also see the summary list of all named bodies in numerical and alphabetical order, and the corresponding naming citations for the number range of this particular list. New namings may only be added to this list after official publication, as the preannouncement of names is condemned by the Working Group for Small Bodies Nomenclature of the International Astronomical Union.</td>\n",
       "      <td id=\"T_457dc_row15_col2\" class=\"data row15 col2\" >The definition of a planet includes \"any of various smaller bodies that revolve around\" the sun or another star. The description of 22898 Falce indicates that it is a minor planet, which suggests that it is a smaller body that revolves around a star (presumably the sun, as it is included in a list of minor planets in our solar system). Therefore, based on the provided definition, one could argue that 22898 Falce is a planet.</td>\n",
       "    </tr>\n",
       "    <tr>\n",
       "      <td id=\"T_457dc_row16_col0\" class=\"data row16 col0\" >(11125) 1996 TL10</td>\n",
       "      <td id=\"T_457dc_row16_col1\" class=\"data row16 col1\" >The following is a partial list of minor planets, running from minor-planet number 11001 through 12000, inclusive. The primary data for this and other partial lists is based on JPL's \\\"Small-Body Orbital Elements\\\" and \\\"Data Available from the Minor Planet Center\\\". A detailed description of the table's columns and additional sources are given on the main page including a complete list of every page in this series, and a statistical break-up on the dynamical classification of minor planets.\n",
       "Also see the summary list of all named bodies in numerical and alphabetical order, and the corresponding naming citations for the number range of this particular list. New namings may only be added to this list after official publication, as the preannouncement of names is condemned by the Working Group for Small Bodies Nomenclature of the International Astronomical Union.</td>\n",
       "      <td id=\"T_457dc_row16_col2\" class=\"data row16 col2\" >The definition of a planet includes any of various smaller bodies that revolve around the sun or another star. The description of (11125) 1996 TL10 indicates that it is a minor planet, which falls under the category of smaller bodies. Therefore, based on the provided definition, one could argue that (11125) 1996 TL10 is a planet.</td>\n",
       "    </tr>\n",
       "    <tr>\n",
       "      <td id=\"T_457dc_row17_col0\" class=\"data row17 col0\" >HD 11964 c</td>\n",
       "      <td id=\"T_457dc_row17_col1\" class=\"data row17 col1\" >HD 11964 c is an extrasolar planet approximately 110 light-years away in the constellation of Cetus.  The planet was discovered in a close-orbit around the yellow subgiant star HD 11964.  The planet has a minimum mass 35 times the mass of Earth and is located in a mildly eccentric orbit which takes almost 38 days to complete. HD 11964 c was a possible planet discovered on the same day as HD 11964 b in 2005. HD 11964 c was first proposed in a paper published in 2007, and finally confirmed with new data presented in a review of multi-planet systems which appeared on the arXiv preprint website in 2008.Some sources have used the designation \\\"HD 11964 b\\\" for this planet, however in their review of the properties of multi-planet extrasolar planetary systems, the discovery team has stated that the correct designation for this planet is HD 11964 c and the reversed system was due to confusion related to private communications between various groups of astronomers.</td>\n",
       "      <td id=\"T_457dc_row17_col2\" class=\"data row17 col2\" >HD 11964 c fits the definition of a planet as it is a body that revolves in an orbit around a star, specifically the yellow subgiant star HD 11964. It is visible by the reflected light of its star and has a mass 35 times that of Earth, indicating it is a rocky or gaseous body. Furthermore, it is an extrasolar planet, which is included in the definition as a planet that revolves around a star other than the sun. Therefore, based on the provided definition, HD 11964 c can be classified as a planet.</td>\n",
       "    </tr>\n",
       "    <tr>\n",
       "      <td id=\"T_457dc_row18_col0\" class=\"data row18 col0\" >17991 Joshuaegan</td>\n",
       "      <td id=\"T_457dc_row18_col1\" class=\"data row18 col1\" >The following is a partial list of minor planets, running from minor-planet number 17001 through 18000, inclusive. The primary data for this and other partial lists is based on JPL's \\\"Small-Body Orbital Elements\\\" and \\\"Data Available from the Minor Planet Center\\\". A detailed description of the table's columns and additional sources are given on the main page including a complete list of every page in this series, and a statistical break-up on the dynamical classification of minor planets.\n",
       "Also see the summary list of all named bodies in numerical and alphabetical order, and the corresponding naming citations for the number range of this particular list. New namings may only be added to this list after official publication, as the preannouncement of names is condemned by the Working Group for Small Bodies Nomenclature of the International Astronomical Union.</td>\n",
       "      <td id=\"T_457dc_row18_col2\" class=\"data row18 col2\" >The definition of a planet includes any of various smaller bodies that revolve around larger bodies such as the sun. The description of 17991 Joshuaegan indicates that it is a minor planet, which falls under the category of smaller bodies that revolve around larger ones. Therefore, based on the provided definition, one could argue that 17991 Joshuaegan is a planet.</td>\n",
       "    </tr>\n",
       "    <tr>\n",
       "      <td id=\"T_457dc_row19_col0\" class=\"data row19 col0\" >1438 Wendeline</td>\n",
       "      <td id=\"T_457dc_row19_col1\" class=\"data row19 col1\" >The following is a partial list of minor planets, running from minor-planet number 1001 through 2000, inclusive. The primary data for this and other partial lists is based on JPL's \\\"Small-Body Orbital Elements\\\" and \\\"Data Available from the Minor Planet Center\\\". A detailed description of the table's columns and additional sources are given on the main page including a complete list of every page in this series, and a statistical break-up on the dynamical classification of minor planets.\n",
       "Also see the summary list of all named bodies in numerical and alphabetical order, and the corresponding naming citations for the number range of this particular list. New namings may only be added to this list after official publication, as the preannouncement of names is condemned by the Working Group for Small Bodies Nomenclature of the International Astronomical Union.</td>\n",
       "      <td id=\"T_457dc_row19_col2\" class=\"data row19 col2\" >The definition of a planet includes any of various smaller bodies that revolve around larger bodies such as the sun. The description of 1438 Wendeline identifies it as a minor planet, which falls under the broader category of planets as defined. Therefore, based on the provided definition, one could argue that 1438 Wendeline is a planet.</td>\n",
       "    </tr>\n",
       "    <tr>\n",
       "      <td id=\"T_457dc_row20_col0\" class=\"data row20 col0\" >HD 192310 b</td>\n",
       "      <td id=\"T_457dc_row20_col1\" class=\"data row20 col1\" >HD 192310 b is an exoplanet orbiting the star HD 192310 (HR 7722). It orbits its parent star with a semimajor axis of 0.32 ± 0.005 AU, an eccentricity of 0.13 ± 0.04. and an orbital period of 74.72 days.The Neptune-sized planet has at least 21 times the mass of Earth and 3 to 4 times its diameter.\n",
       "HD 192310 b was discovered on 1 November 2010 and lies within the inner edge of the habitable zone of HD 192310.</td>\n",
       "      <td id=\"T_457dc_row20_col2\" class=\"data row20 col2\" >HD 192310 b fits the definition of a planet as it is a body that revolves around a star, in this case, the star HD 192310 (HR 7722). It has an elliptical orbit with a semimajor axis and an eccentricity, and it is visible by the reflected light of its parent star. Furthermore, it is similar to the planets in our solar system, such as Neptune, in terms of its size and mass. Therefore, based on the provided definition, HD 192310 b can be classified as a planet.</td>\n",
       "    </tr>\n",
       "    <tr>\n",
       "      <td id=\"T_457dc_row21_col0\" class=\"data row21 col0\" >(523639) 2010 RE64</td>\n",
       "      <td id=\"T_457dc_row21_col1\" class=\"data row21 col1\" >(523639) 2010 RE64, provisional designation 2010 RE64, is a trans-Neptunian object in the scattered disc located in the outermost region of the Solar System, approximately 570 kilometers (350 miles) in diameter. It was discovered on 11 July 2010 by the Pan-STARRS-1 survey at the Haleakala Observatory, Hawaii, in the United States.</td>\n",
       "      <td id=\"T_457dc_row21_col2\" class=\"data row21 col2\" >The definition of a planet includes any rocky or gaseous body that revolves in approximately elliptical orbits around the sun and is visible by its reflected light. The description of (523639) 2010 RE64 states that it is a trans-Neptunian object located in the outermost region of the Solar System, which implies that it revolves around the sun. It is also stated to be approximately 570 kilometers in diameter, which suggests it is a substantial body that could reflect light. Therefore, based on the provided definition, one could argue that (523639) 2010 RE64 is a planet.</td>\n",
       "    </tr>\n",
       "    <tr>\n",
       "      <td id=\"T_457dc_row22_col0\" class=\"data row22 col0\" >3938 Chapront</td>\n",
       "      <td id=\"T_457dc_row22_col1\" class=\"data row22 col1\" >The following is a partial list of minor planets, running from minor-planet number 3001 through 4000, inclusive. The primary data for this and other partial lists is based on JPL's \\\"Small-Body Orbital Elements\\\" and \\\"Data Available from the Minor Planet Center\\\". A detailed description of the table's columns and additional sources are given on the main page including a complete list of every page in this series, and a statistical break-up on the dynamical classification of minor planets.\n",
       "Also see the summary list of all named bodies in numerical and alphabetical order, and the corresponding naming citations for the number range of this particular list. New namings may only be added to this list after official publication, as the preannouncement of names is condemned by the Working Group for Small Bodies Nomenclature of the International Astronomical Union.</td>\n",
       "      <td id=\"T_457dc_row22_col2\" class=\"data row22 col2\" >The definition provided for a planet includes \"any of various smaller bodies that revolve around these (cf. satellite n. 2a).\" The description of 3938 Chapront identifies it as a minor planet, which suggests that it is a smaller body that revolves around a larger body, such as the sun. Therefore, based on the provided definition, one could argue that 3938 Chapront is a planet.</td>\n",
       "    </tr>\n",
       "    <tr>\n",
       "      <td id=\"T_457dc_row23_col0\" class=\"data row23 col0\" >251485 Bois-d'Amont</td>\n",
       "      <td id=\"T_457dc_row23_col1\" class=\"data row23 col1\" >The following is a partial list of minor planets, running from minor-planet number 251001 through 252000, inclusive. The primary data for this and other partial lists is based on JPL's \\\"Small-Body Orbital Elements\\\" and \\\"Data Available from the Minor Planet Center\\\". A detailed description of the table's columns and additional sources are given on the main page including a complete list of every page in this series, and a statistical break-up on the dynamical classification of minor planets.\n",
       "Also see the summary list of all named bodies in numerical and alphabetical order, and the corresponding naming citations for the number range of this particular list. New namings may only be added to this list after official publication, as the preannouncement of names is condemned by the Working Group for Small Bodies Nomenclature of the International Astronomical Union.</td>\n",
       "      <td id=\"T_457dc_row23_col2\" class=\"data row23 col2\" >The definition of a planet includes any of various smaller bodies that revolve around larger bodies such as the sun. The description of 251485 Bois-d'Amont indicates that it is a minor planet, which falls under the broader category of planets as defined. Therefore, based on the given definition, one could argue that 251485 Bois-d'Amont is a planet.</td>\n",
       "    </tr>\n",
       "    <tr>\n",
       "      <td id=\"T_457dc_row24_col0\" class=\"data row24 col0\" >604750 Marisabele</td>\n",
       "      <td id=\"T_457dc_row24_col1\" class=\"data row24 col1\" >The following is a partial list of minor planets, running from minor-planet number 604001 through 605000, inclusive. The primary data for this and other partial lists is based on JPL's \\\"Small-Body Orbital Elements\\\" and \\\"Data Available from the Minor Planet Center\\\". A detailed description of the table's columns and additional sources are given on the main page including a complete list of every page in this series, and a statistical break-up on the dynamical classification of minor planets.\n",
       "Also see the summary list of all named bodies in numerical and alphabetical order, and the corresponding naming citations for the number range of this particular list. New namings may only be added to this list after official publication, as the preannouncement of names is condemned by the Working Group for Small Bodies Nomenclature of the International Astronomical Union.</td>\n",
       "      <td id=\"T_457dc_row24_col2\" class=\"data row24 col2\" >The definition of a planet includes any of various smaller bodies that revolve around larger bodies such as the sun. The description of 604750 Marisabele indicates that it is a minor planet, which falls under the category of smaller bodies that revolve around larger ones. Therefore, based on the provided definition, one could argue that 604750 Marisabele is a planet.</td>\n",
       "    </tr>\n",
       "    <tr>\n",
       "      <td id=\"T_457dc_row25_col0\" class=\"data row25 col0\" >10011 Avidzba</td>\n",
       "      <td id=\"T_457dc_row25_col1\" class=\"data row25 col1\" >The following is a partial list of minor planets, running from minor-planet number 10001 through 11000, inclusive. The primary data for this and other partial lists is based on JPL's \\\"Small-Body Orbital Elements\\\" and \\\"Data Available from the Minor Planet Center\\\". A detailed description of the table's columns and additional sources are given on the main page including a complete list of every page in this series, and a statistical break-up on the dynamical classification of minor planets.\n",
       "Also see the summary list of all named bodies in numerical and alphabetical order, and the corresponding naming citations for the number range of this particular list. New namings may only be added to this list after official publication, as the preannouncement of names is condemned by the Working Group for Small Bodies Nomenclature of the International Astronomical Union.</td>\n",
       "      <td id=\"T_457dc_row25_col2\" class=\"data row25 col2\" >The definition of a planet includes any of various smaller bodies that revolve around larger bodies such as the sun. The description of 10011 Avidzba indicates that it is a minor planet, which falls under the category of smaller bodies that revolve around larger ones. Therefore, based on the provided definition, one could argue that 10011 Avidzba is a planet.</td>\n",
       "    </tr>\n",
       "    <tr>\n",
       "      <td id=\"T_457dc_row26_col0\" class=\"data row26 col0\" >187707 Nandaxianlin</td>\n",
       "      <td id=\"T_457dc_row26_col1\" class=\"data row26 col1\" >The following is a partial list of minor planets, running from minor-planet number 187001 through 188000, inclusive. The primary data for this and other partial lists is based on JPL's \\\"Small-Body Orbital Elements\\\" and \\\"Data Available from the Minor Planet Center\\\". A detailed description of the table's columns and additional sources are given on the main page including a complete list of every page in this series, and a statistical break-up on the dynamical classification of minor planets.\n",
       "Also see the summary list of all named bodies in numerical and alphabetical order, and the corresponding naming citations for the number range of this particular list. New namings may only be added to this list after official publication, as the preannouncement of names is condemned by the Working Group for Small Bodies Nomenclature of the International Astronomical Union.</td>\n",
       "      <td id=\"T_457dc_row26_col2\" class=\"data row26 col2\" >The definition of a planet includes any of various smaller bodies that revolve around larger bodies such as the sun. The description of 187707 Nandaxianlin indicates that it is a minor planet, which falls under the broader category of planets as per the given definition. Therefore, based on the provided definition, one could argue that 187707 Nandaxianlin is a planet.</td>\n",
       "    </tr>\n",
       "    <tr>\n",
       "      <td id=\"T_457dc_row27_col0\" class=\"data row27 col0\" >Pi Mensae b</td>\n",
       "      <td id=\"T_457dc_row27_col1\" class=\"data row27 col1\" >Pi Mensae b (π Men b, π Mensae b), also known as HD 39091 b, is an extrasolar planet approximately 60 light-years away in the constellation of Mensa.  The planet was announced orbiting the yellow main-sequence star Pi Mensae in October 2001.</td>\n",
       "      <td id=\"T_457dc_row27_col2\" class=\"data row27 col2\" >Pi Mensae b fits the definition of a planet as it is a body that revolves around a star, in this case, the yellow main-sequence star Pi Mensae. The definition does not limit planets to only those that revolve around the sun, but includes any similar body revolving around another star. Therefore, Pi Mensae b, which revolves around a star, can be classified as a planet.</td>\n",
       "    </tr>\n",
       "    <tr>\n",
       "      <td id=\"T_457dc_row28_col0\" class=\"data row28 col0\" >(59115) 1998 XG3</td>\n",
       "      <td id=\"T_457dc_row28_col1\" class=\"data row28 col1\" >The following is a partial list of minor planets, running from minor-planet number 59001 through 60000, inclusive. The primary data for this and other partial lists is based on JPL's \\\"Small-Body Orbital Elements\\\" and \\\"Data Available from the Minor Planet Center\\\". A detailed description of the table's columns and additional sources are given on the main page including a complete list of every page in this series, and a statistical break-up on the dynamical classification of minor planets.\n",
       "Also see the summary list of all named bodies in numerical and alphabetical order, and the corresponding naming citations for the number range of this particular list. New namings may only be added to this list after official publication, as the preannouncement of names is condemned by the Working Group for Small Bodies Nomenclature of the International Astronomical Union.</td>\n",
       "      <td id=\"T_457dc_row28_col2\" class=\"data row28 col2\" >The definition of a planet includes any of various rocky or gaseous bodies that revolve in approximately elliptical orbits around the sun or another star. It also includes smaller bodies that revolve around these larger bodies. The description of (59115) 1998 XG3 indicates that it is a minor planet, which suggests that it is a smaller body that revolves around a larger body, such as the sun. Therefore, based on the provided definition, one could argue that (59115) 1998 XG3 is a planet.</td>\n",
       "    </tr>\n",
       "    <tr>\n",
       "      <td id=\"T_457dc_row29_col0\" class=\"data row29 col0\" >Kepler-167c</td>\n",
       "      <td id=\"T_457dc_row29_col1\" class=\"data row29 col1\" >Kepler-167 is a K-type main-sequence star located about 1,119 light-years (343 pc) away from the Solar System in the constellation of Cygnus. The star has about 78% the mass and 75% the radius of the Sun, and a temperature of 4,884 K (4,611 °C; 8,332 °F). It hosts a system of four known exoplanets. There is also a companion red dwarf star at a separation of about 700 AU, with an estimated orbital period of over 15,000 years.</td>\n",
       "      <td id=\"T_457dc_row29_col2\" class=\"data row29 col2\" >Kepler-167c is considered a planet because it fits the definition provided. It is a body that revolves around a star, in this case, the K-type main-sequence star known as Kepler-167. This star is not the sun, but the definition allows for planets to revolve around other stars. Therefore, based on the provided definition, Kepler-167c can be classified as a planet.</td>\n",
       "    </tr>\n",
       "    <tr>\n",
       "      <td id=\"T_457dc_row30_col0\" class=\"data row30 col0\" >28723 Cameronjones</td>\n",
       "      <td id=\"T_457dc_row30_col1\" class=\"data row30 col1\" >The following is a partial list of minor planets, running from minor-planet number 28001 through 29000, inclusive. The primary data for this and other partial lists is based on JPL's \\\"Small-Body Orbital Elements\\\" and \\\"Data Available from the Minor Planet Center\\\". A detailed description of the table's columns and additional sources are given on the main page including a complete list of every page in this series, and a statistical break-up on the dynamical classification of minor planets.\n",
       "Also see the summary list of all named bodies in numerical and alphabetical order, and the corresponding naming citations for the number range of this particular list. New namings may only be added to this list after official publication, as the preannouncement of names is condemned by the Working Group for Small Bodies Nomenclature of the International Astronomical Union.</td>\n",
       "      <td id=\"T_457dc_row30_col2\" class=\"data row30 col2\" >The definition of a planet includes \"any of various smaller bodies that revolve around these (cf. satellite n. 2a).\" The description of 28723 Cameronjones indicates that it is a minor planet, which falls under the category of \"smaller bodies.\" Therefore, based on the provided definition, one could argue that 28723 Cameronjones is a planet.</td>\n",
       "    </tr>\n",
       "    <tr>\n",
       "      <td id=\"T_457dc_row31_col0\" class=\"data row31 col0\" >Tau Ceti h</td>\n",
       "      <td id=\"T_457dc_row31_col1\" class=\"data row31 col1\" >Tau Ceti, Latinized from τ Ceti, is a single star in the constellation Cetus that is spectrally similar to the Sun, although it has only about 78% of the Sun's mass. At a distance of just under 12 light-years (3.7 parsecs) from the Solar System, it is a relatively nearby star and the closest solitary G-class star. The star appears stable, with little stellar variation, and is metal-deficient relative to the Sun.\n",
       "It can be seen with the unaided eye with an apparent magnitude of 3.5. As seen from Tau Ceti, the Sun would be in the northern hemisphere constellation Boötes with an apparent magnitude of about 2.6.Observations have detected more than ten times as much dust surrounding Tau Ceti as is present in the Solar System. Since December 2012, there has been evidence of at least four planets—all likely super-Earths—orbiting Tau Ceti, and two of these are potentially in the habitable zone. There is evidence of up to an additional four unconfirmed planets, one of which would be a Jovian planet between 3 and 20 AU from the star. Because of its debris disk, any planet orbiting Tau Ceti would face far more impact events than Earth. Despite this hurdle to habitability, its solar analog (Sun-like) characteristics have led to widespread interest in the star. Given its stability, similarity and relative proximity to the Sun, Tau Ceti is consistently listed as a target for the search for extraterrestrial intelligence (SETI) and appears in some science fiction literature.</td>\n",
       "      <td id=\"T_457dc_row31_col2\" class=\"data row31 col2\" >The description of Tau Ceti h provides evidence that it is a planet based on the definition provided. The definition of a planet includes any rocky or gaseous body that revolves in approximately elliptical orbits around the sun or a similar body revolving around another star. The description of Tau Ceti h mentions that there is evidence of at least four planets orbiting Tau Ceti, which is a star. This suggests that Tau Ceti h is one of these bodies that revolve around the star, fitting the definition of a planet. Additionally, the description mentions that Tau Ceti h is likely a super-Earth, which further supports the assertion that it is a planet as it implies it is a larger version of a known planet, Earth.</td>\n",
       "    </tr>\n",
       "    <tr>\n",
       "      <td id=\"T_457dc_row32_col0\" class=\"data row32 col0\" >4919 Vishnevskaya</td>\n",
       "      <td id=\"T_457dc_row32_col1\" class=\"data row32 col1\" >The following is a partial list of minor planets, running from minor-planet number 4001 through 5000, inclusive. The primary data for this and other partial lists is based on JPL's \\\"Small-Body Orbital Elements\\\" and \\\"Data Available from the Minor Planet Center\\\". A detailed description of the table's columns and additional sources are given on the main page including a complete list of every page in this series, and a statistical break-up on the dynamical classification of minor planets.\n",
       "Also see the summary list of all named bodies in numerical and alphabetical order, and the corresponding naming citations for the number range of this particular list. New namings may only be added to this list after official publication, as the preannouncement of names is condemned by the Working Group for Small Bodies Nomenclature of the International Astronomical Union.</td>\n",
       "      <td id=\"T_457dc_row32_col2\" class=\"data row32 col2\" >The definition of a planet includes any of various smaller bodies that revolve around larger bodies such as the sun. The description of 4919 Vishnevskaya indicates that it is a minor planet, which falls under the category of smaller bodies that revolve around larger ones. Therefore, based on the provided definition, one could argue that 4919 Vishnevskaya is a planet.</td>\n",
       "    </tr>\n",
       "  </tbody>\n",
       "</table>\n"
      ],
      "text/plain": [
       "<pandas.io.formats.style.Styler at 0x118324410>"
      ]
     },
     "metadata": {},
     "output_type": "display_data"
    }
   ],
   "source": [
    "display_errors(oed_planet, oed_planet_results)"
   ]
  },
  {
   "cell_type": "code",
   "execution_count": 18,
   "metadata": {},
   "outputs": [
    {
     "data": {
      "text/markdown": [
       "### planet (IAU 2006-08-16)"
      ],
      "text/plain": [
       "<IPython.core.display.Markdown object>"
      ]
     },
     "metadata": {},
     "output_type": "display_data"
    },
    {
     "data": {
      "text/markdown": [
       "#### Definition"
      ],
      "text/plain": [
       "<IPython.core.display.Markdown object>"
      ]
     },
     "metadata": {},
     "output_type": "display_data"
    },
    {
     "data": {
      "text/markdown": [
       "A planet is a celestial body that (a) has sufficient mass for its self-gravity to \n",
       "overcome rigid body forces so that it assumes a hydrostatic equilibrium (nearly round) shape, \n",
       "and (b) is in orbit around a star, and is neither a star nor a satellite of a planet."
      ],
      "text/plain": [
       "<IPython.core.display.Markdown object>"
      ]
     },
     "metadata": {},
     "output_type": "display_data"
    },
    {
     "data": {
      "text/markdown": [
       "#### False negatives"
      ],
      "text/plain": [
       "<IPython.core.display.Markdown object>"
      ]
     },
     "metadata": {},
     "output_type": "display_data"
    },
    {
     "data": {
      "text/html": [
       "<style type=\"text/css\">\n",
       "#T_e98c9_row0_col0, #T_e98c9_row0_col1, #T_e98c9_row0_col2, #T_e98c9_row1_col0, #T_e98c9_row1_col1, #T_e98c9_row1_col2, #T_e98c9_row2_col0, #T_e98c9_row2_col1, #T_e98c9_row2_col2, #T_e98c9_row3_col0, #T_e98c9_row3_col1, #T_e98c9_row3_col2, #T_e98c9_row4_col0, #T_e98c9_row4_col1, #T_e98c9_row4_col2, #T_e98c9_row5_col0, #T_e98c9_row5_col1, #T_e98c9_row5_col2, #T_e98c9_row6_col0, #T_e98c9_row6_col1, #T_e98c9_row6_col2, #T_e98c9_row7_col0, #T_e98c9_row7_col1, #T_e98c9_row7_col2, #T_e98c9_row8_col0, #T_e98c9_row8_col1, #T_e98c9_row8_col2, #T_e98c9_row9_col0, #T_e98c9_row9_col1, #T_e98c9_row9_col2, #T_e98c9_row10_col0, #T_e98c9_row10_col1, #T_e98c9_row10_col2, #T_e98c9_row11_col0, #T_e98c9_row11_col1, #T_e98c9_row11_col2, #T_e98c9_row12_col0, #T_e98c9_row12_col1, #T_e98c9_row12_col2 {\n",
       "  text-align: left;\n",
       "  vertical-align: top;\n",
       "  overflow-wrap: break-word;\n",
       "}\n",
       "</style>\n",
       "<table id=\"T_e98c9\">\n",
       "  <thead>\n",
       "    <tr>\n",
       "      <th id=\"T_e98c9_level0_col0\" class=\"col_heading level0 col0\" >name</th>\n",
       "      <th id=\"T_e98c9_level0_col1\" class=\"col_heading level0 col1\" >description</th>\n",
       "      <th id=\"T_e98c9_level0_col2\" class=\"col_heading level0 col2\" >rationale</th>\n",
       "    </tr>\n",
       "  </thead>\n",
       "  <tbody>\n",
       "    <tr>\n",
       "      <td id=\"T_e98c9_row0_col0\" class=\"data row0 col0\" >Beta Ursae Minoris b</td>\n",
       "      <td id=\"T_e98c9_row0_col1\" class=\"data row0 col1\" >Kochab , Bayer designation Beta Ursae Minoris (β Ursae Minoris, abbreviated β UMi, Beta UMi), is the brightest star in the bowl of the Little Dipper asterism (which is part of the constellation of Ursa Minor), and only slightly fainter than Polaris, the northern pole star and brightest star in Ursa Minor. Kochab is 16 degrees from Polaris and has an apparent visual magnitude of 2.08. The distance to this star from the Sun can be deduced from the parallax measurements made during the Hipparcos mission, yielding a value of 130.9 light-years (40.1 parsecs).Amateur astronomers can use Kochab as a precise guide for equatorial mount alignment: The celestial north pole is located 38 arcminutes away from Polaris, very close to the line connecting Polaris with Kochab.</td>\n",
       "      <td id=\"T_e98c9_row0_col2\" class=\"data row0 col2\" >The provided description does not provide sufficient information to assert that Beta Ursae Minoris b is a planet. The description primarily focuses on the characteristics of the star Kochab, not a celestial body orbiting it. There is no mention of Beta Ursae Minoris b's shape, its orbit around a star, or whether it is a star or a satellite of a planet. Therefore, based on the given definition and the provided information, we cannot argue that Beta Ursae Minoris b is a planet.</td>\n",
       "    </tr>\n",
       "    <tr>\n",
       "      <td id=\"T_e98c9_row1_col0\" class=\"data row1 col0\" >WASP-57b</td>\n",
       "      <td id=\"T_e98c9_row1_col1\" class=\"data row1 col1\" >WASP-57 is a single G-type main-sequence star about 1310 light-years away. WASP-57 is depleted in heavy elements, having 55% of the solar abundance of iron. WASP-57 is much younger than the Sun at 0.957±0.518 billion years.A multiplicity survey in 2015 did not detect any stellar companions to WASP-57.</td>\n",
       "      <td id=\"T_e98c9_row1_col2\" class=\"data row1 col2\" >The provided description does not provide sufficient information to assert that WASP-57b is a planet. The description only provides information about the star WASP-57, not about any celestial bodies orbiting it. To determine if WASP-57b is a planet, we would need information confirming that it is a celestial body in orbit around WASP-57, that it has sufficient mass to assume a nearly round shape due to its self-gravity, and that it is not a star or a satellite of another planet.</td>\n",
       "    </tr>\n",
       "    <tr>\n",
       "      <td id=\"T_e98c9_row2_col0\" class=\"data row2 col0\" >HD 86226 c</td>\n",
       "      <td id=\"T_e98c9_row2_col1\" class=\"data row2 col1\" >HD 86226 is a G-type yellowish white star found in the constellation of Hydra.\n",
       "A survey in 2015 has ruled out the existence of any stellar companions at projected distances above 12 astronomical units.Radio emission at a frequency of 150 MHz has been tentatively detected from the proximity of this system, although it is not clear whether the star or a satellite orbiting a rapidly rotating planet is the source.</td>\n",
       "      <td id=\"T_e98c9_row2_col2\" class=\"data row2 col2\" >The description of HD 86226 c does not provide sufficient information to definitively assert that it is a planet based on the provided definition. The description mentions that HD 86226 is a star and that there may be a satellite orbiting a rapidly rotating planet in the system, but it does not specify whether HD 86226 c is that potential planet or another celestial body. Furthermore, the description does not provide information about HD 86226 c's mass, shape, or whether it is in orbit around a star, which are all necessary criteria for a celestial body to be considered a planet according to the provided definition. Therefore, based on the information given, we cannot definitively assert that HD 86226 c is a planet.</td>\n",
       "    </tr>\n",
       "    <tr>\n",
       "      <td id=\"T_e98c9_row3_col0\" class=\"data row3 col0\" >HD 79498 b</td>\n",
       "      <td id=\"T_e98c9_row3_col1\" class=\"data row3 col1\" >HD 79498 is a primary of the star system located  159 light years away in the constellation Cancer. This G5 main sequence star has an apparent magnitude of 8.0 and is about the same size and mass as the Sun. It has a higher than solar abundance of elements other than hydrogen and helium; what astronomers term a metal-rich star.The secondary star of the star system is the BD+23 2063 B located on the projected separation of the 2900 AU from the primary. It is a red dwarf of spectral class M0.</td>\n",
       "      <td id=\"T_e98c9_row3_col2\" class=\"data row3 col2\" >The provided description does not provide enough information to definitively assert that HD 79498 b is a planet. The description mentions that HD 79498 is a star system with a primary star and a secondary star, but it does not provide any information about any celestial bodies in orbit around these stars that are not stars themselves or satellites of a planet. Therefore, based on the given definition of a planet and the provided information, we cannot argue that HD 79498 b is a planet.</td>\n",
       "    </tr>\n",
       "    <tr>\n",
       "      <td id=\"T_e98c9_row4_col0\" class=\"data row4 col0\" >Pi Mensae d</td>\n",
       "      <td id=\"T_e98c9_row4_col1\" class=\"data row4 col1\" >Pi Mensae (π Men), also known as HD 39091, is a yellow dwarf star in the constellation of Mensa. This star has a high proper motion. The apparent magnitude is 5.67, which can be visible to the naked eye in exceptionally dark, clear skies. It is nearly 60 light-years away. The star is slightly larger than the Sun in terms of mass, size, luminosity, temperature and metallicity, and is about 730 million years younger. It hosts three known planets.</td>\n",
       "      <td id=\"T_e98c9_row4_col2\" class=\"data row4 col2\" >The text does not provide sufficient information to argue that Pi Mensae d is a planet. The definition of a planet requires it to have sufficient mass to assume a nearly round shape, be in orbit around a star, and not be a star itself or a satellite of a planet. While the text mentions that Pi Mensae d is one of three known planets orbiting the star HD 39091, it does not provide specific information about its mass, shape, or whether it is a star or a satellite. Therefore, based on the given information, we cannot definitively assert that Pi Mensae d is a planet.</td>\n",
       "    </tr>\n",
       "    <tr>\n",
       "      <td id=\"T_e98c9_row5_col0\" class=\"data row5 col0\" >HD 220074 b</td>\n",
       "      <td id=\"T_e98c9_row5_col1\" class=\"data row5 col1\" >HD 220074 is a star located in the northern constellation of Cassiopeia, near the western border with Cepheus. It has a reddish hue and is dimly visible to the naked eye, having an apparent visual magnitude of +6.39. The star is located at a distance of approximately 1,070 light years from the Sun based on parallax, but is drifting closer with a radial velocity of −37 km/s.This star was assigned a stellar classification of K1V in the Bright Star Catalogue but is now known to be a red giant with a class of M2III, based on its radius and surface gravity. With the supply of hydrogen at its core exhausted, the star has expanded and cooled off the main sequence. It is around 4.5 billion years old with an estimated mass equal to ~1.2 times the mass of the Sun but 60 times the Sun's radius. The star is radiating 783 times the luminosity of the Sun from its enlarged photosphere at an effective temperature of 3,935 K.</td>\n",
       "      <td id=\"T_e98c9_row5_col2\" class=\"data row5 col2\" >The text does not provide sufficient information to assert that HD 220074 b is a planet. The description only provides information about the star HD 220074, not about any celestial bodies orbiting it. To determine if HD 220074 b is a planet, we would need information about its mass, shape, and whether it orbits a star (in this case, HD 220074). Without this information, we cannot definitively classify HD 220074 b as a planet.</td>\n",
       "    </tr>\n",
       "    <tr>\n",
       "      <td id=\"T_e98c9_row6_col0\" class=\"data row6 col0\" >WASP-36b</td>\n",
       "      <td id=\"T_e98c9_row6_col1\" class=\"data row6 col1\" >WASP-36 is a yellow main sequence star in the Hydra constellation.</td>\n",
       "      <td id=\"T_e98c9_row6_col2\" class=\"data row6 col2\" >The information provided does not give enough details to definitively assert that WASP-36b is a planet. While it is mentioned that WASP-36 is a star and WASP-36b could potentially be in orbit around it, there is no information about WASP-36b's mass, shape, or whether it is a star or a satellite of a planet. Therefore, based solely on the provided definition and information, we cannot confirm that WASP-36b is a planet.</td>\n",
       "    </tr>\n",
       "    <tr>\n",
       "      <td id=\"T_e98c9_row7_col0\" class=\"data row7 col0\" >61 Virginis d</td>\n",
       "      <td id=\"T_e98c9_row7_col1\" class=\"data row7 col1\" >61 Virginis (abbreviated 61 Vir) is the Flamsteed designation of a G-type main-sequence star (G7V) slightly less massive than the Sun (which has a hotter G2V spectral type), located 27.8 light-years (8.5 parsecs) away in the constellation of Virgo. The composition of this star is nearly identical to the Sun.\n",
       "61 Virginis (G7V) is the first well-established main-sequence star very similar to the Sun with a potential super-Earth, though it was preceded by CoRoT-7 (a borderline orange dwarf).</td>\n",
       "      <td id=\"T_e98c9_row7_col2\" class=\"data row7 col2\" >The text does not provide sufficient information to assert that 61 Virginis d is a planet. The text describes 61 Virginis as a star, but does not provide any information about 61 Virginis d, such as its shape, its mass, or its orbit, which are necessary to determine if it is a planet according to the provided definition.</td>\n",
       "    </tr>\n",
       "    <tr>\n",
       "      <td id=\"T_e98c9_row8_col0\" class=\"data row8 col0\" >Kepler-408b</td>\n",
       "      <td id=\"T_e98c9_row8_col1\" class=\"data row8 col1\" >HD 176693, also known as Kepler-408, is a F-type main-sequence star about 290 light-years away. The star is older than the Sun, at 7.15 billion years. It is slightly and uniformly depleted in heavy elements compared to the Sun, having about 75% of the solar abundance of iron and other heavy elements.HD 176693 is a chromospherically inactive star, although there is weak evidence for tidal spin-up due to star-planet interaction.Multiplicity surveys did not detect any stellar companions to HD 176693 by 2016.</td>\n",
       "      <td id=\"T_e98c9_row8_col2\" class=\"data row8 col2\" >The text does not provide sufficient information to assert that Kepler-408b is a planet. The description only provides information about the star HD 176693, also known as Kepler-408, but does not provide any information about Kepler-408b, such as its shape, mass, or whether it orbits a star. Therefore, based on the provided information, we cannot determine if Kepler-408b meets the definition of a planet.</td>\n",
       "    </tr>\n",
       "    <tr>\n",
       "      <td id=\"T_e98c9_row9_col0\" class=\"data row9 col0\" >Kepler-1632b</td>\n",
       "      <td id=\"T_e98c9_row9_col1\" class=\"data row9 col1\" >This is a list of exoplanets discovered in 2016.\n",
       "For exoplanets detected only by radial velocity, the mass value is actually a lower limit. (See Minimum mass for more information)</td>\n",
       "      <td id=\"T_e98c9_row9_col2\" class=\"data row9 col2\" >The text does not provide sufficient information to argue that Kepler-1632b is a planet. The definition of a planet is given, but no specific details are provided about Kepler-1632b that would allow us to categorize it as a planet according to the given definition.</td>\n",
       "    </tr>\n",
       "    <tr>\n",
       "      <td id=\"T_e98c9_row10_col0\" class=\"data row10 col0\" >Lacaille 9352 b</td>\n",
       "      <td id=\"T_e98c9_row10_col1\" class=\"data row10 col1\" >Lacaille 9352 (Lac 9352) is a red dwarf star in the southern constellation of Piscis Austrinus. With an apparent visual magnitude of 7.34, this star is too faint to be viewed with the naked eye except possibly under excellent seeing conditions. Parallax measurements place it at a distance of about 10.74 light-years (3.29 parsecs) from Earth. It is the eleventh closest star system to the Solar System and is the closest star in the constellation Piscis Austrinus. The ChView simulation shows that its closest neighbour is the EZ Aquarii triple star system at about 4.1 ly away.</td>\n",
       "      <td id=\"T_e98c9_row10_col2\" class=\"data row10 col2\" >The provided description does not provide sufficient information to assert that Lacaille 9352 b is a planet. The description only mentions that Lacaille 9352 is a red dwarf star, but does not provide any information about Lacaille 9352 b's mass, shape, or its orbit around a star. Therefore, based on the given definition of a planet, we cannot conclude that Lacaille 9352 b is a planet.</td>\n",
       "    </tr>\n",
       "    <tr>\n",
       "      <td id=\"T_e98c9_row11_col0\" class=\"data row11 col0\" >TOI-700 c</td>\n",
       "      <td id=\"T_e98c9_row11_col1\" class=\"data row11 col1\" >TOI-700 is a red dwarf 101.4 light-years away from Earth located in the Dorado constellation that hosts TOI-700 d, the first Earth-sized exoplanet in the habitable zone discovered by the Transiting Exoplanet Survey Satellite (TESS).</td>\n",
       "      <td id=\"T_e98c9_row11_col2\" class=\"data row11 col2\" >The description does not provide enough information to definitively assert that TOI-700 c is a planet. While it is mentioned that TOI-700 c is associated with a star (TOI-700), there is no information about its shape, mass, or whether it is a star or a satellite of a planet. Therefore, based solely on the provided definition and description, we cannot confirm that TOI-700 c is a planet.</td>\n",
       "    </tr>\n",
       "    <tr>\n",
       "      <td id=\"T_e98c9_row12_col0\" class=\"data row12 col0\" >Kepler-56d</td>\n",
       "      <td id=\"T_e98c9_row12_col1\" class=\"data row12 col1\" >Kepler-56 is a red giant in constellation Cygnus roughly 3,060 light-years (940 pc) away with slightly more mass than the Sun.</td>\n",
       "      <td id=\"T_e98c9_row12_col2\" class=\"data row12 col2\" >The assertion that Kepler-56d is a planet cannot be confirmed or denied based on the provided information. The definition of a planet requires it to have a nearly round shape due to its self-gravity, to be in orbit around a star, and not to be a star itself or a satellite of a planet. The description of Kepler-56d only provides information about Kepler-56, which is a red giant star, not Kepler-56d. Therefore, without additional information about Kepler-56d, we cannot determine whether it meets the criteria to be classified as a planet.</td>\n",
       "    </tr>\n",
       "  </tbody>\n",
       "</table>\n"
      ],
      "text/plain": [
       "<pandas.io.formats.style.Styler at 0x16a3c7f10>"
      ]
     },
     "metadata": {},
     "output_type": "display_data"
    },
    {
     "data": {
      "text/markdown": [
       "#### False positives"
      ],
      "text/plain": [
       "<IPython.core.display.Markdown object>"
      ]
     },
     "metadata": {},
     "output_type": "display_data"
    },
    {
     "data": {
      "text/html": [
       "<style type=\"text/css\">\n",
       "#T_2483f_row0_col0, #T_2483f_row0_col1, #T_2483f_row0_col2, #T_2483f_row1_col0, #T_2483f_row1_col1, #T_2483f_row1_col2, #T_2483f_row2_col0, #T_2483f_row2_col1, #T_2483f_row2_col2, #T_2483f_row3_col0, #T_2483f_row3_col1, #T_2483f_row3_col2, #T_2483f_row4_col0, #T_2483f_row4_col1, #T_2483f_row4_col2, #T_2483f_row5_col0, #T_2483f_row5_col1, #T_2483f_row5_col2, #T_2483f_row6_col0, #T_2483f_row6_col1, #T_2483f_row6_col2, #T_2483f_row7_col0, #T_2483f_row7_col1, #T_2483f_row7_col2, #T_2483f_row8_col0, #T_2483f_row8_col1, #T_2483f_row8_col2, #T_2483f_row9_col0, #T_2483f_row9_col1, #T_2483f_row9_col2 {\n",
       "  text-align: left;\n",
       "  vertical-align: top;\n",
       "  overflow-wrap: break-word;\n",
       "}\n",
       "</style>\n",
       "<table id=\"T_2483f\">\n",
       "  <thead>\n",
       "    <tr>\n",
       "      <th id=\"T_2483f_level0_col0\" class=\"col_heading level0 col0\" >name</th>\n",
       "      <th id=\"T_2483f_level0_col1\" class=\"col_heading level0 col1\" >description</th>\n",
       "      <th id=\"T_2483f_level0_col2\" class=\"col_heading level0 col2\" >rationale</th>\n",
       "    </tr>\n",
       "  </thead>\n",
       "  <tbody>\n",
       "    <tr>\n",
       "      <td id=\"T_2483f_row0_col0\" class=\"data row0 col0\" >PSR B1620−26 b</td>\n",
       "      <td id=\"T_2483f_row0_col1\" class=\"data row0 col1\" >PSR B1620−26 b is an exoplanet located approximately 12,400 light-years from Earth in the constellation of Scorpius. It bears the unofficial nicknames \\\"Methuselah\\\" and \\\"the Genesis planet\\\" (named after the Biblical character Methuselah, who, according to the Bible, lived to be the oldest person) due to its extreme age.  The planet is in a circumbinary orbit around the two stars of PSR B1620−26 (which are a pulsar (PSR B1620−26 A) and a white dwarf (WD B1620-26)) and is the first circumbinary planet ever confirmed. It is also the first planet found in a globular cluster. The planet is one of the oldest known extrasolar planets, believed to be about 12.7 billion years old.</td>\n",
       "      <td id=\"T_2483f_row0_col2\" class=\"data row0 col2\" >PSR B1620−26 b can be classified as a planet based on the provided definition. Firstly, it is a celestial body that has a nearly round shape, indicating that it has sufficient mass for its self-gravity to overcome rigid body forces and achieve hydrostatic equilibrium. Secondly, it is in orbit around two stars, PSR B1620−26 A and WD B1620-26, which satisfies the condition of being in orbit around a star. Lastly, it is neither a star itself nor a satellite of another planet. Therefore, according to the given definition, PSR B1620−26 b can be considered a planet.</td>\n",
       "    </tr>\n",
       "    <tr>\n",
       "      <td id=\"T_2483f_row1_col0\" class=\"data row1 col0\" >K2-33b</td>\n",
       "      <td id=\"T_2483f_row1_col1\" class=\"data row1 col1\" >K2-33b (also known by its EPIC designation EPIC 205117205.01) is a very young super-Neptune exoplanet, orbiting the pre-main-sequence star K2-33. It was discovered by NASA's Kepler spacecraft on its \\\"Second Light\\\" mission. It is located about 456 light-years (140 parsecs) away from Earth in the constellation of Scorpius. The exoplanet was found by using the transit method, in which the dimming effect that a planet causes as it crosses in front of its star is measured. \n",
       "Among known exoplanets, K2-33b is considered extremely young − a mere 9.3 million years old. Only one other exoplanet is younger, with an age of 2 Myr (V830 Tau b).</td>\n",
       "      <td id=\"T_2483f_row1_col2\" class=\"data row1 col2\" >K2-33b can be considered a planet based on the provided definition for several reasons. Firstly, it is a celestial body that has sufficient mass to assume a hydrostatic equilibrium shape, as indicated by its classification as a super-Neptune exoplanet. Secondly, it is in orbit around a star, specifically the pre-main-sequence star K2-33. Lastly, it is neither a star itself nor a satellite of a planet. Therefore, based on the given definition, K2-33b can be classified as a planet.</td>\n",
       "    </tr>\n",
       "    <tr>\n",
       "      <td id=\"T_2483f_row2_col0\" class=\"data row2 col0\" >HD 206610 b</td>\n",
       "      <td id=\"T_2483f_row2_col1\" class=\"data row2 col1\" >HD 206610 b is an extrasolar planet orbiting the K-type star Bosona (HD 206610) approximately 633 light years away in the constellation Aquarius.The planet HD 206610 b is named Naron. The name was selected in the NameExoWorlds campaigns by Bosnia and Herzegovina during the 100th anniversary of the IAU. Naron is one of the names given to the Neretva river in Herzegovina originating with the Celts who called it Nera Etwa which means the Flowing Divinity. The host star HD 206610 is called Bosona. Bosona is the name given to the territory of Bosnia in the 10th century.</td>\n",
       "      <td id=\"T_2483f_row2_col2\" class=\"data row2 col2\" >The description of HD 206610 b indicates that it is a celestial body that is in orbit around a star, specifically the K-type star Bosona (HD 206610). This aligns with part (b) of the definition of a planet. While the description does not explicitly state that HD 206610 b has sufficient mass for its self-gravity to overcome rigid body forces so that it assumes a hydrostatic equilibrium (nearly round) shape, the fact that it is referred to as a planet suggests that it meets this criterion as well. Therefore, based on the provided definition, it can be argued that HD 206610 b is indeed a planet.</td>\n",
       "    </tr>\n",
       "    <tr>\n",
       "      <td id=\"T_2483f_row3_col0\" class=\"data row3 col0\" >Kepler-28b</td>\n",
       "      <td id=\"T_2483f_row3_col1\" class=\"data row3 col1\" >Kepler-28b is an extrasolar planet orbiting the star Kepler-28. It is a transiting planet that is smaller than Jupiter that orbits very closely to Kepler-28.</td>\n",
       "      <td id=\"T_2483f_row3_col2\" class=\"data row3 col2\" >The definition of a planet states that it is a celestial body that has sufficient mass to assume a nearly round shape due to its self-gravity and is in orbit around a star, but is not a star itself or a satellite of another planet. The description of Kepler-28b indicates that it is an extrasolar planet orbiting the star Kepler-28. It is also mentioned that Kepler-28b is smaller than Jupiter, implying it has a significant mass, and it is not stated to be a star or a satellite of another planet. Therefore, based on the provided definition and the description of Kepler-28b, it can be argued that Kepler-28b is a planet.</td>\n",
       "    </tr>\n",
       "    <tr>\n",
       "      <td id=\"T_2483f_row4_col0\" class=\"data row4 col0\" >HD 11964 c</td>\n",
       "      <td id=\"T_2483f_row4_col1\" class=\"data row4 col1\" >HD 11964 c is an extrasolar planet approximately 110 light-years away in the constellation of Cetus.  The planet was discovered in a close-orbit around the yellow subgiant star HD 11964.  The planet has a minimum mass 35 times the mass of Earth and is located in a mildly eccentric orbit which takes almost 38 days to complete. HD 11964 c was a possible planet discovered on the same day as HD 11964 b in 2005. HD 11964 c was first proposed in a paper published in 2007, and finally confirmed with new data presented in a review of multi-planet systems which appeared on the arXiv preprint website in 2008.Some sources have used the designation \\\"HD 11964 b\\\" for this planet, however in their review of the properties of multi-planet extrasolar planetary systems, the discovery team has stated that the correct designation for this planet is HD 11964 c and the reversed system was due to confusion related to private communications between various groups of astronomers.</td>\n",
       "      <td id=\"T_2483f_row4_col2\" class=\"data row4 col2\" >HD 11964 c fits the definition of a planet as it is a celestial body that is in orbit around a star, specifically the yellow subgiant star HD 11964. The description does not explicitly state that HD 11964 c has a nearly round shape due to its self-gravity overcoming rigid body forces, but it can be inferred from the fact that it has a minimum mass 35 times the mass of Earth, which is sufficient for self-gravity to overcome rigid body forces. Furthermore, HD 11964 c is neither a star nor a satellite of a planet, which aligns with the definition of a planet. Therefore, based on the provided definition, HD 11964 c can be classified as a planet.</td>\n",
       "    </tr>\n",
       "    <tr>\n",
       "      <td id=\"T_2483f_row5_col0\" class=\"data row5 col0\" >HD 192310 b</td>\n",
       "      <td id=\"T_2483f_row5_col1\" class=\"data row5 col1\" >HD 192310 b is an exoplanet orbiting the star HD 192310 (HR 7722). It orbits its parent star with a semimajor axis of 0.32 ± 0.005 AU, an eccentricity of 0.13 ± 0.04. and an orbital period of 74.72 days.The Neptune-sized planet has at least 21 times the mass of Earth and 3 to 4 times its diameter.\n",
       "HD 192310 b was discovered on 1 November 2010 and lies within the inner edge of the habitable zone of HD 192310.</td>\n",
       "      <td id=\"T_2483f_row5_col2\" class=\"data row5 col2\" >HD 192310 b fits the definition of a planet as it is a celestial body that has sufficient mass to assume a hydrostatic equilibrium shape, as indicated by its comparison to Neptune and Earth in terms of mass and diameter. This suggests that its self-gravity has overcome rigid body forces. Additionally, it is in orbit around a star, specifically HD 192310, and is not a star itself or a satellite of another planet. Therefore, based on the provided definition, HD 192310 b can be classified as a planet.</td>\n",
       "    </tr>\n",
       "    <tr>\n",
       "      <td id=\"T_2483f_row6_col0\" class=\"data row6 col0\" >(523639) 2010 RE64</td>\n",
       "      <td id=\"T_2483f_row6_col1\" class=\"data row6 col1\" >(523639) 2010 RE64, provisional designation 2010 RE64, is a trans-Neptunian object in the scattered disc located in the outermost region of the Solar System, approximately 570 kilometers (350 miles) in diameter. It was discovered on 11 July 2010 by the Pan-STARRS-1 survey at the Haleakala Observatory, Hawaii, in the United States.</td>\n",
       "      <td id=\"T_2483f_row6_col2\" class=\"data row6 col2\" >The definition of a planet states that it must be a celestial body that has sufficient mass for its self-gravity to overcome rigid body forces so that it assumes a hydrostatic equilibrium (nearly round) shape, and is in orbit around a star, and is neither a star nor a satellite of a planet. \n",
       "\n",
       "The description of (523639) 2010 RE64 states that it is a trans-Neptunian object in the scattered disc located in the outermost region of the Solar System, approximately 570 kilometers (350 miles) in diameter. It was discovered on 11 July 2010 by the Pan-STARRS-1 survey at the Haleakala Observatory, Hawaii, in the United States.\n",
       "\n",
       "From this information, we can infer that (523639) 2010 RE64 is in orbit around a star (the Sun, as it is located in the Solar System), and it is not a star itself or a satellite of a planet. Its size (570 kilometers in diameter) suggests that it has sufficient mass to overcome rigid body forces and assume a nearly round shape, although the description does not explicitly state this. Therefore, based on the provided definition and the information in the description, it can be argued that (523639) 2010 RE64 is a planet.</td>\n",
       "    </tr>\n",
       "    <tr>\n",
       "      <td id=\"T_2483f_row7_col0\" class=\"data row7 col0\" >Pi Mensae b</td>\n",
       "      <td id=\"T_2483f_row7_col1\" class=\"data row7 col1\" >Pi Mensae b (π Men b, π Mensae b), also known as HD 39091 b, is an extrasolar planet approximately 60 light-years away in the constellation of Mensa.  The planet was announced orbiting the yellow main-sequence star Pi Mensae in October 2001.</td>\n",
       "      <td id=\"T_2483f_row7_col2\" class=\"data row7 col2\" >The description of Pi Mensae b indicates that it is an extrasolar planet, which means it is a celestial body. It is also mentioned that it is in orbit around a star, specifically the yellow main-sequence star Pi Mensae. This aligns with the definition of a planet that states it must be in orbit around a star. While the description does not explicitly state that Pi Mensae b has sufficient mass for its self-gravity to overcome rigid body forces so that it assumes a hydrostatic equilibrium (nearly round) shape, the term \"planet\" implies this characteristic. Additionally, the description does not classify Pi Mensae b as a star or a satellite of a planet, which further supports the assertion that Pi Mensae b is a planet according to the provided definition.</td>\n",
       "    </tr>\n",
       "    <tr>\n",
       "      <td id=\"T_2483f_row8_col0\" class=\"data row8 col0\" >Kepler-167c</td>\n",
       "      <td id=\"T_2483f_row8_col1\" class=\"data row8 col1\" >Kepler-167 is a K-type main-sequence star located about 1,119 light-years (343 pc) away from the Solar System in the constellation of Cygnus. The star has about 78% the mass and 75% the radius of the Sun, and a temperature of 4,884 K (4,611 °C; 8,332 °F). It hosts a system of four known exoplanets. There is also a companion red dwarf star at a separation of about 700 AU, with an estimated orbital period of over 15,000 years.</td>\n",
       "      <td id=\"T_2483f_row8_col2\" class=\"data row8 col2\" >The description of Kepler-167c indicates that it is one of four known exoplanets in the system of the star Kepler-167. By definition, an exoplanet is a planet that orbits a star outside the solar system. Therefore, Kepler-167c meets the criteria of being in orbit around a star. The description does not explicitly state that Kepler-167c has sufficient mass to overcome rigid body forces and assume a nearly round shape, nor does it state that it is not a star or a satellite of a planet. However, by being classified as an exoplanet, it is implied that Kepler-167c meets these criteria as well. Therefore, based on the provided definition and the information in the description, it can be argued that Kepler-167c is a planet.</td>\n",
       "    </tr>\n",
       "    <tr>\n",
       "      <td id=\"T_2483f_row9_col0\" class=\"data row9 col0\" >Tau Ceti h</td>\n",
       "      <td id=\"T_2483f_row9_col1\" class=\"data row9 col1\" >Tau Ceti, Latinized from τ Ceti, is a single star in the constellation Cetus that is spectrally similar to the Sun, although it has only about 78% of the Sun's mass. At a distance of just under 12 light-years (3.7 parsecs) from the Solar System, it is a relatively nearby star and the closest solitary G-class star. The star appears stable, with little stellar variation, and is metal-deficient relative to the Sun.\n",
       "It can be seen with the unaided eye with an apparent magnitude of 3.5. As seen from Tau Ceti, the Sun would be in the northern hemisphere constellation Boötes with an apparent magnitude of about 2.6.Observations have detected more than ten times as much dust surrounding Tau Ceti as is present in the Solar System. Since December 2012, there has been evidence of at least four planets—all likely super-Earths—orbiting Tau Ceti, and two of these are potentially in the habitable zone. There is evidence of up to an additional four unconfirmed planets, one of which would be a Jovian planet between 3 and 20 AU from the star. Because of its debris disk, any planet orbiting Tau Ceti would face far more impact events than Earth. Despite this hurdle to habitability, its solar analog (Sun-like) characteristics have led to widespread interest in the star. Given its stability, similarity and relative proximity to the Sun, Tau Ceti is consistently listed as a target for the search for extraterrestrial intelligence (SETI) and appears in some science fiction literature.</td>\n",
       "      <td id=\"T_2483f_row9_col2\" class=\"data row9 col2\" >The description of Tau Ceti h provides evidence that it meets the criteria outlined in the definition of a planet. Firstly, it is mentioned that Tau Ceti h is in orbit around a star, Tau Ceti, which satisfies the second part of the planet definition. Secondly, while the description does not explicitly state that Tau Ceti h has sufficient mass to overcome rigid body forces and assume a hydrostatic equilibrium shape, it is referred to as a \"super-Earth\", which implies that it is a larger version of Earth, a known planet. This suggests that Tau Ceti h likely has sufficient mass to meet the first part of the planet definition. Therefore, based on the provided information, it can be argued that Tau Ceti h is a planet.</td>\n",
       "    </tr>\n",
       "  </tbody>\n",
       "</table>\n"
      ],
      "text/plain": [
       "<pandas.io.formats.style.Styler at 0x1190f1850>"
      ]
     },
     "metadata": {},
     "output_type": "display_data"
    }
   ],
   "source": [
    "display_errors(iau_2006_8_16_planet, iau_2006_8_16_planet_results)"
   ]
  },
  {
   "cell_type": "code",
   "execution_count": 19,
   "metadata": {},
   "outputs": [
    {
     "data": {
      "text/markdown": [
       "### planet (IAU 2006-08-24)"
      ],
      "text/plain": [
       "<IPython.core.display.Markdown object>"
      ]
     },
     "metadata": {},
     "output_type": "display_data"
    },
    {
     "data": {
      "text/markdown": [
       "#### Definition"
      ],
      "text/plain": [
       "<IPython.core.display.Markdown object>"
      ]
     },
     "metadata": {},
     "output_type": "display_data"
    },
    {
     "data": {
      "text/markdown": [
       "A planet [1] is a celestial body that (a) is in orbit around the Sun, (b) has sufficient \n",
       "mass for its self-gravity to overcome rigid body forces so that it assumes a hydrostatic \n",
       "equilibrium (nearly round) shape, and (c) has cleared the neighbourhood around its orbit."
      ],
      "text/plain": [
       "<IPython.core.display.Markdown object>"
      ]
     },
     "metadata": {},
     "output_type": "display_data"
    },
    {
     "data": {
      "text/markdown": [
       "#### False negatives"
      ],
      "text/plain": [
       "<IPython.core.display.Markdown object>"
      ]
     },
     "metadata": {},
     "output_type": "display_data"
    },
    {
     "data": {
      "text/html": [
       "<style type=\"text/css\">\n",
       "#T_17344_row0_col0, #T_17344_row0_col1, #T_17344_row0_col2, #T_17344_row1_col0, #T_17344_row1_col1, #T_17344_row1_col2, #T_17344_row2_col0, #T_17344_row2_col1, #T_17344_row2_col2, #T_17344_row3_col0, #T_17344_row3_col1, #T_17344_row3_col2, #T_17344_row4_col0, #T_17344_row4_col1, #T_17344_row4_col2, #T_17344_row5_col0, #T_17344_row5_col1, #T_17344_row5_col2, #T_17344_row6_col0, #T_17344_row6_col1, #T_17344_row6_col2, #T_17344_row7_col0, #T_17344_row7_col1, #T_17344_row7_col2, #T_17344_row8_col0, #T_17344_row8_col1, #T_17344_row8_col2, #T_17344_row9_col0, #T_17344_row9_col1, #T_17344_row9_col2, #T_17344_row10_col0, #T_17344_row10_col1, #T_17344_row10_col2, #T_17344_row11_col0, #T_17344_row11_col1, #T_17344_row11_col2, #T_17344_row12_col0, #T_17344_row12_col1, #T_17344_row12_col2, #T_17344_row13_col0, #T_17344_row13_col1, #T_17344_row13_col2, #T_17344_row14_col0, #T_17344_row14_col1, #T_17344_row14_col2, #T_17344_row15_col0, #T_17344_row15_col1, #T_17344_row15_col2, #T_17344_row16_col0, #T_17344_row16_col1, #T_17344_row16_col2 {\n",
       "  text-align: left;\n",
       "  vertical-align: top;\n",
       "  overflow-wrap: break-word;\n",
       "}\n",
       "</style>\n",
       "<table id=\"T_17344\">\n",
       "  <thead>\n",
       "    <tr>\n",
       "      <th id=\"T_17344_level0_col0\" class=\"col_heading level0 col0\" >name</th>\n",
       "      <th id=\"T_17344_level0_col1\" class=\"col_heading level0 col1\" >description</th>\n",
       "      <th id=\"T_17344_level0_col2\" class=\"col_heading level0 col2\" >rationale</th>\n",
       "    </tr>\n",
       "  </thead>\n",
       "  <tbody>\n",
       "    <tr>\n",
       "      <td id=\"T_17344_row0_col0\" class=\"data row0 col0\" >Beta Ursae Minoris b</td>\n",
       "      <td id=\"T_17344_row0_col1\" class=\"data row0 col1\" >Kochab , Bayer designation Beta Ursae Minoris (β Ursae Minoris, abbreviated β UMi, Beta UMi), is the brightest star in the bowl of the Little Dipper asterism (which is part of the constellation of Ursa Minor), and only slightly fainter than Polaris, the northern pole star and brightest star in Ursa Minor. Kochab is 16 degrees from Polaris and has an apparent visual magnitude of 2.08. The distance to this star from the Sun can be deduced from the parallax measurements made during the Hipparcos mission, yielding a value of 130.9 light-years (40.1 parsecs).Amateur astronomers can use Kochab as a precise guide for equatorial mount alignment: The celestial north pole is located 38 arcminutes away from Polaris, very close to the line connecting Polaris with Kochab.</td>\n",
       "      <td id=\"T_17344_row0_col2\" class=\"data row0 col2\" >The provided description does not provide sufficient information to assert that Beta Ursae Minoris b is a planet. The description primarily focuses on its brightness, location, and use for astronomical navigation. It does not provide information about whether Beta Ursae Minoris b orbits the Sun, has sufficient mass to assume a hydrostatic equilibrium shape, or has cleared its orbit's neighbourhood, which are the criteria outlined in the definition for a celestial body to be considered a planet. Therefore, based on the given information, we cannot argue that Beta Ursae Minoris b is a planet.</td>\n",
       "    </tr>\n",
       "    <tr>\n",
       "      <td id=\"T_17344_row1_col0\" class=\"data row1 col0\" >WASP-57b</td>\n",
       "      <td id=\"T_17344_row1_col1\" class=\"data row1 col1\" >WASP-57 is a single G-type main-sequence star about 1310 light-years away. WASP-57 is depleted in heavy elements, having 55% of the solar abundance of iron. WASP-57 is much younger than the Sun at 0.957±0.518 billion years.A multiplicity survey in 2015 did not detect any stellar companions to WASP-57.</td>\n",
       "      <td id=\"T_17344_row1_col2\" class=\"data row1 col2\" >The provided description does not provide sufficient information to assert that WASP-57b is a planet. The description only provides information about the star WASP-57, not about any celestial bodies orbiting it. To determine if WASP-57b is a planet, we would need information about its orbit around the star, its mass and shape, and whether it has cleared its orbit of other debris. Without this information, we cannot definitively classify WASP-57b as a planet.</td>\n",
       "    </tr>\n",
       "    <tr>\n",
       "      <td id=\"T_17344_row2_col0\" class=\"data row2 col0\" >HD 86226 c</td>\n",
       "      <td id=\"T_17344_row2_col1\" class=\"data row2 col1\" >HD 86226 is a G-type yellowish white star found in the constellation of Hydra.\n",
       "A survey in 2015 has ruled out the existence of any stellar companions at projected distances above 12 astronomical units.Radio emission at a frequency of 150 MHz has been tentatively detected from the proximity of this system, although it is not clear whether the star or a satellite orbiting a rapidly rotating planet is the source.</td>\n",
       "      <td id=\"T_17344_row2_col2\" class=\"data row2 col2\" >The provided description does not provide enough information to definitively assert that HD 86226 c is a planet. The description mentions that HD 86226 is a star and that there may be a satellite orbiting a rapidly rotating planet in the system, but it does not specify whether HD 86226 c is that planet or provide any details about its characteristics. Therefore, based solely on the provided information, we cannot determine if HD 86226 c meets the criteria outlined in the definition of a planet.</td>\n",
       "    </tr>\n",
       "    <tr>\n",
       "      <td id=\"T_17344_row3_col0\" class=\"data row3 col0\" >HD 79498 b</td>\n",
       "      <td id=\"T_17344_row3_col1\" class=\"data row3 col1\" >HD 79498 is a primary of the star system located  159 light years away in the constellation Cancer. This G5 main sequence star has an apparent magnitude of 8.0 and is about the same size and mass as the Sun. It has a higher than solar abundance of elements other than hydrogen and helium; what astronomers term a metal-rich star.The secondary star of the star system is the BD+23 2063 B located on the projected separation of the 2900 AU from the primary. It is a red dwarf of spectral class M0.</td>\n",
       "      <td id=\"T_17344_row3_col2\" class=\"data row3 col2\" >The provided description does not provide enough information to definitively assert that HD 79498 b is a planet. The description mentions that HD 79498 is a star system with a primary star and a secondary star, but it does not provide any information about any celestial bodies in orbit around these stars. Therefore, based on the provided definition of a planet and the information given, we cannot argue that HD 79498 b is a planet.</td>\n",
       "    </tr>\n",
       "    <tr>\n",
       "      <td id=\"T_17344_row4_col0\" class=\"data row4 col0\" >Kepler-167e</td>\n",
       "      <td id=\"T_17344_row4_col1\" class=\"data row4 col1\" >Kepler-167 is a K-type main-sequence star located about 1,119 light-years (343 pc) away from the Solar System in the constellation of Cygnus. The star has about 78% the mass and 75% the radius of the Sun, and a temperature of 4,884 K (4,611 °C; 8,332 °F). It hosts a system of four known exoplanets. There is also a companion red dwarf star at a separation of about 700 AU, with an estimated orbital period of over 15,000 years.</td>\n",
       "      <td id=\"T_17344_row4_col2\" class=\"data row4 col2\" >The description of Kepler-167e does not provide enough specific information to definitively assert that it is a planet based on the provided definition. While it is mentioned that Kepler-167e is one of four known exoplanets in the system of the star Kepler-167, the description does not explicitly state that Kepler-167e is in orbit around the Sun, has sufficient mass for its self-gravity to overcome rigid body forces so that it assumes a hydrostatic equilibrium shape, and has cleared the neighbourhood around its orbit. Therefore, based solely on the provided definition and description, a conclusive argument cannot be made that Kepler-167e is a planet.</td>\n",
       "    </tr>\n",
       "    <tr>\n",
       "      <td id=\"T_17344_row5_col0\" class=\"data row5 col0\" >Pi Mensae d</td>\n",
       "      <td id=\"T_17344_row5_col1\" class=\"data row5 col1\" >Pi Mensae (π Men), also known as HD 39091, is a yellow dwarf star in the constellation of Mensa. This star has a high proper motion. The apparent magnitude is 5.67, which can be visible to the naked eye in exceptionally dark, clear skies. It is nearly 60 light-years away. The star is slightly larger than the Sun in terms of mass, size, luminosity, temperature and metallicity, and is about 730 million years younger. It hosts three known planets.</td>\n",
       "      <td id=\"T_17344_row5_col2\" class=\"data row5 col2\" >The description does not provide enough specific information about Pi Mensae d to definitively argue that it is a planet based on the provided definition. While it is mentioned that Pi Mensae d is one of three known planets orbiting the star HD 39091, the description does not provide details about its orbit around the Sun, its mass and shape, or whether it has cleared the neighbourhood around its orbit. Therefore, based solely on the provided information, a conclusive argument cannot be made that Pi Mensae d is a planet.</td>\n",
       "    </tr>\n",
       "    <tr>\n",
       "      <td id=\"T_17344_row6_col0\" class=\"data row6 col0\" >HAT-P-50b</td>\n",
       "      <td id=\"T_17344_row6_col1\" class=\"data row6 col1\" >HAT-P-50b is an exoplanet orbiting HAT-P-50 star located in the Gemini constellation. It was discovered in 2015.</td>\n",
       "      <td id=\"T_17344_row6_col2\" class=\"data row6 col2\" >The definition of a planet states that it must be a celestial body in orbit around the Sun, have sufficient mass to assume a hydrostatic equilibrium shape, and have cleared the neighbourhood around its orbit. However, the description of HAT-P-50b only provides information that it is an exoplanet orbiting the HAT-P-50 star. It does not provide information about its mass, shape, or whether it has cleared its orbit. Therefore, based solely on the provided definition and description, we cannot definitively assert that HAT-P-50b is a planet.</td>\n",
       "    </tr>\n",
       "    <tr>\n",
       "      <td id=\"T_17344_row7_col0\" class=\"data row7 col0\" >HD 220074 b</td>\n",
       "      <td id=\"T_17344_row7_col1\" class=\"data row7 col1\" >HD 220074 is a star located in the northern constellation of Cassiopeia, near the western border with Cepheus. It has a reddish hue and is dimly visible to the naked eye, having an apparent visual magnitude of +6.39. The star is located at a distance of approximately 1,070 light years from the Sun based on parallax, but is drifting closer with a radial velocity of −37 km/s.This star was assigned a stellar classification of K1V in the Bright Star Catalogue but is now known to be a red giant with a class of M2III, based on its radius and surface gravity. With the supply of hydrogen at its core exhausted, the star has expanded and cooled off the main sequence. It is around 4.5 billion years old with an estimated mass equal to ~1.2 times the mass of the Sun but 60 times the Sun's radius. The star is radiating 783 times the luminosity of the Sun from its enlarged photosphere at an effective temperature of 3,935 K.</td>\n",
       "      <td id=\"T_17344_row7_col2\" class=\"data row7 col2\" >The provided description does not provide sufficient information to assert that HD 220074 b is a planet. The description only provides information about the star HD 220074, not about any celestial bodies orbiting it. To determine if HD 220074 b is a planet, we would need information confirming that it orbits the star HD 220074, has sufficient mass to maintain a nearly round shape due to its self-gravity, and has cleared its orbit of other debris. Without this information, we cannot definitively classify HD 220074 b as a planet.</td>\n",
       "    </tr>\n",
       "    <tr>\n",
       "      <td id=\"T_17344_row8_col0\" class=\"data row8 col0\" >WASP-36b</td>\n",
       "      <td id=\"T_17344_row8_col1\" class=\"data row8 col1\" >WASP-36 is a yellow main sequence star in the Hydra constellation.</td>\n",
       "      <td id=\"T_17344_row8_col2\" class=\"data row8 col2\" >The provided description does not provide enough information to definitively assert that WASP-36b is a planet. The definition of a planet requires that it orbits the Sun, has sufficient mass to maintain a nearly round shape due to its self-gravity, and has cleared its orbit of other debris. The description of WASP-36b only mentions that it is a celestial body in the Hydra constellation, but does not provide information about its orbit, mass, shape, or the cleanliness of its orbit. Therefore, based solely on the provided information, we cannot assert that WASP-36b is a planet.</td>\n",
       "    </tr>\n",
       "    <tr>\n",
       "      <td id=\"T_17344_row9_col0\" class=\"data row9 col0\" >61 Virginis d</td>\n",
       "      <td id=\"T_17344_row9_col1\" class=\"data row9 col1\" >61 Virginis (abbreviated 61 Vir) is the Flamsteed designation of a G-type main-sequence star (G7V) slightly less massive than the Sun (which has a hotter G2V spectral type), located 27.8 light-years (8.5 parsecs) away in the constellation of Virgo. The composition of this star is nearly identical to the Sun.\n",
       "61 Virginis (G7V) is the first well-established main-sequence star very similar to the Sun with a potential super-Earth, though it was preceded by CoRoT-7 (a borderline orange dwarf).</td>\n",
       "      <td id=\"T_17344_row9_col2\" class=\"data row9 col2\" >The text does not provide sufficient information to assert that 61 Virginis d is a planet. The text describes 61 Virginis as a star, but does not provide information about any celestial bodies in orbit around it, their shape, mass, or whether they have cleared their orbit's neighbourhood. Therefore, based on the provided definition of a planet and the information given, we cannot conclude that 61 Virginis d is a planet.</td>\n",
       "    </tr>\n",
       "    <tr>\n",
       "      <td id=\"T_17344_row10_col0\" class=\"data row10 col0\" >Kepler-408b</td>\n",
       "      <td id=\"T_17344_row10_col1\" class=\"data row10 col1\" >HD 176693, also known as Kepler-408, is a F-type main-sequence star about 290 light-years away. The star is older than the Sun, at 7.15 billion years. It is slightly and uniformly depleted in heavy elements compared to the Sun, having about 75% of the solar abundance of iron and other heavy elements.HD 176693 is a chromospherically inactive star, although there is weak evidence for tidal spin-up due to star-planet interaction.Multiplicity surveys did not detect any stellar companions to HD 176693 by 2016.</td>\n",
       "      <td id=\"T_17344_row10_col2\" class=\"data row10 col2\" >The text does not provide sufficient information to assert that Kepler-408b is a planet. The definition of a planet requires that it orbits the Sun, has sufficient mass to maintain a nearly round shape due to its self-gravity, and has cleared the neighbourhood around its orbit. The description of Kepler-408b only mentions that it is associated with a star (HD 176693 or Kepler-408), but does not provide information about its orbit, mass, shape, or the condition of its orbital neighbourhood. Therefore, based on the provided information, we cannot definitively classify Kepler-408b as a planet.</td>\n",
       "    </tr>\n",
       "    <tr>\n",
       "      <td id=\"T_17344_row11_col0\" class=\"data row11 col0\" >WASP-46b</td>\n",
       "      <td id=\"T_17344_row11_col1\" class=\"data row11 col1\" >WASP-46 is a G-type main-sequence star about 1240 light-years away. The star is older than Sun and is strongly depleted in heavy elements compared to Sun, having just 45% of solar abundance. Despite its advanced age, the star is rotating rapidly, being spun up by the tides raised by giant planet on close orbit.The star is displaying an excess ultraviolet emission associated with starspot activity, and suspected to be surrounded by dust and debris disk.</td>\n",
       "      <td id=\"T_17344_row11_col2\" class=\"data row11 col2\" >The description of WASP-46b does not provide enough information to definitively assert that it is a planet based on the provided definition. The description mentions that WASP-46b is a celestial body in close orbit around a star (WASP-46), which aligns with part (a) of the definition. However, the description does not provide information about WASP-46b's mass, shape, or whether it has cleared the neighbourhood around its orbit, which are necessary criteria according to parts (b) and (c) of the definition. Therefore, without additional information, we cannot definitively assert that WASP-46b is a planet.</td>\n",
       "    </tr>\n",
       "    <tr>\n",
       "      <td id=\"T_17344_row12_col0\" class=\"data row12 col0\" >Kepler-1632b</td>\n",
       "      <td id=\"T_17344_row12_col1\" class=\"data row12 col1\" >This is a list of exoplanets discovered in 2016.\n",
       "For exoplanets detected only by radial velocity, the mass value is actually a lower limit. (See Minimum mass for more information)</td>\n",
       "      <td id=\"T_17344_row12_col2\" class=\"data row12 col2\" >The text does not provide sufficient information to assert that Kepler-1632b is a planet. The definition of a planet requires that it orbits the Sun, has sufficient mass to maintain a nearly round shape, and has cleared its orbit of other debris. The description of Kepler-1632b does not provide any information regarding these criteria. Therefore, based on the given information, we cannot definitively classify Kepler-1632b as a planet.</td>\n",
       "    </tr>\n",
       "    <tr>\n",
       "      <td id=\"T_17344_row13_col0\" class=\"data row13 col0\" >Lacaille 9352 b</td>\n",
       "      <td id=\"T_17344_row13_col1\" class=\"data row13 col1\" >Lacaille 9352 (Lac 9352) is a red dwarf star in the southern constellation of Piscis Austrinus. With an apparent visual magnitude of 7.34, this star is too faint to be viewed with the naked eye except possibly under excellent seeing conditions. Parallax measurements place it at a distance of about 10.74 light-years (3.29 parsecs) from Earth. It is the eleventh closest star system to the Solar System and is the closest star in the constellation Piscis Austrinus. The ChView simulation shows that its closest neighbour is the EZ Aquarii triple star system at about 4.1 ly away.</td>\n",
       "      <td id=\"T_17344_row13_col2\" class=\"data row13 col2\" >The provided description does not provide sufficient information to assert that Lacaille 9352 b is a planet. The description only provides information about Lacaille 9352, a red dwarf star, and its location relative to Earth and other star systems. It does not provide any information about Lacaille 9352 b's orbit around the Sun, its mass and shape, or whether it has cleared the neighbourhood around its orbit, which are the criteria outlined in the definition for a celestial body to be considered a planet. Therefore, based on the provided information, we cannot argue that Lacaille 9352 b is a planet.</td>\n",
       "    </tr>\n",
       "    <tr>\n",
       "      <td id=\"T_17344_row14_col0\" class=\"data row14 col0\" >TOI-700 c</td>\n",
       "      <td id=\"T_17344_row14_col1\" class=\"data row14 col1\" >TOI-700 is a red dwarf 101.4 light-years away from Earth located in the Dorado constellation that hosts TOI-700 d, the first Earth-sized exoplanet in the habitable zone discovered by the Transiting Exoplanet Survey Satellite (TESS).</td>\n",
       "      <td id=\"T_17344_row14_col2\" class=\"data row14 col2\" >The text does not provide sufficient information to assert that TOI-700 c is a planet. The definition of a planet requires that it orbits the Sun, has sufficient mass to maintain a nearly round shape due to its self-gravity, and has cleared its orbit's neighbourhood. The description of TOI-700 c only mentions that it is an exoplanet discovered by TESS and is located in the habitable zone of a red dwarf star named TOI-700, which is 101.4 light-years away from Earth. It does not provide information about its orbit, shape, or whether it has cleared its orbit's neighbourhood. Furthermore, it orbits a star other than the Sun, which contradicts the given definition of a planet. Therefore, based on the provided definition and information, we cannot assert that TOI-700 c is a planet.</td>\n",
       "    </tr>\n",
       "    <tr>\n",
       "      <td id=\"T_17344_row15_col0\" class=\"data row15 col0\" >Kepler-56d</td>\n",
       "      <td id=\"T_17344_row15_col1\" class=\"data row15 col1\" >Kepler-56 is a red giant in constellation Cygnus roughly 3,060 light-years (940 pc) away with slightly more mass than the Sun.</td>\n",
       "      <td id=\"T_17344_row15_col2\" class=\"data row15 col2\" >The provided description does not provide enough information to definitively assert that Kepler-56d is a planet. The definition of a planet requires that the celestial body is in orbit around the Sun, has sufficient mass for self-gravity to overcome rigid body forces and assume a nearly round shape, and has cleared the neighbourhood around its orbit. The description of Kepler-56d only mentions that it is a red giant in the constellation Cygnus with slightly more mass than the Sun. It does not provide information about its orbit, shape, or the state of its neighbourhood. Therefore, based solely on the provided information, we cannot assert that Kepler-56d is a planet.</td>\n",
       "    </tr>\n",
       "    <tr>\n",
       "      <td id=\"T_17344_row16_col0\" class=\"data row16 col0\" >Aldebaran b</td>\n",
       "      <td id=\"T_17344_row16_col1\" class=\"data row16 col1\" >Aldebaran b is a candidate exoplanet orbiting the orange giant star Aldebaran, 65 light-years away. It was initially detected in 1993, but was considered doubtful until 2015, when researchers came to a conclusion that there is likely an exoplanet orbiting Aldebaran, consistent with the original calculations, but also compatible with stellar activity. However, in 2019, new data placed doubts on its existence again.</td>\n",
       "      <td id=\"T_17344_row16_col2\" class=\"data row16 col2\" >The description of Aldebaran b suggests that it is a celestial body that is in orbit around a star, which is similar to the first part of the definition of a planet that states it must be in orbit around the Sun. Although Aldebaran b is not orbiting the Sun, it is orbiting a star, which is a similar celestial body. The description does not provide information about the mass of Aldebaran b or whether it has cleared the neighbourhood around its orbit, so it is not possible to definitively say that it meets all the criteria of the definition. However, the fact that it is in orbit around a star suggests that it could potentially be considered a planet.</td>\n",
       "    </tr>\n",
       "  </tbody>\n",
       "</table>\n"
      ],
      "text/plain": [
       "<pandas.io.formats.style.Styler at 0x119173e90>"
      ]
     },
     "metadata": {},
     "output_type": "display_data"
    },
    {
     "data": {
      "text/markdown": [
       "#### False positives"
      ],
      "text/plain": [
       "<IPython.core.display.Markdown object>"
      ]
     },
     "metadata": {},
     "output_type": "display_data"
    },
    {
     "data": {
      "text/html": [
       "<style type=\"text/css\">\n",
       "#T_13a05_row0_col0, #T_13a05_row0_col1, #T_13a05_row0_col2, #T_13a05_row1_col0, #T_13a05_row1_col1, #T_13a05_row1_col2, #T_13a05_row2_col0, #T_13a05_row2_col1, #T_13a05_row2_col2, #T_13a05_row3_col0, #T_13a05_row3_col1, #T_13a05_row3_col2, #T_13a05_row4_col0, #T_13a05_row4_col1, #T_13a05_row4_col2, #T_13a05_row5_col0, #T_13a05_row5_col1, #T_13a05_row5_col2, #T_13a05_row6_col0, #T_13a05_row6_col1, #T_13a05_row6_col2 {\n",
       "  text-align: left;\n",
       "  vertical-align: top;\n",
       "  overflow-wrap: break-word;\n",
       "}\n",
       "</style>\n",
       "<table id=\"T_13a05\">\n",
       "  <thead>\n",
       "    <tr>\n",
       "      <th id=\"T_13a05_level0_col0\" class=\"col_heading level0 col0\" >name</th>\n",
       "      <th id=\"T_13a05_level0_col1\" class=\"col_heading level0 col1\" >description</th>\n",
       "      <th id=\"T_13a05_level0_col2\" class=\"col_heading level0 col2\" >rationale</th>\n",
       "    </tr>\n",
       "  </thead>\n",
       "  <tbody>\n",
       "    <tr>\n",
       "      <td id=\"T_13a05_row0_col0\" class=\"data row0 col0\" >PSR B1620−26 b</td>\n",
       "      <td id=\"T_13a05_row0_col1\" class=\"data row0 col1\" >PSR B1620−26 b is an exoplanet located approximately 12,400 light-years from Earth in the constellation of Scorpius. It bears the unofficial nicknames \\\"Methuselah\\\" and \\\"the Genesis planet\\\" (named after the Biblical character Methuselah, who, according to the Bible, lived to be the oldest person) due to its extreme age.  The planet is in a circumbinary orbit around the two stars of PSR B1620−26 (which are a pulsar (PSR B1620−26 A) and a white dwarf (WD B1620-26)) and is the first circumbinary planet ever confirmed. It is also the first planet found in a globular cluster. The planet is one of the oldest known extrasolar planets, believed to be about 12.7 billion years old.</td>\n",
       "      <td id=\"T_13a05_row0_col2\" class=\"data row0 col2\" >The description of PSR B1620−26 b provides evidence that it meets all three criteria outlined in the definition of a planet. Firstly, it is stated that PSR B1620−26 b is in a circumbinary orbit around the two stars of PSR B1620−26, which implies that it is in orbit around a star, satisfying criterion (a). Secondly, while the description does not explicitly state that PSR B1620−26 b has sufficient mass for its self-gravity to overcome rigid body forces, the fact that it is referred to as a planet and is in a stable orbit suggests that it has achieved hydrostatic equilibrium and is nearly round in shape, meeting criterion (b). Lastly, the fact that it is the first planet found in a globular cluster and is in a stable orbit around its stars suggests that it has cleared its neighbourhood around its orbit, fulfilling criterion (c). Therefore, based on the provided definition, PSR B1620−26 b can be classified as a planet.</td>\n",
       "    </tr>\n",
       "    <tr>\n",
       "      <td id=\"T_13a05_row1_col0\" class=\"data row1 col0\" >K2-33b</td>\n",
       "      <td id=\"T_13a05_row1_col1\" class=\"data row1 col1\" >K2-33b (also known by its EPIC designation EPIC 205117205.01) is a very young super-Neptune exoplanet, orbiting the pre-main-sequence star K2-33. It was discovered by NASA's Kepler spacecraft on its \\\"Second Light\\\" mission. It is located about 456 light-years (140 parsecs) away from Earth in the constellation of Scorpius. The exoplanet was found by using the transit method, in which the dimming effect that a planet causes as it crosses in front of its star is measured. \n",
       "Among known exoplanets, K2-33b is considered extremely young − a mere 9.3 million years old. Only one other exoplanet is younger, with an age of 2 Myr (V830 Tau b).</td>\n",
       "      <td id=\"T_13a05_row1_col2\" class=\"data row1 col2\" >K2-33b can be considered a planet based on the provided definition. Firstly, it is a celestial body that is in orbit around a star, specifically the pre-main-sequence star K2-33. Secondly, while the description does not explicitly state that K2-33b has sufficient mass for its self-gravity to overcome rigid body forces, it is implied by the fact that it is referred to as a super-Neptune exoplanet. This suggests that it is similar in size or larger than Neptune, which is a planet that meets this criterion. Lastly, while the description does not explicitly state that K2-33b has cleared the neighbourhood around its orbit, this is a typical characteristic of planets and is likely true for K2-33b given its size and the fact that it was detectable via the transit method. Therefore, based on the provided definition, K2-33b can be considered a planet.</td>\n",
       "    </tr>\n",
       "    <tr>\n",
       "      <td id=\"T_13a05_row2_col0\" class=\"data row2 col0\" >HD 206610 b</td>\n",
       "      <td id=\"T_13a05_row2_col1\" class=\"data row2 col1\" >HD 206610 b is an extrasolar planet orbiting the K-type star Bosona (HD 206610) approximately 633 light years away in the constellation Aquarius.The planet HD 206610 b is named Naron. The name was selected in the NameExoWorlds campaigns by Bosnia and Herzegovina during the 100th anniversary of the IAU. Naron is one of the names given to the Neretva river in Herzegovina originating with the Celts who called it Nera Etwa which means the Flowing Divinity. The host star HD 206610 is called Bosona. Bosona is the name given to the territory of Bosnia in the 10th century.</td>\n",
       "      <td id=\"T_13a05_row2_col2\" class=\"data row2 col2\" >The description of HD 206610 b indicates that it is a celestial body that orbits a star, specifically the K-type star Bosona (HD 206610). This satisfies the first criterion of the definition of a planet, which states that a planet is a celestial body that is in orbit around the Sun. Although the description does not explicitly state that HD 206610 b has sufficient mass for its self-gravity to overcome rigid body forces so that it assumes a hydrostatic equilibrium (nearly round) shape, it is implied by the fact that it is referred to as a planet. Similarly, while the description does not explicitly state that HD 206610 b has cleared the neighbourhood around its orbit, this is also implied by its classification as a planet. Therefore, based on the information provided, it can be argued that HD 206610 b is a planet.</td>\n",
       "    </tr>\n",
       "    <tr>\n",
       "      <td id=\"T_13a05_row3_col0\" class=\"data row3 col0\" >Kepler-28b</td>\n",
       "      <td id=\"T_13a05_row3_col1\" class=\"data row3 col1\" >Kepler-28b is an extrasolar planet orbiting the star Kepler-28. It is a transiting planet that is smaller than Jupiter that orbits very closely to Kepler-28.</td>\n",
       "      <td id=\"T_13a05_row3_col2\" class=\"data row3 col2\" >Kepler-28b can be considered a planet based on the provided definition. Firstly, it is a celestial body that is in orbit around a star, which in this case is Kepler-28. Although the definition specifies the Sun, in the broader context of astronomy, this can be interpreted as any star. Secondly, while the description does not explicitly state that Kepler-28b has sufficient mass to overcome rigid body forces and assume a hydrostatic equilibrium shape, it is implied by the fact that it is smaller than Jupiter, a known planet that meets these criteria. Lastly, while the description does not provide information about whether Kepler-28b has cleared its orbit's neighbourhood, it is a common characteristic of planets, and given the other evidence, it is reasonable to infer that Kepler-28b meets this criterion as well. Therefore, based on the provided definition and description, Kepler-28b can be argued to be a planet.</td>\n",
       "    </tr>\n",
       "    <tr>\n",
       "      <td id=\"T_13a05_row4_col0\" class=\"data row4 col0\" >HD 11964 c</td>\n",
       "      <td id=\"T_13a05_row4_col1\" class=\"data row4 col1\" >HD 11964 c is an extrasolar planet approximately 110 light-years away in the constellation of Cetus.  The planet was discovered in a close-orbit around the yellow subgiant star HD 11964.  The planet has a minimum mass 35 times the mass of Earth and is located in a mildly eccentric orbit which takes almost 38 days to complete. HD 11964 c was a possible planet discovered on the same day as HD 11964 b in 2005. HD 11964 c was first proposed in a paper published in 2007, and finally confirmed with new data presented in a review of multi-planet systems which appeared on the arXiv preprint website in 2008.Some sources have used the designation \\\"HD 11964 b\\\" for this planet, however in their review of the properties of multi-planet extrasolar planetary systems, the discovery team has stated that the correct designation for this planet is HD 11964 c and the reversed system was due to confusion related to private communications between various groups of astronomers.</td>\n",
       "      <td id=\"T_13a05_row4_col2\" class=\"data row4 col2\" >HD 11964 c can be considered a planet based on the provided definition. Firstly, it is a celestial body that is in orbit around a star, in this case, the yellow subgiant star HD 11964. Secondly, it has a significant mass, 35 times the mass of Earth, which suggests that it has sufficient self-gravity to overcome rigid body forces and assume a hydrostatic equilibrium shape. Although the description does not explicitly state that HD 11964 c is nearly round, its significant mass and the fact that it is in hydrostatic equilibrium strongly suggest this. Lastly, while the description does not explicitly state that HD 11964 c has cleared its orbit's neighbourhood, the fact that it has a stable, mildly eccentric orbit that it completes every 38 days suggests that it has likely cleared its orbit's neighbourhood of other significant bodies. Therefore, based on the provided definition, HD 11964 c can be considered a planet.</td>\n",
       "    </tr>\n",
       "    <tr>\n",
       "      <td id=\"T_13a05_row5_col0\" class=\"data row5 col0\" >HD 192310 b</td>\n",
       "      <td id=\"T_13a05_row5_col1\" class=\"data row5 col1\" >HD 192310 b is an exoplanet orbiting the star HD 192310 (HR 7722). It orbits its parent star with a semimajor axis of 0.32 ± 0.005 AU, an eccentricity of 0.13 ± 0.04. and an orbital period of 74.72 days.The Neptune-sized planet has at least 21 times the mass of Earth and 3 to 4 times its diameter.\n",
       "HD 192310 b was discovered on 1 November 2010 and lies within the inner edge of the habitable zone of HD 192310.</td>\n",
       "      <td id=\"T_13a05_row5_col2\" class=\"data row5 col2\" >HD 192310 b can be considered a planet based on the provided definition. Firstly, it is a celestial body that is in orbit around a star, in this case, the star HD 192310. Secondly, it has sufficient mass to overcome rigid body forces and assume a hydrostatic equilibrium shape, as indicated by its comparison to Neptune and Earth in terms of mass and diameter. Lastly, while the description does not explicitly state that HD 192310 b has cleared its orbit's neighbourhood, its significant mass and size suggest that it likely has the gravitational influence to do so. Therefore, HD 192310 b meets the criteria to be classified as a planet.</td>\n",
       "    </tr>\n",
       "    <tr>\n",
       "      <td id=\"T_13a05_row6_col0\" class=\"data row6 col0\" >Tau Ceti h</td>\n",
       "      <td id=\"T_13a05_row6_col1\" class=\"data row6 col1\" >Tau Ceti, Latinized from τ Ceti, is a single star in the constellation Cetus that is spectrally similar to the Sun, although it has only about 78% of the Sun's mass. At a distance of just under 12 light-years (3.7 parsecs) from the Solar System, it is a relatively nearby star and the closest solitary G-class star. The star appears stable, with little stellar variation, and is metal-deficient relative to the Sun.\n",
       "It can be seen with the unaided eye with an apparent magnitude of 3.5. As seen from Tau Ceti, the Sun would be in the northern hemisphere constellation Boötes with an apparent magnitude of about 2.6.Observations have detected more than ten times as much dust surrounding Tau Ceti as is present in the Solar System. Since December 2012, there has been evidence of at least four planets—all likely super-Earths—orbiting Tau Ceti, and two of these are potentially in the habitable zone. There is evidence of up to an additional four unconfirmed planets, one of which would be a Jovian planet between 3 and 20 AU from the star. Because of its debris disk, any planet orbiting Tau Ceti would face far more impact events than Earth. Despite this hurdle to habitability, its solar analog (Sun-like) characteristics have led to widespread interest in the star. Given its stability, similarity and relative proximity to the Sun, Tau Ceti is consistently listed as a target for the search for extraterrestrial intelligence (SETI) and appears in some science fiction literature.</td>\n",
       "      <td id=\"T_13a05_row6_col2\" class=\"data row6 col2\" >The description of Tau Ceti h provides evidence that it meets the criteria outlined in the definition of a planet. Firstly, it is stated that Tau Ceti h is in orbit around the star Tau Ceti, which is similar to the Sun, satisfying the first condition of being in orbit around a Sun-like star. Secondly, while the description does not explicitly state that Tau Ceti h has sufficient mass to overcome rigid body forces and assume a hydrostatic equilibrium shape, the fact that it is referred to as a \"super-Earth\" suggests that it is likely to be of significant mass and therefore likely to meet this criterion. Finally, the description mentions that Tau Ceti h is one of at least four planets orbiting Tau Ceti, suggesting that it has cleared its orbit of other significant bodies, meeting the third criterion. Therefore, based on the provided description, it can be argued that Tau Ceti h is a planet.</td>\n",
       "    </tr>\n",
       "  </tbody>\n",
       "</table>\n"
      ],
      "text/plain": [
       "<pandas.io.formats.style.Styler at 0x16a20d390>"
      ]
     },
     "metadata": {},
     "output_type": "display_data"
    }
   ],
   "source": [
    "display_errors(iau_2006_8_24_planet, iau_2006_8_24_planet_results)"
   ]
  },
  {
   "cell_type": "markdown",
   "metadata": {},
   "source": [
    "## Experimental results data dump"
   ]
  },
  {
   "cell_type": "code",
   "execution_count": 20,
   "metadata": {},
   "outputs": [],
   "source": [
    "EXPERIMENTS_FILENAME = \"planet_experiment.json\"\n",
    "\n",
    "experiments = [\n",
    "    {\n",
    "        \"classification_procedure\": {\n",
    "            \"id\": cp.id,\n",
    "            \"term\": cp.term,\n",
    "            \"definition\": cp.definition,\n",
    "            \"reference\": cp.reference,\n",
    "            \"model_name\": cp.model_name,\n",
    "            \"temperature\": cp.temperature\n",
    "        },\n",
    "        \"results\": results.to_dict(\"records\")\n",
    "    } for cp, results in [\n",
    "        (oed_planet, oed_planet_results),\n",
    "        (iau_2006_8_16_planet, iau_2006_8_16_planet_results),\n",
    "        (iau_2006_8_24_planet, iau_2006_8_24_planet_results)\n",
    "    ]\n",
    "]\n",
    "\n",
    "json.dump(experiments, open(EXPERIMENTS_FILENAME, 'w+'))"
   ]
  }
 ],
 "metadata": {
  "kernelspec": {
   "display_name": "conceptual-engineering-using-llms",
   "language": "python",
   "name": "python3"
  },
  "language_info": {
   "codemirror_mode": {
    "name": "ipython",
    "version": 3
   },
   "file_extension": ".py",
   "mimetype": "text/x-python",
   "name": "python",
   "nbconvert_exporter": "python",
   "pygments_lexer": "ipython3",
   "version": "3.11.4"
  },
  "orig_nbformat": 4
 },
 "nbformat": 4,
 "nbformat_minor": 2
}
