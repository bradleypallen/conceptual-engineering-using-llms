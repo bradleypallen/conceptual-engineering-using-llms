{
 "cells": [
  {
   "cell_type": "code",
   "execution_count": 1,
   "metadata": {},
   "outputs": [],
   "source": [
    "from conceptual_engineering_toolkit import Concept, Entity\n",
    "from pandas import DataFrame"
   ]
  },
  {
   "cell_type": "code",
   "execution_count": 2,
   "metadata": {},
   "outputs": [],
   "source": [
    "bird = Concept(\"bird1\", \"bird\", \"an animal that flies and has wings\")\n",
    "bat = Entity(\"entity1\", \"bat\")"
   ]
  },
  {
   "cell_type": "code",
   "execution_count": 3,
   "metadata": {},
   "outputs": [
    {
     "data": {
      "text/plain": [
       "{'id': 'bird1',\n",
       " 'label': 'bird',\n",
       " 'definition': 'an animal that flies and has wings',\n",
       " 'model_name': 'gpt-4',\n",
       " 'temperature': 0.1}"
      ]
     },
     "execution_count": 3,
     "metadata": {},
     "output_type": "execute_result"
    }
   ],
   "source": [
    "bird.to_json()"
   ]
  },
  {
   "cell_type": "code",
   "execution_count": 4,
   "metadata": {},
   "outputs": [
    {
     "data": {
      "text/plain": [
       "{'label': 'bird',\n",
       " 'definition': 'an animal that flies and has wings',\n",
       " 'entity': 'bat',\n",
       " 'description': '',\n",
       " 'rationale': 'According to the given definition, a bird is an animal that flies and has wings. A bat is an entity that also has the ability to fly and possesses wings. Therefore, based on this definition, one could argue that a bat is a bird.',\n",
       " 'predicted': 'positive'}"
      ]
     },
     "execution_count": 4,
     "metadata": {},
     "output_type": "execute_result"
    }
   ],
   "source": [
    "bird.classify(bat)"
   ]
  },
  {
   "cell_type": "code",
   "execution_count": 5,
   "metadata": {},
   "outputs": [
    {
     "data": {
      "text/plain": [
       "{'label': 'bird',\n",
       " 'definition': 'an animal that flies and has wings',\n",
       " 'rationale': 'A penguin is a counterexample to this definition. Penguins are widely recognized as birds, yet they do not fly. They do have wings, but they use them for swimming underwater rather than for flying. Therefore, the definition is not accurate because it states that a bird is an animal that flies and has wings, but penguins, which are birds, do not fly.',\n",
       " 'counterexample': 'Penguin'}"
      ]
     },
     "execution_count": 5,
     "metadata": {},
     "output_type": "execute_result"
    }
   ],
   "source": [
    "counterexample = bird.propose_counterexample()\n",
    "counterexample"
   ]
  },
  {
   "cell_type": "code",
   "execution_count": 6,
   "metadata": {},
   "outputs": [
    {
     "data": {
      "text/plain": [
       "{'label': 'bird',\n",
       " 'definition': 'an animal that flies and has wings',\n",
       " 'rationale': 'A penguin is a counterexample to this definition. Penguins are widely recognized as birds, yet they do not fly. They do have wings, but they use them for swimming underwater rather than for flying. Therefore, the definition is not accurate because it states that a bird is an animal that flies and has wings, but penguins, which are birds, do not fly.',\n",
       " 'counterexample': 'Penguin',\n",
       " 'support': 'The counterexample of a penguin is valid because it directly contradicts the definition provided for the concept of a bird. According to the definition, a bird is an animal that flies and has wings. However, as the counterexample points out, penguins are a type of bird that do not fly. They do have wings, but these are used for swimming rather than flying. This clearly shows that the definition is not entirely accurate, as it does not account for all types of birds. Therefore, the counterexample of a penguin is valid and effectively challenges the provided definition of a bird.',\n",
       " 'revision': 'A bird is an animal that has wings and is capable of flight or adapted for swimming or diving, with feathers and a beak.'}"
      ]
     },
     "execution_count": 6,
     "metadata": {},
     "output_type": "execute_result"
    }
   ],
   "source": [
    "revision = bird.revise_definition(counterexample)\n",
    "revision"
   ]
  },
  {
   "cell_type": "code",
   "execution_count": 7,
   "metadata": {},
   "outputs": [
    {
     "data": {
      "text/plain": [
       "{'label': 'bird',\n",
       " 'definition': 'an animal that flies and has wings',\n",
       " 'rationale': 'A penguin is a counterexample to this definition. Penguins are widely recognized as birds, yet they do not fly. They do have wings, but they use them for swimming underwater rather than for flying. Therefore, the definition is not accurate because it states that a bird is an animal that flies and has wings, but penguins, which are birds, do not fly.',\n",
       " 'counterexample': 'Penguin',\n",
       " 'refutation': 'The counterexample of a penguin is invalid because the definition of a bird does not explicitly state that all birds must fly. The definition states that a bird is an animal that flies and has wings. This does not exclude birds that do not fly but still have wings. The definition could be interpreted as saying that birds are capable of flight, not that they must necessarily engage in it. Therefore, a penguin, which has wings but does not fly, can still fit within this definition of a bird. The definition could be more accurately stated as \"a bird is an animal that has wings and is capable of flight,\" which would include penguins.',\n",
       " 'accepted': 'false'}"
      ]
     },
     "execution_count": 7,
     "metadata": {},
     "output_type": "execute_result"
    }
   ],
   "source": [
    "refutation = bird.refute_counterexample(counterexample)\n",
    "refutation"
   ]
  },
  {
   "cell_type": "code",
   "execution_count": 8,
   "metadata": {},
   "outputs": [],
   "source": [
    "bird = Concept(\"bird2\", \"bird\", revision[\"revision\"])"
   ]
  },
  {
   "cell_type": "code",
   "execution_count": 9,
   "metadata": {},
   "outputs": [
    {
     "data": {
      "text/plain": [
       "{'label': 'bird',\n",
       " 'definition': 'A bird is an animal that has wings and is capable of flight or adapted for swimming or diving, with feathers and a beak.',\n",
       " 'rationale': 'A counterexample to the given definition of a bird could be a penguin. According to the definition, a bird is an animal that has wings and is capable of flight or adapted for swimming or diving. While a penguin does have wings and is adapted for swimming and diving, it is not capable of flight. Therefore, based on the given definition, a penguin would not be classified as a bird. However, in common understanding and scientific classification, a penguin is indeed considered a bird. This suggests that the definition provided is not entirely accurate or comprehensive, as it does not account for birds like penguins that cannot fly.',\n",
       " 'counterexample': 'Penguin'}"
      ]
     },
     "execution_count": 9,
     "metadata": {},
     "output_type": "execute_result"
    }
   ],
   "source": [
    "counterexample = bird.propose_counterexample()\n",
    "counterexample"
   ]
  },
  {
   "cell_type": "code",
   "execution_count": 10,
   "metadata": {},
   "outputs": [
    {
     "data": {
      "text/plain": [
       "{'label': 'bird',\n",
       " 'definition': 'A bird is an animal that has wings and is capable of flight or adapted for swimming or diving, with feathers and a beak.',\n",
       " 'rationale': 'A counterexample to the given definition of a bird could be a penguin. According to the definition, a bird is an animal that has wings and is capable of flight or adapted for swimming or diving. While a penguin does have wings and is adapted for swimming and diving, it is not capable of flight. Therefore, based on the given definition, a penguin would not be classified as a bird. However, in common understanding and scientific classification, a penguin is indeed considered a bird. This suggests that the definition provided is not entirely accurate or comprehensive, as it does not account for birds like penguins that cannot fly.',\n",
       " 'counterexample': 'Penguin',\n",
       " 'support': 'The counterexample of a penguin is valid because it meets all the criteria of the given definition of a bird except for one - the capability of flight. The definition states that a bird is an animal that has wings and is capable of flight or adapted for swimming or diving. A penguin does have wings and is highly adapted for swimming and diving, but it is not capable of flight. Therefore, according to the given definition, a penguin does not fit the criteria to be classified as a bird. This demonstrates that the definition is not comprehensive enough, as it does not account for all types of birds, particularly those that cannot fly. Therefore, the counterexample of a penguin is valid and effectively challenges the given definition of a bird.',\n",
       " 'revision': 'A bird is an animal that has wings and is either capable of flight or adapted for swimming or diving, with feathers and a beak.'}"
      ]
     },
     "execution_count": 10,
     "metadata": {},
     "output_type": "execute_result"
    }
   ],
   "source": [
    "revision = bird.revise_definition(counterexample)\n",
    "revision"
   ]
  },
  {
   "cell_type": "code",
   "execution_count": 11,
   "metadata": {},
   "outputs": [],
   "source": [
    "bird = Concept(\"bird3\", \"bird\", revision[\"revision\"])"
   ]
  },
  {
   "cell_type": "code",
   "execution_count": 12,
   "metadata": {},
   "outputs": [
    {
     "data": {
      "text/plain": [
       "{'label': 'bird',\n",
       " 'definition': 'A bird is an animal that has wings and is either capable of flight or adapted for swimming or diving, with feathers and a beak.',\n",
       " 'rationale': 'A counterexample to the given definition of a bird could be a penguin. According to the definition, a bird is an animal that has wings and is either capable of flight or adapted for swimming or diving, with feathers and a beak. While a penguin does have wings, feathers, and a beak, it is not capable of flight. However, it is adapted for swimming and diving. Therefore, according to the definition, a penguin would not be considered a bird because it cannot fly. However, in the judgment of the opponent, a penguin is in the extension of the concept of a bird because it has other characteristics of birds such as feathers and a beak. Therefore, the definition of a bird should be revised to include animals like penguins that have wings, feathers, and a beak but are not capable of flight.',\n",
       " 'counterexample': 'Penguin'}"
      ]
     },
     "execution_count": 12,
     "metadata": {},
     "output_type": "execute_result"
    }
   ],
   "source": [
    "counterexample = bird.propose_counterexample()\n",
    "counterexample"
   ]
  },
  {
   "cell_type": "code",
   "execution_count": 13,
   "metadata": {},
   "outputs": [],
   "source": [
    "haslanger_woman_definition = \"\"\"S is a woman iff (i) S is regularly and for the most part observed or imagined to have \n",
    "certain bodily features presumed to be evidence of a female’s biological role in reproduction; \n",
    "(ii) that S has these features marks S within the dominant ideology of S’s society as someone who \n",
    "ought to occupy certain kinds of social position that are in fact subordinate (and so motivates \n",
    "and justifies S’s occupying such a position); and (iii) the fact that S satisfies (I) and (ii) plays \n",
    "a role in S’s systematic subordination, that is, along some dimension, S’s social position is oppressive, \n",
    "and S’s satisfying (i) and (ii) plays a role in that dimension of subordination\"\"\""
   ]
  },
  {
   "cell_type": "code",
   "execution_count": 14,
   "metadata": {},
   "outputs": [],
   "source": [
    "woman = Concept(\"haslanger_woman\", \"woman\", haslanger_woman_definition)\n",
    "entity = Entity(\"entity2\", \"Rosa Parks\")"
   ]
  },
  {
   "cell_type": "code",
   "execution_count": 15,
   "metadata": {},
   "outputs": [
    {
     "data": {
      "text/plain": [
       "{'label': 'woman',\n",
       " 'definition': 'S is a woman iff (i) S is regularly and for the most part observed or imagined to have \\ncertain bodily features presumed to be evidence of a female’s biological role in reproduction; \\n(ii) that S has these features marks S within the dominant ideology of S’s society as someone who \\nought to occupy certain kinds of social position that are in fact subordinate (and so motivates \\nand justifies S’s occupying such a position); and (iii) the fact that S satisfies (I) and (ii) plays \\na role in S’s systematic subordination, that is, along some dimension, S’s social position is oppressive, \\nand S’s satisfying (i) and (ii) plays a role in that dimension of subordination',\n",
       " 'entity': 'Rosa Parks',\n",
       " 'description': '',\n",
       " 'rationale': 'Rosa Parks is a woman because she was regularly and for the most part observed to have certain bodily features presumed to be evidence of a female’s biological role in reproduction. This marked her within the dominant ideology of her society as someone who ought to occupy certain kinds of social position that are in fact subordinate. The fact that Rosa Parks satisfied these conditions played a role in her systematic subordination, that is, along some dimension, her social position was oppressive, and her satisfying these conditions played a role in that dimension of subordination.',\n",
       " 'predicted': 'positive'}"
      ]
     },
     "execution_count": 15,
     "metadata": {},
     "output_type": "execute_result"
    }
   ],
   "source": [
    "woman.classify(entity)"
   ]
  },
  {
   "cell_type": "code",
   "execution_count": 16,
   "metadata": {},
   "outputs": [
    {
     "data": {
      "text/plain": [
       "{'label': 'woman',\n",
       " 'definition': 'S is a woman iff (i) S is regularly and for the most part observed or imagined to have \\ncertain bodily features presumed to be evidence of a female’s biological role in reproduction; \\n(ii) that S has these features marks S within the dominant ideology of S’s society as someone who \\nought to occupy certain kinds of social position that are in fact subordinate (and so motivates \\nand justifies S’s occupying such a position); and (iii) the fact that S satisfies (I) and (ii) plays \\na role in S’s systematic subordination, that is, along some dimension, S’s social position is oppressive, \\nand S’s satisfying (i) and (ii) plays a role in that dimension of subordination',\n",
       " 'rationale': 'The counterexample I would propose is a transgender woman. A transgender woman may not have the biological features associated with the traditional female role in reproduction, thus not satisfying condition (i). However, she identifies as a woman and is recognized as such in her society. She may also face systematic subordination and oppression due to her gender identity, fulfilling condition (iii). This counterexample challenges the definition by showing that one can be a woman without necessarily having the biological features associated with the female role in reproduction. This suggests that the definition of a woman should not be strictly tied to biological characteristics.',\n",
       " 'counterexample': 'Transgender Woman'}"
      ]
     },
     "execution_count": 16,
     "metadata": {},
     "output_type": "execute_result"
    }
   ],
   "source": [
    "counterexample = woman.propose_counterexample()\n",
    "counterexample"
   ]
  },
  {
   "cell_type": "code",
   "execution_count": 17,
   "metadata": {},
   "outputs": [
    {
     "data": {
      "text/plain": [
       "{'label': 'woman',\n",
       " 'definition': 'S is a woman iff (i) S is regularly and for the most part observed or imagined to have \\ncertain bodily features presumed to be evidence of a female’s biological role in reproduction; \\n(ii) that S has these features marks S within the dominant ideology of S’s society as someone who \\nought to occupy certain kinds of social position that are in fact subordinate (and so motivates \\nand justifies S’s occupying such a position); and (iii) the fact that S satisfies (I) and (ii) plays \\na role in S’s systematic subordination, that is, along some dimension, S’s social position is oppressive, \\nand S’s satisfying (i) and (ii) plays a role in that dimension of subordination',\n",
       " 'rationale': 'The counterexample I would propose is a transgender woman. A transgender woman may not have the biological features associated with the traditional female role in reproduction, thus not satisfying condition (i). However, she identifies as a woman and is recognized as such in her society. She may also face systematic subordination and oppression due to her gender identity, fulfilling condition (iii). This counterexample challenges the definition by showing that one can be a woman without necessarily having the biological features associated with the female role in reproduction. This suggests that the definition of a woman should not be strictly tied to biological characteristics.',\n",
       " 'counterexample': 'Transgender Woman',\n",
       " 'refutation': 'The counterexample of a transgender woman does not invalidate the definition of a woman as provided. The definition does not strictly require biological features associated with the female role in reproduction, but rather states that a woman is \"regularly and for the most part observed or imagined to have certain bodily features presumed to be evidence of a female’s biological role in reproduction\". This allows for the inclusion of transgender women, who may be observed or imagined to have these features due to their gender presentation and identity. \\n\\nFurthermore, the definition emphasizes the social and ideological aspects of womanhood, stating that a woman is someone who is marked within their society as someone who ought to occupy certain kinds of social positions that are subordinate. This can certainly apply to transgender women, who often face societal expectations and pressures related to their gender identity. \\n\\nFinally, the definition states that a woman is someone whose social position is oppressive and that their satisfying conditions (i) and (ii) plays a role in that oppression. Transgender women, due to societal prejudice and discrimination, often face systematic subordination and oppression, thus fulfilling condition (iii). \\n\\nTherefore, the counterexample of a transgender woman does not invalidate the provided definition of a woman, but rather fits within it.',\n",
       " 'accepted': 'False'}"
      ]
     },
     "execution_count": 17,
     "metadata": {},
     "output_type": "execute_result"
    }
   ],
   "source": [
    "refutation = woman.refute_counterexample(counterexample)\n",
    "refutation"
   ]
  },
  {
   "cell_type": "code",
   "execution_count": 18,
   "metadata": {},
   "outputs": [],
   "source": [
    "collection = [\n",
    "    \"Rosa Parks\",\n",
    "    \"Hillary Clinton\",\n",
    "    \"Pamela Anderson\",\n",
    "    \"Lebron James\",\n",
    "    \"Sally Haslanger\",\n",
    "    \"Nancy Pelosi\",\n",
    "    \"Catwoman\",\n",
    "    \"Taylor Swift\",\n",
    "    \"Julia Roberts\",\n",
    "    \"James Earl Carter\",\n",
    "    \"Peter Bogdanovich\",\n",
    "    \"Elinor Ostrom\",\n",
    "    \"Catherine of Aragon\",\n",
    "    \"Catherine the Great\",\n",
    "    \"Joyce Carol Oates\",\n",
    "    \"Sally Hemings\",\n",
    "    \"Caitlyn Jenner\",\n",
    "    \"Kamala Harris\",\n",
    "]"
   ]
  },
  {
   "cell_type": "code",
   "execution_count": 19,
   "metadata": {},
   "outputs": [
    {
     "data": {
      "text/html": [
       "<style type=\"text/css\">\n",
       "#T_df65e_row0_col0, #T_df65e_row0_col1, #T_df65e_row0_col2, #T_df65e_row1_col0, #T_df65e_row1_col1, #T_df65e_row1_col2, #T_df65e_row2_col0, #T_df65e_row2_col1, #T_df65e_row2_col2, #T_df65e_row3_col0, #T_df65e_row3_col1, #T_df65e_row3_col2, #T_df65e_row4_col0, #T_df65e_row4_col1, #T_df65e_row4_col2, #T_df65e_row5_col0, #T_df65e_row5_col1, #T_df65e_row5_col2, #T_df65e_row6_col0, #T_df65e_row6_col1, #T_df65e_row6_col2, #T_df65e_row7_col0, #T_df65e_row7_col1, #T_df65e_row7_col2, #T_df65e_row8_col0, #T_df65e_row8_col1, #T_df65e_row8_col2, #T_df65e_row9_col0, #T_df65e_row9_col1, #T_df65e_row9_col2, #T_df65e_row10_col0, #T_df65e_row10_col1, #T_df65e_row10_col2, #T_df65e_row11_col0, #T_df65e_row11_col1, #T_df65e_row11_col2, #T_df65e_row12_col0, #T_df65e_row12_col1, #T_df65e_row12_col2, #T_df65e_row13_col0, #T_df65e_row13_col1, #T_df65e_row13_col2, #T_df65e_row14_col0, #T_df65e_row14_col1, #T_df65e_row14_col2, #T_df65e_row15_col0, #T_df65e_row15_col1, #T_df65e_row15_col2, #T_df65e_row16_col0, #T_df65e_row16_col1, #T_df65e_row16_col2, #T_df65e_row17_col0, #T_df65e_row17_col1, #T_df65e_row17_col2 {\n",
       "  text-align: left;\n",
       "  overflow-wrap: break-word;\n",
       "}\n",
       "</style>\n",
       "<table id=\"T_df65e\">\n",
       "  <thead>\n",
       "    <tr>\n",
       "      <th class=\"blank level0\" >&nbsp;</th>\n",
       "      <th id=\"T_df65e_level0_col0\" class=\"col_heading level0 col0\" >entity</th>\n",
       "      <th id=\"T_df65e_level0_col1\" class=\"col_heading level0 col1\" >predicted</th>\n",
       "      <th id=\"T_df65e_level0_col2\" class=\"col_heading level0 col2\" >rationale</th>\n",
       "    </tr>\n",
       "  </thead>\n",
       "  <tbody>\n",
       "    <tr>\n",
       "      <th id=\"T_df65e_level0_row0\" class=\"row_heading level0 row0\" >0</th>\n",
       "      <td id=\"T_df65e_row0_col0\" class=\"data row0 col0\" >Rosa Parks</td>\n",
       "      <td id=\"T_df65e_row0_col1\" class=\"data row0 col1\" >positive</td>\n",
       "      <td id=\"T_df65e_row0_col2\" class=\"data row0 col2\" >Rosa Parks is a woman because she satisfies all three conditions of the definition. Firstly, she is regularly and for the most part observed or imagined to have certain bodily features presumed to be evidence of a female’s biological role in reproduction. Secondly, these features mark her within the dominant ideology of her society as someone who ought to occupy certain kinds of social position that are in fact subordinate. Lastly, the fact that she satisfies the first two conditions plays a role in her systematic subordination, that is, along some dimension, her social position is oppressive, and her satisfying the first two conditions plays a role in that dimension of subordination.</td>\n",
       "    </tr>\n",
       "    <tr>\n",
       "      <th id=\"T_df65e_level0_row1\" class=\"row_heading level0 row1\" >1</th>\n",
       "      <td id=\"T_df65e_row1_col0\" class=\"data row1 col0\" >Hillary Clinton</td>\n",
       "      <td id=\"T_df65e_row1_col1\" class=\"data row1 col1\" >positive</td>\n",
       "      <td id=\"T_df65e_row1_col2\" class=\"data row1 col2\" >Hillary Clinton is a woman because she is regularly and for the most part observed to have certain bodily features presumed to be evidence of a female’s biological role in reproduction. This is evident from her physical appearance which aligns with the typical features associated with females. Furthermore, within the dominant ideology of her society, these features mark her as someone who ought to occupy certain kinds of social positions that are in fact subordinate. This is evident from her role as a wife and mother, positions that are traditionally seen as subordinate in her society. Finally, the fact that she satisfies both of these conditions plays a role in her systematic subordination. Despite her significant achievements, she has faced numerous challenges and criticisms that are often gendered in nature, indicating that her social position is oppressive along some dimension. Therefore, according to the provided definition, Hillary Clinton can be classified as a woman.</td>\n",
       "    </tr>\n",
       "    <tr>\n",
       "      <th id=\"T_df65e_level0_row2\" class=\"row_heading level0 row2\" >2</th>\n",
       "      <td id=\"T_df65e_row2_col0\" class=\"data row2 col0\" >Pamela Anderson</td>\n",
       "      <td id=\"T_df65e_row2_col1\" class=\"data row2 col1\" >positive</td>\n",
       "      <td id=\"T_df65e_row2_col2\" class=\"data row2 col2\" >Pamela Anderson is regularly and for the most part observed or imagined to have certain bodily features presumed to be evidence of a female’s biological role in reproduction, satisfying condition (i) of the definition. These features mark her within the dominant ideology of her society as someone who ought to occupy certain kinds of social position that are in fact subordinate, satisfying condition (ii). The fact that Pamela Anderson satisfies both (i) and (ii) plays a role in her systematic subordination, that is, along some dimension, her social position is oppressive, and her satisfying (i) and (ii) plays a role in that dimension of subordination, satisfying condition (iii). Therefore, according to the provided definition, Pamela Anderson is a woman.</td>\n",
       "    </tr>\n",
       "    <tr>\n",
       "      <th id=\"T_df65e_level0_row3\" class=\"row_heading level0 row3\" >3</th>\n",
       "      <td id=\"T_df65e_row3_col0\" class=\"data row3 col0\" >Lebron James</td>\n",
       "      <td id=\"T_df65e_row3_col1\" class=\"data row3 col1\" >negative</td>\n",
       "      <td id=\"T_df65e_row3_col2\" class=\"data row3 col2\" >Given the definition provided, it is not possible to argue that Lebron James is a woman. This is because Lebron James does not satisfy any of the conditions outlined in the definition. \n",
       "\n",
       "(i) Lebron James is not regularly and for the most part observed or imagined to have certain bodily features presumed to be evidence of a female’s biological role in reproduction. He is a male and has the physical characteristics associated with the male sex.\n",
       "\n",
       "(ii) Lebron James does not occupy a social position that is subordinate within the dominant ideology of his society. He is a highly respected and influential figure in his society, particularly in the world of sports.\n",
       "\n",
       "(iii) Lebron James's social position is not oppressive, nor does he satisfy conditions (i) and (ii) that would play a role in any dimension of subordination. He is a successful, wealthy, and influential individual.\n",
       "\n",
       "Therefore, based on the provided definition, Lebron James cannot be classified as a woman.</td>\n",
       "    </tr>\n",
       "    <tr>\n",
       "      <th id=\"T_df65e_level0_row4\" class=\"row_heading level0 row4\" >4</th>\n",
       "      <td id=\"T_df65e_row4_col0\" class=\"data row4 col0\" >Sally Haslanger</td>\n",
       "      <td id=\"T_df65e_row4_col1\" class=\"data row4 col1\" >negative</td>\n",
       "      <td id=\"T_df65e_row4_col2\" class=\"data row4 col2\" >To determine whether Sally Haslanger is a woman according to the provided definition, we would need to establish three things: \n",
       "\n",
       "(i) Sally Haslanger is regularly and for the most part observed or imagined to have certain bodily features presumed to be evidence of a female’s biological role in reproduction. This would require knowledge of how Sally Haslanger is perceived in terms of her physical attributes. \n",
       "\n",
       "(ii) That Sally Haslanger has these features marks her within the dominant ideology of her society as someone who ought to occupy certain kinds of social position that are in fact subordinate. This would require knowledge of the societal norms and expectations in Sally Haslanger's society and how she fits into them. \n",
       "\n",
       "(iii) The fact that Sally Haslanger satisfies (i) and (ii) plays a role in her systematic subordination, that is, along some dimension, her social position is oppressive, and her satisfying (i) and (ii) plays a role in that dimension of subordination. This would require knowledge of the power dynamics and structures in Sally Haslanger's society and how they affect her. \n",
       "\n",
       "Without specific information about Sally Haslanger's physical attributes, societal norms and expectations, and power dynamics and structures, we cannot definitively say whether she is a woman according to this definition.</td>\n",
       "    </tr>\n",
       "    <tr>\n",
       "      <th id=\"T_df65e_level0_row5\" class=\"row_heading level0 row5\" >5</th>\n",
       "      <td id=\"T_df65e_row5_col0\" class=\"data row5 col0\" >Nancy Pelosi</td>\n",
       "      <td id=\"T_df65e_row5_col1\" class=\"data row5 col1\" >positive</td>\n",
       "      <td id=\"T_df65e_row5_col2\" class=\"data row5 col2\" >Nancy Pelosi is a woman because she is regularly observed to have certain bodily features presumed to be evidence of a female's biological role in reproduction. This marks her within the dominant ideology of her society as someone who ought to occupy certain kinds of social position that are in fact subordinate. The fact that she satisfies these conditions plays a role in her systematic subordination, that is, along some dimension, her social position is oppressive, and her satisfying these conditions plays a role in that dimension of subordination.</td>\n",
       "    </tr>\n",
       "    <tr>\n",
       "      <th id=\"T_df65e_level0_row6\" class=\"row_heading level0 row6\" >6</th>\n",
       "      <td id=\"T_df65e_row6_col0\" class=\"data row6 col0\" >Catwoman</td>\n",
       "      <td id=\"T_df65e_row6_col1\" class=\"data row6 col1\" >positive</td>\n",
       "      <td id=\"T_df65e_row6_col2\" class=\"data row6 col2\" >Catwoman, as a character, is regularly and for the most part observed or imagined to have certain bodily features presumed to be evidence of a female’s biological role in reproduction, satisfying condition (i) of the definition. In the dominant ideology of her society, these features mark her as someone who ought to occupy certain kinds of social position that are in fact subordinate, satisfying condition (ii). The fact that Catwoman satisfies both (i) and (ii) plays a role in her systematic subordination, that is, along some dimension, her social position is oppressive, and her satisfying (i) and (ii) plays a role in that dimension of subordination, satisfying condition (iii). Therefore, according to the given definition, Catwoman can be considered a woman.</td>\n",
       "    </tr>\n",
       "    <tr>\n",
       "      <th id=\"T_df65e_level0_row7\" class=\"row_heading level0 row7\" >7</th>\n",
       "      <td id=\"T_df65e_row7_col0\" class=\"data row7 col0\" >Taylor Swift</td>\n",
       "      <td id=\"T_df65e_row7_col1\" class=\"data row7 col1\" >positive</td>\n",
       "      <td id=\"T_df65e_row7_col2\" class=\"data row7 col2\" >Taylor Swift is a woman because she is regularly observed and imagined to have certain bodily features that are presumed to be evidence of a female's biological role in reproduction. This is evident from her physical appearance which aligns with the societal expectations of a female's body. Furthermore, within the dominant ideology of her society, these features mark her as someone who ought to occupy certain kinds of social positions that are in fact subordinate. This is evident from the roles and expectations placed on her as a female celebrity in the music industry. Lastly, the fact that she satisfies both these conditions plays a role in her systematic subordination. Despite her success, she has faced challenges and criticisms that are unique to her gender, indicating that her social position is oppressive along some dimension. Therefore, according to the given definition, Taylor Swift is a woman.</td>\n",
       "    </tr>\n",
       "    <tr>\n",
       "      <th id=\"T_df65e_level0_row8\" class=\"row_heading level0 row8\" >8</th>\n",
       "      <td id=\"T_df65e_row8_col0\" class=\"data row8 col0\" >Julia Roberts</td>\n",
       "      <td id=\"T_df65e_row8_col1\" class=\"data row8 col1\" >positive</td>\n",
       "      <td id=\"T_df65e_row8_col2\" class=\"data row8 col2\" >Julia Roberts is regularly and for the most part observed or imagined to have certain bodily features presumed to be evidence of a female’s biological role in reproduction, satisfying condition (i) of the definition. As a prominent figure in society, Julia Roberts is marked within the dominant ideology of her society as someone who ought to occupy certain kinds of social position that are in fact subordinate, satisfying condition (ii). Furthermore, the fact that Julia Roberts satisfies conditions (i) and (ii) plays a role in her systematic subordination, as she, like many women, faces societal expectations and pressures that can be oppressive, satisfying condition (iii). Therefore, according to the provided definition, Julia Roberts can be classified as a woman.</td>\n",
       "    </tr>\n",
       "    <tr>\n",
       "      <th id=\"T_df65e_level0_row9\" class=\"row_heading level0 row9\" >9</th>\n",
       "      <td id=\"T_df65e_row9_col0\" class=\"data row9 col0\" >James Earl Carter</td>\n",
       "      <td id=\"T_df65e_row9_col1\" class=\"data row9 col1\" >negative</td>\n",
       "      <td id=\"T_df65e_row9_col2\" class=\"data row9 col2\" >Given the definition provided, it is not possible to argue that James Earl Carter is a woman. This is because James Earl Carter, also known as Jimmy Carter, the 39th President of the United States, is not regularly and for the most part observed or imagined to have certain bodily features presumed to be evidence of a female’s biological role in reproduction. Furthermore, he does not occupy social positions that are subordinate within the dominant ideology of his society, nor does he satisfy conditions (i) and (ii) that would play a role in his systematic subordination. Therefore, based on the provided definition, James Earl Carter cannot be classified as a woman.</td>\n",
       "    </tr>\n",
       "    <tr>\n",
       "      <th id=\"T_df65e_level0_row10\" class=\"row_heading level0 row10\" >10</th>\n",
       "      <td id=\"T_df65e_row10_col0\" class=\"data row10 col0\" >Peter Bogdanovich</td>\n",
       "      <td id=\"T_df65e_row10_col1\" class=\"data row10 col1\" >negative</td>\n",
       "      <td id=\"T_df65e_row10_col2\" class=\"data row10 col2\" >Given the information provided, it is not possible to argue that Peter Bogdanovich is a woman. The definition provided for a woman involves having certain biological features related to female reproduction, being marked within society as someone who should occupy a subordinate social position, and this marking playing a role in systematic subordination. Without any specific information about Peter Bogdanovich that aligns with these criteria, we cannot assert that he is a woman.</td>\n",
       "    </tr>\n",
       "    <tr>\n",
       "      <th id=\"T_df65e_level0_row11\" class=\"row_heading level0 row11\" >11</th>\n",
       "      <td id=\"T_df65e_row11_col0\" class=\"data row11 col0\" >Elinor Ostrom</td>\n",
       "      <td id=\"T_df65e_row11_col1\" class=\"data row11 col1\" >negative</td>\n",
       "      <td id=\"T_df65e_row11_col2\" class=\"data row11 col2\" >Without specific information about Elinor Ostrom's physical characteristics or societal role, it is impossible to definitively assert that she is a woman based on the provided definition. However, if we assume that Elinor Ostrom is observed or imagined to have certain bodily features associated with the female biological role in reproduction, and that these features mark her within her society as someone who ought to occupy certain kinds of social position that are in fact subordinate, then we could argue that she is a woman. Furthermore, if her satisfying these conditions plays a role in her systematic subordination, then this would further support the assertion that Elinor Ostrom is a woman. However, without specific information about Elinor Ostrom, this argument is purely hypothetical.</td>\n",
       "    </tr>\n",
       "    <tr>\n",
       "      <th id=\"T_df65e_level0_row12\" class=\"row_heading level0 row12\" >12</th>\n",
       "      <td id=\"T_df65e_row12_col0\" class=\"data row12 col0\" >Catherine of Aragon</td>\n",
       "      <td id=\"T_df65e_row12_col1\" class=\"data row12 col1\" >positive</td>\n",
       "      <td id=\"T_df65e_row12_col2\" class=\"data row12 col2\" >Catherine of Aragon was regularly and for the most part observed or imagined to have certain bodily features presumed to be evidence of a female’s biological role in reproduction, satisfying condition (i) of the definition. As a queen in the 16th century, she was marked within the dominant ideology of her society as someone who ought to occupy certain kinds of social position that were in fact subordinate, such as being expected to produce a male heir and being subservient to her husband, King Henry VIII. This satisfies condition (ii) of the definition. The fact that Catherine of Aragon satisfies (i) and (ii) played a role in her systematic subordination. Despite her status as queen, her inability to produce a male heir led to her being cast aside and replaced, demonstrating that her social position was oppressive. This satisfies condition (iii) of the definition. Therefore, according to the provided definition, Catherine of Aragon can be classified as a woman.</td>\n",
       "    </tr>\n",
       "    <tr>\n",
       "      <th id=\"T_df65e_level0_row13\" class=\"row_heading level0 row13\" >13</th>\n",
       "      <td id=\"T_df65e_row13_col0\" class=\"data row13 col0\" >Catherine the Great</td>\n",
       "      <td id=\"T_df65e_row13_col1\" class=\"data row13 col1\" >positive</td>\n",
       "      <td id=\"T_df65e_row13_col2\" class=\"data row13 col2\" >Catherine the Great is a woman because she satisfies all the conditions mentioned in the definition. Firstly, she is regularly and for the most part observed or imagined to have certain bodily features presumed to be evidence of a female’s biological role in reproduction. This is evident from historical records and portraits of her that depict her as a female. Secondly, Catherine the Great, despite being a powerful ruler, lived in a society where the dominant ideology marked her as someone who ought to occupy certain kinds of social position that are in fact subordinate due to her gender. This is evident from the fact that she had to navigate a male-dominated political landscape and faced numerous challenges due to her gender. Lastly, the fact that Catherine the Great satisfies the first two conditions played a role in her systematic subordination. Despite her position as a ruler, she was still subject to the oppressive social norms and expectations of her time due to her gender. Therefore, according to the given definition, Catherine the Great is a woman.</td>\n",
       "    </tr>\n",
       "    <tr>\n",
       "      <th id=\"T_df65e_level0_row14\" class=\"row_heading level0 row14\" >14</th>\n",
       "      <td id=\"T_df65e_row14_col0\" class=\"data row14 col0\" >Joyce Carol Oates</td>\n",
       "      <td id=\"T_df65e_row14_col1\" class=\"data row14 col1\" >positive</td>\n",
       "      <td id=\"T_df65e_row14_col2\" class=\"data row14 col2\" >Joyce Carol Oates is regularly and for the most part observed or imagined to have certain bodily features presumed to be evidence of a female’s biological role in reproduction. This marks her within the dominant ideology of her society as someone who ought to occupy certain kinds of social position that are in fact subordinate. The fact that Joyce Carol Oates satisfies these conditions plays a role in her systematic subordination, that is, along some dimension, her social position is oppressive, and her satisfying these conditions plays a role in that dimension of subordination. Therefore, according to the given definition, Joyce Carol Oates is a woman.</td>\n",
       "    </tr>\n",
       "    <tr>\n",
       "      <th id=\"T_df65e_level0_row15\" class=\"row_heading level0 row15\" >15</th>\n",
       "      <td id=\"T_df65e_row15_col0\" class=\"data row15 col0\" >Sally Hemings</td>\n",
       "      <td id=\"T_df65e_row15_col1\" class=\"data row15 col1\" >positive</td>\n",
       "      <td id=\"T_df65e_row15_col2\" class=\"data row15 col2\" >Sally Hemings is a woman because she fulfills all the conditions stated in the definition. Firstly, she is observed to have certain bodily features that are presumed to be evidence of a female's biological role in reproduction. Secondly, these features mark her within the dominant ideology of her society as someone who ought to occupy certain kinds of social position that are in fact subordinate. Lastly, the fact that she satisfies the first two conditions plays a role in her systematic subordination, that is, along some dimension, her social position is oppressive, and her satisfying the first two conditions plays a role in that dimension of subordination.</td>\n",
       "    </tr>\n",
       "    <tr>\n",
       "      <th id=\"T_df65e_level0_row16\" class=\"row_heading level0 row16\" >16</th>\n",
       "      <td id=\"T_df65e_row16_col0\" class=\"data row16 col0\" >Caitlyn Jenner</td>\n",
       "      <td id=\"T_df65e_row16_col1\" class=\"data row16 col1\" >positive</td>\n",
       "      <td id=\"T_df65e_row16_col2\" class=\"data row16 col2\" >Caitlyn Jenner can be considered a woman based on the given definition. Firstly, she is regularly and for the most part observed or imagined to have certain bodily features presumed to be evidence of a female’s biological role in reproduction. This is due to her undergoing gender transition surgery, which has given her the physical appearance typically associated with females. Secondly, she is marked within the dominant ideology of her society as someone who ought to occupy certain kinds of social position that are in fact subordinate. This is evident in the societal expectations and roles she now faces as a transgender woman. Lastly, the fact that she satisfies both (i) and (ii) plays a role in her systematic subordination. As a transgender woman, she faces unique challenges and discrimination, which can be seen as a form of oppression. Therefore, based on this definition, Caitlyn Jenner can be classified as a woman.</td>\n",
       "    </tr>\n",
       "    <tr>\n",
       "      <th id=\"T_df65e_level0_row17\" class=\"row_heading level0 row17\" >17</th>\n",
       "      <td id=\"T_df65e_row17_col0\" class=\"data row17 col0\" >Kamala Harris</td>\n",
       "      <td id=\"T_df65e_row17_col1\" class=\"data row17 col1\" >positive</td>\n",
       "      <td id=\"T_df65e_row17_col2\" class=\"data row17 col2\" >Kamala Harris can be considered a woman based on the provided definition. Firstly, she is regularly observed and imagined to have certain bodily features that are presumed to be evidence of a female's biological role in reproduction, satisfying condition (i). Secondly, these features mark her within the dominant ideology of her society as someone who ought to occupy certain kinds of social positions that are in fact subordinate, satisfying condition (ii). Lastly, the fact that she satisfies both (i) and (ii) plays a role in her systematic subordination, meaning that along some dimension, her social position is oppressive, satisfying condition (iii). Therefore, according to the given definition, Kamala Harris is a woman.</td>\n",
       "    </tr>\n",
       "  </tbody>\n",
       "</table>\n"
      ],
      "text/plain": [
       "<pandas.io.formats.style.Styler at 0x12a96a490>"
      ]
     },
     "execution_count": 19,
     "metadata": {},
     "output_type": "execute_result"
    }
   ],
   "source": [
    "df = DataFrame( \n",
    "    [ woman.classify(Entity(\"\", entity)) for entity in collection ], \n",
    "    columns = [ 'entity' , 'predicted', 'rationale' ] \n",
    "    )\n",
    "df[\"predicted\"] = df[\"predicted\"].str.lower()\n",
    "df.style.set_properties(**{\"text-align\": \"left\", \"overflow-wrap\": \"break-word\"})"
   ]
  },
  {
   "cell_type": "code",
   "execution_count": 20,
   "metadata": {},
   "outputs": [],
   "source": [
    "woman_2 = Concept(\"haslanger_woman\", \"woman\", haslanger_woman_definition, model_name=\"gpt-3.5-turbo\", temperature=0.4)"
   ]
  },
  {
   "cell_type": "code",
   "execution_count": 21,
   "metadata": {},
   "outputs": [
    {
     "data": {
      "text/html": [
       "<style type=\"text/css\">\n",
       "#T_97dba_row0_col0, #T_97dba_row0_col1, #T_97dba_row0_col2, #T_97dba_row1_col0, #T_97dba_row1_col1, #T_97dba_row1_col2, #T_97dba_row2_col0, #T_97dba_row2_col1, #T_97dba_row2_col2, #T_97dba_row3_col0, #T_97dba_row3_col1, #T_97dba_row3_col2, #T_97dba_row4_col0, #T_97dba_row4_col1, #T_97dba_row4_col2, #T_97dba_row5_col0, #T_97dba_row5_col1, #T_97dba_row5_col2, #T_97dba_row6_col0, #T_97dba_row6_col1, #T_97dba_row6_col2, #T_97dba_row7_col0, #T_97dba_row7_col1, #T_97dba_row7_col2, #T_97dba_row8_col0, #T_97dba_row8_col1, #T_97dba_row8_col2, #T_97dba_row9_col0, #T_97dba_row9_col1, #T_97dba_row9_col2, #T_97dba_row10_col0, #T_97dba_row10_col1, #T_97dba_row10_col2, #T_97dba_row11_col0, #T_97dba_row11_col1, #T_97dba_row11_col2, #T_97dba_row12_col0, #T_97dba_row12_col1, #T_97dba_row12_col2, #T_97dba_row13_col0, #T_97dba_row13_col1, #T_97dba_row13_col2, #T_97dba_row14_col0, #T_97dba_row14_col1, #T_97dba_row14_col2, #T_97dba_row15_col0, #T_97dba_row15_col1, #T_97dba_row15_col2, #T_97dba_row16_col0, #T_97dba_row16_col1, #T_97dba_row16_col2, #T_97dba_row17_col0, #T_97dba_row17_col1, #T_97dba_row17_col2 {\n",
       "  text-align: left;\n",
       "  overflow-wrap: break-word;\n",
       "}\n",
       "</style>\n",
       "<table id=\"T_97dba\">\n",
       "  <thead>\n",
       "    <tr>\n",
       "      <th class=\"blank level0\" >&nbsp;</th>\n",
       "      <th id=\"T_97dba_level0_col0\" class=\"col_heading level0 col0\" >entity</th>\n",
       "      <th id=\"T_97dba_level0_col1\" class=\"col_heading level0 col1\" >predicted</th>\n",
       "      <th id=\"T_97dba_level0_col2\" class=\"col_heading level0 col2\" >rationale</th>\n",
       "    </tr>\n",
       "  </thead>\n",
       "  <tbody>\n",
       "    <tr>\n",
       "      <th id=\"T_97dba_level0_row0\" class=\"row_heading level0 row0\" >0</th>\n",
       "      <td id=\"T_97dba_row0_col0\" class=\"data row0 col0\" >Rosa Parks</td>\n",
       "      <td id=\"T_97dba_row0_col1\" class=\"data row0 col1\" >positive</td>\n",
       "      <td id=\"T_97dba_row0_col2\" class=\"data row0 col2\" >Based on the given definition, we can argue that Rosa Parks is a woman. \n",
       "\n",
       "(i) Rosa Parks is regularly and for the most part observed or imagined to have certain bodily features presumed to be evidence of a female's biological role in reproduction. While the definition does not provide specific details about Rosa Parks' bodily features, it is generally observed that women have certain physical characteristics associated with their reproductive role.\n",
       "\n",
       "(ii) The fact that Rosa Parks has these bodily features marks her within the dominant ideology of her society as someone who ought to occupy certain kinds of social positions that are in fact subordinate. In the context of the civil rights movement in the United States, women, including Rosa Parks, were often subjected to societal norms and expectations that placed them in subordinate positions.\n",
       "\n",
       "(iii) The fact that Rosa Parks satisfies (i) and (ii) plays a role in her systematic subordination. Rosa Parks, as a woman, faced discrimination and oppression based on her gender. Her actions and involvement in the civil rights movement were motivated by her desire to challenge and overcome this systematic subordination.\n",
       "\n",
       "Therefore, based on the given definition and the information about Rosa Parks, we can argue that she is a woman.</td>\n",
       "    </tr>\n",
       "    <tr>\n",
       "      <th id=\"T_97dba_level0_row1\" class=\"row_heading level0 row1\" >1</th>\n",
       "      <td id=\"T_97dba_row1_col0\" class=\"data row1 col0\" >Hillary Clinton</td>\n",
       "      <td id=\"T_97dba_row1_col1\" class=\"data row1 col1\" >positive</td>\n",
       "      <td id=\"T_97dba_row1_col2\" class=\"data row1 col2\" >Based on the given definition, we can argue that Hillary Clinton is a woman. \n",
       "\n",
       "(i) Hillary Clinton is regularly and for the most part observed or imagined to have certain bodily features presumed to be evidence of a female's biological role in reproduction. This refers to the physical characteristics typically associated with women, such as breasts, a feminine body shape, and other secondary sexual characteristics.\n",
       "\n",
       "(ii) The fact that Hillary Clinton has these bodily features marks her within the dominant ideology of society as someone who ought to occupy certain kinds of social positions that are in fact subordinate. This implies that society expects women to occupy certain roles and positions that are considered subordinate to those occupied by men.\n",
       "\n",
       "(iii) The fact that Hillary Clinton satisfies (i) and (ii) plays a role in her systematic subordination. As a woman, she faces societal expectations and biases that can lead to her being treated as less capable or deserving of certain positions or opportunities. This dimension of subordination can manifest in various ways, such as gender discrimination or unequal treatment based on gender.\n",
       "\n",
       "Therefore, based on the given definition, we can argue that Hillary Clinton is a woman because she satisfies the criteria of regularly being observed with certain bodily features associated with females, being marked within the dominant ideology as someone who should occupy subordinate social positions, and experiencing systematic subordination based on her gender.</td>\n",
       "    </tr>\n",
       "    <tr>\n",
       "      <th id=\"T_97dba_level0_row2\" class=\"row_heading level0 row2\" >2</th>\n",
       "      <td id=\"T_97dba_row2_col0\" class=\"data row2 col0\" >Pamela Anderson</td>\n",
       "      <td id=\"T_97dba_row2_col1\" class=\"data row2 col1\" >positive</td>\n",
       "      <td id=\"T_97dba_row2_col2\" class=\"data row2 col2\" >According to the given definition, Pamela Anderson can be considered a woman based on the following reasoning:\n",
       "\n",
       "(i) Pamela Anderson is regularly and for the most part observed or imagined to have certain bodily features presumed to be evidence of a female's biological role in reproduction. This refers to her physical appearance, which is commonly associated with femininity.\n",
       "\n",
       "(ii) The fact that Pamela Anderson has these bodily features marks her within the dominant ideology of society as someone who ought to occupy certain kinds of social positions that are in fact subordinate. This implies that her physical appearance, often associated with beauty and sexuality, motivates and justifies her occupying a position that is considered subordinate in society.\n",
       "\n",
       "(iii) The fact that Pamela Anderson satisfies (i) and (ii) plays a role in her systematic subordination. This means that, along some dimension, her social position is oppressive, and her satisfying (i) and (ii) contributes to that dimension of subordination.\n",
       "\n",
       "Based on this reasoning, Pamela Anderson can be categorized as a woman according to the given definition.</td>\n",
       "    </tr>\n",
       "    <tr>\n",
       "      <th id=\"T_97dba_level0_row3\" class=\"row_heading level0 row3\" >3</th>\n",
       "      <td id=\"T_97dba_row3_col0\" class=\"data row3 col0\" >Lebron James</td>\n",
       "      <td id=\"T_97dba_row3_col1\" class=\"data row3 col1\" >negative</td>\n",
       "      <td id=\"T_97dba_row3_col2\" class=\"data row3 col2\" >Based on the given definition, it is not possible to argue that LeBron James is a woman. The definition states that a person is a woman if they have certain bodily features presumed to be evidence of a female's biological role in reproduction. LeBron James, being a male basketball player, does not possess these bodily features. Therefore, he does not meet the criteria outlined in the definition to be considered a woman.</td>\n",
       "    </tr>\n",
       "    <tr>\n",
       "      <th id=\"T_97dba_level0_row4\" class=\"row_heading level0 row4\" >4</th>\n",
       "      <td id=\"T_97dba_row4_col0\" class=\"data row4 col0\" >Sally Haslanger</td>\n",
       "      <td id=\"T_97dba_row4_col1\" class=\"data row4 col1\" >positive</td>\n",
       "      <td id=\"T_97dba_row4_col2\" class=\"data row4 col2\" >According to the given definition, Sally Haslanger can be considered a woman because she satisfies the three conditions outlined in the definition.\n",
       "\n",
       "Firstly, Sally Haslanger is regularly observed or imagined to have certain bodily features presumed to be evidence of a female's biological role in reproduction. Although we don't have specific information about Sally Haslanger's bodily features, the definition does not require detailed knowledge about her specific physical characteristics. As long as she is regularly observed or imagined to have bodily features associated with females, she satisfies this condition.\n",
       "\n",
       "Secondly, the fact that Sally Haslanger has these bodily features marks her within the dominant ideology of her society as someone who ought to occupy certain kinds of social positions that are in fact subordinate. This suggests that she is perceived as someone who should occupy a social position that is considered inferior or subordinate, which aligns with the definition of a woman.\n",
       "\n",
       "Lastly, the fact that Sally Haslanger satisfies the first two conditions plays a role in her systematic subordination. The definition states that her satisfying the first two conditions contributes to her oppressive social position along some dimension. This implies that Sally Haslanger's social position is oppressive in some way, and her bodily features and societal expectations based on those features contribute to this oppression.\n",
       "\n",
       "Based on the given definition, Sally Haslanger can be considered a woman because she satisfies the conditions outlined, which include the regular observation or imagination of certain bodily features associated with females, the marking of her within the dominant ideology as someone who should occupy subordinate social positions, and the role that these conditions play in her systematic subordination.</td>\n",
       "    </tr>\n",
       "    <tr>\n",
       "      <th id=\"T_97dba_level0_row5\" class=\"row_heading level0 row5\" >5</th>\n",
       "      <td id=\"T_97dba_row5_col0\" class=\"data row5 col0\" >Nancy Pelosi</td>\n",
       "      <td id=\"T_97dba_row5_col1\" class=\"data row5 col1\" >positive</td>\n",
       "      <td id=\"T_97dba_row5_col2\" class=\"data row5 col2\" >Based on the given definition, we can argue that Nancy Pelosi is a woman by examining each criterion:\n",
       "\n",
       "(i) Nancy Pelosi is regularly and for the most part observed or imagined to have certain bodily features presumed to be evidence of a female's biological role in reproduction. This can be inferred from the fact that Nancy Pelosi is commonly referred to as \"she\" and \"her\" in the media and public discourse, indicating that she is perceived as a female.\n",
       "\n",
       "(ii) The fact that Nancy Pelosi has these bodily features marks her within the dominant ideology of society as someone who ought to occupy certain kinds of social positions that are in fact subordinate. As the first female Speaker of the House in the United States and a prominent political figure, Nancy Pelosi's position can be seen as occupying a role that has historically been dominated by men, thus highlighting the subordination of women in positions of power.\n",
       "\n",
       "(iii) The fact that Nancy Pelosi satisfies both (i) and (ii) plays a role in her systematic subordination. Despite her achievements and influence, Nancy Pelosi's social position as a woman in politics is still subject to sexist biases and discrimination. This dimension of subordination is evident in the challenges and criticism she faces based on her gender.\n",
       "\n",
       "Therefore, based on the given definition, Nancy Pelosi can be argued to be a woman as she satisfies the criteria outlined in (i), (ii), and (iii).</td>\n",
       "    </tr>\n",
       "    <tr>\n",
       "      <th id=\"T_97dba_level0_row6\" class=\"row_heading level0 row6\" >6</th>\n",
       "      <td id=\"T_97dba_row6_col0\" class=\"data row6 col0\" >Catwoman</td>\n",
       "      <td id=\"T_97dba_row6_col1\" class=\"data row6 col1\" >positive</td>\n",
       "      <td id=\"T_97dba_row6_col2\" class=\"data row6 col2\" >Based on the given definition, Catwoman can be considered a woman because she satisfies the criteria outlined in (i) and (ii). \n",
       "\n",
       "(i) Catwoman is regularly observed or imagined to have certain bodily features presumed to be evidence of a female's biological role in reproduction. While Catwoman is a fictional character, she is often depicted as having a humanoid female form, including feminine facial features, curves, and other physical characteristics associated with women.\n",
       "\n",
       "(ii) The fact that Catwoman has these features marks her within the dominant ideology of society as someone who ought to occupy certain kinds of social positions that are in fact subordinate. In the Batman universe, Catwoman is often portrayed as a thief or criminal, which can be seen as a socially subordinate position.\n",
       "\n",
       "Therefore, based on the given definition, Catwoman can be considered a woman because she satisfies the criteria of regularly observed bodily features and being marked within the dominant ideology as someone who ought to occupy a subordinate social position.</td>\n",
       "    </tr>\n",
       "    <tr>\n",
       "      <th id=\"T_97dba_level0_row7\" class=\"row_heading level0 row7\" >7</th>\n",
       "      <td id=\"T_97dba_row7_col0\" class=\"data row7 col0\" >Taylor Swift</td>\n",
       "      <td id=\"T_97dba_row7_col1\" class=\"data row7 col1\" >positive</td>\n",
       "      <td id=\"T_97dba_row7_col2\" class=\"data row7 col2\" >Based on the given definition, we can argue that Taylor Swift is a woman by examining the three criteria outlined in the definition.\n",
       "\n",
       "(i) Taylor Swift is regularly and for the most part observed or imagined to have certain bodily features presumed to be evidence of a female's biological role in reproduction. While we do not have specific information about Taylor Swift's bodily features, it is widely known and observed that she possesses the physical characteristics typically associated with females, such as breasts, a feminine appearance, and a female voice.\n",
       "\n",
       "(ii) The fact that Taylor Swift has these bodily features marks her within the dominant ideology of society as someone who ought to occupy certain kinds of social positions that are in fact subordinate. In the context of the music industry, there is a prevalent stereotype that women should primarily occupy positions such as singers, songwriters, and performers. Taylor Swift, being a highly successful singer-songwriter and performer, fits into this societal expectation.\n",
       "\n",
       "(iii) The fact that Taylor Swift satisfies criteria (i) and (ii) plays a role in her systematic subordination. While Taylor Swift is undoubtedly a successful and influential figure in the music industry, she has faced various forms of oppression and criticism throughout her career. This includes issues related to sexism, objectification, and the scrutiny of her personal life. These oppressive dynamics are rooted in the societal norms and expectations placed on women, which Taylor Swift's embodiment of the female gender contributes to.\n",
       "\n",
       "Therefore, based on the given definition, Taylor Swift can be argued to be a woman as she satisfies the criteria outlined in the definition.</td>\n",
       "    </tr>\n",
       "    <tr>\n",
       "      <th id=\"T_97dba_level0_row8\" class=\"row_heading level0 row8\" >8</th>\n",
       "      <td id=\"T_97dba_row8_col0\" class=\"data row8 col0\" >Julia Roberts</td>\n",
       "      <td id=\"T_97dba_row8_col1\" class=\"data row8 col1\" >positive</td>\n",
       "      <td id=\"T_97dba_row8_col2\" class=\"data row8 col2\" >Based on the given definition, we can argue that Julia Roberts is a woman because she satisfies all three conditions mentioned.\n",
       "\n",
       "Firstly, Julia Roberts is regularly observed or imagined to have certain bodily features presumed to be evidence of a female's biological role in reproduction. This is supported by the fact that Julia Roberts is a well-known actress who has been seen and photographed numerous times, and she possesses the physical characteristics typically associated with females.\n",
       "\n",
       "Secondly, the fact that Julia Roberts has these bodily features marks her within the dominant ideology of society as someone who ought to occupy certain kinds of social positions that are in fact subordinate. In the entertainment industry, women are often portrayed in roles that are subordinate to men, and Julia Roberts has played such roles in her career. This suggests that she is perceived as someone who should occupy these positions due to her gender.\n",
       "\n",
       "Lastly, the fact that Julia Roberts satisfies the first two conditions plays a role in her systematic subordination. In the entertainment industry, women are often subjected to gender-based discrimination and face challenges in terms of pay, representation, and opportunities. Julia Roberts, as a successful actress, has likely faced some form of oppression or discrimination based on her gender, contributing to her systematic subordination.\n",
       "\n",
       "Therefore, based on the given definition and the information available, we can argue that Julia Roberts is a woman.</td>\n",
       "    </tr>\n",
       "    <tr>\n",
       "      <th id=\"T_97dba_level0_row9\" class=\"row_heading level0 row9\" >9</th>\n",
       "      <td id=\"T_97dba_row9_col0\" class=\"data row9 col0\" >James Earl Carter</td>\n",
       "      <td id=\"T_97dba_row9_col1\" class=\"data row9 col1\" >negative</td>\n",
       "      <td id=\"T_97dba_row9_col2\" class=\"data row9 col2\" >Based on the given definition, it is not possible to argue that James Earl Carter is a woman. The definition states that a person is considered a woman if they have certain bodily features presumed to be evidence of a female's biological role in reproduction. However, there is no information provided in the definition or about James Earl Carter that suggests he possesses these bodily features. Therefore, it is not possible to assert that James Earl Carter is a woman based on the given information.</td>\n",
       "    </tr>\n",
       "    <tr>\n",
       "      <th id=\"T_97dba_level0_row10\" class=\"row_heading level0 row10\" >10</th>\n",
       "      <td id=\"T_97dba_row10_col0\" class=\"data row10 col0\" >Peter Bogdanovich</td>\n",
       "      <td id=\"T_97dba_row10_col1\" class=\"data row10 col1\" >negative</td>\n",
       "      <td id=\"T_97dba_row10_col2\" class=\"data row10 col2\" >Based on the given definition, it is not possible to argue that Peter Bogdanovich is a woman. The definition states that a person is considered a woman if they have certain bodily features presumed to be evidence of a female's biological role in reproduction. Since Peter Bogdanovich is a male, it can be inferred that he does not possess these bodily features. Therefore, he cannot be classified as a woman according to the given definition.</td>\n",
       "    </tr>\n",
       "    <tr>\n",
       "      <th id=\"T_97dba_level0_row11\" class=\"row_heading level0 row11\" >11</th>\n",
       "      <td id=\"T_97dba_row11_col0\" class=\"data row11 col0\" >Elinor Ostrom</td>\n",
       "      <td id=\"T_97dba_row11_col1\" class=\"data row11 col1\" >negative</td>\n",
       "      <td id=\"T_97dba_row11_col2\" class=\"data row11 col2\" >Based on the given definition, we can analyze whether Elinor Ostrom meets the criteria to be considered a woman.\n",
       "\n",
       "(i) Elinor Ostrom is regularly and for the most part observed or imagined to have certain bodily features presumed to be evidence of a female's biological role in reproduction: The definition does not provide any information about Elinor Ostrom's bodily features or reproductive role. Therefore, we cannot determine if she meets this criterion.\n",
       "\n",
       "(ii) Elinor Ostrom having these features marks her within the dominant ideology of her society as someone who ought to occupy certain kinds of social position that are in fact subordinate: The definition does not provide any information about the dominant ideology of Elinor Ostrom's society or her social position. Therefore, we cannot determine if she meets this criterion.\n",
       "\n",
       "(iii) The fact that Elinor Ostrom satisfies (i) and (ii) plays a role in her systematic subordination, and her social position is oppressive along some dimension: Since we cannot determine if Elinor Ostrom satisfies (i) and (ii), we cannot conclude if her social position is oppressive or if she meets this criterion.\n",
       "\n",
       "Based on the given definition and the lack of information about Elinor Ostrom's bodily features, reproductive role, dominant ideology, and social position, we cannot make a valid argument for the assertion that Elinor Ostrom is a woman.</td>\n",
       "    </tr>\n",
       "    <tr>\n",
       "      <th id=\"T_97dba_level0_row12\" class=\"row_heading level0 row12\" >12</th>\n",
       "      <td id=\"T_97dba_row12_col0\" class=\"data row12 col0\" >Catherine of Aragon</td>\n",
       "      <td id=\"T_97dba_row12_col1\" class=\"data row12 col1\" >positive</td>\n",
       "      <td id=\"T_97dba_row12_col2\" class=\"data row12 col2\" >Based on the provided definition of a woman, we can argue that Catherine of Aragon is indeed a woman.\n",
       "\n",
       "(i) Catherine of Aragon is regularly and for the most part observed or imagined to have certain bodily features presumed to be evidence of a female's biological role in reproduction. Historical records and accounts describe Catherine of Aragon as a woman with typical female bodily features such as breasts, a uterus, and the ability to conceive and give birth.\n",
       "\n",
       "(ii) The fact that Catherine of Aragon has these bodily features marks her within the dominant ideology of her society as someone who ought to occupy certain kinds of social positions that are in fact subordinate. During her time, women were generally expected to fulfill roles such as wives and mothers, and Catherine of Aragon was indeed married and had children.\n",
       "\n",
       "(iii) The fact that Catherine of Aragon satisfies (i) and (ii) plays a role in her systematic subordination. As a woman, Catherine of Aragon faced societal expectations and limitations that were based on her gender. She was expected to be submissive to her husband, King Henry VIII, and her inability to produce a male heir led to her eventual divorce and removal from her position as queen.\n",
       "\n",
       "Therefore, based on the provided definition, Catherine of Aragon can be considered a woman as she meets the criteria outlined in (i), (ii), and (iii).</td>\n",
       "    </tr>\n",
       "    <tr>\n",
       "      <th id=\"T_97dba_level0_row13\" class=\"row_heading level0 row13\" >13</th>\n",
       "      <td id=\"T_97dba_row13_col0\" class=\"data row13 col0\" >Catherine the Great</td>\n",
       "      <td id=\"T_97dba_row13_col1\" class=\"data row13 col1\" >positive</td>\n",
       "      <td id=\"T_97dba_row13_col2\" class=\"data row13 col2\" >Based on the given definition, we can argue that Catherine the Great is a woman. \n",
       "\n",
       "(i) Catherine the Great is regularly and for the most part observed or imagined to have certain bodily features presumed to be evidence of a female's biological role in reproduction. While the definition does not provide specific details about these bodily features, we can assume that Catherine the Great possesses the physical characteristics typically associated with being a woman.\n",
       "\n",
       "(ii) The fact that Catherine the Great has these bodily features marks her within the dominant ideology of her society as someone who ought to occupy certain kinds of social positions that are in fact subordinate. As a historical figure, Catherine the Great lived in a time when women were generally expected to occupy subordinate roles in society.\n",
       "\n",
       "(iii) The fact that Catherine the Great satisfies (i) and (ii) plays a role in her systematic subordination. As a woman in her society, Catherine the Great faced various forms of oppression and limitations based on her gender. Her gender played a significant role in shaping her social position and the challenges she faced.\n",
       "\n",
       "Therefore, based on the given definition, we can argue that Catherine the Great is a woman.</td>\n",
       "    </tr>\n",
       "    <tr>\n",
       "      <th id=\"T_97dba_level0_row14\" class=\"row_heading level0 row14\" >14</th>\n",
       "      <td id=\"T_97dba_row14_col0\" class=\"data row14 col0\" >Joyce Carol Oates</td>\n",
       "      <td id=\"T_97dba_row14_col1\" class=\"data row14 col1\" >positive</td>\n",
       "      <td id=\"T_97dba_row14_col2\" class=\"data row14 col2\" >Based on the given definition, we can argue that Joyce Carol Oates is a woman by examining the criteria outlined in the definition.\n",
       "\n",
       "Firstly, the definition states that a woman is regularly and for the most part observed or imagined to have certain bodily features presumed to be evidence of a female's biological role in reproduction. While we do not have specific information about Joyce Carol Oates' bodily features, we can assume that she possesses the typical physical characteristics associated with being a woman, such as breasts and a reproductive system. This assumption is based on the fact that Joyce Carol Oates is commonly referred to as a woman in society, and her appearance aligns with societal expectations of femininity.\n",
       "\n",
       "Secondly, the definition states that having these bodily features marks a person within the dominant ideology of their society as someone who ought to occupy certain kinds of social positions that are subordinate. In the case of Joyce Carol Oates, she is indeed marked within the dominant ideology as someone who should occupy certain social positions. As a woman, she is expected to fulfill roles and responsibilities that are traditionally associated with women, such as being a wife, mother, or caregiver. This expectation of occupying certain social positions that are subordinate to men is evident in society's gender norms and expectations.\n",
       "\n",
       "Lastly, the definition states that the fact that a person satisfies the first two criteria plays a role in their systematic subordination. In the case of Joyce Carol Oates, her identification as a woman and her adherence to societal expectations of femininity contribute to her systematic subordination. Women, in general, face various forms of oppression and inequality in society, such as gender pay gaps, limited access to opportunities, and discrimination. By identifying as a woman and conforming to societal expectations, Joyce Carol Oates is likely to experience these forms of subordination as well.\n",
       "\n",
       "In conclusion, based on the given definition, we can argue that Joyce Carol Oates is a woman because she possesses the bodily features associated with being a woman, is marked within the dominant ideology as someone who should occupy certain social positions, and experiences systematic subordination as a result of satisfying these criteria.</td>\n",
       "    </tr>\n",
       "    <tr>\n",
       "      <th id=\"T_97dba_level0_row15\" class=\"row_heading level0 row15\" >15</th>\n",
       "      <td id=\"T_97dba_row15_col0\" class=\"data row15 col0\" >Sally Hemings</td>\n",
       "      <td id=\"T_97dba_row15_col1\" class=\"data row15 col1\" >positive</td>\n",
       "      <td id=\"T_97dba_row15_col2\" class=\"data row15 col2\" >According to the given definition, Sally Hemings can be considered a woman based on the following reasons:\n",
       "\n",
       "(i) Sally Hemings is regularly and for the most part observed or imagined to have certain bodily features presumed to be evidence of a female's biological role in reproduction. Although no specific bodily features are mentioned in the given information, it can be assumed that Sally Hemings possesses the physical characteristics typically associated with women.\n",
       "\n",
       "(ii) The fact that Sally Hemings has these bodily features marks her within the dominant ideology of her society as someone who ought to occupy certain kinds of social positions that are in fact subordinate. This implies that Sally Hemings is expected to fulfill certain roles and responsibilities traditionally assigned to women in her society.\n",
       "\n",
       "(iii) The fact that Sally Hemings satisfies both (i) and (ii) plays a role in her systematic subordination. This suggests that along some dimension, Sally Hemings' social position is oppressive, and her conformity to societal expectations of being a woman contributes to this oppression.\n",
       "\n",
       "Based on these points, it can be argued that Sally Hemings fits the definition of a woman as provided and can be considered a woman according to the given criteria.</td>\n",
       "    </tr>\n",
       "    <tr>\n",
       "      <th id=\"T_97dba_level0_row16\" class=\"row_heading level0 row16\" >16</th>\n",
       "      <td id=\"T_97dba_row16_col0\" class=\"data row16 col0\" >Caitlyn Jenner</td>\n",
       "      <td id=\"T_97dba_row16_col1\" class=\"data row16 col1\" >positive</td>\n",
       "      <td id=\"T_97dba_row16_col2\" class=\"data row16 col2\" >Based on the given definition, Caitlyn Jenner can be argued to be a woman. \n",
       "\n",
       "(i) Caitlyn Jenner is regularly and for the most part observed or imagined to have certain bodily features presumed to be evidence of a female's biological role in reproduction. Although Caitlyn Jenner was assigned male at birth, she has undergone gender transition procedures, including hormone therapy and gender confirmation surgery, which have resulted in physical changes that align with the bodily features traditionally associated with females.\n",
       "\n",
       "(ii) The fact that Caitlyn Jenner has these bodily features marks her within the dominant ideology of society as someone who ought to occupy certain kinds of social positions that are in fact subordinate. As a transgender woman, Caitlyn Jenner faces societal expectations and prejudices that are often associated with women, including stereotypes and discrimination.\n",
       "\n",
       "(iii) The fact that Caitlyn Jenner satisfies both (i) and (ii) plays a role in her systematic subordination. As a transgender woman, she faces systematic oppression and discrimination based on her gender identity. This oppression is a result of societal norms and expectations that marginalize and subordinate individuals who do not conform to traditional gender roles.\n",
       "\n",
       "Therefore, based on the given definition and the information about Caitlyn Jenner, it can be argued that she is a woman.</td>\n",
       "    </tr>\n",
       "    <tr>\n",
       "      <th id=\"T_97dba_level0_row17\" class=\"row_heading level0 row17\" >17</th>\n",
       "      <td id=\"T_97dba_row17_col0\" class=\"data row17 col0\" >Kamala Harris</td>\n",
       "      <td id=\"T_97dba_row17_col1\" class=\"data row17 col1\" >positive</td>\n",
       "      <td id=\"T_97dba_row17_col2\" class=\"data row17 col2\" >Based on the given definition, we can argue that Kamala Harris is a woman by examining each criterion:\n",
       "\n",
       "(i) Kamala Harris is regularly and for the most part observed or imagined to have certain bodily features presumed to be evidence of a female's biological role in reproduction. While we do not have specific information about Kamala Harris's bodily features in the given definition, we can rely on our background knowledge that she is biologically female, as indicated by her sex assigned at birth.\n",
       "\n",
       "(ii) The fact that Kamala Harris has these bodily features marks her within the dominant ideology of society as someone who ought to occupy certain kinds of social positions that are in fact subordinate. This is evident in the historical context of women being traditionally assigned subordinate roles in society.\n",
       "\n",
       "(iii) The fact that Kamala Harris satisfies criteria (i) and (ii) plays a role in her systematic subordination. This implies that along some dimension, Kamala Harris's social position is oppressive, and her satisfying criteria (i) and (ii) contributes to that dimension of subordination.\n",
       "\n",
       "Based on this argument, we can conclude that Kamala Harris is a woman according to the provided definition.</td>\n",
       "    </tr>\n",
       "  </tbody>\n",
       "</table>\n"
      ],
      "text/plain": [
       "<pandas.io.formats.style.Styler at 0x12a9ea5d0>"
      ]
     },
     "execution_count": 21,
     "metadata": {},
     "output_type": "execute_result"
    }
   ],
   "source": [
    "df = DataFrame( \n",
    "    [ woman_2.classify(Entity(\"\", entity)) for entity in collection ], \n",
    "    columns = [ 'entity' , 'predicted', 'rationale' ] \n",
    "    )\n",
    "df[\"predicted\"] = df[\"predicted\"].str.lower()\n",
    "df.style.set_properties(**{\"text-align\": \"left\", \"overflow-wrap\": \"break-word\"})"
   ]
  },
  {
   "cell_type": "code",
   "execution_count": 22,
   "metadata": {},
   "outputs": [],
   "source": [
    "def iteratively_refine_concept(concept, iterations=5):\n",
    "    concepts = [ concept.to_json() ]\n",
    "    for i in range(iterations):\n",
    "        counterexample = concept.propose_counterexample()\n",
    "        print(f'Iteration {i+1}')\n",
    "        print(f'   Counterexample: {counterexample[\"counterexample\"]}')\n",
    "        revision = concept.revise_definition(counterexample)\n",
    "        print(f'   Revised definition: {revision[\"revision\"]}')\n",
    "        revised_concept = Concept(concept.id, concept.label, revision[\"revision\"])\n",
    "        concepts.append(revised_concept.to_json())\n",
    "        concept = revised_concept\n",
    "    return concepts"
   ]
  },
  {
   "cell_type": "code",
   "execution_count": 23,
   "metadata": {},
   "outputs": [
    {
     "name": "stdout",
     "output_type": "stream",
     "text": [
      "Iteration 1\n",
      "   Counterexample: Switzerland\n",
      "   Revised definition: Europe is a continent located entirely in the Northern Hemisphere and mostly in the Eastern Hemisphere, comprising of all countries within its geographical boundaries, regardless of their membership in the European Union or its predecessors.\n",
      "Iteration 2\n",
      "   Counterexample: Cyprus\n",
      "   Revised definition: Europe is a continent primarily located in the Northern Hemisphere and mostly in the Eastern Hemisphere, comprising of all countries within its geographical boundaries, as well as countries that are politically and culturally aligned with Europe, regardless of their geographical location or their membership in the European Union or its predecessors.\n",
      "Iteration 3\n",
      "   Counterexample: Australia\n",
      "   Revised definition: Europe is a continent primarily located in the Northern Hemisphere and mostly in the Eastern Hemisphere, comprising of all countries within its geographical boundaries. It also includes countries that are politically and culturally aligned with Europe, regardless of their geographical location, their membership in the European Union or its predecessors, or their location in the Northern or Eastern Hemispheres. This alignment may be due to historical ties, membership in intergovernmental organizations associated with Europe, or other significant political or cultural connections.\n",
      "Iteration 4\n",
      "   Counterexample: Australia\n",
      "   Revised definition: Europe is a continent primarily located in the Northern Hemisphere and mostly in the Eastern Hemisphere, comprising of all countries within its geographical boundaries. It also includes countries that are politically, culturally, and historically aligned with Europe, regardless of their geographical location, their membership in the European Union or its predecessors, or their location in the Northern or Eastern Hemispheres. This alignment may be due to historical ties, membership in intergovernmental organizations associated with Europe, or other significant political or cultural connections. The concept of Europe extends beyond geographical boundaries to encompass countries that share significant ties with Europe, such as Australia.\n",
      "Iteration 5\n",
      "   Counterexample: Russia\n",
      "   Revised definition: Europe is a continent primarily located in the Northern Hemisphere and mostly in the Eastern Hemisphere, comprising of all countries within its geographical boundaries. It also includes countries that are politically, culturally, and historically aligned with Europe, regardless of their geographical location, their membership in the European Union or its predecessors, or their location in the Northern or Eastern Hemispheres. This alignment may be due to historical ties, membership in intergovernmental organizations associated with Europe, or other significant political or cultural connections. The concept of Europe extends beyond geographical boundaries to encompass countries that share significant ties with Europe, such as Australia. Additionally, it also includes transcontinental countries that have significant ties with both Europe and another continent, such as Russia.\n"
     ]
    },
    {
     "data": {
      "text/plain": [
       "[{'id': 'oed_europe',\n",
       "  'label': 'Europe',\n",
       "  'definition': 'The European Union or its predecessors',\n",
       "  'model_name': 'gpt-4',\n",
       "  'temperature': 0.1},\n",
       " {'id': 'oed_europe',\n",
       "  'label': 'Europe',\n",
       "  'definition': 'Europe is a continent located entirely in the Northern Hemisphere and mostly in the Eastern Hemisphere, comprising of all countries within its geographical boundaries, regardless of their membership in the European Union or its predecessors.',\n",
       "  'model_name': 'gpt-4',\n",
       "  'temperature': 0.1},\n",
       " {'id': 'oed_europe',\n",
       "  'label': 'Europe',\n",
       "  'definition': 'Europe is a continent primarily located in the Northern Hemisphere and mostly in the Eastern Hemisphere, comprising of all countries within its geographical boundaries, as well as countries that are politically and culturally aligned with Europe, regardless of their geographical location or their membership in the European Union or its predecessors.',\n",
       "  'model_name': 'gpt-4',\n",
       "  'temperature': 0.1},\n",
       " {'id': 'oed_europe',\n",
       "  'label': 'Europe',\n",
       "  'definition': 'Europe is a continent primarily located in the Northern Hemisphere and mostly in the Eastern Hemisphere, comprising of all countries within its geographical boundaries. It also includes countries that are politically and culturally aligned with Europe, regardless of their geographical location, their membership in the European Union or its predecessors, or their location in the Northern or Eastern Hemispheres. This alignment may be due to historical ties, membership in intergovernmental organizations associated with Europe, or other significant political or cultural connections.',\n",
       "  'model_name': 'gpt-4',\n",
       "  'temperature': 0.1},\n",
       " {'id': 'oed_europe',\n",
       "  'label': 'Europe',\n",
       "  'definition': 'Europe is a continent primarily located in the Northern Hemisphere and mostly in the Eastern Hemisphere, comprising of all countries within its geographical boundaries. It also includes countries that are politically, culturally, and historically aligned with Europe, regardless of their geographical location, their membership in the European Union or its predecessors, or their location in the Northern or Eastern Hemispheres. This alignment may be due to historical ties, membership in intergovernmental organizations associated with Europe, or other significant political or cultural connections. The concept of Europe extends beyond geographical boundaries to encompass countries that share significant ties with Europe, such as Australia.',\n",
       "  'model_name': 'gpt-4',\n",
       "  'temperature': 0.1},\n",
       " {'id': 'oed_europe',\n",
       "  'label': 'Europe',\n",
       "  'definition': 'Europe is a continent primarily located in the Northern Hemisphere and mostly in the Eastern Hemisphere, comprising of all countries within its geographical boundaries. It also includes countries that are politically, culturally, and historically aligned with Europe, regardless of their geographical location, their membership in the European Union or its predecessors, or their location in the Northern or Eastern Hemispheres. This alignment may be due to historical ties, membership in intergovernmental organizations associated with Europe, or other significant political or cultural connections. The concept of Europe extends beyond geographical boundaries to encompass countries that share significant ties with Europe, such as Australia. Additionally, it also includes transcontinental countries that have significant ties with both Europe and another continent, such as Russia.',\n",
       "  'model_name': 'gpt-4',\n",
       "  'temperature': 0.1}]"
      ]
     },
     "execution_count": 23,
     "metadata": {},
     "output_type": "execute_result"
    }
   ],
   "source": [
    "europe = Concept(\"oed_europe\", \"Europe\", \"The European Union or its predecessors\")\n",
    "iteratively_refine_concept(europe, iterations=5)"
   ]
  }
 ],
 "metadata": {
  "kernelspec": {
   "display_name": "conceptual-engineering-using-llms",
   "language": "python",
   "name": "python3"
  },
  "language_info": {
   "codemirror_mode": {
    "name": "ipython",
    "version": 3
   },
   "file_extension": ".py",
   "mimetype": "text/x-python",
   "name": "python",
   "nbconvert_exporter": "python",
   "pygments_lexer": "ipython3",
   "version": "3.11.4"
  },
  "orig_nbformat": 4
 },
 "nbformat": 4,
 "nbformat_minor": 2
}
