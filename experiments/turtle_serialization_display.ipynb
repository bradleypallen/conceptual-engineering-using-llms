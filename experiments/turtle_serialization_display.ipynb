{
 "cells": [
  {
   "cell_type": "code",
   "execution_count": 77,
   "metadata": {},
   "outputs": [],
   "source": [
    "import json\n",
    "from rdflib.plugins.sparql.results.tsvresults import TSVResultParser\n",
    "from rdflib import URIRef, Graph, Namespace\n",
    "from rdflib.namespace import RDF, RDFS, OWL\n",
    "from io import StringIO"
   ]
  },
  {
   "cell_type": "code",
   "execution_count": 71,
   "metadata": {},
   "outputs": [],
   "source": [
    "experiments = json.load(open('experiments/caligraph_experiment_data.json', 'r'))"
   ]
  },
  {
   "cell_type": "code",
   "execution_count": 101,
   "metadata": {},
   "outputs": [],
   "source": [
    "def pp_rdf(serialization):\n",
    "    result_string = \"?s\\t?p\\t?o\\n\"+serialization\n",
    "    result_io = StringIO(result_string)\n",
    "    parser = TSVResultParser()\n",
    "    parsed_results = parser.parse(result_io)\n",
    "    g = Graph()\n",
    "    CLGO = Namespace(\"http://caligraph.org/ontology/\")\n",
    "    CLGR = Namespace(\"http://caligraph.org/resource/\")\n",
    "    DBPEDIA = Namespace(\"http://dbpedia.org/resource/\")\n",
    "    g.bind(\"clgo\", CLGO)\n",
    "    g.bind(\"clgr\", CLGR)\n",
    "    g.bind(\"rdfs\", RDFS)\n",
    "    g.bind(\"rdf\", RDF)\n",
    "    g.bind(\"owl\", OWL)\n",
    "    g.bind(\"dbpedia\", DBPEDIA)\n",
    "    for (s, p, o) in parsed_results:\n",
    "        s = URIRef(s)\n",
    "        p = URIRef(p)\n",
    "        if o.startswith('http'):\n",
    "            o = URIRef(o)\n",
    "        g.add((s, p, o))\n",
    "    return g.serialize(format=\"ttl\")"
   ]
  },
  {
   "cell_type": "code",
   "execution_count": 102,
   "metadata": {},
   "outputs": [
    {
     "name": "stdout",
     "output_type": "stream",
     "text": [
      "@prefix clgo: <http://caligraph.org/ontology/> .\n",
      "@prefix clgr: <http://caligraph.org/resource/> .\n",
      "@prefix owl: <http://www.w3.org/2002/07/owl#> .\n",
      "@prefix prov: <http://www.w3.org/ns/prov#> .\n",
      "@prefix rdfs: <http://www.w3.org/2000/01/rdf-schema#> .\n",
      "@prefix skos: <http://www.w3.org/2004/02/skos/core#> .\n",
      "\n",
      "clgr:Branislav%20Arsenijevi%C4%87_\\(19490760\\) a clgo:20th-century_birth,\n",
      "        clgo:FK_Sarajevo_player,\n",
      "        clgo:Foreign_Azerbaijan_Premier_League_player,\n",
      "        clgo:Living_person,\n",
      "        owl:NamedIndividual ;\n",
      "    rdfs:label \"Branislav Arsenijević\" ;\n",
      "    clgo:team clgr:FK_Sarajevo,\n",
      "        clgr:Shuvalan_FK ;\n",
      "    skos:prefLabel \"Branislav Arsenijević\" ;\n",
      "    prov:wasDerivedFrom <http://en.wikipedia.org/wiki/2010%E2%80%9311_FK_Sarajevo_season>,\n",
      "        <http://en.wikipedia.org/wiki/2012%E2%80%9313_AZAL_PFC_season>,\n",
      "        <http://en.wikipedia.org/wiki/2013%E2%80%9314_AZAL_PFC_season>,\n",
      "        <http://en.wikipedia.org/wiki/List_of_FK_Sarajevo_players>,\n",
      "        <http://en.wikipedia.org/wiki/List_of_foreign_Azerbaijan_Premier_League_players>,\n",
      "        <http://en.wikipedia.org/wiki/Shuvalan_FK> .\n",
      "\n",
      "\n"
     ]
    }
   ],
   "source": [
    "print(pp_rdf(experiments[6][\"data\"][0][\"serialization\"]))"
   ]
  },
  {
   "cell_type": "code",
   "execution_count": null,
   "metadata": {},
   "outputs": [],
   "source": []
  }
 ],
 "metadata": {
  "kernelspec": {
   "display_name": "conceptual-engineering-using-llms",
   "language": "python",
   "name": "python3"
  },
  "language_info": {
   "codemirror_mode": {
    "name": "ipython",
    "version": 3
   },
   "file_extension": ".py",
   "mimetype": "text/x-python",
   "name": "python",
   "nbconvert_exporter": "python",
   "pygments_lexer": "ipython3",
   "version": "3.11.4"
  },
  "orig_nbformat": 4
 },
 "nbformat": 4,
 "nbformat_minor": 2
}
