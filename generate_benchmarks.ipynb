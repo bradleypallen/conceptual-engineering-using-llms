{
 "cells": [
  {
   "cell_type": "code",
   "execution_count": 1,
   "metadata": {},
   "outputs": [],
   "source": [
    "import json, pycm, pandas as pd\n",
    "from conceptual_engineering_toolkit import Benchmark, Experiment"
   ]
  },
  {
   "cell_type": "code",
   "execution_count": null,
   "metadata": {},
   "outputs": [],
   "source": [
    "benchmark = Benchmark(\"woman\", \"benchmarks/woman/positives.sparql\", \"benchmarks/woman/negatives.sparql\", limit=1000)                 \n",
    "benchmark.retrieve()\n",
    "benchmark_file = benchmark.save()"
   ]
  },
  {
   "cell_type": "code",
   "execution_count": 2,
   "metadata": {},
   "outputs": [],
   "source": [
    "benchmark = Benchmark(\"planet\", \"benchmarks/planet/positives.sparql\", \"benchmarks/planet/negatives.sparql\", limit=1000)                 \n",
    "benchmark.retrieve()\n",
    "benchmark_file = benchmark.save()"
   ]
  },
  {
   "cell_type": "code",
   "execution_count": null,
   "metadata": {},
   "outputs": [],
   "source": [
    "benchmark = Benchmark(\"european\", \"benchmarks/european/positives.sparql\", \"benchmarks/european/negatives.sparql\", limit=1000)                 \n",
    "benchmark.retrieve()\n",
    "benchmark_file = benchmark.save()"
   ]
  }
 ],
 "metadata": {
  "kernelspec": {
   "display_name": "conceptual-engineering-using-llms",
   "language": "python",
   "name": "python3"
  },
  "language_info": {
   "codemirror_mode": {
    "name": "ipython",
    "version": 3
   },
   "file_extension": ".py",
   "mimetype": "text/x-python",
   "name": "python",
   "nbconvert_exporter": "python",
   "pygments_lexer": "ipython3",
   "version": "3.11.4"
  },
  "orig_nbformat": 4
 },
 "nbformat": 4,
 "nbformat_minor": 2
}
