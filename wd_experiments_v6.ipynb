{
 "cells": [
  {
   "cell_type": "code",
   "execution_count": 1,
   "metadata": {},
   "outputs": [],
   "source": [
    "import json, pycm, pandas as pd\n",
    "from nl_classifier import NaturalLanguageClassifer\n",
    "from datetime import datetime"
   ]
  },
  {
   "cell_type": "code",
   "execution_count": 2,
   "metadata": {},
   "outputs": [],
   "source": [
    "MODEL_NAME = 'gpt-4'\n",
    "TEMPERATURE = 0.1\n",
    "RESULTS_FILENAME = 'wd_gpt-4_label_results.json'"
   ]
  },
  {
   "cell_type": "code",
   "execution_count": 3,
   "metadata": {},
   "outputs": [],
   "source": [
    "experiments = json.load(open(RESULTS_FILENAME, 'r'))"
   ]
  },
  {
   "cell_type": "code",
   "execution_count": 4,
   "metadata": {},
   "outputs": [
    {
     "name": "stdout",
     "output_type": "stream",
     "text": [
      "01: History of cities              http://www.wikidata.org/entity/Q30324006 SKIPPING\n",
      "02: Embedded system                http://www.wikidata.org/entity/Q193040 SKIPPING\n",
      "03: Irregular galaxy               http://www.wikidata.org/entity/Q190397 SKIPPING\n",
      "04: Plant variety (law)            http://www.wikidata.org/entity/Q1363241 SKIPPING\n",
      "05: Microcomputer                  http://www.wikidata.org/entity/Q32738 SKIPPING\n",
      "06: Equestrian sport               http://www.wikidata.org/entity/Q902378 SKIPPING\n",
      "07: Fraud                          http://www.wikidata.org/entity/Q28813 SKIPPING\n",
      "08: Seaplane                       http://www.wikidata.org/entity/Q115940 SKIPPING\n",
      "09: Beer in Belgium                http://www.wikidata.org/entity/Q348229 SKIPPING\n",
      "10: Seyfert galaxy                 http://www.wikidata.org/entity/Q213930 SKIPPING\n",
      "11: Cities of Japan                http://www.wikidata.org/entity/Q494721 SKIPPING\n",
      "12: Catholic higher education      http://www.wikidata.org/entity/Q557206 SKIPPING\n",
      "13: Village (Japan)                http://www.wikidata.org/entity/Q4174776\n",
      "   01: Hayashida Immigrant Village    http://www.wikidata.org/entity/Q20688624      SKIPPING\n",
      "   02: Yoshino Immigrant Village      http://www.wikidata.org/entity/Q10917395      SKIPPING\n",
      "   03: Toyota Immigrant Village       http://www.wikidata.org/entity/Q17499723      SKIPPING\n",
      "   04: Shibetoro                      http://www.wikidata.org/entity/Q4422970       SKIPPING\n",
      "   05: Fudai                          http://www.wikidata.org/entity/Q1349135       SKIPPING\n",
      "   06: Higashichichibu                http://www.wikidata.org/entity/Q1357435       SKIPPING\n",
      "   07: Nishiokoppe                    http://www.wikidata.org/entity/Q1348818       SKIPPING\n",
      "   08: Rusutsu                        http://www.wikidata.org/entity/Q1354413       SKIPPING\n",
      "   09: Zamami                         http://www.wikidata.org/entity/Q145373        SKIPPING\n",
      "   10: Toyone                         http://www.wikidata.org/entity/Q153618        SKIPPING\n",
      "   11: Shingo                         http://www.wikidata.org/entity/Q44548         SKIPPING\n",
      "   12: Toyooka                        http://www.wikidata.org/entity/Q44545         SKIPPING\n",
      "   13: Aka                            http://www.wikidata.org/entity/Q119837        SKIPPING\n",
      "   14: Tachikawa                      http://www.wikidata.org/entity/Q269634        SKIPPING\n",
      "   15: Kosuge                         http://www.wikidata.org/entity/Q29463         SKIPPING\n",
      "   16: Tomari                         http://www.wikidata.org/entity/Q268750        SKIPPING\n",
      "   17: Kawakami                       http://www.wikidata.org/entity/Q588091        SKIPPING\n",
      "   18: Nakajima                       http://www.wikidata.org/entity/Q370487        SKIPPING\n",
      "   19: Hinohara                       http://www.wikidata.org/entity/Q219576        SKIPPING\n",
      "   20: Yamato                         http://www.wikidata.org/entity/Q368508        SKIPPING\n",
      "   21: Fairview                       http://www.wikidata.org/entity/Q277459        SKIPPING\n",
      "   22: Varosha                        http://www.wikidata.org/entity/Q75666         SKIPPING\n",
      "   23: Basalorum                      http://www.wikidata.org/entity/Q129457        negative   00003 tokens  \n",
      "   24: Riverton                       http://www.wikidata.org/entity/Q280560        negative   00003 tokens  \n",
      "   25: Hot Springs                    http://www.wikidata.org/entity/Q283815        negative   00002 tokens  \n",
      "   26: Praha                          http://www.wikidata.org/entity/Q325055        negative   00003 tokens  \n",
      "   27: Crystal                        http://www.wikidata.org/entity/Q3459200       negative   00001 tokens  \n",
      "   28: Castellammare della Bruca      http://www.wikidata.org/entity/Q3662232       negative   00007 tokens  \n",
      "   29: Keetley                        http://www.wikidata.org/entity/Q3709538       negative   00003 tokens  \n",
      "   30: Starý Most                     http://www.wikidata.org/entity/Q3968435       negative   00003 tokens  \n",
      "   31: Piney                          http://www.wikidata.org/entity/Q4120830       negative   00003 tokens  \n",
      "   32: Alma                           http://www.wikidata.org/entity/Q4733495       negative   00002 tokens  \n",
      "   33: Alluwe                         http://www.wikidata.org/entity/Q4733369       negative   00003 tokens  \n",
      "   34: Corinth                        http://www.wikidata.org/entity/Q5170646       negative   00002 tokens  \n",
      "   35: Cooney                         http://www.wikidata.org/entity/Q5167678       negative   00002 tokens  \n",
      "   36: Comet                          http://www.wikidata.org/entity/Q5151569       negative   00002 tokens  \n",
      "   37: Contention City                http://www.wikidata.org/entity/Q5165100       negative   00003 tokens  \n",
      "   38: Copper Creek                   http://www.wikidata.org/entity/Q5168722       negative   00003 tokens  \n",
      "   39: Coso (former settlement), California http://www.wikidata.org/entity/Q5174658       negative   00007 tokens  \n",
      "   40: Crestline                      http://www.wikidata.org/entity/Q5184589       negative   00003 tokens  \n",
      "14: Fetus                          http://www.wikidata.org/entity/Q26513 SKIPPING\n",
      "15: Art movement                   http://www.wikidata.org/entity/Q968159 SKIPPING\n",
      "16: Child                          http://www.wikidata.org/entity/Q7569 SKIPPING\n",
      "17: Chronology                     http://www.wikidata.org/entity/Q130788 SKIPPING\n",
      "18: Indigenous peoples of the Americas http://www.wikidata.org/entity/Q36747 SKIPPING\n",
      "19: Esports                        http://www.wikidata.org/entity/Q300920 SKIPPING\n",
      "20: Natural science                http://www.wikidata.org/entity/Q7991 SKIPPING\n"
     ]
    }
   ],
   "source": [
    "for i, experiment in enumerate(experiments):\n",
    "    cls = experiment[\"concept\"]\n",
    "    if \"created\" in experiment:\n",
    "        print(f'{i+1:02}: {cls[\"label\"]:30} {cls[\"id\"]} SKIPPING')\n",
    "    else:\n",
    "        classifier = NaturalLanguageClassifer(cls[\"id\"], cls[\"label\"], \"\", MODEL_NAME, TEMPERATURE)\n",
    "        print(f'{i+1:02}: {cls[\"label\"]:30} {cls[\"id\"]}')\n",
    "        data = experiment[\"data\"]\n",
    "        for j, entity in enumerate(data):\n",
    "            if \"predicted\" in entity:\n",
    "                print(f'   {j+1:02}: {entity[\"label\"]:30} {entity[\"id\"]:45} SKIPPING')\n",
    "            else:\n",
    "                print(f'   {j+1:02}: {entity[\"label\"]:30} {entity[\"id\"]:45} {entity[\"actual\"]:10} {classifier.tokens_used(entity[\"label\"]):05} tokens ', end=\" \")\n",
    "                classification = classifier.classify(entity[\"label\"], \"\")\n",
    "                entity[\"predicted\"] = classification[\"predicted\"].lower()\n",
    "                if entity[\"actual\"] != entity[\"predicted\"]:\n",
    "                    if entity[\"actual\"] == \"positive\":\n",
    "                        print(\"FN\")\n",
    "                    else:\n",
    "                        print(\"FP\")\n",
    "                else:\n",
    "                    print(\"\")\n",
    "                entity[\"rationale\"] = classification[\"rationale\"]\n",
    "            df_results = pd.DataFrame.from_records(data)\n",
    "            cm = pycm.ConfusionMatrix(df_results[\"actual\"].tolist(), df_results[\"predicted\"].tolist(), digit=2, classes=[ 'positive', 'negative' ])\n",
    "            experiment[\"confusion_matrix\"] = cm.matrix\n",
    "            experiment[\"created\"] = datetime.now().isoformat()\n",
    "            json.dump(experiments, open(RESULTS_FILENAME, 'w+'))\n"
   ]
  }
 ],
 "metadata": {
  "kernelspec": {
   "display_name": "conceptual-engineering-using-llms",
   "language": "python",
   "name": "python3"
  },
  "language_info": {
   "codemirror_mode": {
    "name": "ipython",
    "version": 3
   },
   "file_extension": ".py",
   "mimetype": "text/x-python",
   "name": "python",
   "nbconvert_exporter": "python",
   "pygments_lexer": "ipython3",
   "version": "3.11.4"
  },
  "orig_nbformat": 4
 },
 "nbformat": 4,
 "nbformat_minor": 2
}
