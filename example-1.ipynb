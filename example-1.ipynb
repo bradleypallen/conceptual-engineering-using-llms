{
 "cells": [
  {
   "cell_type": "code",
   "execution_count": 1,
   "id": "9158167a",
   "metadata": {},
   "outputs": [],
   "source": [
    "from langchain import OpenAI, PromptTemplate, LLMChain\n",
    "from dotenv import load_dotenv\n",
    "from pandas import DataFrame\n",
    "load_dotenv();"
   ]
  },
  {
   "cell_type": "code",
   "execution_count": 2,
   "id": "3aa2dd61",
   "metadata": {},
   "outputs": [],
   "source": [
    "template = \"\"\"{variable} is a(n) {term} iff {definition}.\n",
    "\n",
    "Using the above definition, is {individual} a(n) {term}? If not, why not?\"\"\""
   ]
  },
  {
   "cell_type": "code",
   "execution_count": 3,
   "id": "cd01ad30",
   "metadata": {},
   "outputs": [],
   "source": [
    "prompt = PromptTemplate(\n",
    "    input_variables=[\"variable\", \"term\", \"definition\", \"individual\"], \n",
    "    template=template,\n",
    ")"
   ]
  },
  {
   "cell_type": "code",
   "execution_count": 4,
   "id": "5d49cb92",
   "metadata": {},
   "outputs": [],
   "source": [
    "haslanger_woman = \"\"\"(i) S is regularly and for the most part observed or imagined to have \n",
    "certain bodily features presumed to be evidence of a female’s biological role in reproduction; \n",
    "(ii) that S has these features marks S within the dominant ideology of S’s society as someone who \n",
    "ought to occupy certain kinds of social position that are in fact subordinate (and so motivates \n",
    "and justifies S’s occupying such a position); and (iii) the fact that S satisfies (I) and (ii) plays \n",
    "a role in S’s systematic subordination, that is, along some dimension, S’s social position is oppressive, \n",
    "and S’s satisfying (i) and (ii) plays a role in that dimension of subordination\"\"\""
   ]
  },
  {
   "cell_type": "code",
   "execution_count": 5,
   "id": "6e8b5e42",
   "metadata": {},
   "outputs": [
    {
     "name": "stdout",
     "output_type": "stream",
     "text": [
      "S is a(n) woman iff (i) S is regularly and for the most part observed or imagined to have \n",
      "certain bodily features presumed to be evidence of a female’s biological role in reproduction; \n",
      "(ii) that S has these features marks S within the dominant ideology of S’s society as someone who \n",
      "ought to occupy certain kinds of social position that are in fact subordinate (and so motivates \n",
      "and justifies S’s occupying such a position); and (iii) the fact that S satisfies (I) and (ii) plays \n",
      "a role in S’s systematic subordination, that is, along some dimension, S’s social position is oppressive, \n",
      "and S’s satisfying (i) and (ii) plays a role in that dimension of subordination.\n",
      "\n",
      "Using the above definition, is Rosa Parks a(n) woman? If not, why not?\n"
     ]
    }
   ],
   "source": [
    "print(prompt.format(variable=\"S\", term=\"woman\", definition=haslanger_woman, individual=\"Rosa Parks\"))"
   ]
  },
  {
   "cell_type": "code",
   "execution_count": 6,
   "id": "9a8d4706",
   "metadata": {},
   "outputs": [],
   "source": [
    "llm = OpenAI(temperature=0.7)\n",
    "chain = LLMChain(llm=llm, prompt=prompt)"
   ]
  },
  {
   "cell_type": "code",
   "execution_count": 7,
   "id": "83dfdbed",
   "metadata": {},
   "outputs": [],
   "source": [
    "humans = [\n",
    "    \"Rosa Parks\",\n",
    "    \"Hillary Clinton\",\n",
    "    \"Pamela Anderson\",\n",
    "    \"Lebron James\",\n",
    "    \"Sally Haslanger\",\n",
    "    \"Nancy Pelosi\",\n",
    "    \"Catwoman\",\n",
    "    \"Taylor Swift\",\n",
    "    \"Julia Roberts\",\n",
    "    \"James Earl Carter\",\n",
    "    \"Peter Bogdanovich\",\n",
    "    \"Elinor Ostrom\",\n",
    "    \"Catherine of Aragon\",\n",
    "    \"Catherine the Great\",\n",
    "    \"Joyce Carol Oates\",\n",
    "    \"Sally Hemings\",\n",
    "    \"Caitlyn Jenner\",\n",
    "]"
   ]
  },
  {
   "cell_type": "code",
   "execution_count": 8,
   "id": "c653438f",
   "metadata": {},
   "outputs": [
    {
     "name": "stdout",
     "output_type": "stream",
     "text": [
      "No, Rosa Parks is not a woman. Although she has the bodily features that are presumed to be evidence of a female's biological role in reproduction, she does not have the subordinate social position that is usually associated with being a woman. Therefore, the fact that she satisfies (i) and (ii) does not play a role in her systematic subordination.\n",
      "\n",
      "Yes, Hillary Clinton is a woman. She is regularly and for the most part observed or imagined to have certain bodily features presumed to be evidence of a female’s biological role in reproduction. Additionally, her having these features marks her within the dominant ideology of her society as someone who ought to occupy certain kinds of social positions that are in fact subordinate. Finally, the fact that she satisfies these criteria plays a role in her systematic subordination, as her social position is still oppressive due to her gender.\n",
      "\n",
      "Yes, Pamela Anderson is a woman. She has the bodily features presumed to be evidence of a female’s biological role in reproduction and her gender markers place her within the dominant ideology of her society as someone who ought to occupy certain kinds of social position that are in fact subordinate. She may not experience the same level of subordination as other women, but she does still experience a degree of oppression due to her gender.\n",
      "\n",
      "No, Lebron James is not a woman. Lebron James does not have the bodily features presumed to be evidence of a female's biological role in reproduction, and he does not occupy a subordinate social position that is motivated by or justified by these features. In addition, the fact that he does not satisfy (i) and (ii) does not play a role in his systematic subordination.\n",
      "\n",
      "Yes, Sally Haslanger is a woman. Sally Haslanger has the bodily features that are typically associated with women and she is socially positioned in a way that is subordinate to men. Her gender is also a factor in her systematic subordination, as she is often subject to patriarchal power structures both in her professional and personal life.\n",
      "\n",
      "Yes, Nancy Pelosi is a woman. She has the bodily features that are usually associated with being female, she occupies a social position that is typically subordinate to men, and her gender plays a role in her subordination.\n",
      "\n",
      "No, Catwoman is not a woman according to the above definition, because she does not satisfy (ii) and (iii). Catwoman does not occupy a subordinate social position and her being female does not play a role in her systematic subordination.\n",
      "\n",
      "Yes, Taylor Swift is a woman according to the definition provided. She has the bodily features presumed to be evidence of a female's biological role in reproduction, which marks her within the dominant ideology of her society as someone who ought to occupy certain kinds of social position that are in fact subordinate. Additionally, her social position is oppressive in certain ways, and her satisfying the criteria of (i) and (ii) plays a role in that dimension of subordination.\n",
      "\n",
      "Yes, Julia Roberts is a woman. She has the bodily features presumed to be evidence of a female's biological role in reproduction and is marked within the dominant ideology of her society as someone who ought to occupy certain kinds of social position that are in fact subordinate. Furthermore, the fact that she satisfies these criteria plays a role in her systematic subordination, and her social position is oppressive.\n",
      "\n",
      "No, James Earl Carter is not a woman. This is because James Earl Carter does not possess the bodily features presumed to be evidence of a female's biological role in reproduction and he does not occupy a social position that is subordinate in relation to the dominant ideology of his society.\n",
      "\n",
      "No, Peter Bogdanovich is not a woman. This is because he does not satisfy any of the criteria listed in the definition, such as having the bodily features presumed to be evidence of a female's biological role in reproduction or being marked within the dominant ideology of his society as someone who ought to occupy certain kinds of social position that are in fact subordinate.\n",
      "\n",
      "Yes, Elinor Ostrom is a woman. She was regularly and for the most part observed or imagined to have certain bodily features presumed to be evidence of a female’s biological role in reproduction, and her having these features marks her within the dominant ideology of her society as someone who ought to occupy certain kinds of social position that are in fact subordinate (and so motivates and justifies her occupying such a position). Furthermore, the fact that she satisfies (i) and (ii) plays a role in her systematic subordination, that is, along some dimension, her social position is oppressive, and her satisfying (i) and (ii) plays a role in that dimension of subordination.\n",
      "\n",
      "Yes, Catherine of Aragon is a woman. During her lifetime, she was regularly observed to have certain bodily features presumed to be evidence of a female’s biological role in reproduction. Furthermore, her having these features marked her within the dominant ideology of her society as someone who ought to occupy certain kinds of social position that were in fact subordinate. Finally, the fact that she satisfied (i) and (ii) played a role in her systematic subordination, as she was subject to oppressive gender-based treatment throughout her life.\n",
      "\n",
      "No, Catherine the Great is not a woman according to the definition given. Catherine the Great was an 18th century Russian Empress and her gender identity was not regularly or for the most part observed or imagined to have certain bodily features presumed to be evidence of a female's biological role in reproduction, nor did this gender identity mark her as someone who ought to occupy certain kinds of social position that are in fact subordinate. Therefore, while Catherine the Great may have identified as a woman, she does not fit the definition given.\n",
      "\n",
      "Yes, Joyce Carol Oates is a woman. She is regularly and for the most part observed or imagined to have certain bodily features presumed to be evidence of a female’s biological role in reproduction, and her having these features marks her within the dominant ideology of her society as someone who ought to occupy certain kinds of social position that are in fact subordinate. Moreover, the fact that she satisfies these criteria plays a role in her systematic subordination, meaning her social position is oppressive, and her satisfying these criteria plays a role in that dimension of subordination.\n",
      "\n",
      "No, Sally Hemings is not a woman according to this definition, because she did not occupy the subordinate social position that was typically required of women in her society. Sally Hemings was a slave and her status as a slave meant that she did not experience systematic subordination in the same way that other women in her society did.\n",
      "\n",
      "Yes, Caitlyn Jenner is a woman according to the definition provided. Caitlyn Jenner is regularly and for the most part observed or imagined to have certain bodily features presumed to be evidence of a female’s biological role in reproduction. This marks her within the dominant ideology of her society as someone who ought to occupy certain kinds of social position that are in fact subordinate (and so motivates and justifies her occupying such a position). The fact that Caitlyn Jenner satisfies the criteria of having these features plays a role in her systematic subordination, that is, along some dimension, her social position is oppressive, and her satisfying the criteria of (i) and (ii) plays a role in that dimension of subordination.\n",
      "\n"
     ]
    }
   ],
   "source": [
    "for individual in humans:\n",
    "    print(chain.run(variable=\"S\", term=\"woman\", definition=haslanger_woman, individual=individual).strip() + \"\\n\")"
   ]
  }
 ],
 "metadata": {
  "kernelspec": {
   "display_name": "Python 3 (ipykernel)",
   "language": "python",
   "name": "python3"
  },
  "language_info": {
   "codemirror_mode": {
    "name": "ipython",
    "version": 3
   },
   "file_extension": ".py",
   "mimetype": "text/x-python",
   "name": "python",
   "nbconvert_exporter": "python",
   "pygments_lexer": "ipython3",
   "version": "3.10.7"
  }
 },
 "nbformat": 4,
 "nbformat_minor": 5
}
