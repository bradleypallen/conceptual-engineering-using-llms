{
 "cells": [
  {
   "cell_type": "code",
   "execution_count": 1,
   "id": "9158167a",
   "metadata": {},
   "outputs": [],
   "source": [
    "from langchain import OpenAI, PromptTemplate, LLMChain\n",
    "from dotenv import load_dotenv\n",
    "from pandas import DataFrame\n",
    "load_dotenv();"
   ]
  },
  {
   "cell_type": "code",
   "execution_count": 2,
   "id": "3aa2dd61",
   "metadata": {},
   "outputs": [],
   "source": [
    "template = \"\"\"{variable} is a(n) {term} iff {definition}.\n",
    "\n",
    "Using the above definition, is {individual} a(n) {term}? If not, why not?\"\"\""
   ]
  },
  {
   "cell_type": "code",
   "execution_count": 3,
   "id": "cd01ad30",
   "metadata": {},
   "outputs": [],
   "source": [
    "prompt = PromptTemplate(\n",
    "    input_variables=[\"variable\", \"term\", \"definition\", \"individual\"], \n",
    "    template=template,\n",
    ")"
   ]
  },
  {
   "cell_type": "code",
   "execution_count": 4,
   "id": "5d49cb92",
   "metadata": {},
   "outputs": [],
   "source": [
    "haslanger_woman = \"\"\"(i) S is regularly and for the most part observed or imagined to have \n",
    "certain bodily features presumed to be evidence of a female’s biological role in reproduction; \n",
    "(ii) that S has these features marks S within the dominant ideology of S’s society as someone who \n",
    "ought to occupy certain kinds of social position that are in fact subordinate (and so motivates \n",
    "and justifies S’s occupying such a position); and (iii) the fact that S satisfies (I) and (ii) plays \n",
    "a role in S’s systematic subordination, that is, along some dimension, S’s social position is oppressive, \n",
    "and S’s satisfying (i) and (ii) plays a role in that dimension of subordination\"\"\""
   ]
  },
  {
   "cell_type": "code",
   "execution_count": 5,
   "id": "6e8b5e42",
   "metadata": {},
   "outputs": [
    {
     "name": "stdout",
     "output_type": "stream",
     "text": [
      "S is a(n) woman iff (i) S is regularly and for the most part observed or imagined to have \n",
      "certain bodily features presumed to be evidence of a female’s biological role in reproduction; \n",
      "(ii) that S has these features marks S within the dominant ideology of S’s society as someone who \n",
      "ought to occupy certain kinds of social position that are in fact subordinate (and so motivates \n",
      "and justifies S’s occupying such a position); and (iii) the fact that S satisfies (I) and (ii) plays \n",
      "a role in S’s systematic subordination, that is, along some dimension, S’s social position is oppressive, \n",
      "and S’s satisfying (i) and (ii) plays a role in that dimension of subordination.\n",
      "\n",
      "Using the above definition, is Rosa Parks a(n) woman? If not, why not?\n"
     ]
    }
   ],
   "source": [
    "print(prompt.format(variable=\"S\", term=\"woman\", definition=haslanger_woman, individual=\"Rosa Parks\"))"
   ]
  },
  {
   "cell_type": "code",
   "execution_count": 6,
   "id": "9a8d4706",
   "metadata": {},
   "outputs": [],
   "source": [
    "llm = OpenAI(temperature=0.7)\n",
    "chain = LLMChain(llm=llm, prompt=prompt)"
   ]
  },
  {
   "cell_type": "code",
   "execution_count": 7,
   "id": "83dfdbed",
   "metadata": {},
   "outputs": [],
   "source": [
    "humans = [\n",
    "    \"Rosa Parks\",\n",
    "    \"Hillary Clinton\",\n",
    "    \"Pamela Anderson\",\n",
    "    \"Lebron James\",\n",
    "    \"Sally Haslanger\",\n",
    "    \"Nancy Pelosi\",\n",
    "    \"Catwoman\",\n",
    "    \"Taylor Swift\",\n",
    "    \"Julia Roberts\",\n",
    "    \"James Earl Carter\",\n",
    "    \"Peter Bogdanovich\",\n",
    "    \"Elinor Ostrom\",\n",
    "    \"Catherine of Aragon\",\n",
    "    \"Catherine the Great\",\n",
    "    \"Joyce Carol Oates\",\n",
    "    \"Sally Hemings\",\n",
    "    \"Caitlyn Jenner\",\n",
    "]"
   ]
  },
  {
   "cell_type": "code",
   "execution_count": 8,
   "id": "c653438f",
   "metadata": {},
   "outputs": [
    {
     "name": "stdout",
     "output_type": "stream",
     "text": [
      "No, Rosa Parks is not a woman. Rosa Parks was a civil rights activist who fought for the rights of African Americans in the United States. She did not have the features presumed to be evidence of a female’s biological role in reproduction, nor did she occupy a subordinate social position that was motivated or justified by her features. Additionally, her social position was not oppressive, and her features did not play a role in her subordination.\n",
      "Yes, Hillary Clinton is a woman. She has the bodily features presumed to be evidence of a female's biological role in reproduction, and her gender is used to motivate and justify her occupying certain kinds of social positions that are in fact subordinate. Additionally, her gender plays a role in her systematic subordination, as she has faced oppression due to her gender throughout her career.\n",
      "Yes, Pamela Anderson is a woman. She has the bodily features presumed to be evidence of a female’s biological role in reproduction, and her gender has marked her within the dominant ideology of her society as someone who ought to occupy certain kinds of social position that are in fact subordinate. Moreover, the fact that she satisfies these criteria plays a role in her systematic subordination.\n",
      "No, Lebron James is not a woman. While Lebron James may have certain bodily features that are associated with biological female roles in reproduction, he does not satisfy the other two criteria in the definition. He does not occupy a subordinate social position and the fact that he does not satisfy the first two criteria does not play a role in any kind of systematic subordination.\n",
      "Yes, Sally Haslanger could be considered a woman according to this definition. This is because Sally Haslanger regularly and for the most part has the bodily features presumed to be evidence of a female’s biological role in reproduction, and because the fact that she has these features marks her as someone who occupies certain kinds of social positions, which are in fact subordinate and can lead to her systematic subordination.\n",
      "Yes, Nancy Pelosi is a woman. Nancy Pelosi has the bodily features associated with being a woman and she occupies a social position that is subordinate and often oppressive. Therefore, she satisfies the criteria of the definition and can be considered a woman.\n",
      "No, Catwoman is not a woman according to the above definition. Catwoman is a character in a fictional story, and does not possess the bodily features, occupy the subordinate social position, or be systematically subordinated in any way that would classify her as a woman.\n",
      "Yes, Taylor Swift is a woman. She has the bodily features that are traditionally associated with women and her gender has been used to justify her occupying certain kinds of social positions (e.g. being a pop star) that are often seen as subordinate. Furthermore, the fact that she is a woman has been used to undermine her success in the music industry and her experiences of sexism have been used to explain her lack of recognition in the industry.\n",
      "Yes, Julia Roberts is a woman. She is regularly and for the most part observed or imagined to have certain bodily features presumed to be evidence of a female’s biological role in reproduction. Furthermore, her having these features marks her within the dominant ideology of her society as someone who ought to occupy certain kinds of subordinate social positions. Finally, the fact that she satisfies these criteria plays a role in her systematic subordination along some dimension, making her social position oppressive.\n",
      "No, James Earl Carter is not a woman. He does not have the bodily features presumed to be evidence of a female’s biological role in reproduction, nor does he occupy a social position that is subordinate or systematically subordinated.\n",
      "No, Peter Bogdanovich is not a woman. This is because while he may possess some of the bodily features presumed to be evidence of a female’s biological role in reproduction, he does not satisfy conditions (ii) and (iii) since he does not occupy any social positions that are systematically subordinated, and thus his satisfying (i) does not play any role in his subordination.\n",
      "No, Elinor Ostrom is not a woman. Elinor Ostrom did not possess the bodily features and did not occupy the subordinate social positions necessary to satisfy the definition and thus cannot be classified as a woman.\n",
      "Yes, Catherine of Aragon is a woman. She was regularly and for the most part observed or imagined to have certain bodily features presumed to be evidence of a female’s biological role in reproduction, which marked her within the dominant ideology of her society as someone who ought to occupy certain kinds of social position that were in fact subordinate. Additionally, the fact that she satisfied these criteria played a role in her systematic subordination, making her a woman.\n",
      "No, Catherine the Great is not a woman according to the definition provided. Catherine the Great was a female monarch of Russia during the 18th century and while she may have had the bodily features that are typically associated with being a woman, she did not occupy a subordinate social position and her gender did not play a role in her systematic subordination.\n",
      "Yes, Joyce Carol Oates is a woman. She is regularly and for the most part observed or imagined to have certain bodily features presumed to be evidence of a female’s biological role in reproduction. She is marked within the dominant ideology of her society as someone who ought to occupy certain kinds of social positions that are in fact subordinate and this plays a role in her systematic subordination.\n",
      "No, Sally Hemings is not a woman according to the definition provided. The definition states that the fact that someone has certain bodily features presumed to be evidence of a female’s biological role in reproduction and that these features mark them within their society as someone who ought to occupy certain kinds of social position that are in fact subordinate must both play a role in the person’s systematic subordination. Although Sally Hemings had certain bodily features that are typically associated with women, her social position was not subordinate, and thus, she does not satisfy the definition of a woman.\n",
      "Yes, Caitlyn Jenner is a woman. As an individual who was previously identified as male and has since come out as transgender, Caitlyn Jenner fits all of the criteria outlined in the definition. Specifically, she has certain bodily features associated with female biology (although they are not necessarily seen as evidence of a female’s biological role in reproduction), her gender identity marks her within the dominant ideology of her society as someone who ought to occupy certain kinds of social positions that are in fact subordinate, and the fact that she identifies as a woman plays a role in her systematic subordination. Thus, Caitlyn Jenner can be considered a woman according to the definition provided.\n"
     ]
    }
   ],
   "source": [
    "for individual in humans:\n",
    "    print(chain.run(variable=\"S\", term=\"woman\", definition=haslanger_woman, individual=individual).strip())"
   ]
  },
  {
   "cell_type": "code",
   "execution_count": null,
   "id": "23d92864",
   "metadata": {},
   "outputs": [],
   "source": []
  }
 ],
 "metadata": {
  "kernelspec": {
   "display_name": "Python 3 (ipykernel)",
   "language": "python",
   "name": "python3"
  },
  "language_info": {
   "codemirror_mode": {
    "name": "ipython",
    "version": 3
   },
   "file_extension": ".py",
   "mimetype": "text/x-python",
   "name": "python",
   "nbconvert_exporter": "python",
   "pygments_lexer": "ipython3",
   "version": "3.10.7"
  }
 },
 "nbformat": 4,
 "nbformat_minor": 5
}
