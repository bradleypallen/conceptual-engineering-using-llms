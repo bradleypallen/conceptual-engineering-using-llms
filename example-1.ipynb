{
 "cells": [
  {
   "cell_type": "code",
   "execution_count": 1,
   "id": "9158167a",
   "metadata": {},
   "outputs": [],
   "source": [
    "from langchain.llms import OpenAI\n",
    "from langchain.chains import LLMChain, SequentialChain\n",
    "from langchain.prompts import PromptTemplate\n",
    "from dotenv import load_dotenv\n",
    "from pandas import DataFrame\n",
    "load_dotenv();"
   ]
  },
  {
   "cell_type": "code",
   "execution_count": 2,
   "id": "5d49cb92",
   "metadata": {},
   "outputs": [],
   "source": [
    "haslanger_woman = \"\"\"(i) S is regularly and for the most part observed or imagined to have \n",
    "certain bodily features presumed to be evidence of a female’s biological role in reproduction; \n",
    "(ii) that S has these features marks S within the dominant ideology of S’s society as someone who \n",
    "ought to occupy certain kinds of social position that are in fact subordinate (and so motivates \n",
    "and justifies S’s occupying such a position); and (iii) the fact that S satisfies (I) and (ii) plays \n",
    "a role in S’s systematic subordination, that is, along some dimension, S’s social position is oppressive, \n",
    "and S’s satisfying (i) and (ii) plays a role in that dimension of subordination\"\"\""
   ]
  },
  {
   "cell_type": "code",
   "execution_count": 3,
   "id": "3aa2dd61",
   "metadata": {},
   "outputs": [],
   "source": [
    "template_1 = \"\"\"Definition: {variable} is a(n) {term} iff {definition}.\n",
    "\n",
    "Using the above definition, is {element} a(n) {term}? Answer 'True' or 'False'.\n",
    "Answer:\"\"\""
   ]
  },
  {
   "cell_type": "code",
   "execution_count": 4,
   "id": "cd01ad30",
   "metadata": {},
   "outputs": [],
   "source": [
    "prompt_1 = PromptTemplate(\n",
    "    input_variables=[\"variable\", \"term\", \"definition\", \"element\"], \n",
    "    template=template_1,\n",
    ")"
   ]
  },
  {
   "cell_type": "code",
   "execution_count": 5,
   "id": "3da7b254",
   "metadata": {},
   "outputs": [
    {
     "name": "stdout",
     "output_type": "stream",
     "text": [
      "Definition: S is a(n) woman iff (i) S is regularly and for the most part observed or imagined to have \n",
      "certain bodily features presumed to be evidence of a female’s biological role in reproduction; \n",
      "(ii) that S has these features marks S within the dominant ideology of S’s society as someone who \n",
      "ought to occupy certain kinds of social position that are in fact subordinate (and so motivates \n",
      "and justifies S’s occupying such a position); and (iii) the fact that S satisfies (I) and (ii) plays \n",
      "a role in S’s systematic subordination, that is, along some dimension, S’s social position is oppressive, \n",
      "and S’s satisfying (i) and (ii) plays a role in that dimension of subordination.\n",
      "\n",
      "Using the above definition, is Catherine the Great a(n) woman? Answer 'True' or 'False'.\n",
      "Answer:\n"
     ]
    }
   ],
   "source": [
    "print(prompt_1.format(variable=\"S\", term=\"woman\", definition=haslanger_woman, element=\"Catherine the Great\"))"
   ]
  },
  {
   "cell_type": "code",
   "execution_count": 11,
   "id": "b731c782",
   "metadata": {},
   "outputs": [],
   "source": [
    "template_2 = \"\"\"Definition: {variable} is a(n) {term} iff {definition}.\n",
    "\n",
    "Using the above definition, is {element} a(n) {term}? Answer 'True' or 'False'.\n",
    "Answer: {answer}\n",
    "\n",
    "Explain your reasoning.\n",
    "Explanation:\"\"\""
   ]
  },
  {
   "cell_type": "code",
   "execution_count": 12,
   "id": "a6296b44",
   "metadata": {},
   "outputs": [],
   "source": [
    "prompt_2 = PromptTemplate(\n",
    "    input_variables=[\"variable\", \"term\", \"definition\", \"element\", \"answer\"], \n",
    "    template=template_2,\n",
    ")"
   ]
  },
  {
   "cell_type": "code",
   "execution_count": 13,
   "id": "c392f5c6",
   "metadata": {},
   "outputs": [
    {
     "name": "stdout",
     "output_type": "stream",
     "text": [
      "Definition: S is a(n) woman iff (i) S is regularly and for the most part observed or imagined to have \n",
      "certain bodily features presumed to be evidence of a female’s biological role in reproduction; \n",
      "(ii) that S has these features marks S within the dominant ideology of S’s society as someone who \n",
      "ought to occupy certain kinds of social position that are in fact subordinate (and so motivates \n",
      "and justifies S’s occupying such a position); and (iii) the fact that S satisfies (I) and (ii) plays \n",
      "a role in S’s systematic subordination, that is, along some dimension, S’s social position is oppressive, \n",
      "and S’s satisfying (i) and (ii) plays a role in that dimension of subordination.\n",
      "\n",
      "Using the above definition, is Catherine the Great a(n) woman? Answer 'True' or 'False'.\n",
      "Answer: False\n",
      "\n",
      "Explain your reasoning.\n",
      "Explanation:\n"
     ]
    }
   ],
   "source": [
    "print(prompt_2.format(variable=\"S\", term=\"woman\", definition=haslanger_woman, element=\"Catherine the Great\", answer=False))"
   ]
  },
  {
   "cell_type": "code",
   "execution_count": 14,
   "id": "9a8d4706",
   "metadata": {},
   "outputs": [],
   "source": [
    "llm = OpenAI(temperature=0.1)\n",
    "in_extension_chain = LLMChain(llm=llm, prompt=prompt_1, output_key=\"answer\")\n",
    "explanation_chain = LLMChain(llm=llm, prompt=prompt_2, output_key=\"explanation\")\n",
    "overall_chain = SequentialChain(\n",
    "    chains=[in_extension_chain, explanation_chain],\n",
    "    input_variables=[\"variable\", \"term\", \"definition\", \"element\"],\n",
    "    output_variables=[\"answer\", \"explanation\"],\n",
    ")"
   ]
  },
  {
   "cell_type": "code",
   "execution_count": 15,
   "id": "27b1bee4",
   "metadata": {},
   "outputs": [
    {
     "data": {
      "text/plain": [
       "{'variable': 'S',\n",
       " 'term': 'woman',\n",
       " 'definition': '(i) S is regularly and for the most part observed or imagined to have \\ncertain bodily features presumed to be evidence of a female’s biological role in reproduction; \\n(ii) that S has these features marks S within the dominant ideology of S’s society as someone who \\nought to occupy certain kinds of social position that are in fact subordinate (and so motivates \\nand justifies S’s occupying such a position); and (iii) the fact that S satisfies (I) and (ii) plays \\na role in S’s systematic subordination, that is, along some dimension, S’s social position is oppressive, \\nand S’s satisfying (i) and (ii) plays a role in that dimension of subordination',\n",
       " 'element': 'Catherine the Great',\n",
       " 'answer': ' False',\n",
       " 'explanation': ' Catherine the Great was a female ruler of the Russian Empire, but she did not occupy a subordinate social position and her gender did not play a role in her systematic subordination. Therefore, she does not meet the criteria of the definition of a woman.'}"
      ]
     },
     "execution_count": 15,
     "metadata": {},
     "output_type": "execute_result"
    }
   ],
   "source": [
    "overall_chain({\"variable\": \"S\", \"term\": \"woman\", \"definition\": haslanger_woman, \"element\": \"Catherine the Great\"})"
   ]
  },
  {
   "cell_type": "code",
   "execution_count": null,
   "id": "45c6cabc",
   "metadata": {},
   "outputs": [],
   "source": []
  },
  {
   "cell_type": "code",
   "execution_count": 8,
   "id": "83dfdbed",
   "metadata": {},
   "outputs": [],
   "source": [
    "collection = [\n",
    "    \"Rosa Parks\",\n",
    "    \"Hillary Clinton\",\n",
    "    \"Pamela Anderson\",\n",
    "    \"Lebron James\",\n",
    "    \"Sally Haslanger\",\n",
    "    \"Nancy Pelosi\",\n",
    "    \"Catwoman\",\n",
    "    \"Taylor Swift\",\n",
    "    \"Julia Roberts\",\n",
    "    \"James Earl Carter\",\n",
    "    \"Peter Bogdanovich\",\n",
    "    \"Elinor Ostrom\",\n",
    "    \"Catherine of Aragon\",\n",
    "    \"Catherine the Great\",\n",
    "    \"Joyce Carol Oates\",\n",
    "    \"Sally Hemings\",\n",
    "    \"Caitlyn Jenner\",\n",
    "    \"Kamala Harris\",\n",
    "]"
   ]
  },
  {
   "cell_type": "code",
   "execution_count": 9,
   "id": "15550526",
   "metadata": {},
   "outputs": [
    {
     "data": {
      "text/html": [
       "<style type=\"text/css\">\n",
       "#T_9dbcd_row0_col0, #T_9dbcd_row0_col1, #T_9dbcd_row0_col2, #T_9dbcd_row1_col0, #T_9dbcd_row1_col1, #T_9dbcd_row1_col2, #T_9dbcd_row2_col0, #T_9dbcd_row2_col1, #T_9dbcd_row2_col2, #T_9dbcd_row3_col0, #T_9dbcd_row3_col1, #T_9dbcd_row3_col2, #T_9dbcd_row4_col0, #T_9dbcd_row4_col1, #T_9dbcd_row4_col2, #T_9dbcd_row5_col0, #T_9dbcd_row5_col1, #T_9dbcd_row5_col2, #T_9dbcd_row6_col0, #T_9dbcd_row6_col1, #T_9dbcd_row6_col2, #T_9dbcd_row7_col0, #T_9dbcd_row7_col1, #T_9dbcd_row7_col2, #T_9dbcd_row8_col0, #T_9dbcd_row8_col1, #T_9dbcd_row8_col2, #T_9dbcd_row9_col0, #T_9dbcd_row9_col1, #T_9dbcd_row9_col2, #T_9dbcd_row10_col0, #T_9dbcd_row10_col1, #T_9dbcd_row10_col2, #T_9dbcd_row11_col0, #T_9dbcd_row11_col1, #T_9dbcd_row11_col2, #T_9dbcd_row12_col0, #T_9dbcd_row12_col1, #T_9dbcd_row12_col2, #T_9dbcd_row13_col0, #T_9dbcd_row13_col1, #T_9dbcd_row13_col2, #T_9dbcd_row14_col0, #T_9dbcd_row14_col1, #T_9dbcd_row14_col2, #T_9dbcd_row15_col0, #T_9dbcd_row15_col1, #T_9dbcd_row15_col2, #T_9dbcd_row16_col0, #T_9dbcd_row16_col1, #T_9dbcd_row16_col2, #T_9dbcd_row17_col0, #T_9dbcd_row17_col1, #T_9dbcd_row17_col2 {\n",
       "  text-align: left;\n",
       "  overflow-wrap: break-word;\n",
       "}\n",
       "</style>\n",
       "<table id=\"T_9dbcd\">\n",
       "  <thead>\n",
       "    <tr>\n",
       "      <th class=\"blank level0\" >&nbsp;</th>\n",
       "      <th id=\"T_9dbcd_level0_col0\" class=\"col_heading level0 col0\" >element</th>\n",
       "      <th id=\"T_9dbcd_level0_col1\" class=\"col_heading level0 col1\" >in_extension</th>\n",
       "      <th id=\"T_9dbcd_level0_col2\" class=\"col_heading level0 col2\" >explanation</th>\n",
       "    </tr>\n",
       "  </thead>\n",
       "  <tbody>\n",
       "    <tr>\n",
       "      <th id=\"T_9dbcd_level0_row0\" class=\"row_heading level0 row0\" >0</th>\n",
       "      <td id=\"T_9dbcd_row0_col0\" class=\"data row0 col0\" >Rosa Parks</td>\n",
       "      <td id=\"T_9dbcd_row0_col1\" class=\"data row0 col1\" >True</td>\n",
       "      <td id=\"T_9dbcd_row0_col2\" class=\"data row0 col2\" >Rosa Parks satisfies all three criteria of the definition. She was regularly and for the most part observed or imagined to have certain bodily features presumed to be evidence of a female’s biological role in reproduction. Her having these features marked her within the dominant ideology of her society as someone who ought to occupy certain kinds of social position that were in fact subordinate (and so motivated and justified her occupying such a position). Finally, the fact that she satisfied (i) and (ii) played a role in her systematic subordination, as her social position was oppressive, and her satisfying (i) and (ii) played a role in that dimension of subordination.</td>\n",
       "    </tr>\n",
       "    <tr>\n",
       "      <th id=\"T_9dbcd_level0_row1\" class=\"row_heading level0 row1\" >1</th>\n",
       "      <td id=\"T_9dbcd_row1_col0\" class=\"data row1 col0\" >Hillary Clinton</td>\n",
       "      <td id=\"T_9dbcd_row1_col1\" class=\"data row1 col1\" >True</td>\n",
       "      <td id=\"T_9dbcd_row1_col2\" class=\"data row1 col2\" >Hillary Clinton satisfies all three criteria of the definition. She is regularly and for the most part observed or imagined to have certain bodily features presumed to be evidence of a female’s biological role in reproduction. Her having these features marks her within the dominant ideology of her society as someone who ought to occupy certain kinds of social position that are in fact subordinate. Finally, the fact that she satisfies the first two criteria plays a role in her systematic subordination, as her social position is oppressive and her satisfying the first two criteria plays a role in that dimension of subordination.</td>\n",
       "    </tr>\n",
       "    <tr>\n",
       "      <th id=\"T_9dbcd_level0_row2\" class=\"row_heading level0 row2\" >2</th>\n",
       "      <td id=\"T_9dbcd_row2_col0\" class=\"data row2 col0\" >Pamela Anderson</td>\n",
       "      <td id=\"T_9dbcd_row2_col1\" class=\"data row2 col1\" >True</td>\n",
       "      <td id=\"T_9dbcd_row2_col2\" class=\"data row2 col2\" >Pamela Anderson has the bodily features that are typically associated with a female's biological role in reproduction, and her gender identity is recognized and accepted within the dominant ideology of her society. Furthermore, her gender identity plays a role in her systematic subordination, as she is often subjected to gender-based discrimination and oppression. Therefore, Pamela Anderson is a woman according to the definition provided.</td>\n",
       "    </tr>\n",
       "    <tr>\n",
       "      <th id=\"T_9dbcd_level0_row3\" class=\"row_heading level0 row3\" >3</th>\n",
       "      <td id=\"T_9dbcd_row3_col0\" class=\"data row3 col0\" >Lebron James</td>\n",
       "      <td id=\"T_9dbcd_row3_col1\" class=\"data row3 col1\" >False</td>\n",
       "      <td id=\"T_9dbcd_row3_col2\" class=\"data row3 col2\" >Lebron James does not satisfy the criteria of having the bodily features presumed to be evidence of a female's biological role in reproduction, nor does he occupy a subordinate social position that is motivated and justified by his having those features. Therefore, he does not satisfy the definition of a woman.</td>\n",
       "    </tr>\n",
       "    <tr>\n",
       "      <th id=\"T_9dbcd_level0_row4\" class=\"row_heading level0 row4\" >4</th>\n",
       "      <td id=\"T_9dbcd_row4_col0\" class=\"data row4 col0\" >Sally Haslanger</td>\n",
       "      <td id=\"T_9dbcd_row4_col1\" class=\"data row4 col1\" >True</td>\n",
       "      <td id=\"T_9dbcd_row4_col2\" class=\"data row4 col2\" >Sally Haslanger satisfies all three criteria of the definition of a woman. She has the bodily features presumed to be evidence of a female's biological role in reproduction, her possession of these features marks her within the dominant ideology of her society as someone who ought to occupy certain kinds of social position that are in fact subordinate, and the fact that she satisfies these criteria plays a role in her systematic subordination. Therefore, Sally Haslanger is a woman.</td>\n",
       "    </tr>\n",
       "    <tr>\n",
       "      <th id=\"T_9dbcd_level0_row5\" class=\"row_heading level0 row5\" >5</th>\n",
       "      <td id=\"T_9dbcd_row5_col0\" class=\"data row5 col0\" >Nancy Pelosi</td>\n",
       "      <td id=\"T_9dbcd_row5_col1\" class=\"data row5 col1\" >True</td>\n",
       "      <td id=\"T_9dbcd_row5_col2\" class=\"data row5 col2\" >Nancy Pelosi satisfies all three criteria of the definition of a woman. She has the bodily features that are typically associated with a female's biological role in reproduction, her gender marks her as someone who ought to occupy certain kinds of social positions that are in fact subordinate, and the fact that she satisfies these criteria plays a role in her systematic subordination.</td>\n",
       "    </tr>\n",
       "    <tr>\n",
       "      <th id=\"T_9dbcd_level0_row6\" class=\"row_heading level0 row6\" >6</th>\n",
       "      <td id=\"T_9dbcd_row6_col0\" class=\"data row6 col0\" >Catwoman</td>\n",
       "      <td id=\"T_9dbcd_row6_col1\" class=\"data row6 col1\" >False</td>\n",
       "      <td id=\"T_9dbcd_row6_col2\" class=\"data row6 col2\" >Catwoman is a fictional character and does not have the bodily features or occupy the social position of a real woman, so she does not satisfy the criteria of the definition.</td>\n",
       "    </tr>\n",
       "    <tr>\n",
       "      <th id=\"T_9dbcd_level0_row7\" class=\"row_heading level0 row7\" >7</th>\n",
       "      <td id=\"T_9dbcd_row7_col0\" class=\"data row7 col0\" >Taylor Swift</td>\n",
       "      <td id=\"T_9dbcd_row7_col1\" class=\"data row7 col1\" >True</td>\n",
       "      <td id=\"T_9dbcd_row7_col2\" class=\"data row7 col2\" >Taylor Swift is regularly and for the most part observed or imagined to have certain bodily features presumed to be evidence of a female’s biological role in reproduction. This marks her within the dominant ideology of her society as someone who ought to occupy certain kinds of social position that are in fact subordinate. The fact that she satisfies these criteria plays a role in her systematic subordination, meaning her social position is oppressive and her satisfying these criteria plays a role in that dimension of subordination. Therefore, Taylor Swift is a woman.</td>\n",
       "    </tr>\n",
       "    <tr>\n",
       "      <th id=\"T_9dbcd_level0_row8\" class=\"row_heading level0 row8\" >8</th>\n",
       "      <td id=\"T_9dbcd_row8_col0\" class=\"data row8 col0\" >Julia Roberts</td>\n",
       "      <td id=\"T_9dbcd_row8_col1\" class=\"data row8 col1\" >True</td>\n",
       "      <td id=\"T_9dbcd_row8_col2\" class=\"data row8 col2\" >Julia Roberts has the bodily features that are typically associated with women, and she is regularly and for the most part observed or imagined to have these features. This marks her within the dominant ideology of her society as someone who ought to occupy certain kinds of social positions that are in fact subordinate. The fact that she satisfies these criteria plays a role in her systematic subordination, and so she is a woman.</td>\n",
       "    </tr>\n",
       "    <tr>\n",
       "      <th id=\"T_9dbcd_level0_row9\" class=\"row_heading level0 row9\" >9</th>\n",
       "      <td id=\"T_9dbcd_row9_col0\" class=\"data row9 col0\" >James Earl Carter</td>\n",
       "      <td id=\"T_9dbcd_row9_col1\" class=\"data row9 col1\" >False</td>\n",
       "      <td id=\"T_9dbcd_row9_col2\" class=\"data row9 col2\" >James Earl Carter does not satisfy the criteria outlined in the definition, as he does not have the bodily features presumed to be evidence of a female's biological role in reproduction, nor does he occupy a subordinate social position that is motivated and justified by his gender. Therefore, he is not a woman.</td>\n",
       "    </tr>\n",
       "    <tr>\n",
       "      <th id=\"T_9dbcd_level0_row10\" class=\"row_heading level0 row10\" >10</th>\n",
       "      <td id=\"T_9dbcd_row10_col0\" class=\"data row10 col0\" >Peter Bogdanovich</td>\n",
       "      <td id=\"T_9dbcd_row10_col1\" class=\"data row10 col1\" >False</td>\n",
       "      <td id=\"T_9dbcd_row10_col2\" class=\"data row10 col2\" >Peter Bogdanovich does not have the bodily features presumed to be evidence of a female's biological role in reproduction, and thus does not satisfy the criteria of the definition of a woman.</td>\n",
       "    </tr>\n",
       "    <tr>\n",
       "      <th id=\"T_9dbcd_level0_row11\" class=\"row_heading level0 row11\" >11</th>\n",
       "      <td id=\"T_9dbcd_row11_col0\" class=\"data row11 col0\" >Elinor Ostrom</td>\n",
       "      <td id=\"T_9dbcd_row11_col1\" class=\"data row11 col1\" >True</td>\n",
       "      <td id=\"T_9dbcd_row11_col2\" class=\"data row11 col2\" >Elinor Ostrom was a female and had the bodily features associated with being a woman. She was also a prominent figure in her society and her gender played a role in her social position and the systematic subordination she experienced. Therefore, Elinor Ostrom is a woman according to the definition provided.</td>\n",
       "    </tr>\n",
       "    <tr>\n",
       "      <th id=\"T_9dbcd_level0_row12\" class=\"row_heading level0 row12\" >12</th>\n",
       "      <td id=\"T_9dbcd_row12_col0\" class=\"data row12 col0\" >Catherine of Aragon</td>\n",
       "      <td id=\"T_9dbcd_row12_col1\" class=\"data row12 col1\" >True</td>\n",
       "      <td id=\"T_9dbcd_row12_col2\" class=\"data row12 col2\" >Catherine of Aragon was a Spanish princess who was married to King Henry VIII of England. She was regularly and for the most part observed or imagined to have certain bodily features presumed to be evidence of a female’s biological role in reproduction. This marked her within the dominant ideology of her society as someone who ought to occupy certain kinds of social position that were in fact subordinate. The fact that she satisfied these criteria played a role in her systematic subordination, as her social position was oppressive and her satisfying these criteria played a role in that dimension of subordination. Therefore, Catherine of Aragon is a woman according to the definition provided.</td>\n",
       "    </tr>\n",
       "    <tr>\n",
       "      <th id=\"T_9dbcd_level0_row13\" class=\"row_heading level0 row13\" >13</th>\n",
       "      <td id=\"T_9dbcd_row13_col0\" class=\"data row13 col0\" >Catherine the Great</td>\n",
       "      <td id=\"T_9dbcd_row13_col1\" class=\"data row13 col1\" >False</td>\n",
       "      <td id=\"T_9dbcd_row13_col2\" class=\"data row13 col2\" >Catherine the Great was a female ruler of the Russian Empire in the 18th century, but she did not satisfy the criteria of the definition of a woman, as her gender did not play a role in her systematic subordination.</td>\n",
       "    </tr>\n",
       "    <tr>\n",
       "      <th id=\"T_9dbcd_level0_row14\" class=\"row_heading level0 row14\" >14</th>\n",
       "      <td id=\"T_9dbcd_row14_col0\" class=\"data row14 col0\" >Joyce Carol Oates</td>\n",
       "      <td id=\"T_9dbcd_row14_col1\" class=\"data row14 col1\" >True</td>\n",
       "      <td id=\"T_9dbcd_row14_col2\" class=\"data row14 col2\" >Joyce Carol Oates is regularly and for the most part observed or imagined to have certain bodily features presumed to be evidence of a female’s biological role in reproduction. This marks her within the dominant ideology of her society as someone who ought to occupy certain kinds of social position that are in fact subordinate. The fact that she satisfies these criteria plays a role in her systematic subordination, meaning her social position is oppressive and her satisfying these criteria plays a role in that dimension of subordination. Therefore, Joyce Carol Oates is a woman.</td>\n",
       "    </tr>\n",
       "    <tr>\n",
       "      <th id=\"T_9dbcd_level0_row15\" class=\"row_heading level0 row15\" >15</th>\n",
       "      <td id=\"T_9dbcd_row15_col0\" class=\"data row15 col0\" >Sally Hemings</td>\n",
       "      <td id=\"T_9dbcd_row15_col1\" class=\"data row15 col1\" >True</td>\n",
       "      <td id=\"T_9dbcd_row15_col2\" class=\"data row15 col2\" >Sally Hemings was regularly and for the most part observed or imagined to have certain bodily features presumed to be evidence of a female’s biological role in reproduction. This marked her within the dominant ideology of her society as someone who ought to occupy certain kinds of social position that were in fact subordinate, and this motivated and justified her occupying such a position. The fact that she satisfied these criteria played a role in her systematic subordination, as her social position was oppressive, and her satisfying these criteria played a role in that dimension of subordination. Therefore, Sally Hemings is a woman according to the definition provided.</td>\n",
       "    </tr>\n",
       "    <tr>\n",
       "      <th id=\"T_9dbcd_level0_row16\" class=\"row_heading level0 row16\" >16</th>\n",
       "      <td id=\"T_9dbcd_row16_col0\" class=\"data row16 col0\" >Caitlyn Jenner</td>\n",
       "      <td id=\"T_9dbcd_row16_col1\" class=\"data row16 col1\" >True</td>\n",
       "      <td id=\"T_9dbcd_row16_col2\" class=\"data row16 col2\" >Caitlyn Jenner has the bodily features that are typically associated with a female's biological role in reproduction, and she is regularly and for the most part observed or imagined to have these features. This marks her within the dominant ideology of her society as someone who ought to occupy certain kinds of social positions that are in fact subordinate. The fact that she satisfies these criteria plays a role in her systematic subordination, and thus she is a woman according to the definition provided.</td>\n",
       "    </tr>\n",
       "    <tr>\n",
       "      <th id=\"T_9dbcd_level0_row17\" class=\"row_heading level0 row17\" >17</th>\n",
       "      <td id=\"T_9dbcd_row17_col0\" class=\"data row17 col0\" >Kamala Harris</td>\n",
       "      <td id=\"T_9dbcd_row17_col1\" class=\"data row17 col1\" >True</td>\n",
       "      <td id=\"T_9dbcd_row17_col2\" class=\"data row17 col2\" >Kamala Harris has the bodily features presumed to be evidence of a female’s biological role in reproduction, and her gender marks her within the dominant ideology of her society as someone who ought to occupy certain kinds of social position that are in fact subordinate. Furthermore, the fact that she satisfies these criteria plays a role in her systematic subordination, as her gender has been a factor in her social position.</td>\n",
       "    </tr>\n",
       "  </tbody>\n",
       "</table>\n"
      ],
      "text/plain": [
       "<pandas.io.formats.style.Styler at 0x1247d9660>"
      ]
     },
     "execution_count": 9,
     "metadata": {},
     "output_type": "execute_result"
    }
   ],
   "source": [
    "df = DataFrame(\n",
    "    [\n",
    "        \n",
    "        [ \n",
    "            response[\"element\"], \n",
    "            response[\"answer\"].strip(), \n",
    "            response[\"explanation\"].strip() \n",
    "        ]\n",
    "        for response in [ \n",
    "            overall_chain(\n",
    "                {\n",
    "                    \"variable\": \"S\", \n",
    "                    \"term\": \"woman\", \n",
    "                    \"definition\": haslanger_woman, \n",
    "                    \"element\": element\n",
    "                }\n",
    "            ) \n",
    "            for element in collection\n",
    "        ]  \n",
    "        \n",
    "    ],\n",
    "    columns = [ 'element' , 'in_extension', 'explanation' ]\n",
    ")\n",
    "df.style.set_properties(**{\"text-align\": \"left\", \"overflow-wrap\": \"break-word\"})"
   ]
  }
 ],
 "metadata": {
  "kernelspec": {
   "display_name": "Python 3 (ipykernel)",
   "language": "python",
   "name": "python3"
  },
  "language_info": {
   "codemirror_mode": {
    "name": "ipython",
    "version": 3
   },
   "file_extension": ".py",
   "mimetype": "text/x-python",
   "name": "python",
   "nbconvert_exporter": "python",
   "pygments_lexer": "ipython3",
   "version": "3.11.4"
  }
 },
 "nbformat": 4,
 "nbformat_minor": 5
}
