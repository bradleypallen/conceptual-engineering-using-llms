{
 "cells": [
  {
   "cell_type": "code",
   "execution_count": 1,
   "id": "9158167a",
   "metadata": {},
   "outputs": [],
   "source": [
    "from langchain import OpenAI, PromptTemplate, LLMChain\n",
    "from dotenv import load_dotenv\n",
    "from pandas import DataFrame\n",
    "load_dotenv();"
   ]
  },
  {
   "cell_type": "code",
   "execution_count": 2,
   "id": "3aa2dd61",
   "metadata": {},
   "outputs": [],
   "source": [
    "template = \"\"\"{variable} is a(n) {term} iff {definition}.\n",
    "\n",
    "Using the above definition, is {individual} a(n) {term}? If not, why not?\"\"\""
   ]
  },
  {
   "cell_type": "code",
   "execution_count": 3,
   "id": "cd01ad30",
   "metadata": {},
   "outputs": [],
   "source": [
    "prompt = PromptTemplate(\n",
    "    input_variables=[\"variable\", \"term\", \"definition\", \"individual\"], \n",
    "    template=template,\n",
    ")"
   ]
  },
  {
   "cell_type": "code",
   "execution_count": 4,
   "id": "5d49cb92",
   "metadata": {},
   "outputs": [],
   "source": [
    "haslanger_woman = \"\"\"(i) S is regularly and for the most part observed or imagined to have \n",
    "certain bodily features presumed to be evidence of a female’s biological role in reproduction; \n",
    "(ii) that S has these features marks S within the dominant ideology of S’s society as someone who \n",
    "ought to occupy certain kinds of social position that are in fact subordinate (and so motivates \n",
    "and justifies S’s occupying such a position); and (iii) the fact that S satisfies (I) and (ii) plays \n",
    "a role in S’s systematic subordination, that is, along some dimension, S’s social position is oppressive, \n",
    "and S’s satisfying (i) and (ii) plays a role in that dimension of subordination\"\"\""
   ]
  },
  {
   "cell_type": "code",
   "execution_count": 5,
   "id": "6e8b5e42",
   "metadata": {},
   "outputs": [
    {
     "name": "stdout",
     "output_type": "stream",
     "text": [
      "S is a(n) woman iff (i) S is regularly and for the most part observed or imagined to have \n",
      "certain bodily features presumed to be evidence of a female’s biological role in reproduction; \n",
      "(ii) that S has these features marks S within the dominant ideology of S’s society as someone who \n",
      "ought to occupy certain kinds of social position that are in fact subordinate (and so motivates \n",
      "and justifies S’s occupying such a position); and (iii) the fact that S satisfies (I) and (ii) plays \n",
      "a role in S’s systematic subordination, that is, along some dimension, S’s social position is oppressive, \n",
      "and S’s satisfying (i) and (ii) plays a role in that dimension of subordination.\n",
      "\n",
      "Using the above definition, is Rosa Parks a(n) woman? If not, why not?\n"
     ]
    }
   ],
   "source": [
    "print(prompt.format(variable=\"S\", term=\"woman\", definition=haslanger_woman, individual=\"Rosa Parks\"))"
   ]
  },
  {
   "cell_type": "code",
   "execution_count": 6,
   "id": "9a8d4706",
   "metadata": {},
   "outputs": [],
   "source": [
    "llm = OpenAI(temperature=0.1)\n",
    "chain = LLMChain(llm=llm, prompt=prompt)"
   ]
  },
  {
   "cell_type": "code",
   "execution_count": 7,
   "id": "83dfdbed",
   "metadata": {},
   "outputs": [],
   "source": [
    "humans = [\n",
    "    \"Rosa Parks\",\n",
    "    \"Hillary Clinton\",\n",
    "    \"Pamela Anderson\",\n",
    "    \"Lebron James\",\n",
    "    \"Sally Haslanger\",\n",
    "    \"Nancy Pelosi\",\n",
    "    \"Catwoman\",\n",
    "    \"Taylor Swift\",\n",
    "    \"Julia Roberts\",\n",
    "    \"James Earl Carter\",\n",
    "    \"Peter Bogdanovich\",\n",
    "    \"Elinor Ostrom\",\n",
    "    \"Catherine of Aragon\",\n",
    "    \"Catherine the Great\",\n",
    "    \"Joyce Carol Oates\",\n",
    "    \"Sally Hemings\",\n",
    "    \"Caitlyn Jenner\",\n",
    "    \"Kamala Harris\"\n",
    "]"
   ]
  },
  {
   "cell_type": "code",
   "execution_count": 8,
   "id": "c653438f",
   "metadata": {},
   "outputs": [],
   "source": [
    "df = DataFrame(\n",
    "    [\n",
    "        [\n",
    "            individual, \n",
    "            chain.run(variable=\"S\", term=\"woman\", definition=haslanger_woman, individual=individual).strip() \n",
    "        ] \n",
    "        for individual in humans \n",
    "    ],\n",
    "    columns = ['individual' , 'reason']\n",
    ")"
   ]
  },
  {
   "cell_type": "code",
   "execution_count": 9,
   "id": "0cb3aed5",
   "metadata": {},
   "outputs": [
    {
     "data": {
      "text/html": [
       "<style type=\"text/css\">\n",
       "#T_f6a00_row0_col0, #T_f6a00_row0_col1, #T_f6a00_row1_col0, #T_f6a00_row1_col1, #T_f6a00_row2_col0, #T_f6a00_row2_col1, #T_f6a00_row3_col0, #T_f6a00_row3_col1, #T_f6a00_row4_col0, #T_f6a00_row4_col1, #T_f6a00_row5_col0, #T_f6a00_row5_col1, #T_f6a00_row6_col0, #T_f6a00_row6_col1, #T_f6a00_row7_col0, #T_f6a00_row7_col1, #T_f6a00_row8_col0, #T_f6a00_row8_col1, #T_f6a00_row9_col0, #T_f6a00_row9_col1, #T_f6a00_row10_col0, #T_f6a00_row10_col1, #T_f6a00_row11_col0, #T_f6a00_row11_col1, #T_f6a00_row12_col0, #T_f6a00_row12_col1, #T_f6a00_row13_col0, #T_f6a00_row13_col1, #T_f6a00_row14_col0, #T_f6a00_row14_col1, #T_f6a00_row15_col0, #T_f6a00_row15_col1, #T_f6a00_row16_col0, #T_f6a00_row16_col1, #T_f6a00_row17_col0, #T_f6a00_row17_col1 {\n",
       "  text-align: left;\n",
       "  overflow-wrap: break-word;\n",
       "}\n",
       "</style>\n",
       "<table id=\"T_f6a00\">\n",
       "  <thead>\n",
       "    <tr>\n",
       "      <th class=\"blank level0\" >&nbsp;</th>\n",
       "      <th id=\"T_f6a00_level0_col0\" class=\"col_heading level0 col0\" >individual</th>\n",
       "      <th id=\"T_f6a00_level0_col1\" class=\"col_heading level0 col1\" >reason</th>\n",
       "    </tr>\n",
       "  </thead>\n",
       "  <tbody>\n",
       "    <tr>\n",
       "      <th id=\"T_f6a00_level0_row0\" class=\"row_heading level0 row0\" >0</th>\n",
       "      <td id=\"T_f6a00_row0_col0\" class=\"data row0 col0\" >Rosa Parks</td>\n",
       "      <td id=\"T_f6a00_row0_col1\" class=\"data row0 col1\" >No, Rosa Parks is not a woman. Although she was regularly and for the most part observed or imagined to have certain bodily features presumed to be evidence of a female’s biological role in reproduction, her social position was not subordinate and she did not occupy a position of systematic subordination. Therefore, she does not satisfy the criteria for being a woman as defined above.</td>\n",
       "    </tr>\n",
       "    <tr>\n",
       "      <th id=\"T_f6a00_level0_row1\" class=\"row_heading level0 row1\" >1</th>\n",
       "      <td id=\"T_f6a00_row1_col0\" class=\"data row1 col0\" >Hillary Clinton</td>\n",
       "      <td id=\"T_f6a00_row1_col1\" class=\"data row1 col1\" >Yes, Hillary Clinton is a woman. She has the bodily features presumed to be evidence of a female’s biological role in reproduction, and her gender marks her within the dominant ideology of her society as someone who ought to occupy certain kinds of social position that are in fact subordinate. Furthermore, the fact that she satisfies these criteria plays a role in her systematic subordination, as her gender has been used to justify her social position and her systematic subordination.</td>\n",
       "    </tr>\n",
       "    <tr>\n",
       "      <th id=\"T_f6a00_level0_row2\" class=\"row_heading level0 row2\" >2</th>\n",
       "      <td id=\"T_f6a00_row2_col0\" class=\"data row2 col0\" >Pamela Anderson</td>\n",
       "      <td id=\"T_f6a00_row2_col1\" class=\"data row2 col1\" >Yes, Pamela Anderson is a woman. She has the bodily features presumed to be evidence of a female’s biological role in reproduction, and her social position is subordinate to that of men in her society. Furthermore, her gender plays a role in her systematic subordination, as she is often objectified and sexualized in the media.</td>\n",
       "    </tr>\n",
       "    <tr>\n",
       "      <th id=\"T_f6a00_level0_row3\" class=\"row_heading level0 row3\" >3</th>\n",
       "      <td id=\"T_f6a00_row3_col0\" class=\"data row3 col0\" >Lebron James</td>\n",
       "      <td id=\"T_f6a00_row3_col1\" class=\"data row3 col1\" >No, Lebron James is not a woman. Lebron James does not have the bodily features presumed to be evidence of a female's biological role in reproduction, and thus does not satisfy the first criterion of the definition. Additionally, Lebron James does not occupy a subordinate social position that is motivated and justified by his bodily features, and thus does not satisfy the second criterion of the definition. Therefore, Lebron James does not satisfy the definition of a woman.</td>\n",
       "    </tr>\n",
       "    <tr>\n",
       "      <th id=\"T_f6a00_level0_row4\" class=\"row_heading level0 row4\" >4</th>\n",
       "      <td id=\"T_f6a00_row4_col0\" class=\"data row4 col0\" >Sally Haslanger</td>\n",
       "      <td id=\"T_f6a00_row4_col1\" class=\"data row4 col1\" >Yes, Sally Haslanger is a woman. She has the bodily features presumed to be evidence of a female’s biological role in reproduction, and her social position is subordinate in her society. Furthermore, her satisfying the criteria of (i) and (ii) plays a role in her systematic subordination.</td>\n",
       "    </tr>\n",
       "    <tr>\n",
       "      <th id=\"T_f6a00_level0_row5\" class=\"row_heading level0 row5\" >5</th>\n",
       "      <td id=\"T_f6a00_row5_col0\" class=\"data row5 col0\" >Nancy Pelosi</td>\n",
       "      <td id=\"T_f6a00_row5_col1\" class=\"data row5 col1\" >Yes, Nancy Pelosi is a woman. She has the bodily features presumed to be evidence of a female’s biological role in reproduction, and her gender marks her within the dominant ideology of her society as someone who ought to occupy certain kinds of social position that are in fact subordinate. Furthermore, the fact that she satisfies these criteria plays a role in her systematic subordination, as her gender has been used to justify her occupying a subordinate social position.</td>\n",
       "    </tr>\n",
       "    <tr>\n",
       "      <th id=\"T_f6a00_level0_row6\" class=\"row_heading level0 row6\" >6</th>\n",
       "      <td id=\"T_f6a00_row6_col0\" class=\"data row6 col0\" >Catwoman</td>\n",
       "      <td id=\"T_f6a00_row6_col1\" class=\"data row6 col1\" >No, Catwoman is not a woman according to the definition provided. Catwoman is a fictional character and does not have the bodily features or occupy the social position of a woman. Therefore, she does not satisfy the criteria of (i) and (ii) and does not experience systematic subordination.</td>\n",
       "    </tr>\n",
       "    <tr>\n",
       "      <th id=\"T_f6a00_level0_row7\" class=\"row_heading level0 row7\" >7</th>\n",
       "      <td id=\"T_f6a00_row7_col0\" class=\"data row7 col0\" >Taylor Swift</td>\n",
       "      <td id=\"T_f6a00_row7_col1\" class=\"data row7 col1\" >Yes, Taylor Swift is a woman. She has the bodily features presumed to be evidence of a female’s biological role in reproduction, and her gender marks her within the dominant ideology of her society as someone who ought to occupy certain kinds of social position that are in fact subordinate. Furthermore, the fact that she satisfies these criteria plays a role in her systematic subordination, as her gender has been used to oppress her in various ways.</td>\n",
       "    </tr>\n",
       "    <tr>\n",
       "      <th id=\"T_f6a00_level0_row8\" class=\"row_heading level0 row8\" >8</th>\n",
       "      <td id=\"T_f6a00_row8_col0\" class=\"data row8 col0\" >Julia Roberts</td>\n",
       "      <td id=\"T_f6a00_row8_col1\" class=\"data row8 col1\" >Yes, Julia Roberts is a woman. She has the bodily features presumed to be evidence of a female's biological role in reproduction, and her gender marks her within the dominant ideology of her society as someone who ought to occupy certain kinds of social positions that are in fact subordinate. Furthermore, the fact that she satisfies these criteria plays a role in her systematic subordination.</td>\n",
       "    </tr>\n",
       "    <tr>\n",
       "      <th id=\"T_f6a00_level0_row9\" class=\"row_heading level0 row9\" >9</th>\n",
       "      <td id=\"T_f6a00_row9_col0\" class=\"data row9 col0\" >James Earl Carter</td>\n",
       "      <td id=\"T_f6a00_row9_col1\" class=\"data row9 col1\" >No, James Earl Carter is not a woman. While he may have certain bodily features that are associated with women, he does not satisfy the other two criteria of the definition. Specifically, he does not occupy a subordinate social position that is motivated and justified by his bodily features, and the fact that he has these features does not play a role in his systematic subordination.</td>\n",
       "    </tr>\n",
       "    <tr>\n",
       "      <th id=\"T_f6a00_level0_row10\" class=\"row_heading level0 row10\" >10</th>\n",
       "      <td id=\"T_f6a00_row10_col0\" class=\"data row10 col0\" >Peter Bogdanovich</td>\n",
       "      <td id=\"T_f6a00_row10_col1\" class=\"data row10 col1\" >No, Peter Bogdanovich is not a woman. Peter Bogdanovich does not regularly and for the most part have the bodily features presumed to be evidence of a female's biological role in reproduction, nor does he occupy a subordinate social position that is motivated and justified by his having these features. Therefore, he does not satisfy the criteria outlined in the definition.</td>\n",
       "    </tr>\n",
       "    <tr>\n",
       "      <th id=\"T_f6a00_level0_row11\" class=\"row_heading level0 row11\" >11</th>\n",
       "      <td id=\"T_f6a00_row11_col0\" class=\"data row11 col0\" >Elinor Ostrom</td>\n",
       "      <td id=\"T_f6a00_row11_col1\" class=\"data row11 col1\" >Yes, Elinor Ostrom is a woman. She has the bodily features presumed to be evidence of a female's biological role in reproduction, and her gender has played a role in her systematic subordination, as she was the first woman to win the Nobel Prize in Economics.</td>\n",
       "    </tr>\n",
       "    <tr>\n",
       "      <th id=\"T_f6a00_level0_row12\" class=\"row_heading level0 row12\" >12</th>\n",
       "      <td id=\"T_f6a00_row12_col0\" class=\"data row12 col0\" >Catherine of Aragon</td>\n",
       "      <td id=\"T_f6a00_row12_col1\" class=\"data row12 col1\" >Yes, Catherine of Aragon is a woman. She satisfies all three criteria of the definition: (i) she has the bodily features presumed to be evidence of a female’s biological role in reproduction; (ii) her possession of these features marks her within the dominant ideology of her society as someone who ought to occupy certain kinds of social position that are in fact subordinate; and (iii) the fact that she satisfies (i) and (ii) plays a role in her systematic subordination.</td>\n",
       "    </tr>\n",
       "    <tr>\n",
       "      <th id=\"T_f6a00_level0_row13\" class=\"row_heading level0 row13\" >13</th>\n",
       "      <td id=\"T_f6a00_row13_col0\" class=\"data row13 col0\" >Catherine the Great</td>\n",
       "      <td id=\"T_f6a00_row13_col1\" class=\"data row13 col1\" >No, Catherine the Great is not a woman according to the definition provided. Catherine the Great was a female ruler of the Russian Empire, but she did not occupy a subordinate social position and her bodily features did not play a role in her systematic subordination.</td>\n",
       "    </tr>\n",
       "    <tr>\n",
       "      <th id=\"T_f6a00_level0_row14\" class=\"row_heading level0 row14\" >14</th>\n",
       "      <td id=\"T_f6a00_row14_col0\" class=\"data row14 col0\" >Joyce Carol Oates</td>\n",
       "      <td id=\"T_f6a00_row14_col1\" class=\"data row14 col1\" >Yes, Joyce Carol Oates is a woman. She has the bodily features presumed to be evidence of a female’s biological role in reproduction, and she occupies certain kinds of social positions that are in fact subordinate. Furthermore, her gender plays a role in her systematic subordination, as she is often subject to sexism and gender-based discrimination.</td>\n",
       "    </tr>\n",
       "    <tr>\n",
       "      <th id=\"T_f6a00_level0_row15\" class=\"row_heading level0 row15\" >15</th>\n",
       "      <td id=\"T_f6a00_row15_col0\" class=\"data row15 col0\" >Sally Hemings</td>\n",
       "      <td id=\"T_f6a00_row15_col1\" class=\"data row15 col1\" >No, Sally Hemings is not a woman according to the definition provided. While Sally Hemings was regularly and for the most part observed or imagined to have certain bodily features presumed to be evidence of a female’s biological role in reproduction, the fact that she satisfied (i) and (ii) did not play a role in her systematic subordination. In fact, her social position was not oppressive, and her satisfying (i) and (ii) did not play a role in any dimension of subordination.</td>\n",
       "    </tr>\n",
       "    <tr>\n",
       "      <th id=\"T_f6a00_level0_row16\" class=\"row_heading level0 row16\" >16</th>\n",
       "      <td id=\"T_f6a00_row16_col0\" class=\"data row16 col0\" >Caitlyn Jenner</td>\n",
       "      <td id=\"T_f6a00_row16_col1\" class=\"data row16 col1\" >Yes, Caitlyn Jenner is a woman. She has the bodily features presumed to be evidence of a female’s biological role in reproduction, and her gender identity marks her within the dominant ideology of her society as someone who ought to occupy certain kinds of social position that are in fact subordinate. Furthermore, the fact that she satisfies these criteria plays a role in her systematic subordination, as her social position is oppressive and her gender identity plays a role in that dimension of subordination.</td>\n",
       "    </tr>\n",
       "    <tr>\n",
       "      <th id=\"T_f6a00_level0_row17\" class=\"row_heading level0 row17\" >17</th>\n",
       "      <td id=\"T_f6a00_row17_col0\" class=\"data row17 col0\" >Kamala Harris</td>\n",
       "      <td id=\"T_f6a00_row17_col1\" class=\"data row17 col1\" >Yes, Kamala Harris is a woman. She has the bodily features presumed to be evidence of a female’s biological role in reproduction, and her gender marks her within the dominant ideology of her society as someone who ought to occupy certain kinds of social position that are in fact subordinate. Furthermore, the fact that she satisfies these criteria plays a role in her systematic subordination, as her gender has been used to oppress her in various ways.</td>\n",
       "    </tr>\n",
       "  </tbody>\n",
       "</table>\n"
      ],
      "text/plain": [
       "<pandas.io.formats.style.Styler at 0x11c7dbaf0>"
      ]
     },
     "execution_count": 9,
     "metadata": {},
     "output_type": "execute_result"
    }
   ],
   "source": [
    "df.style.set_properties(**{\"text-align\": \"left\", \"overflow-wrap\": \"break-word\"})"
   ]
  }
 ],
 "metadata": {
  "kernelspec": {
   "display_name": "Python 3 (ipykernel)",
   "language": "python",
   "name": "python3"
  },
  "language_info": {
   "codemirror_mode": {
    "name": "ipython",
    "version": 3
   },
   "file_extension": ".py",
   "mimetype": "text/x-python",
   "name": "python",
   "nbconvert_exporter": "python",
   "pygments_lexer": "ipython3",
   "version": "3.10.7"
  }
 },
 "nbformat": 4,
 "nbformat_minor": 5
}
