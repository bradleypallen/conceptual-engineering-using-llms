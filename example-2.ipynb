{
 "cells": [
  {
   "cell_type": "code",
   "execution_count": 1,
   "id": "9158167a",
   "metadata": {},
   "outputs": [],
   "source": [
    "from langchain.chat_models import ChatOpenAI\n",
    "from langchain.chains import LLMChain, SequentialChain\n",
    "from langchain.prompts import PromptTemplate\n",
    "from dotenv import load_dotenv\n",
    "from pandas import DataFrame\n",
    "load_dotenv();"
   ]
  },
  {
   "cell_type": "code",
   "execution_count": 2,
   "id": "5d49cb92",
   "metadata": {},
   "outputs": [],
   "source": [
    "haslanger_woman = \"\"\"(i) S is regularly and for the most part observed or imagined to have \n",
    "certain bodily features presumed to be evidence of a female’s biological role in reproduction; \n",
    "(ii) that S has these features marks S within the dominant ideology of S’s society as someone who \n",
    "ought to occupy certain kinds of social position that are in fact subordinate (and so motivates \n",
    "and justifies S’s occupying such a position); and (iii) the fact that S satisfies (I) and (ii) plays \n",
    "a role in S’s systematic subordination, that is, along some dimension, S’s social position is oppressive, \n",
    "and S’s satisfying (i) and (ii) plays a role in that dimension of subordination\"\"\""
   ]
  },
  {
   "cell_type": "code",
   "execution_count": 13,
   "id": "3aa2dd61",
   "metadata": {},
   "outputs": [],
   "source": [
    "template_1 = \"\"\"Definition: {variable} is a(n) {term} iff {definition}.\n",
    "\n",
    "Using the above definition, is {element} a(n) {term}? Answer 'True', 'False', or 'Unknown'.\n",
    "Answer:\"\"\""
   ]
  },
  {
   "cell_type": "code",
   "execution_count": 14,
   "id": "cd01ad30",
   "metadata": {},
   "outputs": [],
   "source": [
    "prompt_1 = PromptTemplate(\n",
    "    input_variables=[\"variable\", \"term\", \"definition\", \"element\"], \n",
    "    template=template_1,\n",
    ")"
   ]
  },
  {
   "cell_type": "code",
   "execution_count": 15,
   "id": "3da7b254",
   "metadata": {},
   "outputs": [
    {
     "name": "stdout",
     "output_type": "stream",
     "text": [
      "Definition: S is a(n) woman iff (i) S is regularly and for the most part observed or imagined to have \n",
      "certain bodily features presumed to be evidence of a female’s biological role in reproduction; \n",
      "(ii) that S has these features marks S within the dominant ideology of S’s society as someone who \n",
      "ought to occupy certain kinds of social position that are in fact subordinate (and so motivates \n",
      "and justifies S’s occupying such a position); and (iii) the fact that S satisfies (I) and (ii) plays \n",
      "a role in S’s systematic subordination, that is, along some dimension, S’s social position is oppressive, \n",
      "and S’s satisfying (i) and (ii) plays a role in that dimension of subordination.\n",
      "\n",
      "Using the above definition, is Catherine the Great a(n) woman? Answer 'True', 'False', or 'Unknown'.\n",
      "Answer:\n"
     ]
    }
   ],
   "source": [
    "print(prompt_1.format(variable=\"S\", term=\"woman\", definition=haslanger_woman, element=\"Catherine the Great\"))"
   ]
  },
  {
   "cell_type": "code",
   "execution_count": 16,
   "id": "b731c782",
   "metadata": {},
   "outputs": [],
   "source": [
    "template_2 = \"\"\"Definition: {variable} is a(n) {term} iff {definition}.\n",
    "\n",
    "Using the above definition, is {element} a(n) {term}? Answer 'True' or 'False'.\n",
    "Answer: {answer}\n",
    "\n",
    "Explain your reasoning.\n",
    "Explanation:\"\"\""
   ]
  },
  {
   "cell_type": "code",
   "execution_count": 17,
   "id": "a6296b44",
   "metadata": {},
   "outputs": [],
   "source": [
    "prompt_2 = PromptTemplate(\n",
    "    input_variables=[\"variable\", \"term\", \"definition\", \"element\", \"answer\"], \n",
    "    template=template_2,\n",
    ")"
   ]
  },
  {
   "cell_type": "code",
   "execution_count": 18,
   "id": "c392f5c6",
   "metadata": {},
   "outputs": [
    {
     "name": "stdout",
     "output_type": "stream",
     "text": [
      "Definition: S is a(n) woman iff (i) S is regularly and for the most part observed or imagined to have \n",
      "certain bodily features presumed to be evidence of a female’s biological role in reproduction; \n",
      "(ii) that S has these features marks S within the dominant ideology of S’s society as someone who \n",
      "ought to occupy certain kinds of social position that are in fact subordinate (and so motivates \n",
      "and justifies S’s occupying such a position); and (iii) the fact that S satisfies (I) and (ii) plays \n",
      "a role in S’s systematic subordination, that is, along some dimension, S’s social position is oppressive, \n",
      "and S’s satisfying (i) and (ii) plays a role in that dimension of subordination.\n",
      "\n",
      "Using the above definition, is Catherine the Great a(n) woman? Answer 'True' or 'False'.\n",
      "Answer: False\n",
      "\n",
      "Explain your reasoning.\n",
      "Explanation:\n"
     ]
    }
   ],
   "source": [
    "print(prompt_2.format(variable=\"S\", term=\"woman\", definition=haslanger_woman, element=\"Catherine the Great\", answer=False))"
   ]
  },
  {
   "cell_type": "code",
   "execution_count": 19,
   "id": "9a8d4706",
   "metadata": {},
   "outputs": [],
   "source": [
    "llm = ChatOpenAI(model_name=\"gpt-4\", temperature=0.1)\n",
    "in_extension_chain = LLMChain(llm=llm, prompt=prompt_1, output_key=\"answer\")\n",
    "explanation_chain = LLMChain(llm=llm, prompt=prompt_2, output_key=\"explanation\")\n",
    "overall_chain = SequentialChain(\n",
    "    chains=[in_extension_chain, explanation_chain],\n",
    "    input_variables=[\"variable\", \"term\", \"definition\", \"element\"],\n",
    "    output_variables=[\"answer\", \"explanation\"],\n",
    ")"
   ]
  },
  {
   "cell_type": "code",
   "execution_count": 21,
   "id": "27b1bee4",
   "metadata": {},
   "outputs": [
    {
     "data": {
      "text/plain": [
       "{'variable': 'S',\n",
       " 'term': 'woman',\n",
       " 'definition': '(i) S is regularly and for the most part observed or imagined to have \\ncertain bodily features presumed to be evidence of a female’s biological role in reproduction; \\n(ii) that S has these features marks S within the dominant ideology of S’s society as someone who \\nought to occupy certain kinds of social position that are in fact subordinate (and so motivates \\nand justifies S’s occupying such a position); and (iii) the fact that S satisfies (I) and (ii) plays \\na role in S’s systematic subordination, that is, along some dimension, S’s social position is oppressive, \\nand S’s satisfying (i) and (ii) plays a role in that dimension of subordination',\n",
       " 'element': 'Sally Haslanger',\n",
       " 'answer': 'Unknown',\n",
       " 'explanation': 'The question does not provide enough information about Sally Haslanger to determine whether she fits the given definition of a woman. We would need information about her biological features, her social position, and whether she experiences systematic subordination due to these factors. Without this information, we cannot definitively say whether Sally Haslanger is a woman according to this definition.'}"
      ]
     },
     "execution_count": 21,
     "metadata": {},
     "output_type": "execute_result"
    }
   ],
   "source": [
    "overall_chain({\"variable\": \"S\", \"term\": \"woman\", \"definition\": haslanger_woman, \"element\": \"Sally Haslanger\"})"
   ]
  },
  {
   "cell_type": "code",
   "execution_count": 11,
   "id": "83dfdbed",
   "metadata": {},
   "outputs": [],
   "source": [
    "collection = [\n",
    "    \"Rosa Parks\",\n",
    "    \"Hillary Clinton\",\n",
    "    \"Pamela Anderson\",\n",
    "    \"Lebron James\",\n",
    "    \"Sally Haslanger\",\n",
    "    \"Nancy Pelosi\",\n",
    "    \"Catwoman\",\n",
    "    \"Taylor Swift\",\n",
    "    \"Julia Roberts\",\n",
    "    \"James Earl Carter\",\n",
    "    \"Peter Bogdanovich\",\n",
    "    \"Elinor Ostrom\",\n",
    "    \"Catherine of Aragon\",\n",
    "    \"Catherine the Great\",\n",
    "    \"Joyce Carol Oates\",\n",
    "    \"Sally Hemings\",\n",
    "    \"Caitlyn Jenner\",\n",
    "    \"Kamala Harris\",\n",
    "]"
   ]
  },
  {
   "cell_type": "code",
   "execution_count": 12,
   "id": "15550526",
   "metadata": {},
   "outputs": [
    {
     "data": {
      "text/html": [
       "<style type=\"text/css\">\n",
       "#T_df97b_row0_col0, #T_df97b_row0_col1, #T_df97b_row0_col2, #T_df97b_row1_col0, #T_df97b_row1_col1, #T_df97b_row1_col2, #T_df97b_row2_col0, #T_df97b_row2_col1, #T_df97b_row2_col2, #T_df97b_row3_col0, #T_df97b_row3_col1, #T_df97b_row3_col2, #T_df97b_row4_col0, #T_df97b_row4_col1, #T_df97b_row4_col2, #T_df97b_row5_col0, #T_df97b_row5_col1, #T_df97b_row5_col2, #T_df97b_row6_col0, #T_df97b_row6_col1, #T_df97b_row6_col2, #T_df97b_row7_col0, #T_df97b_row7_col1, #T_df97b_row7_col2, #T_df97b_row8_col0, #T_df97b_row8_col1, #T_df97b_row8_col2, #T_df97b_row9_col0, #T_df97b_row9_col1, #T_df97b_row9_col2, #T_df97b_row10_col0, #T_df97b_row10_col1, #T_df97b_row10_col2, #T_df97b_row11_col0, #T_df97b_row11_col1, #T_df97b_row11_col2, #T_df97b_row12_col0, #T_df97b_row12_col1, #T_df97b_row12_col2, #T_df97b_row13_col0, #T_df97b_row13_col1, #T_df97b_row13_col2, #T_df97b_row14_col0, #T_df97b_row14_col1, #T_df97b_row14_col2, #T_df97b_row15_col0, #T_df97b_row15_col1, #T_df97b_row15_col2, #T_df97b_row16_col0, #T_df97b_row16_col1, #T_df97b_row16_col2, #T_df97b_row17_col0, #T_df97b_row17_col1, #T_df97b_row17_col2 {\n",
       "  text-align: left;\n",
       "  overflow-wrap: break-word;\n",
       "}\n",
       "</style>\n",
       "<table id=\"T_df97b\">\n",
       "  <thead>\n",
       "    <tr>\n",
       "      <th class=\"blank level0\" >&nbsp;</th>\n",
       "      <th id=\"T_df97b_level0_col0\" class=\"col_heading level0 col0\" >element</th>\n",
       "      <th id=\"T_df97b_level0_col1\" class=\"col_heading level0 col1\" >in_extension</th>\n",
       "      <th id=\"T_df97b_level0_col2\" class=\"col_heading level0 col2\" >explanation</th>\n",
       "    </tr>\n",
       "  </thead>\n",
       "  <tbody>\n",
       "    <tr>\n",
       "      <th id=\"T_df97b_level0_row0\" class=\"row_heading level0 row0\" >0</th>\n",
       "      <td id=\"T_df97b_row0_col0\" class=\"data row0 col0\" >Rosa Parks</td>\n",
       "      <td id=\"T_df97b_row0_col1\" class=\"data row0 col1\" >True</td>\n",
       "      <td id=\"T_df97b_row0_col2\" class=\"data row0 col2\" >Rosa Parks was regularly observed to have the bodily features associated with a female's biological role in reproduction, marking her as a woman within the dominant ideology of her society. Furthermore, her social position was indeed subordinate and oppressive, as evidenced by her role in the Civil Rights Movement fighting against racial segregation. Therefore, she satisfies all the conditions in the definition of a woman.</td>\n",
       "    </tr>\n",
       "    <tr>\n",
       "      <th id=\"T_df97b_level0_row1\" class=\"row_heading level0 row1\" >1</th>\n",
       "      <td id=\"T_df97b_row1_col0\" class=\"data row1 col0\" >Hillary Clinton</td>\n",
       "      <td id=\"T_df97b_row1_col1\" class=\"data row1 col1\" >True</td>\n",
       "      <td id=\"T_df97b_row1_col2\" class=\"data row1 col2\" >Hillary Clinton is observed to have the bodily features associated with the female biological role in reproduction, marking her as female within the dominant ideology of her society. She has also occupied social positions that are traditionally associated with women, such as being a wife and mother. Despite her high-ranking positions in politics, she has faced systematic subordination and oppression due to her gender, such as sexism and gender bias, which satisfies condition (iii). Therefore, according to this definition, Hillary Clinton is a woman.</td>\n",
       "    </tr>\n",
       "    <tr>\n",
       "      <th id=\"T_df97b_level0_row2\" class=\"row_heading level0 row2\" >2</th>\n",
       "      <td id=\"T_df97b_row2_col0\" class=\"data row2 col0\" >Pamela Anderson</td>\n",
       "      <td id=\"T_df97b_row2_col1\" class=\"data row2 col1\" >True</td>\n",
       "      <td id=\"T_df97b_row2_col2\" class=\"data row2 col2\" >Pamela Anderson is regularly observed to have bodily features associated with the female biological role in reproduction. She is also marked within the dominant ideology of her society as someone who ought to occupy certain kinds of social positions that are often considered subordinate. Furthermore, these factors play a role in her systematic subordination in some dimensions of her social position. Therefore, according to the given definition, Pamela Anderson is a woman.</td>\n",
       "    </tr>\n",
       "    <tr>\n",
       "      <th id=\"T_df97b_level0_row3\" class=\"row_heading level0 row3\" >3</th>\n",
       "      <td id=\"T_df97b_row3_col0\" class=\"data row3 col0\" >Lebron James</td>\n",
       "      <td id=\"T_df97b_row3_col1\" class=\"data row3 col1\" >False</td>\n",
       "      <td id=\"T_df97b_row3_col2\" class=\"data row3 col2\" >Lebron James does not meet any of the criteria outlined in the definition of a woman. He is not observed or imagined to have the bodily features associated with a female's biological role in reproduction. He is not marked within the dominant ideology of his society as someone who ought to occupy certain kinds of social position that are subordinate. And his social position is not oppressive, nor does he satisfy criteria (i) and (ii) that would play a role in any such subordination. Therefore, according to this definition, Lebron James is not a woman.</td>\n",
       "    </tr>\n",
       "    <tr>\n",
       "      <th id=\"T_df97b_level0_row4\" class=\"row_heading level0 row4\" >4</th>\n",
       "      <td id=\"T_df97b_row4_col0\" class=\"data row4 col0\" >Sally Haslanger</td>\n",
       "      <td id=\"T_df97b_row4_col1\" class=\"data row4 col1\" >This cannot be accurately answered with 'True' or 'False' as it requires personal and societal context about Sally Haslanger that is not provided in the question.</td>\n",
       "      <td id=\"T_df97b_row4_col2\" class=\"data row4 col2\" >The definition provided for a woman is complex and involves multiple factors, including physical characteristics, societal expectations, and experiences of subordination. Without specific information about Sally Haslanger's physical characteristics, her societal context, and her personal experiences, it is impossible to definitively say whether or not she fits this definition. Therefore, a simple 'True' or 'False' answer would not be accurate or fair.</td>\n",
       "    </tr>\n",
       "    <tr>\n",
       "      <th id=\"T_df97b_level0_row5\" class=\"row_heading level0 row5\" >5</th>\n",
       "      <td id=\"T_df97b_row5_col0\" class=\"data row5 col0\" >Nancy Pelosi</td>\n",
       "      <td id=\"T_df97b_row5_col1\" class=\"data row5 col1\" >True</td>\n",
       "      <td id=\"T_df97b_row5_col2\" class=\"data row5 col2\" >Nancy Pelosi is observed to have the bodily features associated with a female's biological role in reproduction. She is also marked within the dominant ideology of her society as someone who ought to occupy certain kinds of social position. While it can be argued that her position as Speaker of the House is not subordinate, it is important to note that the definition does not require all women to occupy subordinate positions, but rather that they are marked as such within their society's dominant ideology. Therefore, Nancy Pelosi satisfies both conditions (i) and (ii) of the definition.</td>\n",
       "    </tr>\n",
       "    <tr>\n",
       "      <th id=\"T_df97b_level0_row6\" class=\"row_heading level0 row6\" >6</th>\n",
       "      <td id=\"T_df97b_row6_col0\" class=\"data row6 col0\" >Catwoman</td>\n",
       "      <td id=\"T_df97b_row6_col1\" class=\"data row6 col1\" >True</td>\n",
       "      <td id=\"T_df97b_row6_col2\" class=\"data row6 col2\" >Catwoman, also known as Selina Kyle, is a fictional character in the Batman series who is regularly and for the most part observed or imagined to have certain bodily features presumed to be evidence of a female’s biological role in reproduction. This marks her within the dominant ideology of her society as someone who ought to occupy certain kinds of social position that are in fact subordinate. Furthermore, the fact that she satisfies these conditions plays a role in her systematic subordination, that is, along some dimension, her social position is oppressive, and her satisfying these conditions plays a role in that dimension of subordination. Therefore, according to the given definition, Catwoman is a woman.</td>\n",
       "    </tr>\n",
       "    <tr>\n",
       "      <th id=\"T_df97b_level0_row7\" class=\"row_heading level0 row7\" >7</th>\n",
       "      <td id=\"T_df97b_row7_col0\" class=\"data row7 col0\" >Taylor Swift</td>\n",
       "      <td id=\"T_df97b_row7_col1\" class=\"data row7 col1\" >True</td>\n",
       "      <td id=\"T_df97b_row7_col2\" class=\"data row7 col2\" >Taylor Swift is observed to have the bodily features associated with a female's biological role in reproduction. She is also marked within the dominant ideology of her society as someone who ought to occupy certain kinds of social positions that are traditionally associated with women. While it can be argued that her social position is not subordinate due to her fame and success, she still exists within a societal structure that systematically subordinates women, and her identity as a woman plays a role in that dimension of subordination. Therefore, according to the given definition, Taylor Swift is a woman.</td>\n",
       "    </tr>\n",
       "    <tr>\n",
       "      <th id=\"T_df97b_level0_row8\" class=\"row_heading level0 row8\" >8</th>\n",
       "      <td id=\"T_df97b_row8_col0\" class=\"data row8 col0\" >Julia Roberts</td>\n",
       "      <td id=\"T_df97b_row8_col1\" class=\"data row8 col1\" >True</td>\n",
       "      <td id=\"T_df97b_row8_col2\" class=\"data row8 col2\" >Julia Roberts is regularly observed to have bodily features associated with the female biological role in reproduction, marking her as female within the dominant ideology of her society. Furthermore, these features place her in certain social positions that, while not necessarily subordinate in her specific case due to her status as a successful actress, are generally considered subordinate in a broader societal context. Therefore, she satisfies both conditions (i) and (ii) of the definition, making the statement 'Julia Roberts is a woman' true.</td>\n",
       "    </tr>\n",
       "    <tr>\n",
       "      <th id=\"T_df97b_level0_row9\" class=\"row_heading level0 row9\" >9</th>\n",
       "      <td id=\"T_df97b_row9_col0\" class=\"data row9 col0\" >James Earl Carter</td>\n",
       "      <td id=\"T_df97b_row9_col1\" class=\"data row9 col1\" >False</td>\n",
       "      <td id=\"T_df97b_row9_col2\" class=\"data row9 col2\" >James Earl Carter, also known as Jimmy Carter, the 39th President of the United States, is not a woman. He does not meet the criteria outlined in the definition. He is not observed or imagined to have the bodily features associated with a female's biological role in reproduction, nor is he marked within the dominant ideology of his society as someone who ought to occupy certain kinds of social position that are in fact subordinate. Therefore, he does not satisfy conditions (i) and (ii) and his social position is not oppressive in the way described in condition (iii).</td>\n",
       "    </tr>\n",
       "    <tr>\n",
       "      <th id=\"T_df97b_level0_row10\" class=\"row_heading level0 row10\" >10</th>\n",
       "      <td id=\"T_df97b_row10_col0\" class=\"data row10 col0\" >Peter Bogdanovich</td>\n",
       "      <td id=\"T_df97b_row10_col1\" class=\"data row10 col1\" >False</td>\n",
       "      <td id=\"T_df97b_row10_col2\" class=\"data row10 col2\" >Peter Bogdanovich is a well-known male film director and actor. He is not observed or imagined to have the bodily features associated with a female's biological role in reproduction. Furthermore, he does not occupy a social position that is subordinate due to these features. Therefore, he does not satisfy any of the conditions in the definition of a woman.</td>\n",
       "    </tr>\n",
       "    <tr>\n",
       "      <th id=\"T_df97b_level0_row11\" class=\"row_heading level0 row11\" >11</th>\n",
       "      <td id=\"T_df97b_row11_col0\" class=\"data row11 col0\" >Elinor Ostrom</td>\n",
       "      <td id=\"T_df97b_row11_col1\" class=\"data row11 col1\" >True</td>\n",
       "      <td id=\"T_df97b_row11_col2\" class=\"data row11 col2\" >Elinor Ostrom was a woman as she was biologically female and identified as such. She was observed to have the bodily features associated with being female. While the definition includes the idea of occupying a subordinate social position, it's important to note that this doesn't mean every woman is in a subordinate position in every aspect of life. Elinor Ostrom, for example, was a highly respected and influential scholar in her field. However, she lived in a society where women have historically been marginalized, which fits the broader social context mentioned in the definition.</td>\n",
       "    </tr>\n",
       "    <tr>\n",
       "      <th id=\"T_df97b_level0_row12\" class=\"row_heading level0 row12\" >12</th>\n",
       "      <td id=\"T_df97b_row12_col0\" class=\"data row12 col0\" >Catherine of Aragon</td>\n",
       "      <td id=\"T_df97b_row12_col1\" class=\"data row12 col1\" >True</td>\n",
       "      <td id=\"T_df97b_row12_col2\" class=\"data row12 col2\" >Catherine of Aragon was a historical figure who was observed to have the bodily features associated with a female's biological role in reproduction. As a queen, she occupied a certain kind of social position that, while powerful, was still subordinate to the king. Her role as a woman played a part in her systematic subordination, as seen in her marriage to King Henry VIII and the subsequent annulment due to her inability to produce a male heir. Therefore, according to the given definition, Catherine of Aragon is a woman.</td>\n",
       "    </tr>\n",
       "    <tr>\n",
       "      <th id=\"T_df97b_level0_row13\" class=\"row_heading level0 row13\" >13</th>\n",
       "      <td id=\"T_df97b_row13_col0\" class=\"data row13 col0\" >Catherine the Great</td>\n",
       "      <td id=\"T_df97b_row13_col1\" class=\"data row13 col1\" >True</td>\n",
       "      <td id=\"T_df97b_row13_col2\" class=\"data row13 col2\" >Catherine the Great, as a historical figure, was observed to have the bodily features associated with a female's biological role in reproduction. Despite her powerful position as a ruler, she lived in a society where women were generally expected to occupy subordinate social positions. Her role as a female ruler in a patriarchal society could be seen as a form of systematic subordination, as she had to navigate and overcome societal expectations and limitations placed on her because of her gender. Therefore, according to the given definition, Catherine the Great can be considered a woman.</td>\n",
       "    </tr>\n",
       "    <tr>\n",
       "      <th id=\"T_df97b_level0_row14\" class=\"row_heading level0 row14\" >14</th>\n",
       "      <td id=\"T_df97b_row14_col0\" class=\"data row14 col0\" >Joyce Carol Oates</td>\n",
       "      <td id=\"T_df97b_row14_col1\" class=\"data row14 col1\" >True</td>\n",
       "      <td id=\"T_df97b_row14_col2\" class=\"data row14 col2\" >Joyce Carol Oates is a woman because she satisfies all the conditions in the definition. She is biologically female, which satisfies condition (i). As a woman in society, she is marked within the dominant ideology to occupy certain kinds of social positions that are often subordinate, satisfying condition (ii). Lastly, her social position as a woman plays a role in her systematic subordination, satisfying condition (iii). Therefore, according to this definition, Joyce Carol Oates is a woman.</td>\n",
       "    </tr>\n",
       "    <tr>\n",
       "      <th id=\"T_df97b_level0_row15\" class=\"row_heading level0 row15\" >15</th>\n",
       "      <td id=\"T_df97b_row15_col0\" class=\"data row15 col0\" >Sally Hemings</td>\n",
       "      <td id=\"T_df97b_row15_col1\" class=\"data row15 col1\" >True</td>\n",
       "      <td id=\"T_df97b_row15_col2\" class=\"data row15 col2\" >Sally Hemings satisfies all the conditions in the definition of a woman. She was observed to have the bodily features associated with a female's biological role in reproduction. As a slave in the 18th century, she was marked within the dominant ideology of her society as someone who ought to occupy a subordinate social position. This fact played a role in her systematic subordination and oppression. Therefore, according to this definition, Sally Hemings is a woman.</td>\n",
       "    </tr>\n",
       "    <tr>\n",
       "      <th id=\"T_df97b_level0_row16\" class=\"row_heading level0 row16\" >16</th>\n",
       "      <td id=\"T_df97b_row16_col0\" class=\"data row16 col0\" >Caitlyn Jenner</td>\n",
       "      <td id=\"T_df97b_row16_col1\" class=\"data row16 col1\" >True</td>\n",
       "      <td id=\"T_df97b_row16_col2\" class=\"data row16 col2\" >Caitlyn Jenner is observed and imagined to have certain bodily features associated with females due to her transition. She is also marked within the dominant ideology of her society as someone who occupies a social position typically associated with women. Furthermore, her identification as a woman plays a role in her social position, which can be seen as oppressive due to societal attitudes towards transgender individuals. Therefore, according to the given definition, Caitlyn Jenner is a woman.</td>\n",
       "    </tr>\n",
       "    <tr>\n",
       "      <th id=\"T_df97b_level0_row17\" class=\"row_heading level0 row17\" >17</th>\n",
       "      <td id=\"T_df97b_row17_col0\" class=\"data row17 col0\" >Kamala Harris</td>\n",
       "      <td id=\"T_df97b_row17_col1\" class=\"data row17 col1\" >True</td>\n",
       "      <td id=\"T_df97b_row17_col2\" class=\"data row17 col2\" >Kamala Harris is observed to have the bodily features associated with the female biological role in reproduction. In her society, these features mark her as someone who should occupy certain social positions, although it should be noted that these positions are not necessarily subordinate as the definition suggests, given that she is the Vice President of the United States. However, the fact that she satisfies both conditions (i) and (ii) can play a role in her systematic subordination in certain contexts, due to existing gender biases and inequalities. Therefore, according to this definition, Kamala Harris is a woman.</td>\n",
       "    </tr>\n",
       "  </tbody>\n",
       "</table>\n"
      ],
      "text/plain": [
       "<pandas.io.formats.style.Styler at 0x15a0b7810>"
      ]
     },
     "execution_count": 12,
     "metadata": {},
     "output_type": "execute_result"
    }
   ],
   "source": [
    "df = DataFrame(\n",
    "    [\n",
    "        \n",
    "        [ \n",
    "            response[\"element\"], \n",
    "            response[\"answer\"].strip(), \n",
    "            response[\"explanation\"].strip() \n",
    "        ]\n",
    "        for response in [ \n",
    "            overall_chain(\n",
    "                {\n",
    "                    \"variable\": \"S\", \n",
    "                    \"term\": \"woman\", \n",
    "                    \"definition\": haslanger_woman, \n",
    "                    \"element\": element\n",
    "                }\n",
    "            ) \n",
    "            for element in collection\n",
    "        ]  \n",
    "        \n",
    "    ],\n",
    "    columns = [ 'element' , 'in_extension', 'explanation' ]\n",
    ")\n",
    "df.style.set_properties(**{\"text-align\": \"left\", \"overflow-wrap\": \"break-word\"})"
   ]
  }
 ],
 "metadata": {
  "kernelspec": {
   "display_name": "Python 3 (ipykernel)",
   "language": "python",
   "name": "python3"
  },
  "language_info": {
   "codemirror_mode": {
    "name": "ipython",
    "version": 3
   },
   "file_extension": ".py",
   "mimetype": "text/x-python",
   "name": "python",
   "nbconvert_exporter": "python",
   "pygments_lexer": "ipython3",
   "version": "3.11.4"
  }
 },
 "nbformat": 4,
 "nbformat_minor": 5
}
