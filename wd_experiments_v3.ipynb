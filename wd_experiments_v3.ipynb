{
 "cells": [
  {
   "cell_type": "code",
   "execution_count": 1,
   "metadata": {},
   "outputs": [],
   "source": [
    "import json, pycm, pandas as pd\n",
    "from nl_classifier import NaturalLanguageClassifer\n",
    "from datetime import datetime"
   ]
  },
  {
   "cell_type": "code",
   "execution_count": 2,
   "metadata": {},
   "outputs": [],
   "source": [
    "MODEL_NAME = 'gpt-4'\n",
    "TEMPERATURE = 0.1\n",
    "RESULTS_FILENAME = 'wd_gpt-4_description_from_wikipedia_results.json'"
   ]
  },
  {
   "cell_type": "code",
   "execution_count": 3,
   "metadata": {},
   "outputs": [],
   "source": [
    "experiments = json.load(open(RESULTS_FILENAME, 'r'))"
   ]
  },
  {
   "cell_type": "code",
   "execution_count": 8,
   "metadata": {},
   "outputs": [
    {
     "name": "stdout",
     "output_type": "stream",
     "text": [
      "01: History of cities              http://www.wikidata.org/entity/Q30324006 SKIPPING\n",
      "02: Embedded system                http://www.wikidata.org/entity/Q193040 SKIPPING\n",
      "03: Irregular galaxy               http://www.wikidata.org/entity/Q190397 SKIPPING\n",
      "04: Plant variety (law)            http://www.wikidata.org/entity/Q1363241 SKIPPING\n",
      "05: Microcomputer                  http://www.wikidata.org/entity/Q32738 SKIPPING\n",
      "06: Equestrian sport               http://www.wikidata.org/entity/Q902378 SKIPPING\n",
      "07: Fraud                          http://www.wikidata.org/entity/Q28813 SKIPPING\n",
      "08: Seaplane                       http://www.wikidata.org/entity/Q115940 SKIPPING\n",
      "09: Beer in Belgium                http://www.wikidata.org/entity/Q348229 SKIPPING\n",
      "10: Seyfert galaxy                 http://www.wikidata.org/entity/Q213930 SKIPPING\n",
      "11: Cities of Japan                http://www.wikidata.org/entity/Q494721 SKIPPING\n",
      "12: Catholic higher education      http://www.wikidata.org/entity/Q557206 SKIPPING\n",
      "13: Village (Japan)                http://www.wikidata.org/entity/Q4174776 SKIPPING\n",
      "14: Fetus                          http://www.wikidata.org/entity/Q26513 SKIPPING\n",
      "15: Art movement                   http://www.wikidata.org/entity/Q968159 SKIPPING\n",
      "16: Child                          http://www.wikidata.org/entity/Q7569 SKIPPING\n",
      "17: Chronology                     http://www.wikidata.org/entity/Q130788 SKIPPING\n",
      "18: Indigenous peoples of the Americas http://www.wikidata.org/entity/Q36747 SKIPPING\n",
      "19: Esports                        http://www.wikidata.org/entity/Q300920 SKIPPING\n",
      "20: Natural science                http://www.wikidata.org/entity/Q7991\n",
      "   01: creationism                    http://www.wikidata.org/entity/Q130352        positive   00420 tokens  FN\n",
      "   02: geocentric latitude            http://www.wikidata.org/entity/Q149922        positive   00008 tokens  \n",
      "   03: geography of the United Kingdom http://www.wikidata.org/entity/Q129373        positive   00257 tokens  \n",
      "   04: geography of Burkina Faso      http://www.wikidata.org/entity/Q39313         positive   00252 tokens  FN\n",
      "   05: geography of Spain             http://www.wikidata.org/entity/Q207461        positive   00446 tokens  \n",
      "   06: geography of Canada            http://www.wikidata.org/entity/Q2939          positive   00669 tokens  \n",
      "   07: geography of Panama            http://www.wikidata.org/entity/Q60273         positive   00121 tokens  \n",
      "   08: geography of Gabon             http://www.wikidata.org/entity/Q367061        positive   00036 tokens  \n",
      "   09: geography of Niger             http://www.wikidata.org/entity/Q591586        positive   00086 tokens  \n",
      "   10: geography of the Cook Islands  http://www.wikidata.org/entity/Q658660        positive   00121 tokens  \n",
      "   11: diving reflex                  http://www.wikidata.org/entity/Q589284        positive   00311 tokens  \n",
      "   12: decline in amphibian populations http://www.wikidata.org/entity/Q2363331       positive   00289 tokens  \n",
      "   13: Ethnic groups of Andhra Pradesh http://www.wikidata.org/entity/Q5404258       positive   00191 tokens  FN\n",
      "   14: Dumas method                   http://www.wikidata.org/entity/Q3855627       positive   00121 tokens  \n",
      "   15: standard addition              http://www.wikidata.org/entity/Q660819        positive   00089 tokens  \n",
      "   16: Bromatometry                   http://www.wikidata.org/entity/Q906746        positive   00046 tokens  \n",
      "   17: Isotope-coded affinity tag     http://www.wikidata.org/entity/Q6086445       positive   00169 tokens  \n",
      "   18: Möbius–Hückel concept          http://www.wikidata.org/entity/Q6950324       positive   00106 tokens  \n",
      "   19: Subsistence crisis             http://www.wikidata.org/entity/Q7632014       positive   00098 tokens  \n",
      "   20: geography of Poland            http://www.wikidata.org/entity/Q1451222       positive   00429 tokens  \n",
      "   21: Friedensengel                  http://www.wikidata.org/entity/Q1456719       negative   00009 tokens  \n",
      "   22: Fresque des Québécois          http://www.wikidata.org/entity/Q2034672       negative   00015 tokens  \n",
      "   23: Il faut se méfier des mots     http://www.wikidata.org/entity/Q3148502       negative   00016 tokens  \n",
      "   24: La Carte du ciel               http://www.wikidata.org/entity/Q3207064       negative   00012 tokens  \n",
      "   25: protestant church of Daillens  http://www.wikidata.org/entity/Q3517551       negative   00015 tokens  \n",
      "   26: Ebb and Flow                   http://www.wikidata.org/entity/Q5331514       negative   00052 tokens  \n",
      "   27: Mission Dolores mural          http://www.wikidata.org/entity/Q6878583       negative   00252 tokens  \n",
      "   28: Mississippi River Tales Mural  http://www.wikidata.org/entity/Q6879289       negative   00230 tokens  \n",
      "   29: Trains                         http://www.wikidata.org/entity/Q7832995       negative   00071 tokens  \n",
      "   30: Wall of Love                   http://www.wikidata.org/entity/Q10860702      negative   00183 tokens  \n",
      "   31: Northcote Koori Mural          http://www.wikidata.org/entity/Q14935262      negative   00498 tokens  \n",
      "   32: Aux gloires du Lyonnais et du Beaujolais http://www.wikidata.org/entity/Q15150145      negative   00026 tokens  \n",
      "   33: Memoria visual de una nación   http://www.wikidata.org/entity/Q15919230      negative   00014 tokens  \n",
      "   34: Times Square Mural             http://www.wikidata.org/entity/Q16947193      negative   00102 tokens  \n",
      "   35: The people to the University, the University to the people http://www.wikidata.org/entity/Q17374363      negative   00022 tokens  \n",
      "   36: The veneration of Mary by saints and blessed in heaven http://www.wikidata.org/entity/Q18043348      negative   00022 tokens  \n",
      "   37: Poplar Rates Rebellion Mural   http://www.wikidata.org/entity/Q20713184      negative   00364 tokens  \n",
      "   38: Untitled                       http://www.wikidata.org/entity/Q23459690      negative   00003 tokens  \n",
      "   39: Appel de l'abbé Pierre         http://www.wikidata.org/entity/Q23637001      negative   00016 tokens  \n",
      "   40: Packy mural                    http://www.wikidata.org/entity/Q27049289      negative   00178 tokens  \n"
     ]
    }
   ],
   "source": [
    "for i, experiment in enumerate(experiments):\n",
    "    cls = experiment[\"concept\"]\n",
    "    if \"created\" in experiment:\n",
    "        print(f'{i+1:02}: {cls[\"label\"]:30} {cls[\"id\"]} SKIPPING')\n",
    "    else:\n",
    "        classifier = NaturalLanguageClassifer(cls[\"id\"], cls[\"label\"], cls[\"definition\"], MODEL_NAME, TEMPERATURE)\n",
    "        print(f'{i+1:02}: {cls[\"label\"]:30} {cls[\"id\"]}')\n",
    "        data = experiment[\"data\"]\n",
    "        for j, entity in enumerate(data):\n",
    "            print(f'   {j+1:02}: {entity[\"label\"]:30} {entity[\"id\"]:45} {entity[\"actual\"]:10} {classifier.tokens_used(entity[\"label\"] + \" \" + entity[\"description\"]):05} tokens ', end=\" \")\n",
    "            classification = classifier.classify(entity[\"label\"], entity[\"description\"])\n",
    "            entity[\"predicted\"] = classification[\"predicted\"].lower()\n",
    "            if entity[\"actual\"] != entity[\"predicted\"]:\n",
    "                if entity[\"actual\"] == \"positive\":\n",
    "                    print(\"FN\")\n",
    "                else:\n",
    "                    print(\"FP\")\n",
    "            else:\n",
    "                print(\"\")\n",
    "            entity[\"rationale\"] = classification[\"rationale\"]\n",
    "        df_results = pd.DataFrame.from_records(data)\n",
    "        cm = pycm.ConfusionMatrix(df_results[\"actual\"].tolist(), df_results[\"predicted\"].tolist(), digit=2, classes=[ 'positive', 'negative' ])\n",
    "        experiment[\"confusion_matrix\"] = cm.matrix\n",
    "        experiment[\"created\"] = datetime.now().isoformat()\n",
    "        json.dump(experiments, open(RESULTS_FILENAME, 'w+'))\n"
   ]
  }
 ],
 "metadata": {
  "kernelspec": {
   "display_name": "conceptual-engineering-using-llms",
   "language": "python",
   "name": "python3"
  },
  "language_info": {
   "codemirror_mode": {
    "name": "ipython",
    "version": 3
   },
   "file_extension": ".py",
   "mimetype": "text/x-python",
   "name": "python",
   "nbconvert_exporter": "python",
   "pygments_lexer": "ipython3",
   "version": "3.11.4"
  },
  "orig_nbformat": 4
 },
 "nbformat": 4,
 "nbformat_minor": 2
}
