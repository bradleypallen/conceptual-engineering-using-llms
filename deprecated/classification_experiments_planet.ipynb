{
 "cells": [
  {
   "cell_type": "code",
   "execution_count": 1,
   "metadata": {},
   "outputs": [],
   "source": [
    "from conceptual_engineering_toolkit import Experiment"
   ]
  },
  {
   "cell_type": "code",
   "execution_count": 2,
   "metadata": {},
   "outputs": [],
   "source": [
    "experiment = Experiment(\"benchmarks/planet/data.json\", \"concepts/planet/oed_planet.yaml\", \"gpt-4\")\n",
    "sample = experiment.sample(n=100)\n",
    "experiment.run(sample)\n",
    "experiment_file = experiment.save()"
   ]
  },
  {
   "cell_type": "code",
   "execution_count": 3,
   "metadata": {},
   "outputs": [],
   "source": [
    "experiment = Experiment(\"benchmarks/planet/data.json\", \"concepts/planet/iau_2006_08_16_planet.yaml\", \"gpt-4\")\n",
    "sample = experiment.sample(n=100)\n",
    "experiment.run(sample)\n",
    "experiment_file = experiment.save()"
   ]
  },
  {
   "cell_type": "code",
   "execution_count": 5,
   "metadata": {},
   "outputs": [
    {
     "name": "stderr",
     "output_type": "stream",
     "text": [
      "Retrying langchain.chat_models.openai.ChatOpenAI.completion_with_retry.<locals>._completion_with_retry in 4.0 seconds as it raised APIError: HTTP code 502 from API (<html>\n",
      "<head><title>502 Bad Gateway</title></head>\n",
      "<body>\n",
      "<center><h1>502 Bad Gateway</h1></center>\n",
      "<hr><center>cloudflare</center>\n",
      "</body>\n",
      "</html>\n",
      ").\n"
     ]
    }
   ],
   "source": [
    "experiment = Experiment(\"benchmarks/planet/data.json\", \"concepts/planet/iau_2006_08_24_planet.yaml\", \"gpt-4\")\n",
    "sample = experiment.sample(n=100)\n",
    "experiment.run(sample)\n",
    "experiment_file = experiment.save()"
   ]
  }
 ],
 "metadata": {
  "kernelspec": {
   "display_name": "conceptual-engineering-using-llms",
   "language": "python",
   "name": "python3"
  },
  "language_info": {
   "codemirror_mode": {
    "name": "ipython",
    "version": 3
   },
   "file_extension": ".py",
   "mimetype": "text/x-python",
   "name": "python",
   "nbconvert_exporter": "python",
   "pygments_lexer": "ipython3",
   "version": "3.11.4"
  },
  "orig_nbformat": 4
 },
 "nbformat": 4,
 "nbformat_minor": 2
}
