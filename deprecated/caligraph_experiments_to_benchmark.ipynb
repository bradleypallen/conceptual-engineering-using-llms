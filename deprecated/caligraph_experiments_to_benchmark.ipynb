{
 "cells": [
  {
   "cell_type": "code",
   "execution_count": 1,
   "metadata": {},
   "outputs": [],
   "source": [
    "import json, operator, requests, time, pycm, wikipedia, glob, pandas as pd\n",
    "from langchain import HuggingFaceHub, OpenAI\n",
    "from langchain.chat_models import ChatOpenAI\n",
    "from langchain.chains import LLMChain, SequentialChain\n",
    "from langchain.prompts import PromptTemplate\n",
    "from conceptual_engineering_toolkit import Concept, Entity\n",
    "from cet_experiments import serialize, summarize, WIKIPEDIA_ARTICLE_QUERY, KNOWLEDGE_GRAPH\n",
    "from datetime import datetime\n",
    "from string import Template\n",
    "from pathlib import Path"
   ]
  },
  {
   "cell_type": "code",
   "execution_count": 2,
   "metadata": {},
   "outputs": [],
   "source": [
    "QUERY_HEADERS = {\n",
    "    'User-Agent': 'ConceptualEngineeringAgent/0.2 (https://github.com/bradleypallen/conceptual-engineering-using-llms; b.p.allen@uva.nl)',\n",
    "}\n",
    "\n",
    "QUERY_LIMIT = 20\n",
    "\n",
    "ENTITY_TRIPLES_QUERY = Template(\"\"\"SELECT DISTINCT ?s ?p ?o WHERE {\n",
    "{ \n",
    "  VALUES ?s { <$id> }\n",
    "  ?s ?p ?o . \n",
    "}\n",
    "UNION\n",
    "{ \n",
    "  VALUES ?o { <$id> }\n",
    "  ?s ?p ?o . \n",
    "}\n",
    "}\n",
    "LIMIT $limit\n",
    "\"\"\")"
   ]
  },
  {
   "cell_type": "code",
   "execution_count": 3,
   "metadata": {},
   "outputs": [],
   "source": [
    "def serialize(e, graph=KNOWLEDGE_GRAPH):\n",
    "    headers = QUERY_HEADERS\n",
    "    headers['Accept'] = 'text/tab-separated-values'\n",
    "    query = ENTITY_TRIPLES_QUERY.substitute({\"id\": e, \"limit\": QUERY_LIMIT})\n",
    "    response = requests.get(graph, params={'query' : query}, headers=headers)\n",
    "    response.raise_for_status()\n",
    "    return '\\n'.join(response.text.split('\\n')[1:])"
   ]
  },
  {
   "cell_type": "code",
   "execution_count": 4,
   "metadata": {},
   "outputs": [],
   "source": [
    "experiments = json.load(open('caligraph_experiments.json', 'r'))"
   ]
  },
  {
   "cell_type": "code",
   "execution_count": 5,
   "metadata": {},
   "outputs": [],
   "source": [
    "for experiment in experiments:\n",
    "    experiment['concept']['serialization'] = serialize(experiment['concept']['id'], graph='http://caligraph.org/sparql')\n",
    "    for entity in experiment['data']:\n",
    "        entity['serialization'] = serialize(entity['id'], graph='http://caligraph.org/sparql')"
   ]
  },
  {
   "cell_type": "code",
   "execution_count": 6,
   "metadata": {},
   "outputs": [],
   "source": [
    "json.dump(experiments, open('caligraph_benchmark_data.json', 'w+'))"
   ]
  }
 ],
 "metadata": {
  "kernelspec": {
   "display_name": "conceptual-engineering-using-llms",
   "language": "python",
   "name": "python3"
  },
  "language_info": {
   "codemirror_mode": {
    "name": "ipython",
    "version": 3
   },
   "file_extension": ".py",
   "mimetype": "text/x-python",
   "name": "python",
   "nbconvert_exporter": "python",
   "pygments_lexer": "ipython3",
   "version": "3.11.4"
  },
  "orig_nbformat": 4
 },
 "nbformat": 4,
 "nbformat_minor": 2
}
