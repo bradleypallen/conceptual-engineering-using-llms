{
 "cells": [
  {
   "cell_type": "code",
   "execution_count": 1,
   "metadata": {},
   "outputs": [],
   "source": [
    "import json, operator, requests, time, pycm, wikipedia, pandas as pd\n",
    "from langchain import HuggingFaceHub, OpenAI\n",
    "from langchain.chat_models import ChatOpenAI\n",
    "from langchain.chains import LLMChain, SequentialChain\n",
    "from langchain.prompts import PromptTemplate\n",
    "from conceptual_engineering_toolkit import Concept, Entity\n",
    "from datetime import datetime\n",
    "from string import Template\n",
    "from pathlib import Path"
   ]
  },
  {
   "cell_type": "code",
   "execution_count": 34,
   "metadata": {},
   "outputs": [],
   "source": [
    "DIRECTORY = \"wd_experiments_v2\"\n",
    "\n",
    "SPARQL_ENDPOINT = \"https://query.wikidata.org/sparql\"\n",
    "\n",
    "QUERY_HEADERS = {\n",
    "    'User-Agent': 'ConceptualEngineeringAgent/0.2 (https://github.com/bradleypallen/conceptual-engineering-using-llms; b.p.allen@uva.nl)'\n",
    "}\n",
    "\n",
    "CLASS_QUERY_LIMIT = 250\n",
    "\n",
    "E_QUERY_LIMIT = 20\n",
    "\n",
    "# MIN_INSTANCE_COUNT = 100\n",
    "\n",
    "# CLASS_QUERY_TEMPLATE = Template(\"\"\"SELECT ?class ?label ?superClass (COUNT(?instance) AS ?instanceCount) \n",
    "# WHERE {\n",
    "#    ?class rdf:type owl:Class ;\n",
    "#         rdfs:label ?label ;\n",
    "#         rdfs:subClassOf ?superClass .\n",
    "#    ?instance rdf:type ?class .\n",
    "# }\n",
    "# GROUP BY ?class ?label ?superClass\n",
    "# HAVING (COUNT(?instance) > $minInstanceCount)\n",
    "# LIMIT $limit\n",
    "# \"\"\")\n",
    "\n",
    "POSITIVES_QUERY_TEMPLATE = Template(\"\"\"SELECT DISTINCT ?instance ?label\n",
    "WHERE {\n",
    "  ?instance p:P31/ps:P31/wdt:P279* <$class> ;\n",
    "      rdfs:label ?label .\n",
    "  FILTER(LANG(?label) = \"en\") .\n",
    "}\n",
    "LIMIT $limit\n",
    "\"\"\")\n",
    "\n",
    "NEGATIVES_QUERY_TEMPLATE = Template(\"\"\"SELECT DISTINCT ?instance ?label\n",
    "WHERE {\n",
    "  ?subclassOfSuperClass wdt:P279* <$superClass> .\n",
    "  ?instance p:P31/ps:P31/wdt:P279* ?subclassOfSuperClass ;\n",
    "       rdfs:label ?label .\n",
    "  FILTER(LANG(?label) = \"en\") .\n",
    "  FILTER NOT EXISTS {\n",
    "    ?subclassOfClass wdt:P279* <$class> .\n",
    "    ?instance p:P31/ps:P31/wdt:P279* ?subclassOfClass .\n",
    "  }\n",
    "}\n",
    "LIMIT $limit\n",
    "\"\"\")\n",
    "                                  \n",
    "DESCRIPTION_QUERY_TEMPLATE = Template(\"\"\"SELECT DISTINCT ?s ?p ?o WHERE {\n",
    "{ \n",
    "  VALUES ?s { <$id> }\n",
    "  ?s ?p ?o . \n",
    "  FILTER(LANG(?o) = \"en\") .\n",
    "}\n",
    "UNION\n",
    "{ \n",
    "  VALUES ?o { <$id> }\n",
    "  ?s ?p ?o . \n",
    "  FILTER(LANG(?o) = \"en\") .\n",
    "}\n",
    "}\n",
    "LIMIT $limit\n",
    "\"\"\")\n",
    "                                  \n",
    "CLASS_DEFINITION_FROM_LABEL_PROMPT_TEMPLATE = Template(\"\"\"Define the concept \"$label\". \n",
    "Work step by step and check your facts. State your definition in the manner of a dictionary.\n",
    "\"\"\")\n",
    "\n",
    "CLASS_DEFINITION_FROM_SERIALIZATION_PROMPT_TEMPLATE = Template(\"\"\"Using the following set of RDF statements, \n",
    "define the concept \"$label\". Work set by step and check your facts. State your definition in the manner \n",
    "of a dictionary.\n",
    "                                                           \n",
    "$statements'\n",
    "\"\"\")\n",
    "\n",
    "INSTANCE_DESCRIPTION_PROMPT_TEMPLATE = Template(\"\"\"Summarize the following set of RDF statements \n",
    "describing the entity \"$label\". Work set by step and check your facts. State your summarization \n",
    "in the manner of the first paragraph of an encylopedia article on the topic.\n",
    "                                                   \n",
    "$statements'\n",
    "\"\"\")\n",
    "\n",
    "# def classes_for_evaluation():\n",
    "#     query = CLASS_QUERY_TEMPLATE.substitute({\"minInstanceCount\": MIN_INSTANCE_COUNT, \"limit\": CLASS_QUERY_LIMIT})\n",
    "#     response = requests.get(SPARQL_ENDPOINT, params={'query' : query, 'format' : 'json'}, headers=QUERY_HEADERS)\n",
    "#     response.raise_for_status()\n",
    "#     return sorted([ \n",
    "#             { \n",
    "#                 \"id\": candidate[\"class\"][\"value\"], \n",
    "#                 \"label\": candidate[\"label\"][\"value\"], \n",
    "#                 \"superClassId\": candidate[\"superClass\"][\"value\"], \n",
    "#                 \"instanceCount\": candidate[\"instanceCount\"][\"value\"] \n",
    "#             } \n",
    "#             for candidate in response.json()[\"results\"][\"bindings\"] \n",
    "#         ], \n",
    "#         key=operator.itemgetter(\"instanceCount\"), \n",
    "#         reverse=True\n",
    "#     )\n",
    "\n",
    "def positive_examples(cls):\n",
    "    query = POSITIVES_QUERY_TEMPLATE.substitute({\"class\": cls[\"id\"], \"limit\": E_QUERY_LIMIT})\n",
    "    response = requests.get(SPARQL_ENDPOINT, params={'query' : query, 'format' : 'json'}, headers=QUERY_HEADERS)\n",
    "    response.raise_for_status()\n",
    "    return [ \n",
    "        { \n",
    "            \"id\": instance[\"instance\"][\"value\"], \n",
    "            \"label\": instance[\"label\"][\"value\"] \n",
    "        } \n",
    "        for instance in response.json()[\"results\"][\"bindings\"] \n",
    "    ]\n",
    "\n",
    "def negative_examples(cls):\n",
    "    query = NEGATIVES_QUERY_TEMPLATE.substitute({\"class\": cls[\"id\"], \"superClass\": cls[\"superClassId\"], \"limit\": E_QUERY_LIMIT})\n",
    "    response = requests.get(SPARQL_ENDPOINT, params={'query' : query, 'format' : 'json'}, headers=QUERY_HEADERS)\n",
    "    response.raise_for_status()\n",
    "    return [ \n",
    "        { \n",
    "            \"id\": instance[\"instance\"][\"value\"], \n",
    "            \"label\": instance[\"label\"][\"value\"] \n",
    "        } \n",
    "        for instance in response.json()[\"results\"][\"bindings\"] \n",
    "    ]\n",
    "\n",
    "def serialize(id):\n",
    "    headers = QUERY_HEADERS\n",
    "    headers[\"Accept\"] = 'text/tab-separated-values'\n",
    "    query = DESCRIPTION_QUERY_TEMPLATE.substitute({\"id\": id, \"limit\": E_QUERY_LIMIT})\n",
    "    response = requests.get(SPARQL_ENDPOINT, params={'query' : query}, headers=headers)\n",
    "    response.raise_for_status()\n",
    "    return response.text.removeprefix('?s\t?p\t?o\\n')\n",
    "\n",
    "def class_definition_from_label(label):\n",
    "    return ChatOpenAI(model=\"gpt-4\").predict(CLASS_DEFINITION_FROM_LABEL_PROMPT_TEMPLATE.substitute({\"label\": label}))\n",
    "\n",
    "def class_definition_from_serialization(id, label):\n",
    "    return ChatOpenAI(model=\"gpt-4\").predict(CLASS_DEFINITION_FROM_SERIALIZATION_PROMPT_TEMPLATE.substitute({\"label\": label, \"statements\": serialize(id)}))\n",
    "\n",
    "def instance_description(id, label):\n",
    "    return ChatOpenAI(model=\"gpt-4\").predict(INSTANCE_DESCRIPTION_PROMPT_TEMPLATE.substitute({\"label\": label, \"statements\": serialize(id)}))"
   ]
  },
  {
   "cell_type": "code",
   "execution_count": 38,
   "metadata": {},
   "outputs": [],
   "source": [
    "def evaluate(cls):\n",
    "    positives = positive_examples(cls)\n",
    "    negatives = negative_examples(cls)\n",
    "    concept = Concept(cls[\"id\"], cls[\"label\"], class_definition_from_serialization(cls[\"id\"], cls[\"label\"]), \"gpt-4\", 0.1)\n",
    "    df_positives = pd.DataFrame.from_records(positives)\n",
    "    df_positives[\"actual\"] = \"positive\"\n",
    "    df_negatives = pd.DataFrame.from_records(negatives)\n",
    "    df_negatives[\"actual\"] = \"negative\"\n",
    "    df_data = pd.concat([df_positives, df_negatives], ignore_index=True, axis=0)\n",
    "    df_data[\"description\"] = df_data.apply(lambda ex: instance_description(ex[\"id\"], ex[\"label\"]), axis=1)\n",
    "    predictions = [ concept.classify(Entity(ex[\"id\"], ex[\"label\"], ex[\"description\"])) for ex in df_data.to_dict(\"records\") ]\n",
    "    df_predictions = pd.DataFrame(predictions, columns = [ 'predicted', 'rationale' ])\n",
    "    df_predictions[\"predicted\"] = df_predictions[\"predicted\"].str.lower()\n",
    "    df_results = pd.concat([df_data, df_predictions], axis=1)\n",
    "    cm = pycm.ConfusionMatrix(df_results[\"actual\"].tolist(), df_results[\"predicted\"].tolist(), digit=2, classes=[ 'positive', 'negative' ])\n",
    "    evaluation = { \"created\": datetime.now().isoformat(), \"concept\": concept.to_json(), \"data\": df_results.to_dict('records'), \"confusion_matrix\": cm.matrix, }\n",
    "    experiment_filename = f'{DIRECTORY}/{cls[\"label\"].replace(\" \",\"_\")}/{evaluation[\"concept\"][\"model_name\"]}_{evaluation[\"concept\"][\"label\"].replace(\" \",\"_\")}_{evaluation[\"created\"]}.json'\n",
    "    experiment_path = Path(experiment_filename)\n",
    "    experiment_path.parent.mkdir(parents=True, exist_ok=True)\n",
    "    json.dump(evaluation, open(experiment_filename, 'w+'))"
   ]
  },
  {
   "cell_type": "code",
   "execution_count": 4,
   "metadata": {},
   "outputs": [],
   "source": [
    "# candidates = classes_for_evaluation()\n",
    "candidates = json.load(open(f'{DIRECTORY}/candidates.json', 'r'))"
   ]
  },
  {
   "cell_type": "code",
   "execution_count": 20,
   "metadata": {},
   "outputs": [
    {
     "name": "stdout",
     "output_type": "stream",
     "text": [
      "Evaluating Child ...\n",
      "Evaluating Fraud ...\n",
      "Evaluating Indigenous peoples of the Americas ...\n",
      "Evaluating Fetus ...\n",
      "Evaluating Unnatural death ...\n"
     ]
    },
    {
     "ename": "HTTPError",
     "evalue": "500 Server Error: Internal Server Error for url: https://query.wikidata.org/sparql?query=SELECT+%3Finstance+%3Flabel%0AWHERE+%7B%0A++%3FsubclassOfSuperClass+wdt%3AP279%2A+%3Chttp%3A%2F%2Fwww.wikidata.org%2Fentity%2FQ4%3E+.%0A++%3Finstance+p%3AP31%2Fps%3AP31%2Fwdt%3AP279%2A+%3FsubclassOfSuperClass+%3B%0A+++++++rdfs%3Alabel+%3Flabel+.%0A++FILTER%28LANG%28%3Flabel%29+%3D+%22en%22%29+.%0A++FILTER+NOT+EXISTS+%7B%0A++++%3FsubclassOfClass+wdt%3AP279%2A+%3Chttp%3A%2F%2Fwww.wikidata.org%2Fentity%2FQ855919%3E+.%0A++++%3Finstance+p%3AP31%2Fps%3AP31%2Fwdt%3AP279%2A+%3FsubclassOfClass+.%0A++%7D%0A%7D%0ALIMIT+20%0A&format=json",
     "output_type": "error",
     "traceback": [
      "\u001b[0;31m---------------------------------------------------------------------------\u001b[0m",
      "\u001b[0;31mHTTPError\u001b[0m                                 Traceback (most recent call last)",
      "Cell \u001b[0;32mIn[20], line 4\u001b[0m\n\u001b[1;32m      1\u001b[0m \u001b[39mfor\u001b[39;00m \u001b[39mcls\u001b[39m \u001b[39min\u001b[39;00m candidates[:\u001b[39m5\u001b[39m]:\n\u001b[1;32m      2\u001b[0m     \u001b[39m# time.sleep(60)\u001b[39;00m\n\u001b[1;32m      3\u001b[0m     \u001b[39mprint\u001b[39m(\u001b[39m\"\u001b[39m\u001b[39mEvaluating\u001b[39m\u001b[39m\"\u001b[39m, \u001b[39mcls\u001b[39m[\u001b[39m\"\u001b[39m\u001b[39mlabel\u001b[39m\u001b[39m\"\u001b[39m], \u001b[39m\"\u001b[39m\u001b[39m...\u001b[39m\u001b[39m\"\u001b[39m)\n\u001b[0;32m----> 4\u001b[0m     evaluate(\u001b[39mcls\u001b[39;49m)\n",
      "Cell \u001b[0;32mIn[3], line 3\u001b[0m, in \u001b[0;36mevaluate\u001b[0;34m(cls)\u001b[0m\n\u001b[1;32m      1\u001b[0m \u001b[39mdef\u001b[39;00m \u001b[39mevaluate\u001b[39m(\u001b[39mcls\u001b[39m):\n\u001b[1;32m      2\u001b[0m     positives \u001b[39m=\u001b[39m positive_examples(\u001b[39mcls\u001b[39m)\n\u001b[0;32m----> 3\u001b[0m     negatives \u001b[39m=\u001b[39m negative_examples(\u001b[39mcls\u001b[39;49m)\n\u001b[1;32m      4\u001b[0m     concept \u001b[39m=\u001b[39m Concept(\u001b[39mcls\u001b[39m[\u001b[39m\"\u001b[39m\u001b[39mid\u001b[39m\u001b[39m\"\u001b[39m], \u001b[39mcls\u001b[39m[\u001b[39m\"\u001b[39m\u001b[39mlabel\u001b[39m\u001b[39m\"\u001b[39m], class_definition_from_label(\u001b[39mcls\u001b[39m[\u001b[39m\"\u001b[39m\u001b[39mlabel\u001b[39m\u001b[39m\"\u001b[39m]), \u001b[39m\"\u001b[39m\u001b[39mgpt-4\u001b[39m\u001b[39m\"\u001b[39m, \u001b[39m0.1\u001b[39m)\n\u001b[1;32m      5\u001b[0m     df_positives \u001b[39m=\u001b[39m pd\u001b[39m.\u001b[39mDataFrame\u001b[39m.\u001b[39mfrom_records(positives)\n",
      "Cell \u001b[0;32mIn[12], line 108\u001b[0m, in \u001b[0;36mnegative_examples\u001b[0;34m(cls)\u001b[0m\n\u001b[1;32m    106\u001b[0m query \u001b[39m=\u001b[39m NEGATIVES_QUERY_TEMPLATE\u001b[39m.\u001b[39msubstitute({\u001b[39m\"\u001b[39m\u001b[39mclass\u001b[39m\u001b[39m\"\u001b[39m: \u001b[39mcls\u001b[39m[\u001b[39m\"\u001b[39m\u001b[39mid\u001b[39m\u001b[39m\"\u001b[39m], \u001b[39m\"\u001b[39m\u001b[39msuperClass\u001b[39m\u001b[39m\"\u001b[39m: \u001b[39mcls\u001b[39m[\u001b[39m\"\u001b[39m\u001b[39msuperClassId\u001b[39m\u001b[39m\"\u001b[39m], \u001b[39m\"\u001b[39m\u001b[39mlimit\u001b[39m\u001b[39m\"\u001b[39m: E_QUERY_LIMIT})\n\u001b[1;32m    107\u001b[0m response \u001b[39m=\u001b[39m requests\u001b[39m.\u001b[39mget(SPARQL_ENDPOINT, params\u001b[39m=\u001b[39m{\u001b[39m'\u001b[39m\u001b[39mquery\u001b[39m\u001b[39m'\u001b[39m : query, \u001b[39m'\u001b[39m\u001b[39mformat\u001b[39m\u001b[39m'\u001b[39m : \u001b[39m'\u001b[39m\u001b[39mjson\u001b[39m\u001b[39m'\u001b[39m}, headers\u001b[39m=\u001b[39mQUERY_HEADERS)\n\u001b[0;32m--> 108\u001b[0m response\u001b[39m.\u001b[39;49mraise_for_status()\n\u001b[1;32m    109\u001b[0m \u001b[39mreturn\u001b[39;00m [ \n\u001b[1;32m    110\u001b[0m     { \n\u001b[1;32m    111\u001b[0m         \u001b[39m\"\u001b[39m\u001b[39mid\u001b[39m\u001b[39m\"\u001b[39m: instance[\u001b[39m\"\u001b[39m\u001b[39minstance\u001b[39m\u001b[39m\"\u001b[39m][\u001b[39m\"\u001b[39m\u001b[39mvalue\u001b[39m\u001b[39m\"\u001b[39m], \n\u001b[0;32m   (...)\u001b[0m\n\u001b[1;32m    114\u001b[0m     \u001b[39mfor\u001b[39;00m instance \u001b[39min\u001b[39;00m response\u001b[39m.\u001b[39mjson()[\u001b[39m\"\u001b[39m\u001b[39mresults\u001b[39m\u001b[39m\"\u001b[39m][\u001b[39m\"\u001b[39m\u001b[39mbindings\u001b[39m\u001b[39m\"\u001b[39m] \n\u001b[1;32m    115\u001b[0m ]\n",
      "File \u001b[0;32m~/Documents/GitHub/conceptual-engineering-using-llms/lib/python3.11/site-packages/requests/models.py:1021\u001b[0m, in \u001b[0;36mResponse.raise_for_status\u001b[0;34m(self)\u001b[0m\n\u001b[1;32m   1016\u001b[0m     http_error_msg \u001b[39m=\u001b[39m (\n\u001b[1;32m   1017\u001b[0m         \u001b[39mf\u001b[39m\u001b[39m\"\u001b[39m\u001b[39m{\u001b[39;00m\u001b[39mself\u001b[39m\u001b[39m.\u001b[39mstatus_code\u001b[39m}\u001b[39;00m\u001b[39m Server Error: \u001b[39m\u001b[39m{\u001b[39;00mreason\u001b[39m}\u001b[39;00m\u001b[39m for url: \u001b[39m\u001b[39m{\u001b[39;00m\u001b[39mself\u001b[39m\u001b[39m.\u001b[39murl\u001b[39m}\u001b[39;00m\u001b[39m\"\u001b[39m\n\u001b[1;32m   1018\u001b[0m     )\n\u001b[1;32m   1020\u001b[0m \u001b[39mif\u001b[39;00m http_error_msg:\n\u001b[0;32m-> 1021\u001b[0m     \u001b[39mraise\u001b[39;00m HTTPError(http_error_msg, response\u001b[39m=\u001b[39m\u001b[39mself\u001b[39m)\n",
      "\u001b[0;31mHTTPError\u001b[0m: 500 Server Error: Internal Server Error for url: https://query.wikidata.org/sparql?query=SELECT+%3Finstance+%3Flabel%0AWHERE+%7B%0A++%3FsubclassOfSuperClass+wdt%3AP279%2A+%3Chttp%3A%2F%2Fwww.wikidata.org%2Fentity%2FQ4%3E+.%0A++%3Finstance+p%3AP31%2Fps%3AP31%2Fwdt%3AP279%2A+%3FsubclassOfSuperClass+%3B%0A+++++++rdfs%3Alabel+%3Flabel+.%0A++FILTER%28LANG%28%3Flabel%29+%3D+%22en%22%29+.%0A++FILTER+NOT+EXISTS+%7B%0A++++%3FsubclassOfClass+wdt%3AP279%2A+%3Chttp%3A%2F%2Fwww.wikidata.org%2Fentity%2FQ855919%3E+.%0A++++%3Finstance+p%3AP31%2Fps%3AP31%2Fwdt%3AP279%2A+%3FsubclassOfClass+.%0A++%7D%0A%7D%0ALIMIT+20%0A&format=json"
     ]
    }
   ],
   "source": [
    "for cls in candidates[50:]:\n",
    "    # time.sleep(60)\n",
    "    print(\"Evaluating\", cls[\"label\"], \"...\")\n",
    "    evaluate(cls)"
   ]
  },
  {
   "cell_type": "code",
   "execution_count": null,
   "metadata": {},
   "outputs": [],
   "source": [
    "# print(json.dump(candidates, open(f'{DIRECTORY}/candidates.json', 'w'))"
   ]
  },
  {
   "cell_type": "code",
   "execution_count": 32,
   "metadata": {},
   "outputs": [
    {
     "name": "stdout",
     "output_type": "stream",
     "text": [
      "<http://www.wikidata.org/entity/Q26513>\t<http://www.w3.org/2000/01/rdf-schema#label>\t\"human fetus\"@en\n",
      "<http://www.wikidata.org/entity/Q26513>\t<http://schema.org/description>\t\"prenatal human between the embryonic state and birth\"@en\n",
      "<http://www.wikidata.org/entity/Q26513>\t<http://www.w3.org/2004/02/skos/core#altLabel>\t\"faetus\"@en\n",
      "<http://www.wikidata.org/entity/Q26513>\t<http://www.w3.org/2004/02/skos/core#altLabel>\t\"fætus\"@en\n",
      "<http://www.wikidata.org/entity/Q26513>\t<http://www.w3.org/2004/02/skos/core#altLabel>\t\"fetus\"@en\n",
      "<http://www.wikidata.org/entity/Q26513>\t<http://www.w3.org/2004/02/skos/core#altLabel>\t\"foetus\"@en\n",
      "<http://www.wikidata.org/entity/Q26513>\t<http://www.w3.org/2004/02/skos/core#altLabel>\t\"fœtus\"@en\n",
      "\n"
     ]
    }
   ],
   "source": [
    "print(serialize(candidates[3]['id']).removeprefix('?s\t?p\t?o\\n'))"
   ]
  },
  {
   "cell_type": "code",
   "execution_count": 71,
   "metadata": {},
   "outputs": [
    {
     "data": {
      "text/plain": [
       "{'id': 'http://www.wikidata.org/entity/Q300920',\n",
       " 'label': 'Esports',\n",
       " 'superClassId': 'http://www.wikidata.org/entity/Q349',\n",
       " 'instanceCount': 409}"
      ]
     },
     "execution_count": 71,
     "metadata": {},
     "output_type": "execute_result"
    }
   ],
   "source": [
    "candidates[48]"
   ]
  },
  {
   "cell_type": "code",
   "execution_count": 72,
   "metadata": {},
   "outputs": [],
   "source": [
    "evaluate(candidates[48])"
   ]
  },
  {
   "cell_type": "code",
   "execution_count": 73,
   "metadata": {},
   "outputs": [
    {
     "data": {
      "text/plain": [
       "533"
      ]
     },
     "execution_count": 73,
     "metadata": {},
     "output_type": "execute_result"
    }
   ],
   "source": [
    "len(candidates)"
   ]
  },
  {
   "cell_type": "code",
   "execution_count": 76,
   "metadata": {},
   "outputs": [
    {
     "data": {
      "text/plain": [
       "[{'id': 'http://www.wikidata.org/entity/Q968159',\n",
       "  'label': 'Art movement',\n",
       "  'superClassId': 'http://www.wikidata.org/entity/Q735',\n",
       "  'instanceCount': 1510},\n",
       " {'id': 'http://www.wikidata.org/entity/Q557206',\n",
       "  'label': 'Catholic higher education',\n",
       "  'superClassId': 'http://www.wikidata.org/entity/Q3918',\n",
       "  'instanceCount': 221},\n",
       " {'id': 'http://www.wikidata.org/entity/Q1363241',\n",
       "  'label': 'Plant variety (law)',\n",
       "  'superClassId': 'http://www.wikidata.org/entity/Q4886',\n",
       "  'instanceCount': 124},\n",
       " {'id': 'http://www.wikidata.org/entity/Q494721',\n",
       "  'label': 'Cities of Japan',\n",
       "  'superClassId': 'http://www.wikidata.org/entity/Q515',\n",
       "  'instanceCount': 873},\n",
       " {'id': 'http://www.wikidata.org/entity/Q4174776',\n",
       "  'label': 'Village (Japan)',\n",
       "  'superClassId': 'http://www.wikidata.org/entity/Q532',\n",
       "  'instanceCount': 220}]"
      ]
     },
     "execution_count": 76,
     "metadata": {},
     "output_type": "execute_result"
    }
   ],
   "source": [
    "from random import sample\n",
    "s = sample(candidates, 5)\n",
    "s"
   ]
  },
  {
   "cell_type": "code",
   "execution_count": 77,
   "metadata": {},
   "outputs": [
    {
     "name": "stdout",
     "output_type": "stream",
     "text": [
      "Evaluating Art movement ...\n",
      "Evaluating Catholic higher education ...\n",
      "Evaluating Plant variety (law) ...\n",
      "Evaluating Cities of Japan ...\n",
      "Evaluating Village (Japan) ...\n"
     ]
    }
   ],
   "source": [
    "for cls in s:\n",
    "    print(\"Evaluating\", cls[\"label\"], \"...\")\n",
    "    evaluate(cls)"
   ]
  },
  {
   "cell_type": "code",
   "execution_count": null,
   "metadata": {},
   "outputs": [],
   "source": []
  }
 ],
 "metadata": {
  "kernelspec": {
   "display_name": "conceptual-engineering-using-llms",
   "language": "python",
   "name": "python3"
  },
  "language_info": {
   "codemirror_mode": {
    "name": "ipython",
    "version": 3
   },
   "file_extension": ".py",
   "mimetype": "text/x-python",
   "name": "python",
   "nbconvert_exporter": "python",
   "pygments_lexer": "ipython3",
   "version": "3.11.4"
  },
  "orig_nbformat": 4
 },
 "nbformat": 4,
 "nbformat_minor": 2
}
