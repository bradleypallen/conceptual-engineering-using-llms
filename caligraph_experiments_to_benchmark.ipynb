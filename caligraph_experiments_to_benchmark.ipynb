{
 "cells": [
  {
   "cell_type": "code",
   "execution_count": 1,
   "metadata": {},
   "outputs": [],
   "source": [
    "import json, operator, requests, time, pycm, wikipedia, glob, pandas as pd\n",
    "from langchain import HuggingFaceHub, OpenAI\n",
    "from langchain.chat_models import ChatOpenAI\n",
    "from langchain.chains import LLMChain, SequentialChain\n",
    "from langchain.prompts import PromptTemplate\n",
    "from conceptual_engineering_toolkit import Concept, Entity\n",
    "from cet_experiments import serialize, summarize, WIKIPEDIA_ARTICLE_QUERY\n",
    "from datetime import datetime\n",
    "from string import Template\n",
    "from pathlib import Path"
   ]
  },
  {
   "cell_type": "code",
   "execution_count": 2,
   "metadata": {},
   "outputs": [],
   "source": [
    "experiments = json.load(open('wd_experiments.json', 'r'))"
   ]
  },
  {
   "cell_type": "code",
   "execution_count": 3,
   "metadata": {},
   "outputs": [],
   "source": [
    "for experiment in experiments:\n",
    "    try:\n",
    "        experiment['concept']['definition'] = summarize(experiment['concept']['id'], experiment['concept']['label'])\n",
    "    except Exception as e:\n",
    "        print(experiment['concept']['id'], experiment['concept']['label'], e)\n",
    "    for entity in experiment['data']:\n",
    "        try:\n",
    "            entity['description'] = summarize(entity['id'], entity['label'])\n",
    "        except Exception as e:\n",
    "            print(entity['id'], entity['label'], e)"
   ]
  },
  {
   "cell_type": "code",
   "execution_count": 4,
   "metadata": {},
   "outputs": [],
   "source": [
    "for experiment in experiments:\n",
    "    experiment['concept']['serialization'] = serialize(experiment['concept']['id'])\n",
    "    for entity in experiment['data']:\n",
    "        entity['serialization'] = serialize(entity['id'])"
   ]
  },
  {
   "cell_type": "code",
   "execution_count": 7,
   "metadata": {},
   "outputs": [],
   "source": [
    "json.dump(experiments, open('wd_benchmark_data.json', 'w+'))"
   ]
  }
 ],
 "metadata": {
  "kernelspec": {
   "display_name": "conceptual-engineering-using-llms",
   "language": "python",
   "name": "python3"
  },
  "language_info": {
   "codemirror_mode": {
    "name": "ipython",
    "version": 3
   },
   "file_extension": ".py",
   "mimetype": "text/x-python",
   "name": "python",
   "nbconvert_exporter": "python",
   "pygments_lexer": "ipython3",
   "version": "3.11.4"
  },
  "orig_nbformat": 4
 },
 "nbformat": 4,
 "nbformat_minor": 2
}
