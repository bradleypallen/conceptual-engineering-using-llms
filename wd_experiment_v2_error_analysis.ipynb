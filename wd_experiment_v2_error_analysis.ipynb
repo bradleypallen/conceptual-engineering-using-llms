{
 "cells": [
  {
   "cell_type": "code",
   "execution_count": 1,
   "metadata": {},
   "outputs": [],
   "source": [
    "import json, glob, pycm, pandas as pd, matplotlib.pyplot as plt, seaborn as sns\n",
    "from operator import itemgetter\n",
    "from IPython.display import display, Markdown"
   ]
  },
  {
   "cell_type": "code",
   "execution_count": 2,
   "metadata": {},
   "outputs": [],
   "source": [
    "def display_experiment(experiment):\n",
    "    display(Markdown(f'## {experiment[\"concept\"][\"label\"]} ({experiment[\"concept\"][\"id\"]})'))\n",
    "    display(Markdown(experiment[\"concept\"][\"definition\"]))\n",
    "    display(Markdown(\"### Confusion matrix\"))\n",
    "    cm = pycm.ConfusionMatrix(matrix=experiment[\"confusion_matrix\"])\n",
    "    df_cm = pd.DataFrame(cm.matrix).T.fillna(0)\n",
    "    ax = sns.heatmap(df_cm, annot=True, fmt='d', cmap=\"YlGnBu\")\n",
    "    ax.set_title(experiment[\"concept\"][\"label\"])\n",
    "    ax.set(xlabel='LLM', ylabel='KG')\n",
    "    plt.show()\n",
    "    df = pd.DataFrame.from_records(experiment[\"data\"])\n",
    "    df_fp = df[((df[\"actual\"] == 'negative') & (df[\"predicted\"] == 'positive'))][[\"label\", \"description\", \"rationale\"]]\n",
    "    if len(df_fp) > 0:\n",
    "        df_fp_styler = df_fp.style.set_properties(**{\"text-align\": \"left\", \"vertical-align\" : \"top\", \"overflow-wrap\": \"break-word\"}).hide(axis=\"index\")\n",
    "        display(Markdown(\"### False positives\"))\n",
    "        display(df_fp_styler)\n",
    "    df_fn = df[((df[\"actual\"] == 'positive') & (df[\"predicted\"] == 'negative'))][[\"label\", \"description\", \"rationale\"]]\n",
    "    if len(df_fn) > 0:\n",
    "        df_fn_styler = df_fn.style.set_properties(**{\"text-align\": \"left\", \"vertical-align\" : \"top\", \"overflow-wrap\": \"break-word\"}).hide(axis=\"index\")\n",
    "        display(Markdown(\"### False negatives\"))\n",
    "        display(df_fn_styler)"
   ]
  },
  {
   "cell_type": "code",
   "execution_count": 3,
   "metadata": {},
   "outputs": [],
   "source": [
    "experiments = [ json.load(open(file, 'r')) for file in glob.glob('wd_experiments_v2/*/gpt-4*') ]"
   ]
  },
  {
   "cell_type": "code",
   "execution_count": 4,
   "metadata": {},
   "outputs": [
    {
     "data": {
      "text/html": [
       "<div>\n",
       "<style scoped>\n",
       "    .dataframe tbody tr th:only-of-type {\n",
       "        vertical-align: middle;\n",
       "    }\n",
       "\n",
       "    .dataframe tbody tr th {\n",
       "        vertical-align: top;\n",
       "    }\n",
       "\n",
       "    .dataframe thead th {\n",
       "        text-align: right;\n",
       "    }\n",
       "</style>\n",
       "<table border=\"1\" class=\"dataframe\">\n",
       "  <thead>\n",
       "    <tr style=\"text-align: right;\">\n",
       "      <th></th>\n",
       "      <th>name</th>\n",
       "      <th>kappa</th>\n",
       "      <th>SOA9</th>\n",
       "      <th>ACC</th>\n",
       "      <th>FP</th>\n",
       "      <th>FN</th>\n",
       "      <th>POP</th>\n",
       "    </tr>\n",
       "  </thead>\n",
       "  <tbody>\n",
       "    <tr>\n",
       "      <th>0</th>\n",
       "      <td>Child</td>\n",
       "      <td>0.35</td>\n",
       "      <td>Low</td>\n",
       "      <td>67.5%</td>\n",
       "      <td>10</td>\n",
       "      <td>3</td>\n",
       "      <td>40</td>\n",
       "    </tr>\n",
       "  </tbody>\n",
       "</table>\n",
       "</div>"
      ],
      "text/plain": [
       "    name  kappa SOA9    ACC  FP  FN  POP\n",
       "0  Child   0.35  Low  67.5%  10   3   40"
      ]
     },
     "execution_count": 4,
     "metadata": {},
     "output_type": "execute_result"
    }
   ],
   "source": [
    "experiment_df = pd.DataFrame.from_records([ \n",
    "    { \n",
    "        \"name\": experiment[\"concept\"]['label'], \n",
    "        \"kappa\": pycm.ConfusionMatrix(matrix=experiment[\"confusion_matrix\"]).Kappa,\n",
    "        \"SOA9\": pycm.ConfusionMatrix(matrix=experiment[\"confusion_matrix\"]).SOA9,\n",
    "        \"ACC\": f'{pycm.ConfusionMatrix(matrix=experiment[\"confusion_matrix\"]).Overall_ACC:.1%}',\n",
    "        \"FP\": pycm.ConfusionMatrix(matrix=experiment[\"confusion_matrix\"]).FP[\"positive\"],\n",
    "        \"FN\": pycm.ConfusionMatrix(matrix=experiment[\"confusion_matrix\"]).FN[\"positive\"],\n",
    "        \"POP\": pycm.ConfusionMatrix(matrix=experiment[\"confusion_matrix\"]).POP[\"positive\"],\n",
    "        \"experiment\": experiment,\n",
    "    }\n",
    "    for experiment in experiments ]).sort_values(\"kappa\", ascending=False)\n",
    "experiment_df[[\"name\", \"kappa\", \"SOA9\", \"ACC\", \"FP\", \"FN\", \"POP\"]]"
   ]
  },
  {
   "cell_type": "code",
   "execution_count": 5,
   "metadata": {},
   "outputs": [
    {
     "data": {
      "image/png": "[encoded data removed]",
      "text/plain": [
       "<Figure size 2000x1400 with 21 Axes>"
      ]
     },
     "metadata": {},
     "output_type": "display_data"
    }
   ],
   "source": [
    "fig = plt.figure(figsize=(20,14))\n",
    "gs = fig.add_gridspec(4, 5, hspace=0.5)\n",
    "axes = gs.subplots()\n",
    "cms = [ (experiment[\"name\"], pycm.ConfusionMatrix(matrix=experiment[\"experiment\"][\"confusion_matrix\"])) for experiment in experiment_df.to_dict('records')  ]\n",
    "for ax, (name, cm) in zip(axes.flat, cms):\n",
    "    df = pd.DataFrame(cm.matrix).T.fillna(0)\n",
    "    sns.heatmap(df, annot=True, fmt='d', cmap=\"YlGnBu\", ax=ax)\n",
    "    ax.set_title(name, wrap=True, fontsize=9)\n",
    "    ax.set(xlabel='LLM', ylabel='KG')\n",
    "for ax in axes.flat[len(cms):]:\n",
    "    ax.set_visible(False)\n",
    "plt.show()"
   ]
  },
  {
   "cell_type": "code",
   "execution_count": 6,
   "metadata": {},
   "outputs": [
    {
     "data": {
      "text/markdown": [
       "## Child (http://www.wikidata.org/entity/Q7569)"
      ],
      "text/plain": [
       "<IPython.core.display.Markdown object>"
      ]
     },
     "metadata": {},
     "output_type": "display_data"
    },
    {
     "data": {
      "text/markdown": [
       "Child (noun):\n",
       "\n",
       "1. A young human being below the age of puberty or below the legal age of majority.\n",
       "2. A son or daughter of any age.\n",
       "3. A person who is strongly influenced by or is a result of something. (e.g., a child of nature).\n",
       "4. An immature or irresponsible person.\n",
       "5. In computing, a subordinate element in a hierarchical system."
      ],
      "text/plain": [
       "<IPython.core.display.Markdown object>"
      ]
     },
     "metadata": {},
     "output_type": "display_data"
    },
    {
     "data": {
      "text/markdown": [
       "### Confusion matrix"
      ],
      "text/plain": [
       "<IPython.core.display.Markdown object>"
      ]
     },
     "metadata": {},
     "output_type": "display_data"
    },
    {
     "data": {
      "image/png": "[encoded data removed]",
      "text/plain": [
       "<Figure size 640x480 with 2 Axes>"
      ]
     },
     "metadata": {},
     "output_type": "display_data"
    },
    {
     "data": {
      "text/markdown": [
       "### False positives"
      ],
      "text/plain": [
       "<IPython.core.display.Markdown object>"
      ]
     },
     "metadata": {},
     "output_type": "display_data"
    },
    {
     "data": {
      "text/html": [
       "<style type=\"text/css\">\n",
       "#T_7fad6_row0_col0, #T_7fad6_row0_col1, #T_7fad6_row0_col2, #T_7fad6_row1_col0, #T_7fad6_row1_col1, #T_7fad6_row1_col2, #T_7fad6_row2_col0, #T_7fad6_row2_col1, #T_7fad6_row2_col2, #T_7fad6_row3_col0, #T_7fad6_row3_col1, #T_7fad6_row3_col2, #T_7fad6_row4_col0, #T_7fad6_row4_col1, #T_7fad6_row4_col2, #T_7fad6_row5_col0, #T_7fad6_row5_col1, #T_7fad6_row5_col2, #T_7fad6_row6_col0, #T_7fad6_row6_col1, #T_7fad6_row6_col2, #T_7fad6_row7_col0, #T_7fad6_row7_col1, #T_7fad6_row7_col2, #T_7fad6_row8_col0, #T_7fad6_row8_col1, #T_7fad6_row8_col2, #T_7fad6_row9_col0, #T_7fad6_row9_col1, #T_7fad6_row9_col2 {\n",
       "  text-align: left;\n",
       "  vertical-align: top;\n",
       "  overflow-wrap: break-word;\n",
       "}\n",
       "</style>\n",
       "<table id=\"T_7fad6\">\n",
       "  <thead>\n",
       "    <tr>\n",
       "      <th id=\"T_7fad6_level0_col0\" class=\"col_heading level0 col0\" >label</th>\n",
       "      <th id=\"T_7fad6_level0_col1\" class=\"col_heading level0 col1\" >description</th>\n",
       "      <th id=\"T_7fad6_level0_col2\" class=\"col_heading level0 col2\" >rationale</th>\n",
       "    </tr>\n",
       "  </thead>\n",
       "  <tbody>\n",
       "    <tr>\n",
       "      <td id=\"T_7fad6_row0_col0\" class=\"data row0 col0\" >Fill Adoptiu de Palafrugell</td>\n",
       "      <td id=\"T_7fad6_row0_col1\" class=\"data row0 col1\" >\"Fill Adoptiu de Palafrugell\" is a title of honor, known as \"Hijo Adoptivo de Palafrugell\" in Spanish and \"fils adoptif de Palafrugell\" in French, which translates to \"Adopted Son of Palafrugell\". This title is associated with entities Q551902 and Q43236661, and directly linked to entity Q43236683. The title has been subject to modifications, the latest of which occurred on April 17, 2018. It falls under the category represented by entity Q5897678 and is connected to entity Q41331557 via property P1027. It does not have any site links or identifiers in the Wikibase system and is represented by 4 statements.</td>\n",
       "      <td id=\"T_7fad6_row0_col2\" class=\"data row0 col2\" >The title \"Fill Adoptiu de Palafrugell\" translates to \"Adopted Son of Palafrugell\". The term \"son\" falls under the second definition of a child, which is \"a son or daughter of any age\". Therefore, based on this information, it can be argued that Fill Adoptiu de Palafrugell is a child.</td>\n",
       "    </tr>\n",
       "    <tr>\n",
       "      <td id=\"T_7fad6_row1_col0\" class=\"data row1 col0\" >Sailor Saturn</td>\n",
       "      <td id=\"T_7fad6_row1_col1\" class=\"data row1 col1\" >Sailor Saturn, also known as Hotaru Tomoe, is a fictional character from the Sailor Moon franchise. She is primarily recognized as a magical girl, a character archetype in Japanese animation and comics. Sailor Saturn is a prominent character in various adaptations of the franchise, including the manga, anime, and Crystal series. She is also a popular choice for cosplay. The character is known under different names in multiple languages and has dedicated pages in various language editions of Wikipedia. She was created by Naoko Takeuchi for the Sailor Moon series. The character is also associated with the concept of death and rebirth, consistent with the associations of the planet Saturn in astrology.</td>\n",
       "      <td id=\"T_7fad6_row1_col2\" class=\"data row1 col2\" >Sailor Saturn, also known as Hotaru Tomoe, can be considered a child based on the second definition of the term. In the context of the Sailor Moon franchise, she is the 'daughter' of Professor Souichi Tomoe, making her a child in the sense of being someone's offspring. Furthermore, in the series, she is depicted as a young girl who is below the age of majority, which aligns with the first definition of a child.</td>\n",
       "    </tr>\n",
       "    <tr>\n",
       "      <td id=\"T_7fad6_row2_col0\" class=\"data row2 col0\" >Anonymous Wide Receivers Coachship</td>\n",
       "      <td id=\"T_7fad6_row2_col1\" class=\"data row2 col1\" >The Anonymous Wide Receivers Coachship (Q96318584) is an endowed academic position at Stanford University. It is associated with the fields of American Football (Q41506) and Wide Receiver (Q41323), as well as the broader field of education (Q542). It falls under the categorizations of Academic Position (Q1363750) and Endowed Chair (Q41583). The Coachship is part of the Stanford Cardinal Football Project (Q96198959). Despite having seven statements, it has no site links or identifiers. The information was last modified on June 16, 2020.</td>\n",
       "      <td id=\"T_7fad6_row2_col2\" class=\"data row2 col2\" >The Anonymous Wide Receivers Coachship can be considered a 'child' in the context of the third definition provided: \"A person who is strongly influenced by or is a result of something.\" In this case, the Coachship is a result of Stanford University's academic system and its focus on American Football and Wide Receiver education. It is also a 'child' of the Stanford Cardinal Football Project. Therefore, using this metaphorical understanding of the term 'child', the Anonymous Wide Receivers Coachship can be seen as a 'child' of these influences and systems.</td>\n",
       "    </tr>\n",
       "    <tr>\n",
       "      <td id=\"T_7fad6_row3_col0\" class=\"data row3 col0\" >Couch Family Defensive Backs Coachship</td>\n",
       "      <td id=\"T_7fad6_row3_col1\" class=\"data row3 col1\" >The \"Couch Family Defensive Backs Coachship\" is an endowed academic position at Stanford University. The coachship is related to the fields of American football and defensive back, a position within the sport. The coachship falls under the larger categories of the Stanford Cardinal football team and the university itself. The entity has been described and labeled in English. The entity's data was last modified on June 16th, 2020.</td>\n",
       "      <td id=\"T_7fad6_row3_col2\" class=\"data row3 col2\" >The Couch Family Defensive Backs Coachship can be considered a \"child\" in the context of the third definition provided. This coachship is a result of, and therefore strongly influenced by, the fields of American football and defensive back. It is also a subordinate element within the hierarchical system of Stanford University and its football team, which aligns with the fifth definition of \"child\". Therefore, it can be argued that the Couch Family Defensive Backs Coachship is a \"child\" based on these definitions.</td>\n",
       "    </tr>\n",
       "    <tr>\n",
       "      <td id=\"T_7fad6_row4_col0\" class=\"data row4 col0\" >Anonymous Assistant Women’s Basketball Coachship</td>\n",
       "      <td id=\"T_7fad6_row4_col1\" class=\"data row4 col1\" >The Anonymous Assistant Women’s Basketball Coachship (wd:Q96318583) is an endowed academic position at Stanford University. It falls within the scope of Women's basketball (wd:Q41506) and Stanford University (wd:Q96198959). The Coachship is related to the subjects of basketball (wd:Q542) and women's sports (wd:Q5372). It is classified as an endowed professorship (wd:Q41583). The Coachship has seven statements, no site links, and no identifiers associated with it. The name \"The Anonymous Assistant Women’s Basketball Coachship\" is also associated with it. The information about this entity was last modified on 16 June 2020.\n",
       "</td>\n",
       "      <td id=\"T_7fad6_row4_col2\" class=\"data row4 col2\" >The Anonymous Assistant Women’s Basketball Coachship can be considered a \"child\" in the context of the third definition provided: \"A person who is strongly influenced by or is a result of something.\" In this case, the Coachship is a result of Stanford University and Women's basketball. It is strongly influenced by these entities, as it falls within their scope and is related to the subjects of basketball and women's sports. Therefore, it can be argued that the Coachship is a \"child\" of Stanford University and Women's basketball.</td>\n",
       "    </tr>\n",
       "    <tr>\n",
       "      <td id=\"T_7fad6_row5_col0\" class=\"data row5 col0\" >Lumpy Space Princess</td>\n",
       "      <td id=\"T_7fad6_row5_col1\" class=\"data row5 col1\" >Lumpy Space Princess, also known as \"LSP\", is a character from the Adventure Time series. She is also referred to as \"Princesa Grumosa\" in Spanish, \"Princesa Caroço\" in Portuguese, \"Неровная космическая принцесса\" in Russian, and \"울룩불룩 공주\" in Korean. Known for her exclamations such as \"OH MY GLOB!\" and \"Hey Girl\", she is a notable figure in the series. As a character, she has been involved in multiple roles, such as a princess, a queen, a wanderer, and a resident of Lumpy Space. She is known for her unique, lumpy body shape and her distinct voice provided by Pendleton Ward. Lumpy Space Princess has been associated with various other entities within the series, and has made significant contributions to the storyline and the show's overall narrative.</td>\n",
       "      <td id=\"T_7fad6_row5_col2\" class=\"data row5 col2\" >Based on the provided definition, it could be argued that Lumpy Space Princess is a child in the sense of being an immature or irresponsible person (definition 4). Throughout the Adventure Time series, Lumpy Space Princess is often portrayed as self-centered, dramatic, and lacking in maturity, which aligns with this particular definition of a child. For example, her frequent exclamations such as \"OH MY GLOB!\" and \"Hey Girl\" could be seen as indicative of a lack of maturity. Furthermore, her roles as a princess, a queen, a wanderer, and a resident of Lumpy Space suggest that she may not have a stable or responsible lifestyle, further supporting the argument that she fits the definition of a child in this sense.</td>\n",
       "    </tr>\n",
       "    <tr>\n",
       "      <td id=\"T_7fad6_row6_col0\" class=\"data row6 col0\" >Enlight Foundation Assistant Coachship of Men’s Golf</td>\n",
       "      <td id=\"T_7fad6_row6_col1\" class=\"data row6 col1\" >The Enlight Foundation Assistant Coachship of Men’s Golf is an endowed academic position at Stanford University. It is associated with the fields of golf and sports coaching, and is part of both Stanford University and Stanford Cardinal. As of 16th June 2020, it had a total of seven statements associated with it in its Wikidata entry. However, it had no site links or identifiers associated with it.</td>\n",
       "      <td id=\"T_7fad6_row6_col2\" class=\"data row6 col2\" >The Enlight Foundation Assistant Coachship of Men’s Golf could be considered a \"child\" in the context of the third definition provided: \"A person who is strongly influenced by or is a result of something.\" In this case, the coachship is a result of the Enlight Foundation's funding and Stanford University's sports program. It is strongly influenced by both of these entities, as its existence and operations depend on them. Therefore, it can be argued that the Enlight Foundation Assistant Coachship of Men’s Golf is a \"child\" of the Enlight Foundation and Stanford University.</td>\n",
       "    </tr>\n",
       "    <tr>\n",
       "      <td id=\"T_7fad6_row7_col0\" class=\"data row7 col0\" >James and Martha Poppy Associate Head Coachship of Men’s Tennis</td>\n",
       "      <td id=\"T_7fad6_row7_col1\" class=\"data row7 col1\" >The James and Martha Poppy Associate Head Coachship of Men’s Tennis is an endowed academic position at Stanford University. It is associated with the disciplines of tennis and education. The position falls under the broader categories of Stanford University and academic position. As of June 16, 2020, a total of seven statements have been made about this position, yet no site links or identifiers have been listed.</td>\n",
       "      <td id=\"T_7fad6_row7_col2\" class=\"data row7 col2\" >The James and Martha Poppy Associate Head Coachship of Men’s Tennis could be considered a \"child\" in the context of the fifth definition provided: \"In computing, a subordinate element in a hierarchical system.\" In the hierarchical system of Stanford University, this position is a subordinate element, falling under the broader categories of Stanford University and academic position. Therefore, it could be argued that this position is a \"child\" within the structure of the university.</td>\n",
       "    </tr>\n",
       "    <tr>\n",
       "      <td id=\"T_7fad6_row8_col0\" class=\"data row8 col0\" >Harry K. and Ida S. Berland Associate Head Women’s Basketball Coachship</td>\n",
       "      <td id=\"T_7fad6_row8_col1\" class=\"data row8 col1\" >The Harry K. and Iida S. Berland Associate Head Women’s Basketball Coachship is an endowed academic position at Stanford University. The coachship falls under the category of an academic post (Q1363750) and is part of Stanford University's academic structure (Q96198959). It involves the study and teaching of Basketball (Q542) and Women's Basketball (Q5372). The label and description of the position are in English. The coachship has seven statements associated with it but does not have any site links or identifiers. The information was last modified on June 16th, 2020.</td>\n",
       "      <td id=\"T_7fad6_row8_col2\" class=\"data row8 col2\" >The Harry K. and Ida S. Berland Associate Head Women’s Basketball Coachship can be considered a \"child\" in the context of the fifth definition provided: \"In computing, a subordinate element in a hierarchical system.\" In this case, the coachship is a subordinate element within the larger hierarchical system of Stanford University's academic structure. Therefore, it can be argued that the coachship is a \"child\" of Stanford University's academic structure.</td>\n",
       "    </tr>\n",
       "    <tr>\n",
       "      <td id=\"T_7fad6_row9_col0\" class=\"data row9 col0\" >James C. Gaither Associate Head Coachship of Men’s Basketball</td>\n",
       "      <td id=\"T_7fad6_row9_col1\" class=\"data row9 col1\" >The James C. Gaither Associate Head Coachship of Men’s Basketball is an endowed academic position at Stanford University. It is related to the field of basketball, as well as sports in general. The position is a part of Stanford University's organization, and is particularly associated with men's basketball. It has been officially named \"The James C. Gaither Associate Head Coachship of Men’s Basketball\". As of the data's last modification on June 16, 2020, there were no site links or identifiers associated with the position, and it had 7 statements on Wikibase.</td>\n",
       "      <td id=\"T_7fad6_row9_col2\" class=\"data row9 col2\" >The James C. Gaither Associate Head Coachship of Men’s Basketball can be considered a \"child\" in the context of the fifth definition provided: \"In computing, a subordinate element in a hierarchical system.\" This position is a part of Stanford University's organization, which can be viewed as a hierarchical system. As an associate head coachship, it is subordinate to the head coachship, making it a \"child\" in this specific context.</td>\n",
       "    </tr>\n",
       "  </tbody>\n",
       "</table>\n"
      ],
      "text/plain": [
       "<pandas.io.formats.style.Styler at 0x150c8e8d0>"
      ]
     },
     "metadata": {},
     "output_type": "display_data"
    },
    {
     "data": {
      "text/markdown": [
       "### False negatives"
      ],
      "text/plain": [
       "<IPython.core.display.Markdown object>"
      ]
     },
     "metadata": {},
     "output_type": "display_data"
    },
    {
     "data": {
      "text/html": [
       "<style type=\"text/css\">\n",
       "#T_6d128_row0_col0, #T_6d128_row0_col1, #T_6d128_row0_col2, #T_6d128_row1_col0, #T_6d128_row1_col1, #T_6d128_row1_col2, #T_6d128_row2_col0, #T_6d128_row2_col1, #T_6d128_row2_col2 {\n",
       "  text-align: left;\n",
       "  vertical-align: top;\n",
       "  overflow-wrap: break-word;\n",
       "}\n",
       "</style>\n",
       "<table id=\"T_6d128\">\n",
       "  <thead>\n",
       "    <tr>\n",
       "      <th id=\"T_6d128_level0_col0\" class=\"col_heading level0 col0\" >label</th>\n",
       "      <th id=\"T_6d128_level0_col1\" class=\"col_heading level0 col1\" >description</th>\n",
       "      <th id=\"T_6d128_level0_col2\" class=\"col_heading level0 col2\" >rationale</th>\n",
       "    </tr>\n",
       "  </thead>\n",
       "  <tbody>\n",
       "    <tr>\n",
       "      <td id=\"T_6d128_row0_col0\" class=\"data row0 col0\" >Chartiste</td>\n",
       "      <td id=\"T_6d128_row0_col1\" class=\"data row0 col1\" >\"Chartiste\" is an entity described in the Wikidata database (wd:Q2961239). It was last modified on June 27, 2018 and its version number is 703485886. The entity has 2 statements, no sitelinks, and 1 identifier. The identifier is linked to the Bibliothèque nationale de France (wdtn:P268). The entity is classified under the category wd:Q48942. The term \"Chartiste\" is used in many languages, including but not limited to Afrikaans, Aragonese, Asturian, Bavarian, Breton, Catalan, Corsican, Czech, Welsh, Danish, German, English, Esperanto, Spanish, Estonian, Basque, Finnish, French, and more.</td>\n",
       "      <td id=\"T_6d128_row0_col2\" class=\"data row0 col2\" >Based on the provided definition and information, it is not possible to argue that \"Chartiste\" is a child. The definition of a child pertains to human beings, their age, maturity, or influence, or to a subordinate element in a computing system. The description of \"Chartiste\" does not provide any information that would allow it to fit into any of these categories. It is described as an entity in a database, with no indication of age, human characteristics, immaturity, or subordination in a hierarchical system. Therefore, there is no rationale to assert that \"Chartiste\" is a child.</td>\n",
       "    </tr>\n",
       "    <tr>\n",
       "      <td id=\"T_6d128_row1_col0\" class=\"data row1 col0\" >Dzieciątko</td>\n",
       "      <td id=\"T_6d128_row1_col1\" class=\"data row1 col1\" >\"Dzieciątko\" (also known as \"Dźěćetko\" in German, \"Bescherkind\" in German, and \"sorbisches Christkind\" in German) is a Christmas custom originating from the Serbołużyczan culture. It is also recognized as a \"Weihnachtsbrauch\" in German which translates to \"Christmas tradition\". The custom is acknowledged in various language communities, including Polish and Russian, as indicated by its presence on their respective Wikipedia pages. The term \"Dzieciątko\" is also associated with multiple identifiers, such as wd:Q717040, wd:Q4271324, and wd:Q6581072. The entity was last modified on September 13, 2022.</td>\n",
       "      <td id=\"T_6d128_row1_col2\" class=\"data row1 col2\" >The term \"Dzieciątko\" is associated with a Christmas custom originating from the Serbołużyczan culture. While the description does not provide specific details about the nature of this custom, it is often the case that cultural customs and traditions, especially those related to Christmas, involve personifications or symbolic representations. Given this, it is possible that \"Dzieciątko\" could be a personification or symbolic representation of a child within this cultural tradition. This would align with the third definition of a child as \"a person who is strongly influenced by or is a result of something.\" In this case, \"Dzieciątko\" could be seen as a 'child' of the Serbołużyczan culture or the specific Christmas tradition it represents. However, without more specific information about the nature of the \"Dzieciątko\" custom, this argument is somewhat speculative.</td>\n",
       "    </tr>\n",
       "    <tr>\n",
       "      <td id=\"T_6d128_row2_col0\" class=\"data row2 col0\" >Creche house Bayero University Kano state</td>\n",
       "      <td id=\"T_6d128_row2_col1\" class=\"data row2 col1\" >The Creche house Bayero University Kano state is a building (wd:Q118970518) situated within Bayero University in Kano state, Nigeria (wd:Q1033). The building is referred to as a \"Crech\" (skos:altLabel \"Crech\"@en) and is located opposite the NANA HOSTEL Bayero University Kano state old site (wdt:P6375). It has a postal code of 700282 (wdt:P281). The building is also linked to the category \"Building\" on Wikimedia Commons (<https://commons.wikimedia.org/wiki/Category:Building> schema:about wd:Q118970518). The page was last modified on the date \"2023-06-04T15:42:42Z\" (schema:dateModified). The building is represented by a point at the location (0.0, 0.0) (wdt:P625). An image of the front gate of the Creche house Bayero University Kano old site can be found on Wikimedia Commons (wdt:P18 <http://commons.wikimedia.org/wiki/Special:FilePath/Front%20gate%20creche%20house%20Bayero%20University%20Kano%20old%20site.jpg>). The building is described as a \"Creche house in Bayero University Kano old site\" (schema:description).</td>\n",
       "      <td id=\"T_6d128_row2_col2\" class=\"data row2 col2\" >Based on the provided definition of \"Child\", it is not possible to argue that the Creche house Bayero University Kano state is a \"Child\". The Creche house is a building, not a young human being, a son or daughter, a person influenced by something, an immature person, or a subordinate element in a hierarchical system. Therefore, it does not fit any of the definitions provided for the term \"Child\".</td>\n",
       "    </tr>\n",
       "  </tbody>\n",
       "</table>\n"
      ],
      "text/plain": [
       "<pandas.io.formats.style.Styler at 0x151b96490>"
      ]
     },
     "metadata": {},
     "output_type": "display_data"
    }
   ],
   "source": [
    "for experiment in experiment_df[\"experiment\"].values:\n",
    "    display_experiment(experiment)"
   ]
  }
 ],
 "metadata": {
  "kernelspec": {
   "display_name": "conceptual-engineering-using-llms",
   "language": "python",
   "name": "python3"
  },
  "language_info": {
   "codemirror_mode": {
    "name": "ipython",
    "version": 3
   },
   "file_extension": ".py",
   "mimetype": "text/x-python",
   "name": "python",
   "nbconvert_exporter": "python",
   "pygments_lexer": "ipython3",
   "version": "3.11.4"
  },
  "orig_nbformat": 4
 },
 "nbformat": 4,
 "nbformat_minor": 2
}
