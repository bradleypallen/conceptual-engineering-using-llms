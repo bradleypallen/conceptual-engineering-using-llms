{
 "cells": [
  {
   "cell_type": "code",
   "execution_count": null,
   "metadata": {},
   "outputs": [],
   "source": [
    "import json, pycm, pandas as pd\n",
    "from nl_classifier import NaturalLanguageClassifer\n",
    "from datetime import datetime"
   ]
  },
  {
   "cell_type": "code",
   "execution_count": null,
   "metadata": {},
   "outputs": [],
   "source": [
    "MODEL_NAME = 'gpt-4'\n",
    "TEMPERATURE = 0.1\n",
    "RESULTS_FILENAME = 'wd_gpt-4_serialization_plus_description_results.json'"
   ]
  },
  {
   "cell_type": "code",
   "execution_count": null,
   "metadata": {},
   "outputs": [],
   "source": [
    "experiments = json.load(open(RESULTS_FILENAME, 'r'))"
   ]
  },
  {
   "cell_type": "code",
   "execution_count": null,
   "metadata": {},
   "outputs": [],
   "source": [
    "for i, experiment in enumerate(experiments):\n",
    "    cls = experiment[\"concept\"]\n",
    "    if \"created\" in experiment:\n",
    "        print(f'{i+1:02}: {cls[\"label\"]:30} {cls[\"id\"]} SKIPPING')\n",
    "    else:\n",
    "        classifier = NaturalLanguageClassifer(cls[\"id\"], cls[\"label\"], cls[\"definition\"] + \" \" + cls[\"serialization\"], MODEL_NAME, TEMPERATURE)\n",
    "        print(f'{i+1:02}: {cls[\"label\"]:30} {cls[\"id\"]}')\n",
    "        data = experiment[\"data\"]\n",
    "        for j, entity in enumerate(data):\n",
    "            if \"predicted\" in entity:\n",
    "                print(f'   {j+1:02}: {entity[\"label\"]:30} {entity[\"id\"]:45} SKIPPING')\n",
    "            else:\n",
    "                print(f'   {j+1:02}: {entity[\"label\"]:30} {entity[\"id\"]:45} {entity[\"actual\"]:10} {classifier.tokens_used(entity[\"label\"] + \" \" + entity[\"description\"] + \" \" + entity[\"serialization\"]):05} tokens ', end=\" \")\n",
    "                classification = classifier.classify(entity[\"label\"], entity[\"description\"] + \" \" + entity[\"serialization\"])\n",
    "                entity[\"predicted\"] = classification[\"predicted\"].lower()\n",
    "                if entity[\"actual\"] != entity[\"predicted\"]:\n",
    "                    if entity[\"actual\"] == \"positive\":\n",
    "                        print(\"FN\")\n",
    "                    else:\n",
    "                        print(\"FP\")\n",
    "                else:\n",
    "                    print(\"\")\n",
    "                entity[\"rationale\"] = classification[\"rationale\"]\n",
    "            df_results = pd.DataFrame.from_records(data)\n",
    "            cm = pycm.ConfusionMatrix(df_results[\"actual\"].tolist(), df_results[\"predicted\"].tolist(), digit=2, classes=[ 'positive', 'negative' ])\n",
    "            experiment[\"confusion_matrix\"] = cm.matrix\n",
    "            experiment[\"created\"] = datetime.now().isoformat()\n",
    "            json.dump(experiments, open(RESULTS_FILENAME, 'w+'))\n"
   ]
  }
 ],
 "metadata": {
  "kernelspec": {
   "display_name": "conceptual-engineering-using-llms",
   "language": "python",
   "name": "python3"
  },
  "language_info": {
   "codemirror_mode": {
    "name": "ipython",
    "version": 3
   },
   "file_extension": ".py",
   "mimetype": "text/x-python",
   "name": "python",
   "nbconvert_exporter": "python",
   "pygments_lexer": "ipython3",
   "version": "3.11.4"
  },
  "orig_nbformat": 4
 },
 "nbformat": 4,
 "nbformat_minor": 2
}
