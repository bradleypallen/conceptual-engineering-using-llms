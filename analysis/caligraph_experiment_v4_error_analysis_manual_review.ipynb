{
 "cells": [
  {
   "cell_type": "code",
   "execution_count": 1,
   "metadata": {},
   "outputs": [],
   "source": [
    "import json, pandas as pd"
   ]
  },
  {
   "cell_type": "code",
   "execution_count": 2,
   "metadata": {},
   "outputs": [],
   "source": [
    "experiments = [ experiment for experiment in json.load(open('../experiments/caligraph_gpt-3.5-turbo_serialization_results.json', 'r')) if \"confusion_matrix\" in experiment ]"
   ]
  },
  {
   "cell_type": "code",
   "execution_count": 27,
   "metadata": {},
   "outputs": [],
   "source": [
    "def experiment_df(experiment):\n",
    "    df = pd.DataFrame.from_records(experiment['data'])\n",
    "    df[\"class_id\"] = experiment['concept']['id']\n",
    "    df[\"class_label\"] = experiment['concept']['label']\n",
    "    df[\"class_serialization\"] = experiment['concept']['serialization']\n",
    "    return df[[\"class_id\", \"class_label\", \"class_serialization\", \"id\", \"label\", \"serialization\", \"actual\", \"predicted\", \"rationale\"]]"
   ]
  },
  {
   "cell_type": "code",
   "execution_count": 32,
   "metadata": {},
   "outputs": [],
   "source": [
    "df = pd.concat([ experiment_df(experiment) for experiment in experiments ], ignore_index=True)\n",
    "df_fp = df[((df[\"actual\"] == 'negative') & (df[\"predicted\"] == 'positive'))].reset_index()\n",
    "df_fn = df[((df[\"actual\"] == 'positive') & (df[\"predicted\"] == 'negative'))].reset_index()"
   ]
  },
  {
   "cell_type": "code",
   "execution_count": 33,
   "metadata": {},
   "outputs": [],
   "source": [
    "df_fp.to_csv('caligraph_serialization_FPs.csv')\n",
    "df_fn.to_csv('caligraph_serialization_FNs.csv')"
   ]
  },
  {
   "cell_type": "code",
   "execution_count": 36,
   "metadata": {},
   "outputs": [],
   "source": [
    "df_fp_reviewed = pd.read_csv(open('caligraph_serialization_FPs_reviewed.csv', 'r'))\n",
    "df_fn_reviewed = pd.read_csv(open('caligraph_serialization_FNs_reviewed.csv', 'r'))\n",
    "df_reviewed = pd.concat([df_fp_reviewed, df_fn_reviewed], ignore_index=True)"
   ]
  },
  {
   "cell_type": "code",
   "execution_count": 38,
   "metadata": {},
   "outputs": [
    {
     "data": {
      "text/plain": [
       "97"
      ]
     },
     "execution_count": 38,
     "metadata": {},
     "output_type": "execute_result"
    }
   ],
   "source": [
    "len(df_reviewed)"
   ]
  },
  {
   "cell_type": "code",
   "execution_count": 40,
   "metadata": {},
   "outputs": [
    {
     "data": {
      "text/html": [
       "<div>\n",
       "<style scoped>\n",
       "    .dataframe tbody tr th:only-of-type {\n",
       "        vertical-align: middle;\n",
       "    }\n",
       "\n",
       "    .dataframe tbody tr th {\n",
       "        vertical-align: top;\n",
       "    }\n",
       "\n",
       "    .dataframe thead th {\n",
       "        text-align: right;\n",
       "    }\n",
       "</style>\n",
       "<table border=\"1\" class=\"dataframe\">\n",
       "  <thead>\n",
       "    <tr style=\"text-align: right;\">\n",
       "      <th></th>\n",
       "      <th>class_id</th>\n",
       "      <th>class_label</th>\n",
       "      <th>class_serialization</th>\n",
       "      <th>id</th>\n",
       "      <th>label</th>\n",
       "      <th>serialization</th>\n",
       "      <th>actual</th>\n",
       "      <th>predicted</th>\n",
       "      <th>rationale</th>\n",
       "      <th>review</th>\n",
       "      <th>rationale sound</th>\n",
       "    </tr>\n",
       "  </thead>\n",
       "  <tbody>\n",
       "    <tr>\n",
       "      <th>0</th>\n",
       "      <td>http://caligraph.org/ontology/Argentine_footba...</td>\n",
       "      <td>Argentine football manager</td>\n",
       "      <td>\"http://caligraph.org/ontology/Argentine_footb...</td>\n",
       "      <td>http://caligraph.org/resource/Carlos_Morel_(fo...</td>\n",
       "      <td>Carlos Morel (footballer)</td>\n",
       "      <td>\"http://caligraph.org/resource/Carlos_Morel_(f...</td>\n",
       "      <td>negative</td>\n",
       "      <td>positive</td>\n",
       "      <td>Based on the provided definition, an Argentine...</td>\n",
       "      <td>LM in error</td>\n",
       "      <td>no</td>\n",
       "    </tr>\n",
       "    <tr>\n",
       "      <th>1</th>\n",
       "      <td>http://caligraph.org/ontology/Argentine_footba...</td>\n",
       "      <td>Argentine football manager</td>\n",
       "      <td>\"http://caligraph.org/ontology/Argentine_footb...</td>\n",
       "      <td>http://caligraph.org/resource/H%C3%A9ctor_Gabr...</td>\n",
       "      <td>Héctor Gabriel Morales</td>\n",
       "      <td>\"http://caligraph.org/resource/H%C3%A9ctor_Gab...</td>\n",
       "      <td>negative</td>\n",
       "      <td>positive</td>\n",
       "      <td>Based on the provided information, Héctor Gabr...</td>\n",
       "      <td>KG in error</td>\n",
       "      <td>yes</td>\n",
       "    </tr>\n",
       "    <tr>\n",
       "      <th>2</th>\n",
       "      <td>http://caligraph.org/ontology/Single-camera_te...</td>\n",
       "      <td>Single-camera television sitcom</td>\n",
       "      <td>\"http://caligraph.org/ontology/Single-camera_t...</td>\n",
       "      <td>http://caligraph.org/resource/Aik_Larki_Aam_Si</td>\n",
       "      <td>Aik Larki Aam Si</td>\n",
       "      <td>\"http://caligraph.org/resource/Aik_Larki_Aam_S...</td>\n",
       "      <td>negative</td>\n",
       "      <td>positive</td>\n",
       "      <td>Based on the provided definition of a Single-c...</td>\n",
       "      <td>LM in error</td>\n",
       "      <td>no</td>\n",
       "    </tr>\n",
       "  </tbody>\n",
       "</table>\n",
       "</div>"
      ],
      "text/plain": [
       "                                            class_id  \\\n",
       "0  http://caligraph.org/ontology/Argentine_footba...   \n",
       "1  http://caligraph.org/ontology/Argentine_footba...   \n",
       "2  http://caligraph.org/ontology/Single-camera_te...   \n",
       "\n",
       "                       class_label  \\\n",
       "0       Argentine football manager   \n",
       "1       Argentine football manager   \n",
       "2  Single-camera television sitcom   \n",
       "\n",
       "                                 class_serialization  \\\n",
       "0  \"http://caligraph.org/ontology/Argentine_footb...   \n",
       "1  \"http://caligraph.org/ontology/Argentine_footb...   \n",
       "2  \"http://caligraph.org/ontology/Single-camera_t...   \n",
       "\n",
       "                                                  id  \\\n",
       "0  http://caligraph.org/resource/Carlos_Morel_(fo...   \n",
       "1  http://caligraph.org/resource/H%C3%A9ctor_Gabr...   \n",
       "2     http://caligraph.org/resource/Aik_Larki_Aam_Si   \n",
       "\n",
       "                       label  \\\n",
       "0  Carlos Morel (footballer)   \n",
       "1     Héctor Gabriel Morales   \n",
       "2           Aik Larki Aam Si   \n",
       "\n",
       "                                       serialization    actual predicted  \\\n",
       "0  \"http://caligraph.org/resource/Carlos_Morel_(f...  negative  positive   \n",
       "1  \"http://caligraph.org/resource/H%C3%A9ctor_Gab...  negative  positive   \n",
       "2  \"http://caligraph.org/resource/Aik_Larki_Aam_S...  negative  positive   \n",
       "\n",
       "                                           rationale       review  \\\n",
       "0  Based on the provided definition, an Argentine...  LM in error   \n",
       "1  Based on the provided information, Héctor Gabr...  KG in error   \n",
       "2  Based on the provided definition of a Single-c...  LM in error   \n",
       "\n",
       "  rationale sound  \n",
       "0              no  \n",
       "1             yes  \n",
       "2              no  "
      ]
     },
     "execution_count": 40,
     "metadata": {},
     "output_type": "execute_result"
    }
   ],
   "source": [
    "df_reviewed.head(3)"
   ]
  },
  {
   "cell_type": "code",
   "execution_count": 51,
   "metadata": {},
   "outputs": [
    {
     "data": {
      "text/plain": [
       "28"
      ]
     },
     "execution_count": 51,
     "metadata": {},
     "output_type": "execute_result"
    }
   ],
   "source": [
    "len(df_reviewed[(df_reviewed['actual'] == 'positive') & \n",
    "                (df_reviewed['predicted'] == 'negative')])"
   ]
  },
  {
   "cell_type": "code",
   "execution_count": 52,
   "metadata": {},
   "outputs": [
    {
     "data": {
      "text/plain": [
       "11"
      ]
     },
     "execution_count": 52,
     "metadata": {},
     "output_type": "execute_result"
    }
   ],
   "source": [
    "len(df_reviewed[(df_reviewed['review'] == 'KG in error') & \n",
    "                (df_reviewed['rationale sound'] == 'yes') & \n",
    "                (df_reviewed['actual'] == 'positive') & \n",
    "                (df_reviewed['predicted'] == 'negative')])"
   ]
  },
  {
   "cell_type": "code",
   "execution_count": 54,
   "metadata": {},
   "outputs": [
    {
     "data": {
      "text/plain": [
       "69"
      ]
     },
     "execution_count": 54,
     "metadata": {},
     "output_type": "execute_result"
    }
   ],
   "source": [
    "len(df_reviewed[(df_reviewed['actual'] == 'negative') & \n",
    "                (df_reviewed['predicted'] == 'positive')])"
   ]
  },
  {
   "cell_type": "code",
   "execution_count": 55,
   "metadata": {},
   "outputs": [
    {
     "data": {
      "text/plain": [
       "17"
      ]
     },
     "execution_count": 55,
     "metadata": {},
     "output_type": "execute_result"
    }
   ],
   "source": [
    "len(df_reviewed[(df_reviewed['review'] == 'KG in error') & \n",
    "                (df_reviewed['rationale sound'] == 'yes') & \n",
    "                (df_reviewed['actual'] == 'negative') & \n",
    "                (df_reviewed['predicted'] == 'positive')])"
   ]
  },
  {
   "cell_type": "code",
   "execution_count": 53,
   "metadata": {},
   "outputs": [
    {
     "data": {
      "text/plain": [
       "0.39285714285714285"
      ]
     },
     "execution_count": 53,
     "metadata": {},
     "output_type": "execute_result"
    }
   ],
   "source": [
    "11./28."
   ]
  },
  {
   "cell_type": "code",
   "execution_count": 56,
   "metadata": {},
   "outputs": [
    {
     "data": {
      "text/plain": [
       "0.2463768115942029"
      ]
     },
     "execution_count": 56,
     "metadata": {},
     "output_type": "execute_result"
    }
   ],
   "source": [
    "17./69."
   ]
  },
  {
   "cell_type": "code",
   "execution_count": null,
   "metadata": {},
   "outputs": [],
   "source": []
  }
 ],
 "metadata": {
  "kernelspec": {
   "display_name": "conceptual-engineering-using-llms",
   "language": "python",
   "name": "python3"
  },
  "language_info": {
   "codemirror_mode": {
    "name": "ipython",
    "version": 3
   },
   "file_extension": ".py",
   "mimetype": "text/x-python",
   "name": "python",
   "nbconvert_exporter": "python",
   "pygments_lexer": "ipython3",
   "version": "3.11.4"
  },
  "orig_nbformat": 4
 },
 "nbformat": 4,
 "nbformat_minor": 2
}
