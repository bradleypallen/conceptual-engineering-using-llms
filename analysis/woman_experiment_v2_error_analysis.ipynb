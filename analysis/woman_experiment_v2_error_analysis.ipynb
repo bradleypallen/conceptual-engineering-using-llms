{
 "cells": [
  {
   "cell_type": "code",
   "execution_count": 1,
   "metadata": {},
   "outputs": [],
   "source": [
    "import json, glob, pycm, pandas as pd, matplotlib.pyplot as plt, seaborn as sns\n",
    "from operator import itemgetter\n",
    "from IPython.display import display, Markdown"
   ]
  },
  {
   "cell_type": "code",
   "execution_count": 2,
   "metadata": {},
   "outputs": [],
   "source": [
    "def display_experiment(experiment):\n",
    "    display(Markdown(f'## {experiment[\"concept\"][\"label\"]} ({experiment[\"concept\"][\"id\"]})'))\n",
    "    display(Markdown(experiment[\"concept\"][\"definition\"]))\n",
    "    display(Markdown(\"### Confusion matrix\"))\n",
    "    cm = pycm.ConfusionMatrix(matrix=experiment[\"confusion_matrix\"])\n",
    "    df_cm = pd.DataFrame(cm.matrix).T.fillna(0)\n",
    "    ax = sns.heatmap(df_cm, annot=True, fmt='d', cmap=\"YlGnBu\")\n",
    "    ax.set_title(experiment[\"concept\"][\"label\"])\n",
    "    ax.set(xlabel='LLM', ylabel='KG')\n",
    "    plt.show()\n",
    "    df = pd.DataFrame.from_records(experiment[\"data\"])\n",
    "    df_fp = df[((df[\"actual\"] == 'negative') & (df[\"predicted\"] == 'positive'))][[\"label\", \"description\", \"rationale\"]]\n",
    "    if len(df_fp) > 0:\n",
    "        df_fp_styler = df_fp.style.set_properties(**{\"text-align\": \"left\", \"vertical-align\" : \"top\", \"overflow-wrap\": \"break-word\"}).hide(axis=\"index\")\n",
    "        display(Markdown(\"### LLM positive, KG negative\"))\n",
    "        display(df_fp_styler)\n",
    "    df_fn = df[((df[\"actual\"] == 'positive') & (df[\"predicted\"] == 'negative'))][[\"label\", \"description\", \"rationale\"]]\n",
    "    if len(df_fn) > 0:\n",
    "        df_fn_styler = df_fn.style.set_properties(**{\"text-align\": \"left\", \"vertical-align\" : \"top\", \"overflow-wrap\": \"break-word\"}).hide(axis=\"index\")\n",
    "        display(Markdown(\"### LLM negative, KG positive\"))\n",
    "        display(df_fn_styler)"
   ]
  },
  {
   "cell_type": "code",
   "execution_count": 3,
   "metadata": {},
   "outputs": [],
   "source": [
    "experiments = [ experiment for experiment in json.load(open('../experiments/woman_gpt-4_description_results.json', 'r')) if \"confusion_matrix\" in experiment ]"
   ]
  },
  {
   "cell_type": "code",
   "execution_count": 4,
   "metadata": {},
   "outputs": [
    {
     "data": {
      "text/html": [
       "<div>\n",
       "<style scoped>\n",
       "    .dataframe tbody tr th:only-of-type {\n",
       "        vertical-align: middle;\n",
       "    }\n",
       "\n",
       "    .dataframe tbody tr th {\n",
       "        vertical-align: top;\n",
       "    }\n",
       "\n",
       "    .dataframe thead th {\n",
       "        text-align: right;\n",
       "    }\n",
       "</style>\n",
       "<table border=\"1\" class=\"dataframe\">\n",
       "  <thead>\n",
       "    <tr style=\"text-align: right;\">\n",
       "      <th></th>\n",
       "      <th>name</th>\n",
       "      <th>kappa</th>\n",
       "      <th>SOA9</th>\n",
       "      <th>ACC</th>\n",
       "      <th>FP</th>\n",
       "      <th>FN</th>\n",
       "      <th>POP</th>\n",
       "    </tr>\n",
       "  </thead>\n",
       "  <tbody>\n",
       "    <tr>\n",
       "      <th>1</th>\n",
       "      <td>homosaurus_woman</td>\n",
       "      <td>0.84</td>\n",
       "      <td>High</td>\n",
       "      <td>92.0%</td>\n",
       "      <td>6</td>\n",
       "      <td>2</td>\n",
       "      <td>100</td>\n",
       "    </tr>\n",
       "    <tr>\n",
       "      <th>0</th>\n",
       "      <td>oed_woman</td>\n",
       "      <td>0.82</td>\n",
       "      <td>High</td>\n",
       "      <td>91.0%</td>\n",
       "      <td>7</td>\n",
       "      <td>2</td>\n",
       "      <td>100</td>\n",
       "    </tr>\n",
       "    <tr>\n",
       "      <th>2</th>\n",
       "      <td>haslanger_woman</td>\n",
       "      <td>0.80</td>\n",
       "      <td>High</td>\n",
       "      <td>90.0%</td>\n",
       "      <td>7</td>\n",
       "      <td>3</td>\n",
       "      <td>100</td>\n",
       "    </tr>\n",
       "  </tbody>\n",
       "</table>\n",
       "</div>"
      ],
      "text/plain": [
       "               name  kappa  SOA9    ACC  FP  FN  POP\n",
       "1  homosaurus_woman   0.84  High  92.0%   6   2  100\n",
       "0         oed_woman   0.82  High  91.0%   7   2  100\n",
       "2   haslanger_woman   0.80  High  90.0%   7   3  100"
      ]
     },
     "execution_count": 4,
     "metadata": {},
     "output_type": "execute_result"
    }
   ],
   "source": [
    "experiment_df = pd.DataFrame.from_records([ \n",
    "    { \n",
    "        \"name\": experiment[\"concept\"]['id'], \n",
    "        \"kappa\": pycm.ConfusionMatrix(matrix=experiment[\"confusion_matrix\"]).Kappa,\n",
    "        \"SOA9\": pycm.ConfusionMatrix(matrix=experiment[\"confusion_matrix\"]).SOA9,\n",
    "        \"ACC\": f'{pycm.ConfusionMatrix(matrix=experiment[\"confusion_matrix\"]).Overall_ACC:.1%}',\n",
    "        \"FP\": pycm.ConfusionMatrix(matrix=experiment[\"confusion_matrix\"]).FP[\"positive\"],\n",
    "        \"FN\": pycm.ConfusionMatrix(matrix=experiment[\"confusion_matrix\"]).FN[\"positive\"],\n",
    "        \"POP\": pycm.ConfusionMatrix(matrix=experiment[\"confusion_matrix\"]).POP[\"positive\"],\n",
    "        \"experiment\": experiment,\n",
    "    }\n",
    "    for experiment in experiments ]).sort_values(\"kappa\", ascending=False)\n",
    "experiment_df[[\"name\", \"kappa\", \"SOA9\", \"ACC\", \"FP\", \"FN\", \"POP\"]]"
   ]
  },
  {
   "cell_type": "code",
   "execution_count": 5,
   "metadata": {},
   "outputs": [
    {
     "data": {
      "text/html": [
       "<div>\n",
       "<style scoped>\n",
       "    .dataframe tbody tr th:only-of-type {\n",
       "        vertical-align: middle;\n",
       "    }\n",
       "\n",
       "    .dataframe tbody tr th {\n",
       "        vertical-align: top;\n",
       "    }\n",
       "\n",
       "    .dataframe thead th {\n",
       "        text-align: right;\n",
       "    }\n",
       "</style>\n",
       "<table border=\"1\" class=\"dataframe\">\n",
       "  <thead>\n",
       "    <tr style=\"text-align: right;\">\n",
       "      <th></th>\n",
       "      <th>kappa</th>\n",
       "      <th>FP</th>\n",
       "      <th>FN</th>\n",
       "      <th>POP</th>\n",
       "    </tr>\n",
       "  </thead>\n",
       "  <tbody>\n",
       "    <tr>\n",
       "      <th>count</th>\n",
       "      <td>3.00</td>\n",
       "      <td>3.000000</td>\n",
       "      <td>3.000000</td>\n",
       "      <td>3.0</td>\n",
       "    </tr>\n",
       "    <tr>\n",
       "      <th>mean</th>\n",
       "      <td>0.82</td>\n",
       "      <td>6.666667</td>\n",
       "      <td>2.333333</td>\n",
       "      <td>100.0</td>\n",
       "    </tr>\n",
       "    <tr>\n",
       "      <th>std</th>\n",
       "      <td>0.02</td>\n",
       "      <td>0.577350</td>\n",
       "      <td>0.577350</td>\n",
       "      <td>0.0</td>\n",
       "    </tr>\n",
       "    <tr>\n",
       "      <th>min</th>\n",
       "      <td>0.80</td>\n",
       "      <td>6.000000</td>\n",
       "      <td>2.000000</td>\n",
       "      <td>100.0</td>\n",
       "    </tr>\n",
       "    <tr>\n",
       "      <th>25%</th>\n",
       "      <td>0.81</td>\n",
       "      <td>6.500000</td>\n",
       "      <td>2.000000</td>\n",
       "      <td>100.0</td>\n",
       "    </tr>\n",
       "    <tr>\n",
       "      <th>50%</th>\n",
       "      <td>0.82</td>\n",
       "      <td>7.000000</td>\n",
       "      <td>2.000000</td>\n",
       "      <td>100.0</td>\n",
       "    </tr>\n",
       "    <tr>\n",
       "      <th>75%</th>\n",
       "      <td>0.83</td>\n",
       "      <td>7.000000</td>\n",
       "      <td>2.500000</td>\n",
       "      <td>100.0</td>\n",
       "    </tr>\n",
       "    <tr>\n",
       "      <th>max</th>\n",
       "      <td>0.84</td>\n",
       "      <td>7.000000</td>\n",
       "      <td>3.000000</td>\n",
       "      <td>100.0</td>\n",
       "    </tr>\n",
       "  </tbody>\n",
       "</table>\n",
       "</div>"
      ],
      "text/plain": [
       "       kappa        FP        FN    POP\n",
       "count   3.00  3.000000  3.000000    3.0\n",
       "mean    0.82  6.666667  2.333333  100.0\n",
       "std     0.02  0.577350  0.577350    0.0\n",
       "min     0.80  6.000000  2.000000  100.0\n",
       "25%     0.81  6.500000  2.000000  100.0\n",
       "50%     0.82  7.000000  2.000000  100.0\n",
       "75%     0.83  7.000000  2.500000  100.0\n",
       "max     0.84  7.000000  3.000000  100.0"
      ]
     },
     "execution_count": 5,
     "metadata": {},
     "output_type": "execute_result"
    }
   ],
   "source": [
    "experiment_df.describe()"
   ]
  },
  {
   "cell_type": "code",
   "execution_count": 6,
   "metadata": {},
   "outputs": [
    {
     "data": {
      "image/png": "[encoded data removed]",
      "text/plain": [
       "<Figure size 2000x1400 with 23 Axes>"
      ]
     },
     "metadata": {},
     "output_type": "display_data"
    }
   ],
   "source": [
    "fig = plt.figure(figsize=(20,14))\n",
    "gs = fig.add_gridspec(4, 5, hspace=0.5)\n",
    "axes = gs.subplots()\n",
    "cms = [ (experiment[\"name\"], pycm.ConfusionMatrix(matrix=experiment[\"experiment\"][\"confusion_matrix\"])) for experiment in experiment_df.to_dict('records')  ]\n",
    "for ax, (name, cm) in zip(axes.flat, cms):\n",
    "    df = pd.DataFrame(cm.matrix).T.fillna(0)\n",
    "    sns.heatmap(df, annot=True, fmt='d', cmap=\"YlGnBu\", ax=ax)\n",
    "    ax.set_title(name, wrap=True, fontsize=9)\n",
    "    ax.set(xlabel='LLM', ylabel='KG')\n",
    "for ax in axes.flat[len(cms):]:\n",
    "    ax.set_visible(False)\n",
    "plt.show()"
   ]
  },
  {
   "cell_type": "code",
   "execution_count": 7,
   "metadata": {},
   "outputs": [
    {
     "data": {
      "text/markdown": [
       "## woman (homosaurus_woman)"
      ],
      "text/plain": [
       "<IPython.core.display.Markdown object>"
      ]
     },
     "metadata": {},
     "output_type": "display_data"
    },
    {
     "data": {
      "text/markdown": [
       "Adults who self-identify as women and understand their gender in terms of Western conceptions of womanness, femaleness, and/or femininity. The term has typically been defined as adult female humans, though not all women identify with the term 'female' depending on the context in which it is used."
      ],
      "text/plain": [
       "<IPython.core.display.Markdown object>"
      ]
     },
     "metadata": {},
     "output_type": "display_data"
    },
    {
     "data": {
      "text/markdown": [
       "### Confusion matrix"
      ],
      "text/plain": [
       "<IPython.core.display.Markdown object>"
      ]
     },
     "metadata": {},
     "output_type": "display_data"
    },
    {
     "data": {
      "image/png": "[encoded data removed]",
      "text/plain": [
       "<Figure size 640x480 with 2 Axes>"
      ]
     },
     "metadata": {},
     "output_type": "display_data"
    },
    {
     "data": {
      "text/markdown": [
       "### LLM positive, KG negative"
      ],
      "text/plain": [
       "<IPython.core.display.Markdown object>"
      ]
     },
     "metadata": {},
     "output_type": "display_data"
    },
    {
     "data": {
      "text/html": [
       "<style type=\"text/css\">\n",
       "#T_90d24_row0_col0, #T_90d24_row0_col1, #T_90d24_row0_col2, #T_90d24_row1_col0, #T_90d24_row1_col1, #T_90d24_row1_col2, #T_90d24_row2_col0, #T_90d24_row2_col1, #T_90d24_row2_col2, #T_90d24_row3_col0, #T_90d24_row3_col1, #T_90d24_row3_col2, #T_90d24_row4_col0, #T_90d24_row4_col1, #T_90d24_row4_col2, #T_90d24_row5_col0, #T_90d24_row5_col1, #T_90d24_row5_col2 {\n",
       "  text-align: left;\n",
       "  vertical-align: top;\n",
       "  overflow-wrap: break-word;\n",
       "}\n",
       "</style>\n",
       "<table id=\"T_90d24\">\n",
       "  <thead>\n",
       "    <tr>\n",
       "      <th id=\"T_90d24_level0_col0\" class=\"col_heading level0 col0\" >label</th>\n",
       "      <th id=\"T_90d24_level0_col1\" class=\"col_heading level0 col1\" >description</th>\n",
       "      <th id=\"T_90d24_level0_col2\" class=\"col_heading level0 col2\" >rationale</th>\n",
       "    </tr>\n",
       "  </thead>\n",
       "  <tbody>\n",
       "    <tr>\n",
       "      <td id=\"T_90d24_row0_col0\" class=\"data row0 col0\" >Ali Forney</td>\n",
       "      <td id=\"T_90d24_row0_col1\" class=\"data row0 col1\" >Ali He'shun Forney (April 12, 1975 – December 5, 1997) was an African-American gay and gender non-conforming transgender youth who also used the name Luscious.Forney was a peer counselor of and advocate for homeless lesbian, gay, bisexual, and transgender (LGBT) youth and was killed on the street in the Harlem neighborhood of Manhattan in New York City. The Ali Forney Center for homeless LGBT youth was named after Forney when it opened in New York City in June 2002.\n",
       "\n",
       "</td>\n",
       "      <td id=\"T_90d24_row0_col2\" class=\"data row0 col2\" >Based on the provided definition of a woman, Ali Forney could be considered a woman. The definition states that a woman is an adult who self-identifies as a woman and understands their gender in terms of Western conceptions of womanness, femaleness, and/or femininity. It is mentioned that Ali Forney was a gender non-conforming transgender youth, which could imply that they identified with the term 'woman' or 'femaleness'. Furthermore, they used the name Luscious, which is typically associated with femininity. Therefore, based on this information, one could argue that Ali Forney fits the provided definition of a woman.</td>\n",
       "    </tr>\n",
       "    <tr>\n",
       "      <td id=\"T_90d24_row1_col0\" class=\"data row1 col0\" >Bree Lowdermilk</td>\n",
       "      <td id=\"T_90d24_row1_col1\" class=\"data row1 col1\" >Bree Lowdermilk (formerly Brian Lowdermilk) is an American musical theater composer and lyricist.</td>\n",
       "      <td id=\"T_90d24_row1_col2\" class=\"data row1 col2\" >The description of Bree Lowdermilk indicates that she was formerly known as Brian Lowdermilk, suggesting a change in gender identity. This aligns with the definition of a woman as someone who self-identifies as such. Therefore, based on this information, it can be argued that Bree Lowdermilk is a woman.</td>\n",
       "    </tr>\n",
       "    <tr>\n",
       "      <td id=\"T_90d24_row2_col0\" class=\"data row2 col0\" >Rain Dove</td>\n",
       "      <td id=\"T_90d24_row2_col1\" class=\"data row2 col1\" >Rain Dove Dubilewski (born September 27, 1989) is an American model, actor, and activist, best known for their work in fashion as a gender-nonconforming model, posing alternately as male and female in photoshoots, productions, and runway shows. Dove was voted as SheWired's Most Eligible Bachelorette in 2014 and named one of Elle Magazine's 12 Women Who Are Redefining Beauty in 2015.A self-described \"gender capitalist\", Dove has written, \"I've never really cared about pronouns for my own descriptors\", and that they disavow personal pronouns and ask people to choose whichever they feel apply: \"Use she, he, it, one, they ... I honestly don't care ... All I'm listening for in that sound is positivity.\"</td>\n",
       "      <td id=\"T_90d24_row2_col2\" class=\"data row2 col2\" >The definition of a woman includes adults who self-identify as women and understand their gender in terms of Western conceptions of womanness, femaleness, and/or femininity. Rain Dove, as described, is a self-described \"gender capitalist\" who does not care about pronouns for their own descriptors and allows people to choose whichever they feel apply, including \"she\". This suggests that Rain Dove may self-identify as a woman in certain contexts, fitting within the provided definition of a woman.</td>\n",
       "    </tr>\n",
       "    <tr>\n",
       "      <td id=\"T_90d24_row3_col0\" class=\"data row3 col0\" >Sidney Flanigan</td>\n",
       "      <td id=\"T_90d24_row3_col1\" class=\"data row3 col1\" >Sidney Jeanne Flanigan (born October 19, 1998) is an American actress and singer-songwriter. Flanigan made her acting debut with the acclaimed independent drama film Never Rarely Sometimes Always (2020), for which she received nominations for the Critics' Choice Movie Award for Best Actress and the Independent Spirit Award for Best Female Lead.</td>\n",
       "      <td id=\"T_90d24_row3_col2\" class=\"data row3 col2\" >The description of Sidney Flanigan indicates that she is an adult, as she was born in 1998, making her over 18 years old. The description also uses female pronouns (\"she\", \"her\") to refer to Flanigan, suggesting that she identifies as a woman. Furthermore, she was nominated for the Independent Spirit Award for Best Female Lead, which implies that she is recognized as a female in her professional context. Therefore, based on the provided definition of a woman, Sidney Flanigan can be considered a woman.</td>\n",
       "    </tr>\n",
       "    <tr>\n",
       "      <td id=\"T_90d24_row4_col0\" class=\"data row4 col0\" >Janae Kroc</td>\n",
       "      <td id=\"T_90d24_row4_col1\" class=\"data row4 col1\" >Janae Marie Kroczaleski (born Matthew Raymond Kroczaleski) is an American who previously competed as a professional powerlifter and competitive bodybuilder.\n",
       "In regard to combined (squat, bench press, and deadlift) equipped powerlifting total, on April 25, 2009, in Iowa, Kroc set the male world record in the 220 lb. weight class with 2,551 lbs (composed of 738 pound bench press, 810 pound deadlift and 1003 pound back squat), which at the time was also the fifth highest total for the 242 lb. male weight class. Kroczaleski no longer held the record as of August 21, 2010, when a 2,715 pound total was achieved by Shawn Frankl (the man who held the record prior to Kroczaleski) in Ohio. In 2015, Kroc came out as transgender and genderfluid, taking the name 'Janae' and adopting she/her pronouns. She uses the name 'Matt' and male pronouns when referring to the time before her transition.</td>\n",
       "      <td id=\"T_90d24_row4_col2\" class=\"data row4 col2\" >Janae Kroc self-identifies as a woman and uses she/her pronouns, which aligns with the definition of a woman as an adult who self-identifies as a woman. She also understands her gender in terms of Western conceptions of womanness, femaleness, and/or femininity, as evidenced by her transition and adoption of a traditionally female name. Therefore, based on the provided definition, Janae Kroc can be considered a woman.</td>\n",
       "    </tr>\n",
       "    <tr>\n",
       "      <td id=\"T_90d24_row5_col0\" class=\"data row5 col0\" >Terra Lawson-Remer</td>\n",
       "      <td id=\"T_90d24_row5_col1\" class=\"data row5 col1\" >Terra Eve Lawson-Remer (born July 1978) is an American politician currently serving as the Vice Chair of the San Diego County Board of Supervisors. She has served on the Board since 2021 and was elected Vice Chair on January 10, 2023. A member of the Democratic Party, Lawson-Remer previously worked as a professor at The New School and the University of California, San Diego, and as a senior advisor in the U.S. Treasury Department.\n",
       "Born in San Diego, Lawson-Remer grew up in the Mission Hills neighborhood and attended La Jolla High School. Lawson-Remer graduated from Yale University with a bachelor's degree in ethics, politics, and economics in 2000, later attending New York University, where she received a Juris Doctor and Doctor of Philosophy. After her education, Lawson-Remer worked for the World Bank and the U.S. Treasury Department during the Barack Obama administration. She then became a professor at The New School and the University of California, San Diego, teaching public policy.\n",
       "In 2020, Lawson-Remer campaigned to become a supervisor in the San Diego County Board of Supervisors, successfully defeating the Republican incumbent Kristin Gaspar. By winning the supervisory seat, Lawson-Remer shifted control of the Board of Supervisors toward the Democrats for the first time in a generation.</td>\n",
       "      <td id=\"T_90d24_row5_col2\" class=\"data row5 col2\" >The text refers to Terra Lawson-Remer using feminine pronouns such as \"she\" and \"her\", which suggests that she self-identifies as a woman. Furthermore, the text does not provide any information that would contradict the assertion that Lawson-Remer understands her gender in terms of Western conceptions of womanness, femaleness, and/or femininity. Therefore, based on the provided definition and the information in the description, it can be argued that Terra Lawson-Remer is a woman.</td>\n",
       "    </tr>\n",
       "  </tbody>\n",
       "</table>\n"
      ],
      "text/plain": [
       "<pandas.io.formats.style.Styler at 0x15f214ed0>"
      ]
     },
     "metadata": {},
     "output_type": "display_data"
    },
    {
     "data": {
      "text/markdown": [
       "### LLM negative, KG positive"
      ],
      "text/plain": [
       "<IPython.core.display.Markdown object>"
      ]
     },
     "metadata": {},
     "output_type": "display_data"
    },
    {
     "data": {
      "text/html": [
       "<style type=\"text/css\">\n",
       "#T_10d86_row0_col0, #T_10d86_row0_col1, #T_10d86_row0_col2, #T_10d86_row1_col0, #T_10d86_row1_col1, #T_10d86_row1_col2 {\n",
       "  text-align: left;\n",
       "  vertical-align: top;\n",
       "  overflow-wrap: break-word;\n",
       "}\n",
       "</style>\n",
       "<table id=\"T_10d86\">\n",
       "  <thead>\n",
       "    <tr>\n",
       "      <th id=\"T_10d86_level0_col0\" class=\"col_heading level0 col0\" >label</th>\n",
       "      <th id=\"T_10d86_level0_col1\" class=\"col_heading level0 col1\" >description</th>\n",
       "      <th id=\"T_10d86_level0_col2\" class=\"col_heading level0 col2\" >rationale</th>\n",
       "    </tr>\n",
       "  </thead>\n",
       "  <tbody>\n",
       "    <tr>\n",
       "      <td id=\"T_10d86_row0_col0\" class=\"data row0 col0\" >Elke Mackenzie</td>\n",
       "      <td id=\"T_10d86_row0_col1\" class=\"data row0 col1\" >Elke Mackenzie (11 September 1911 – 18 January 1990), born Ivan Mackenzie Lamb, was a British polar explorer and botanist who specialised in the field of lichenology.\n",
       "\n",
       "</td>\n",
       "      <td id=\"T_10d86_row0_col2\" class=\"data row0 col2\" >The description of Elke Mackenzie does not provide any information about her self-identifying as a woman or understanding her gender in terms of Western conceptions of womanness, femaleness, and/or femininity. Therefore, based on the provided definition and information, it is not possible to provide an argument for the assertion that Elke Mackenzie is a woman.</td>\n",
       "    </tr>\n",
       "    <tr>\n",
       "      <td id=\"T_10d86_row1_col0\" class=\"data row1 col0\" >Cassandra Cass</td>\n",
       "      <td id=\"T_10d86_row1_col1\" class=\"data row1 col1\" >Cassandra Cass (born 1977/1978) is an American actress and performer and reality-television star.Cass states that she looks like a real-life Jessica Rabbit.</td>\n",
       "      <td id=\"T_10d86_row1_col2\" class=\"data row1 col2\" >The definition of a woman includes adults who self-identify as women and understand their gender in terms of Western conceptions of womanness, femaleness, and/or femininity. While the description of Cassandra Cass does not explicitly state that she identifies as a woman, it does mention that she is an actress, performer, and reality-television star who states that she looks like a real-life Jessica Rabbit. Jessica Rabbit is a female character known for her femininity. Therefore, by stating that she looks like Jessica Rabbit, Cassandra Cass could be seen as aligning herself with the concept of femaleness and femininity, which falls under the definition of a woman.</td>\n",
       "    </tr>\n",
       "  </tbody>\n",
       "</table>\n"
      ],
      "text/plain": [
       "<pandas.io.formats.style.Styler at 0x15f2343d0>"
      ]
     },
     "metadata": {},
     "output_type": "display_data"
    },
    {
     "data": {
      "text/markdown": [
       "## woman (oed_woman)"
      ],
      "text/plain": [
       "<IPython.core.display.Markdown object>"
      ]
     },
     "metadata": {},
     "output_type": "display_data"
    },
    {
     "data": {
      "text/markdown": [
       "An adult female human being. The counterpart of man (see man, n.¹ II.4.)"
      ],
      "text/plain": [
       "<IPython.core.display.Markdown object>"
      ]
     },
     "metadata": {},
     "output_type": "display_data"
    },
    {
     "data": {
      "text/markdown": [
       "### Confusion matrix"
      ],
      "text/plain": [
       "<IPython.core.display.Markdown object>"
      ]
     },
     "metadata": {},
     "output_type": "display_data"
    },
    {
     "data": {
      "image/png": "[encoded data removed]",
      "text/plain": [
       "<Figure size 640x480 with 2 Axes>"
      ]
     },
     "metadata": {},
     "output_type": "display_data"
    },
    {
     "data": {
      "text/markdown": [
       "### LLM positive, KG negative"
      ],
      "text/plain": [
       "<IPython.core.display.Markdown object>"
      ]
     },
     "metadata": {},
     "output_type": "display_data"
    },
    {
     "data": {
      "text/html": [
       "<style type=\"text/css\">\n",
       "#T_f3097_row0_col0, #T_f3097_row0_col1, #T_f3097_row0_col2, #T_f3097_row1_col0, #T_f3097_row1_col1, #T_f3097_row1_col2, #T_f3097_row2_col0, #T_f3097_row2_col1, #T_f3097_row2_col2, #T_f3097_row3_col0, #T_f3097_row3_col1, #T_f3097_row3_col2, #T_f3097_row4_col0, #T_f3097_row4_col1, #T_f3097_row4_col2, #T_f3097_row5_col0, #T_f3097_row5_col1, #T_f3097_row5_col2, #T_f3097_row6_col0, #T_f3097_row6_col1, #T_f3097_row6_col2 {\n",
       "  text-align: left;\n",
       "  vertical-align: top;\n",
       "  overflow-wrap: break-word;\n",
       "}\n",
       "</style>\n",
       "<table id=\"T_f3097\">\n",
       "  <thead>\n",
       "    <tr>\n",
       "      <th id=\"T_f3097_level0_col0\" class=\"col_heading level0 col0\" >label</th>\n",
       "      <th id=\"T_f3097_level0_col1\" class=\"col_heading level0 col1\" >description</th>\n",
       "      <th id=\"T_f3097_level0_col2\" class=\"col_heading level0 col2\" >rationale</th>\n",
       "    </tr>\n",
       "  </thead>\n",
       "  <tbody>\n",
       "    <tr>\n",
       "      <td id=\"T_f3097_row0_col0\" class=\"data row0 col0\" >Em Weinstein</td>\n",
       "      <td id=\"T_f3097_row0_col1\" class=\"data row0 col1\" >Em Weinstein is a television writer and director. Weinstein's 2018 short, \"Candace\", won the Best Film at the American Pavilion at the Cannes Film Festival.</td>\n",
       "      <td id=\"T_f3097_row0_col2\" class=\"data row0 col2\" >The definition provided for the concept of a woman is an adult female human being. While the description of Em Weinstein does not explicitly state her gender, it refers to her using female pronouns (\"her\"). This suggests that Em Weinstein is female. Additionally, she is described as an adult, as she is a professional television writer and director, roles that typically require a level of maturity and experience. Therefore, based on the definition provided, we can argue that Em Weinstein is a woman.</td>\n",
       "    </tr>\n",
       "    <tr>\n",
       "      <td id=\"T_f3097_row1_col0\" class=\"data row1 col0\" >Bree Lowdermilk</td>\n",
       "      <td id=\"T_f3097_row1_col1\" class=\"data row1 col1\" >Bree Lowdermilk (formerly Brian Lowdermilk) is an American musical theater composer and lyricist.</td>\n",
       "      <td id=\"T_f3097_row1_col2\" class=\"data row1 col2\" >The description of Bree Lowdermilk states that she was formerly known as Brian Lowdermilk, indicating a change in gender identity. As the definition of a woman is an adult female human being, and Bree Lowdermilk is identified as such, it can be asserted that Bree Lowdermilk is a woman.</td>\n",
       "    </tr>\n",
       "    <tr>\n",
       "      <td id=\"T_f3097_row2_col0\" class=\"data row2 col0\" >Diana King</td>\n",
       "      <td id=\"T_f3097_row2_col1\" class=\"data row2 col1\" >Diana King (born 8 November 1970) is a Jamaican-American singer-songwriter who performs a mixture and fusion of reggae, reggae fusion and dancehall. They are best known for their hit 1995 single \"Shy Guy\" and their remake of \"I Say a Little Prayer\" which was featured on the soundtrack to My Best Friend's Wedding.\n",
       "As of 1998, King has sold over five million records worldwide. Regarded as one of the most successful Jamaican artists, they have scored multiple Billboard Hot 100 and Billboard 200 entries. King is also a recipient of the \"Vanguard Award\" at the Out Music Awards.\n",
       "\n",
       "</td>\n",
       "      <td id=\"T_f3097_row2_col2\" class=\"data row2 col2\" >The definition of a woman is an adult female human being. Diana King is described as a Jamaican-American singer-songwriter, which indicates that she is a human being. The use of female pronouns such as \"she\" and \"her\" in the description suggests that Diana King is female. Therefore, given that Diana King is an adult, as indicated by her career and achievements, it can be argued that Diana King fits the definition of a woman.</td>\n",
       "    </tr>\n",
       "    <tr>\n",
       "      <td id=\"T_f3097_row3_col0\" class=\"data row3 col0\" >Andreas Bruce</td>\n",
       "      <td id=\"T_f3097_row3_col1\" class=\"data row3 col1\" >Ferdinand \"Andreas\" Edvard Bruce, born as Christina \"Therese\" Isabelle Jeanette Louise Bruce (1808–1885), was a Swedish memoir writer. His story was the first memoir written by a transsexual person in Sweden and is regarded as unique in many aspects.</td>\n",
       "      <td id=\"T_f3097_row3_col2\" class=\"data row3 col2\" >Based on the definition provided, a woman is an adult female human being. Andreas Bruce, born as Christina \"Therese\" Isabelle Jeanette Louise Bruce, was biologically female at birth. Therefore, according to the given definition, Andreas Bruce can be considered a woman.</td>\n",
       "    </tr>\n",
       "    <tr>\n",
       "      <td id=\"T_f3097_row4_col0\" class=\"data row4 col0\" >Sidney Flanigan</td>\n",
       "      <td id=\"T_f3097_row4_col1\" class=\"data row4 col1\" >Sidney Jeanne Flanigan (born October 19, 1998) is an American actress and singer-songwriter. Flanigan made her acting debut with the acclaimed independent drama film Never Rarely Sometimes Always (2020), for which she received nominations for the Critics' Choice Movie Award for Best Actress and the Independent Spirit Award for Best Female Lead.</td>\n",
       "      <td id=\"T_f3097_row4_col2\" class=\"data row4 col2\" >The definition of a woman is an adult female human being. Sidney Flanigan is described as an actress and singer-songwriter, which indicates that she is a human being. The description also uses female pronouns (\"she\" and \"her\") to refer to Sidney Flanigan, indicating that she is female. Furthermore, her birth date is given as October 19, 1998, which means she is an adult. Therefore, based on the definition, Sidney Flanigan can be classified as a woman.</td>\n",
       "    </tr>\n",
       "    <tr>\n",
       "      <td id=\"T_f3097_row5_col0\" class=\"data row5 col0\" >Janae Kroc</td>\n",
       "      <td id=\"T_f3097_row5_col1\" class=\"data row5 col1\" >Janae Marie Kroczaleski (born Matthew Raymond Kroczaleski) is an American who previously competed as a professional powerlifter and competitive bodybuilder.\n",
       "In regard to combined (squat, bench press, and deadlift) equipped powerlifting total, on April 25, 2009, in Iowa, Kroc set the male world record in the 220 lb. weight class with 2,551 lbs (composed of 738 pound bench press, 810 pound deadlift and 1003 pound back squat), which at the time was also the fifth highest total for the 242 lb. male weight class. Kroczaleski no longer held the record as of August 21, 2010, when a 2,715 pound total was achieved by Shawn Frankl (the man who held the record prior to Kroczaleski) in Ohio. In 2015, Kroc came out as transgender and genderfluid, taking the name 'Janae' and adopting she/her pronouns. She uses the name 'Matt' and male pronouns when referring to the time before her transition.</td>\n",
       "      <td id=\"T_f3097_row5_col2\" class=\"data row5 col2\" >According to the provided definition, a woman is an adult female human being. Janae Kroc, who was born Matthew Raymond Kroczaleski, came out as transgender and genderfluid in 2015. She adopted the name 'Janae' and uses she/her pronouns. This indicates that she identifies as a female, and since she is an adult human being, she fits the definition of a woman. Therefore, Janae Kroc is a woman.</td>\n",
       "    </tr>\n",
       "    <tr>\n",
       "      <td id=\"T_f3097_row6_col0\" class=\"data row6 col0\" >Terra Lawson-Remer</td>\n",
       "      <td id=\"T_f3097_row6_col1\" class=\"data row6 col1\" >Terra Eve Lawson-Remer (born July 1978) is an American politician currently serving as the Vice Chair of the San Diego County Board of Supervisors. She has served on the Board since 2021 and was elected Vice Chair on January 10, 2023. A member of the Democratic Party, Lawson-Remer previously worked as a professor at The New School and the University of California, San Diego, and as a senior advisor in the U.S. Treasury Department.\n",
       "Born in San Diego, Lawson-Remer grew up in the Mission Hills neighborhood and attended La Jolla High School. Lawson-Remer graduated from Yale University with a bachelor's degree in ethics, politics, and economics in 2000, later attending New York University, where she received a Juris Doctor and Doctor of Philosophy. After her education, Lawson-Remer worked for the World Bank and the U.S. Treasury Department during the Barack Obama administration. She then became a professor at The New School and the University of California, San Diego, teaching public policy.\n",
       "In 2020, Lawson-Remer campaigned to become a supervisor in the San Diego County Board of Supervisors, successfully defeating the Republican incumbent Kristin Gaspar. By winning the supervisory seat, Lawson-Remer shifted control of the Board of Supervisors toward the Democrats for the first time in a generation.</td>\n",
       "      <td id=\"T_f3097_row6_col2\" class=\"data row6 col2\" >The definition provided for the concept of a woman is \"an adult female human being.\" Terra Lawson-Remer is identified in the description as an adult human being, as evidenced by her professional roles and accomplishments. Furthermore, she is referred to using female pronouns such as \"she\" and \"her,\" which indicates that she is female. Therefore, based on the provided definition and the information in the description, it can be argued that Terra Lawson-Remer is a woman.</td>\n",
       "    </tr>\n",
       "  </tbody>\n",
       "</table>\n"
      ],
      "text/plain": [
       "<pandas.io.formats.style.Styler at 0x15f3ba2d0>"
      ]
     },
     "metadata": {},
     "output_type": "display_data"
    },
    {
     "data": {
      "text/markdown": [
       "### LLM negative, KG positive"
      ],
      "text/plain": [
       "<IPython.core.display.Markdown object>"
      ]
     },
     "metadata": {},
     "output_type": "display_data"
    },
    {
     "data": {
      "text/html": [
       "<style type=\"text/css\">\n",
       "#T_56591_row0_col0, #T_56591_row0_col1, #T_56591_row0_col2, #T_56591_row1_col0, #T_56591_row1_col1, #T_56591_row1_col2 {\n",
       "  text-align: left;\n",
       "  vertical-align: top;\n",
       "  overflow-wrap: break-word;\n",
       "}\n",
       "</style>\n",
       "<table id=\"T_56591\">\n",
       "  <thead>\n",
       "    <tr>\n",
       "      <th id=\"T_56591_level0_col0\" class=\"col_heading level0 col0\" >label</th>\n",
       "      <th id=\"T_56591_level0_col1\" class=\"col_heading level0 col1\" >description</th>\n",
       "      <th id=\"T_56591_level0_col2\" class=\"col_heading level0 col2\" >rationale</th>\n",
       "    </tr>\n",
       "  </thead>\n",
       "  <tbody>\n",
       "    <tr>\n",
       "      <td id=\"T_56591_row0_col0\" class=\"data row0 col0\" >Elke Mackenzie</td>\n",
       "      <td id=\"T_56591_row0_col1\" class=\"data row0 col1\" >Elke Mackenzie (11 September 1911 – 18 January 1990), born Ivan Mackenzie Lamb, was a British polar explorer and botanist who specialised in the field of lichenology.\n",
       "\n",
       "</td>\n",
       "      <td id=\"T_56591_row0_col2\" class=\"data row0 col2\" >The text does not provide sufficient information to assert that Elke Mackenzie is a woman based on the provided definition. The description mentions that Elke Mackenzie was born Ivan Mackenzie Lamb, which suggests a male identity. However, the text does not provide any information about a gender transition or identification as a female, which would be necessary to categorize Elke Mackenzie as a woman according to the given definition. Therefore, based solely on the provided information, an argument cannot be made that Elke Mackenzie is a woman.</td>\n",
       "    </tr>\n",
       "    <tr>\n",
       "      <td id=\"T_56591_row1_col0\" class=\"data row1 col0\" >Peaches Christ</td>\n",
       "      <td id=\"T_56591_row1_col1\" class=\"data row1 col1\" >Peaches Christ (stage name for Joshua Grannell) is an American underground drag performer, emcee, filmmaker, and actor. Peaches currently resides in San Francisco where her Backlash Production Company and Midnight Mass movie series are based. Grannell studied film at Penn State University, where his senior thesis film Jizzmopper: A Love Story, about a janitor at an adult video store, won the audience award at the annual Penn State Student Film Festival. Grannell developed the Peaches Christ character during the production of this film.\n",
       "Her Midnight Mass road-show and Short Film Retrospective have been on tour and appeared in Seattle, Berkeley, New York City, Brussels, Belgium, and Lausanne, Switzerland.On September 7, 2007, the San Francisco de Young Museum hosted a \"Decade of Peaches Christ Retrospective\" called Cattychism featuring artistic contributions inspired by Peaches. The event included ten years of costume design by long-time collaborator Tria Connell and ten years of graphic design by artist Chris Hatfield.\n",
       "\n",
       "</td>\n",
       "      <td id=\"T_56591_row1_col2\" class=\"data row1 col2\" >The assertion that Peaches Christ is a woman cannot be supported based on the provided definition and information. The definition of a woman is an adult female human being. However, the information provided about Peaches Christ indicates that she is a stage character developed by Joshua Grannell, who is presumably male. While Peaches Christ is a drag performer, which typically involves adopting the appearance and mannerisms of a woman, this does not change the biological sex of the performer. Therefore, based on the provided definition and information, Peaches Christ cannot be classified as a woman.</td>\n",
       "    </tr>\n",
       "  </tbody>\n",
       "</table>\n"
      ],
      "text/plain": [
       "<pandas.io.formats.style.Styler at 0x15f440290>"
      ]
     },
     "metadata": {},
     "output_type": "display_data"
    },
    {
     "data": {
      "text/markdown": [
       "## woman (haslanger_woman)"
      ],
      "text/plain": [
       "<IPython.core.display.Markdown object>"
      ]
     },
     "metadata": {},
     "output_type": "display_data"
    },
    {
     "data": {
      "text/markdown": [
       "S is a woman iff (i) S is regularly and for the most part observed or imagined to have certain bodily features presumed to be evidence of a female’s biological role in reproduction; (ii) that S has these features marks S within the dominant ideology of S’s society as someone who ought to occupy certain kinds of social position that are in fact subordinate (and so motivates and justifies S’s occupying such a position); and (iii) the fact that S satisfies (I) and (ii) plays a role in S’s systematic subordination, that is, along some dimension, S’s social position is oppressive, and S’s satisfying (i) and (ii) plays a role in that dimension of subordination"
      ],
      "text/plain": [
       "<IPython.core.display.Markdown object>"
      ]
     },
     "metadata": {},
     "output_type": "display_data"
    },
    {
     "data": {
      "text/markdown": [
       "### Confusion matrix"
      ],
      "text/plain": [
       "<IPython.core.display.Markdown object>"
      ]
     },
     "metadata": {},
     "output_type": "display_data"
    },
    {
     "data": {
      "image/png": "[encoded data removed]",
      "text/plain": [
       "<Figure size 640x480 with 2 Axes>"
      ]
     },
     "metadata": {},
     "output_type": "display_data"
    },
    {
     "data": {
      "text/markdown": [
       "### LLM positive, KG negative"
      ],
      "text/plain": [
       "<IPython.core.display.Markdown object>"
      ]
     },
     "metadata": {},
     "output_type": "display_data"
    },
    {
     "data": {
      "text/html": [
       "<style type=\"text/css\">\n",
       "#T_64c97_row0_col0, #T_64c97_row0_col1, #T_64c97_row0_col2, #T_64c97_row1_col0, #T_64c97_row1_col1, #T_64c97_row1_col2, #T_64c97_row2_col0, #T_64c97_row2_col1, #T_64c97_row2_col2, #T_64c97_row3_col0, #T_64c97_row3_col1, #T_64c97_row3_col2, #T_64c97_row4_col0, #T_64c97_row4_col1, #T_64c97_row4_col2, #T_64c97_row5_col0, #T_64c97_row5_col1, #T_64c97_row5_col2, #T_64c97_row6_col0, #T_64c97_row6_col1, #T_64c97_row6_col2 {\n",
       "  text-align: left;\n",
       "  vertical-align: top;\n",
       "  overflow-wrap: break-word;\n",
       "}\n",
       "</style>\n",
       "<table id=\"T_64c97\">\n",
       "  <thead>\n",
       "    <tr>\n",
       "      <th id=\"T_64c97_level0_col0\" class=\"col_heading level0 col0\" >label</th>\n",
       "      <th id=\"T_64c97_level0_col1\" class=\"col_heading level0 col1\" >description</th>\n",
       "      <th id=\"T_64c97_level0_col2\" class=\"col_heading level0 col2\" >rationale</th>\n",
       "    </tr>\n",
       "  </thead>\n",
       "  <tbody>\n",
       "    <tr>\n",
       "      <td id=\"T_64c97_row0_col0\" class=\"data row0 col0\" >Iphis</td>\n",
       "      <td id=\"T_64c97_row0_col1\" class=\"data row0 col1\" >In Greek and Roman mythology, Iphis or Iphys ( EYE-fis,  IF-iss; Ancient Greek: Ἶφις Îphis [íi.pʰis], gen. Ἴφιδος Ī́phidos) was a child of Telethusa and Ligdus in Crete, born female and raised as male, who was later transformed by the goddess Isis into a man.</td>\n",
       "      <td id=\"T_64c97_row0_col2\" class=\"data row0 col2\" >Based on the provided definition, Iphis can be considered a woman because she was born female, which satisfies condition (i) as she was observed to have certain bodily features presumed to be evidence of a female’s biological role in reproduction. Even though Iphis was raised as a male, the societal expectations and roles she was expected to fulfill were likely those of a woman, given her biological sex, which satisfies condition (ii). The fact that Iphis was raised as a male could be seen as a form of systematic subordination, as it suggests that being a woman was seen as less desirable or inferior in her society, which satisfies condition (iii). Therefore, according to this definition, Iphis can be considered a woman.</td>\n",
       "    </tr>\n",
       "    <tr>\n",
       "      <td id=\"T_64c97_row1_col0\" class=\"data row1 col0\" >Bree Lowdermilk</td>\n",
       "      <td id=\"T_64c97_row1_col1\" class=\"data row1 col1\" >Bree Lowdermilk (formerly Brian Lowdermilk) is an American musical theater composer and lyricist.</td>\n",
       "      <td id=\"T_64c97_row1_col2\" class=\"data row1 col2\" >Based on the provided definition, Bree Lowdermilk can be considered a woman if she satisfies the three conditions. \n",
       "\n",
       "(i) If Bree Lowdermilk is regularly and for the most part observed or imagined to have certain bodily features presumed to be evidence of a female’s biological role in reproduction, then she satisfies the first condition. The description does not provide specific information about her physical features, but since she has transitioned from Brian to Bree, it can be inferred that she may have undergone physical changes to align with her female identity.\n",
       "\n",
       "(ii) If Bree Lowdermilk, having these features, is marked within the dominant ideology of her society as someone who ought to occupy certain kinds of social position that are in fact subordinate, then she satisfies the second condition. As a transgender woman, she may face societal expectations and prejudices that position her in a subordinate role.\n",
       "\n",
       "(iii) If the fact that Bree Lowdermilk satisfies (i) and (ii) plays a role in her systematic subordination, that is, along some dimension, her social position is oppressive, and her satisfying (i) and (ii) plays a role in that dimension of subordination, then she satisfies the third condition. As a transgender woman, she may face systematic subordination and oppression due to her gender identity.\n",
       "\n",
       "Therefore, based on the provided definition and the inferred information about Bree Lowdermilk, it can be argued that Bree Lowdermilk is a woman.</td>\n",
       "    </tr>\n",
       "    <tr>\n",
       "      <td id=\"T_64c97_row2_col0\" class=\"data row2 col0\" >Henry Tse</td>\n",
       "      <td id=\"T_64c97_row2_col1\" class=\"data row2 col1\" >Henry Edward Tse (born 1990/91) is a transgender rights activist based in Hong Kong. He is the founder of Transgender Equality Hong Kong. In February 2023, Tse won a court appeal to remove full sex reassignment surgery as a requirement for changing gender on identification cards.</td>\n",
       "      <td id=\"T_64c97_row2_col2\" class=\"data row2 col2\" >Given the information provided, it can be argued that Henry Tse is a woman based on the definition provided. \n",
       "\n",
       "(i) It is not explicitly stated, but it can be inferred that Henry Tse, as a transgender rights activist who won a court appeal to remove full sex reassignment surgery as a requirement for changing gender on identification cards, likely identifies as a woman and may have undergone some form of transition to have certain bodily features presumed to be evidence of a female’s biological role in reproduction.\n",
       "\n",
       "(ii) As a transgender woman in Hong Kong, a society where transgender individuals often face discrimination and prejudice, it can be argued that Henry Tse is marked within the dominant ideology of his society as someone who ought to occupy certain kinds of social position that are in fact subordinate. This is evidenced by his activism for transgender rights, which suggests that he is working to challenge and change these subordinate social positions.\n",
       "\n",
       "(iii) The fact that Henry Tse satisfies (i) and (ii) plays a role in his systematic subordination. As a transgender woman, he faces oppression along the dimension of gender identity, and his satisfying (i) and (ii) plays a role in that dimension of subordination. \n",
       "\n",
       "Therefore, based on the provided definition, it can be argued that Henry Tse is a woman.</td>\n",
       "    </tr>\n",
       "    <tr>\n",
       "      <td id=\"T_64c97_row3_col0\" class=\"data row3 col0\" >Rain Dove</td>\n",
       "      <td id=\"T_64c97_row3_col1\" class=\"data row3 col1\" >Rain Dove Dubilewski (born September 27, 1989) is an American model, actor, and activist, best known for their work in fashion as a gender-nonconforming model, posing alternately as male and female in photoshoots, productions, and runway shows. Dove was voted as SheWired's Most Eligible Bachelorette in 2014 and named one of Elle Magazine's 12 Women Who Are Redefining Beauty in 2015.A self-described \"gender capitalist\", Dove has written, \"I've never really cared about pronouns for my own descriptors\", and that they disavow personal pronouns and ask people to choose whichever they feel apply: \"Use she, he, it, one, they ... I honestly don't care ... All I'm listening for in that sound is positivity.\"</td>\n",
       "      <td id=\"T_64c97_row3_col2\" class=\"data row3 col2\" >Based on the provided definition of a woman, Rain Dove could be considered a woman because they have been observed and imagined to have certain bodily features presumed to be evidence of a female’s biological role in reproduction, as indicated by their work as a gender-nonconforming model posing alternately as male and female. This satisfies condition (i) of the definition. \n",
       "\n",
       "Furthermore, Rain Dove's societal position could be seen as subordinate due to the dominant ideology that associates certain bodily features with certain social positions. This is evident in the societal expectations and norms that Rain Dove challenges through their work and activism, satisfying condition (ii) of the definition. \n",
       "\n",
       "Lastly, Rain Dove's gender nonconformity and activism could be seen as a form of systematic subordination, as they challenge and disrupt the traditional gender norms and expectations, which could be seen as oppressive. This satisfies condition (iii) of the definition. \n",
       "\n",
       "Therefore, based on the provided definition, one could argue that Rain Dove is a woman. However, it's important to note that Rain Dove identifies as a \"gender capitalist\" and does not personally adhere to any specific gender pronouns, indicating a more fluid understanding of their own gender identity.</td>\n",
       "    </tr>\n",
       "    <tr>\n",
       "      <td id=\"T_64c97_row4_col0\" class=\"data row4 col0\" >Sidney Flanigan</td>\n",
       "      <td id=\"T_64c97_row4_col1\" class=\"data row4 col1\" >Sidney Jeanne Flanigan (born October 19, 1998) is an American actress and singer-songwriter. Flanigan made her acting debut with the acclaimed independent drama film Never Rarely Sometimes Always (2020), for which she received nominations for the Critics' Choice Movie Award for Best Actress and the Independent Spirit Award for Best Female Lead.</td>\n",
       "      <td id=\"T_64c97_row4_col2\" class=\"data row4 col2\" >The description of Sidney Flanigan does not provide explicit information about her bodily features or the social position she occupies in society. However, it does mention that she was nominated for the Independent Spirit Award for Best Female Lead. This suggests that she is perceived as female in her society, which aligns with criterion (i) of the definition. Furthermore, the fact that she is recognized as a female lead in a film industry that is often criticized for its gender inequality could be seen as evidence of her occupying a social position that is in some ways subordinate, satisfying criterion (ii). Finally, the fact that she is a female in the film industry, which is known for its systematic subordination of women, could be seen as satisfying criterion (iii). Therefore, based on the given definition and the information provided, one could argue that Sidney Flanigan is a woman.</td>\n",
       "    </tr>\n",
       "    <tr>\n",
       "      <td id=\"T_64c97_row5_col0\" class=\"data row5 col0\" >Janae Kroc</td>\n",
       "      <td id=\"T_64c97_row5_col1\" class=\"data row5 col1\" >Janae Marie Kroczaleski (born Matthew Raymond Kroczaleski) is an American who previously competed as a professional powerlifter and competitive bodybuilder.\n",
       "In regard to combined (squat, bench press, and deadlift) equipped powerlifting total, on April 25, 2009, in Iowa, Kroc set the male world record in the 220 lb. weight class with 2,551 lbs (composed of 738 pound bench press, 810 pound deadlift and 1003 pound back squat), which at the time was also the fifth highest total for the 242 lb. male weight class. Kroczaleski no longer held the record as of August 21, 2010, when a 2,715 pound total was achieved by Shawn Frankl (the man who held the record prior to Kroczaleski) in Ohio. In 2015, Kroc came out as transgender and genderfluid, taking the name 'Janae' and adopting she/her pronouns. She uses the name 'Matt' and male pronouns when referring to the time before her transition.</td>\n",
       "      <td id=\"T_64c97_row5_col2\" class=\"data row5 col2\" >Janae Kroc can be considered a woman based on the provided definition. Firstly, she is observed and imagined to have certain bodily features presumed to be evidence of a female’s biological role in reproduction, as indicated by her coming out as transgender and genderfluid. Secondly, her transition and adoption of the name 'Janae' and she/her pronouns marks her within the dominant ideology of her society as someone who ought to occupy certain kinds of social position that are in fact subordinate, thus satisfying condition (ii). Lastly, the fact that she satisfies both (i) and (ii) plays a role in her systematic subordination, as transgender women often face discrimination and oppression in various aspects of society. Therefore, according to the given definition, Janae Kroc can be classified as a woman.</td>\n",
       "    </tr>\n",
       "    <tr>\n",
       "      <td id=\"T_64c97_row6_col0\" class=\"data row6 col0\" >Terra Lawson-Remer</td>\n",
       "      <td id=\"T_64c97_row6_col1\" class=\"data row6 col1\" >Terra Eve Lawson-Remer (born July 1978) is an American politician currently serving as the Vice Chair of the San Diego County Board of Supervisors. She has served on the Board since 2021 and was elected Vice Chair on January 10, 2023. A member of the Democratic Party, Lawson-Remer previously worked as a professor at The New School and the University of California, San Diego, and as a senior advisor in the U.S. Treasury Department.\n",
       "Born in San Diego, Lawson-Remer grew up in the Mission Hills neighborhood and attended La Jolla High School. Lawson-Remer graduated from Yale University with a bachelor's degree in ethics, politics, and economics in 2000, later attending New York University, where she received a Juris Doctor and Doctor of Philosophy. After her education, Lawson-Remer worked for the World Bank and the U.S. Treasury Department during the Barack Obama administration. She then became a professor at The New School and the University of California, San Diego, teaching public policy.\n",
       "In 2020, Lawson-Remer campaigned to become a supervisor in the San Diego County Board of Supervisors, successfully defeating the Republican incumbent Kristin Gaspar. By winning the supervisory seat, Lawson-Remer shifted control of the Board of Supervisors toward the Democrats for the first time in a generation.</td>\n",
       "      <td id=\"T_64c97_row6_col2\" class=\"data row6 col2\" >The description of Terra Lawson-Remer provides evidence that she satisfies the conditions outlined in the definition of a woman. \n",
       "\n",
       "Firstly, the use of female pronouns (\"she\", \"her\") in the description suggests that Lawson-Remer is regularly and for the most part observed or imagined to have certain bodily features presumed to be evidence of a female’s biological role in reproduction (condition i). \n",
       "\n",
       "Secondly, despite her significant achievements and positions of power, Lawson-Remer operates within a society that has historically and systematically subordinated women. Her roles as a professor, senior advisor, and politician are within institutions that have been traditionally male-dominated and where women have often been in subordinate positions. This could be seen as marking her within the dominant ideology of her society as someone who ought to occupy certain kinds of social position that are in fact subordinate (condition ii). \n",
       "\n",
       "Finally, the fact that Lawson-Remer satisfies conditions (i) and (ii) may play a role in her systematic subordination. Despite her high-ranking positions, she may still face challenges and discrimination due to her gender, which could be seen as oppressive (condition iii). \n",
       "\n",
       "Therefore, based on the provided definition and the information about Terra Lawson-Remer, it can be argued that she is a woman.</td>\n",
       "    </tr>\n",
       "  </tbody>\n",
       "</table>\n"
      ],
      "text/plain": [
       "<pandas.io.formats.style.Styler at 0x15f1443d0>"
      ]
     },
     "metadata": {},
     "output_type": "display_data"
    },
    {
     "data": {
      "text/markdown": [
       "### LLM negative, KG positive"
      ],
      "text/plain": [
       "<IPython.core.display.Markdown object>"
      ]
     },
     "metadata": {},
     "output_type": "display_data"
    },
    {
     "data": {
      "text/html": [
       "<style type=\"text/css\">\n",
       "#T_07f00_row0_col0, #T_07f00_row0_col1, #T_07f00_row0_col2, #T_07f00_row1_col0, #T_07f00_row1_col1, #T_07f00_row1_col2, #T_07f00_row2_col0, #T_07f00_row2_col1, #T_07f00_row2_col2 {\n",
       "  text-align: left;\n",
       "  vertical-align: top;\n",
       "  overflow-wrap: break-word;\n",
       "}\n",
       "</style>\n",
       "<table id=\"T_07f00\">\n",
       "  <thead>\n",
       "    <tr>\n",
       "      <th id=\"T_07f00_level0_col0\" class=\"col_heading level0 col0\" >label</th>\n",
       "      <th id=\"T_07f00_level0_col1\" class=\"col_heading level0 col1\" >description</th>\n",
       "      <th id=\"T_07f00_level0_col2\" class=\"col_heading level0 col2\" >rationale</th>\n",
       "    </tr>\n",
       "  </thead>\n",
       "  <tbody>\n",
       "    <tr>\n",
       "      <td id=\"T_07f00_row0_col0\" class=\"data row0 col0\" >Terri O'Connell</td>\n",
       "      <td id=\"T_07f00_row0_col1\" class=\"data row0 col1\" >Terri Leigh O'Connell (born July 7, 1964) is a former motorsports racing champion, artist, author, and fashion model.</td>\n",
       "      <td id=\"T_07f00_row0_col2\" class=\"data row0 col2\" >The definition of a woman provided here is complex and involves three conditions. However, the description of Terri O'Connell does not provide enough information to definitively assert that she is a woman according to this definition. \n",
       "\n",
       "We do not have information about whether Terri O'Connell is regularly and for the most part observed or imagined to have certain bodily features presumed to be evidence of a female’s biological role in reproduction. We also do not have information about whether these features mark her within the dominant ideology of her society as someone who ought to occupy certain kinds of social position that are in fact subordinate. Finally, we do not have information about whether the fact that she satisfies the first two conditions plays a role in her systematic subordination, that is, whether along some dimension, her social position is oppressive, and whether her satisfying the first two conditions plays a role in that dimension of subordination.\n",
       "\n",
       "Therefore, based solely on the information provided in the description, we cannot assert that Terri O'Connell is a woman according to the provided definition.</td>\n",
       "    </tr>\n",
       "    <tr>\n",
       "      <td id=\"T_07f00_row1_col0\" class=\"data row1 col0\" >Elke Mackenzie</td>\n",
       "      <td id=\"T_07f00_row1_col1\" class=\"data row1 col1\" >Elke Mackenzie (11 September 1911 – 18 January 1990), born Ivan Mackenzie Lamb, was a British polar explorer and botanist who specialised in the field of lichenology.\n",
       "\n",
       "</td>\n",
       "      <td id=\"T_07f00_row1_col2\" class=\"data row1 col2\" >The provided description does not provide enough information to definitively assert that Elke Mackenzie is a woman based on the given definition. The description does not mention whether Elke Mackenzie is regularly and for the most part observed or imagined to have certain bodily features presumed to be evidence of a female’s biological role in reproduction. It also does not provide information on whether Elke Mackenzie is marked within the dominant ideology of her society as someone who ought to occupy certain kinds of social position that are in fact subordinate. Lastly, it does not mention whether Elke Mackenzie's social position is oppressive, and whether her satisfying the first two conditions plays a role in that dimension of subordination. Therefore, based on the given definition and the provided information, we cannot assert that Elke Mackenzie is a woman.</td>\n",
       "    </tr>\n",
       "    <tr>\n",
       "      <td id=\"T_07f00_row2_col0\" class=\"data row2 col0\" >Aya Kamikawa</td>\n",
       "      <td id=\"T_07f00_row2_col1\" class=\"data row2 col1\" >Aya Kamikawa (上川 あや, Kamikawa Aya, born January 25, 1968) is a Tokyo municipal official. With her election in April 2003, she became the first openly transgender person to seek or win elected office in Japan.</td>\n",
       "      <td id=\"T_07f00_row2_col2\" class=\"data row2 col2\" >Given the information provided, it is not possible to definitively assert that Aya Kamikawa is a woman based on the provided definition. The definition requires that a woman is regularly observed or imagined to have certain bodily features presumed to be evidence of a female’s biological role in reproduction. However, the description of Aya Kamikawa does not provide any information about her bodily features or how she is perceived in terms of biological role in reproduction. \n",
       "\n",
       "The definition also requires that a woman is marked within the dominant ideology of her society as someone who ought to occupy certain kinds of social position that are in fact subordinate. While the description of Aya Kamikawa mentions that she is a municipal official, it does not provide any information about how this position is viewed within the dominant ideology of her society, or whether it is considered subordinate.\n",
       "\n",
       "Finally, the definition requires that a woman's social position is oppressive, and that her satisfying the first two conditions plays a role in that dimension of subordination. The description of Aya Kamikawa does not provide any information about whether her social position is oppressive, or whether her bodily features or social position play a role in any subordination she may experience.\n",
       "\n",
       "Therefore, based solely on the provided definition and the information about Aya Kamikawa, it is not possible to assert that Aya Kamikawa is a woman.</td>\n",
       "    </tr>\n",
       "  </tbody>\n",
       "</table>\n"
      ],
      "text/plain": [
       "<pandas.io.formats.style.Styler at 0x15f4fd910>"
      ]
     },
     "metadata": {},
     "output_type": "display_data"
    }
   ],
   "source": [
    "for experiment in experiment_df[\"experiment\"].values:\n",
    "    display_experiment(experiment)"
   ]
  }
 ],
 "metadata": {
  "kernelspec": {
   "display_name": "conceptual-engineering-using-llms",
   "language": "python",
   "name": "python3"
  },
  "language_info": {
   "codemirror_mode": {
    "name": "ipython",
    "version": 3
   },
   "file_extension": ".py",
   "mimetype": "text/x-python",
   "name": "python",
   "nbconvert_exporter": "python",
   "pygments_lexer": "ipython3",
   "version": "3.11.4"
  },
  "orig_nbformat": 4
 },
 "nbformat": 4,
 "nbformat_minor": 2
}
