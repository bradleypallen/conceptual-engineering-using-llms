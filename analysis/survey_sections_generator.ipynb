{
 "cells": [
  {
   "cell_type": "code",
   "execution_count": 1,
   "metadata": {},
   "outputs": [],
   "source": [
    "import json, random\n",
    "from IPython.display import display, Markdown"
   ]
  },
  {
   "cell_type": "code",
   "execution_count": 2,
   "metadata": {},
   "outputs": [],
   "source": [
    "def display_trial(trial):\n",
    "    cls = trial[\"class\"]\n",
    "    entity = trial[\"entity\"]\n",
    "    display(Markdown(f'## Is {entity[\"label\"]} an instance of {cls[\"label\"]}?'))\n",
    "    display(Markdown(f'### Class: {cls[\"label\"]} ({cls[\"id\"]})'))\n",
    "    display(Markdown(cls[\"definition\"]))\n",
    "    display(Markdown(f'### Entity: {entity[\"label\"]} ({entity[\"id\"]})'))\n",
    "    display(Markdown(entity[\"description\"]))\n",
    "    display(Markdown(f'### Classification: _{entity[\"predicted\"]}_'))\n",
    "    display(Markdown(entity[\"rationale\"]))"
   ]
  },
  {
   "cell_type": "code",
   "execution_count": 3,
   "metadata": {},
   "outputs": [],
   "source": [
    "def classifications(experiments):\n",
    "    for experiment in experiments:\n",
    "        cls = experiment[\"concept\"]\n",
    "        for entity in experiment[\"data\"]:\n",
    "            yield { \"class\": cls, \"entity\": entity }"
   ]
  },
  {
   "cell_type": "code",
   "execution_count": 5,
   "metadata": {},
   "outputs": [
    {
     "name": "stdout",
     "output_type": "stream",
     "text": [
      "730 agreements (TP+TN), 59 disagreements (FP+FN)\n"
     ]
    }
   ],
   "source": [
    "experiments = [ experiment for experiment in json.load(open('../experiments/caligraph_gpt-4_description_results.json', 'r')) ]\n",
    "\n",
    "agreements = [ trial for trial in classifications(experiments) if trial[\"entity\"][\"actual\"] == trial[\"entity\"][\"predicted\"]]\n",
    "random.shuffle(agreements)\n",
    "\n",
    "disagreements = [ trial for trial in classifications(experiments) if trial[\"entity\"][\"actual\"] != trial[\"entity\"][\"predicted\"]]\n",
    "random.shuffle(disagreements)\n",
    "\n",
    "print(f'{len(agreements)} agreements (TP+TN), {len(disagreements)} disagreements (FP+FN)')"
   ]
  },
  {
   "cell_type": "code",
   "execution_count": 6,
   "metadata": {},
   "outputs": [
    {
     "data": {
      "text/markdown": [
       "## Is Mark Guiliana an instance of 21st-century American drummer?"
      ],
      "text/plain": [
       "<IPython.core.display.Markdown object>"
      ]
     },
     "metadata": {},
     "output_type": "display_data"
    },
    {
     "data": {
      "text/markdown": [
       "### Class: 21st-century American drummer (http://caligraph.org/ontology/21st-century_American_drummer)"
      ],
      "text/plain": [
       "<IPython.core.display.Markdown object>"
      ]
     },
     "metadata": {},
     "output_type": "display_data"
    },
    {
     "data": {
      "text/markdown": [
       "The entity \"21st-century American drummer\" is a class within the ontology of Caligraph.org. It is a subclass of both \"American drummer\" and \"21st-century drummer\", indicating that it represents drummers from America who are active in the 21st century. The information about this class was derived from the Wikipedia category \"21st-century American drummers\".\n",
       "\n",
       "There are several individuals who are classified under this entity. These include Stony Blyden, Timothy \"Yogi\" Watts, Afroman, Mark Guiliana, Mike Felumlee, Tony Peck, Chris Fehn, Dave Kerman, Adam Cruz, Blake Richardson (drummer), George \"Spanky\" McCurdy, James Kottak, Jeremy Barnes (musician), Marco Pitruzzella, and Rachel Trachtenburg. This classification implies that all these individuals are American drummers who have been active during the 21st century."
      ],
      "text/plain": [
       "<IPython.core.display.Markdown object>"
      ]
     },
     "metadata": {},
     "output_type": "display_data"
    },
    {
     "data": {
      "text/markdown": [
       "### Entity: Mark Guiliana (http://caligraph.org/resource/Mark_Guiliana)"
      ],
      "text/plain": [
       "<IPython.core.display.Markdown object>"
      ]
     },
     "metadata": {},
     "output_type": "display_data"
    },
    {
     "data": {
      "text/markdown": [
       "Mark Guiliana is a notable individual, born in 1980, who is recognized as a 21st-century American drummer and an American jazz bandleader. He is also an athlete and is involved in sports. He is currently alive and hails from Florham Park, New Jersey. As an artist, he is associated with both Motéma Music and Nonesuch Records. His contributions to the music industry are particularly noted in the field of American jazz drumming. He has collaborated with several bands and artists, including Dhafer Youssef, Lionel Loueke, Avishai Cohen (who is a bassist), David Bowie, the band Phronesis, and Gretchen Parlato."
      ],
      "text/plain": [
       "<IPython.core.display.Markdown object>"
      ]
     },
     "metadata": {},
     "output_type": "display_data"
    },
    {
     "data": {
      "text/markdown": [
       "### Classification: _positive_"
      ],
      "text/plain": [
       "<IPython.core.display.Markdown object>"
      ]
     },
     "metadata": {},
     "output_type": "display_data"
    },
    {
     "data": {
      "text/markdown": [
       "The definition of a 21st-century American drummer is an individual who is from America and has been active as a drummer during the 21st century. Mark Guiliana is listed as one of the individuals classified under this entity, which implies that he is an American drummer who has been active during the 21st century. Furthermore, the description of Mark Guiliana confirms that he is an American, born in 1980, and is recognized as a 21st-century American drummer. He has made contributions to the music industry, particularly in the field of American jazz drumming, and has collaborated with several bands and artists. Therefore, based on the provided definition and the information about Mark Guiliana, it can be argued that Mark Guiliana is a 21st-century American drummer."
      ],
      "text/plain": [
       "<IPython.core.display.Markdown object>"
      ]
     },
     "metadata": {},
     "output_type": "display_data"
    },
    {
     "data": {
      "text/markdown": [
       "## Is Sretko Vuksanović an instance of FK Sarajevo player?"
      ],
      "text/plain": [
       "<IPython.core.display.Markdown object>"
      ]
     },
     "metadata": {},
     "output_type": "display_data"
    },
    {
     "data": {
      "text/markdown": [
       "### Class: FK Sarajevo player (http://caligraph.org/ontology/FK_Sarajevo_player)"
      ],
      "text/plain": [
       "<IPython.core.display.Markdown object>"
      ]
     },
     "metadata": {},
     "output_type": "display_data"
    },
    {
     "data": {
      "text/markdown": [
       "The entity \"FK Sarajevo player\" is a class within the ontology, specifically labeled as \"FK Sarajevo player\". It is a subclass of several other classes, including \"RestrictionHasValue_team_FK Sarajevo\", \"Footballer in Bosnia and Herzegovina\", and \"Association football player in Bosnia and Herzegovina\". This suggests that the class \"FK Sarajevo player\" is a specific type of football player who is associated with the team FK Sarajevo in Bosnia and Herzegovina. \n",
       "\n",
       "The information for this entity was derived from two Wikipedia pages: \"Category:FK Sarajevo players\" and \"List of FK Sarajevo players\". This suggests that the data for this class was gathered from these pages and includes all players listed there.\n",
       "\n",
       "Several individuals are classified under this entity, indicating that they are or were players for FK Sarajevo. These individuals include Branislav Arsenijević, Sead Jesenković, Darko Raca, Franjo Vuleta, Ibrahim Biogradlić, Vule Trivunović, Sretko Vuksanović, Vukašin Višnjevac, Marko Savić, Frank Liivak, Matej Kochan, Safet Nadarević, and Said Fazlagić. Each of these individuals is classified as an \"FK Sarajevo player\", reinforcing their association with this specific football team."
      ],
      "text/plain": [
       "<IPython.core.display.Markdown object>"
      ]
     },
     "metadata": {},
     "output_type": "display_data"
    },
    {
     "data": {
      "text/markdown": [
       "### Entity: Sretko Vuksanović (http://caligraph.org/resource/Sretko_Vuksanovi%C4%87)"
      ],
      "text/plain": [
       "<IPython.core.display.Markdown object>"
      ]
     },
     "metadata": {},
     "output_type": "display_data"
    },
    {
     "data": {
      "text/markdown": [
       "Sretko Vuksanović is a named individual, born in 1973, and is currently alive. He hails from Sarajevo and belongs to the Serb ethnicity of Bosnia and Herzegovina. Vuksanović is recognized as an association football midfielder and has played in both the Belgian First Division A and B. He has also been an expatriate footballer in Belgium and France, representing teams such as FC Sochaux-Montbéliard, K.A.A. Gent, K.R.C. Genk, Royal Cappellen F.C., and SC Toulon. He has also played in France's Ligue 1. In addition to his playing career, Vuksanović has also made a name for himself as a soccer manager."
      ],
      "text/plain": [
       "<IPython.core.display.Markdown object>"
      ]
     },
     "metadata": {},
     "output_type": "display_data"
    },
    {
     "data": {
      "text/markdown": [
       "### Classification: _positive_"
      ],
      "text/plain": [
       "<IPython.core.display.Markdown object>"
      ]
     },
     "metadata": {},
     "output_type": "display_data"
    },
    {
     "data": {
      "text/markdown": [
       "The definition of the concept \"FK Sarajevo player\" includes a list of individuals who are classified under this entity, indicating that they are or were players for FK Sarajevo. Sretko Vuksanović is explicitly mentioned in this list. Therefore, based on the provided definition, it can be asserted that Sretko Vuksanović is a FK Sarajevo player."
      ],
      "text/plain": [
       "<IPython.core.display.Markdown object>"
      ]
     },
     "metadata": {},
     "output_type": "display_data"
    },
    {
     "data": {
      "text/markdown": [
       "## Is Hayden Mullins an instance of England under-21 international footballer?"
      ],
      "text/plain": [
       "<IPython.core.display.Markdown object>"
      ]
     },
     "metadata": {},
     "output_type": "display_data"
    },
    {
     "data": {
      "text/markdown": [
       "### Class: England under-21 international footballer (http://caligraph.org/ontology/England_under-21_international_footballer)"
      ],
      "text/plain": [
       "<IPython.core.display.Markdown object>"
      ]
     },
     "metadata": {},
     "output_type": "display_data"
    },
    {
     "data": {
      "text/markdown": [
       "The entity \"England under-21 international footballer\" is a class within the Caligraph ontology. This class is a subclass of three other classes: \"RestrictionHasValue_team_England national under-21 football team\", \"England youth international footballer\", and \"National under-21 association football team\". The information about this class was derived from the Wikipedia page \"Category:England under-21 international footballers\". \n",
       "\n",
       "There are several individuals who are classified as \"England under-21 international footballers\". These include Garry Parker, Patrick Bamford, Paul Gascoigne, Ray Wilkins, Rod Wallace, Brian Atkinson, Chris Woods, Daniel Sturridge, Garry Flitcroft, Gary Mills (a footballer born in 1961), Hayden Mullins, Jason Steele (a footballer), Martyn Waghorn, and Trevor Benjamin. Each of these individuals is an instance of the \"England under-21 international footballer\" class in the Caligraph ontology."
      ],
      "text/plain": [
       "<IPython.core.display.Markdown object>"
      ]
     },
     "metadata": {},
     "output_type": "display_data"
    },
    {
     "data": {
      "text/markdown": [
       "### Entity: Hayden Mullins (http://caligraph.org/resource/Hayden_Mullins)"
      ],
      "text/plain": [
       "<IPython.core.display.Markdown object>"
      ]
     },
     "metadata": {},
     "output_type": "display_data"
    },
    {
     "data": {
      "text/markdown": [
       "Hayden Mullins, born in 1979, is a living Black British sportsperson from Reading, Berkshire. He has had a diverse career in football, both as a player and a manager. As a player, he has been associated with several clubs including Birmingham City F.C., Crystal Palace F.C., Notts County F.C., Portsmouth F.C., and Reading F.C. He has played in various positions, primarily as an association football midfielder and an association football utility player. His playing career spans the English Football League and the Premier League, and he has also participated in the FA Cup Final. As a manager, he has led Watford F.C. and Colchester United F.C. His contributions to football have made him a notable figure in the sport."
      ],
      "text/plain": [
       "<IPython.core.display.Markdown object>"
      ]
     },
     "metadata": {},
     "output_type": "display_data"
    },
    {
     "data": {
      "text/markdown": [
       "### Classification: _negative_"
      ],
      "text/plain": [
       "<IPython.core.display.Markdown object>"
      ]
     },
     "metadata": {},
     "output_type": "display_data"
    },
    {
     "data": {
      "text/markdown": [
       "The definition of \"England under-21 international footballer\" states that it includes individuals who have played for the England national under-21 football team. While the description of Hayden Mullins provides detailed information about his football career, it does not explicitly state that he has played for the England national under-21 football team. Therefore, based solely on the information provided in the definition and description, we cannot definitively assert that Hayden Mullins is an \"England under-21 international footballer\"."
      ],
      "text/plain": [
       "<IPython.core.display.Markdown object>"
      ]
     },
     "metadata": {},
     "output_type": "display_data"
    },
    {
     "data": {
      "text/markdown": [
       "## Is Trixie Whitley an instance of 21st-century American drummer?"
      ],
      "text/plain": [
       "<IPython.core.display.Markdown object>"
      ]
     },
     "metadata": {},
     "output_type": "display_data"
    },
    {
     "data": {
      "text/markdown": [
       "### Class: 21st-century American drummer (http://caligraph.org/ontology/21st-century_American_drummer)"
      ],
      "text/plain": [
       "<IPython.core.display.Markdown object>"
      ]
     },
     "metadata": {},
     "output_type": "display_data"
    },
    {
     "data": {
      "text/markdown": [
       "The entity \"21st-century American drummer\" is a class within the ontology of Caligraph.org. It is a subclass of both \"American drummer\" and \"21st-century drummer\", indicating that it represents drummers from America who are active in the 21st century. The information about this class was derived from the Wikipedia category \"21st-century American drummers\".\n",
       "\n",
       "There are several individuals who are classified under this entity. These include Stony Blyden, Timothy \"Yogi\" Watts, Afroman, Mark Guiliana, Mike Felumlee, Tony Peck, Chris Fehn, Dave Kerman, Adam Cruz, Blake Richardson (drummer), George \"Spanky\" McCurdy, James Kottak, Jeremy Barnes (musician), Marco Pitruzzella, and Rachel Trachtenburg. This classification implies that all these individuals are American drummers who have been active during the 21st century."
      ],
      "text/plain": [
       "<IPython.core.display.Markdown object>"
      ]
     },
     "metadata": {},
     "output_type": "display_data"
    },
    {
     "data": {
      "text/markdown": [
       "### Entity: Trixie Whitley (http://caligraph.org/resource/Trixie_Whitley)"
      ],
      "text/plain": [
       "<IPython.core.display.Markdown object>"
      ]
     },
     "metadata": {},
     "output_type": "display_data"
    },
    {
     "data": {
      "text/markdown": [
       "Trixie Whitley is a notable individual, born in 1987, who has made significant contributions to the music industry. She is recognized as a 21st-century American women singer, a Belgian rock singer, and a Belgian drummer. In addition to her musical talents, she is also a 21st-century drummer. Her career has led her to emigrate from Belgium to the United States. She is currently alive and has had the honor of performing at the prestigious Montreux Jazz Festival. Throughout her career, she has been associated with various bands and individuals. These include Pat Dillett, Daniel Lanois, the album Black Dub, producer Mark Howard, Doveman, Brian Blade, and Chris Whitley. Her discography is also a notable aspect of her career."
      ],
      "text/plain": [
       "<IPython.core.display.Markdown object>"
      ]
     },
     "metadata": {},
     "output_type": "display_data"
    },
    {
     "data": {
      "text/markdown": [
       "### Classification: _positive_"
      ],
      "text/plain": [
       "<IPython.core.display.Markdown object>"
      ]
     },
     "metadata": {},
     "output_type": "display_data"
    },
    {
     "data": {
      "text/markdown": [
       "The definition of a 21st-century American drummer is a drummer from America who is active in the 21st century. Trixie Whitley, according to the provided information, is recognized as a 21st-century drummer. She has emigrated from Belgium to the United States, which implies that she is now an American drummer. Therefore, based on the provided information, it can be argued that Trixie Whitley fits the definition of a 21st-century American drummer."
      ],
      "text/plain": [
       "<IPython.core.display.Markdown object>"
      ]
     },
     "metadata": {},
     "output_type": "display_data"
    },
    {
     "data": {
      "text/markdown": [
       "## Is The Shrouded Isle an instance of 2017 video game?"
      ],
      "text/plain": [
       "<IPython.core.display.Markdown object>"
      ]
     },
     "metadata": {},
     "output_type": "display_data"
    },
    {
     "data": {
      "text/markdown": [
       "### Class: 2017 video game (http://caligraph.org/ontology/2017_video_game)"
      ],
      "text/plain": [
       "<IPython.core.display.Markdown object>"
      ]
     },
     "metadata": {},
     "output_type": "display_data"
    },
    {
     "data": {
      "text/markdown": [
       "The entity \"2017 video game\" is a class within the ontology. It is a subclass of both \"The art\" and \"Video game\", indicating that it is a specific type of both art and video game. The class was derived from the Wikipedia category \"2017 video games\". There are numerous instances of this class, which are individual video games released in 2017. These include \"Our World is Ended\", \"Atomega\", \"Final Fantasy XV\", \"Fortnite\", \"Hiveswap\", \"Road Rage (video game)\", \"Buck (video game)\", \"Football Manager 2018\", \"Blackwood Crossing\", \"DJMax Respect\", \"Fire Pro Wrestling World\", \"Sundered\", \"Creeping Terror (video game)\", \"DeadTruth: The Dark Path Ahead\", and \"Puzzle Fighter (2017 video game)\". Each of these instances is a specific example of a 2017 video game."
      ],
      "text/plain": [
       "<IPython.core.display.Markdown object>"
      ]
     },
     "metadata": {},
     "output_type": "display_data"
    },
    {
     "data": {
      "text/markdown": [
       "### Entity: The Shrouded Isle (http://caligraph.org/resource/The_Shrouded_Isle)"
      ],
      "text/plain": [
       "<IPython.core.display.Markdown object>"
      ]
     },
     "metadata": {},
     "output_type": "display_data"
    },
    {
     "data": {
      "text/markdown": [
       "The Shrouded Isle is a named individual entity, specifically an indie video game, in the knowledge graph. It was developed in Canada by Kitfox Games, who also published the game. The Shrouded Isle is a simulation video game, more specifically a construction and management simulation game. It was released on January 17, 2019. The game is available on several platforms including Microsoft Windows, MacOS, and Nintendo Switch. It is categorized as a MacO game, a Nintendo Switch game, a Windows game, and a 2017 video game. The game is also recognized as being based on works by H.P. Lovecraft. In the DBpedia resource, The Shrouded Isle is identified as the same entity."
      ],
      "text/plain": [
       "<IPython.core.display.Markdown object>"
      ]
     },
     "metadata": {},
     "output_type": "display_data"
    },
    {
     "data": {
      "text/markdown": [
       "### Classification: _negative_"
      ],
      "text/plain": [
       "<IPython.core.display.Markdown object>"
      ]
     },
     "metadata": {},
     "output_type": "display_data"
    },
    {
     "data": {
      "text/markdown": [
       "The Shrouded Isle cannot be classified as a 2017 video game based on the provided definition and information. The definition of a 2017 video game is a video game that was released in the year 2017. However, the information provided about The Shrouded Isle states that it was released on January 17, 2019, which is not within the year 2017. Therefore, despite being a video game, The Shrouded Isle does not meet the criteria to be classified as a 2017 video game."
      ],
      "text/plain": [
       "<IPython.core.display.Markdown object>"
      ]
     },
     "metadata": {},
     "output_type": "display_data"
    },
    {
     "data": {
      "text/markdown": [
       "## Is 37-1 Inheung-ri an instance of 1921 film?"
      ],
      "text/plain": [
       "<IPython.core.display.Markdown object>"
      ]
     },
     "metadata": {},
     "output_type": "display_data"
    },
    {
     "data": {
      "text/markdown": [
       "### Class: 1921 film (http://caligraph.org/ontology/1921_film)"
      ],
      "text/plain": [
       "<IPython.core.display.Markdown object>"
      ]
     },
     "metadata": {},
     "output_type": "display_data"
    },
    {
     "data": {
      "text/markdown": [
       "The entity \"1921 film\" is a class within the caligraph.org ontology. It is categorized as a subclass of both \"Movie\" and \"Upcoming film\" within the same ontology. The data for this class has been sourced from two Wikipedia pages: \"Category:1921 films\" and \"Category:Lists of 1921 films by country or language\". There are numerous instances of this class, which include films such as \"Lavender and Old Lace (film)\", \"Mated in the Wilds\", \"The Home Stretch\", \"The Whistle (film)\", \"A Lowland Cinderella\", \"Alias Ladyfingers\", \"General Post\", \"Hold Your Horses (film)\", \"No Defense (1921 film)\", \"School Days (1921 film)\", \"The Bell Hop\", \"The Films of Princess Fantoche\", \"The Flat (1921 film)\", and \"The Golden Snare\". Each of these films is classified as a \"1921 film\" within the caligraph.org ontology."
      ],
      "text/plain": [
       "<IPython.core.display.Markdown object>"
      ]
     },
     "metadata": {},
     "output_type": "display_data"
    },
    {
     "data": {
      "text/markdown": [
       "### Entity: 37-1 Inheung-ri (http://caligraph.org/resource/37-1%20Inheung-ri_(19503053))"
      ],
      "text/plain": [
       "<IPython.core.display.Markdown object>"
      ]
     },
     "metadata": {},
     "output_type": "display_data"
    },
    {
     "data": {
      "text/markdown": [
       "The entity \"37-1 Inheung-ri\" is a specific individual that is categorized as a movie, and more specifically, it is identified as a South Korean film. This entity is commonly referred to as \"37-1 Inheung-ri\". The source of the information about this entity is traced back to the Wikipedia page for the 41st Blue Dragon Film Awards."
      ],
      "text/plain": [
       "<IPython.core.display.Markdown object>"
      ]
     },
     "metadata": {},
     "output_type": "display_data"
    },
    {
     "data": {
      "text/markdown": [
       "### Classification: _negative_"
      ],
      "text/plain": [
       "<IPython.core.display.Markdown object>"
      ]
     },
     "metadata": {},
     "output_type": "display_data"
    },
    {
     "data": {
      "text/markdown": [
       "Based on the provided definition and information, there is no evidence or argument to support the assertion that 37-1 Inheung-ri is a 1921 film. The definition of a 1921 film includes specific examples, none of which are 37-1 Inheung-ri. Furthermore, the entity 37-1 Inheung-ri is identified as a South Korean film, but there is no mention of its production year being 1921. Therefore, based on the given information, it cannot be concluded that 37-1 Inheung-ri is a 1921 film."
      ],
      "text/plain": [
       "<IPython.core.display.Markdown object>"
      ]
     },
     "metadata": {},
     "output_type": "display_data"
    },
    {
     "data": {
      "text/markdown": [
       "## Is Héctor Gabriel Morales an instance of Argentine football manager?"
      ],
      "text/plain": [
       "<IPython.core.display.Markdown object>"
      ]
     },
     "metadata": {},
     "output_type": "display_data"
    },
    {
     "data": {
      "text/markdown": [
       "### Class: Argentine football manager (http://caligraph.org/ontology/Argentine_football_manager)"
      ],
      "text/plain": [
       "<IPython.core.display.Markdown object>"
      ]
     },
     "metadata": {},
     "output_type": "display_data"
    },
    {
     "data": {
      "text/markdown": [
       "The entity \"Argentine football manager\" is a class within an ontology. This class is a specific type of Argentine sports coach and Football manager in Argentina, indicating that it refers to individuals who manage football teams and were born in Argentina. The source of this information is the Wikipedia page for Argentine football managers.\n",
       "\n",
       "There are several individuals who are classified under this entity. These include Horacio Bongiovanni, José García Pérez, José Varacka, Lucas Ochandorena, Hector Alfredo D'Angelo, Juan Brown, Juan Quarterone, Rubén Darío Insúa, Juan Carlos Sarnari, Mauro Navas, Héctor Rial, Iván Sopegno, Marcelo Trobbiani, and Rodolfo Motta. Each of these individuals is an Argentine football manager, as per the classification in this ontology."
      ],
      "text/plain": [
       "<IPython.core.display.Markdown object>"
      ]
     },
     "metadata": {},
     "output_type": "display_data"
    },
    {
     "data": {
      "text/markdown": [
       "### Entity: Héctor Gabriel Morales (http://caligraph.org/resource/H%C3%A9ctor_Gabriel_Morales)"
      ],
      "text/plain": [
       "<IPython.core.display.Markdown object>"
      ]
     },
     "metadata": {},
     "output_type": "display_data"
    },
    {
     "data": {
      "text/markdown": [
       "Héctor Gabriel Morales, also known as \"Morales\", \"H. Morales\", and \"Hector Morales\", is an Argentine individual born in 1989 from Corrientes Province. He is a sportsperson who has played football for Estudiantes de La Plata and Ferencvárosi TC, and has also worked as an association football manager. He is an Argentine expatriate sportsperson who has lived in Hungary and has been an expatriate footballer in both Hungary and Honduras. He has played in the Honduran Liga Nacional as a foreign player for C.D. Victoria."
      ],
      "text/plain": [
       "<IPython.core.display.Markdown object>"
      ]
     },
     "metadata": {},
     "output_type": "display_data"
    },
    {
     "data": {
      "text/markdown": [
       "### Classification: _positive_"
      ],
      "text/plain": [
       "<IPython.core.display.Markdown object>"
      ]
     },
     "metadata": {},
     "output_type": "display_data"
    },
    {
     "data": {
      "text/markdown": [
       "Héctor Gabriel Morales fits the definition of an Argentine football manager as he is an individual born in Argentina, specifically in Corrientes Province, and has worked as an association football manager. This aligns with the definition of an Argentine football manager as an individual who manages football teams and was born in Argentina. Therefore, based on the provided definition and information, Héctor Gabriel Morales can be classified as an Argentine football manager."
      ],
      "text/plain": [
       "<IPython.core.display.Markdown object>"
      ]
     },
     "metadata": {},
     "output_type": "display_data"
    },
    {
     "data": {
      "text/markdown": [
       "## Is Zlatko Lagumdžija an instance of State leader in 2014?"
      ],
      "text/plain": [
       "<IPython.core.display.Markdown object>"
      ]
     },
     "metadata": {},
     "output_type": "display_data"
    },
    {
     "data": {
      "text/markdown": [
       "### Class: State leader in 2014 (http://caligraph.org/ontology/State_leader_in_2014)"
      ],
      "text/plain": [
       "<IPython.core.display.Markdown object>"
      ]
     },
     "metadata": {},
     "output_type": "display_data"
    },
    {
     "data": {
      "text/markdown": [
       "The entity \"State leader in 2014\" is a class within the Caligraph knowledge graph's ontology. It is a specific subclass of the broader \"State leader\" class. The information for this entity is derived from the Wikipedia page titled \"List of state leaders in 2014\". \n",
       "\n",
       "This class includes several individuals who were state leaders in 2014. These individuals are 'Akilisi Pōhiva, Armando Guebuza, Barry Haase, Hovik Abrahamyan, Michael Dunkley, Miloš Zeman, Nicos Anastasiades, Omar al-Hassi, Tsakhiagiin Elbegdorj, Adam Wood, Beji Caid Essebsi, Harold Martin, Jorge Carlos Fonseca, Joyce Banda, Mikhail Myasnikovich, and Hassan Rouhani. Each of these individuals is classified as an instance of the \"State leader in 2014\" class, indicating their role as state leaders during that year."
      ],
      "text/plain": [
       "<IPython.core.display.Markdown object>"
      ]
     },
     "metadata": {},
     "output_type": "display_data"
    },
    {
     "data": {
      "text/markdown": [
       "### Entity: Zlatko Lagumdžija (http://caligraph.org/resource/Zlatko_Lagumd%C5%BEija)"
      ],
      "text/plain": [
       "<IPython.core.display.Markdown object>"
      ]
     },
     "metadata": {},
     "output_type": "display_data"
    },
    {
     "data": {
      "text/markdown": [
       "Zlatko Lagumdžija, also known as \"Lagumdžija\", is a Bosniak individual who was born in 1955 and is currently living. He hails from Sarajevo, Bosnia and Herzegovina. He has had a significant political career, serving as the Foreign Minister of Bosnia and Herzegovina in several years, including 2001, 2002, 2012, 2013, 2014, and 2015. In addition to his role as Foreign Minister, he also held a position as a state leader in 2001 and 2002. His contributions and roles have led to his recognition as a notable Bosniak of Bosnia and Herzegovina and a prominent politician from Sarajevo."
      ],
      "text/plain": [
       "<IPython.core.display.Markdown object>"
      ]
     },
     "metadata": {},
     "output_type": "display_data"
    },
    {
     "data": {
      "text/markdown": [
       "### Classification: _positive_"
      ],
      "text/plain": [
       "<IPython.core.display.Markdown object>"
      ]
     },
     "metadata": {},
     "output_type": "display_data"
    },
    {
     "data": {
      "text/markdown": [
       "The definition of \"State leader in 2014\" includes individuals who held a position as a state leader during the year 2014. Zlatko Lagumdžija served as the Foreign Minister of Bosnia and Herzegovina in 2014, which is a significant political role in the state. Therefore, based on the information provided, it can be argued that Zlatko Lagumdžija fits the definition of a \"State leader in 2014\"."
      ],
      "text/plain": [
       "<IPython.core.display.Markdown object>"
      ]
     },
     "metadata": {},
     "output_type": "display_data"
    },
    {
     "data": {
      "text/markdown": [
       "## Is The Sport (Adelaide newspaper) an instance of Newspaper in New South Wales?"
      ],
      "text/plain": [
       "<IPython.core.display.Markdown object>"
      ]
     },
     "metadata": {},
     "output_type": "display_data"
    },
    {
     "data": {
      "text/markdown": [
       "### Class: Newspaper in New South Wales (http://caligraph.org/ontology/Newspaper_in_New_South_Wales)"
      ],
      "text/plain": [
       "<IPython.core.display.Markdown object>"
      ]
     },
     "metadata": {},
     "output_type": "display_data"
    },
    {
     "data": {
      "text/markdown": [
       "The entity \"Newspaper in New South Wales\" is a class in the ontology. It is a subclass of the broader class \"Newspaper published in Australia\". The information about this class is derived from the Wikipedia page \"List of newspapers in New South Wales\". There are numerous resources that fall under this class. These include newspapers such as \"Imlay magnet\", \"Springwood Sentinel\", \"The Coastal Views\", \"The Gilgandra Weekly\", \"The Inverell Argus\", \"The St George Observer\", \"Duncan's weekly register of politics, facts and general literature\", \"Stageland\", \"The Moss Vale record\", \"Newcastle Star\", \"Tenterfield Intercolonial Courier and Fairfield and Wallangarra Advocate\", \"Moree Champion\", \"Dubbo\", \"Oceania (journal)\", \"The Mirror of Australia\", and \"The Northern Times\". Each of these resources is classified as a type of \"Newspaper in New South Wales\"."
      ],
      "text/plain": [
       "<IPython.core.display.Markdown object>"
      ]
     },
     "metadata": {},
     "output_type": "display_data"
    },
    {
     "data": {
      "text/markdown": [
       "### Entity: The Sport (Adelaide newspaper) (http://caligraph.org/resource/The_Sport_(Adelaide_newspaper))"
      ],
      "text/plain": [
       "<IPython.core.display.Markdown object>"
      ]
     },
     "metadata": {},
     "output_type": "display_data"
    },
    {
     "data": {
      "text/markdown": [
       "The Sport is a defunct newspaper that was published in Adelaide, Australia. It was first established in 1910, making it a significant establishment in Australia during that year. The Sport is classified as a named individual and is also featured on Trove, a comprehensive Australian online library. The newspaper is also known by other labels such as ''The Sport'' (Adelaide newspaper), ''The Sport'' (Adelaide), and simply The Sport. The Sport is classified under the ontology of Defunct newspaper published in Adelaide, Publication established in 1910, 1910 establishment in Australia, and Newspaper on Trove. The information about The Sport was derived from various sources including Wikipedia categories for 1910 establishments in Australia, Newspapers on Trove, Publications established in 1910, and Defunct newspapers published in Adelaide. It is also identified as the same entity as the one listed on DBpedia."
      ],
      "text/plain": [
       "<IPython.core.display.Markdown object>"
      ]
     },
     "metadata": {},
     "output_type": "display_data"
    },
    {
     "data": {
      "text/markdown": [
       "### Classification: _negative_"
      ],
      "text/plain": [
       "<IPython.core.display.Markdown object>"
      ]
     },
     "metadata": {},
     "output_type": "display_data"
    },
    {
     "data": {
      "text/markdown": [
       "Based on the provided definition and information, there is no valid argument to assert that The Sport (Adelaide newspaper) is a Newspaper in New South Wales. The Sport is specifically identified as a defunct newspaper published in Adelaide, Australia, not New South Wales. Therefore, it cannot be classified under the ontology of \"Newspaper in New South Wales\"."
      ],
      "text/plain": [
       "<IPython.core.display.Markdown object>"
      ]
     },
     "metadata": {},
     "output_type": "display_data"
    },
    {
     "data": {
      "text/markdown": [
       "## Is Dick Ukeiwé an instance of Member of the European Parliament, 1989–1994?"
      ],
      "text/plain": [
       "<IPython.core.display.Markdown object>"
      ]
     },
     "metadata": {},
     "output_type": "display_data"
    },
    {
     "data": {
      "text/markdown": [
       "### Class: Member of the European Parliament, 1989–1994 (http://caligraph.org/ontology/Member_of_the_European_Parliament,_1989%E2%80%931994)"
      ],
      "text/plain": [
       "<IPython.core.display.Markdown object>"
      ]
     },
     "metadata": {},
     "output_type": "display_data"
    },
    {
     "data": {
      "text/markdown": [
       "The entity \"Member of the European Parliament, 1989–1994\" is a class in the ontology. It is a subclass of \"Member of the European Parliament 1989–1994\". The information about this class was derived from the Wikipedia page \"List of members of the European Parliament, 1989–1994\". \n",
       "\n",
       "This class includes individuals who served as members of the European Parliament between the years 1989 and 1994. Some notable members of this class include Arturo Juan Escuder Croft, Carlos María Bru Purón, Florus Wijsenbeek, Frédéric Rosmini, Nora Mebrak-Zaïdi, Marie-Christine Aulas, Eusebio Cano Pinto, José Manuel Torres Couto, Doris Pack, Jim Fitzsimons, Richard Simmonds, Robert Krieps, Fernando Gomes, Philippe Douste-Blazy, Francisco Sanz Fernández, and Johanna Grund. Each of these individuals is classified under the \"Member of the European Parliament, 1989–1994\" class in the ontology."
      ],
      "text/plain": [
       "<IPython.core.display.Markdown object>"
      ]
     },
     "metadata": {},
     "output_type": "display_data"
    },
    {
     "data": {
      "text/markdown": [
       "### Entity: Dick Ukeiwé (http://caligraph.org/resource/Dick_Ukeiw%C3%A9)"
      ],
      "text/plain": [
       "<IPython.core.display.Markdown object>"
      ]
     },
     "metadata": {},
     "output_type": "display_data"
    },
    {
     "data": {
      "text/markdown": [
       "Dick Ukeiwé was a notable individual who held several political positions in New Caledonia. He was a Senator of New Caledonia, a New Caledonia politician, and the President of the Congress of New Caledonia. Additionally, he served as a Member of the European Parliament for France from 1989 to 1994. He was also recognized as a Kanak person, a person from the Loyalty Islands, and a Black French politician. Born in 1928 in the Loyalty Islands Province, New Caledonia, he passed away in 2013. The information about Dick Ukeiwé has been derived from various sources, including Wikipedia's pages on Black French politicians, members of the European Parliament for France from 1989 to 1994, and New Caledonia politicians."
      ],
      "text/plain": [
       "<IPython.core.display.Markdown object>"
      ]
     },
     "metadata": {},
     "output_type": "display_data"
    },
    {
     "data": {
      "text/markdown": [
       "### Classification: _positive_"
      ],
      "text/plain": [
       "<IPython.core.display.Markdown object>"
      ]
     },
     "metadata": {},
     "output_type": "display_data"
    },
    {
     "data": {
      "text/markdown": [
       "The assertion that Dick Ukeiwé is a Member of the European Parliament, 1989–1994 can be supported by the information provided in the description of the entity. According to the description, Dick Ukeiwé served as a Member of the European Parliament for France from 1989 to 1994. This time period aligns with the time frame specified in the definition of the class \"Member of the European Parliament, 1989–1994\". Therefore, based on the information provided, it can be argued that Dick Ukeiwé fits the criteria to be classified under the \"Member of the European Parliament, 1989–1994\" class in the ontology."
      ],
      "text/plain": [
       "<IPython.core.display.Markdown object>"
      ]
     },
     "metadata": {},
     "output_type": "display_data"
    },
    {
     "data": {
      "text/markdown": [
       "## Is Allan (footballer, born 1984) an instance of Clube Náutico Capibaribe player?"
      ],
      "text/plain": [
       "<IPython.core.display.Markdown object>"
      ]
     },
     "metadata": {},
     "output_type": "display_data"
    },
    {
     "data": {
      "text/markdown": [
       "### Class: Clube Náutico Capibaribe player (http://caligraph.org/ontology/Clube_N%C3%A1utico_Capibaribe_player)"
      ],
      "text/plain": [
       "<IPython.core.display.Markdown object>"
      ]
     },
     "metadata": {},
     "output_type": "display_data"
    },
    {
     "data": {
      "text/markdown": [
       "The entity \"Clube Náutico Capibaribe player\" is a class within the ontology. It is labeled as \"Clube Náutico Capibaribe player\" and is a subclass of both \"RestrictionHasValue_team_Clube Náutico Capibaribe\" and \"Footballer in Pernambuco\". This indicates that the players classified under this entity are associated with the team \"Clube Náutico Capibaribe\" and are footballers based in Pernambuco. The information about this entity is derived from the Wikipedia page for \"Category:Clube Náutico Capibaribe players\". \n",
       "\n",
       "There are numerous individuals that fall under this entity. These include footballers such as \"Ives\", \"Marcel (born August 1981)\", \"Vinícius Eutrópio\", \"David (born 1982)\", \"Yuri Mamute\", \"Claudio Milar\", \"Gladstone\", \"Jackson (born 1 May 1990)\", \"Renaldo\", \"Daniel Bueno\", \"Eliomar (born 1987)\", \"Peter (born 1984)\", \"Hugo Almeida\", \"João Ananias\", and \"Nivaldo (born 1980)\". Each of these individuals is classified as a \"Clube Náutico Capibaribe player\" within the ontology."
      ],
      "text/plain": [
       "<IPython.core.display.Markdown object>"
      ]
     },
     "metadata": {},
     "output_type": "display_data"
    },
    {
     "data": {
      "text/markdown": [
       "### Entity: Allan (footballer, born 1984) (http://caligraph.org/resource/Allan_(footballer,_born_1984))"
      ],
      "text/plain": [
       "<IPython.core.display.Markdown object>"
      ]
     },
     "metadata": {},
     "output_type": "display_data"
    },
    {
     "data": {
      "text/markdown": [
       "Allan, born on August 9, 1984, is a professional footballer from the city of Rio de Janeiro. He has played for a variety of clubs, including Clube Atlético Tubarão, America Football Club (RJ), CR Vasco da Gama, Associação Desportiva Cabense, ABC Futebol Clube, Madureira Esporte Clube, Associação Atlética Portuguesa (RJ), Duque de Caxias Futebol Clube, Olaria Atlético Clube, and Vila Nova Futebol Clube. He has also competed in the Campeonato Brasileiro Série B and Série D. Allan is currently alive and continues to contribute to the football world."
      ],
      "text/plain": [
       "<IPython.core.display.Markdown object>"
      ]
     },
     "metadata": {},
     "output_type": "display_data"
    },
    {
     "data": {
      "text/markdown": [
       "### Classification: _negative_"
      ],
      "text/plain": [
       "<IPython.core.display.Markdown object>"
      ]
     },
     "metadata": {},
     "output_type": "display_data"
    },
    {
     "data": {
      "text/markdown": [
       "Based on the provided definition, there is no evidence to support the assertion that Allan (footballer, born 1984) is a Clube Náutico Capibaribe player. The definition lists several individuals who are classified as Clube Náutico Capibaribe players, but Allan is not among them. Furthermore, the description of Allan does not mention any association with Clube Náutico Capibaribe. Therefore, based solely on the provided information, we cannot classify Allan as a Clube Náutico Capibaribe player."
      ],
      "text/plain": [
       "<IPython.core.display.Markdown object>"
      ]
     },
     "metadata": {},
     "output_type": "display_data"
    },
    {
     "data": {
      "text/markdown": [
       "## Is Spitta's Johann Sebastian Bach an instance of Autobiography?"
      ],
      "text/plain": [
       "<IPython.core.display.Markdown object>"
      ]
     },
     "metadata": {},
     "output_type": "display_data"
    },
    {
     "data": {
      "text/markdown": [
       "### Class: Autobiography (http://caligraph.org/ontology/Autobiography)"
      ],
      "text/plain": [
       "<IPython.core.display.Markdown object>"
      ]
     },
     "metadata": {},
     "output_type": "display_data"
    },
    {
     "data": {
      "text/markdown": [
       "The entity \"Autobiography\" is a class within the knowledge graph. It falls under the broader category of \"Biography (books)\", making it a subclass. The label assigned to this entity is \"Autobiography\". The information about this entity has been derived from several Wikipedia pages, including \"Category:Autobiographies\", \"Category:Autobiographies by nationality\", and \"List of autobiographies\". \n",
       "\n",
       "There are numerous resources that fall under the \"Autobiography\" class. These include \"Only Fools and Stories\", \"Tall, Dark & Gruesome\", \"Humble Pie\", \"I Flew for the Führer\", \"Joys and Sorrows: Reflections\", \"Lessons From a Life in Feathers\", \"The Autobiography of Nikola Tesla\", \"Visibility Unlimited\", \"WHAM!, George Michael, & Me\", \"Do You Want to Go With Me?\", \"And the Beat Goes On\", \"Anna Sui\", \"Nine Lives\", and \"The Land I Lost\". Each of these resources is classified as an \"Autobiography\" in the knowledge graph."
      ],
      "text/plain": [
       "<IPython.core.display.Markdown object>"
      ]
     },
     "metadata": {},
     "output_type": "display_data"
    },
    {
     "data": {
      "text/markdown": [
       "### Entity: Spitta's Johann Sebastian Bach (http://caligraph.org/resource/Spitta's_Johann_Sebastian_Bach)"
      ],
      "text/plain": [
       "<IPython.core.display.Markdown object>"
      ]
     },
     "metadata": {},
     "output_type": "display_data"
    },
    {
     "data": {
      "text/markdown": [
       "\"Spitta's Johann Sebastian Bach\" is an entity in the knowledge graph that is categorized as a multi-volume biography, a biography about musicians, a German biography, and a named individual. This entity is also referred to by various other names such as \"Bach biography\", \"biography of the composer\", \"Johann Sebastian Bach\", \"Bach-biography\", \"Spitta\", \"''Johann Sebastian Bach''\", \"19th century biography of the latter\", \"Spitta III\", \"a three-volume biography\", \"biography in three volumes\", \"his 1873 Bach biography\", \"his 1873 biography\", and \"his Bach biography\". This entity is also recognized as the same entity in the DBpedia resource."
      ],
      "text/plain": [
       "<IPython.core.display.Markdown object>"
      ]
     },
     "metadata": {},
     "output_type": "display_data"
    },
    {
     "data": {
      "text/markdown": [
       "### Classification: _negative_"
      ],
      "text/plain": [
       "<IPython.core.display.Markdown object>"
      ]
     },
     "metadata": {},
     "output_type": "display_data"
    },
    {
     "data": {
      "text/markdown": [
       "Based on the information provided in the definition, it cannot be argued that \"Spitta's Johann Sebastian Bach\" is an autobiography. The definition of an autobiography is a self-written account of the life of oneself, but \"Spitta's Johann Sebastian Bach\" is described as a biography, which is an account of someone's life written by someone else. Furthermore, there is no information provided that suggests that Johann Sebastian Bach wrote this biography himself. Therefore, based on the provided definition and information, \"Spitta's Johann Sebastian Bach\" cannot be classified as an autobiography."
      ],
      "text/plain": [
       "<IPython.core.display.Markdown object>"
      ]
     },
     "metadata": {},
     "output_type": "display_data"
    },
    {
     "data": {
      "text/markdown": [
       "## Is Nora Mebrak-Zaïdi an instance of Member of the European Parliament, 1989–1994?"
      ],
      "text/plain": [
       "<IPython.core.display.Markdown object>"
      ]
     },
     "metadata": {},
     "output_type": "display_data"
    },
    {
     "data": {
      "text/markdown": [
       "### Class: Member of the European Parliament, 1989–1994 (http://caligraph.org/ontology/Member_of_the_European_Parliament,_1989%E2%80%931994)"
      ],
      "text/plain": [
       "<IPython.core.display.Markdown object>"
      ]
     },
     "metadata": {},
     "output_type": "display_data"
    },
    {
     "data": {
      "text/markdown": [
       "The entity \"Member of the European Parliament, 1989–1994\" is a class in the ontology. It is a subclass of \"Member of the European Parliament 1989–1994\". The information about this class was derived from the Wikipedia page \"List of members of the European Parliament, 1989–1994\". \n",
       "\n",
       "This class includes individuals who served as members of the European Parliament between the years 1989 and 1994. Some notable members of this class include Arturo Juan Escuder Croft, Carlos María Bru Purón, Florus Wijsenbeek, Frédéric Rosmini, Nora Mebrak-Zaïdi, Marie-Christine Aulas, Eusebio Cano Pinto, José Manuel Torres Couto, Doris Pack, Jim Fitzsimons, Richard Simmonds, Robert Krieps, Fernando Gomes, Philippe Douste-Blazy, Francisco Sanz Fernández, and Johanna Grund. Each of these individuals is classified under the \"Member of the European Parliament, 1989–1994\" class in the ontology."
      ],
      "text/plain": [
       "<IPython.core.display.Markdown object>"
      ]
     },
     "metadata": {},
     "output_type": "display_data"
    },
    {
     "data": {
      "text/markdown": [
       "### Entity: Nora Mebrak-Zaïdi (http://caligraph.org/resource/Nora%20Mebrak-Za%C3%AFdi_(19485342))"
      ],
      "text/plain": [
       "<IPython.core.display.Markdown object>"
      ]
     },
     "metadata": {},
     "output_type": "display_data"
    },
    {
     "data": {
      "text/markdown": [
       "Nora Mebrak-Zaïdi is a recognized individual in the knowledge graph. She held the position of a Member of the European Parliament for France, as well as a Member of the European Parliament, both from 1989 to 1994. The information about Nora Mebrak-Zaïdi has been derived from two Wikipedia pages: \"List of members of the European Parliament, 1989–1994\" and \"List of members of the European Parliament for France, 1989–1994\"."
      ],
      "text/plain": [
       "<IPython.core.display.Markdown object>"
      ]
     },
     "metadata": {},
     "output_type": "display_data"
    },
    {
     "data": {
      "text/markdown": [
       "### Classification: _positive_"
      ],
      "text/plain": [
       "<IPython.core.display.Markdown object>"
      ]
     },
     "metadata": {},
     "output_type": "display_data"
    },
    {
     "data": {
      "text/markdown": [
       "The assertion that Nora Mebrak-Zaïdi is a Member of the European Parliament, 1989–1994 can be supported by the information provided in the definition. The definition states that the class \"Member of the European Parliament, 1989–1994\" includes individuals who served as members of the European Parliament between the years 1989 and 1994. Nora Mebrak-Zaïdi is explicitly listed as one of the notable members of this class. Furthermore, the entity description for Nora Mebrak-Zaïdi confirms that she held the position of a Member of the European Parliament for France during the same time period, 1989 to 1994. Therefore, based on the provided definition and entity description, it can be argued that Nora Mebrak-Zaïdi is a Member of the European Parliament, 1989–1994."
      ],
      "text/plain": [
       "<IPython.core.display.Markdown object>"
      ]
     },
     "metadata": {},
     "output_type": "display_data"
    },
    {
     "data": {
      "text/markdown": [
       "## Is Tino-Sven Sušić an instance of FK Sarajevo player?"
      ],
      "text/plain": [
       "<IPython.core.display.Markdown object>"
      ]
     },
     "metadata": {},
     "output_type": "display_data"
    },
    {
     "data": {
      "text/markdown": [
       "### Class: FK Sarajevo player (http://caligraph.org/ontology/FK_Sarajevo_player)"
      ],
      "text/plain": [
       "<IPython.core.display.Markdown object>"
      ]
     },
     "metadata": {},
     "output_type": "display_data"
    },
    {
     "data": {
      "text/markdown": [
       "The entity \"FK Sarajevo player\" is a class within the ontology, specifically labeled as \"FK Sarajevo player\". It is a subclass of several other classes, including \"RestrictionHasValue_team_FK Sarajevo\", \"Footballer in Bosnia and Herzegovina\", and \"Association football player in Bosnia and Herzegovina\". This suggests that the class \"FK Sarajevo player\" is a specific type of football player who is associated with the team FK Sarajevo in Bosnia and Herzegovina. \n",
       "\n",
       "The information for this entity was derived from two Wikipedia pages: \"Category:FK Sarajevo players\" and \"List of FK Sarajevo players\". This suggests that the data for this class was gathered from these pages and includes all players listed there.\n",
       "\n",
       "Several individuals are classified under this entity, indicating that they are or were players for FK Sarajevo. These individuals include Branislav Arsenijević, Sead Jesenković, Darko Raca, Franjo Vuleta, Ibrahim Biogradlić, Vule Trivunović, Sretko Vuksanović, Vukašin Višnjevac, Marko Savić, Frank Liivak, Matej Kochan, Safet Nadarević, and Said Fazlagić. Each of these individuals is classified as an \"FK Sarajevo player\", reinforcing their association with this specific football team."
      ],
      "text/plain": [
       "<IPython.core.display.Markdown object>"
      ]
     },
     "metadata": {},
     "output_type": "display_data"
    },
    {
     "data": {
      "text/markdown": [
       "### Entity: Tino-Sven Sušić (http://caligraph.org/resource/Tino-Sven_Su%C5%A1i%C4%87)"
      ],
      "text/plain": [
       "<IPython.core.display.Markdown object>"
      ]
     },
     "metadata": {},
     "output_type": "display_data"
    },
    {
     "data": {
      "text/markdown": [
       "Tino-Sven Sušić is a Bosnian and Herzegovinian expatriate sportsperson who has played in the Netherlands, Austria, and Belgium. He is of Croatian and Bosniak descent and has also played for FC Urozhay Krasnodar and C.S. Visé. Born in 1992, Sušić was a player in the 2014 FIFA World Cup. He is an association football midfielder and has played in the Austrian Football Bundesliga, the Belgian First Division A, and the Croatian Football League. As a Belgian expatriate footballer, Sušić has been involved in Belgian football transfers in the summer of 2017 and 2018, as well as the winter of 2017-18. He has also played as a youth international footballer for Belgium."
      ],
      "text/plain": [
       "<IPython.core.display.Markdown object>"
      ]
     },
     "metadata": {},
     "output_type": "display_data"
    },
    {
     "data": {
      "text/markdown": [
       "### Classification: _negative_"
      ],
      "text/plain": [
       "<IPython.core.display.Markdown object>"
      ]
     },
     "metadata": {},
     "output_type": "display_data"
    },
    {
     "data": {
      "text/markdown": [
       "Based on the provided definition and information, there is no evidence to suggest that Tino-Sven Sušić is a FK Sarajevo player. The definition of an FK Sarajevo player is a football player who is associated with the team FK Sarajevo in Bosnia and Herzegovina. However, the information about Tino-Sven Sušić does not mention any association with FK Sarajevo. Therefore, based solely on the provided information, it cannot be asserted that Tino-Sven Sušić is a FK Sarajevo player."
      ],
      "text/plain": [
       "<IPython.core.display.Markdown object>"
      ]
     },
     "metadata": {},
     "output_type": "display_data"
    },
    {
     "data": {
      "text/markdown": [
       "## Is Anthony Blaylock an instance of Player of American football from Alabama?"
      ],
      "text/plain": [
       "<IPython.core.display.Markdown object>"
      ]
     },
     "metadata": {},
     "output_type": "display_data"
    },
    {
     "data": {
      "text/markdown": [
       "### Class: Player of American football from Alabama (http://caligraph.org/ontology/Player_of_American_football_from_Alabama)"
      ],
      "text/plain": [
       "<IPython.core.display.Markdown object>"
      ]
     },
     "metadata": {},
     "output_type": "display_data"
    },
    {
     "data": {
      "text/markdown": [
       "The entity \"Player of American football from Alabama\" is a class in the ontology. This class is a subclass of two other classes: \"American player of American football\" and \"American football person from Alabama\". The information about this class was derived from the Wikipedia page \"Category:Players_of_American_football_from_Alabama\". \n",
       "\n",
       "Several individuals are classified under this entity. These include Brendan Burgdorf, Anthony Redmon, Cadillac Williams, Casey Dunn, Chucky Mullins, Gordon Holmes, Richmond Flowers Jr., Sammie Coates, Vince Dooley, Ellis Lankster, J. D. McKissic, Richard Williamson, Tytus Howard, Henry Williams, and Jimmie Ward. These individuals are therefore recognized as players of American football who are from Alabama. This classification suggests that they have a connection to Alabama, likely by birth or residence, and have played American football at some level of competition."
      ],
      "text/plain": [
       "<IPython.core.display.Markdown object>"
      ]
     },
     "metadata": {},
     "output_type": "display_data"
    },
    {
     "data": {
      "text/markdown": [
       "### Entity: Anthony Blaylock (http://caligraph.org/resource/Anthony_Blaylock)"
      ],
      "text/plain": [
       "<IPython.core.display.Markdown object>"
      ]
     },
     "metadata": {},
     "output_type": "display_data"
    },
    {
     "data": {
      "text/markdown": [
       "Anthony Blaylock is a notable individual in the world of American football, specifically recognized as a cornerback. He was born in 1965 in Raleigh, North Carolina, and is known for his significant contributions to the sport. He has played for several teams in the National Football League (NFL), including the Chicago Bears, Cleveland Browns, and the San Diego Chargers. Prior to his professional career, he played football for the Winston-Salem State Rams. In the 1988 NFL draft, he was the 103rd pick in the 4th round. Despite his successful career, he has been diagnosed with chronic traumatic encephalopathy, a condition common among NFL players due to repeated head injuries. As of the latest data, Anthony Blaylock is still living."
      ],
      "text/plain": [
       "<IPython.core.display.Markdown object>"
      ]
     },
     "metadata": {},
     "output_type": "display_data"
    },
    {
     "data": {
      "text/markdown": [
       "### Classification: _negative_"
      ],
      "text/plain": [
       "<IPython.core.display.Markdown object>"
      ]
     },
     "metadata": {},
     "output_type": "display_data"
    },
    {
     "data": {
      "text/markdown": [
       "Based on the information provided in the definition, it cannot be argued that Anthony Blaylock is a Player of American football from Alabama. The definition states that a Player of American football from Alabama is a person who has a connection to Alabama, likely by birth or residence, and has played American football at some level of competition. However, the information about Anthony Blaylock does not indicate any connection to Alabama. He was born in Raleigh, North Carolina and there is no mention of him living or playing football in Alabama. Therefore, based on the provided information, Anthony Blaylock cannot be classified as a Player of American football from Alabama."
      ],
      "text/plain": [
       "<IPython.core.display.Markdown object>"
      ]
     },
     "metadata": {},
     "output_type": "display_data"
    },
    {
     "data": {
      "text/markdown": [
       "## Is Carlos Garaikoetxea an instance of Member of the European Parliament, 1989–1994?"
      ],
      "text/plain": [
       "<IPython.core.display.Markdown object>"
      ]
     },
     "metadata": {},
     "output_type": "display_data"
    },
    {
     "data": {
      "text/markdown": [
       "### Class: Member of the European Parliament, 1989–1994 (http://caligraph.org/ontology/Member_of_the_European_Parliament,_1989%E2%80%931994)"
      ],
      "text/plain": [
       "<IPython.core.display.Markdown object>"
      ]
     },
     "metadata": {},
     "output_type": "display_data"
    },
    {
     "data": {
      "text/markdown": [
       "The entity \"Member of the European Parliament, 1989–1994\" is a class in the ontology. It is a subclass of \"Member of the European Parliament 1989–1994\". The information about this class was derived from the Wikipedia page \"List of members of the European Parliament, 1989–1994\". \n",
       "\n",
       "This class includes individuals who served as members of the European Parliament between the years 1989 and 1994. Some notable members of this class include Arturo Juan Escuder Croft, Carlos María Bru Purón, Florus Wijsenbeek, Frédéric Rosmini, Nora Mebrak-Zaïdi, Marie-Christine Aulas, Eusebio Cano Pinto, José Manuel Torres Couto, Doris Pack, Jim Fitzsimons, Richard Simmonds, Robert Krieps, Fernando Gomes, Philippe Douste-Blazy, Francisco Sanz Fernández, and Johanna Grund. Each of these individuals is classified under the \"Member of the European Parliament, 1989–1994\" class in the ontology."
      ],
      "text/plain": [
       "<IPython.core.display.Markdown object>"
      ]
     },
     "metadata": {},
     "output_type": "display_data"
    },
    {
     "data": {
      "text/markdown": [
       "### Entity: Carlos Garaikoetxea (http://caligraph.org/resource/Carlos_Garaikoetxea)"
      ],
      "text/plain": [
       "<IPython.core.display.Markdown object>"
      ]
     },
     "metadata": {},
     "output_type": "display_data"
    },
    {
     "data": {
      "text/markdown": [
       "Carlos Garaikoetxea is a prominent political figure who was born in 1938 and is currently alive. He hails from Pamplona, Navarre, and is also associated with the Basque Country. Garaikoetxea has held significant roles in Spanish politics, including being a leader of political parties in Spain. He has been a member of the Eusko Alkartasuna Party and the Basque Nationalist Party, and has served as a Member of the European Parliament for Spain for three terms: from 1984 to 1989, 1987 to 1989, and 1989 to 1994. \n",
       "\n",
       "In addition to his roles in the European Parliament, Garaikoetxea has been a Member of the Basque Parliament for six terms, specifically during its 1st, 2nd, 3rd, 4th, 5th, and 6th terms. His political career also includes a tenure as the President of the Basque Government. His extensive political career and contributions make him a notable individual in Spanish politics."
      ],
      "text/plain": [
       "<IPython.core.display.Markdown object>"
      ]
     },
     "metadata": {},
     "output_type": "display_data"
    },
    {
     "data": {
      "text/markdown": [
       "### Classification: _positive_"
      ],
      "text/plain": [
       "<IPython.core.display.Markdown object>"
      ]
     },
     "metadata": {},
     "output_type": "display_data"
    },
    {
     "data": {
      "text/markdown": [
       "The definition of the class \"Member of the European Parliament, 1989–1994\" includes individuals who served as members of the European Parliament between the years 1989 and 1994. The description of the entity Carlos Garaikoetxea states that he served as a Member of the European Parliament for Spain during the term 1989 to 1994. Therefore, based on the provided definition and the information about Carlos Garaikoetxea, it can be argued that Carlos Garaikoetxea is a member of the class \"Member of the European Parliament, 1989–1994\"."
      ],
      "text/plain": [
       "<IPython.core.display.Markdown object>"
      ]
     },
     "metadata": {},
     "output_type": "display_data"
    },
    {
     "data": {
      "text/markdown": [
       "## Is AJ Ashikur Zaman an instance of Medalist at the 2019 Summer Universiade?"
      ],
      "text/plain": [
       "<IPython.core.display.Markdown object>"
      ]
     },
     "metadata": {},
     "output_type": "display_data"
    },
    {
     "data": {
      "text/markdown": [
       "### Class: Medalist at the 2019 Summer Universiade (http://caligraph.org/ontology/Medalist_at_the_2019_Summer_Universiade)"
      ],
      "text/plain": [
       "<IPython.core.display.Markdown object>"
      ]
     },
     "metadata": {},
     "output_type": "display_data"
    },
    {
     "data": {
      "text/markdown": [
       "The entity \"Medalist at the 2019 Summer Universiade\" is a class within the ontology of a knowledge graph. It is a subclass of the \"Athlete\" class, indicating that it represents a specific category of athletes. The creation of this class was inspired by the Wikipedia category \"Medalists at the 2019 Summer Universiade\". \n",
       "\n",
       "There are numerous individuals who are classified under this entity, signifying that they are athletes who have won a medal at the 2019 Summer Universiade. These individuals include Lauren Scherf, Ben Broeders, Lara McSpadden, Liveta Jasiūnaitė, Nana Adoma Owusu-Afriyie, Yann Randrianasolo, Dean Farris, Júlio Ferreira, Lee Pei-chi, Guillaume Bianchi, Yang Kun-pi, Alessia Russo (a gymnast), Renée Lucht, Sung Hyang-sim, Tang Chia-hung, and Yu Ziyang."
      ],
      "text/plain": [
       "<IPython.core.display.Markdown object>"
      ]
     },
     "metadata": {},
     "output_type": "display_data"
    },
    {
     "data": {
      "text/markdown": [
       "### Entity: AJ Ashikur Zaman (http://caligraph.org/resource/AJ%20Ashikur%20Zaman_(19503551))"
      ],
      "text/plain": [
       "<IPython.core.display.Markdown object>"
      ]
     },
     "metadata": {},
     "output_type": "display_data"
    },
    {
     "data": {
      "text/markdown": [
       "AJ Ashikur Zaman is a recognized individual, born in the 20th century, who is currently alive. He is classified as an athlete, with specific information about him being sourced from the 2022 ICC Under-19 Cricket World Cup squads and the Bangladesh national under-19 cricket team pages on Wikipedia."
      ],
      "text/plain": [
       "<IPython.core.display.Markdown object>"
      ]
     },
     "metadata": {},
     "output_type": "display_data"
    },
    {
     "data": {
      "text/markdown": [
       "### Classification: _negative_"
      ],
      "text/plain": [
       "<IPython.core.display.Markdown object>"
      ]
     },
     "metadata": {},
     "output_type": "display_data"
    },
    {
     "data": {
      "text/markdown": [
       "Based on the provided definition and information, there is no evidence to support the assertion that AJ Ashikur Zaman is a Medalist at the 2019 Summer Universiade. The information provided about AJ Ashikur Zaman indicates that he is an athlete and has participated in the 2022 ICC Under-19 Cricket World Cup, but there is no mention of him participating in or winning a medal at the 2019 Summer Universiade. Therefore, we cannot classify him as a Medalist at the 2019 Summer Universiade based solely on the provided information."
      ],
      "text/plain": [
       "<IPython.core.display.Markdown object>"
      ]
     },
     "metadata": {},
     "output_type": "display_data"
    },
    {
     "data": {
      "text/markdown": [
       "## Is The Coastal Views an instance of Newspaper in New South Wales?"
      ],
      "text/plain": [
       "<IPython.core.display.Markdown object>"
      ]
     },
     "metadata": {},
     "output_type": "display_data"
    },
    {
     "data": {
      "text/markdown": [
       "### Class: Newspaper in New South Wales (http://caligraph.org/ontology/Newspaper_in_New_South_Wales)"
      ],
      "text/plain": [
       "<IPython.core.display.Markdown object>"
      ]
     },
     "metadata": {},
     "output_type": "display_data"
    },
    {
     "data": {
      "text/markdown": [
       "The entity \"Newspaper in New South Wales\" is a class in the ontology. It is a subclass of the broader class \"Newspaper published in Australia\". The information about this class is derived from the Wikipedia page \"List of newspapers in New South Wales\". There are numerous resources that fall under this class. These include newspapers such as \"Imlay magnet\", \"Springwood Sentinel\", \"The Coastal Views\", \"The Gilgandra Weekly\", \"The Inverell Argus\", \"The St George Observer\", \"Duncan's weekly register of politics, facts and general literature\", \"Stageland\", \"The Moss Vale record\", \"Newcastle Star\", \"Tenterfield Intercolonial Courier and Fairfield and Wallangarra Advocate\", \"Moree Champion\", \"Dubbo\", \"Oceania (journal)\", \"The Mirror of Australia\", and \"The Northern Times\". Each of these resources is classified as a type of \"Newspaper in New South Wales\"."
      ],
      "text/plain": [
       "<IPython.core.display.Markdown object>"
      ]
     },
     "metadata": {},
     "output_type": "display_data"
    },
    {
     "data": {
      "text/markdown": [
       "### Entity: The Coastal Views (http://caligraph.org/resource/The%20Coastal%20Views_(19757798))"
      ],
      "text/plain": [
       "<IPython.core.display.Markdown object>"
      ]
     },
     "metadata": {},
     "output_type": "display_data"
    },
    {
     "data": {
      "text/markdown": [
       "\"The Coastal Views\" is a named individual, specifically identified as a newspaper in New South Wales, according to the Caligraph ontology. It is also known by the alternative label \"Coastal Views\". The entity is classified under the type \"Newspaper\" in the Caligraph resource. The information about \"The Coastal Views\" has been derived from two Wikipedia sources: \"Maclean, New South Wales\" and \"List of newspapers in New South Wales\"."
      ],
      "text/plain": [
       "<IPython.core.display.Markdown object>"
      ]
     },
     "metadata": {},
     "output_type": "display_data"
    },
    {
     "data": {
      "text/markdown": [
       "### Classification: _positive_"
      ],
      "text/plain": [
       "<IPython.core.display.Markdown object>"
      ]
     },
     "metadata": {},
     "output_type": "display_data"
    },
    {
     "data": {
      "text/markdown": [
       "The definition states that \"The Coastal Views\" is a named individual that is specifically identified as a newspaper in New South Wales, according to the Caligraph ontology. It is also mentioned in the list of resources that fall under the class \"Newspaper in New South Wales\". Therefore, based on the provided definition, it can be argued that \"The Coastal Views\" is a \"Newspaper in New South Wales\"."
      ],
      "text/plain": [
       "<IPython.core.display.Markdown object>"
      ]
     },
     "metadata": {},
     "output_type": "display_data"
    },
    {
     "data": {
      "text/markdown": [
       "## Is Iosif Nemes an instance of Romania international rugby union player?"
      ],
      "text/plain": [
       "<IPython.core.display.Markdown object>"
      ]
     },
     "metadata": {},
     "output_type": "display_data"
    },
    {
     "data": {
      "text/markdown": [
       "### Class: Romania international rugby union player (http://caligraph.org/ontology/Romania_international_rugby_union_player)"
      ],
      "text/plain": [
       "<IPython.core.display.Markdown object>"
      ]
     },
     "metadata": {},
     "output_type": "display_data"
    },
    {
     "data": {
      "text/markdown": [
       "The entity \"Romania international rugby union player\" is a class within an ontology. It is a subclass of two other classes: \"International rugby union player\" and \"Romanian rugby union player\". This information was derived from two Wikipedia sources: \"Category:Romania international rugby union players\" and \"List of Romania national rugby union players\". \n",
       "\n",
       "There are several individuals who are instances of this class, meaning they are identified as Romanian international rugby union players. These individuals include Bucur Alexandru Bucur, Ion Costea, Vladimir Vasile, M. Giucal, Gheorghe Manole, Sorin Fuicu, Vasile Nistor, George Pasache, Vasile Varga, Cătălin Nicolae, Piti (a footballer), Nicolae Răcean, Gabriel Rupanu, and Jody Rose."
      ],
      "text/plain": [
       "<IPython.core.display.Markdown object>"
      ]
     },
     "metadata": {},
     "output_type": "display_data"
    },
    {
     "data": {
      "text/markdown": [
       "### Entity: Iosif Nemes (http://caligraph.org/resource/Iosif_Nemes)"
      ],
      "text/plain": [
       "<IPython.core.display.Markdown object>"
      ]
     },
     "metadata": {},
     "output_type": "display_data"
    },
    {
     "data": {
      "text/markdown": [
       "Iosif Nemes is a recognized individual who was born in the year 1903. He is prominently known for his participation in the 1924 Summer Olympics where he won a bronze medal representing Romania in the sport of rugby union. His achievements have categorized him as a Romanian rugby union player and a participant in the rugby union at the 1924 Summer Olympics. He is also recognized as a medalist at the 1924 Summer Olympics. The information about Iosif Nemes has been derived from various categories on Wikipedia, including \"Olympic rugby union players of Romania\", \"Romanian rugby union players\", \"Rugby union players at the 1924 Summer Olympics\", \"1903 births\", \"Medalists at the 1924 Summer Olympics\", and \"Olympic bronze medalists for Romania\". He is also identified as Iosif Nemes in the DBpedia resource."
      ],
      "text/plain": [
       "<IPython.core.display.Markdown object>"
      ]
     },
     "metadata": {},
     "output_type": "display_data"
    },
    {
     "data": {
      "text/markdown": [
       "### Classification: _positive_"
      ],
      "text/plain": [
       "<IPython.core.display.Markdown object>"
      ]
     },
     "metadata": {},
     "output_type": "display_data"
    },
    {
     "data": {
      "text/markdown": [
       "Based on the provided definition, a Romania international rugby union player is an individual who is recognized as a Romanian rugby union player and has represented Romania in international rugby union games. Iosif Nemes is identified as a Romanian rugby union player, as he has participated in the sport of rugby union representing Romania. His participation in the 1924 Summer Olympics, an international sporting event, further supports this assertion. Therefore, using the information provided in the definition, it can be argued that Iosif Nemes is a Romania international rugby union player."
      ],
      "text/plain": [
       "<IPython.core.display.Markdown object>"
      ]
     },
     "metadata": {},
     "output_type": "display_data"
    },
    {
     "data": {
      "text/markdown": [
       "## Is Paul Nedelcovici an instance of Romania international rugby union player?"
      ],
      "text/plain": [
       "<IPython.core.display.Markdown object>"
      ]
     },
     "metadata": {},
     "output_type": "display_data"
    },
    {
     "data": {
      "text/markdown": [
       "### Class: Romania international rugby union player (http://caligraph.org/ontology/Romania_international_rugby_union_player)"
      ],
      "text/plain": [
       "<IPython.core.display.Markdown object>"
      ]
     },
     "metadata": {},
     "output_type": "display_data"
    },
    {
     "data": {
      "text/markdown": [
       "The entity \"Romania international rugby union player\" is a class within an ontology. It is a subclass of two other classes: \"International rugby union player\" and \"Romanian rugby union player\". This information was derived from two Wikipedia sources: \"Category:Romania international rugby union players\" and \"List of Romania national rugby union players\". \n",
       "\n",
       "There are several individuals who are instances of this class, meaning they are identified as Romanian international rugby union players. These individuals include Bucur Alexandru Bucur, Ion Costea, Vladimir Vasile, M. Giucal, Gheorghe Manole, Sorin Fuicu, Vasile Nistor, George Pasache, Vasile Varga, Cătălin Nicolae, Piti (a footballer), Nicolae Răcean, Gabriel Rupanu, and Jody Rose."
      ],
      "text/plain": [
       "<IPython.core.display.Markdown object>"
      ]
     },
     "metadata": {},
     "output_type": "display_data"
    },
    {
     "data": {
      "text/markdown": [
       "### Entity: Paul Nedelcovici (http://caligraph.org/resource/Paul_Nedelcovici)"
      ],
      "text/plain": [
       "<IPython.core.display.Markdown object>"
      ]
     },
     "metadata": {},
     "output_type": "display_data"
    },
    {
     "data": {
      "text/markdown": [
       "Paul Nedelcovici is a notable individual who was born in the year 1899. He is recognized for his achievements in the sport of rugby union, particularly for his participation in the 1924 Summer Olympics where he won a bronze medal representing Romania. His role as a rugby union player for Romania in the Olympics has led to his categorization as a Romanian rugby union player. Furthermore, he is specifically identified as a rugby union player who participated in the 1924 Summer Olympics. Information about Paul Nedelcovici has been sourced from various Wikipedia pages, including those dedicated to Olympic rugby union players of Romania, Romanian rugby union players, participants in the 1924 Summer Olympics, individuals born in 1899, medalists at the 1924 Summer Olympics, Olympic bronze medalists for Romania, the Romanian Football Federation, and the Romanian Rugby Federation."
      ],
      "text/plain": [
       "<IPython.core.display.Markdown object>"
      ]
     },
     "metadata": {},
     "output_type": "display_data"
    },
    {
     "data": {
      "text/markdown": [
       "### Classification: _positive_"
      ],
      "text/plain": [
       "<IPython.core.display.Markdown object>"
      ]
     },
     "metadata": {},
     "output_type": "display_data"
    },
    {
     "data": {
      "text/markdown": [
       "Based on the provided definition, a Romania international rugby union player is a rugby union player from Romania who has represented the country in international competitions. Paul Nedelcovici fits this definition as he is a Romanian rugby union player who represented Romania in the 1924 Summer Olympics, an international competition. Therefore, it can be argued that Paul Nedelcovici is a Romania international rugby union player."
      ],
      "text/plain": [
       "<IPython.core.display.Markdown object>"
      ]
     },
     "metadata": {},
     "output_type": "display_data"
    }
   ],
   "source": [
    "survey_trials = agreements[:10] + disagreements[:10]\n",
    "random.shuffle(survey_trials)\n",
    "for trial in survey_trials:\n",
    "    display_trial(trial)"
   ]
  }
 ],
 "metadata": {
  "kernelspec": {
   "display_name": "conceptual-engineering-using-llms",
   "language": "python",
   "name": "python3"
  },
  "language_info": {
   "codemirror_mode": {
    "name": "ipython",
    "version": 3
   },
   "file_extension": ".py",
   "mimetype": "text/x-python",
   "name": "python",
   "nbconvert_exporter": "python",
   "pygments_lexer": "ipython3",
   "version": "3.11.4"
  },
  "orig_nbformat": 4
 },
 "nbformat": 4,
 "nbformat_minor": 2
}
