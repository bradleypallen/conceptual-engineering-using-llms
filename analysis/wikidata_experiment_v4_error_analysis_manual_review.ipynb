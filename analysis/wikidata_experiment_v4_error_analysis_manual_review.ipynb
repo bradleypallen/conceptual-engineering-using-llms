{
 "cells": [
  {
   "cell_type": "code",
   "execution_count": 1,
   "metadata": {},
   "outputs": [],
   "source": [
    "import json, pandas as pd"
   ]
  },
  {
   "cell_type": "code",
   "execution_count": 2,
   "metadata": {},
   "outputs": [],
   "source": [
    "experiments = [ experiment for experiment in json.load(open('../experiments/caligraph_gpt-3.5-turbo_serialization_results.json', 'r')) if \"confusion_matrix\" in experiment ]"
   ]
  },
  {
   "cell_type": "code",
   "execution_count": 27,
   "metadata": {},
   "outputs": [],
   "source": [
    "def experiment_df(experiment):\n",
    "    df = pd.DataFrame.from_records(experiment['data'])\n",
    "    df[\"class_id\"] = experiment['concept']['id']\n",
    "    df[\"class_label\"] = experiment['concept']['label']\n",
    "    df[\"class_serialization\"] = experiment['concept']['serialization']\n",
    "    return df[[\"class_id\", \"class_label\", \"class_serialization\", \"id\", \"label\", \"serialization\", \"actual\", \"predicted\", \"rationale\"]]"
   ]
  },
  {
   "cell_type": "code",
   "execution_count": 32,
   "metadata": {},
   "outputs": [],
   "source": [
    "df = pd.concat([ experiment_df(experiment) for experiment in experiments ], ignore_index=True)\n",
    "df_fp = df[((df[\"actual\"] == 'negative') & (df[\"predicted\"] == 'positive'))].reset_index()\n",
    "df_fn = df[((df[\"actual\"] == 'positive') & (df[\"predicted\"] == 'negative'))].reset_index()"
   ]
  },
  {
   "cell_type": "code",
   "execution_count": 33,
   "metadata": {},
   "outputs": [],
   "source": [
    "df_fp.to_csv('caligraph_serialization_FPs.csv')\n",
    "df_fn.to_csv('caligraph_serialization_FNs.csv')"
   ]
  }
 ],
 "metadata": {
  "kernelspec": {
   "display_name": "conceptual-engineering-using-llms",
   "language": "python",
   "name": "python3"
  },
  "language_info": {
   "codemirror_mode": {
    "name": "ipython",
    "version": 3
   },
   "file_extension": ".py",
   "mimetype": "text/x-python",
   "name": "python",
   "nbconvert_exporter": "python",
   "pygments_lexer": "ipython3",
   "version": "3.11.4"
  },
  "orig_nbformat": 4
 },
 "nbformat": 4,
 "nbformat_minor": 2
}
