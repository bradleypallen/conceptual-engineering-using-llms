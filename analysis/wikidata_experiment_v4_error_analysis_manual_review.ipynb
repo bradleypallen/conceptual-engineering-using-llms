{
 "cells": [
  {
   "cell_type": "code",
   "execution_count": 1,
   "metadata": {},
   "outputs": [],
   "source": [
    "import json, pandas as pd"
   ]
  },
  {
   "cell_type": "code",
   "execution_count": 2,
   "metadata": {},
   "outputs": [],
   "source": [
    "experiments = [ experiment for experiment in json.load(open('../experiments/wd_gpt-4_serialization_from_wikidata_results.json', 'r')) if \"confusion_matrix\" in experiment ]"
   ]
  },
  {
   "cell_type": "code",
   "execution_count": 3,
   "metadata": {},
   "outputs": [],
   "source": [
    "def experiment_df(experiment):\n",
    "    df = pd.DataFrame.from_records(experiment['data'])\n",
    "    df[\"class_id\"] = experiment['concept']['id']\n",
    "    df[\"class_label\"] = experiment['concept']['label']\n",
    "    df[\"class_serialization\"] = experiment['concept']['serialization']\n",
    "    return df[[\"class_id\", \"class_label\", \"class_serialization\", \"id\", \"label\", \"serialization\", \"actual\", \"predicted\", \"rationale\"]]"
   ]
  },
  {
   "cell_type": "code",
   "execution_count": 4,
   "metadata": {},
   "outputs": [],
   "source": [
    "df = pd.concat([ experiment_df(experiment) for experiment in experiments ], ignore_index=True)\n",
    "df_fp = df[((df[\"actual\"] == 'negative') & (df[\"predicted\"] == 'positive'))].reset_index()\n",
    "df_fn = df[((df[\"actual\"] == 'positive') & (df[\"predicted\"] == 'negative'))].reset_index()"
   ]
  },
  {
   "cell_type": "code",
   "execution_count": 5,
   "metadata": {},
   "outputs": [],
   "source": [
    "df_fp.to_csv('wikidata_gpt-4_serialization_FPs.csv')\n",
    "df_fn.to_csv('wikidata_gpt-4_serialization_FNs.csv')"
   ]
  },
  {
   "cell_type": "code",
   "execution_count": 6,
   "metadata": {},
   "outputs": [
    {
     "data": {
      "text/plain": [
       "22"
      ]
     },
     "execution_count": 6,
     "metadata": {},
     "output_type": "execute_result"
    }
   ],
   "source": [
    "len(df_fp)"
   ]
  },
  {
   "cell_type": "code",
   "execution_count": 7,
   "metadata": {},
   "outputs": [
    {
     "data": {
      "text/plain": [
       "120"
      ]
     },
     "execution_count": 7,
     "metadata": {},
     "output_type": "execute_result"
    }
   ],
   "source": [
    "len(df_fn)"
   ]
  },
  {
   "cell_type": "code",
   "execution_count": 8,
   "metadata": {},
   "outputs": [],
   "source": [
    "df_fp_reviewed = pd.read_csv(open('wikidata_gpt-4_serialization_FPs_reviewed.csv', 'r'))\n",
    "df_fn_reviewed = pd.read_csv(open('wikidata_gpt-4_serialization_FNs_reviewed.csv', 'r'))\n",
    "df_reviewed = pd.concat([df_fp_reviewed, df_fn_reviewed], ignore_index=True)"
   ]
  },
  {
   "cell_type": "code",
   "execution_count": 9,
   "metadata": {},
   "outputs": [
    {
     "data": {
      "text/plain": [
       "142"
      ]
     },
     "execution_count": 9,
     "metadata": {},
     "output_type": "execute_result"
    }
   ],
   "source": [
    "len(df_reviewed)"
   ]
  },
  {
   "cell_type": "code",
   "execution_count": 10,
   "metadata": {},
   "outputs": [
    {
     "data": {
      "text/html": [
       "<div>\n",
       "<style scoped>\n",
       "    .dataframe tbody tr th:only-of-type {\n",
       "        vertical-align: middle;\n",
       "    }\n",
       "\n",
       "    .dataframe tbody tr th {\n",
       "        vertical-align: top;\n",
       "    }\n",
       "\n",
       "    .dataframe thead th {\n",
       "        text-align: right;\n",
       "    }\n",
       "</style>\n",
       "<table border=\"1\" class=\"dataframe\">\n",
       "  <thead>\n",
       "    <tr style=\"text-align: right;\">\n",
       "      <th></th>\n",
       "      <th>class_id</th>\n",
       "      <th>class_label</th>\n",
       "      <th>class_serialization</th>\n",
       "      <th>id</th>\n",
       "      <th>label</th>\n",
       "      <th>serialization</th>\n",
       "      <th>actual</th>\n",
       "      <th>predicted</th>\n",
       "      <th>rationale</th>\n",
       "      <th>review</th>\n",
       "      <th>rationale sound</th>\n",
       "    </tr>\n",
       "  </thead>\n",
       "  <tbody>\n",
       "    <tr>\n",
       "      <th>0</th>\n",
       "      <td>http://www.wikidata.org/entity/Q30324006</td>\n",
       "      <td>History of cities</td>\n",
       "      <td>&lt;http://www.wikidata.org/entity/Q30324006&gt;\\t&lt;h...</td>\n",
       "      <td>http://www.wikidata.org/entity/Q1025460</td>\n",
       "      <td>Caesaromagus</td>\n",
       "      <td>&lt;http://www.wikidata.org/entity/Q1025460&gt;\\t&lt;ht...</td>\n",
       "      <td>negative</td>\n",
       "      <td>positive</td>\n",
       "      <td>Caesaromagus, as a Roman settlement in Beauvai...</td>\n",
       "      <td>LM in error</td>\n",
       "      <td>no</td>\n",
       "    </tr>\n",
       "    <tr>\n",
       "      <th>1</th>\n",
       "      <td>http://www.wikidata.org/entity/Q30324006</td>\n",
       "      <td>History of cities</td>\n",
       "      <td>&lt;http://www.wikidata.org/entity/Q30324006&gt;\\t&lt;h...</td>\n",
       "      <td>http://www.wikidata.org/entity/Q2914723</td>\n",
       "      <td>Nemausus</td>\n",
       "      <td>&lt;http://www.wikidata.org/entity/Q2914723&gt;\\t&lt;ht...</td>\n",
       "      <td>negative</td>\n",
       "      <td>positive</td>\n",
       "      <td>The concept \"History of cities\" refers to the ...</td>\n",
       "      <td>LM in error</td>\n",
       "      <td>no</td>\n",
       "    </tr>\n",
       "    <tr>\n",
       "      <th>2</th>\n",
       "      <td>http://www.wikidata.org/entity/Q30324006</td>\n",
       "      <td>History of cities</td>\n",
       "      <td>&lt;http://www.wikidata.org/entity/Q30324006&gt;\\t&lt;h...</td>\n",
       "      <td>http://www.wikidata.org/entity/Q2932881</td>\n",
       "      <td>Caesarodunum</td>\n",
       "      <td>&lt;http://www.wikidata.org/entity/Q2932881&gt;\\t&lt;ht...</td>\n",
       "      <td>negative</td>\n",
       "      <td>positive</td>\n",
       "      <td>Caesarodunum, as an entity, could be considere...</td>\n",
       "      <td>LM in error</td>\n",
       "      <td>no</td>\n",
       "    </tr>\n",
       "  </tbody>\n",
       "</table>\n",
       "</div>"
      ],
      "text/plain": [
       "                                   class_id        class_label  \\\n",
       "0  http://www.wikidata.org/entity/Q30324006  History of cities   \n",
       "1  http://www.wikidata.org/entity/Q30324006  History of cities   \n",
       "2  http://www.wikidata.org/entity/Q30324006  History of cities   \n",
       "\n",
       "                                 class_serialization  \\\n",
       "0  <http://www.wikidata.org/entity/Q30324006>\\t<h...   \n",
       "1  <http://www.wikidata.org/entity/Q30324006>\\t<h...   \n",
       "2  <http://www.wikidata.org/entity/Q30324006>\\t<h...   \n",
       "\n",
       "                                        id         label  \\\n",
       "0  http://www.wikidata.org/entity/Q1025460  Caesaromagus   \n",
       "1  http://www.wikidata.org/entity/Q2914723      Nemausus   \n",
       "2  http://www.wikidata.org/entity/Q2932881  Caesarodunum   \n",
       "\n",
       "                                       serialization    actual predicted  \\\n",
       "0  <http://www.wikidata.org/entity/Q1025460>\\t<ht...  negative  positive   \n",
       "1  <http://www.wikidata.org/entity/Q2914723>\\t<ht...  negative  positive   \n",
       "2  <http://www.wikidata.org/entity/Q2932881>\\t<ht...  negative  positive   \n",
       "\n",
       "                                           rationale       review  \\\n",
       "0  Caesaromagus, as a Roman settlement in Beauvai...  LM in error   \n",
       "1  The concept \"History of cities\" refers to the ...  LM in error   \n",
       "2  Caesarodunum, as an entity, could be considere...  LM in error   \n",
       "\n",
       "  rationale sound  \n",
       "0              no  \n",
       "1              no  \n",
       "2              no  "
      ]
     },
     "execution_count": 10,
     "metadata": {},
     "output_type": "execute_result"
    }
   ],
   "source": [
    "df_reviewed.head(3)"
   ]
  },
  {
   "cell_type": "code",
   "execution_count": 11,
   "metadata": {},
   "outputs": [
    {
     "data": {
      "text/plain": [
       "120"
      ]
     },
     "execution_count": 11,
     "metadata": {},
     "output_type": "execute_result"
    }
   ],
   "source": [
    "len(df_reviewed[(df_reviewed['actual'] == 'positive') & \n",
    "                (df_reviewed['predicted'] == 'negative')])"
   ]
  },
  {
   "cell_type": "code",
   "execution_count": 12,
   "metadata": {},
   "outputs": [
    {
     "data": {
      "text/plain": [
       "38"
      ]
     },
     "execution_count": 12,
     "metadata": {},
     "output_type": "execute_result"
    }
   ],
   "source": [
    "len(df_reviewed[(df_reviewed['review'] == 'KG in error') & \n",
    "                (df_reviewed['actual'] == 'positive') & \n",
    "                (df_reviewed['predicted'] == 'negative')])"
   ]
  },
  {
   "cell_type": "code",
   "execution_count": 13,
   "metadata": {},
   "outputs": [
    {
     "data": {
      "text/plain": [
       "22"
      ]
     },
     "execution_count": 13,
     "metadata": {},
     "output_type": "execute_result"
    }
   ],
   "source": [
    "len(df_reviewed[(df_reviewed['actual'] == 'negative') & \n",
    "                (df_reviewed['predicted'] == 'positive')])"
   ]
  },
  {
   "cell_type": "code",
   "execution_count": 14,
   "metadata": {},
   "outputs": [
    {
     "data": {
      "text/plain": [
       "13"
      ]
     },
     "execution_count": 14,
     "metadata": {},
     "output_type": "execute_result"
    }
   ],
   "source": [
    "len(df_reviewed[(df_reviewed['review'] == 'KG in error') & \n",
    "                (df_reviewed['actual'] == 'negative') & \n",
    "                (df_reviewed['predicted'] == 'positive')])"
   ]
  },
  {
   "cell_type": "code",
   "execution_count": null,
   "metadata": {},
   "outputs": [],
   "source": []
  }
 ],
 "metadata": {
  "kernelspec": {
   "display_name": "conceptual-engineering-using-llms",
   "language": "python",
   "name": "python3"
  },
  "language_info": {
   "codemirror_mode": {
    "name": "ipython",
    "version": 3
   },
   "file_extension": ".py",
   "mimetype": "text/x-python",
   "name": "python",
   "nbconvert_exporter": "python",
   "pygments_lexer": "ipython3",
   "version": "3.11.4"
  },
  "orig_nbformat": 4
 },
 "nbformat": 4,
 "nbformat_minor": 2
}
