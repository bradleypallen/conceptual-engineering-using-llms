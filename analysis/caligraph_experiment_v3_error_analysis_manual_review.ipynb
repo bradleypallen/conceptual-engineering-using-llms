{
 "cells": [
  {
   "cell_type": "code",
   "execution_count": 1,
   "metadata": {},
   "outputs": [],
   "source": [
    "import json, pandas as pd"
   ]
  },
  {
   "cell_type": "code",
   "execution_count": 2,
   "metadata": {},
   "outputs": [],
   "source": [
    "experiments = [ experiment for experiment in json.load(open('../experiments/caligraph_gpt-4_serialization_results.json', 'r')) if \"confusion_matrix\" in experiment ]"
   ]
  },
  {
   "cell_type": "code",
   "execution_count": 3,
   "metadata": {},
   "outputs": [],
   "source": [
    "def experiment_df(experiment):\n",
    "    df = pd.DataFrame.from_records(experiment['data'])\n",
    "    df[\"class_id\"] = experiment['concept']['id']\n",
    "    df[\"class_label\"] = experiment['concept']['label']\n",
    "    df[\"class_serialization\"] = experiment['concept']['serialization']\n",
    "    return df[[\"class_id\", \"class_label\", \"class_serialization\", \"id\", \"label\", \"serialization\", \"actual\", \"predicted\", \"rationale\"]]"
   ]
  },
  {
   "cell_type": "code",
   "execution_count": 4,
   "metadata": {},
   "outputs": [],
   "source": [
    "df = pd.concat([ experiment_df(experiment) for experiment in experiments ], ignore_index=True)\n",
    "df_fp = df[((df[\"actual\"] == 'negative') & (df[\"predicted\"] == 'positive'))].reset_index()\n",
    "df_fn = df[((df[\"actual\"] == 'positive') & (df[\"predicted\"] == 'negative'))].reset_index()"
   ]
  },
  {
   "cell_type": "code",
   "execution_count": 5,
   "metadata": {},
   "outputs": [],
   "source": [
    "df_fp.to_csv('caligraph_gpt-4_serialization_FPs.csv')\n",
    "df_fn.to_csv('caligraph_gpt-4_serialization_FNs.csv')"
   ]
  },
  {
   "cell_type": "code",
   "execution_count": 6,
   "metadata": {},
   "outputs": [
    {
     "data": {
      "text/plain": [
       "22"
      ]
     },
     "execution_count": 6,
     "metadata": {},
     "output_type": "execute_result"
    }
   ],
   "source": [
    "len(df_fp)"
   ]
  },
  {
   "cell_type": "code",
   "execution_count": 7,
   "metadata": {},
   "outputs": [
    {
     "data": {
      "text/plain": [
       "18"
      ]
     },
     "execution_count": 7,
     "metadata": {},
     "output_type": "execute_result"
    }
   ],
   "source": [
    "len(df_fn)"
   ]
  },
  {
   "cell_type": "code",
   "execution_count": 8,
   "metadata": {},
   "outputs": [],
   "source": [
    "df_fp_reviewed = pd.read_csv(open('caligraph_gpt-4_serialization_FPs_reviewed.csv', 'r'))\n",
    "df_fn_reviewed = pd.read_csv(open('caligraph_gpt-4_serialization_FNs_reviewed.csv', 'r'))\n",
    "df_reviewed = pd.concat([df_fp_reviewed, df_fn_reviewed], ignore_index=True)"
   ]
  },
  {
   "cell_type": "code",
   "execution_count": 9,
   "metadata": {},
   "outputs": [
    {
     "data": {
      "text/plain": [
       "40"
      ]
     },
     "execution_count": 9,
     "metadata": {},
     "output_type": "execute_result"
    }
   ],
   "source": [
    "len(df_reviewed)"
   ]
  },
  {
   "cell_type": "code",
   "execution_count": 10,
   "metadata": {},
   "outputs": [
    {
     "data": {
      "text/html": [
       "<div>\n",
       "<style scoped>\n",
       "    .dataframe tbody tr th:only-of-type {\n",
       "        vertical-align: middle;\n",
       "    }\n",
       "\n",
       "    .dataframe tbody tr th {\n",
       "        vertical-align: top;\n",
       "    }\n",
       "\n",
       "    .dataframe thead th {\n",
       "        text-align: right;\n",
       "    }\n",
       "</style>\n",
       "<table border=\"1\" class=\"dataframe\">\n",
       "  <thead>\n",
       "    <tr style=\"text-align: right;\">\n",
       "      <th></th>\n",
       "      <th>class_id</th>\n",
       "      <th>class_label</th>\n",
       "      <th>class_serialization</th>\n",
       "      <th>id</th>\n",
       "      <th>label</th>\n",
       "      <th>serialization</th>\n",
       "      <th>actual</th>\n",
       "      <th>predicted</th>\n",
       "      <th>rationale</th>\n",
       "      <th>review</th>\n",
       "      <th>rationale sound</th>\n",
       "    </tr>\n",
       "  </thead>\n",
       "  <tbody>\n",
       "    <tr>\n",
       "      <th>0</th>\n",
       "      <td>http://caligraph.org/ontology/Argentine_footba...</td>\n",
       "      <td>Argentine football manager</td>\n",
       "      <td>\"http://caligraph.org/ontology/Argentine_footb...</td>\n",
       "      <td>http://caligraph.org/resource/H%C3%A9ctor_Gabr...</td>\n",
       "      <td>Héctor Gabriel Morales</td>\n",
       "      <td>\"http://caligraph.org/resource/H%C3%A9ctor_Gab...</td>\n",
       "      <td>negative</td>\n",
       "      <td>positive</td>\n",
       "      <td>Héctor Gabriel Morales is classified under the...</td>\n",
       "      <td>KG in error</td>\n",
       "      <td>yes</td>\n",
       "    </tr>\n",
       "    <tr>\n",
       "      <th>1</th>\n",
       "      <td>http://caligraph.org/ontology/Newspaper_in_New...</td>\n",
       "      <td>Newspaper in New South Wales</td>\n",
       "      <td>\"http://caligraph.org/ontology/Newspaper_in_Ne...</td>\n",
       "      <td>http://caligraph.org/resource/Parramatta_Adver...</td>\n",
       "      <td>Parramatta Advertiser</td>\n",
       "      <td>\"http://caligraph.org/resource/Parramatta_Adve...</td>\n",
       "      <td>negative</td>\n",
       "      <td>positive</td>\n",
       "      <td>The Parramatta Advertiser is classified as a \"...</td>\n",
       "      <td>KG in error</td>\n",
       "      <td>yes</td>\n",
       "    </tr>\n",
       "    <tr>\n",
       "      <th>2</th>\n",
       "      <td>http://caligraph.org/ontology/Newspaper_in_New...</td>\n",
       "      <td>Newspaper in New South Wales</td>\n",
       "      <td>\"http://caligraph.org/ontology/Newspaper_in_Ne...</td>\n",
       "      <td>http://caligraph.org/resource/The_Free_Thought</td>\n",
       "      <td>The Free Thought</td>\n",
       "      <td>\"http://caligraph.org/resource/The_Free_Though...</td>\n",
       "      <td>negative</td>\n",
       "      <td>positive</td>\n",
       "      <td>The Free Thought is classified as a \"Newspaper...</td>\n",
       "      <td>KG in error</td>\n",
       "      <td>yes</td>\n",
       "    </tr>\n",
       "  </tbody>\n",
       "</table>\n",
       "</div>"
      ],
      "text/plain": [
       "                                            class_id  \\\n",
       "0  http://caligraph.org/ontology/Argentine_footba...   \n",
       "1  http://caligraph.org/ontology/Newspaper_in_New...   \n",
       "2  http://caligraph.org/ontology/Newspaper_in_New...   \n",
       "\n",
       "                    class_label  \\\n",
       "0    Argentine football manager   \n",
       "1  Newspaper in New South Wales   \n",
       "2  Newspaper in New South Wales   \n",
       "\n",
       "                                 class_serialization  \\\n",
       "0  \"http://caligraph.org/ontology/Argentine_footb...   \n",
       "1  \"http://caligraph.org/ontology/Newspaper_in_Ne...   \n",
       "2  \"http://caligraph.org/ontology/Newspaper_in_Ne...   \n",
       "\n",
       "                                                  id                   label  \\\n",
       "0  http://caligraph.org/resource/H%C3%A9ctor_Gabr...  Héctor Gabriel Morales   \n",
       "1  http://caligraph.org/resource/Parramatta_Adver...   Parramatta Advertiser   \n",
       "2     http://caligraph.org/resource/The_Free_Thought        The Free Thought   \n",
       "\n",
       "                                       serialization    actual predicted  \\\n",
       "0  \"http://caligraph.org/resource/H%C3%A9ctor_Gab...  negative  positive   \n",
       "1  \"http://caligraph.org/resource/Parramatta_Adve...  negative  positive   \n",
       "2  \"http://caligraph.org/resource/The_Free_Though...  negative  positive   \n",
       "\n",
       "                                           rationale       review  \\\n",
       "0  Héctor Gabriel Morales is classified under the...  KG in error   \n",
       "1  The Parramatta Advertiser is classified as a \"...  KG in error   \n",
       "2  The Free Thought is classified as a \"Newspaper...  KG in error   \n",
       "\n",
       "  rationale sound  \n",
       "0             yes  \n",
       "1             yes  \n",
       "2             yes  "
      ]
     },
     "execution_count": 10,
     "metadata": {},
     "output_type": "execute_result"
    }
   ],
   "source": [
    "df_reviewed.head(3)"
   ]
  },
  {
   "cell_type": "code",
   "execution_count": 11,
   "metadata": {},
   "outputs": [
    {
     "data": {
      "text/plain": [
       "18"
      ]
     },
     "execution_count": 11,
     "metadata": {},
     "output_type": "execute_result"
    }
   ],
   "source": [
    "len(df_reviewed[(df_reviewed['actual'] == 'positive') & \n",
    "                (df_reviewed['predicted'] == 'negative')])"
   ]
  },
  {
   "cell_type": "code",
   "execution_count": 15,
   "metadata": {},
   "outputs": [
    {
     "data": {
      "text/plain": [
       "1"
      ]
     },
     "execution_count": 15,
     "metadata": {},
     "output_type": "execute_result"
    }
   ],
   "source": [
    "len(df_reviewed[(df_reviewed['review'] == 'KG in error') & \n",
    "                (df_reviewed['actual'] == 'positive') & \n",
    "                (df_reviewed['predicted'] == 'negative')])"
   ]
  },
  {
   "cell_type": "code",
   "execution_count": 13,
   "metadata": {},
   "outputs": [
    {
     "data": {
      "text/plain": [
       "22"
      ]
     },
     "execution_count": 13,
     "metadata": {},
     "output_type": "execute_result"
    }
   ],
   "source": [
    "len(df_reviewed[(df_reviewed['actual'] == 'negative') & \n",
    "                (df_reviewed['predicted'] == 'positive')])"
   ]
  },
  {
   "cell_type": "code",
   "execution_count": 16,
   "metadata": {},
   "outputs": [
    {
     "data": {
      "text/plain": [
       "22"
      ]
     },
     "execution_count": 16,
     "metadata": {},
     "output_type": "execute_result"
    }
   ],
   "source": [
    "len(df_reviewed[(df_reviewed['review'] == 'KG in error') & \n",
    "                (df_reviewed['actual'] == 'negative') & \n",
    "                (df_reviewed['predicted'] == 'positive')])"
   ]
  },
  {
   "cell_type": "code",
   "execution_count": 17,
   "metadata": {},
   "outputs": [
    {
     "data": {
      "text/plain": [
       "0.2826086956521739"
      ]
     },
     "execution_count": 17,
     "metadata": {},
     "output_type": "execute_result"
    }
   ],
   "source": [
    "39./138."
   ]
  },
  {
   "cell_type": "code",
   "execution_count": 18,
   "metadata": {},
   "outputs": [
    {
     "data": {
      "text/plain": [
       "0.7954545454545454"
      ]
     },
     "execution_count": 18,
     "metadata": {},
     "output_type": "execute_result"
    }
   ],
   "source": [
    "35./44."
   ]
  },
  {
   "cell_type": "code",
   "execution_count": null,
   "metadata": {},
   "outputs": [],
   "source": []
  }
 ],
 "metadata": {
  "kernelspec": {
   "display_name": "conceptual-engineering-using-llms",
   "language": "python",
   "name": "python3"
  },
  "language_info": {
   "codemirror_mode": {
    "name": "ipython",
    "version": 3
   },
   "file_extension": ".py",
   "mimetype": "text/x-python",
   "name": "python",
   "nbconvert_exporter": "python",
   "pygments_lexer": "ipython3",
   "version": "3.11.4"
  },
  "orig_nbformat": 4
 },
 "nbformat": 4,
 "nbformat_minor": 2
}
