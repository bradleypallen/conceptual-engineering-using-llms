{
 "cells": [
  {
   "cell_type": "code",
   "execution_count": 1,
   "metadata": {},
   "outputs": [],
   "source": [
    "import json, requests, time, pandas as pd\n",
    "from string import Template"
   ]
  },
  {
   "cell_type": "code",
   "execution_count": 2,
   "metadata": {},
   "outputs": [],
   "source": [
    "WIKIDATA_ENDPOINT = 'https://query.wikidata.org/sparql'\n",
    "\n",
    "QUERY_HEADERS = {\n",
    "    'User-Agent': 'ConceptualEngineeringBot/0.1 (https://github.com/bradleypallen/conceptual-engineering-using-llms; bradley.p.allen@gmail.com)'\n",
    "}\n",
    "\n",
    "CLASS_QUERY = \"\"\"SELECT ?class ?classLabel ?classDescription ?classWikipediaName ?classArticle ?superclass ?superclassLabel ?superclassDescription ?superclassWikipediaName ?superclassArticle WHERE {\n",
    "    ?class wdt:P279 ?superclass ;\n",
    "              rdfs:label ?classLabel ;\n",
    "              schema:description ?classDescription .\n",
    "    ?superclass rdfs:label ?superclassLabel ;\n",
    "              schema:description ?superclassDescription .\n",
    "    ?classArticle schema:about ?class ;\n",
    "            schema:inLanguage \"en\" ;\n",
    "            schema:isPartOf <https://en.wikipedia.org/> ;\n",
    "            schema:name ?classWikipediaName .\n",
    "    ?superclassArticle schema:about ?superclass ;\n",
    "            schema:inLanguage \"en\" ;\n",
    "            schema:isPartOf <https://en.wikipedia.org/> ;\n",
    "            schema:name ?superclassWikipediaName .\n",
    "    FILTER(LANG(?classLabel) = \"en\")\n",
    "    FILTER(LANG(?classDescription) = \"en\")\n",
    "    FILTER(LANG(?superclassLabel) = \"en\")\n",
    "    FILTER(LANG(?superclassDescription) = \"en\")\n",
    "}\n",
    "LIMIT 15000\n",
    "\"\"\"\n",
    "\n",
    "CLASS_EXTENSION_CARDINALITY_QUERY = Template(\"\"\"SELECT (COUNT(?instance) AS ?count) WHERE {\n",
    "    ?instance p:P31/ps:P31/wdt:P279* $class .\n",
    "}\n",
    "\"\"\")\n",
    "                                             \n",
    "MIN_CARDINALITY = 100"
   ]
  },
  {
   "cell_type": "code",
   "execution_count": 3,
   "metadata": {},
   "outputs": [],
   "source": [
    "def extension_cardinality(wd_class):\n",
    "    time.sleep(0.250)\n",
    "    response = requests.get(WIKIDATA_ENDPOINT, params={'query' : CLASS_EXTENSION_CARDINALITY_QUERY.substitute({\"class\": wd_class}), 'format' : 'json'}, headers=QUERY_HEADERS)\n",
    "    response.raise_for_status()\n",
    "    return int(json.loads(response.text)[\"results\"][\"bindings\"][0][\"count\"][\"value\"])"
   ]
  },
  {
   "cell_type": "code",
   "execution_count": 4,
   "metadata": {},
   "outputs": [
    {
     "name": "stdout",
     "output_type": "stream",
     "text": [
      "Getting classes...\n",
      "Getting extension cardinalities... "
     ]
    }
   ],
   "source": [
    "print(\"Getting classes...\")\n",
    "response = requests.get(WIKIDATA_ENDPOINT, params={'query' : CLASS_QUERY, 'format' : 'json'}, headers=QUERY_HEADERS)\n",
    "response.raise_for_status()\n",
    "candidates = []\n",
    "classes = [ { k: v[\"value\"] for k, v in result.items() } for result in json.loads(response.text)[\"results\"][\"bindings\"] ]\n",
    "print(\"Getting extension cardinalities...\", end = \" \")\n",
    "for i, cls in enumerate(classes):\n",
    "    count = extension_cardinality(f'wd:{cls[\"class\"].removeprefix(\"http://www.wikidata.org/entity/\")}')\n",
    "    if count >= MIN_CARDINALITY:\n",
    "        cls[\"count\"] = count\n",
    "        candidates.append(cls)\n",
    "    if i > 0 and i % 1000 == 0:\n",
    "        print(f'{i}... ', end = \" \")\n",
    "print(f'Found {len(candidates)} classes with extension cardinality >= {MIN_CARDINALITY}.')"
   ]
  },
  {
   "cell_type": "code",
   "execution_count": null,
   "metadata": {},
   "outputs": [],
   "source": [
    "json.dump(candidates, open('benchmarks/candidates.json', 'w+'))"
   ]
  },
  {
   "cell_type": "code",
   "execution_count": null,
   "metadata": {},
   "outputs": [
    {
     "ename": "NameError",
     "evalue": "name 'candidates' is not defined",
     "output_type": "error",
     "traceback": [
      "\u001b[0;31m---------------------------------------------------------------------------\u001b[0m",
      "\u001b[0;31mNameError\u001b[0m                                 Traceback (most recent call last)",
      "Cell \u001b[0;32mIn[3], line 1\u001b[0m\n\u001b[0;32m----> 1\u001b[0m df \u001b[39m=\u001b[39m pd\u001b[39m.\u001b[39mDataFrame\u001b[39m.\u001b[39mfrom_records(candidates)\u001b[39m.\u001b[39msort_values(\u001b[39m\"\u001b[39m\u001b[39mcount\u001b[39m\u001b[39m\"\u001b[39m, ascending\u001b[39m=\u001b[39m\u001b[39mFalse\u001b[39;00m)\n\u001b[1;32m      2\u001b[0m df_range \u001b[39m=\u001b[39m df[[\u001b[39m\"\u001b[39m\u001b[39mclassLabel\u001b[39m\u001b[39m\"\u001b[39m, \u001b[39m\"\u001b[39m\u001b[39mclassDescription\u001b[39m\u001b[39m\"\u001b[39m, \u001b[39m\"\u001b[39m\u001b[39mcount\u001b[39m\u001b[39m\"\u001b[39m, \u001b[39m\"\u001b[39m\u001b[39msuperclassLabel\u001b[39m\u001b[39m\"\u001b[39m]]\n\u001b[1;32m      3\u001b[0m df_range\u001b[39m.\u001b[39mstyle\u001b[39m.\u001b[39mset_properties(\u001b[39m*\u001b[39m\u001b[39m*\u001b[39m{\u001b[39m\"\u001b[39m\u001b[39mtext-align\u001b[39m\u001b[39m\"\u001b[39m: \u001b[39m\"\u001b[39m\u001b[39mleft\u001b[39m\u001b[39m\"\u001b[39m, \u001b[39m\"\u001b[39m\u001b[39moverflow-wrap\u001b[39m\u001b[39m\"\u001b[39m: \u001b[39m\"\u001b[39m\u001b[39mbreak-word\u001b[39m\u001b[39m\"\u001b[39m})\n",
      "\u001b[0;31mNameError\u001b[0m: name 'candidates' is not defined"
     ]
    }
   ],
   "source": [
    "df = pd.DataFrame.from_records(candidates).sort_values(\"count\", ascending=False)\n",
    "df_range = df[[\"classLabel\", \"classDescription\", \"count\", \"superclassLabel\"]]\n",
    "df_range.style.set_properties(**{\"text-align\": \"left\", \"overflow-wrap\": \"break-word\"})"
   ]
  },
  {
   "cell_type": "code",
   "execution_count": null,
   "metadata": {},
   "outputs": [
    {
     "data": {
      "image/png": "[encoded data removed]",
      "text/plain": [
       "<Figure size 640x480 with 1 Axes>"
      ]
     },
     "metadata": {},
     "output_type": "display_data"
    }
   ],
   "source": [
    "ax = df_range.plot.bar(x='classLabel', y='count', rot=0)"
   ]
  },
  {
   "cell_type": "code",
   "execution_count": null,
   "metadata": {},
   "outputs": [
    {
     "data": {
      "text/plain": [
       "94"
      ]
     },
     "execution_count": 21,
     "metadata": {},
     "output_type": "execute_result"
    }
   ],
   "source": [
    "len(df)"
   ]
  },
  {
   "cell_type": "code",
   "execution_count": null,
   "metadata": {},
   "outputs": [
    {
     "data": {
      "text/html": [
       "<div>\n",
       "<style scoped>\n",
       "    .dataframe tbody tr th:only-of-type {\n",
       "        vertical-align: middle;\n",
       "    }\n",
       "\n",
       "    .dataframe tbody tr th {\n",
       "        vertical-align: top;\n",
       "    }\n",
       "\n",
       "    .dataframe thead th {\n",
       "        text-align: right;\n",
       "    }\n",
       "</style>\n",
       "<table border=\"1\" class=\"dataframe\">\n",
       "  <thead>\n",
       "    <tr style=\"text-align: right;\">\n",
       "      <th></th>\n",
       "      <th>class</th>\n",
       "      <th>superclass</th>\n",
       "      <th>classArticle</th>\n",
       "      <th>superclassArticle</th>\n",
       "      <th>classWikipediaName</th>\n",
       "      <th>superclassWikipediaName</th>\n",
       "      <th>classLabel</th>\n",
       "      <th>superclassLabel</th>\n",
       "      <th>classDescription</th>\n",
       "      <th>superclassDescription</th>\n",
       "      <th>count</th>\n",
       "    </tr>\n",
       "  </thead>\n",
       "  <tbody>\n",
       "    <tr>\n",
       "      <th>15</th>\n",
       "      <td>http://www.wikidata.org/entity/Q1827</td>\n",
       "      <td>http://www.wikidata.org/entity/Q282</td>\n",
       "      <td>https://en.wikipedia.org/wiki/Red_wine</td>\n",
       "      <td>https://en.wikipedia.org/wiki/Wine</td>\n",
       "      <td>Red wine</td>\n",
       "      <td>Wine</td>\n",
       "      <td>red wine</td>\n",
       "      <td>wine</td>\n",
       "      <td>wine made from dark-colored grape varieties wi...</td>\n",
       "      <td>alcoholic drink typically made from grapes thr...</td>\n",
       "      <td>367</td>\n",
       "    </tr>\n",
       "  </tbody>\n",
       "</table>\n",
       "</div>"
      ],
      "text/plain": [
       "                                   class                           superclass  \\\n",
       "15  http://www.wikidata.org/entity/Q1827  http://www.wikidata.org/entity/Q282   \n",
       "\n",
       "                              classArticle  \\\n",
       "15  https://en.wikipedia.org/wiki/Red_wine   \n",
       "\n",
       "                     superclassArticle classWikipediaName  \\\n",
       "15  https://en.wikipedia.org/wiki/Wine           Red wine   \n",
       "\n",
       "   superclassWikipediaName classLabel superclassLabel  \\\n",
       "15                    Wine   red wine            wine   \n",
       "\n",
       "                                     classDescription  \\\n",
       "15  wine made from dark-colored grape varieties wi...   \n",
       "\n",
       "                                superclassDescription  count  \n",
       "15  alcoholic drink typically made from grapes thr...    367  "
      ]
     },
     "execution_count": 24,
     "metadata": {},
     "output_type": "execute_result"
    }
   ],
   "source": [
    "df[df[\"classLabel\"] == 'red wine']"
   ]
  },
  {
   "cell_type": "code",
   "execution_count": null,
   "metadata": {},
   "outputs": [],
   "source": [
    "import wikipedia\n",
    "red_wine_summary = wikipedia.summary('Red wine', auto_suggest=False)"
   ]
  },
  {
   "cell_type": "code",
   "execution_count": null,
   "metadata": {},
   "outputs": [
    {
     "data": {
      "text/plain": [
       "'Red wine is a type of wine made from dark-colored grape varieties. The color of the wine can range from intense violet, typical of young wines, through to brick red for mature wines and brown for older red wines. The juice from most purple grapes is greenish-white, the red color coming from anthocyan pigments present in the skin of the grape. Much of the red wine production process involves extraction of color and flavor components from the grape skin.'"
      ]
     },
     "execution_count": 30,
     "metadata": {},
     "output_type": "execute_result"
    }
   ],
   "source": [
    "red_wine_summary"
   ]
  },
  {
   "cell_type": "code",
   "execution_count": null,
   "metadata": {},
   "outputs": [],
   "source": []
  }
 ],
 "metadata": {
  "kernelspec": {
   "display_name": "conceptual-engineering-using-llms",
   "language": "python",
   "name": "python3"
  },
  "language_info": {
   "codemirror_mode": {
    "name": "ipython",
    "version": 3
   },
   "file_extension": ".py",
   "mimetype": "text/x-python",
   "name": "python",
   "nbconvert_exporter": "python",
   "pygments_lexer": "ipython3",
   "version": "3.11.4"
  },
  "orig_nbformat": 4
 },
 "nbformat": 4,
 "nbformat_minor": 2
}
