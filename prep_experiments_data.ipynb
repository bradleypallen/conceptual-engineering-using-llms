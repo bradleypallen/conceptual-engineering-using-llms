{
 "cells": [
  {
   "cell_type": "code",
   "execution_count": 3,
   "metadata": {},
   "outputs": [],
   "source": [
    "import json, operator, requests, time, pycm, wikipedia, glob, pandas as pd\n",
    "from langchain import HuggingFaceHub, OpenAI\n",
    "from langchain.chat_models import ChatOpenAI\n",
    "from langchain.chains import LLMChain, SequentialChain\n",
    "from langchain.prompts import PromptTemplate\n",
    "from conceptual_engineering_toolkit import Concept, Entity\n",
    "from datetime import datetime\n",
    "from string import Template\n",
    "from pathlib import Path"
   ]
  },
  {
   "cell_type": "code",
   "execution_count": 18,
   "metadata": {},
   "outputs": [],
   "source": [
    "experiments = [ json.load(open(file, 'r')) for file in glob.glob('caligraph_experiments/*/gpt-4*') ]"
   ]
  },
  {
   "cell_type": "markdown",
   "metadata": {},
   "source": [
    "- update created datetime\n",
    "- remove:\n",
    "    - concept definition\n",
    "    - for each instance in data:\n",
    "        - instance description\n",
    "        - instance predicted\n",
    "    - confusion matrix"
   ]
  },
  {
   "cell_type": "code",
   "execution_count": 19,
   "metadata": {},
   "outputs": [],
   "source": [
    "for experiment in experiments:\n",
    "    del experiment[\"created\"]\n",
    "    del experiment[\"concept\"][\"definition\"]\n",
    "    del experiment[\"concept\"][\"model_name\"]\n",
    "    del experiment[\"concept\"][\"temperature\"]\n",
    "    for instance in experiment[\"data\"]:\n",
    "        del instance[\"description\"]\n",
    "        del instance[\"predicted\"]\n",
    "        del instance[\"rationale\"]\n",
    "    del experiment[\"confusion_matrix\"]"
   ]
  },
  {
   "cell_type": "code",
   "execution_count": 20,
   "metadata": {},
   "outputs": [
    {
     "data": {
      "text/plain": [
       "{'concept': {'id': 'http://caligraph.org/ontology/Argentine_football_manager',\n",
       "  'label': 'Argentine football manager'},\n",
       " 'data': [{'id': 'http://caligraph.org/resource/Ariel_Holan',\n",
       "   'label': 'Ariel Holan',\n",
       "   'actual': 'positive'},\n",
       "  {'id': 'http://caligraph.org/resource/C%C3%A9sar_Luis_Menotti',\n",
       "   'label': 'César Luis Menotti',\n",
       "   'actual': 'positive'},\n",
       "  {'id': 'http://caligraph.org/resource/Horacio_Bongiovanni',\n",
       "   'label': 'Horacio Bongiovanni',\n",
       "   'actual': 'positive'},\n",
       "  {'id': 'http://caligraph.org/resource/Jos%C3%A9_Garc%C3%ADa_P%C3%A9rez',\n",
       "   'label': 'José García Pérez',\n",
       "   'actual': 'positive'},\n",
       "  {'id': 'http://caligraph.org/resource/Jos%C3%A9_Varacka',\n",
       "   'label': 'José Varacka',\n",
       "   'actual': 'positive'},\n",
       "  {'id': 'http://caligraph.org/resource/Lucas_Ochandorena',\n",
       "   'label': 'Lucas Ochandorena',\n",
       "   'actual': 'positive'},\n",
       "  {'id': \"http://caligraph.org/resource/Hector_Alfredo_D'Angelo\",\n",
       "   'label': \"Hector Alfredo D'Angelo\",\n",
       "   'actual': 'positive'},\n",
       "  {'id': 'http://caligraph.org/resource/Juan_Brown',\n",
       "   'label': 'Juan Brown',\n",
       "   'actual': 'positive'},\n",
       "  {'id': 'http://caligraph.org/resource/Juan_Quarterone',\n",
       "   'label': 'Juan Quarterone',\n",
       "   'actual': 'positive'},\n",
       "  {'id': 'http://caligraph.org/resource/Rub%C3%A9n_Dar%C3%ADo_Ins%C3%BAa',\n",
       "   'label': 'Rubén Darío Insúa',\n",
       "   'actual': 'positive'},\n",
       "  {'id': 'http://caligraph.org/resource/Juan_Carlos_Sarnari',\n",
       "   'label': 'Juan Carlos Sarnari',\n",
       "   'actual': 'positive'},\n",
       "  {'id': 'http://caligraph.org/resource/Mauro_Navas',\n",
       "   'label': 'Mauro Navas',\n",
       "   'actual': 'positive'},\n",
       "  {'id': 'http://caligraph.org/resource/H%C3%A9ctor_Rial',\n",
       "   'label': 'Héctor Rial',\n",
       "   'actual': 'positive'},\n",
       "  {'id': 'http://caligraph.org/resource/Iv%C3%A1n_Sopegno',\n",
       "   'label': 'Iván Sopegno',\n",
       "   'actual': 'positive'},\n",
       "  {'id': 'http://caligraph.org/resource/Marcelo_Trobbiani',\n",
       "   'label': 'Marcelo Trobbiani',\n",
       "   'actual': 'positive'},\n",
       "  {'id': 'http://caligraph.org/resource/Ricardo_Vali%C3%B1o',\n",
       "   'label': 'Ricardo Valiño',\n",
       "   'actual': 'positive'},\n",
       "  {'id': 'http://caligraph.org/resource/Rodolfo_Motta',\n",
       "   'label': 'Rodolfo Motta',\n",
       "   'actual': 'positive'},\n",
       "  {'id': 'http://caligraph.org/resource/Ubaldo_Fillol',\n",
       "   'label': 'Ubaldo Fillol',\n",
       "   'actual': 'positive'},\n",
       "  {'id': 'http://caligraph.org/resource/Alejandro_Scopelli',\n",
       "   'label': 'Alejandro Scopelli',\n",
       "   'actual': 'positive'},\n",
       "  {'id': 'http://caligraph.org/resource/Hern%C3%A1n_Boyero',\n",
       "   'label': 'Hernán Boyero',\n",
       "   'actual': 'positive'},\n",
       "  {'id': 'http://caligraph.org/resource/Alberto_Paz',\n",
       "   'label': 'Alberto Paz',\n",
       "   'actual': 'negative'},\n",
       "  {'id': 'http://caligraph.org/resource/Axel_(singer)',\n",
       "   'label': 'Axel (singer)',\n",
       "   'actual': 'negative'},\n",
       "  {'id': 'http://caligraph.org/resource/Axel_(singer)',\n",
       "   'label': 'Axel (singer)',\n",
       "   'actual': 'negative'},\n",
       "  {'id': 'http://caligraph.org/resource/Carlos_Morel_(footballer)',\n",
       "   'label': 'Carlos Morel (footballer)',\n",
       "   'actual': 'negative'},\n",
       "  {'id': 'http://caligraph.org/resource/Esteban_Tuero',\n",
       "   'label': 'Esteban Tuero',\n",
       "   'actual': 'negative'},\n",
       "  {'id': 'http://caligraph.org/resource/H%C3%A9ctor_Gabriel_Morales',\n",
       "   'label': 'Héctor Gabriel Morales',\n",
       "   'actual': 'negative'},\n",
       "  {'id': 'http://caligraph.org/resource/Jer%C3%B3nimo_Podest%C3%A1',\n",
       "   'label': 'Jerónimo Podestá',\n",
       "   'actual': 'negative'},\n",
       "  {'id': 'http://caligraph.org/resource/Jos%C3%A9_Andr%C3%A9s_Bilibio',\n",
       "   'label': 'José Andrés Bilibio',\n",
       "   'actual': 'negative'},\n",
       "  {'id': 'http://caligraph.org/resource/Jos%C3%A9_Andr%C3%A9s_Bilibio',\n",
       "   'label': 'José Andrés Bilibio',\n",
       "   'actual': 'negative'},\n",
       "  {'id': 'http://caligraph.org/resource/Jos%C3%A9_Andr%C3%A9s_Bilibio',\n",
       "   'label': 'José Andrés Bilibio',\n",
       "   'actual': 'negative'},\n",
       "  {'id': 'http://caligraph.org/resource/Jos%C3%A9_Villalba',\n",
       "   'label': 'José Villalba',\n",
       "   'actual': 'negative'},\n",
       "  {'id': 'http://caligraph.org/resource/Nadia_Zyncenko',\n",
       "   'label': 'Nadia Zyncenko',\n",
       "   'actual': 'negative'},\n",
       "  {'id': 'http://caligraph.org/resource/Raquel_Forner',\n",
       "   'label': 'Raquel Forner',\n",
       "   'actual': 'negative'},\n",
       "  {'id': 'http://caligraph.org/resource/Raquel_Forner',\n",
       "   'label': 'Raquel Forner',\n",
       "   'actual': 'negative'},\n",
       "  {'id': 'http://caligraph.org/resource/Tito_Capobianco',\n",
       "   'label': 'Tito Capobianco',\n",
       "   'actual': 'negative'},\n",
       "  {'id': 'http://caligraph.org/resource/Tom%C3%A1s_Carlovich',\n",
       "   'label': 'Tomás Carlovich',\n",
       "   'actual': 'negative'},\n",
       "  {'id': 'http://caligraph.org/resource/Betiana_Basualdo',\n",
       "   'label': 'Betiana Basualdo',\n",
       "   'actual': 'negative'},\n",
       "  {'id': 'http://caligraph.org/resource/Emanuel_Zagert',\n",
       "   'label': 'Emanuel Zagert',\n",
       "   'actual': 'negative'},\n",
       "  {'id': 'http://caligraph.org/resource/Francisco_Bonvehi',\n",
       "   'label': 'Francisco Bonvehi',\n",
       "   'actual': 'negative'},\n",
       "  {'id': 'http://caligraph.org/resource/Graciela_Paraskevaidis',\n",
       "   'label': 'Graciela Paraskevaidis',\n",
       "   'actual': 'negative'}]}"
      ]
     },
     "execution_count": 20,
     "metadata": {},
     "output_type": "execute_result"
    }
   ],
   "source": [
    "experiments[0]"
   ]
  },
  {
   "cell_type": "code",
   "execution_count": 21,
   "metadata": {},
   "outputs": [],
   "source": [
    "json.dump(experiments, open('caligraph_experiments.json', 'w+'))"
   ]
  },
  {
   "cell_type": "markdown",
   "metadata": {},
   "source": []
  },
  {
   "cell_type": "markdown",
   "metadata": {},
   "source": [
    "- set concept definition\n",
    "- set concept model_name\n",
    "- set concept temperature\n",
    "- for each example in data:\n",
    "    - set instance description\n",
    "    - set (instance predicted, instance rationale) = concept classify ( concept definition, instance description )\n",
    "- get confusion matrix\n",
    "- save to disk"
   ]
  },
  {
   "cell_type": "markdown",
   "metadata": {},
   "source": []
  }
 ],
 "metadata": {
  "kernelspec": {
   "display_name": "conceptual-engineering-using-llms",
   "language": "python",
   "name": "python3"
  },
  "language_info": {
   "codemirror_mode": {
    "name": "ipython",
    "version": 3
   },
   "file_extension": ".py",
   "mimetype": "text/x-python",
   "name": "python",
   "nbconvert_exporter": "python",
   "pygments_lexer": "ipython3",
   "version": "3.11.4"
  },
  "orig_nbformat": 4
 },
 "nbformat": 4,
 "nbformat_minor": 2
}
